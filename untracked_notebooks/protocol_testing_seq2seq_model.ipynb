{
 "cells": [
  {
   "cell_type": "markdown",
   "id": "ee0e29ba",
   "metadata": {},
   "source": [
    "### NER tags on the text T5-base"
   ]
  },
  {
   "cell_type": "code",
   "execution_count": 2,
   "id": "ac7a3e52",
   "metadata": {},
   "outputs": [],
   "source": [
    "from datasets import load_dataset, load_from_disk\n",
    "\n",
    "from transformers import AutoTokenizer, AutoModelForSeq2SeqLM\n",
    "from smtag.train.train_seq2seq import FromIob2seq2seq"
   ]
  },
  {
   "cell_type": "code",
   "execution_count": 3,
   "id": "9a6d5c24",
   "metadata": {},
   "outputs": [
    {
     "data": {
      "application/vnd.jupyter.widget-view+json": {
       "model_id": "19d9132b322e4bd98c0528644723e631",
       "version_major": 2,
       "version_minor": 0
      },
      "text/plain": [
       "Downloading:   0%|          | 0.00/10.2k [00:00<?, ?B/s]"
      ]
     },
     "metadata": {},
     "output_type": "display_data"
    },
    {
     "name": "stdout",
     "output_type": "stream",
     "text": [
      "Downloading and preparing dataset source_data_nlp/NER to /root/.cache/huggingface/datasets/EMBO___source_data_nlp/NER/1.0.0/536e86a707c3e5578223ffb2658d82399fe009a240cfd0ac1c59ad6f4d543fae...\n"
     ]
    },
    {
     "data": {
      "application/vnd.jupyter.widget-view+json": {
       "model_id": "eb4fb391549f4ea59b055b7aafd7e108",
       "version_major": 2,
       "version_minor": 0
      },
      "text/plain": [
       "Downloading:   0%|          | 0.00/18.9M [00:00<?, ?B/s]"
      ]
     },
     "metadata": {},
     "output_type": "display_data"
    },
    {
     "data": {
      "application/vnd.jupyter.widget-view+json": {
       "model_id": "",
       "version_major": 2,
       "version_minor": 0
      },
      "text/plain": [
       "0 examples [00:00, ? examples/s]"
      ]
     },
     "metadata": {},
     "output_type": "display_data"
    },
    {
     "data": {
      "application/vnd.jupyter.widget-view+json": {
       "model_id": "",
       "version_major": 2,
       "version_minor": 0
      },
      "text/plain": [
       "0 examples [00:00, ? examples/s]"
      ]
     },
     "metadata": {},
     "output_type": "display_data"
    },
    {
     "data": {
      "application/vnd.jupyter.widget-view+json": {
       "model_id": "",
       "version_major": 2,
       "version_minor": 0
      },
      "text/plain": [
       "0 examples [00:00, ? examples/s]"
      ]
     },
     "metadata": {},
     "output_type": "display_data"
    },
    {
     "name": "stdout",
     "output_type": "stream",
     "text": [
      "Dataset source_data_nlp downloaded and prepared to /root/.cache/huggingface/datasets/EMBO___source_data_nlp/NER/1.0.0/536e86a707c3e5578223ffb2658d82399fe009a240cfd0ac1c59ad6f4d543fae. Subsequent calls will reuse this data.\n"
     ]
    },
    {
     "data": {
      "application/vnd.jupyter.widget-view+json": {
       "model_id": "f0e6527db8b349ee9e4bc29c78ffc54e",
       "version_major": 2,
       "version_minor": 0
      },
      "text/plain": [
       "  0%|          | 0/3 [00:00<?, ?it/s]"
      ]
     },
     "metadata": {},
     "output_type": "display_data"
    },
    {
     "name": "stderr",
     "output_type": "stream",
     "text": [
      "Parameter 'function'=<function FromIob2seq2seq._iob2text at 0x7f62b74a2af0> of the transform datasets.arrow_dataset.Dataset._map_single couldn't be hashed properly, a random hash was used instead. Make sure your transforms and parameters are serializable with pickle or dill for the dataset fingerprinting and caching to work. If you reuse this transform, the caching mechanism will consider it to be different from the previous calls and recompute everything. This warning is only showed once. Subsequent hashing failures won't be showed.\n"
     ]
    },
    {
     "data": {
      "application/vnd.jupyter.widget-view+json": {
       "model_id": "29267d4ddea144e2862ffd27de533987",
       "version_major": 2,
       "version_minor": 0
      },
      "text/plain": [
       "  0%|          | 0/67 [00:00<?, ?ba/s]"
      ]
     },
     "metadata": {},
     "output_type": "display_data"
    },
    {
     "data": {
      "application/vnd.jupyter.widget-view+json": {
       "model_id": "82641a336593468cbf582e641d7487f9",
       "version_major": 2,
       "version_minor": 0
      },
      "text/plain": [
       "  0%|          | 0/9 [00:00<?, ?ba/s]"
      ]
     },
     "metadata": {},
     "output_type": "display_data"
    },
    {
     "data": {
      "application/vnd.jupyter.widget-view+json": {
       "model_id": "8201d50c69474a70851d08b6e394cae1",
       "version_major": 2,
       "version_minor": 0
      },
      "text/plain": [
       "  0%|          | 0/8 [00:00<?, ?ba/s]"
      ]
     },
     "metadata": {},
     "output_type": "display_data"
    }
   ],
   "source": [
    "dataset = FromIob2seq2seq(labels=[\"GENEPROD\", \"EXP_ASSAY\", \"SMALL_MOL\"],\n",
    "         generate_end=\"[END]\",\n",
    "         prompt_init=\"Copy the input and label the GENEPROD, SMALL_MOL and EXP_ASSAY entities: \",\n",
    "                          task_type=\"copy_tag\"\n",
    ")\n",
    "dataset = dataset()"
   ]
  },
  {
   "cell_type": "code",
   "execution_count": 4,
   "id": "7a839cc0",
   "metadata": {},
   "outputs": [],
   "source": [
    "checkpoint = \"seq2seq_models/checkpoint-40000\"\n",
    "seq2seq_config = {\n",
    "        # Parameters for sequence generation\n",
    "        \"max_length\": 512,\n",
    "        \"min_length\": 0,\n",
    "        \"do_sample\": True,\n",
    "        \"early_stopping\": True,\n",
    "        \"num_beams\": 1,\n",
    "        \"num_beam_groups\": 1,\n",
    "        \"diversity_penalty\": 0.0,\n",
    "        \"temperature\": 1.0,\n",
    "        \"top_k\": 20,\n",
    "        \"top_p\": 0.90,\n",
    "#         \"typical_p\": 1.0,\n",
    "        \"repetition_penalty\": 1.0,\n",
    "        \"length_penalty\": 50.0,\n",
    "        \"no_repeat_ngram_size\": 0,\n",
    "        \"encoder_no_repeat_ngram_size\": 0,\n",
    "        \"bad_words_ids\": None,\n",
    "        \"num_return_sequences\": 5,\n",
    "        \"chunk_size_feed_forward\": 0,\n",
    "        \"output_scores\": False,\n",
    "        \"return_dict_in_generate\": False,\n",
    "        \"forced_bos_token_id\": None,\n",
    "        \"forced_eos_token_id\": None,\n",
    "        \"remove_invalid_values\": False,\n",
    "#         \"exponential_decay_length_penalty\": None\n",
    "    \n",
    "}\n",
    "model = AutoModelForSeq2SeqLM.from_pretrained(checkpoint, **seq2seq_config)\n",
    "tokenizer = AutoTokenizer.from_pretrained(checkpoint, add_prefix_space=True, is_split_into_words=False)"
   ]
  },
  {
   "cell_type": "code",
   "execution_count": 5,
   "id": "1843aa69",
   "metadata": {},
   "outputs": [],
   "source": [
    "example_number = 21"
   ]
  },
  {
   "cell_type": "code",
   "execution_count": 6,
   "id": "b2832431",
   "metadata": {},
   "outputs": [
    {
     "name": "stdout",
     "output_type": "stream",
     "text": [
      "Copy the input and label the GENEPROD, SMALL_MOL and EXP_ASSAY entities:   A . STAT3 and PDK4 stratified subgroups were generated by median splits in MSKCC PCa GSE21032 data set . Pearson correlation between STAT3 and PDK4 is shown . Kaplan - Meier plot shows stratified subgroups . P - values were estimated by Log - rank test and adjusted with Benjamini - Hochberg method . Hi = high , lo = low . \n",
      "\n",
      "END_INPUT\n",
      "\n",
      "\n"
     ]
    }
   ],
   "source": [
    "print(dataset[\"test\"][example_number][\"input\"])"
   ]
  },
  {
   "cell_type": "code",
   "execution_count": 7,
   "id": "615bfbb3",
   "metadata": {},
   "outputs": [
    {
     "name": "stdout",
     "output_type": "stream",
     "text": [
      "A . <GENEPROD> STAT3 </GENEPROD> and <GENEPROD> PDK4 </GENEPROD> stratified subgroups were generated by median splits in MSKCC PCa GSE21032 data set . Pearson correlation between <GENEPROD> STAT3 </GENEPROD> and <GENEPROD> PDK4 </GENEPROD> is shown . <EXP_ASSAY> Kaplan - Meier plot </EXP_ASSAY> shows stratified subgroups . P - values were estimated by Log - rank test and adjusted with Benjamini - Hochberg method . Hi = high , lo = low .  [END]\n"
     ]
    }
   ],
   "source": [
    "print(dataset[\"test\"][example_number][\"target\"])"
   ]
  },
  {
   "cell_type": "code",
   "execution_count": 8,
   "id": "609ee687",
   "metadata": {},
   "outputs": [
    {
     "name": "stdout",
     "output_type": "stream",
     "text": [
      "A. STAT3 and PDK4 stratified subgroups were generated by median splits in MSKCC PCa GSE21032 data set. Pearson correlation between STAT3 and PDK4 is shown. Kaplan - Meier plot shows stratified subgroups. P - values were estimated by Log - rank test and adjusted with Benjamini - Hochberg method. Hi = high, lo = low. [END]\n"
     ]
    }
   ],
   "source": [
    "token_inputs = tokenizer(dataset[\"test\"][example_number][\"input\"], return_tensors=\"pt\")\n",
    "output = model.generate(**token_inputs, \n",
    "                        return_dict_in_generate=False, \n",
    "                        output_scores=False,\n",
    "                        output_attentions=False)\n",
    "print(tokenizer.decode(output[0],\n",
    "                skip_special_tokens= True,\n",
    "                clean_up_tokenization_spaces= True,\n",
    "                ))"
   ]
  },
  {
   "cell_type": "code",
   "execution_count": 9,
   "id": "bdacba1c",
   "metadata": {},
   "outputs": [
    {
     "name": "stdout",
     "output_type": "stream",
     "text": [
      "A. GENEPROD> STAT3 /GENEPROD> and GENEPROD> PDK4 /GENEPROD> stratified subgroups were generated by median splits in MSKCC PCa GSE21032 data set. Pearson correlation between GENEPROD> STAT3 /GENEPROD> and GENEPROD> PDK4 /GENEPROD> is shown. EXP_ASSAY> Kaplan - Meier /EXP_ASSAY> plot shows stratified subgroups. P - values were estimated by Log - rank test and adjusted with Benjamini - Hochberg method. Hi = high, lo = low. [END]\n"
     ]
    }
   ],
   "source": [
    "print(tokenizer.decode(output[1],\n",
    "                skip_special_tokens= True,\n",
    "                clean_up_tokenization_spaces= True,\n",
    "                ))"
   ]
  },
  {
   "cell_type": "markdown",
   "id": "fb18c7dd",
   "metadata": {},
   "source": [
    "### Causal hypothesis GENEPROD BART-base"
   ]
  },
  {
   "cell_type": "code",
   "execution_count": 10,
   "id": "40366e41",
   "metadata": {},
   "outputs": [],
   "source": [
    "seq2seq_config = {\n",
    "        # Parameters for sequence generation\n",
    "        \"max_length\": 512,\n",
    "        \"min_length\": 0,\n",
    "        \"do_sample\": True,\n",
    "        \"early_stopping\": True,\n",
    "        \"num_beams\": 1,\n",
    "        \"num_beam_groups\": 1,\n",
    "        \"diversity_penalty\": 0.0,\n",
    "        \"temperature\": 1.0,\n",
    "        \"top_k\": 20,\n",
    "        \"top_p\": 0.90,\n",
    "#         \"typical_p\": 1.0,\n",
    "        \"repetition_penalty\": 1.0,\n",
    "        \"length_penalty\": 50.0,\n",
    "        \"no_repeat_ngram_size\": 0,\n",
    "        \"encoder_no_repeat_ngram_size\": 0,\n",
    "        \"bad_words_ids\": None,\n",
    "        \"num_return_sequences\": 5,\n",
    "        \"chunk_size_feed_forward\": 0,\n",
    "        \"output_scores\": False,\n",
    "        \"return_dict_in_generate\": False,\n",
    "        \"forced_bos_token_id\": None,\n",
    "        \"forced_eos_token_id\": None,\n",
    "        \"remove_invalid_values\": False,\n",
    "#         \"exponential_decay_length_penalty\": None\n",
    "    \n",
    "}"
   ]
  },
  {
   "cell_type": "code",
   "execution_count": 11,
   "id": "614fd36c",
   "metadata": {},
   "outputs": [],
   "source": [
    "checkpoint = \"/app/test_seq2seq_metrics/bart-base-causal-geneprod\"\n",
    "model = AutoModelForSeq2SeqLM.from_pretrained(checkpoint, **seq2seq_config)\n",
    "tokenizer = AutoTokenizer.from_pretrained(checkpoint, add_prefix_space=True, is_split_into_words=False)"
   ]
  },
  {
   "cell_type": "code",
   "execution_count": 14,
   "id": "40c62822",
   "metadata": {},
   "outputs": [
    {
     "data": {
      "text/html": [
       "<div>\n",
       "<style scoped>\n",
       "    .dataframe tbody tr th:only-of-type {\n",
       "        vertical-align: middle;\n",
       "    }\n",
       "\n",
       "    .dataframe tbody tr th {\n",
       "        vertical-align: top;\n",
       "    }\n",
       "\n",
       "    .dataframe thead th {\n",
       "        text-align: right;\n",
       "    }\n",
       "</style>\n",
       "<table border=\"1\" class=\"dataframe\">\n",
       "  <thead>\n",
       "    <tr style=\"text-align: right;\">\n",
       "      <th></th>\n",
       "      <th>Unnamed: 0</th>\n",
       "      <th>subset</th>\n",
       "      <th>input_text</th>\n",
       "      <th>output_text</th>\n",
       "    </tr>\n",
       "  </thead>\n",
       "  <tbody>\n",
       "    <tr>\n",
       "      <th>23</th>\n",
       "      <td>23</td>\n",
       "      <td>testset</td>\n",
       "      <td>Find causal hypotheses for geneprod: D. Analys...</td>\n",
       "      <td>ste11 was tested for its influence on hog1</td>\n",
       "    </tr>\n",
       "    <tr>\n",
       "      <th>24</th>\n",
       "      <td>24</td>\n",
       "      <td>testset</td>\n",
       "      <td>Find causal hypotheses for geneprod: D. Phos-t...</td>\n",
       "      <td>pbs2 was tested for its influence on hog1</td>\n",
       "    </tr>\n",
       "    <tr>\n",
       "      <th>25</th>\n",
       "      <td>25</td>\n",
       "      <td>testset</td>\n",
       "      <td>Find causal hypotheses for geneprod: E. Compar...</td>\n",
       "      <td>pbs2 or ste11 was tested for its influence on ...</td>\n",
       "    </tr>\n",
       "    <tr>\n",
       "      <th>26</th>\n",
       "      <td>26</td>\n",
       "      <td>testset</td>\n",
       "      <td>Find causal hypotheses for geneprod: C. Immuno...</td>\n",
       "      <td>hog1 was tested for its influence on p38</td>\n",
       "    </tr>\n",
       "    <tr>\n",
       "      <th>27</th>\n",
       "      <td>27</td>\n",
       "      <td>testset</td>\n",
       "      <td>Find causal hypotheses for geneprod: D-G. Phos...</td>\n",
       "      <td>hog1 or pbs2 was tested for its influence on hog1</td>\n",
       "    </tr>\n",
       "    <tr>\n",
       "      <th>...</th>\n",
       "      <td>...</td>\n",
       "      <td>...</td>\n",
       "      <td>...</td>\n",
       "      <td>...</td>\n",
       "    </tr>\n",
       "    <tr>\n",
       "      <th>11458</th>\n",
       "      <td>11458</td>\n",
       "      <td>testset</td>\n",
       "      <td>Find causal hypotheses for geneprod: F, G. Rea...</td>\n",
       "      <td>hmena was tested for its influence on gas6</td>\n",
       "    </tr>\n",
       "    <tr>\n",
       "      <th>11459</th>\n",
       "      <td>11459</td>\n",
       "      <td>testset</td>\n",
       "      <td>Find causal hypotheses for geneprod: A. Immuno...</td>\n",
       "      <td>hmena was tested for its influence on axl</td>\n",
       "    </tr>\n",
       "    <tr>\n",
       "      <th>11460</th>\n",
       "      <td>11460</td>\n",
       "      <td>testset</td>\n",
       "      <td>Find causal hypotheses for geneprod: B. Real t...</td>\n",
       "      <td>hmena was tested for its influence on axl</td>\n",
       "    </tr>\n",
       "    <tr>\n",
       "      <th>11461</th>\n",
       "      <td>11461</td>\n",
       "      <td>testset</td>\n",
       "      <td>Find causal hypotheses for geneprod: C. Real t...</td>\n",
       "      <td>hmena was tested for its influence on axl</td>\n",
       "    </tr>\n",
       "    <tr>\n",
       "      <th>11462</th>\n",
       "      <td>11462</td>\n",
       "      <td>testset</td>\n",
       "      <td>Find causal hypotheses for geneprod: D. Immuno...</td>\n",
       "      <td>gas6 or hmena was tested for its influence on ...</td>\n",
       "    </tr>\n",
       "  </tbody>\n",
       "</table>\n",
       "<p>1116 rows × 4 columns</p>\n",
       "</div>"
      ],
      "text/plain": [
       "       Unnamed: 0   subset                                         input_text  \\\n",
       "23             23  testset  Find causal hypotheses for geneprod: D. Analys...   \n",
       "24             24  testset  Find causal hypotheses for geneprod: D. Phos-t...   \n",
       "25             25  testset  Find causal hypotheses for geneprod: E. Compar...   \n",
       "26             26  testset  Find causal hypotheses for geneprod: C. Immuno...   \n",
       "27             27  testset  Find causal hypotheses for geneprod: D-G. Phos...   \n",
       "...           ...      ...                                                ...   \n",
       "11458       11458  testset  Find causal hypotheses for geneprod: F, G. Rea...   \n",
       "11459       11459  testset  Find causal hypotheses for geneprod: A. Immuno...   \n",
       "11460       11460  testset  Find causal hypotheses for geneprod: B. Real t...   \n",
       "11461       11461  testset  Find causal hypotheses for geneprod: C. Real t...   \n",
       "11462       11462  testset  Find causal hypotheses for geneprod: D. Immuno...   \n",
       "\n",
       "                                             output_text  \n",
       "23            ste11 was tested for its influence on hog1  \n",
       "24             pbs2 was tested for its influence on hog1  \n",
       "25     pbs2 or ste11 was tested for its influence on ...  \n",
       "26              hog1 was tested for its influence on p38  \n",
       "27     hog1 or pbs2 was tested for its influence on hog1  \n",
       "...                                                  ...  \n",
       "11458         hmena was tested for its influence on gas6  \n",
       "11459          hmena was tested for its influence on axl  \n",
       "11460          hmena was tested for its influence on axl  \n",
       "11461          hmena was tested for its influence on axl  \n",
       "11462  gas6 or hmena was tested for its influence on ...  \n",
       "\n",
       "[1116 rows x 4 columns]"
      ]
     },
     "execution_count": 14,
     "metadata": {},
     "output_type": "execute_result"
    }
   ],
   "source": [
    "import pandas as pd\n",
    "data_file = \"/app/data/seq2seq/GENEPROD_seq2seq_cleaned.csv\"\n",
    "ds = pd.read_csv(data_file)\n",
    "\n",
    "ds_test = ds[ds[\"subset\"] == \"testset\"]\n",
    "ds_test"
   ]
  },
  {
   "cell_type": "code",
   "execution_count": 24,
   "id": "283e023c",
   "metadata": {},
   "outputs": [
    {
     "name": "stdout",
     "output_type": "stream",
     "text": [
      "******************************\n",
      "INPUT TEXT: Find causal hypotheses for geneprod: Panel A: viral and donor specific T-cell responses were measured by IFN-γELISpot at different time points: before the beginning of treatment (PRE), prior to each infusion and 2 months after the fourth infusion. Infusions are indicated by arrows. Patient's peripheral blood mononuclear cells (PBMC) were challenged with irradiated autologous lymphoblastoid cell lines (EBV line host), with cytomegalovirus glycin extract (CMV antigen)(Gehrz et al, 1987) and with the following irradiated cells harvested from the donor: untreated mesoangioblasts (MABdonor), MAB activated by 48 hour-exposure to 500 IU/mL IFN-γ (γMABdonor), myotubes differentiated from MAB (myotubesdonor) and PBMC (PBMCdonor). Polyclonal stimulation (phytohemagglutinin, PHA) was used as positive control. Donor PBMC were challenged with autologous targets as negative controls. Results are expressed as number of specific cells/105PBMC and calculated according to the following formula: number of spots produced by patient's PBMC - number of spots produced by donor's PBMC. Results for patientsPt 01, Pt 02, Pt 03, Pt 05 and Pt 06 are shown.\n",
      "******************************\n",
      "GENERATED TEXT 0: mab or cytomegalovirus glycin extract or pha or phytohemagglutinin was tested for its influence on ifn-γ\n",
      "******************************\n",
      "GENERATED TEXT 1: mab was tested for its influence on ifn-γ\n",
      "******************************\n",
      "GENERATED TEXT 2: mab was tested for its influence on ifn-γ\n",
      "******************************\n",
      "GENERATED TEXT 3: cmv antigen or cytomegalovirus glycin extract or pha or phytohemagglutinin was tested for its influence on ifn-γ\n",
      "******************************\n",
      "EXPECTED TEXT: cmv antigen or cytomegalovirus glycin extract or pha or phytohemagglutinin was tested for its influence on ifn-γ\n"
     ]
    }
   ],
   "source": [
    "example = ds.sample()\n",
    "\n",
    "\n",
    "token_inputs = tokenizer(example[\"input_text\"].values[0], return_tensors=\"pt\")\n",
    "output = model.generate(**token_inputs, \n",
    "                        return_dict_in_generate=False, \n",
    "                        output_scores=False,\n",
    "                        output_attentions=False)\n",
    "\n",
    "\n",
    "print(30*\"*\")\n",
    "print(f\"INPUT TEXT: {example['input_text'].values[0]}\")\n",
    "print(30*\"*\")\n",
    "print(f\"GENERATED TEXT 0: {tokenizer.decode(output[0],skip_special_tokens= True,clean_up_tokenization_spaces= True)}\")\n",
    "print(30*\"*\")\n",
    "print(f\"GENERATED TEXT 1: {tokenizer.decode(output[1],skip_special_tokens= True,clean_up_tokenization_spaces= True)}\")\n",
    "print(30*\"*\")\n",
    "print(f\"GENERATED TEXT 2: {tokenizer.decode(output[2],skip_special_tokens= True,clean_up_tokenization_spaces= True)}\")\n",
    "print(30*\"*\")\n",
    "print(f\"GENERATED TEXT 3: {tokenizer.decode(output[3],skip_special_tokens= True,clean_up_tokenization_spaces= True)}\")\n",
    "print(30*\"*\")\n",
    "print(f\"EXPECTED TEXT: {example['output_text'].values[0]}\")"
   ]
  },
  {
   "cell_type": "markdown",
   "id": "e2531f26",
   "metadata": {},
   "source": [
    "### Causal hypothesis GENEPROD T5-base"
   ]
  },
  {
   "cell_type": "code",
   "execution_count": null,
   "id": "2064eb38",
   "metadata": {},
   "outputs": [],
   "source": []
  },
  {
   "cell_type": "markdown",
   "id": "1c666ef7",
   "metadata": {},
   "source": [
    "### Checking pipeline"
   ]
  },
  {
   "cell_type": "code",
   "execution_count": 1,
   "id": "b187c8d0",
   "metadata": {},
   "outputs": [],
   "source": [
    "from smtag.pipeline import SmartTagger\n",
    "import json\n",
    "from transformers import AutoTokenizer, AutoModelForTokenClassification"
   ]
  },
  {
   "cell_type": "code",
   "execution_count": 2,
   "id": "c733bf4d",
   "metadata": {},
   "outputs": [],
   "source": [
    "text = \"Figure 2A. HEK293T cells were transfected with MYC-FOXP3 and FLAG-USP44 encoding expression constructs using Polyethylenimine. 48hrs post-transfection, cells were harvested, lysed, and anti-FLAG or anti-MYC antibody coated beads were used to immunoprecipitate the given labeled protein along with its binding partner. Co-IP' ed proteins were subjected to SDS PAGE followed by immunoblot analysis. Antibodies recognizing FLAG or MYC tags were used to probe for USP44 and FOXP3, respectively. B. Endogenous co-IP of USP44 and FOXP3 in murine iTregs. iTregs were generated as in Fig. 1 from naïve CD4+T cells FACS isolated from pooled suspensions of the lymph node and spleen cells of wild type C57BL/6 mice (n = 2-3 / experiment). iTregs were lysed and key proteins were immunoprecipitated using either anti-USP44 (right panel) or anti-FOXP3 (left panel) antibody. Proteins pulled-down in this experiment were then resolved and analyzed by immunoblot using anti-FOXP3 or anti-USP44 antibodies. C. Endogenous co-IP of USP44 and FOXP3 in murine nTregs. nTregs (CD4+CD25high) isolated by FACS were activated by anti-CD3 and anti-CD28 (1 and 4 ug/ml, respectively) overnight in the presence of IL-2 (100 U/ml). The cells were lysed and proteins were immunoprecipitated using either anti-Foxp3 (left panel) or anti-Usp44 (right panel). Proteins pulled down in this experiment were then resolved and identified with the indicated antibodies. D . Naïve murine CD4+T cells were isolated by FACS from lymph node and spleen cell suspension of USP44fl/fl CD4Cre+ mice and that of their wild type littermates (USP44fl/fl CD4Cre-mice; n = 2-3 / group / experiment) . iTreg cells were generated from these mice as described for Fig. 1 before incubation on a microscope slide pre-coated with poly-L lysine for 1h. Adhered cells were then fixed by PFA for 0.5 followed by blocking with 1% BSA for 1h, then incubation with the specified antibodies. Representative confocal microscopy images (40X) were visualized for endogenous USP44 (red) and FOXP3 Baxter et al (). DAPI was used to visualize cell nuclei (blue); scale bar 50μm.\""
   ]
  },
  {
   "cell_type": "code",
   "execution_count": 3,
   "id": "ef1e7a87",
   "metadata": {},
   "outputs": [
    {
     "name": "stderr",
     "output_type": "stream",
     "text": [
      "Asking to truncate to max_length but no maximum length is provided and the model has no predefined maximum length. Default to no truncation.\n"
     ]
    }
   ],
   "source": [
    "smtag = SmartTagger()\n",
    "json_ = smtag(text)"
   ]
  },
  {
   "cell_type": "code",
   "execution_count": 4,
   "id": "ec2f1a98",
   "metadata": {},
   "outputs": [
    {
     "data": {
      "text/plain": [
       "\"Figure 2A. HEK293T cells were transfected with MYC-FOXP3 and FLAG-USP44 encoding expression constructs using Polyethylenimine. 48hrs post-transfection, cells were harvested, lysed, and anti-FLAG or anti-MYC antibody coated beads were used to immunoprecipitate the given labeled protein along with its binding partner. Co-IP' ed proteins were subjected to SDS PAGE followed by immunoblot analysis. Antibodies recognizing FLAG or MYC tags were used to probe for USP44 and FOXP3, respectively. B. Endogenous co-IP of USP44 and FOXP3 in murine iTregs. iTregs were generated as in Fig. 1 from naïve CD4+T cells FACS isolated from pooled suspensions of the lymph node and spleen cells of wild type C57BL/6 mice (n = 2-3 / experiment). iTregs were lysed and key proteins were immunoprecipitated using either anti-USP44 (right panel) or anti-FOXP3 (left panel) antibody. Proteins pulled-down in this experiment were then resolved and analyzed by immunoblot using anti-FOXP3 or anti-USP44 antibodies. C. Endogenous co-IP of USP44 and FOXP3 in murine nTregs. nTregs (CD4+CD25high) isolated by FACS were activated by anti-CD3 and anti-CD28 (1 and 4 ug/ml, respectively) overnight in the presence of IL-2 (100 U/ml). The cells were lysed and proteins were immunoprecipitated using either anti-Foxp3 (left panel) or anti-Usp44 (right panel). Proteins pulled down in this experiment were then resolved and identified with the indicated antibodies. D . Naïve murine CD4+T cells were isolated by FACS from lymph node and spleen cell suspension of USP44fl/fl CD4Cre+ mice and that of their wild type littermates (USP44fl/fl CD4Cre-mice; n = 2-3 / group / experiment) . iTreg cells were generated from these mice as described for Fig. 1 before incubation on a microscope slide pre-coated with poly-L lysine for 1h. Adhered cells were then fixed by PFA for 0.5 followed by blocking with 1% BSA for 1h, then incubation with the specified antibodies. Representative confocal microscopy images (40X) were visualized for endogenous USP44 (red) and FOXP3 Baxter et al (). DAPI was used to visualize cell nuclei (blue); scale bar 50μm.\""
      ]
     },
     "execution_count": 4,
     "metadata": {},
     "output_type": "execute_result"
    }
   ],
   "source": [
    "text"
   ]
  },
  {
   "cell_type": "code",
   "execution_count": 5,
   "id": "9c3efac6",
   "metadata": {},
   "outputs": [
    {
     "data": {
      "text/plain": [
       "[{'panel_group': [[],\n",
       "   [{'text': 'hek293t', 'entity_type': 'cell'},\n",
       "    {'text': 'myc', 'entity_type': 'geneprod', 'role': 'intervention'},\n",
       "    {'text': 'foxp3', 'entity_type': 'geneprod', 'role': 'intervention'},\n",
       "    {'text': 'flag', 'entity_type': 'geneprod', 'role': 'intervention'},\n",
       "    {'text': 'usp44', 'entity_type': 'geneprod', 'role': 'intervention'},\n",
       "    {'text': '##imine', 'entity_type': 'molecule', 'role': 'assayed'},\n",
       "    {'text': 'flag', 'entity_type': 'geneprod', 'role': 'assayed'},\n",
       "    {'text': 'myc', 'entity_type': 'geneprod', 'role': 'assayed'},\n",
       "    {'text': 'immunoprecipitate', 'category': 'assay'},\n",
       "    {'text': 'co - ip', 'category': 'assay'},\n",
       "    {'text': 'sds page', 'category': 'assay'},\n",
       "    {'text': 'immunoblot', 'category': 'assay'},\n",
       "    {'text': 'flag', 'entity_type': 'geneprod', 'role': 'assayed'},\n",
       "    {'text': 'myc', 'entity_type': 'geneprod', 'role': 'assayed'},\n",
       "    {'text': 'usp44', 'entity_type': 'geneprod', 'role': 'assayed'},\n",
       "    {'text': 'foxp3', 'entity_type': 'geneprod', 'role': 'assayed'}],\n",
       "   [{'text': 'co - ip', 'category': 'assay'},\n",
       "    {'text': 'usp44', 'entity_type': 'geneprod', 'role': 'assayed'},\n",
       "    {'text': 'foxp3', 'entity_type': 'geneprod', 'role': 'assayed'},\n",
       "    {'text': 'cd4 + t cells', 'entity_type': 'cell'},\n",
       "    {'text': 'facs', 'category': 'assay'},\n",
       "    {'text': 'lymph node', 'entity_type': 'tissue'},\n",
       "    {'text': 'spleen', 'entity_type': 'tissue'},\n",
       "    {'text': 'immunoprecipitated', 'category': 'assay'},\n",
       "    {'text': 'usp44', 'entity_type': 'geneprod', 'role': 'assayed'},\n",
       "    {'text': 'foxp3', 'entity_type': 'geneprod', 'role': 'assayed'},\n",
       "    {'text': 'immunoblot', 'category': 'assay'},\n",
       "    {'text': 'foxp3', 'entity_type': 'geneprod', 'role': 'assayed'},\n",
       "    {'text': 'usp44', 'entity_type': 'geneprod', 'role': 'assayed'}],\n",
       "   [{'text': 'co - ip', 'category': 'assay'},\n",
       "    {'text': 'usp44', 'entity_type': 'geneprod', 'role': 'assayed'},\n",
       "    {'text': 'foxp3', 'entity_type': 'geneprod', 'role': 'assayed'},\n",
       "    {'text': 'murine', 'entity_type': 'organism'},\n",
       "    {'text': 'ntregs', 'entity_type': 'cell'},\n",
       "    {'text': 'ntregs', 'entity_type': 'cell'},\n",
       "    {'text': 'cd4', 'entity_type': 'geneprod', 'role': 'assayed'},\n",
       "    {'text': 'cd25high', 'entity_type': 'geneprod', 'role': 'assayed'},\n",
       "    {'text': 'facs', 'category': 'assay'},\n",
       "    {'text': 'cd3', 'entity_type': 'geneprod', 'role': 'intervention'},\n",
       "    {'text': 'cd28', 'entity_type': 'geneprod', 'role': 'intervention'},\n",
       "    {'text': 'il - 2', 'entity_type': 'geneprod', 'role': 'intervention'},\n",
       "    {'text': 'immunoprecipitated', 'category': 'assay'},\n",
       "    {'text': 'foxp3', 'entity_type': 'geneprod', 'role': 'assayed'},\n",
       "    {'text': 'usp44', 'entity_type': 'geneprod', 'role': 'assayed'}],\n",
       "   [{'text': 't cells', 'entity_type': 'cell'},\n",
       "    {'text': 'lymph', 'entity_type': 'tissue'},\n",
       "    {'text': 'spleen', 'entity_type': 'tissue'},\n",
       "    {'text': 'usp44fl', 'entity_type': 'geneprod', 'role': 'intervention'},\n",
       "    {'text': 'cd4cre', 'entity_type': 'geneprod', 'role': 'intervention'},\n",
       "    {'text': 'usp44fl', 'entity_type': 'geneprod', 'role': 'intervention'},\n",
       "    {'text': 'cd4cre', 'entity_type': 'geneprod', 'role': 'intervention'},\n",
       "    {'text': 'it', 'entity_type': 'cell'},\n",
       "    {'text': 'poly - l lysine',\n",
       "     'entity_type': 'molecule',\n",
       "     'role': 'intervention'},\n",
       "    {'text': 'pfa', 'entity_type': 'molecule', 'role': 'intervention'},\n",
       "    {'text': 'bsa', 'entity_type': 'geneprod', 'role': 'intervention'},\n",
       "    {'text': 'confocal microscopy', 'category': 'assay'},\n",
       "    {'text': 'usp44', 'entity_type': 'geneprod', 'role': 'assayed'},\n",
       "    {'text': 'foxp3', 'entity_type': 'geneprod', 'role': 'assayed'},\n",
       "    {'text': '##ter', 'entity_type': 'geneprod', 'role': 'assayed'},\n",
       "    {'text': 'dapi', 'entity_type': 'molecule', 'role': 'intervention'},\n",
       "    {'text': 'nuclei', 'entity_type': 'subcellular'}]]}]"
      ]
     },
     "execution_count": 5,
     "metadata": {},
     "output_type": "execute_result"
    }
   ],
   "source": [
    "json.loads(json_)[\"smtag\"]"
   ]
  },
  {
   "cell_type": "code",
   "execution_count": null,
   "id": "a70a8ff3",
   "metadata": {},
   "outputs": [],
   "source": []
  }
 ],
 "metadata": {
  "kernelspec": {
   "display_name": "Python 3 (ipykernel)",
   "language": "python",
   "name": "python3"
  },
  "language_info": {
   "codemirror_mode": {
    "name": "ipython",
    "version": 3
   },
   "file_extension": ".py",
   "mimetype": "text/x-python",
   "name": "python",
   "nbconvert_exporter": "python",
   "pygments_lexer": "ipython3",
   "version": "3.8.12"
  }
 },
 "nbformat": 4,
 "nbformat_minor": 5
}
