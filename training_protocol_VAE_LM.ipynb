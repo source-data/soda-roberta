{
 "cells": [
  {
   "cell_type": "code",
   "execution_count": 1,
   "id": "b98ec562",
   "metadata": {},
   "outputs": [],
   "source": [
    "%load_ext autoreload"
   ]
  },
  {
   "cell_type": "code",
   "execution_count": 2,
   "id": "883e6a99",
   "metadata": {},
   "outputs": [],
   "source": [
    "%autoreload 2"
   ]
  },
  {
   "cell_type": "code",
   "execution_count": 3,
   "id": "b546cea5",
   "metadata": {},
   "outputs": [],
   "source": [
    "from pathlib import Path"
   ]
  },
  {
   "cell_type": "markdown",
   "id": "7b0dc05b",
   "metadata": {},
   "source": [
    "In `config`:\n",
    "\n",
    "    config = Config(\n",
    "        max_length = 64  # in tokens\n",
    "        from_pretrained = \"facebook/bart-base\"\n",
    "        model_type = \"Twin\"\n",
    "    )"
   ]
  },
  {
   "cell_type": "code",
   "execution_count": 4,
   "id": "e49ac579",
   "metadata": {},
   "outputs": [],
   "source": [
    "from smtag.config import config\n",
    "assert config.max_length==64 and config.from_pretrained=='facebook/bart-base' and config.model_type=='VAE'"
   ]
  },
  {
   "cell_type": "code",
   "execution_count": 5,
   "id": "9f4bca7f",
   "metadata": {},
   "outputs": [
    {
     "data": {
      "text/plain": [
       "'4.15.0'"
      ]
     },
     "execution_count": 5,
     "metadata": {},
     "output_type": "execute_result"
    }
   ],
   "source": [
    "from transformers import __version__\n",
    "__version__"
   ]
  },
  {
   "cell_type": "markdown",
   "id": "660f4f76",
   "metadata": {},
   "source": [
    "## Extracting examples for LM"
   ]
  },
  {
   "cell_type": "code",
   "execution_count": 6,
   "id": "035a6b95",
   "metadata": {},
   "outputs": [],
   "source": [
    "from smtag.extract import ExtractorXML"
   ]
  },
  {
   "cell_type": "code",
   "execution_count": 7,
   "id": "cf322783",
   "metadata": {},
   "outputs": [
    {
     "name": "stdout",
     "output_type": "stream",
     "text": [
      "eval  test  train\r\n"
     ]
    }
   ],
   "source": [
    "! dir /data/xml/oapmc_articles"
   ]
  },
  {
   "cell_type": "code",
   "execution_count": 12,
   "id": "d0e0972c",
   "metadata": {},
   "outputs": [],
   "source": [
    "# ! rm -fr /data/text/oapmc_title"
   ]
  },
  {
   "cell_type": "code",
   "execution_count": 13,
   "id": "0d010582",
   "metadata": {},
   "outputs": [],
   "source": [
    "corpus = \"/data/xml/oapmc_articles\"\n",
    "text_examples = \"/data/text/oapmc_title\"\n",
    "xpath = \".//article-meta/title-group/article-title\"\n",
    "sentence_level = False\n",
    "keep_xml = False\n",
    "inclusion_probability = 1.0"
   ]
  },
  {
   "cell_type": "code",
   "execution_count": 14,
   "id": "5a814341",
   "metadata": {},
   "outputs": [
    {
     "name": "stdout",
     "output_type": "stream",
     "text": [
      "/data/text/oapmc_title created\n"
     ]
    }
   ],
   "source": [
    "extractor_lm = ExtractorXML(\n",
    "    corpus,\n",
    "    destination_dir=text_examples,\n",
    "    sentence_level=sentence_level,\n",
    "    xpath=xpath,\n",
    "    keep_xml=keep_xml,\n",
    "    inclusion_probability=inclusion_probability\n",
    ")"
   ]
  },
  {
   "cell_type": "code",
   "execution_count": 15,
   "id": "4c8ad33f",
   "metadata": {},
   "outputs": [
    {
     "name": "stderr",
     "output_type": "stream",
     "text": [
      "100%|██████████| 3223/3223 [1:31:53<00:00,  1.71s/it]\n",
      "100%|██████████| 10/10 [00:16<00:00,  1.68s/it]\n",
      "100%|██████████| 10/10 [00:16<00:00,  1.67s/it]\n"
     ]
    },
    {
     "data": {
      "text/plain": [
       "{PosixPath('/data/text/oapmc_title/train.txt'): 967335,\n",
       " PosixPath('/data/text/oapmc_title/eval.txt'): 2970,\n",
       " PosixPath('/data/text/oapmc_title/test.txt'): 3004}"
      ]
     },
     "execution_count": 15,
     "metadata": {},
     "output_type": "execute_result"
    }
   ],
   "source": [
    "extractor_lm.extract_from_corpus()"
   ]
  },
  {
   "cell_type": "markdown",
   "id": "7af205c1",
   "metadata": {},
   "source": [
    "#### same via CLI:\n",
    "\n",
    "```bash\n",
    "python -m smtag.cli.prepro.extract /data/xml/emboj_all /data/text/emboj_twin --xpath \".//article-meta/title-group/article-title\" \".//abstract\"\n",
    "```"
   ]
  },
  {
   "cell_type": "markdown",
   "id": "97d46fec",
   "metadata": {},
   "source": [
    "## Preparing tokenized dataset for LM"
   ]
  },
  {
   "cell_type": "code",
   "execution_count": 16,
   "id": "55adc4c0",
   "metadata": {},
   "outputs": [],
   "source": [
    "from smtag.dataprep import PreparatorLM"
   ]
  },
  {
   "cell_type": "code",
   "execution_count": 6,
   "id": "485cbe1e",
   "metadata": {},
   "outputs": [],
   "source": [
    "tokenized_examples = \"/data/json/oapmc_title\""
   ]
  },
  {
   "cell_type": "code",
   "execution_count": 18,
   "id": "8495693e",
   "metadata": {},
   "outputs": [],
   "source": [
    "# ! rm -fr /data/json/oapmc_title"
   ]
  },
  {
   "cell_type": "code",
   "execution_count": 19,
   "id": "8325107a",
   "metadata": {},
   "outputs": [
    {
     "name": "stdout",
     "output_type": "stream",
     "text": [
      "/data/json/oapmc_title created\n"
     ]
    }
   ],
   "source": [
    "prep_lm = PreparatorLM(\n",
    "    text_examples,\n",
    "    tokenized_examples,\n",
    "    max_length=config.max_length\n",
    ")"
   ]
  },
  {
   "cell_type": "code",
   "execution_count": 20,
   "id": "5122d4b5",
   "metadata": {
    "scrolled": true
   },
   "outputs": [
    {
     "name": "stdout",
     "output_type": "stream",
     "text": [
      "Preparing: train\n"
     ]
    },
    {
     "name": "stderr",
     "output_type": "stream",
     "text": [
      "100%|██████████| 967335/967335 [22:17<00:00, 723.36it/s]\n"
     ]
    },
    {
     "name": "stdout",
     "output_type": "stream",
     "text": [
      "\n",
      "Length verification: OK!\n",
      "\n",
      "average input_ids length = 35 (min=16, max=64) tokens\n",
      "longest example: <s>Efficiency and Tolerability of Induction and Consolidation Therapy with Arsenic Trioxide/Bortezomib/Ascorbic Acid/Dexamethasone (ABCD) Regimen Compared to Bortezomib/Dexamethasone (BD) Regimen in</s>\n",
      "shortest example: <s>Data on entrepreneurship education and entrepreneurial performance of aspiring entrepreneurs in selected Nigerian universities</s>\n",
      "Preparing: eval\n"
     ]
    },
    {
     "name": "stderr",
     "output_type": "stream",
     "text": [
      "100%|██████████| 2970/2970 [00:02<00:00, 1009.73it/s]\n"
     ]
    },
    {
     "name": "stdout",
     "output_type": "stream",
     "text": [
      "\n",
      "Length verification: OK!\n",
      "\n",
      "average input_ids length = 35 (min=18, max=64) tokens\n",
      "longest example: <s>Characterization of an Indole-3-Acetamide Hydrolase from Alcaligenes faecalis subsp. parafaecalis and Its Application in Efficient Preparation of Both Enantiomers of Chiral Building Block 2,3-Dihydro-1,4-Benz</s>\n",
      "shortest example: <s>A bilateral tumor model identifies transcriptional programs associated with patient response to immune checkpoint blockade</s>\n",
      "Preparing: test\n"
     ]
    },
    {
     "name": "stderr",
     "output_type": "stream",
     "text": [
      "100%|██████████| 3004/3004 [00:04<00:00, 747.14it/s]"
     ]
    },
    {
     "name": "stdout",
     "output_type": "stream",
     "text": [
      "\n",
      "Length verification: OK!\n",
      "\n",
      "average input_ids length = 35 (min=18, max=64) tokens\n",
      "longest example: <s>Comparison of Inappropriate Shocks and Other Health Outcomes Between Single- and Dual-Chamber Implantable Cardioverter-Defibrillators for Primary Prevention of Sudden Cardiac Death: Results From the Cardiovascular Research Network Longitudinal Study of Implantable Cardioverter-Def</s>\n",
      "shortest example: <s>Primary care provider perceptions of intake transition records and shared care with outpatient cardiac rehabilitation programs</s>\n"
     ]
    },
    {
     "name": "stderr",
     "output_type": "stream",
     "text": [
      "\n"
     ]
    }
   ],
   "source": [
    "prep_lm.run()"
   ]
  },
  {
   "cell_type": "markdown",
   "id": "f87695c7",
   "metadata": {},
   "source": [
    "same vie CLI:\n",
    "    \n",
    "```bash\n",
    "python -m smtag.cli.lm.dataprep /data/text/mini /data/json/mini\n",
    "```"
   ]
  },
  {
   "cell_type": "markdown",
   "id": "aa53dfa7",
   "metadata": {},
   "source": [
    "## Train LM"
   ]
  },
  {
   "cell_type": "code",
   "execution_count": 7,
   "id": "603758ea",
   "metadata": {},
   "outputs": [],
   "source": [
    "from smtag.train.train_lm import (\n",
    "    train as train_lm,\n",
    "    TrainingArgumentsLM\n",
    ")"
   ]
  },
  {
   "cell_type": "code",
   "execution_count": 8,
   "id": "91aa7272",
   "metadata": {},
   "outputs": [],
   "source": [
    "no_cache = True\n",
    "loader_path = \"./smtag/loader/loader_lm.py\"\n",
    "data_config_name = \"SEQ2SEQ\"\n",
    "tokenizer = config.tokenizer  # tokenizer has to be the same application-wide\n",
    "model_type = \"VAE\"\n",
    "from_pretrained = config.from_pretrained"
   ]
  },
  {
   "cell_type": "code",
   "execution_count": 9,
   "id": "f6d27bc0",
   "metadata": {},
   "outputs": [],
   "source": [
    "tokenizer.mask_token = '<mask>'  # why is this here? maybe because in case of character-level tokenizer\n",
    "# tokenizer.unk_token = '<unk>'"
   ]
  },
  {
   "cell_type": "markdown",
   "id": "74ac0cb8",
   "metadata": {},
   "source": [
    "Model architecture parameters: \n",
    "\n",
    "```python\n",
    "model_config = VAEConfigLM(\n",
    "    freeze_pretrained=None, #'encoder',\n",
    "    hidden_features=256,\n",
    "    z_dim=2048,\n",
    "    gamma=1E-4,  # weight of lm loss as compared to z_loss\n",
    "    sampling_iterations=1000,\n",
    "    seq_length=config.max_length,\n",
    "    residuals=False,\n",
    ")\n",
    "```"
   ]
  },
  {
   "cell_type": "code",
   "execution_count": 11,
   "id": "d987c634",
   "metadata": {
    "scrolled": true
   },
   "outputs": [
    {
     "data": {
      "text/plain": [
       "TrainingArgumentsLM(output_dir='/lm_models', overwrite_output_dir=True, do_train=False, do_eval=True, do_predict=False, evaluation_strategy=<IntervalStrategy.STEPS: 'steps'>, prediction_loss_only=True, per_device_train_batch_size=8, per_device_eval_batch_size=8, per_gpu_train_batch_size=None, per_gpu_eval_batch_size=None, gradient_accumulation_steps=1, eval_accumulation_steps=None, learning_rate=5e-05, weight_decay=0.0, adam_beta1=0.9, adam_beta2=0.999, adam_epsilon=1e-08, max_grad_norm=1.0, num_train_epochs=10, max_steps=-1, lr_scheduler_type=<SchedulerType.LINEAR: 'linear'>, warmup_ratio=0.0, warmup_steps=0, log_level=-1, log_level_replica=-1, log_on_each_node=True, logging_dir='/lm_models/runs/Apr10_13-35-13_ea25f0d9a7eb', logging_strategy=<IntervalStrategy.STEPS: 'steps'>, logging_first_step=False, logging_steps=100, logging_nan_inf_filter=True, save_strategy=<IntervalStrategy.STEPS: 'steps'>, save_steps=500, save_total_limit=5, save_on_each_node=False, no_cuda=False, seed=42, bf16=False, fp16=False, fp16_opt_level='O1', half_precision_backend='auto', bf16_full_eval=False, fp16_full_eval=False, tf32=None, local_rank=-1, xpu_backend=None, tpu_num_cores=None, tpu_metrics_debug=False, debug=[], dataloader_drop_last=False, eval_steps=100, dataloader_num_workers=0, past_index=-1, run_name='/lm_models', disable_tqdm=False, remove_unused_columns=True, label_names=None, load_best_model_at_end=False, metric_for_best_model=None, greater_is_better=None, ignore_data_skip=False, sharded_ddp=[], deepspeed=None, label_smoothing_factor=0.0, adafactor=False, group_by_length=False, length_column_name='length', report_to=['tensorboard'], ddp_find_unused_parameters=None, ddp_bucket_cap_mb=None, dataloader_pin_memory=True, skip_memory_metrics=True, use_legacy_prediction_loop=False, push_to_hub=False, resume_from_checkpoint=None, hub_model_id=None, hub_strategy=<HubStrategy.EVERY_SAVE: 'every_save'>, hub_token=None, gradient_checkpointing=False, fp16_backend='auto', push_to_hub_model_id=None, push_to_hub_organization=None, push_to_hub_token=None, mp_parameters='')"
      ]
     },
     "execution_count": 11,
     "metadata": {},
     "output_type": "execute_result"
    }
   ],
   "source": [
    "training_args_tokcl = TrainingArgumentsLM(\n",
    "    num_train_epochs = 1,\n",
    "    logging_steps = 100,\n",
    "    per_device_train_batch_size=8,\n",
    "    per_device_eval_batch_size=8,\n",
    ")\n",
    "training_args_tokcl"
   ]
  },
  {
   "cell_type": "code",
   "execution_count": 12,
   "id": "ef60c95a",
   "metadata": {
    "scrolled": true
   },
   "outputs": [
    {
     "name": "stderr",
     "output_type": "stream",
     "text": [
      "WARNING:Using custom data configuration SEQ2SEQ-1ddd9282e7145ba8\n"
     ]
    },
    {
     "name": "stdout",
     "output_type": "stream",
     "text": [
      "tokenizer vocab size: 50265\n",
      "\n",
      "Loading datasets found in /data/json/oapmc_title.\n",
      "using ./smtag/loader/loader_lm.py as dataset loader.\n",
      "Downloading and preparing dataset bio_lang/SEQ2SEQ (download: Unknown size, generated: 268.49 MiB, post-processed: Unknown size, total: 268.49 MiB) to /cache/bio_lang/SEQ2SEQ-1ddd9282e7145ba8/0.0.1/ff9dbe678aba55520bef244a55868bd4acf85eb086ce21a8454da23294256c2e...\n"
     ]
    },
    {
     "data": {
      "application/vnd.jupyter.widget-view+json": {
       "model_id": "",
       "version_major": 2,
       "version_minor": 0
      },
      "text/plain": [
       "0 examples [00:00, ? examples/s]"
      ]
     },
     "metadata": {},
     "output_type": "display_data"
    },
    {
     "data": {
      "application/vnd.jupyter.widget-view+json": {
       "model_id": "",
       "version_major": 2,
       "version_minor": 0
      },
      "text/plain": [
       "0 examples [00:00, ? examples/s]"
      ]
     },
     "metadata": {},
     "output_type": "display_data"
    },
    {
     "data": {
      "application/vnd.jupyter.widget-view+json": {
       "model_id": "",
       "version_major": 2,
       "version_minor": 0
      },
      "text/plain": [
       "0 examples [00:00, ? examples/s]"
      ]
     },
     "metadata": {},
     "output_type": "display_data"
    },
    {
     "name": "stdout",
     "output_type": "stream",
     "text": [
      "Dataset bio_lang downloaded and prepared to /cache/bio_lang/SEQ2SEQ-1ddd9282e7145ba8/0.0.1/ff9dbe678aba55520bef244a55868bd4acf85eb086ce21a8454da23294256c2e. Subsequent calls will reuse this data.\n"
     ]
    },
    {
     "data": {
      "application/vnd.jupyter.widget-view+json": {
       "model_id": "99a95b2176c0438ea5deb9bb12b4a105",
       "version_major": 2,
       "version_minor": 0
      },
      "text/plain": [
       "  0%|          | 0/3 [00:00<?, ?it/s]"
      ]
     },
     "metadata": {},
     "output_type": "display_data"
    },
    {
     "name": "stdout",
     "output_type": "stream",
     "text": [
      "\n",
      "Training with 967335 examples.\n",
      "Evaluating on 2970 examples.\n",
      "\n",
      "Training arguments:\n",
      "TrainingArgumentsLM(\n",
      "_n_gpu=4,\n",
      "adafactor=False,\n",
      "adam_beta1=0.9,\n",
      "adam_beta2=0.999,\n",
      "adam_epsilon=1e-08,\n",
      "bf16=False,\n",
      "bf16_full_eval=False,\n",
      "dataloader_drop_last=False,\n",
      "dataloader_num_workers=0,\n",
      "dataloader_pin_memory=True,\n",
      "ddp_bucket_cap_mb=None,\n",
      "ddp_find_unused_parameters=None,\n",
      "debug=[],\n",
      "deepspeed=None,\n",
      "disable_tqdm=False,\n",
      "do_eval=True,\n",
      "do_predict=False,\n",
      "do_train=False,\n",
      "eval_accumulation_steps=None,\n",
      "eval_steps=100,\n",
      "evaluation_strategy=IntervalStrategy.STEPS,\n",
      "fp16=False,\n",
      "fp16_backend=auto,\n",
      "fp16_full_eval=False,\n",
      "fp16_opt_level=O1,\n",
      "gradient_accumulation_steps=1,\n",
      "gradient_checkpointing=False,\n",
      "greater_is_better=None,\n",
      "group_by_length=False,\n",
      "half_precision_backend=auto,\n",
      "hub_model_id=None,\n",
      "hub_strategy=HubStrategy.EVERY_SAVE,\n",
      "hub_token=<HUB_TOKEN>,\n",
      "ignore_data_skip=False,\n",
      "label_names=None,\n",
      "label_smoothing_factor=0.0,\n",
      "learning_rate=5e-05,\n",
      "length_column_name=length,\n",
      "load_best_model_at_end=False,\n",
      "local_rank=-1,\n",
      "log_level=-1,\n",
      "log_level_replica=-1,\n",
      "log_on_each_node=True,\n",
      "logging_dir=/runs/lm-SEQ2SEQ-2022-04-10T13-35-22.984328,\n",
      "logging_first_step=False,\n",
      "logging_nan_inf_filter=True,\n",
      "logging_steps=100,\n",
      "logging_strategy=IntervalStrategy.STEPS,\n",
      "lr_scheduler_type=SchedulerType.LINEAR,\n",
      "max_grad_norm=1.0,\n",
      "max_steps=-1,\n",
      "metric_for_best_model=None,\n",
      "mp_parameters=,\n",
      "no_cuda=False,\n",
      "num_train_epochs=10,\n",
      "output_dir=/lm_models,\n",
      "overwrite_output_dir=True,\n",
      "past_index=-1,\n",
      "per_device_eval_batch_size=8,\n",
      "per_device_train_batch_size=8,\n",
      "prediction_loss_only=True,\n",
      "push_to_hub=False,\n",
      "push_to_hub_model_id=None,\n",
      "push_to_hub_organization=None,\n",
      "push_to_hub_token=<PUSH_TO_HUB_TOKEN>,\n",
      "remove_unused_columns=False,\n",
      "report_to=['tensorboard'],\n",
      "resume_from_checkpoint=None,\n",
      "run_name=/lm_models,\n",
      "save_on_each_node=False,\n",
      "save_steps=500,\n",
      "save_strategy=IntervalStrategy.STEPS,\n",
      "save_total_limit=5,\n",
      "seed=42,\n",
      "sharded_ddp=[],\n",
      "skip_memory_metrics=True,\n",
      "tf32=None,\n",
      "tpu_metrics_debug=False,\n",
      "tpu_num_cores=None,\n",
      "use_legacy_prediction_loop=False,\n",
      "warmup_ratio=0.0,\n",
      "warmup_steps=0,\n",
      "weight_decay=0.0,\n",
      "xpu_backend=None,\n",
      ")\n"
     ]
    },
    {
     "name": "stderr",
     "output_type": "stream",
     "text": [
      "***** Running training *****\n",
      "  Num examples = 967335\n",
      "  Num Epochs = 10\n",
      "  Instantaneous batch size per device = 8\n",
      "  Total train batch size (w. parallel, distributed & accumulation) = 32\n",
      "  Gradient Accumulation steps = 1\n",
      "  Total optimization steps = 302300\n"
     ]
    },
    {
     "name": "stdout",
     "output_type": "stream",
     "text": [
      "CUDA available: True\n",
      "Available devices  4\n",
      "Current cuda device  0\n"
     ]
    },
    {
     "name": "stderr",
     "output_type": "stream",
     "text": [
      "/opt/conda/lib/python3.8/site-packages/torch/nn/parallel/_functions.py:68: UserWarning: Was asked to gather along dimension 0, but all input tensors were scalars; will instead unsqueeze and return a vector.\n",
      "  warnings.warn('Was asked to gather along dimension 0, but all '\n"
     ]
    },
    {
     "data": {
      "text/html": [
       "\n",
       "    <div>\n",
       "      \n",
       "      <progress value='32455' max='302300' style='width:300px; height:20px; vertical-align: middle;'></progress>\n",
       "      [ 32455/302300 3:21:43 < 27:57:16, 2.68 it/s, Epoch 1.07/10]\n",
       "    </div>\n",
       "    <table border=\"1\" class=\"dataframe\">\n",
       "  <thead>\n",
       "    <tr style=\"text-align: left;\">\n",
       "      <th>Step</th>\n",
       "      <th>Training Loss</th>\n",
       "      <th>Validation Loss</th>\n",
       "      <th>Supp Data Loss Z</th>\n",
       "      <th>Supp Data Loss Lm</th>\n",
       "    </tr>\n",
       "  </thead>\n",
       "  <tbody>\n",
       "    <tr>\n",
       "      <td>100</td>\n",
       "      <td>0.001400</td>\n",
       "      <td>0.001395</td>\n",
       "      <td>0.000569</td>\n",
       "      <td>0.000825</td>\n",
       "    </tr>\n",
       "    <tr>\n",
       "      <td>200</td>\n",
       "      <td>0.001400</td>\n",
       "      <td>0.001367</td>\n",
       "      <td>0.000617</td>\n",
       "      <td>0.000751</td>\n",
       "    </tr>\n",
       "    <tr>\n",
       "      <td>300</td>\n",
       "      <td>0.001400</td>\n",
       "      <td>0.001346</td>\n",
       "      <td>0.000634</td>\n",
       "      <td>0.000712</td>\n",
       "    </tr>\n",
       "    <tr>\n",
       "      <td>400</td>\n",
       "      <td>0.001300</td>\n",
       "      <td>0.001323</td>\n",
       "      <td>0.000643</td>\n",
       "      <td>0.000680</td>\n",
       "    </tr>\n",
       "    <tr>\n",
       "      <td>500</td>\n",
       "      <td>0.001300</td>\n",
       "      <td>0.001298</td>\n",
       "      <td>0.000646</td>\n",
       "      <td>0.000652</td>\n",
       "    </tr>\n",
       "    <tr>\n",
       "      <td>600</td>\n",
       "      <td>0.001300</td>\n",
       "      <td>0.001268</td>\n",
       "      <td>0.000643</td>\n",
       "      <td>0.000625</td>\n",
       "    </tr>\n",
       "    <tr>\n",
       "      <td>700</td>\n",
       "      <td>0.001300</td>\n",
       "      <td>0.001229</td>\n",
       "      <td>0.000628</td>\n",
       "      <td>0.000601</td>\n",
       "    </tr>\n",
       "    <tr>\n",
       "      <td>800</td>\n",
       "      <td>0.001200</td>\n",
       "      <td>0.001192</td>\n",
       "      <td>0.000616</td>\n",
       "      <td>0.000576</td>\n",
       "    </tr>\n",
       "    <tr>\n",
       "      <td>900</td>\n",
       "      <td>0.001200</td>\n",
       "      <td>0.001161</td>\n",
       "      <td>0.000607</td>\n",
       "      <td>0.000555</td>\n",
       "    </tr>\n",
       "    <tr>\n",
       "      <td>1000</td>\n",
       "      <td>0.001200</td>\n",
       "      <td>0.001126</td>\n",
       "      <td>0.000585</td>\n",
       "      <td>0.000540</td>\n",
       "    </tr>\n",
       "    <tr>\n",
       "      <td>1100</td>\n",
       "      <td>0.001100</td>\n",
       "      <td>0.001093</td>\n",
       "      <td>0.000571</td>\n",
       "      <td>0.000522</td>\n",
       "    </tr>\n",
       "    <tr>\n",
       "      <td>1200</td>\n",
       "      <td>0.001100</td>\n",
       "      <td>0.001071</td>\n",
       "      <td>0.000562</td>\n",
       "      <td>0.000509</td>\n",
       "    </tr>\n",
       "    <tr>\n",
       "      <td>1300</td>\n",
       "      <td>0.001100</td>\n",
       "      <td>0.001039</td>\n",
       "      <td>0.000542</td>\n",
       "      <td>0.000497</td>\n",
       "    </tr>\n",
       "    <tr>\n",
       "      <td>1400</td>\n",
       "      <td>0.001000</td>\n",
       "      <td>0.001007</td>\n",
       "      <td>0.000522</td>\n",
       "      <td>0.000486</td>\n",
       "    </tr>\n",
       "    <tr>\n",
       "      <td>1500</td>\n",
       "      <td>0.001000</td>\n",
       "      <td>0.000993</td>\n",
       "      <td>0.000516</td>\n",
       "      <td>0.000477</td>\n",
       "    </tr>\n",
       "    <tr>\n",
       "      <td>1600</td>\n",
       "      <td>0.001000</td>\n",
       "      <td>0.000969</td>\n",
       "      <td>0.000500</td>\n",
       "      <td>0.000468</td>\n",
       "    </tr>\n",
       "    <tr>\n",
       "      <td>1700</td>\n",
       "      <td>0.001000</td>\n",
       "      <td>0.000943</td>\n",
       "      <td>0.000482</td>\n",
       "      <td>0.000461</td>\n",
       "    </tr>\n",
       "    <tr>\n",
       "      <td>1800</td>\n",
       "      <td>0.001000</td>\n",
       "      <td>0.000923</td>\n",
       "      <td>0.000470</td>\n",
       "      <td>0.000454</td>\n",
       "    </tr>\n",
       "    <tr>\n",
       "      <td>1900</td>\n",
       "      <td>0.000900</td>\n",
       "      <td>0.000905</td>\n",
       "      <td>0.000459</td>\n",
       "      <td>0.000446</td>\n",
       "    </tr>\n",
       "    <tr>\n",
       "      <td>2000</td>\n",
       "      <td>0.000900</td>\n",
       "      <td>0.000891</td>\n",
       "      <td>0.000450</td>\n",
       "      <td>0.000441</td>\n",
       "    </tr>\n",
       "    <tr>\n",
       "      <td>2100</td>\n",
       "      <td>0.000900</td>\n",
       "      <td>0.000866</td>\n",
       "      <td>0.000433</td>\n",
       "      <td>0.000433</td>\n",
       "    </tr>\n",
       "    <tr>\n",
       "      <td>2200</td>\n",
       "      <td>0.000900</td>\n",
       "      <td>0.000845</td>\n",
       "      <td>0.000418</td>\n",
       "      <td>0.000427</td>\n",
       "    </tr>\n",
       "    <tr>\n",
       "      <td>2300</td>\n",
       "      <td>0.000900</td>\n",
       "      <td>0.000836</td>\n",
       "      <td>0.000413</td>\n",
       "      <td>0.000423</td>\n",
       "    </tr>\n",
       "    <tr>\n",
       "      <td>2400</td>\n",
       "      <td>0.000800</td>\n",
       "      <td>0.000811</td>\n",
       "      <td>0.000395</td>\n",
       "      <td>0.000416</td>\n",
       "    </tr>\n",
       "    <tr>\n",
       "      <td>2500</td>\n",
       "      <td>0.000800</td>\n",
       "      <td>0.000795</td>\n",
       "      <td>0.000385</td>\n",
       "      <td>0.000410</td>\n",
       "    </tr>\n",
       "    <tr>\n",
       "      <td>2600</td>\n",
       "      <td>0.000800</td>\n",
       "      <td>0.000784</td>\n",
       "      <td>0.000378</td>\n",
       "      <td>0.000406</td>\n",
       "    </tr>\n",
       "    <tr>\n",
       "      <td>2700</td>\n",
       "      <td>0.000800</td>\n",
       "      <td>0.000766</td>\n",
       "      <td>0.000365</td>\n",
       "      <td>0.000402</td>\n",
       "    </tr>\n",
       "    <tr>\n",
       "      <td>2800</td>\n",
       "      <td>0.000800</td>\n",
       "      <td>0.000759</td>\n",
       "      <td>0.000362</td>\n",
       "      <td>0.000398</td>\n",
       "    </tr>\n",
       "    <tr>\n",
       "      <td>2900</td>\n",
       "      <td>0.000800</td>\n",
       "      <td>0.000742</td>\n",
       "      <td>0.000351</td>\n",
       "      <td>0.000391</td>\n",
       "    </tr>\n",
       "    <tr>\n",
       "      <td>3000</td>\n",
       "      <td>0.000800</td>\n",
       "      <td>0.000719</td>\n",
       "      <td>0.000334</td>\n",
       "      <td>0.000385</td>\n",
       "    </tr>\n",
       "    <tr>\n",
       "      <td>3100</td>\n",
       "      <td>0.000700</td>\n",
       "      <td>0.000717</td>\n",
       "      <td>0.000335</td>\n",
       "      <td>0.000382</td>\n",
       "    </tr>\n",
       "    <tr>\n",
       "      <td>3200</td>\n",
       "      <td>0.000700</td>\n",
       "      <td>0.000702</td>\n",
       "      <td>0.000324</td>\n",
       "      <td>0.000377</td>\n",
       "    </tr>\n",
       "    <tr>\n",
       "      <td>3300</td>\n",
       "      <td>0.000700</td>\n",
       "      <td>0.000692</td>\n",
       "      <td>0.000319</td>\n",
       "      <td>0.000374</td>\n",
       "    </tr>\n",
       "    <tr>\n",
       "      <td>3400</td>\n",
       "      <td>0.000700</td>\n",
       "      <td>0.000681</td>\n",
       "      <td>0.000310</td>\n",
       "      <td>0.000371</td>\n",
       "    </tr>\n",
       "    <tr>\n",
       "      <td>3500</td>\n",
       "      <td>0.000700</td>\n",
       "      <td>0.000666</td>\n",
       "      <td>0.000300</td>\n",
       "      <td>0.000366</td>\n",
       "    </tr>\n",
       "    <tr>\n",
       "      <td>3600</td>\n",
       "      <td>0.000700</td>\n",
       "      <td>0.000662</td>\n",
       "      <td>0.000300</td>\n",
       "      <td>0.000362</td>\n",
       "    </tr>\n",
       "    <tr>\n",
       "      <td>3700</td>\n",
       "      <td>0.000700</td>\n",
       "      <td>0.000650</td>\n",
       "      <td>0.000292</td>\n",
       "      <td>0.000358</td>\n",
       "    </tr>\n",
       "    <tr>\n",
       "      <td>3800</td>\n",
       "      <td>0.000700</td>\n",
       "      <td>0.000644</td>\n",
       "      <td>0.000287</td>\n",
       "      <td>0.000357</td>\n",
       "    </tr>\n",
       "    <tr>\n",
       "      <td>3900</td>\n",
       "      <td>0.000700</td>\n",
       "      <td>0.000631</td>\n",
       "      <td>0.000280</td>\n",
       "      <td>0.000351</td>\n",
       "    </tr>\n",
       "    <tr>\n",
       "      <td>4000</td>\n",
       "      <td>0.000700</td>\n",
       "      <td>0.000617</td>\n",
       "      <td>0.000270</td>\n",
       "      <td>0.000348</td>\n",
       "    </tr>\n",
       "    <tr>\n",
       "      <td>4100</td>\n",
       "      <td>0.000600</td>\n",
       "      <td>0.000613</td>\n",
       "      <td>0.000269</td>\n",
       "      <td>0.000344</td>\n",
       "    </tr>\n",
       "    <tr>\n",
       "      <td>4200</td>\n",
       "      <td>0.000600</td>\n",
       "      <td>0.000605</td>\n",
       "      <td>0.000263</td>\n",
       "      <td>0.000342</td>\n",
       "    </tr>\n",
       "    <tr>\n",
       "      <td>4300</td>\n",
       "      <td>0.000600</td>\n",
       "      <td>0.000593</td>\n",
       "      <td>0.000256</td>\n",
       "      <td>0.000337</td>\n",
       "    </tr>\n",
       "    <tr>\n",
       "      <td>4400</td>\n",
       "      <td>0.000600</td>\n",
       "      <td>0.000584</td>\n",
       "      <td>0.000249</td>\n",
       "      <td>0.000335</td>\n",
       "    </tr>\n",
       "    <tr>\n",
       "      <td>4500</td>\n",
       "      <td>0.000600</td>\n",
       "      <td>0.000581</td>\n",
       "      <td>0.000250</td>\n",
       "      <td>0.000331</td>\n",
       "    </tr>\n",
       "    <tr>\n",
       "      <td>4600</td>\n",
       "      <td>0.000600</td>\n",
       "      <td>0.000573</td>\n",
       "      <td>0.000246</td>\n",
       "      <td>0.000327</td>\n",
       "    </tr>\n",
       "    <tr>\n",
       "      <td>4700</td>\n",
       "      <td>0.000600</td>\n",
       "      <td>0.000563</td>\n",
       "      <td>0.000240</td>\n",
       "      <td>0.000323</td>\n",
       "    </tr>\n",
       "    <tr>\n",
       "      <td>4800</td>\n",
       "      <td>0.000600</td>\n",
       "      <td>0.000556</td>\n",
       "      <td>0.000235</td>\n",
       "      <td>0.000321</td>\n",
       "    </tr>\n",
       "    <tr>\n",
       "      <td>4900</td>\n",
       "      <td>0.000600</td>\n",
       "      <td>0.000575</td>\n",
       "      <td>0.000255</td>\n",
       "      <td>0.000321</td>\n",
       "    </tr>\n",
       "    <tr>\n",
       "      <td>5000</td>\n",
       "      <td>0.000600</td>\n",
       "      <td>0.000553</td>\n",
       "      <td>0.000237</td>\n",
       "      <td>0.000316</td>\n",
       "    </tr>\n",
       "    <tr>\n",
       "      <td>5100</td>\n",
       "      <td>0.000600</td>\n",
       "      <td>0.000544</td>\n",
       "      <td>0.000230</td>\n",
       "      <td>0.000314</td>\n",
       "    </tr>\n",
       "    <tr>\n",
       "      <td>5200</td>\n",
       "      <td>0.000600</td>\n",
       "      <td>0.000534</td>\n",
       "      <td>0.000224</td>\n",
       "      <td>0.000310</td>\n",
       "    </tr>\n",
       "    <tr>\n",
       "      <td>5300</td>\n",
       "      <td>0.000600</td>\n",
       "      <td>0.000530</td>\n",
       "      <td>0.000222</td>\n",
       "      <td>0.000308</td>\n",
       "    </tr>\n",
       "    <tr>\n",
       "      <td>5400</td>\n",
       "      <td>0.000500</td>\n",
       "      <td>0.000520</td>\n",
       "      <td>0.000216</td>\n",
       "      <td>0.000304</td>\n",
       "    </tr>\n",
       "    <tr>\n",
       "      <td>5500</td>\n",
       "      <td>0.000500</td>\n",
       "      <td>0.000514</td>\n",
       "      <td>0.000212</td>\n",
       "      <td>0.000302</td>\n",
       "    </tr>\n",
       "    <tr>\n",
       "      <td>5600</td>\n",
       "      <td>0.000500</td>\n",
       "      <td>0.000503</td>\n",
       "      <td>0.000205</td>\n",
       "      <td>0.000298</td>\n",
       "    </tr>\n",
       "    <tr>\n",
       "      <td>5700</td>\n",
       "      <td>0.000500</td>\n",
       "      <td>0.000496</td>\n",
       "      <td>0.000201</td>\n",
       "      <td>0.000295</td>\n",
       "    </tr>\n",
       "    <tr>\n",
       "      <td>5800</td>\n",
       "      <td>0.000500</td>\n",
       "      <td>0.000491</td>\n",
       "      <td>0.000199</td>\n",
       "      <td>0.000292</td>\n",
       "    </tr>\n",
       "    <tr>\n",
       "      <td>5900</td>\n",
       "      <td>0.000500</td>\n",
       "      <td>0.000485</td>\n",
       "      <td>0.000197</td>\n",
       "      <td>0.000288</td>\n",
       "    </tr>\n",
       "    <tr>\n",
       "      <td>6000</td>\n",
       "      <td>0.000500</td>\n",
       "      <td>0.000477</td>\n",
       "      <td>0.000192</td>\n",
       "      <td>0.000285</td>\n",
       "    </tr>\n",
       "    <tr>\n",
       "      <td>6100</td>\n",
       "      <td>0.000500</td>\n",
       "      <td>0.000474</td>\n",
       "      <td>0.000192</td>\n",
       "      <td>0.000282</td>\n",
       "    </tr>\n",
       "    <tr>\n",
       "      <td>6200</td>\n",
       "      <td>0.000500</td>\n",
       "      <td>0.000467</td>\n",
       "      <td>0.000186</td>\n",
       "      <td>0.000281</td>\n",
       "    </tr>\n",
       "    <tr>\n",
       "      <td>6300</td>\n",
       "      <td>0.000500</td>\n",
       "      <td>0.000461</td>\n",
       "      <td>0.000184</td>\n",
       "      <td>0.000278</td>\n",
       "    </tr>\n",
       "    <tr>\n",
       "      <td>6400</td>\n",
       "      <td>0.000500</td>\n",
       "      <td>0.000457</td>\n",
       "      <td>0.000184</td>\n",
       "      <td>0.000274</td>\n",
       "    </tr>\n",
       "    <tr>\n",
       "      <td>6500</td>\n",
       "      <td>0.000500</td>\n",
       "      <td>0.000451</td>\n",
       "      <td>0.000179</td>\n",
       "      <td>0.000272</td>\n",
       "    </tr>\n",
       "    <tr>\n",
       "      <td>6600</td>\n",
       "      <td>0.000500</td>\n",
       "      <td>0.000445</td>\n",
       "      <td>0.000177</td>\n",
       "      <td>0.000267</td>\n",
       "    </tr>\n",
       "    <tr>\n",
       "      <td>6700</td>\n",
       "      <td>0.000500</td>\n",
       "      <td>0.000440</td>\n",
       "      <td>0.000176</td>\n",
       "      <td>0.000264</td>\n",
       "    </tr>\n",
       "    <tr>\n",
       "      <td>6800</td>\n",
       "      <td>0.000500</td>\n",
       "      <td>0.000436</td>\n",
       "      <td>0.000175</td>\n",
       "      <td>0.000261</td>\n",
       "    </tr>\n",
       "    <tr>\n",
       "      <td>6900</td>\n",
       "      <td>0.000500</td>\n",
       "      <td>0.000431</td>\n",
       "      <td>0.000173</td>\n",
       "      <td>0.000258</td>\n",
       "    </tr>\n",
       "    <tr>\n",
       "      <td>7000</td>\n",
       "      <td>0.000500</td>\n",
       "      <td>0.000426</td>\n",
       "      <td>0.000171</td>\n",
       "      <td>0.000255</td>\n",
       "    </tr>\n",
       "    <tr>\n",
       "      <td>7100</td>\n",
       "      <td>0.000400</td>\n",
       "      <td>0.000423</td>\n",
       "      <td>0.000170</td>\n",
       "      <td>0.000253</td>\n",
       "    </tr>\n",
       "    <tr>\n",
       "      <td>7200</td>\n",
       "      <td>0.000400</td>\n",
       "      <td>0.000417</td>\n",
       "      <td>0.000167</td>\n",
       "      <td>0.000250</td>\n",
       "    </tr>\n",
       "    <tr>\n",
       "      <td>7300</td>\n",
       "      <td>0.000400</td>\n",
       "      <td>0.000412</td>\n",
       "      <td>0.000164</td>\n",
       "      <td>0.000247</td>\n",
       "    </tr>\n",
       "    <tr>\n",
       "      <td>7400</td>\n",
       "      <td>0.000400</td>\n",
       "      <td>0.000406</td>\n",
       "      <td>0.000163</td>\n",
       "      <td>0.000244</td>\n",
       "    </tr>\n",
       "    <tr>\n",
       "      <td>7500</td>\n",
       "      <td>0.000400</td>\n",
       "      <td>0.000402</td>\n",
       "      <td>0.000161</td>\n",
       "      <td>0.000241</td>\n",
       "    </tr>\n",
       "    <tr>\n",
       "      <td>7600</td>\n",
       "      <td>0.000400</td>\n",
       "      <td>0.000397</td>\n",
       "      <td>0.000158</td>\n",
       "      <td>0.000239</td>\n",
       "    </tr>\n",
       "    <tr>\n",
       "      <td>7700</td>\n",
       "      <td>0.000400</td>\n",
       "      <td>0.000391</td>\n",
       "      <td>0.000156</td>\n",
       "      <td>0.000235</td>\n",
       "    </tr>\n",
       "    <tr>\n",
       "      <td>7800</td>\n",
       "      <td>0.000400</td>\n",
       "      <td>0.000390</td>\n",
       "      <td>0.000155</td>\n",
       "      <td>0.000234</td>\n",
       "    </tr>\n",
       "    <tr>\n",
       "      <td>7900</td>\n",
       "      <td>0.000400</td>\n",
       "      <td>0.000384</td>\n",
       "      <td>0.000154</td>\n",
       "      <td>0.000230</td>\n",
       "    </tr>\n",
       "    <tr>\n",
       "      <td>8000</td>\n",
       "      <td>0.000400</td>\n",
       "      <td>0.000379</td>\n",
       "      <td>0.000151</td>\n",
       "      <td>0.000228</td>\n",
       "    </tr>\n",
       "    <tr>\n",
       "      <td>8100</td>\n",
       "      <td>0.000400</td>\n",
       "      <td>0.000373</td>\n",
       "      <td>0.000149</td>\n",
       "      <td>0.000224</td>\n",
       "    </tr>\n",
       "    <tr>\n",
       "      <td>8200</td>\n",
       "      <td>0.000400</td>\n",
       "      <td>0.000371</td>\n",
       "      <td>0.000149</td>\n",
       "      <td>0.000222</td>\n",
       "    </tr>\n",
       "    <tr>\n",
       "      <td>8300</td>\n",
       "      <td>0.000400</td>\n",
       "      <td>0.000367</td>\n",
       "      <td>0.000148</td>\n",
       "      <td>0.000219</td>\n",
       "    </tr>\n",
       "    <tr>\n",
       "      <td>8400</td>\n",
       "      <td>0.000400</td>\n",
       "      <td>0.000362</td>\n",
       "      <td>0.000145</td>\n",
       "      <td>0.000217</td>\n",
       "    </tr>\n",
       "    <tr>\n",
       "      <td>8500</td>\n",
       "      <td>0.000400</td>\n",
       "      <td>0.000360</td>\n",
       "      <td>0.000145</td>\n",
       "      <td>0.000215</td>\n",
       "    </tr>\n",
       "    <tr>\n",
       "      <td>8600</td>\n",
       "      <td>0.000400</td>\n",
       "      <td>0.000355</td>\n",
       "      <td>0.000142</td>\n",
       "      <td>0.000213</td>\n",
       "    </tr>\n",
       "    <tr>\n",
       "      <td>8700</td>\n",
       "      <td>0.000400</td>\n",
       "      <td>0.000350</td>\n",
       "      <td>0.000141</td>\n",
       "      <td>0.000208</td>\n",
       "    </tr>\n",
       "    <tr>\n",
       "      <td>8800</td>\n",
       "      <td>0.000400</td>\n",
       "      <td>0.000345</td>\n",
       "      <td>0.000139</td>\n",
       "      <td>0.000206</td>\n",
       "    </tr>\n",
       "    <tr>\n",
       "      <td>8900</td>\n",
       "      <td>0.000400</td>\n",
       "      <td>0.000344</td>\n",
       "      <td>0.000139</td>\n",
       "      <td>0.000205</td>\n",
       "    </tr>\n",
       "    <tr>\n",
       "      <td>9000</td>\n",
       "      <td>0.000400</td>\n",
       "      <td>0.000338</td>\n",
       "      <td>0.000137</td>\n",
       "      <td>0.000202</td>\n",
       "    </tr>\n",
       "    <tr>\n",
       "      <td>9100</td>\n",
       "      <td>0.000400</td>\n",
       "      <td>0.000334</td>\n",
       "      <td>0.000136</td>\n",
       "      <td>0.000198</td>\n",
       "    </tr>\n",
       "    <tr>\n",
       "      <td>9200</td>\n",
       "      <td>0.000400</td>\n",
       "      <td>0.000330</td>\n",
       "      <td>0.000135</td>\n",
       "      <td>0.000195</td>\n",
       "    </tr>\n",
       "    <tr>\n",
       "      <td>9300</td>\n",
       "      <td>0.000400</td>\n",
       "      <td>0.000330</td>\n",
       "      <td>0.000134</td>\n",
       "      <td>0.000196</td>\n",
       "    </tr>\n",
       "    <tr>\n",
       "      <td>9400</td>\n",
       "      <td>0.000400</td>\n",
       "      <td>0.000324</td>\n",
       "      <td>0.000132</td>\n",
       "      <td>0.000192</td>\n",
       "    </tr>\n",
       "    <tr>\n",
       "      <td>9500</td>\n",
       "      <td>0.000400</td>\n",
       "      <td>0.000319</td>\n",
       "      <td>0.000131</td>\n",
       "      <td>0.000188</td>\n",
       "    </tr>\n",
       "    <tr>\n",
       "      <td>9600</td>\n",
       "      <td>0.000300</td>\n",
       "      <td>0.000315</td>\n",
       "      <td>0.000130</td>\n",
       "      <td>0.000185</td>\n",
       "    </tr>\n",
       "    <tr>\n",
       "      <td>9700</td>\n",
       "      <td>0.000300</td>\n",
       "      <td>0.000315</td>\n",
       "      <td>0.000132</td>\n",
       "      <td>0.000183</td>\n",
       "    </tr>\n",
       "    <tr>\n",
       "      <td>9800</td>\n",
       "      <td>0.000300</td>\n",
       "      <td>0.000311</td>\n",
       "      <td>0.000129</td>\n",
       "      <td>0.000181</td>\n",
       "    </tr>\n",
       "    <tr>\n",
       "      <td>9900</td>\n",
       "      <td>0.000300</td>\n",
       "      <td>0.000305</td>\n",
       "      <td>0.000127</td>\n",
       "      <td>0.000178</td>\n",
       "    </tr>\n",
       "    <tr>\n",
       "      <td>10000</td>\n",
       "      <td>0.000300</td>\n",
       "      <td>0.000303</td>\n",
       "      <td>0.000127</td>\n",
       "      <td>0.000176</td>\n",
       "    </tr>\n",
       "    <tr>\n",
       "      <td>10100</td>\n",
       "      <td>0.000300</td>\n",
       "      <td>0.000300</td>\n",
       "      <td>0.000126</td>\n",
       "      <td>0.000174</td>\n",
       "    </tr>\n",
       "    <tr>\n",
       "      <td>10200</td>\n",
       "      <td>0.000300</td>\n",
       "      <td>0.000296</td>\n",
       "      <td>0.000125</td>\n",
       "      <td>0.000171</td>\n",
       "    </tr>\n",
       "    <tr>\n",
       "      <td>10300</td>\n",
       "      <td>0.000300</td>\n",
       "      <td>0.000294</td>\n",
       "      <td>0.000125</td>\n",
       "      <td>0.000169</td>\n",
       "    </tr>\n",
       "    <tr>\n",
       "      <td>10400</td>\n",
       "      <td>0.000300</td>\n",
       "      <td>0.000292</td>\n",
       "      <td>0.000124</td>\n",
       "      <td>0.000168</td>\n",
       "    </tr>\n",
       "    <tr>\n",
       "      <td>10500</td>\n",
       "      <td>0.000300</td>\n",
       "      <td>0.000286</td>\n",
       "      <td>0.000122</td>\n",
       "      <td>0.000163</td>\n",
       "    </tr>\n",
       "    <tr>\n",
       "      <td>10600</td>\n",
       "      <td>0.000300</td>\n",
       "      <td>0.000283</td>\n",
       "      <td>0.000121</td>\n",
       "      <td>0.000162</td>\n",
       "    </tr>\n",
       "    <tr>\n",
       "      <td>10700</td>\n",
       "      <td>0.000300</td>\n",
       "      <td>0.000280</td>\n",
       "      <td>0.000120</td>\n",
       "      <td>0.000160</td>\n",
       "    </tr>\n",
       "    <tr>\n",
       "      <td>10800</td>\n",
       "      <td>0.000300</td>\n",
       "      <td>0.000277</td>\n",
       "      <td>0.000119</td>\n",
       "      <td>0.000158</td>\n",
       "    </tr>\n",
       "    <tr>\n",
       "      <td>10900</td>\n",
       "      <td>0.000300</td>\n",
       "      <td>0.000275</td>\n",
       "      <td>0.000118</td>\n",
       "      <td>0.000157</td>\n",
       "    </tr>\n",
       "    <tr>\n",
       "      <td>11000</td>\n",
       "      <td>0.000300</td>\n",
       "      <td>0.000273</td>\n",
       "      <td>0.000118</td>\n",
       "      <td>0.000155</td>\n",
       "    </tr>\n",
       "    <tr>\n",
       "      <td>11100</td>\n",
       "      <td>0.000300</td>\n",
       "      <td>0.000267</td>\n",
       "      <td>0.000116</td>\n",
       "      <td>0.000151</td>\n",
       "    </tr>\n",
       "    <tr>\n",
       "      <td>11200</td>\n",
       "      <td>0.000300</td>\n",
       "      <td>0.000266</td>\n",
       "      <td>0.000116</td>\n",
       "      <td>0.000151</td>\n",
       "    </tr>\n",
       "    <tr>\n",
       "      <td>11300</td>\n",
       "      <td>0.000300</td>\n",
       "      <td>0.000264</td>\n",
       "      <td>0.000115</td>\n",
       "      <td>0.000149</td>\n",
       "    </tr>\n",
       "    <tr>\n",
       "      <td>11400</td>\n",
       "      <td>0.000300</td>\n",
       "      <td>0.000260</td>\n",
       "      <td>0.000113</td>\n",
       "      <td>0.000146</td>\n",
       "    </tr>\n",
       "    <tr>\n",
       "      <td>11500</td>\n",
       "      <td>0.000300</td>\n",
       "      <td>0.000257</td>\n",
       "      <td>0.000113</td>\n",
       "      <td>0.000144</td>\n",
       "    </tr>\n",
       "    <tr>\n",
       "      <td>11600</td>\n",
       "      <td>0.000300</td>\n",
       "      <td>0.000253</td>\n",
       "      <td>0.000112</td>\n",
       "      <td>0.000141</td>\n",
       "    </tr>\n",
       "    <tr>\n",
       "      <td>11700</td>\n",
       "      <td>0.000300</td>\n",
       "      <td>0.000250</td>\n",
       "      <td>0.000111</td>\n",
       "      <td>0.000139</td>\n",
       "    </tr>\n",
       "    <tr>\n",
       "      <td>11800</td>\n",
       "      <td>0.000300</td>\n",
       "      <td>0.000249</td>\n",
       "      <td>0.000111</td>\n",
       "      <td>0.000138</td>\n",
       "    </tr>\n",
       "    <tr>\n",
       "      <td>11900</td>\n",
       "      <td>0.000300</td>\n",
       "      <td>0.000246</td>\n",
       "      <td>0.000110</td>\n",
       "      <td>0.000136</td>\n",
       "    </tr>\n",
       "    <tr>\n",
       "      <td>12000</td>\n",
       "      <td>0.000300</td>\n",
       "      <td>0.000245</td>\n",
       "      <td>0.000110</td>\n",
       "      <td>0.000136</td>\n",
       "    </tr>\n",
       "    <tr>\n",
       "      <td>12100</td>\n",
       "      <td>0.000300</td>\n",
       "      <td>0.000241</td>\n",
       "      <td>0.000109</td>\n",
       "      <td>0.000132</td>\n",
       "    </tr>\n",
       "    <tr>\n",
       "      <td>12200</td>\n",
       "      <td>0.000300</td>\n",
       "      <td>0.000238</td>\n",
       "      <td>0.000108</td>\n",
       "      <td>0.000130</td>\n",
       "    </tr>\n",
       "    <tr>\n",
       "      <td>12300</td>\n",
       "      <td>0.000300</td>\n",
       "      <td>0.000236</td>\n",
       "      <td>0.000108</td>\n",
       "      <td>0.000129</td>\n",
       "    </tr>\n",
       "    <tr>\n",
       "      <td>12400</td>\n",
       "      <td>0.000300</td>\n",
       "      <td>0.000232</td>\n",
       "      <td>0.000106</td>\n",
       "      <td>0.000126</td>\n",
       "    </tr>\n",
       "    <tr>\n",
       "      <td>12500</td>\n",
       "      <td>0.000300</td>\n",
       "      <td>0.000231</td>\n",
       "      <td>0.000106</td>\n",
       "      <td>0.000125</td>\n",
       "    </tr>\n",
       "    <tr>\n",
       "      <td>12600</td>\n",
       "      <td>0.000300</td>\n",
       "      <td>0.000230</td>\n",
       "      <td>0.000105</td>\n",
       "      <td>0.000124</td>\n",
       "    </tr>\n",
       "    <tr>\n",
       "      <td>12700</td>\n",
       "      <td>0.000300</td>\n",
       "      <td>0.000225</td>\n",
       "      <td>0.000104</td>\n",
       "      <td>0.000121</td>\n",
       "    </tr>\n",
       "    <tr>\n",
       "      <td>12800</td>\n",
       "      <td>0.000300</td>\n",
       "      <td>0.000222</td>\n",
       "      <td>0.000104</td>\n",
       "      <td>0.000118</td>\n",
       "    </tr>\n",
       "    <tr>\n",
       "      <td>12900</td>\n",
       "      <td>0.000300</td>\n",
       "      <td>0.000220</td>\n",
       "      <td>0.000103</td>\n",
       "      <td>0.000117</td>\n",
       "    </tr>\n",
       "    <tr>\n",
       "      <td>13000</td>\n",
       "      <td>0.000300</td>\n",
       "      <td>0.000218</td>\n",
       "      <td>0.000103</td>\n",
       "      <td>0.000115</td>\n",
       "    </tr>\n",
       "    <tr>\n",
       "      <td>13100</td>\n",
       "      <td>0.000200</td>\n",
       "      <td>0.000216</td>\n",
       "      <td>0.000102</td>\n",
       "      <td>0.000114</td>\n",
       "    </tr>\n",
       "    <tr>\n",
       "      <td>13200</td>\n",
       "      <td>0.000200</td>\n",
       "      <td>0.000213</td>\n",
       "      <td>0.000101</td>\n",
       "      <td>0.000112</td>\n",
       "    </tr>\n",
       "    <tr>\n",
       "      <td>13300</td>\n",
       "      <td>0.000200</td>\n",
       "      <td>0.000211</td>\n",
       "      <td>0.000101</td>\n",
       "      <td>0.000111</td>\n",
       "    </tr>\n",
       "    <tr>\n",
       "      <td>13400</td>\n",
       "      <td>0.000200</td>\n",
       "      <td>0.000209</td>\n",
       "      <td>0.000100</td>\n",
       "      <td>0.000109</td>\n",
       "    </tr>\n",
       "    <tr>\n",
       "      <td>13500</td>\n",
       "      <td>0.000200</td>\n",
       "      <td>0.000207</td>\n",
       "      <td>0.000099</td>\n",
       "      <td>0.000107</td>\n",
       "    </tr>\n",
       "    <tr>\n",
       "      <td>13600</td>\n",
       "      <td>0.000200</td>\n",
       "      <td>0.000206</td>\n",
       "      <td>0.000099</td>\n",
       "      <td>0.000107</td>\n",
       "    </tr>\n",
       "    <tr>\n",
       "      <td>13700</td>\n",
       "      <td>0.000200</td>\n",
       "      <td>0.000203</td>\n",
       "      <td>0.000098</td>\n",
       "      <td>0.000105</td>\n",
       "    </tr>\n",
       "    <tr>\n",
       "      <td>13800</td>\n",
       "      <td>0.000200</td>\n",
       "      <td>0.000200</td>\n",
       "      <td>0.000098</td>\n",
       "      <td>0.000103</td>\n",
       "    </tr>\n",
       "    <tr>\n",
       "      <td>13900</td>\n",
       "      <td>0.000200</td>\n",
       "      <td>0.000199</td>\n",
       "      <td>0.000097</td>\n",
       "      <td>0.000102</td>\n",
       "    </tr>\n",
       "    <tr>\n",
       "      <td>14000</td>\n",
       "      <td>0.000200</td>\n",
       "      <td>0.000196</td>\n",
       "      <td>0.000097</td>\n",
       "      <td>0.000099</td>\n",
       "    </tr>\n",
       "    <tr>\n",
       "      <td>14100</td>\n",
       "      <td>0.000200</td>\n",
       "      <td>0.000195</td>\n",
       "      <td>0.000096</td>\n",
       "      <td>0.000099</td>\n",
       "    </tr>\n",
       "    <tr>\n",
       "      <td>14200</td>\n",
       "      <td>0.000200</td>\n",
       "      <td>0.000193</td>\n",
       "      <td>0.000096</td>\n",
       "      <td>0.000097</td>\n",
       "    </tr>\n",
       "    <tr>\n",
       "      <td>14300</td>\n",
       "      <td>0.000200</td>\n",
       "      <td>0.000192</td>\n",
       "      <td>0.000096</td>\n",
       "      <td>0.000097</td>\n",
       "    </tr>\n",
       "    <tr>\n",
       "      <td>14400</td>\n",
       "      <td>0.000200</td>\n",
       "      <td>0.000190</td>\n",
       "      <td>0.000095</td>\n",
       "      <td>0.000095</td>\n",
       "    </tr>\n",
       "    <tr>\n",
       "      <td>14500</td>\n",
       "      <td>0.000200</td>\n",
       "      <td>0.000188</td>\n",
       "      <td>0.000095</td>\n",
       "      <td>0.000093</td>\n",
       "    </tr>\n",
       "    <tr>\n",
       "      <td>14600</td>\n",
       "      <td>0.000200</td>\n",
       "      <td>0.000185</td>\n",
       "      <td>0.000094</td>\n",
       "      <td>0.000092</td>\n",
       "    </tr>\n",
       "    <tr>\n",
       "      <td>14700</td>\n",
       "      <td>0.000200</td>\n",
       "      <td>0.000183</td>\n",
       "      <td>0.000093</td>\n",
       "      <td>0.000090</td>\n",
       "    </tr>\n",
       "    <tr>\n",
       "      <td>14800</td>\n",
       "      <td>0.000200</td>\n",
       "      <td>0.000182</td>\n",
       "      <td>0.000093</td>\n",
       "      <td>0.000089</td>\n",
       "    </tr>\n",
       "    <tr>\n",
       "      <td>14900</td>\n",
       "      <td>0.000200</td>\n",
       "      <td>0.000179</td>\n",
       "      <td>0.000092</td>\n",
       "      <td>0.000087</td>\n",
       "    </tr>\n",
       "    <tr>\n",
       "      <td>15000</td>\n",
       "      <td>0.000200</td>\n",
       "      <td>0.000179</td>\n",
       "      <td>0.000092</td>\n",
       "      <td>0.000087</td>\n",
       "    </tr>\n",
       "    <tr>\n",
       "      <td>15100</td>\n",
       "      <td>0.000200</td>\n",
       "      <td>0.000178</td>\n",
       "      <td>0.000092</td>\n",
       "      <td>0.000087</td>\n",
       "    </tr>\n",
       "    <tr>\n",
       "      <td>15200</td>\n",
       "      <td>0.000200</td>\n",
       "      <td>0.000175</td>\n",
       "      <td>0.000091</td>\n",
       "      <td>0.000084</td>\n",
       "    </tr>\n",
       "    <tr>\n",
       "      <td>15300</td>\n",
       "      <td>0.000200</td>\n",
       "      <td>0.000173</td>\n",
       "      <td>0.000090</td>\n",
       "      <td>0.000082</td>\n",
       "    </tr>\n",
       "    <tr>\n",
       "      <td>15400</td>\n",
       "      <td>0.000200</td>\n",
       "      <td>0.000172</td>\n",
       "      <td>0.000090</td>\n",
       "      <td>0.000082</td>\n",
       "    </tr>\n",
       "    <tr>\n",
       "      <td>15500</td>\n",
       "      <td>0.000200</td>\n",
       "      <td>0.000170</td>\n",
       "      <td>0.000090</td>\n",
       "      <td>0.000080</td>\n",
       "    </tr>\n",
       "    <tr>\n",
       "      <td>15600</td>\n",
       "      <td>0.000200</td>\n",
       "      <td>0.000168</td>\n",
       "      <td>0.000089</td>\n",
       "      <td>0.000079</td>\n",
       "    </tr>\n",
       "    <tr>\n",
       "      <td>15700</td>\n",
       "      <td>0.000200</td>\n",
       "      <td>0.000166</td>\n",
       "      <td>0.000089</td>\n",
       "      <td>0.000077</td>\n",
       "    </tr>\n",
       "    <tr>\n",
       "      <td>15800</td>\n",
       "      <td>0.000200</td>\n",
       "      <td>0.000165</td>\n",
       "      <td>0.000088</td>\n",
       "      <td>0.000077</td>\n",
       "    </tr>\n",
       "    <tr>\n",
       "      <td>15900</td>\n",
       "      <td>0.000200</td>\n",
       "      <td>0.000163</td>\n",
       "      <td>0.000088</td>\n",
       "      <td>0.000075</td>\n",
       "    </tr>\n",
       "    <tr>\n",
       "      <td>16000</td>\n",
       "      <td>0.000200</td>\n",
       "      <td>0.000163</td>\n",
       "      <td>0.000088</td>\n",
       "      <td>0.000075</td>\n",
       "    </tr>\n",
       "    <tr>\n",
       "      <td>16100</td>\n",
       "      <td>0.000200</td>\n",
       "      <td>0.000161</td>\n",
       "      <td>0.000087</td>\n",
       "      <td>0.000074</td>\n",
       "    </tr>\n",
       "    <tr>\n",
       "      <td>16200</td>\n",
       "      <td>0.000200</td>\n",
       "      <td>0.000160</td>\n",
       "      <td>0.000087</td>\n",
       "      <td>0.000072</td>\n",
       "    </tr>\n",
       "    <tr>\n",
       "      <td>16300</td>\n",
       "      <td>0.000200</td>\n",
       "      <td>0.000157</td>\n",
       "      <td>0.000086</td>\n",
       "      <td>0.000071</td>\n",
       "    </tr>\n",
       "    <tr>\n",
       "      <td>16400</td>\n",
       "      <td>0.000200</td>\n",
       "      <td>0.000156</td>\n",
       "      <td>0.000086</td>\n",
       "      <td>0.000070</td>\n",
       "    </tr>\n",
       "    <tr>\n",
       "      <td>16500</td>\n",
       "      <td>0.000200</td>\n",
       "      <td>0.000155</td>\n",
       "      <td>0.000086</td>\n",
       "      <td>0.000069</td>\n",
       "    </tr>\n",
       "    <tr>\n",
       "      <td>16600</td>\n",
       "      <td>0.000200</td>\n",
       "      <td>0.000153</td>\n",
       "      <td>0.000086</td>\n",
       "      <td>0.000067</td>\n",
       "    </tr>\n",
       "    <tr>\n",
       "      <td>16700</td>\n",
       "      <td>0.000200</td>\n",
       "      <td>0.000152</td>\n",
       "      <td>0.000085</td>\n",
       "      <td>0.000066</td>\n",
       "    </tr>\n",
       "    <tr>\n",
       "      <td>16800</td>\n",
       "      <td>0.000200</td>\n",
       "      <td>0.000151</td>\n",
       "      <td>0.000085</td>\n",
       "      <td>0.000066</td>\n",
       "    </tr>\n",
       "    <tr>\n",
       "      <td>16900</td>\n",
       "      <td>0.000200</td>\n",
       "      <td>0.000150</td>\n",
       "      <td>0.000085</td>\n",
       "      <td>0.000065</td>\n",
       "    </tr>\n",
       "    <tr>\n",
       "      <td>17000</td>\n",
       "      <td>0.000200</td>\n",
       "      <td>0.000150</td>\n",
       "      <td>0.000084</td>\n",
       "      <td>0.000065</td>\n",
       "    </tr>\n",
       "    <tr>\n",
       "      <td>17100</td>\n",
       "      <td>0.000200</td>\n",
       "      <td>0.000148</td>\n",
       "      <td>0.000084</td>\n",
       "      <td>0.000065</td>\n",
       "    </tr>\n",
       "    <tr>\n",
       "      <td>17200</td>\n",
       "      <td>0.000200</td>\n",
       "      <td>0.000146</td>\n",
       "      <td>0.000084</td>\n",
       "      <td>0.000062</td>\n",
       "    </tr>\n",
       "    <tr>\n",
       "      <td>17300</td>\n",
       "      <td>0.000200</td>\n",
       "      <td>0.000146</td>\n",
       "      <td>0.000083</td>\n",
       "      <td>0.000063</td>\n",
       "    </tr>\n",
       "    <tr>\n",
       "      <td>17400</td>\n",
       "      <td>0.000200</td>\n",
       "      <td>0.000145</td>\n",
       "      <td>0.000083</td>\n",
       "      <td>0.000062</td>\n",
       "    </tr>\n",
       "    <tr>\n",
       "      <td>17500</td>\n",
       "      <td>0.000200</td>\n",
       "      <td>0.000142</td>\n",
       "      <td>0.000083</td>\n",
       "      <td>0.000059</td>\n",
       "    </tr>\n",
       "    <tr>\n",
       "      <td>17600</td>\n",
       "      <td>0.000200</td>\n",
       "      <td>0.000142</td>\n",
       "      <td>0.000083</td>\n",
       "      <td>0.000059</td>\n",
       "    </tr>\n",
       "    <tr>\n",
       "      <td>17700</td>\n",
       "      <td>0.000200</td>\n",
       "      <td>0.000141</td>\n",
       "      <td>0.000083</td>\n",
       "      <td>0.000059</td>\n",
       "    </tr>\n",
       "    <tr>\n",
       "      <td>17800</td>\n",
       "      <td>0.000200</td>\n",
       "      <td>0.000140</td>\n",
       "      <td>0.000082</td>\n",
       "      <td>0.000058</td>\n",
       "    </tr>\n",
       "    <tr>\n",
       "      <td>17900</td>\n",
       "      <td>0.000200</td>\n",
       "      <td>0.000139</td>\n",
       "      <td>0.000082</td>\n",
       "      <td>0.000057</td>\n",
       "    </tr>\n",
       "    <tr>\n",
       "      <td>18000</td>\n",
       "      <td>0.000200</td>\n",
       "      <td>0.000137</td>\n",
       "      <td>0.000081</td>\n",
       "      <td>0.000056</td>\n",
       "    </tr>\n",
       "    <tr>\n",
       "      <td>18100</td>\n",
       "      <td>0.000200</td>\n",
       "      <td>0.000137</td>\n",
       "      <td>0.000081</td>\n",
       "      <td>0.000056</td>\n",
       "    </tr>\n",
       "    <tr>\n",
       "      <td>18200</td>\n",
       "      <td>0.000200</td>\n",
       "      <td>0.000136</td>\n",
       "      <td>0.000081</td>\n",
       "      <td>0.000055</td>\n",
       "    </tr>\n",
       "    <tr>\n",
       "      <td>18300</td>\n",
       "      <td>0.000200</td>\n",
       "      <td>0.000134</td>\n",
       "      <td>0.000081</td>\n",
       "      <td>0.000054</td>\n",
       "    </tr>\n",
       "    <tr>\n",
       "      <td>18400</td>\n",
       "      <td>0.000200</td>\n",
       "      <td>0.000133</td>\n",
       "      <td>0.000080</td>\n",
       "      <td>0.000053</td>\n",
       "    </tr>\n",
       "    <tr>\n",
       "      <td>18500</td>\n",
       "      <td>0.000200</td>\n",
       "      <td>0.000133</td>\n",
       "      <td>0.000080</td>\n",
       "      <td>0.000053</td>\n",
       "    </tr>\n",
       "    <tr>\n",
       "      <td>18600</td>\n",
       "      <td>0.000200</td>\n",
       "      <td>0.000132</td>\n",
       "      <td>0.000080</td>\n",
       "      <td>0.000052</td>\n",
       "    </tr>\n",
       "    <tr>\n",
       "      <td>18700</td>\n",
       "      <td>0.000200</td>\n",
       "      <td>0.000131</td>\n",
       "      <td>0.000080</td>\n",
       "      <td>0.000051</td>\n",
       "    </tr>\n",
       "    <tr>\n",
       "      <td>18800</td>\n",
       "      <td>0.000200</td>\n",
       "      <td>0.000131</td>\n",
       "      <td>0.000080</td>\n",
       "      <td>0.000051</td>\n",
       "    </tr>\n",
       "    <tr>\n",
       "      <td>18900</td>\n",
       "      <td>0.000200</td>\n",
       "      <td>0.000129</td>\n",
       "      <td>0.000079</td>\n",
       "      <td>0.000050</td>\n",
       "    </tr>\n",
       "    <tr>\n",
       "      <td>19000</td>\n",
       "      <td>0.000100</td>\n",
       "      <td>0.000128</td>\n",
       "      <td>0.000079</td>\n",
       "      <td>0.000049</td>\n",
       "    </tr>\n",
       "    <tr>\n",
       "      <td>19100</td>\n",
       "      <td>0.000100</td>\n",
       "      <td>0.000127</td>\n",
       "      <td>0.000079</td>\n",
       "      <td>0.000048</td>\n",
       "    </tr>\n",
       "    <tr>\n",
       "      <td>19200</td>\n",
       "      <td>0.000200</td>\n",
       "      <td>0.000127</td>\n",
       "      <td>0.000079</td>\n",
       "      <td>0.000048</td>\n",
       "    </tr>\n",
       "    <tr>\n",
       "      <td>19300</td>\n",
       "      <td>0.000100</td>\n",
       "      <td>0.000126</td>\n",
       "      <td>0.000078</td>\n",
       "      <td>0.000047</td>\n",
       "    </tr>\n",
       "    <tr>\n",
       "      <td>19400</td>\n",
       "      <td>0.000100</td>\n",
       "      <td>0.000125</td>\n",
       "      <td>0.000078</td>\n",
       "      <td>0.000047</td>\n",
       "    </tr>\n",
       "    <tr>\n",
       "      <td>19500</td>\n",
       "      <td>0.000100</td>\n",
       "      <td>0.000125</td>\n",
       "      <td>0.000078</td>\n",
       "      <td>0.000047</td>\n",
       "    </tr>\n",
       "    <tr>\n",
       "      <td>19600</td>\n",
       "      <td>0.000100</td>\n",
       "      <td>0.000123</td>\n",
       "      <td>0.000077</td>\n",
       "      <td>0.000046</td>\n",
       "    </tr>\n",
       "    <tr>\n",
       "      <td>19700</td>\n",
       "      <td>0.000100</td>\n",
       "      <td>0.000123</td>\n",
       "      <td>0.000077</td>\n",
       "      <td>0.000045</td>\n",
       "    </tr>\n",
       "    <tr>\n",
       "      <td>19800</td>\n",
       "      <td>0.000100</td>\n",
       "      <td>0.000122</td>\n",
       "      <td>0.000077</td>\n",
       "      <td>0.000045</td>\n",
       "    </tr>\n",
       "    <tr>\n",
       "      <td>19900</td>\n",
       "      <td>0.000100</td>\n",
       "      <td>0.000122</td>\n",
       "      <td>0.000077</td>\n",
       "      <td>0.000045</td>\n",
       "    </tr>\n",
       "    <tr>\n",
       "      <td>20000</td>\n",
       "      <td>0.000100</td>\n",
       "      <td>0.000121</td>\n",
       "      <td>0.000077</td>\n",
       "      <td>0.000044</td>\n",
       "    </tr>\n",
       "    <tr>\n",
       "      <td>20100</td>\n",
       "      <td>0.000100</td>\n",
       "      <td>0.000120</td>\n",
       "      <td>0.000077</td>\n",
       "      <td>0.000043</td>\n",
       "    </tr>\n",
       "    <tr>\n",
       "      <td>20200</td>\n",
       "      <td>0.000100</td>\n",
       "      <td>0.000120</td>\n",
       "      <td>0.000077</td>\n",
       "      <td>0.000043</td>\n",
       "    </tr>\n",
       "    <tr>\n",
       "      <td>20300</td>\n",
       "      <td>0.000100</td>\n",
       "      <td>0.000119</td>\n",
       "      <td>0.000076</td>\n",
       "      <td>0.000042</td>\n",
       "    </tr>\n",
       "    <tr>\n",
       "      <td>20400</td>\n",
       "      <td>0.000100</td>\n",
       "      <td>0.000118</td>\n",
       "      <td>0.000076</td>\n",
       "      <td>0.000042</td>\n",
       "    </tr>\n",
       "    <tr>\n",
       "      <td>20500</td>\n",
       "      <td>0.000100</td>\n",
       "      <td>0.000117</td>\n",
       "      <td>0.000076</td>\n",
       "      <td>0.000041</td>\n",
       "    </tr>\n",
       "    <tr>\n",
       "      <td>20600</td>\n",
       "      <td>0.000100</td>\n",
       "      <td>0.000117</td>\n",
       "      <td>0.000076</td>\n",
       "      <td>0.000041</td>\n",
       "    </tr>\n",
       "    <tr>\n",
       "      <td>20700</td>\n",
       "      <td>0.000100</td>\n",
       "      <td>0.000116</td>\n",
       "      <td>0.000075</td>\n",
       "      <td>0.000040</td>\n",
       "    </tr>\n",
       "    <tr>\n",
       "      <td>20800</td>\n",
       "      <td>0.000100</td>\n",
       "      <td>0.000117</td>\n",
       "      <td>0.000076</td>\n",
       "      <td>0.000041</td>\n",
       "    </tr>\n",
       "    <tr>\n",
       "      <td>20900</td>\n",
       "      <td>0.000100</td>\n",
       "      <td>0.000114</td>\n",
       "      <td>0.000075</td>\n",
       "      <td>0.000039</td>\n",
       "    </tr>\n",
       "    <tr>\n",
       "      <td>21000</td>\n",
       "      <td>0.000100</td>\n",
       "      <td>0.000114</td>\n",
       "      <td>0.000075</td>\n",
       "      <td>0.000039</td>\n",
       "    </tr>\n",
       "    <tr>\n",
       "      <td>21100</td>\n",
       "      <td>0.000100</td>\n",
       "      <td>0.000114</td>\n",
       "      <td>0.000075</td>\n",
       "      <td>0.000039</td>\n",
       "    </tr>\n",
       "    <tr>\n",
       "      <td>21200</td>\n",
       "      <td>0.000100</td>\n",
       "      <td>0.000112</td>\n",
       "      <td>0.000074</td>\n",
       "      <td>0.000038</td>\n",
       "    </tr>\n",
       "    <tr>\n",
       "      <td>21300</td>\n",
       "      <td>0.000100</td>\n",
       "      <td>0.000112</td>\n",
       "      <td>0.000074</td>\n",
       "      <td>0.000038</td>\n",
       "    </tr>\n",
       "    <tr>\n",
       "      <td>21400</td>\n",
       "      <td>0.000100</td>\n",
       "      <td>0.000112</td>\n",
       "      <td>0.000074</td>\n",
       "      <td>0.000037</td>\n",
       "    </tr>\n",
       "    <tr>\n",
       "      <td>21500</td>\n",
       "      <td>0.000100</td>\n",
       "      <td>0.000110</td>\n",
       "      <td>0.000074</td>\n",
       "      <td>0.000036</td>\n",
       "    </tr>\n",
       "    <tr>\n",
       "      <td>21600</td>\n",
       "      <td>0.000100</td>\n",
       "      <td>0.000111</td>\n",
       "      <td>0.000074</td>\n",
       "      <td>0.000037</td>\n",
       "    </tr>\n",
       "    <tr>\n",
       "      <td>21700</td>\n",
       "      <td>0.000100</td>\n",
       "      <td>0.000110</td>\n",
       "      <td>0.000074</td>\n",
       "      <td>0.000036</td>\n",
       "    </tr>\n",
       "    <tr>\n",
       "      <td>21800</td>\n",
       "      <td>0.000100</td>\n",
       "      <td>0.000109</td>\n",
       "      <td>0.000074</td>\n",
       "      <td>0.000035</td>\n",
       "    </tr>\n",
       "    <tr>\n",
       "      <td>21900</td>\n",
       "      <td>0.000100</td>\n",
       "      <td>0.000108</td>\n",
       "      <td>0.000073</td>\n",
       "      <td>0.000035</td>\n",
       "    </tr>\n",
       "    <tr>\n",
       "      <td>22000</td>\n",
       "      <td>0.000100</td>\n",
       "      <td>0.000108</td>\n",
       "      <td>0.000073</td>\n",
       "      <td>0.000035</td>\n",
       "    </tr>\n",
       "    <tr>\n",
       "      <td>22100</td>\n",
       "      <td>0.000100</td>\n",
       "      <td>0.000107</td>\n",
       "      <td>0.000073</td>\n",
       "      <td>0.000034</td>\n",
       "    </tr>\n",
       "    <tr>\n",
       "      <td>22200</td>\n",
       "      <td>0.000100</td>\n",
       "      <td>0.000107</td>\n",
       "      <td>0.000073</td>\n",
       "      <td>0.000034</td>\n",
       "    </tr>\n",
       "    <tr>\n",
       "      <td>22300</td>\n",
       "      <td>0.000100</td>\n",
       "      <td>0.000106</td>\n",
       "      <td>0.000073</td>\n",
       "      <td>0.000034</td>\n",
       "    </tr>\n",
       "    <tr>\n",
       "      <td>22400</td>\n",
       "      <td>0.000100</td>\n",
       "      <td>0.000106</td>\n",
       "      <td>0.000072</td>\n",
       "      <td>0.000033</td>\n",
       "    </tr>\n",
       "    <tr>\n",
       "      <td>22500</td>\n",
       "      <td>0.000100</td>\n",
       "      <td>0.000106</td>\n",
       "      <td>0.000072</td>\n",
       "      <td>0.000034</td>\n",
       "    </tr>\n",
       "    <tr>\n",
       "      <td>22600</td>\n",
       "      <td>0.000100</td>\n",
       "      <td>0.000105</td>\n",
       "      <td>0.000072</td>\n",
       "      <td>0.000033</td>\n",
       "    </tr>\n",
       "    <tr>\n",
       "      <td>22700</td>\n",
       "      <td>0.000100</td>\n",
       "      <td>0.000104</td>\n",
       "      <td>0.000072</td>\n",
       "      <td>0.000032</td>\n",
       "    </tr>\n",
       "    <tr>\n",
       "      <td>22800</td>\n",
       "      <td>0.000100</td>\n",
       "      <td>0.000105</td>\n",
       "      <td>0.000072</td>\n",
       "      <td>0.000033</td>\n",
       "    </tr>\n",
       "    <tr>\n",
       "      <td>22900</td>\n",
       "      <td>0.000100</td>\n",
       "      <td>0.000103</td>\n",
       "      <td>0.000072</td>\n",
       "      <td>0.000031</td>\n",
       "    </tr>\n",
       "    <tr>\n",
       "      <td>23000</td>\n",
       "      <td>0.000100</td>\n",
       "      <td>0.000103</td>\n",
       "      <td>0.000072</td>\n",
       "      <td>0.000031</td>\n",
       "    </tr>\n",
       "    <tr>\n",
       "      <td>23100</td>\n",
       "      <td>0.000100</td>\n",
       "      <td>0.000102</td>\n",
       "      <td>0.000071</td>\n",
       "      <td>0.000031</td>\n",
       "    </tr>\n",
       "    <tr>\n",
       "      <td>23200</td>\n",
       "      <td>0.000100</td>\n",
       "      <td>0.000102</td>\n",
       "      <td>0.000071</td>\n",
       "      <td>0.000031</td>\n",
       "    </tr>\n",
       "    <tr>\n",
       "      <td>23300</td>\n",
       "      <td>0.000100</td>\n",
       "      <td>0.000102</td>\n",
       "      <td>0.000071</td>\n",
       "      <td>0.000031</td>\n",
       "    </tr>\n",
       "    <tr>\n",
       "      <td>23400</td>\n",
       "      <td>0.000100</td>\n",
       "      <td>0.000101</td>\n",
       "      <td>0.000071</td>\n",
       "      <td>0.000030</td>\n",
       "    </tr>\n",
       "    <tr>\n",
       "      <td>23500</td>\n",
       "      <td>0.000100</td>\n",
       "      <td>0.000101</td>\n",
       "      <td>0.000071</td>\n",
       "      <td>0.000030</td>\n",
       "    </tr>\n",
       "    <tr>\n",
       "      <td>23600</td>\n",
       "      <td>0.000100</td>\n",
       "      <td>0.000100</td>\n",
       "      <td>0.000070</td>\n",
       "      <td>0.000030</td>\n",
       "    </tr>\n",
       "    <tr>\n",
       "      <td>23700</td>\n",
       "      <td>0.000100</td>\n",
       "      <td>0.000100</td>\n",
       "      <td>0.000070</td>\n",
       "      <td>0.000029</td>\n",
       "    </tr>\n",
       "    <tr>\n",
       "      <td>23800</td>\n",
       "      <td>0.000100</td>\n",
       "      <td>0.000099</td>\n",
       "      <td>0.000070</td>\n",
       "      <td>0.000029</td>\n",
       "    </tr>\n",
       "    <tr>\n",
       "      <td>23900</td>\n",
       "      <td>0.000100</td>\n",
       "      <td>0.000099</td>\n",
       "      <td>0.000070</td>\n",
       "      <td>0.000029</td>\n",
       "    </tr>\n",
       "    <tr>\n",
       "      <td>24000</td>\n",
       "      <td>0.000100</td>\n",
       "      <td>0.000099</td>\n",
       "      <td>0.000070</td>\n",
       "      <td>0.000029</td>\n",
       "    </tr>\n",
       "    <tr>\n",
       "      <td>24100</td>\n",
       "      <td>0.000100</td>\n",
       "      <td>0.000098</td>\n",
       "      <td>0.000070</td>\n",
       "      <td>0.000028</td>\n",
       "    </tr>\n",
       "    <tr>\n",
       "      <td>24200</td>\n",
       "      <td>0.000100</td>\n",
       "      <td>0.000097</td>\n",
       "      <td>0.000070</td>\n",
       "      <td>0.000028</td>\n",
       "    </tr>\n",
       "    <tr>\n",
       "      <td>24300</td>\n",
       "      <td>0.000100</td>\n",
       "      <td>0.000097</td>\n",
       "      <td>0.000069</td>\n",
       "      <td>0.000028</td>\n",
       "    </tr>\n",
       "    <tr>\n",
       "      <td>24400</td>\n",
       "      <td>0.000100</td>\n",
       "      <td>0.000097</td>\n",
       "      <td>0.000070</td>\n",
       "      <td>0.000027</td>\n",
       "    </tr>\n",
       "    <tr>\n",
       "      <td>24500</td>\n",
       "      <td>0.000100</td>\n",
       "      <td>0.000097</td>\n",
       "      <td>0.000070</td>\n",
       "      <td>0.000027</td>\n",
       "    </tr>\n",
       "    <tr>\n",
       "      <td>24600</td>\n",
       "      <td>0.000100</td>\n",
       "      <td>0.000096</td>\n",
       "      <td>0.000069</td>\n",
       "      <td>0.000027</td>\n",
       "    </tr>\n",
       "    <tr>\n",
       "      <td>24700</td>\n",
       "      <td>0.000100</td>\n",
       "      <td>0.000096</td>\n",
       "      <td>0.000069</td>\n",
       "      <td>0.000026</td>\n",
       "    </tr>\n",
       "    <tr>\n",
       "      <td>24800</td>\n",
       "      <td>0.000100</td>\n",
       "      <td>0.000096</td>\n",
       "      <td>0.000069</td>\n",
       "      <td>0.000026</td>\n",
       "    </tr>\n",
       "    <tr>\n",
       "      <td>24900</td>\n",
       "      <td>0.000100</td>\n",
       "      <td>0.000095</td>\n",
       "      <td>0.000069</td>\n",
       "      <td>0.000026</td>\n",
       "    </tr>\n",
       "    <tr>\n",
       "      <td>25000</td>\n",
       "      <td>0.000100</td>\n",
       "      <td>0.000095</td>\n",
       "      <td>0.000069</td>\n",
       "      <td>0.000026</td>\n",
       "    </tr>\n",
       "    <tr>\n",
       "      <td>25100</td>\n",
       "      <td>0.000100</td>\n",
       "      <td>0.000094</td>\n",
       "      <td>0.000069</td>\n",
       "      <td>0.000025</td>\n",
       "    </tr>\n",
       "    <tr>\n",
       "      <td>25200</td>\n",
       "      <td>0.000100</td>\n",
       "      <td>0.000094</td>\n",
       "      <td>0.000069</td>\n",
       "      <td>0.000025</td>\n",
       "    </tr>\n",
       "    <tr>\n",
       "      <td>25300</td>\n",
       "      <td>0.000100</td>\n",
       "      <td>0.000093</td>\n",
       "      <td>0.000068</td>\n",
       "      <td>0.000025</td>\n",
       "    </tr>\n",
       "    <tr>\n",
       "      <td>25400</td>\n",
       "      <td>0.000100</td>\n",
       "      <td>0.000093</td>\n",
       "      <td>0.000068</td>\n",
       "      <td>0.000025</td>\n",
       "    </tr>\n",
       "    <tr>\n",
       "      <td>25500</td>\n",
       "      <td>0.000100</td>\n",
       "      <td>0.000093</td>\n",
       "      <td>0.000068</td>\n",
       "      <td>0.000025</td>\n",
       "    </tr>\n",
       "    <tr>\n",
       "      <td>25600</td>\n",
       "      <td>0.000100</td>\n",
       "      <td>0.000092</td>\n",
       "      <td>0.000068</td>\n",
       "      <td>0.000024</td>\n",
       "    </tr>\n",
       "    <tr>\n",
       "      <td>25700</td>\n",
       "      <td>0.000100</td>\n",
       "      <td>0.000092</td>\n",
       "      <td>0.000068</td>\n",
       "      <td>0.000024</td>\n",
       "    </tr>\n",
       "    <tr>\n",
       "      <td>25800</td>\n",
       "      <td>0.000100</td>\n",
       "      <td>0.000092</td>\n",
       "      <td>0.000068</td>\n",
       "      <td>0.000024</td>\n",
       "    </tr>\n",
       "    <tr>\n",
       "      <td>25900</td>\n",
       "      <td>0.000100</td>\n",
       "      <td>0.000091</td>\n",
       "      <td>0.000068</td>\n",
       "      <td>0.000024</td>\n",
       "    </tr>\n",
       "    <tr>\n",
       "      <td>26000</td>\n",
       "      <td>0.000100</td>\n",
       "      <td>0.000091</td>\n",
       "      <td>0.000067</td>\n",
       "      <td>0.000023</td>\n",
       "    </tr>\n",
       "    <tr>\n",
       "      <td>26100</td>\n",
       "      <td>0.000100</td>\n",
       "      <td>0.000091</td>\n",
       "      <td>0.000068</td>\n",
       "      <td>0.000023</td>\n",
       "    </tr>\n",
       "    <tr>\n",
       "      <td>26200</td>\n",
       "      <td>0.000100</td>\n",
       "      <td>0.000090</td>\n",
       "      <td>0.000067</td>\n",
       "      <td>0.000023</td>\n",
       "    </tr>\n",
       "    <tr>\n",
       "      <td>26300</td>\n",
       "      <td>0.000100</td>\n",
       "      <td>0.000090</td>\n",
       "      <td>0.000067</td>\n",
       "      <td>0.000023</td>\n",
       "    </tr>\n",
       "    <tr>\n",
       "      <td>26400</td>\n",
       "      <td>0.000100</td>\n",
       "      <td>0.000090</td>\n",
       "      <td>0.000067</td>\n",
       "      <td>0.000023</td>\n",
       "    </tr>\n",
       "    <tr>\n",
       "      <td>26500</td>\n",
       "      <td>0.000100</td>\n",
       "      <td>0.000090</td>\n",
       "      <td>0.000067</td>\n",
       "      <td>0.000023</td>\n",
       "    </tr>\n",
       "    <tr>\n",
       "      <td>26600</td>\n",
       "      <td>0.000100</td>\n",
       "      <td>0.000089</td>\n",
       "      <td>0.000067</td>\n",
       "      <td>0.000022</td>\n",
       "    </tr>\n",
       "    <tr>\n",
       "      <td>26700</td>\n",
       "      <td>0.000100</td>\n",
       "      <td>0.000089</td>\n",
       "      <td>0.000067</td>\n",
       "      <td>0.000022</td>\n",
       "    </tr>\n",
       "    <tr>\n",
       "      <td>26800</td>\n",
       "      <td>0.000100</td>\n",
       "      <td>0.000088</td>\n",
       "      <td>0.000066</td>\n",
       "      <td>0.000022</td>\n",
       "    </tr>\n",
       "    <tr>\n",
       "      <td>26900</td>\n",
       "      <td>0.000100</td>\n",
       "      <td>0.000088</td>\n",
       "      <td>0.000066</td>\n",
       "      <td>0.000022</td>\n",
       "    </tr>\n",
       "    <tr>\n",
       "      <td>27000</td>\n",
       "      <td>0.000100</td>\n",
       "      <td>0.000088</td>\n",
       "      <td>0.000066</td>\n",
       "      <td>0.000021</td>\n",
       "    </tr>\n",
       "    <tr>\n",
       "      <td>27100</td>\n",
       "      <td>0.000100</td>\n",
       "      <td>0.000088</td>\n",
       "      <td>0.000066</td>\n",
       "      <td>0.000021</td>\n",
       "    </tr>\n",
       "    <tr>\n",
       "      <td>27200</td>\n",
       "      <td>0.000100</td>\n",
       "      <td>0.000088</td>\n",
       "      <td>0.000066</td>\n",
       "      <td>0.000022</td>\n",
       "    </tr>\n",
       "    <tr>\n",
       "      <td>27300</td>\n",
       "      <td>0.000100</td>\n",
       "      <td>0.000087</td>\n",
       "      <td>0.000066</td>\n",
       "      <td>0.000021</td>\n",
       "    </tr>\n",
       "    <tr>\n",
       "      <td>27400</td>\n",
       "      <td>0.000100</td>\n",
       "      <td>0.000087</td>\n",
       "      <td>0.000066</td>\n",
       "      <td>0.000021</td>\n",
       "    </tr>\n",
       "    <tr>\n",
       "      <td>27500</td>\n",
       "      <td>0.000100</td>\n",
       "      <td>0.000086</td>\n",
       "      <td>0.000066</td>\n",
       "      <td>0.000021</td>\n",
       "    </tr>\n",
       "    <tr>\n",
       "      <td>27600</td>\n",
       "      <td>0.000100</td>\n",
       "      <td>0.000086</td>\n",
       "      <td>0.000066</td>\n",
       "      <td>0.000020</td>\n",
       "    </tr>\n",
       "    <tr>\n",
       "      <td>27700</td>\n",
       "      <td>0.000100</td>\n",
       "      <td>0.000086</td>\n",
       "      <td>0.000065</td>\n",
       "      <td>0.000020</td>\n",
       "    </tr>\n",
       "    <tr>\n",
       "      <td>27800</td>\n",
       "      <td>0.000100</td>\n",
       "      <td>0.000091</td>\n",
       "      <td>0.000067</td>\n",
       "      <td>0.000024</td>\n",
       "    </tr>\n",
       "    <tr>\n",
       "      <td>27900</td>\n",
       "      <td>0.000100</td>\n",
       "      <td>0.000088</td>\n",
       "      <td>0.000067</td>\n",
       "      <td>0.000021</td>\n",
       "    </tr>\n",
       "    <tr>\n",
       "      <td>28000</td>\n",
       "      <td>0.000100</td>\n",
       "      <td>0.000087</td>\n",
       "      <td>0.000067</td>\n",
       "      <td>0.000020</td>\n",
       "    </tr>\n",
       "    <tr>\n",
       "      <td>28100</td>\n",
       "      <td>0.000100</td>\n",
       "      <td>0.000086</td>\n",
       "      <td>0.000066</td>\n",
       "      <td>0.000020</td>\n",
       "    </tr>\n",
       "    <tr>\n",
       "      <td>28200</td>\n",
       "      <td>0.000100</td>\n",
       "      <td>0.000086</td>\n",
       "      <td>0.000066</td>\n",
       "      <td>0.000020</td>\n",
       "    </tr>\n",
       "    <tr>\n",
       "      <td>28300</td>\n",
       "      <td>0.000100</td>\n",
       "      <td>0.000085</td>\n",
       "      <td>0.000066</td>\n",
       "      <td>0.000020</td>\n",
       "    </tr>\n",
       "    <tr>\n",
       "      <td>28400</td>\n",
       "      <td>0.000100</td>\n",
       "      <td>0.000085</td>\n",
       "      <td>0.000066</td>\n",
       "      <td>0.000019</td>\n",
       "    </tr>\n",
       "    <tr>\n",
       "      <td>28500</td>\n",
       "      <td>0.000100</td>\n",
       "      <td>0.000085</td>\n",
       "      <td>0.000066</td>\n",
       "      <td>0.000019</td>\n",
       "    </tr>\n",
       "    <tr>\n",
       "      <td>28600</td>\n",
       "      <td>0.000100</td>\n",
       "      <td>0.000085</td>\n",
       "      <td>0.000065</td>\n",
       "      <td>0.000019</td>\n",
       "    </tr>\n",
       "    <tr>\n",
       "      <td>28700</td>\n",
       "      <td>0.000100</td>\n",
       "      <td>0.000085</td>\n",
       "      <td>0.000066</td>\n",
       "      <td>0.000019</td>\n",
       "    </tr>\n",
       "    <tr>\n",
       "      <td>28800</td>\n",
       "      <td>0.000100</td>\n",
       "      <td>0.000084</td>\n",
       "      <td>0.000065</td>\n",
       "      <td>0.000019</td>\n",
       "    </tr>\n",
       "    <tr>\n",
       "      <td>28900</td>\n",
       "      <td>0.000100</td>\n",
       "      <td>0.000084</td>\n",
       "      <td>0.000065</td>\n",
       "      <td>0.000019</td>\n",
       "    </tr>\n",
       "    <tr>\n",
       "      <td>29000</td>\n",
       "      <td>0.000100</td>\n",
       "      <td>0.000083</td>\n",
       "      <td>0.000065</td>\n",
       "      <td>0.000018</td>\n",
       "    </tr>\n",
       "    <tr>\n",
       "      <td>29100</td>\n",
       "      <td>0.000100</td>\n",
       "      <td>0.000083</td>\n",
       "      <td>0.000065</td>\n",
       "      <td>0.000018</td>\n",
       "    </tr>\n",
       "    <tr>\n",
       "      <td>29200</td>\n",
       "      <td>0.000100</td>\n",
       "      <td>0.000083</td>\n",
       "      <td>0.000065</td>\n",
       "      <td>0.000018</td>\n",
       "    </tr>\n",
       "    <tr>\n",
       "      <td>29300</td>\n",
       "      <td>0.000100</td>\n",
       "      <td>0.000083</td>\n",
       "      <td>0.000064</td>\n",
       "      <td>0.000018</td>\n",
       "    </tr>\n",
       "    <tr>\n",
       "      <td>29400</td>\n",
       "      <td>0.000100</td>\n",
       "      <td>0.000082</td>\n",
       "      <td>0.000064</td>\n",
       "      <td>0.000018</td>\n",
       "    </tr>\n",
       "    <tr>\n",
       "      <td>29500</td>\n",
       "      <td>0.000100</td>\n",
       "      <td>0.000082</td>\n",
       "      <td>0.000064</td>\n",
       "      <td>0.000018</td>\n",
       "    </tr>\n",
       "    <tr>\n",
       "      <td>29600</td>\n",
       "      <td>0.000100</td>\n",
       "      <td>0.000082</td>\n",
       "      <td>0.000064</td>\n",
       "      <td>0.000018</td>\n",
       "    </tr>\n",
       "    <tr>\n",
       "      <td>29700</td>\n",
       "      <td>0.000100</td>\n",
       "      <td>0.000081</td>\n",
       "      <td>0.000064</td>\n",
       "      <td>0.000017</td>\n",
       "    </tr>\n",
       "    <tr>\n",
       "      <td>29800</td>\n",
       "      <td>0.000100</td>\n",
       "      <td>0.000081</td>\n",
       "      <td>0.000064</td>\n",
       "      <td>0.000017</td>\n",
       "    </tr>\n",
       "    <tr>\n",
       "      <td>29900</td>\n",
       "      <td>0.000100</td>\n",
       "      <td>0.000081</td>\n",
       "      <td>0.000064</td>\n",
       "      <td>0.000017</td>\n",
       "    </tr>\n",
       "    <tr>\n",
       "      <td>30000</td>\n",
       "      <td>0.000100</td>\n",
       "      <td>0.000081</td>\n",
       "      <td>0.000063</td>\n",
       "      <td>0.000017</td>\n",
       "    </tr>\n",
       "    <tr>\n",
       "      <td>30100</td>\n",
       "      <td>0.000100</td>\n",
       "      <td>0.000081</td>\n",
       "      <td>0.000064</td>\n",
       "      <td>0.000017</td>\n",
       "    </tr>\n",
       "    <tr>\n",
       "      <td>30200</td>\n",
       "      <td>0.000100</td>\n",
       "      <td>0.000081</td>\n",
       "      <td>0.000064</td>\n",
       "      <td>0.000017</td>\n",
       "    </tr>\n",
       "    <tr>\n",
       "      <td>30300</td>\n",
       "      <td>0.000100</td>\n",
       "      <td>0.000081</td>\n",
       "      <td>0.000064</td>\n",
       "      <td>0.000017</td>\n",
       "    </tr>\n",
       "    <tr>\n",
       "      <td>30400</td>\n",
       "      <td>0.000100</td>\n",
       "      <td>0.000080</td>\n",
       "      <td>0.000064</td>\n",
       "      <td>0.000017</td>\n",
       "    </tr>\n",
       "    <tr>\n",
       "      <td>30500</td>\n",
       "      <td>0.000100</td>\n",
       "      <td>0.000080</td>\n",
       "      <td>0.000064</td>\n",
       "      <td>0.000016</td>\n",
       "    </tr>\n",
       "    <tr>\n",
       "      <td>30600</td>\n",
       "      <td>0.000100</td>\n",
       "      <td>0.000080</td>\n",
       "      <td>0.000063</td>\n",
       "      <td>0.000017</td>\n",
       "    </tr>\n",
       "    <tr>\n",
       "      <td>30700</td>\n",
       "      <td>0.000100</td>\n",
       "      <td>0.000080</td>\n",
       "      <td>0.000063</td>\n",
       "      <td>0.000016</td>\n",
       "    </tr>\n",
       "    <tr>\n",
       "      <td>30800</td>\n",
       "      <td>0.000100</td>\n",
       "      <td>0.000079</td>\n",
       "      <td>0.000063</td>\n",
       "      <td>0.000016</td>\n",
       "    </tr>\n",
       "    <tr>\n",
       "      <td>30900</td>\n",
       "      <td>0.000100</td>\n",
       "      <td>0.000080</td>\n",
       "      <td>0.000063</td>\n",
       "      <td>0.000016</td>\n",
       "    </tr>\n",
       "    <tr>\n",
       "      <td>31000</td>\n",
       "      <td>0.000100</td>\n",
       "      <td>0.000079</td>\n",
       "      <td>0.000063</td>\n",
       "      <td>0.000016</td>\n",
       "    </tr>\n",
       "    <tr>\n",
       "      <td>31100</td>\n",
       "      <td>0.000100</td>\n",
       "      <td>0.000079</td>\n",
       "      <td>0.000063</td>\n",
       "      <td>0.000016</td>\n",
       "    </tr>\n",
       "    <tr>\n",
       "      <td>31200</td>\n",
       "      <td>0.000100</td>\n",
       "      <td>0.000078</td>\n",
       "      <td>0.000063</td>\n",
       "      <td>0.000016</td>\n",
       "    </tr>\n",
       "    <tr>\n",
       "      <td>31300</td>\n",
       "      <td>0.000100</td>\n",
       "      <td>0.000079</td>\n",
       "      <td>0.000063</td>\n",
       "      <td>0.000016</td>\n",
       "    </tr>\n",
       "    <tr>\n",
       "      <td>31400</td>\n",
       "      <td>0.000100</td>\n",
       "      <td>0.000078</td>\n",
       "      <td>0.000063</td>\n",
       "      <td>0.000015</td>\n",
       "    </tr>\n",
       "    <tr>\n",
       "      <td>31500</td>\n",
       "      <td>0.000100</td>\n",
       "      <td>0.000078</td>\n",
       "      <td>0.000063</td>\n",
       "      <td>0.000015</td>\n",
       "    </tr>\n",
       "    <tr>\n",
       "      <td>31600</td>\n",
       "      <td>0.000100</td>\n",
       "      <td>0.000078</td>\n",
       "      <td>0.000063</td>\n",
       "      <td>0.000015</td>\n",
       "    </tr>\n",
       "    <tr>\n",
       "      <td>31700</td>\n",
       "      <td>0.000100</td>\n",
       "      <td>0.000078</td>\n",
       "      <td>0.000063</td>\n",
       "      <td>0.000015</td>\n",
       "    </tr>\n",
       "    <tr>\n",
       "      <td>31800</td>\n",
       "      <td>0.000100</td>\n",
       "      <td>0.000077</td>\n",
       "      <td>0.000062</td>\n",
       "      <td>0.000015</td>\n",
       "    </tr>\n",
       "    <tr>\n",
       "      <td>31900</td>\n",
       "      <td>0.000100</td>\n",
       "      <td>0.000077</td>\n",
       "      <td>0.000062</td>\n",
       "      <td>0.000015</td>\n",
       "    </tr>\n",
       "    <tr>\n",
       "      <td>32000</td>\n",
       "      <td>0.000100</td>\n",
       "      <td>0.000077</td>\n",
       "      <td>0.000062</td>\n",
       "      <td>0.000015</td>\n",
       "    </tr>\n",
       "    <tr>\n",
       "      <td>32100</td>\n",
       "      <td>0.000100</td>\n",
       "      <td>0.000077</td>\n",
       "      <td>0.000062</td>\n",
       "      <td>0.000015</td>\n",
       "    </tr>\n",
       "    <tr>\n",
       "      <td>32200</td>\n",
       "      <td>0.000100</td>\n",
       "      <td>0.000077</td>\n",
       "      <td>0.000062</td>\n",
       "      <td>0.000015</td>\n",
       "    </tr>\n",
       "    <tr>\n",
       "      <td>32300</td>\n",
       "      <td>0.000100</td>\n",
       "      <td>0.000077</td>\n",
       "      <td>0.000062</td>\n",
       "      <td>0.000015</td>\n",
       "    </tr>\n",
       "    <tr>\n",
       "      <td>32400</td>\n",
       "      <td>0.000100</td>\n",
       "      <td>0.000076</td>\n",
       "      <td>0.000062</td>\n",
       "      <td>0.000015</td>\n",
       "    </tr>\n",
       "  </tbody>\n",
       "</table><p>"
      ],
      "text/plain": [
       "<IPython.core.display.HTML object>"
      ]
     },
     "metadata": {},
     "output_type": "display_data"
    },
    {
     "name": "stderr",
     "output_type": "stream",
     "text": [
      "INFO:***** Running Evaluation *****\n",
      "INFO:  Num examples = 2970\n",
      "INFO:  Batch size = 32\n"
     ]
    },
    {
     "name": "stdout",
     "output_type": "stream",
     "text": [
      "\n",
      "\n",
      "\u001b[32;1m<s>\u001b[0m\u001b[31;1m-[Advanced]\u001b[0m\u001b[31;1m-[moderately]\u001b[0m\u001b[31;1m-[differentiated]\u001b[0m\u001b[31;1m the[neuro]\u001b[0m\u001b[31;1m-[end]\u001b[0m\u001b[31;1m-[ocrine]\u001b[0m\u001b[31;1m-[carcin]\u001b[0m\u001b[31;1m-[oma]\u001b[0m\u001b[32;1m of\u001b[0m\u001b[32;1m the\u001b[0m\u001b[31;1m the[rect]\u001b[0m\u001b[31;1m-[um]\u001b[0m\u001b[31;1m of[with]\u001b[0m\u001b[31;1m the[favorable]\u001b[0m\u001b[31;1m the[prog]\u001b[0m\u001b[31;1m-[nosis]\u001b[0m\u001b[31;1m</s>[by]\u001b[0m\u001b[31;1m the[post]\u001b[0m\u001b[31;1m-[operative]\u001b[0m\u001b[31;1m the[che]\u001b[0m\u001b[31;1m-[mor]\u001b[0m\u001b[31;1m-[ad]\u001b[0m\u001b[31;1m-[iation]\u001b[0m\u001b[32;1m</s>\u001b[0m\n",
      "\n",
      "\n"
     ]
    },
    {
     "name": "stderr",
     "output_type": "stream",
     "text": [
      "INFO:***** Running Evaluation *****\n",
      "INFO:  Num examples = 2970\n",
      "INFO:  Batch size = 32\n"
     ]
    },
    {
     "name": "stdout",
     "output_type": "stream",
     "text": [
      "\n",
      "\n",
      "\u001b[32;1m<s>\u001b[0m\u001b[32;1mThe\u001b[0m\u001b[31;1m the[impact]\u001b[0m\u001b[32;1m of\u001b[0m\u001b[31;1m the[removing]\u001b[0m\u001b[31;1m the[financial]\u001b[0m\u001b[31;1m-[incentives]\u001b[0m\u001b[31;1m of[from]\u001b[0m\u001b[31;1m the[clinical]\u001b[0m\u001b[31;1m-[quality]\u001b[0m\u001b[31;1m of[indicators]\u001b[0m\u001b[31;1m in[:]\u001b[0m\u001b[31;1m a[longitudinal]\u001b[0m\u001b[31;1m-[analysis]\u001b[0m\u001b[32;1m of\u001b[0m\u001b[31;1m the[four]\u001b[0m\u001b[31;1m-[Kaiser]\u001b[0m\u001b[31;1m-[P]\u001b[0m\u001b[31;1m-[erman]\u001b[0m\u001b[31;1m-[ente]\u001b[0m\u001b[31;1m</s>[indicators]\u001b[0m\u001b[32;1m</s>\u001b[0m\n",
      "\n",
      "\n"
     ]
    },
    {
     "name": "stderr",
     "output_type": "stream",
     "text": [
      "INFO:***** Running Evaluation *****\n",
      "INFO:  Num examples = 2970\n",
      "INFO:  Batch size = 32\n"
     ]
    },
    {
     "name": "stdout",
     "output_type": "stream",
     "text": [
      "\n",
      "\n",
      "\u001b[32;1m<s>\u001b[0m\u001b[31;1mThe[Design]\u001b[0m\u001b[31;1m of[and]\u001b[0m\u001b[31;1m the[development]\u001b[0m\u001b[32;1m of\u001b[0m\u001b[31;1m the[intra]\u001b[0m\u001b[31;1m-[ocular]\u001b[0m\u001b[31;1m-[poly]\u001b[0m\u001b[31;1mal[meric]\u001b[0m\u001b[31;1m-[implant]\u001b[0m\u001b[31;1m-[systems]\u001b[0m\u001b[31;1m in[for]\u001b[0m\u001b[31;1m the[long]\u001b[0m\u001b[32;1m-\u001b[0m\u001b[31;1m1[term]\u001b[0m\u001b[31;1m the[controlled]\u001b[0m\u001b[31;1m and[-]\u001b[0m\u001b[31;1m1[release]\u001b[0m\u001b[31;1m and[of]\u001b[0m\u001b[31;1m the[cl]\u001b[0m\u001b[31;1mal[ind]\u001b[0m\u001b[31;1mal[amy]\u001b[0m\u001b[31;1m-[cin]\u001b[0m\u001b[31;1m-[phosphate]\u001b[0m\u001b[31;1m-[for]\u001b[0m\u001b[31;1m the[tox]\u001b[0m\u001b[31;1mal[opl]\u001b[0m\u001b[31;1mal[asm]\u001b[0m\u001b[31;1mal[ic]\u001b[0m\u001b[31;1m and[ret]\u001b[0m\u001b[31;1mal[ino]\u001b[0m\u001b[31;1m-[ch]\u001b[0m\u001b[31;1mal[or]\u001b[0m\u001b[31;1mal[oid]\u001b[0m\u001b[31;1m-[itis]\u001b[0m\u001b[32;1m</s>\u001b[0m\n",
      "\n",
      "\n"
     ]
    },
    {
     "name": "stderr",
     "output_type": "stream",
     "text": [
      "INFO:***** Running Evaluation *****\n",
      "INFO:  Num examples = 2970\n",
      "INFO:  Batch size = 32\n"
     ]
    },
    {
     "name": "stdout",
     "output_type": "stream",
     "text": [
      "\n",
      "\n",
      "\u001b[32;1m<s>\u001b[0m\u001b[31;1mThe[Correction]\u001b[0m\u001b[31;1m of[to]\u001b[0m\u001b[31;1m the[�]\u001b[0m\u001b[31;1m�[�]\u001b[0m\u001b[31;1mL[Sw]\u001b[0m\u001b[31;1min[itching]\u001b[0m\u001b[31;1m of[from]\u001b[0m\u001b[31;1m the[Controlled]\u001b[0m\u001b[31;1m-[Ring]\u001b[0m\u001b[32;1m-\u001b[0m\u001b[31;1m1[Opening]\u001b[0m\u001b[31;1m and[Poly]\u001b[0m\u001b[31;1min[mer]\u001b[0m\u001b[31;1m-[ization]\u001b[0m\u001b[31;1m in[(]\u001b[0m\u001b[31;1mP[c]\u001b[0m\u001b[31;1men[R]\u001b[0m\u001b[31;1m)[OP]\u001b[0m\u001b[32;1m)\u001b[0m\u001b[31;1m and[to]\u001b[0m\u001b[31;1m the[Controlled]\u001b[0m\u001b[31;1m-[Ring]\u001b[0m\u001b[32;1m-\u001b[0m\u001b[31;1m1[Cl]\u001b[0m\u001b[31;1min[osing]\u001b[0m\u001b[31;1m and[Dep]\u001b[0m\u001b[31;1min[oly]\u001b[0m\u001b[31;1min[mer]\u001b[0m\u001b[31;1mal[ization]\u001b[0m\u001b[31;1m in[(]\u001b[0m\u001b[31;1mP[c]\u001b[0m\u001b[31;1m1[RC]\u001b[0m\u001b[31;1m)[DP]\u001b[0m\u001b[32;1m)\u001b[0m\u001b[31;1m and[by]\u001b[0m\u001b[31;1m the[Adjust]\u001b[0m\u001b[31;1mation[ing]\u001b[0m\u001b[32;1m the\u001b[0m\u001b[31;1m the[Reaction]\u001b[0m\u001b[31;1m of[Parameters]\u001b[0m\u001b[31;1m of[That]\u001b[0m\u001b[31;1m and[Deter]\u001b[0m\u001b[31;1min[mine]\u001b[0m\u001b[32;1m the\u001b[0m\u001b[31;1m the[Ce]\u001b[0m\u001b[31;1min[iling]\u001b[0m\u001b[31;1m of[Temperature]\u001b[0m\u001b[31;1m of[�]\u001b[0m\u001b[31;1m�[�]\u001b[0m\u001b[32;1m</s>\u001b[0m\n",
      "\n",
      "\n"
     ]
    },
    {
     "name": "stderr",
     "output_type": "stream",
     "text": [
      "INFO:***** Running Evaluation *****\n",
      "INFO:  Num examples = 2970\n",
      "INFO:  Batch size = 32\n"
     ]
    },
    {
     "name": "stdout",
     "output_type": "stream",
     "text": [
      "\n",
      "\n",
      "\u001b[32;1m<s>\u001b[0m\u001b[31;1mThe[Pre]\u001b[0m\u001b[31;1m-[val]\u001b[0m\u001b[31;1muation[ence]\u001b[0m\u001b[31;1m of[,]\u001b[0m\u001b[31;1m and[intensity]\u001b[0m\u001b[32;1m and\u001b[0m\u001b[31;1m the[risk]\u001b[0m\u001b[31;1m of[factors]\u001b[0m\u001b[32;1m of\u001b[0m\u001b[31;1m the[t]\u001b[0m\u001b[31;1m-[ung]\u001b[0m\u001b[31;1mic[iasis]\u001b[0m\u001b[32;1m in\u001b[0m\u001b[31;1m the[Kil]\u001b[0m\u001b[31;1mop[ifi]\u001b[0m\u001b[31;1m:[County]\u001b[0m\u001b[31;1m:[,]\u001b[0m\u001b[31;1m and[Kenya]\u001b[0m\u001b[31;1m:[II]\u001b[0m\u001b[32;1m:\u001b[0m\u001b[31;1m A[Results]\u001b[0m\u001b[31;1m of[from]\u001b[0m\u001b[31;1m the[a]\u001b[0m\u001b[31;1m study[school]\u001b[0m\u001b[31;1m study[-]\u001b[0m\u001b[32;1mbased\u001b[0m\u001b[31;1m study[observational]\u001b[0m\u001b[32;1m study\u001b[0m\u001b[32;1m</s>\u001b[0m\n",
      "\n",
      "\n"
     ]
    },
    {
     "name": "stderr",
     "output_type": "stream",
     "text": [
      "Saving model checkpoint to /lm_models/checkpoint-500\n",
      "Trainer.model is not a `PreTrainedModel`, only saving its state dict.\n",
      "/opt/conda/lib/python3.8/site-packages/torch/nn/parallel/_functions.py:68: UserWarning: Was asked to gather along dimension 0, but all input tensors were scalars; will instead unsqueeze and return a vector.\n",
      "  warnings.warn('Was asked to gather along dimension 0, but all '\n",
      "INFO:***** Running Evaluation *****\n",
      "INFO:  Num examples = 2970\n",
      "INFO:  Batch size = 32\n"
     ]
    },
    {
     "name": "stdout",
     "output_type": "stream",
     "text": [
      "\n",
      "\n",
      "\u001b[32;1m<s>\u001b[0m\u001b[31;1mThe[Compar]\u001b[0m\u001b[32;1mison\u001b[0m\u001b[32;1m of\u001b[0m\u001b[31;1m the[Performance]\u001b[0m\u001b[31;1m and[Achievement]\u001b[0m\u001b[31;1m and[Award]\u001b[0m\u001b[31;1m and[Recogn]\u001b[0m\u001b[31;1mation[ition]\u001b[0m\u001b[31;1m and[With]\u001b[0m\u001b[31;1m the[Primary]\u001b[0m\u001b[31;1m and[Stro]\u001b[0m\u001b[31;1mi[ke]\u001b[0m\u001b[31;1m and[Center]\u001b[0m\u001b[31;1m and[Certification]\u001b[0m\u001b[31;1m:[for]\u001b[0m\u001b[31;1m the[Ac]\u001b[0m\u001b[32;1mute\u001b[0m\u001b[31;1m and[Is]\u001b[0m\u001b[31;1mor[che]\u001b[0m\u001b[31;1mi[mic]\u001b[0m\u001b[31;1m and[Stro]\u001b[0m\u001b[31;1mi[ke]\u001b[0m\u001b[31;1m</s>[Care]\u001b[0m\u001b[32;1m</s>\u001b[0m\n",
      "\n",
      "\n"
     ]
    },
    {
     "name": "stderr",
     "output_type": "stream",
     "text": [
      "INFO:***** Running Evaluation *****\n",
      "INFO:  Num examples = 2970\n",
      "INFO:  Batch size = 32\n"
     ]
    },
    {
     "name": "stdout",
     "output_type": "stream",
     "text": [
      "\n",
      "\n",
      "\u001b[32;1m<s>\u001b[0m\u001b[31;1mThe[Advanced]\u001b[0m\u001b[31;1m and[moderately]\u001b[0m\u001b[31;1m-[differentiated]\u001b[0m\u001b[31;1m and[neuro]\u001b[0m\u001b[31;1mc[end]\u001b[0m\u001b[31;1mro[ocrine]\u001b[0m\u001b[31;1m cancer[carcin]\u001b[0m\u001b[32;1moma\u001b[0m\u001b[31;1m in[of]\u001b[0m\u001b[32;1m the\u001b[0m\u001b[31;1m human[rect]\u001b[0m\u001b[31;1mal[um]\u001b[0m\u001b[31;1m:[with]\u001b[0m\u001b[31;1m a[favorable]\u001b[0m\u001b[31;1m disease[prog]\u001b[0m\u001b[31;1mar[nosis]\u001b[0m\u001b[31;1m in[by]\u001b[0m\u001b[31;1m a[post]\u001b[0m\u001b[31;1m-[operative]\u001b[0m\u001b[31;1m and[che]\u001b[0m\u001b[31;1mpt[mor]\u001b[0m\u001b[31;1mine[ad]\u001b[0m\u001b[31;1min[iation]\u001b[0m\u001b[32;1m</s>\u001b[0m\n",
      "\n",
      "\n"
     ]
    },
    {
     "name": "stderr",
     "output_type": "stream",
     "text": [
      "INFO:***** Running Evaluation *****\n",
      "INFO:  Num examples = 2970\n",
      "INFO:  Batch size = 32\n"
     ]
    },
    {
     "name": "stdout",
     "output_type": "stream",
     "text": [
      "\n",
      "\n",
      "\u001b[32;1m<s>\u001b[0m\u001b[31;1mA[The]\u001b[0m\u001b[31;1m effect[effects]\u001b[0m\u001b[32;1m of\u001b[0m\u001b[31;1m the[short]\u001b[0m\u001b[32;1m-\u001b[0m\u001b[32;1mterm\u001b[0m\u001b[31;1m and[hyp]\u001b[0m\u001b[31;1mid[ox]\u001b[0m\u001b[31;1mid[ia]\u001b[0m\u001b[32;1m on\u001b[0m\u001b[31;1m the[human]\u001b[0m\u001b[31;1m cancer[mes]\u001b[0m\u001b[31;1moph[ench]\u001b[0m\u001b[32;1mym\u001b[0m\u001b[32;1mal\u001b[0m\u001b[31;1m cancer[stem]\u001b[0m\u001b[31;1m cancer[cell]\u001b[0m\u001b[31;1m cancer[proliferation]\u001b[0m\u001b[31;1m and[,]\u001b[0m\u001b[31;1m and[viability]\u001b[0m\u001b[32;1m and\u001b[0m\u001b[31;1m and[p]\u001b[0m\u001b[31;1mrotein[16]\u001b[0m\u001b[31;1m-[INK]\u001b[0m\u001b[31;1m-[4]\u001b[0m\u001b[31;1m in[A]\u001b[0m\u001b[31;1m in[mRNA]\u001b[0m\u001b[31;1m in[expression]\u001b[0m\u001b[31;1m in[:]\u001b[0m\u001b[31;1m a[Investigation]\u001b[0m\u001b[31;1m of[using]\u001b[0m\u001b[32;1m a\u001b[0m\u001b[31;1m novel[simple]\u001b[0m\u001b[31;1m,[hyp]\u001b[0m\u001b[31;1moph[oxic]\u001b[0m\u001b[31;1m,[culture]\u001b[0m\u001b[31;1m and[system]\u001b[0m\u001b[31;1m and[with]\u001b[0m\u001b[32;1m a\u001b[0m\u001b[31;1m novel[de]\u001b[0m\u001b[31;1m-[ox]\u001b[0m\u001b[32;1mid\u001b[0m\u001b[31;1mization[izing]\u001b[0m\u001b[31;1m,[agent]\u001b[0m\u001b[32;1m</s>\u001b[0m\n",
      "\n",
      "\n"
     ]
    },
    {
     "name": "stderr",
     "output_type": "stream",
     "text": [
      "INFO:***** Running Evaluation *****\n",
      "INFO:  Num examples = 2970\n",
      "INFO:  Batch size = 32\n"
     ]
    },
    {
     "name": "stdout",
     "output_type": "stream",
     "text": [
      "\n",
      "\n",
      "\u001b[32;1m<s>\u001b[0m\u001b[31;1mThe[805]\u001b[0m\u001b[31;1m-[.]\u001b[0m\u001b[31;1mS[Am]\u001b[0m\u001b[31;1mel[ik]\u001b[0m\u001b[31;1mine[ac]\u001b[0m\u001b[32;1min\u001b[0m\u001b[31;1m-[Lip]\u001b[0m\u001b[31;1mid[os]\u001b[0m\u001b[31;1mide[ome]\u001b[0m\u001b[31;1m-[In]\u001b[0m\u001b[31;1mhib[hal]\u001b[0m\u001b[31;1mate[ation]\u001b[0m\u001b[31;1m and[Susp]\u001b[0m\u001b[31;1mulation[ension]\u001b[0m\u001b[31;1m in[(]\u001b[0m\u001b[31;1mC[AL]\u001b[0m\u001b[31;1mP[IS]\u001b[0m\u001b[32;1m)\u001b[0m\u001b[31;1m and[Add]\u001b[0m\u001b[31;1men[-]\u001b[0m\u001b[31;1mS[on]\u001b[0m\u001b[31;1m-[Therapy]\u001b[0m\u001b[32;1m for\u001b[0m\u001b[31;1m the[Ref]\u001b[0m\u001b[31;1mibr[ract]\u001b[0m\u001b[31;1mive[ory]\u001b[0m\u001b[31;1m and[My]\u001b[0m\u001b[31;1mocard[c]\u001b[0m\u001b[32;1mob\u001b[0m\u001b[32;1macter\u001b[0m\u001b[32;1mium\u001b[0m\u001b[31;1m L[av]\u001b[0m\u001b[31;1mirus[ium]\u001b[0m\u001b[31;1m L[Complex]\u001b[0m\u001b[31;1mis[(]\u001b[0m\u001b[31;1mC[MAC]\u001b[0m\u001b[32;1m)\u001b[0m\u001b[31;1m and[Lung]\u001b[0m\u001b[31;1m Cancer[Disease]\u001b[0m\u001b[32;1m:\u001b[0m\u001b[31;1m A[Effect]\u001b[0m\u001b[32;1m of\u001b[0m\u001b[31;1m a[In]\u001b[0m\u001b[31;1mhibition[Vit]\u001b[0m\u001b[32;1mro\u001b[0m\u001b[31;1m and[Am]\u001b[0m\u001b[31;1mel[ik]\u001b[0m\u001b[31;1mine[ac]\u001b[0m\u001b[32;1min\u001b[0m\u001b[31;1m on[Sus]\u001b[0m\u001b[32;1mcept\u001b[0m\u001b[31;1mive[ibility]\u001b[0m\u001b[32;1m on\u001b[0m\u001b[31;1m the[Sp]\u001b[0m\u001b[31;1minal[ut]\u001b[0m\u001b[32;1mum\u001b[0m\u001b[31;1m</s>[Culture]\u001b[0m\u001b[31;1m</s>[Conversion]\u001b[0m\u001b[32;1m</s>\u001b[0m\n",
      "\n",
      "\n"
     ]
    },
    {
     "name": "stderr",
     "output_type": "stream",
     "text": [
      "INFO:***** Running Evaluation *****\n",
      "INFO:  Num examples = 2970\n",
      "INFO:  Batch size = 32\n"
     ]
    },
    {
     "name": "stdout",
     "output_type": "stream",
     "text": [
      "\n",
      "\n",
      "\u001b[32;1m<s>\u001b[0m\u001b[32;1mThe\u001b[0m\u001b[31;1m Effect[Chinese]\u001b[0m\u001b[31;1m T[Her]\u001b[0m\u001b[31;1mc[bal]\u001b[0m\u001b[31;1m Cancer[Formula]\u001b[0m\u001b[31;1m of[Shen]\u001b[0m\u001b[31;1mus[z]\u001b[0m\u001b[31;1mum[hu]\u001b[0m\u001b[31;1m,[T]\u001b[0m\u001b[31;1mum[ia]\u001b[0m\u001b[31;1m L[op]\u001b[0m\u001b[31;1mrotein[i]\u001b[0m\u001b[31;1m-[Gran]\u001b[0m\u001b[31;1mus[ule]\u001b[0m\u001b[31;1m In[Results]\u001b[0m\u001b[31;1m of[in]\u001b[0m\u001b[31;1m the[Met]\u001b[0m\u001b[31;1mast[abolic]\u001b[0m\u001b[31;1m and[Improvement]\u001b[0m\u001b[31;1m of[in]\u001b[0m\u001b[31;1m the[Type]\u001b[0m\u001b[32;1m 2\u001b[0m\u001b[31;1m Patients[Di]\u001b[0m\u001b[32;1mabetic\u001b[0m\u001b[31;1m Patients[Rats]\u001b[0m\u001b[31;1m of[by]\u001b[0m\u001b[31;1m the[Mod]\u001b[0m\u001b[31;1mulation[ulating]\u001b[0m\u001b[32;1m the\u001b[0m\u001b[31;1m Pro[Gut]\u001b[0m\u001b[31;1m</s>[Micro]\u001b[0m\u001b[31;1mgen[bi]\u001b[0m\u001b[31;1moma[ota]\u001b[0m\u001b[32;1m</s>\u001b[0m\n",
      "\n",
      "\n"
     ]
    },
    {
     "name": "stderr",
     "output_type": "stream",
     "text": [
      "Saving model checkpoint to /lm_models/checkpoint-1000\n",
      "Trainer.model is not a `PreTrainedModel`, only saving its state dict.\n",
      "Deleting older checkpoint [/lm_models/checkpoint-11500] due to args.save_total_limit\n",
      "/opt/conda/lib/python3.8/site-packages/torch/nn/parallel/_functions.py:68: UserWarning: Was asked to gather along dimension 0, but all input tensors were scalars; will instead unsqueeze and return a vector.\n",
      "  warnings.warn('Was asked to gather along dimension 0, but all '\n",
      "INFO:***** Running Evaluation *****\n",
      "INFO:  Num examples = 2970\n",
      "INFO:  Batch size = 32\n"
     ]
    },
    {
     "name": "stdout",
     "output_type": "stream",
     "text": [
      "\n",
      "\n",
      "\u001b[32;1m<s>\u001b[0m\u001b[31;1mA[N]\u001b[0m\u001b[31;1m-[ano]\u001b[0m\u001b[32;1m-\u001b[0m\u001b[31;1mL[P]\u001b[0m\u001b[31;1mredict[ulse]\u001b[0m\u001b[31;1m-[Stim]\u001b[0m\u001b[32;1mulation\u001b[0m\u001b[31;1m of[Ab]\u001b[0m\u001b[31;1mlation[l]\u001b[0m\u001b[31;1musion[ates]\u001b[0m\u001b[31;1m the[Orth]\u001b[0m\u001b[31;1mop[ot]\u001b[0m\u001b[31;1mhelial[opic]\u001b[0m\u001b[31;1m and[Rat]\u001b[0m\u001b[31;1m-[Hep]\u001b[0m\u001b[32;1mato\u001b[0m\u001b[32;1mcell\u001b[0m\u001b[32;1mular\u001b[0m\u001b[32;1m Car\u001b[0m\u001b[32;1mcin\u001b[0m\u001b[32;1moma\u001b[0m\u001b[32;1m and\u001b[0m\u001b[31;1m In[Ind]\u001b[0m\u001b[31;1muced[uces]\u001b[0m\u001b[31;1m E[Inn]\u001b[0m\u001b[31;1moc[ate]\u001b[0m\u001b[31;1m Cell[and]\u001b[0m\u001b[31;1m Pro[Adapt]\u001b[0m\u001b[31;1med[ive]\u001b[0m\u001b[31;1m Ant[Memory]\u001b[0m\u001b[31;1m-[Imm]\u001b[0m\u001b[32;1mune\u001b[0m\u001b[31;1m Cells[Mechan]\u001b[0m\u001b[31;1mism[isms]\u001b[0m\u001b[31;1m in[that]\u001b[0m\u001b[31;1m Associated[Prevent]\u001b[0m\u001b[31;1m Human[Rec]\u001b[0m\u001b[32;1murrence\u001b[0m\u001b[32;1m</s>\u001b[0m\n",
      "\n",
      "\n"
     ]
    },
    {
     "name": "stderr",
     "output_type": "stream",
     "text": [
      "INFO:***** Running Evaluation *****\n",
      "INFO:  Num examples = 2970\n",
      "INFO:  Batch size = 32\n"
     ]
    },
    {
     "name": "stdout",
     "output_type": "stream",
     "text": [
      "\n",
      "\n",
      "\u001b[32;1m<s>\u001b[0m\u001b[31;1mThe[Case]\u001b[0m\u001b[32;1m of\u001b[0m\u001b[31;1m the[En]\u001b[0m\u001b[31;1mzyme[larg]\u001b[0m\u001b[31;1med[ement]\u001b[0m\u001b[32;1m of\u001b[0m\u001b[32;1m the\u001b[0m\u001b[31;1m the[Heart]\u001b[0m\u001b[31;1m in[,]\u001b[0m\u001b[31;1m the[with]\u001b[0m\u001b[31;1m the[Poly]\u001b[0m\u001b[31;1mmorph[pi]\u001b[0m\u001b[31;1m and[,]\u001b[0m\u001b[31;1m and[&]\u001b[0m\u001b[31;1m the[c]\u001b[0m\u001b[32;1m.\u001b[0m\u001b[31;1m in[Which]\u001b[0m\u001b[31;1m of[Occ]\u001b[0m\u001b[31;1murrence[urred]\u001b[0m\u001b[31;1m in[on]\u001b[0m\u001b[31;1m the[Board]\u001b[0m\u001b[31;1m of[the]\u001b[0m\u001b[31;1m the[Honour]\u001b[0m\u001b[31;1m of[able]\u001b[0m\u001b[31;1m and[East]\u001b[0m\u001b[31;1m and[India]\u001b[0m\u001b[31;1m,[Company]\u001b[0m\u001b[31;1m of['s]\u001b[0m\u001b[31;1m Health[Ship]\u001b[0m\u001b[31;1m of[Carn]\u001b[0m\u001b[31;1mi[atic]\u001b[0m\u001b[31;1m Disease[</s>]\u001b[0m\n",
      "\n",
      "\n"
     ]
    },
    {
     "name": "stderr",
     "output_type": "stream",
     "text": [
      "INFO:***** Running Evaluation *****\n",
      "INFO:  Num examples = 2970\n",
      "INFO:  Batch size = 32\n"
     ]
    },
    {
     "name": "stdout",
     "output_type": "stream",
     "text": [
      "\n",
      "\n",
      "\u001b[32;1m<s>\u001b[0m\u001b[31;1mA[Det]\u001b[0m\u001b[32;1mection\u001b[0m\u001b[32;1m of\u001b[0m\u001b[32;1m a\u001b[0m\u001b[31;1m novel[CT]\u001b[0m\u001b[31;1m-[X]\u001b[0m\u001b[32;1m-\u001b[0m\u001b[31;1m1[M]\u001b[0m\u001b[31;1methyl[group]\u001b[0m\u001b[31;1m in[2]\u001b[0m\u001b[31;1m-[beta]\u001b[0m\u001b[32;1m-\u001b[0m\u001b[31;1m2[l]\u001b[0m\u001b[32;1mact\u001b[0m\u001b[31;1mob[am]\u001b[0m\u001b[31;1m in[ase]\u001b[0m\u001b[31;1m in[gene]\u001b[0m\u001b[32;1m in\u001b[0m\u001b[32;1m a\u001b[0m\u001b[31;1m patient[Kle]\u001b[0m\u001b[31;1mpt[bs]\u001b[0m\u001b[31;1moph[ie]\u001b[0m\u001b[32;1mlla\u001b[0m\u001b[31;1m-[pneumonia]\u001b[0m\u001b[32;1me\u001b[0m\u001b[31;1m-[isolate]\u001b[0m\u001b[31;1m ([from]\u001b[0m\u001b[32;1m a\u001b[0m\u001b[31;1m patient[tert]\u001b[0m\u001b[32;1miary\u001b[0m\u001b[31;1m-[care]\u001b[0m\u001b[31;1m model[hospital]\u001b[0m\u001b[31;1m in[,]\u001b[0m\u001b[31;1m a[Trinidad]\u001b[0m\u001b[31;1m,[and]\u001b[0m\u001b[31;1m India[Tob]\u001b[0m\u001b[31;1mus[ago]\u001b[0m\u001b[32;1m</s>\u001b[0m\n",
      "\n",
      "\n"
     ]
    },
    {
     "name": "stderr",
     "output_type": "stream",
     "text": [
      "INFO:***** Running Evaluation *****\n",
      "INFO:  Num examples = 2970\n",
      "INFO:  Batch size = 32\n"
     ]
    },
    {
     "name": "stdout",
     "output_type": "stream",
     "text": [
      "\n",
      "\n",
      "\u001b[32;1m<s>\u001b[0m\u001b[31;1mThe[Pro]\u001b[0m\u001b[32;1mgn\u001b[0m\u001b[32;1mostic\u001b[0m\u001b[31;1m and[Role]\u001b[0m\u001b[32;1m of\u001b[0m\u001b[31;1m T[High]\u001b[0m\u001b[32;1m-\u001b[0m\u001b[31;1mD[s]\u001b[0m\u001b[31;1murgical[ensitivity]\u001b[0m\u001b[31;1m T[Card]\u001b[0m\u001b[32;1miac\u001b[0m\u001b[31;1m T[Trop]\u001b[0m\u001b[31;1mic[on]\u001b[0m\u001b[31;1mary[in]\u001b[0m\u001b[31;1m in[I]\u001b[0m\u001b[32;1m and\u001b[0m\u001b[31;1m T[Sol]\u001b[0m\u001b[31;1miv[uble]\u001b[0m\u001b[31;1m-[Supp]\u001b[0m\u001b[32;1mression\u001b[0m\u001b[31;1m in[of]\u001b[0m\u001b[32;1m T\u001b[0m\u001b[32;1mum\u001b[0m\u001b[32;1mor\u001b[0m\u001b[31;1m-[igen]\u001b[0m\u001b[31;1mic[icity]\u001b[0m\u001b[31;1m in[-]\u001b[0m\u001b[31;1mInd[2]\u001b[0m\u001b[32;1m in\u001b[0m\u001b[31;1m Patients[S]\u001b[0m\u001b[32;1murgical\u001b[0m\u001b[31;1m Patients[Int]\u001b[0m\u001b[31;1mra[ensive]\u001b[0m\u001b[31;1m Patients[Care]\u001b[0m\u001b[31;1m Patients[Unit]\u001b[0m\u001b[31;1m-[Patients]\u001b[0m\u001b[31;1m with[Under]\u001b[0m\u001b[32;1mgoing\u001b[0m\u001b[31;1m T[Non]\u001b[0m\u001b[32;1m-\u001b[0m\u001b[31;1msmall[card]\u001b[0m\u001b[31;1mi[iac]\u001b[0m\u001b[31;1m Cancer[Surgery]\u001b[0m\u001b[32;1m</s>\u001b[0m\n",
      "\n",
      "\n"
     ]
    },
    {
     "name": "stderr",
     "output_type": "stream",
     "text": [
      "INFO:***** Running Evaluation *****\n",
      "INFO:  Num examples = 2970\n",
      "INFO:  Batch size = 32\n"
     ]
    },
    {
     "name": "stdout",
     "output_type": "stream",
     "text": [
      "\n",
      "\n",
      "\u001b[32;1m<s>\u001b[0m\u001b[31;1mA[Me]\u001b[0m\u001b[31;1masuring[iotic]\u001b[0m\u001b[31;1m and[analyses]\u001b[0m\u001b[31;1m of[show]\u001b[0m\u001b[31;1m the[adaptations]\u001b[0m\u001b[31;1m of[to]\u001b[0m\u001b[31;1m the[maintenance]\u001b[0m\u001b[32;1m of\u001b[0m\u001b[31;1m the[fertility]\u001b[0m\u001b[31;1m of[in]\u001b[0m\u001b[31;1m the[X]\u001b[0m\u001b[31;1m-[1]\u001b[0m\u001b[31;1m+[Y]\u001b[0m\u001b[31;1m2[1]\u001b[0m\u001b[31;1m/[X]\u001b[0m\u001b[32;1m2\u001b[0m\u001b[31;1m/[Y]\u001b[0m\u001b[32;1m2\u001b[0m\u001b[31;1m/[X]\u001b[0m\u001b[31;1m2[3]\u001b[0m\u001b[31;1m/[Y]\u001b[0m\u001b[31;1m2[3]\u001b[0m\u001b[31;1m/[X]\u001b[0m\u001b[31;1m2[4]\u001b[0m\u001b[31;1m/[Y]\u001b[0m\u001b[31;1m2[4]\u001b[0m\u001b[31;1m/[X]\u001b[0m\u001b[31;1m2[5]\u001b[0m\u001b[31;1m/[Y]\u001b[0m\u001b[31;1m2[5]\u001b[0m\u001b[31;1m/[system]\u001b[0m\u001b[31;1m ([of]\u001b[0m\u001b[31;1m the[am]\u001b[0m\u001b[31;1myl[azon]\u001b[0m\u001b[31;1min[frog]\u001b[0m\u001b[31;1m ([Le]\u001b[0m\u001b[31;1mish[pt]\u001b[0m\u001b[31;1mob[od]\u001b[0m\u001b[31;1mig[act]\u001b[0m\u001b[32;1myl\u001b[0m\u001b[31;1ma[us]\u001b[0m\u001b[31;1m L[pent]\u001b[0m\u001b[31;1moc[ad]\u001b[0m\u001b[31;1men[act]\u001b[0m\u001b[32;1myl\u001b[0m\u001b[32;1mus\u001b[0m\u001b[31;1m L[(]\u001b[0m\u001b[31;1mL[La]\u001b[0m\u001b[31;1m)[ure]\u001b[0m\u001b[31;1ma[nt]\u001b[0m\u001b[31;1mum[i]\u001b[0m\u001b[31;1m)[,]\u001b[0m\u001b[31;1m L[17]\u001b[0m\u001b[31;1m.[68]\u001b[0m\u001b[32;1m)\u001b[0m\u001b[32;1m</s>\u001b[0m\n",
      "\n",
      "\n"
     ]
    },
    {
     "name": "stderr",
     "output_type": "stream",
     "text": [
      "Saving model checkpoint to /lm_models/checkpoint-1500\n",
      "Trainer.model is not a `PreTrainedModel`, only saving its state dict.\n",
      "Deleting older checkpoint [/lm_models/checkpoint-12000] due to args.save_total_limit\n",
      "/opt/conda/lib/python3.8/site-packages/torch/nn/parallel/_functions.py:68: UserWarning: Was asked to gather along dimension 0, but all input tensors were scalars; will instead unsqueeze and return a vector.\n",
      "  warnings.warn('Was asked to gather along dimension 0, but all '\n",
      "INFO:***** Running Evaluation *****\n",
      "INFO:  Num examples = 2970\n",
      "INFO:  Batch size = 32\n"
     ]
    },
    {
     "name": "stdout",
     "output_type": "stream",
     "text": [
      "\n",
      "\n",
      "\u001b[32;1m<s>\u001b[0m\u001b[31;1mThe[Small]\u001b[0m\u001b[32;1m-\u001b[0m\u001b[31;1mscale[for]\u001b[0m\u001b[32;1m-\u001b[0m\u001b[31;1mv[gest]\u001b[0m\u001b[32;1mational\u001b[0m\u001b[31;1m and[age]\u001b[0m\u001b[32;1m and\u001b[0m\u001b[31;1m mortality[its]\u001b[0m\u001b[31;1m risk[association]\u001b[0m\u001b[32;1m with\u001b[0m\u001b[31;1m mortality[maternal]\u001b[0m\u001b[31;1m and[blood]\u001b[0m\u001b[31;1m and[glucose]\u001b[0m\u001b[31;1m:[,]\u001b[0m\u001b[31;1m and[body]\u001b[0m\u001b[31;1m and[mass]\u001b[0m\u001b[31;1m and[index]\u001b[0m\u001b[31;1m,[and]\u001b[0m\u001b[31;1m mortality[stature]\u001b[0m\u001b[32;1m:\u001b[0m\u001b[32;1m a\u001b[0m\u001b[31;1m randomized[per]\u001b[0m\u001b[31;1mcut[in]\u001b[0m\u001b[32;1matal\u001b[0m\u001b[31;1m study[cohort]\u001b[0m\u001b[32;1m study\u001b[0m\u001b[31;1m</s>[among]\u001b[0m\u001b[31;1m South[Chinese]\u001b[0m\u001b[32;1m women\u001b[0m\u001b[32;1m</s>\u001b[0m\n",
      "\n",
      "\n"
     ]
    },
    {
     "name": "stderr",
     "output_type": "stream",
     "text": [
      "INFO:***** Running Evaluation *****\n",
      "INFO:  Num examples = 2970\n",
      "INFO:  Batch size = 32\n"
     ]
    },
    {
     "name": "stdout",
     "output_type": "stream",
     "text": [
      "\n",
      "\n",
      "\u001b[32;1m<s>\u001b[0m\u001b[31;1mThe[Small]\u001b[0m\u001b[32;1m-\u001b[0m\u001b[31;1mscale[for]\u001b[0m\u001b[32;1m-\u001b[0m\u001b[31;1mv[gest]\u001b[0m\u001b[32;1mational\u001b[0m\u001b[31;1m and[age]\u001b[0m\u001b[32;1m and\u001b[0m\u001b[31;1m risk[its]\u001b[0m\u001b[31;1m effects[association]\u001b[0m\u001b[32;1m with\u001b[0m\u001b[31;1m mortality[maternal]\u001b[0m\u001b[31;1m and[blood]\u001b[0m\u001b[31;1m and[glucose]\u001b[0m\u001b[32;1m,\u001b[0m\u001b[31;1m and[body]\u001b[0m\u001b[31;1m injury[mass]\u001b[0m\u001b[31;1m and[index]\u001b[0m\u001b[31;1m,[and]\u001b[0m\u001b[31;1m risk[stature]\u001b[0m\u001b[32;1m:\u001b[0m\u001b[32;1m a\u001b[0m\u001b[31;1m systematic[per]\u001b[0m\u001b[31;1mcut[in]\u001b[0m\u001b[32;1matal\u001b[0m\u001b[31;1m study[cohort]\u001b[0m\u001b[32;1m study\u001b[0m\u001b[31;1m in[among]\u001b[0m\u001b[31;1m women[Chinese]\u001b[0m\u001b[32;1m women\u001b[0m\u001b[32;1m</s>\u001b[0m\n",
      "\n",
      "\n"
     ]
    },
    {
     "name": "stderr",
     "output_type": "stream",
     "text": [
      "INFO:***** Running Evaluation *****\n",
      "INFO:  Num examples = 2970\n",
      "INFO:  Batch size = 32\n"
     ]
    },
    {
     "name": "stdout",
     "output_type": "stream",
     "text": [
      "\n",
      "\n",
      "\u001b[32;1m<s>\u001b[0m\u001b[31;1mA[Pat]\u001b[0m\u001b[31;1mients[ient]\u001b[0m\u001b[31;1m-[portal]\u001b[0m\u001b[31;1m for[messaging]\u001b[0m\u001b[32;1m for\u001b[0m\u001b[31;1m patients[care]\u001b[0m\u001b[31;1m for[coordination]\u001b[0m\u001b[31;1m of[:]\u001b[0m\u001b[32;1m a\u001b[0m\u001b[31;1m cross[qualitative]\u001b[0m\u001b[32;1m study\u001b[0m\u001b[32;1m of\u001b[0m\u001b[31;1m patients[perspectives]\u001b[0m\u001b[31;1m on[of]\u001b[0m\u001b[31;1m patients[experienced]\u001b[0m\u001b[31;1m patients[users]\u001b[0m\u001b[32;1m with\u001b[0m\u001b[31;1m acute[chronic]\u001b[0m\u001b[31;1m disease[conditions]\u001b[0m\u001b[32;1m</s>\u001b[0m\n",
      "\n",
      "\n"
     ]
    },
    {
     "name": "stderr",
     "output_type": "stream",
     "text": [
      "INFO:***** Running Evaluation *****\n",
      "INFO:  Num examples = 2970\n",
      "INFO:  Batch size = 32\n"
     ]
    },
    {
     "name": "stdout",
     "output_type": "stream",
     "text": [
      "\n",
      "\n",
      "\u001b[32;1m<s>\u001b[0m\u001b[31;1mEffect[D]\u001b[0m\u001b[32;1metermin\u001b[0m\u001b[32;1mants\u001b[0m\u001b[32;1m of\u001b[0m\u001b[31;1m risk[birth]\u001b[0m\u001b[31;1m risk[as]\u001b[0m\u001b[31;1m mortality[phy]\u001b[0m\u001b[31;1mpt[xia]\u001b[0m\u001b[32;1m among\u001b[0m\u001b[31;1m women[live]\u001b[0m\u001b[31;1m-[birth]\u001b[0m\u001b[31;1m care[newborn]\u001b[0m\u001b[31;1m patients[s]\u001b[0m\u001b[32;1m in\u001b[0m\u001b[31;1m South[University]\u001b[0m\u001b[32;1m of\u001b[0m\u001b[31;1m South[G]\u001b[0m\u001b[31;1mraft[ond]\u001b[0m\u001b[31;1mia[ar]\u001b[0m\u001b[31;1m,[referral]\u001b[0m\u001b[32;1m hospital\u001b[0m\u001b[32;1m,\u001b[0m\u001b[31;1m South[northwest]\u001b[0m\u001b[32;1m Ethiopia\u001b[0m\u001b[32;1m:\u001b[0m\u001b[31;1m a[A]\u001b[0m\u001b[31;1m systematic[case]\u001b[0m\u001b[31;1m report[-]\u001b[0m\u001b[32;1mcontrol\u001b[0m\u001b[32;1m study\u001b[0m\u001b[32;1m</s>\u001b[0m\n",
      "\n",
      "\n"
     ]
    },
    {
     "name": "stderr",
     "output_type": "stream",
     "text": [
      "INFO:***** Running Evaluation *****\n",
      "INFO:  Num examples = 2970\n",
      "INFO:  Batch size = 32\n"
     ]
    },
    {
     "name": "stdout",
     "output_type": "stream",
     "text": [
      "\n",
      "\n",
      "\u001b[32;1m<s>\u001b[0m\u001b[31;1mIn[Me]\u001b[0m\u001b[31;1masured[iotic]\u001b[0m\u001b[31;1m characterization[analyses]\u001b[0m\u001b[31;1m of[show]\u001b[0m\u001b[31;1m a[adaptations]\u001b[0m\u001b[31;1m of[to]\u001b[0m\u001b[31;1m the[maintenance]\u001b[0m\u001b[32;1m of\u001b[0m\u001b[31;1m the[fertility]\u001b[0m\u001b[31;1m of[in]\u001b[0m\u001b[31;1m the[X]\u001b[0m\u001b[31;1m-[1]\u001b[0m\u001b[31;1m+[Y]\u001b[0m\u001b[31;1m2[1]\u001b[0m\u001b[31;1m/[X]\u001b[0m\u001b[32;1m2\u001b[0m\u001b[31;1m/[Y]\u001b[0m\u001b[32;1m2\u001b[0m\u001b[31;1m+[X]\u001b[0m\u001b[31;1m2[3]\u001b[0m\u001b[31;1m+[Y]\u001b[0m\u001b[31;1m2[3]\u001b[0m\u001b[31;1m+[X]\u001b[0m\u001b[31;1m2[4]\u001b[0m\u001b[31;1m+[Y]\u001b[0m\u001b[31;1m2[4]\u001b[0m\u001b[31;1m+[X]\u001b[0m\u001b[31;1m2[5]\u001b[0m\u001b[31;1m+[Y]\u001b[0m\u001b[31;1m2[5]\u001b[0m\u001b[31;1m+[system]\u001b[0m\u001b[32;1m of\u001b[0m\u001b[31;1m the[am]\u001b[0m\u001b[31;1myl[azon]\u001b[0m\u001b[31;1min[frog]\u001b[0m\u001b[31;1m ([Le]\u001b[0m\u001b[31;1mish[pt]\u001b[0m\u001b[31;1mococ[od]\u001b[0m\u001b[31;1mib[act]\u001b[0m\u001b[32;1myl\u001b[0m\u001b[31;1mase[us]\u001b[0m\u001b[31;1m p[pent]\u001b[0m\u001b[31;1mam[ad]\u001b[0m\u001b[31;1men[act]\u001b[0m\u001b[32;1myl\u001b[0m\u001b[32;1mus\u001b[0m\u001b[32;1m (\u001b[0m\u001b[31;1mT[La]\u001b[0m\u001b[31;1m)[ure]\u001b[0m\u001b[31;1mll[nt]\u001b[0m\u001b[31;1min[i]\u001b[0m\u001b[31;1m)[,]\u001b[0m\u001b[31;1m C[17]\u001b[0m\u001b[31;1mth[68]\u001b[0m\u001b[32;1m)\u001b[0m\u001b[32;1m</s>\u001b[0m\n",
      "\n",
      "\n"
     ]
    },
    {
     "name": "stderr",
     "output_type": "stream",
     "text": [
      "Saving model checkpoint to /lm_models/checkpoint-2000\n",
      "Trainer.model is not a `PreTrainedModel`, only saving its state dict.\n",
      "Deleting older checkpoint [/lm_models/checkpoint-12500] due to args.save_total_limit\n",
      "/opt/conda/lib/python3.8/site-packages/torch/nn/parallel/_functions.py:68: UserWarning: Was asked to gather along dimension 0, but all input tensors were scalars; will instead unsqueeze and return a vector.\n",
      "  warnings.warn('Was asked to gather along dimension 0, but all '\n",
      "INFO:***** Running Evaluation *****\n",
      "INFO:  Num examples = 2970\n",
      "INFO:  Batch size = 32\n"
     ]
    },
    {
     "name": "stdout",
     "output_type": "stream",
     "text": [
      "\n",
      "\n",
      "\u001b[32;1m<s>\u001b[0m\u001b[31;1mEffect[Pro]\u001b[0m\u001b[32;1mgn\u001b[0m\u001b[32;1mostic\u001b[0m\u001b[31;1m Effects[Role]\u001b[0m\u001b[32;1m of\u001b[0m\u001b[31;1m D[High]\u001b[0m\u001b[32;1m-\u001b[0m\u001b[31;1mD[s]\u001b[0m\u001b[32;1mensitivity\u001b[0m\u001b[31;1m T[Card]\u001b[0m\u001b[32;1miac\u001b[0m\u001b[31;1m and[Trop]\u001b[0m\u001b[31;1mic[on]\u001b[0m\u001b[31;1mav[in]\u001b[0m\u001b[31;1m and[I]\u001b[0m\u001b[32;1m and\u001b[0m\u001b[31;1m B[Sol]\u001b[0m\u001b[32;1muble\u001b[0m\u001b[31;1m B[Supp]\u001b[0m\u001b[32;1mression\u001b[0m\u001b[31;1m in[of]\u001b[0m\u001b[31;1m Chronic[T]\u001b[0m\u001b[32;1mum\u001b[0m\u001b[32;1mor\u001b[0m\u001b[31;1m-[igen]\u001b[0m\u001b[31;1mic[icity]\u001b[0m\u001b[31;1m in[-]\u001b[0m\u001b[31;1mInd[2]\u001b[0m\u001b[32;1m in\u001b[0m\u001b[31;1m Patients[S]\u001b[0m\u001b[32;1murgical\u001b[0m\u001b[31;1m Patients[Int]\u001b[0m\u001b[31;1mra[ensive]\u001b[0m\u001b[31;1m Patients[Care]\u001b[0m\u001b[31;1m Patients[Unit]\u001b[0m\u001b[32;1m Patients\u001b[0m\u001b[31;1m with[Under]\u001b[0m\u001b[32;1mgoing\u001b[0m\u001b[31;1m Chronic[Non]\u001b[0m\u001b[32;1m-\u001b[0m\u001b[31;1msmall[card]\u001b[0m\u001b[31;1mi[iac]\u001b[0m\u001b[31;1m Cancer[Surgery]\u001b[0m\u001b[32;1m</s>\u001b[0m\n",
      "\n",
      "\n"
     ]
    },
    {
     "name": "stderr",
     "output_type": "stream",
     "text": [
      "INFO:***** Running Evaluation *****\n",
      "INFO:  Num examples = 2970\n",
      "INFO:  Batch size = 32\n"
     ]
    },
    {
     "name": "stdout",
     "output_type": "stream",
     "text": [
      "\n",
      "\n",
      "\u001b[32;1m<s>\u001b[0m\u001b[32;1mThe\u001b[0m\u001b[32;1m impact\u001b[0m\u001b[32;1m of\u001b[0m\u001b[31;1m health[removing]\u001b[0m\u001b[31;1m different[financial]\u001b[0m\u001b[31;1m health[incentives]\u001b[0m\u001b[31;1m to[from]\u001b[0m\u001b[31;1m health[clinical]\u001b[0m\u001b[31;1m care[quality]\u001b[0m\u001b[31;1m of[indicators]\u001b[0m\u001b[32;1m:\u001b[0m\u001b[31;1m A[longitudinal]\u001b[0m\u001b[31;1m study[analysis]\u001b[0m\u001b[32;1m of\u001b[0m\u001b[31;1m the[four]\u001b[0m\u001b[31;1m health[Kaiser]\u001b[0m\u001b[31;1m countries[P]\u001b[0m\u001b[31;1mneum[erman]\u001b[0m\u001b[31;1mence[ente]\u001b[0m\u001b[31;1m countries[indicators]\u001b[0m\u001b[32;1m</s>\u001b[0m\n",
      "\n",
      "\n"
     ]
    },
    {
     "name": "stderr",
     "output_type": "stream",
     "text": [
      "INFO:***** Running Evaluation *****\n",
      "INFO:  Num examples = 2970\n",
      "INFO:  Batch size = 32\n"
     ]
    },
    {
     "name": "stdout",
     "output_type": "stream",
     "text": [
      "\n",
      "\n",
      "\u001b[32;1m<s>\u001b[0m\u001b[31;1mCompar[Design]\u001b[0m\u001b[32;1m and\u001b[0m\u001b[31;1m safety[development]\u001b[0m\u001b[32;1m of\u001b[0m\u001b[31;1m novel[intra]\u001b[0m\u001b[31;1m-[ocular]\u001b[0m\u001b[31;1m-[poly]\u001b[0m\u001b[31;1m([meric]\u001b[0m\u001b[31;1m and[implant]\u001b[0m\u001b[31;1mation[systems]\u001b[0m\u001b[32;1m for\u001b[0m\u001b[31;1m treatment[long]\u001b[0m\u001b[32;1m-\u001b[0m\u001b[32;1mterm\u001b[0m\u001b[31;1m treatment[controlled]\u001b[0m\u001b[31;1m treatment[-]\u001b[0m\u001b[31;1mscale[release]\u001b[0m\u001b[31;1m treatment[of]\u001b[0m\u001b[31;1m human[cl]\u001b[0m\u001b[31;1most[ind]\u001b[0m\u001b[31;1mol[amy]\u001b[0m\u001b[32;1mcin\u001b[0m\u001b[31;1m for[phosphate]\u001b[0m\u001b[32;1m for\u001b[0m\u001b[31;1m treatment[tox]\u001b[0m\u001b[31;1mo[opl]\u001b[0m\u001b[32;1masm\u001b[0m\u001b[32;1mic\u001b[0m\u001b[31;1m acid[ret]\u001b[0m\u001b[31;1mic[ino]\u001b[0m\u001b[31;1mic[ch]\u001b[0m\u001b[31;1mol[or]\u001b[0m\u001b[31;1mrh[oid]\u001b[0m\u001b[31;1m carcin[itis]\u001b[0m\u001b[32;1m</s>\u001b[0m\n",
      "\n",
      "\n"
     ]
    },
    {
     "name": "stderr",
     "output_type": "stream",
     "text": [
      "INFO:***** Running Evaluation *****\n",
      "INFO:  Num examples = 2970\n",
      "INFO:  Batch size = 32\n"
     ]
    },
    {
     "name": "stdout",
     "output_type": "stream",
     "text": [
      "\n",
      "\n",
      "\u001b[32;1m<s>\u001b[0m\u001b[31;1mE[First]\u001b[0m\u001b[32;1m-\u001b[0m\u001b[31;1mline[response]\u001b[0m\u001b[31;1m care[treatment]\u001b[0m\u001b[31;1m of[after]\u001b[0m\u001b[31;1m treatment[out]\u001b[0m\u001b[32;1m-\u001b[0m\u001b[32;1mof\u001b[0m\u001b[32;1m-\u001b[0m\u001b[32;1mhospital\u001b[0m\u001b[31;1m surgery[cardiac]\u001b[0m\u001b[31;1m surgery[arrest]\u001b[0m\u001b[32;1m:\u001b[0m\u001b[32;1m a\u001b[0m\u001b[31;1m systematic[survey]\u001b[0m\u001b[32;1m of\u001b[0m\u001b[31;1m patients[current]\u001b[0m\u001b[31;1m patients[practices]\u001b[0m\u001b[31;1m in[across]\u001b[0m\u001b[31;1m children[29]\u001b[0m\u001b[31;1m patients[countries]\u001b[0m\u001b[32;1m in\u001b[0m\u001b[31;1m South[Europe]\u001b[0m\u001b[32;1m</s>\u001b[0m\n",
      "\n",
      "\n"
     ]
    },
    {
     "name": "stderr",
     "output_type": "stream",
     "text": [
      "INFO:***** Running Evaluation *****\n",
      "INFO:  Num examples = 2970\n",
      "INFO:  Batch size = 32\n"
     ]
    },
    {
     "name": "stdout",
     "output_type": "stream",
     "text": [
      "\n",
      "\n",
      "\u001b[32;1m<s>\u001b[0m\u001b[31;1mAss[Compar]\u001b[0m\u001b[32;1mison\u001b[0m\u001b[32;1m of\u001b[0m\u001b[31;1m Clinical[Performance]\u001b[0m\u001b[31;1m Assessment[Achievement]\u001b[0m\u001b[31;1m Assessment[Award]\u001b[0m\u001b[31;1m for[Recogn]\u001b[0m\u001b[32;1mition\u001b[0m\u001b[31;1m for[With]\u001b[0m\u001b[31;1m Clinical[Primary]\u001b[0m\u001b[31;1m Care[Stro]\u001b[0m\u001b[32;1mke\u001b[0m\u001b[31;1m Care[Center]\u001b[0m\u001b[31;1m for[Certification]\u001b[0m\u001b[32;1m for\u001b[0m\u001b[31;1m Patients[Ac]\u001b[0m\u001b[32;1mute\u001b[0m\u001b[31;1m Patients[Is]\u001b[0m\u001b[32;1mche\u001b[0m\u001b[32;1mmic\u001b[0m\u001b[31;1m Patients[Stro]\u001b[0m\u001b[32;1mke\u001b[0m\u001b[31;1m Patients[Care]\u001b[0m\u001b[32;1m</s>\u001b[0m\n",
      "\n",
      "\n"
     ]
    },
    {
     "name": "stderr",
     "output_type": "stream",
     "text": [
      "Saving model checkpoint to /lm_models/checkpoint-2500\n",
      "Trainer.model is not a `PreTrainedModel`, only saving its state dict.\n",
      "Deleting older checkpoint [/lm_models/checkpoint-13000] due to args.save_total_limit\n",
      "/opt/conda/lib/python3.8/site-packages/torch/nn/parallel/_functions.py:68: UserWarning: Was asked to gather along dimension 0, but all input tensors were scalars; will instead unsqueeze and return a vector.\n",
      "  warnings.warn('Was asked to gather along dimension 0, but all '\n",
      "INFO:***** Running Evaluation *****\n",
      "INFO:  Num examples = 2970\n",
      "INFO:  Batch size = 32\n"
     ]
    },
    {
     "name": "stdout",
     "output_type": "stream",
     "text": [
      "\n",
      "\n",
      "\u001b[32;1m<s>\u001b[0m\u001b[31;1mP[Advanced]\u001b[0m\u001b[31;1m gast[moderately]\u001b[0m\u001b[31;1m advanced[differentiated]\u001b[0m\u001b[31;1m gast[neuro]\u001b[0m\u001b[31;1mpathy[end]\u001b[0m\u001b[32;1mocrine\u001b[0m\u001b[32;1m carcin\u001b[0m\u001b[32;1moma\u001b[0m\u001b[32;1m of\u001b[0m\u001b[32;1m the\u001b[0m\u001b[31;1m gast[rect]\u001b[0m\u001b[31;1mal[um]\u001b[0m\u001b[32;1m with\u001b[0m\u001b[31;1m the[favorable]\u001b[0m\u001b[31;1m survival[prog]\u001b[0m\u001b[32;1mnosis\u001b[0m\u001b[31;1m of[by]\u001b[0m\u001b[31;1m the[post]\u001b[0m\u001b[32;1moperative\u001b[0m\u001b[31;1m surgery[che]\u001b[0m\u001b[32;1mmor\u001b[0m\u001b[31;1madi[ad]\u001b[0m\u001b[32;1miation\u001b[0m\u001b[32;1m</s>\u001b[0m\n",
      "\n",
      "\n"
     ]
    },
    {
     "name": "stderr",
     "output_type": "stream",
     "text": [
      "INFO:***** Running Evaluation *****\n",
      "INFO:  Num examples = 2970\n",
      "INFO:  Batch size = 32\n"
     ]
    },
    {
     "name": "stdout",
     "output_type": "stream",
     "text": [
      "\n",
      "\n",
      "\u001b[32;1m<s>\u001b[0m\u001b[31;1mCorrection[805]\u001b[0m\u001b[32;1m.\u001b[0m\u001b[31;1m Pro[Am]\u001b[0m\u001b[31;1mel[ik]\u001b[0m\u001b[31;1mel[ac]\u001b[0m\u001b[32;1min\u001b[0m\u001b[31;1m In[Lip]\u001b[0m\u001b[31;1mid[os]\u001b[0m\u001b[32;1mome\u001b[0m\u001b[32;1m In\u001b[0m\u001b[31;1mhib[hal]\u001b[0m\u001b[32;1mation\u001b[0m\u001b[31;1m ([Susp]\u001b[0m\u001b[31;1mens[ension]\u001b[0m\u001b[32;1m (\u001b[0m\u001b[31;1mP[AL]\u001b[0m\u001b[31;1mI[IS]\u001b[0m\u001b[32;1m)\u001b[0m\u001b[31;1m In[Add]\u001b[0m\u001b[31;1mition[-]\u001b[0m\u001b[31;1mUp[on]\u001b[0m\u001b[31;1m for[Therapy]\u001b[0m\u001b[32;1m for\u001b[0m\u001b[31;1m Breast[Ref]\u001b[0m\u001b[32;1mract\u001b[0m\u001b[32;1mory\u001b[0m\u001b[31;1m Hep[My]\u001b[0m\u001b[31;1mocard[c]\u001b[0m\u001b[32;1mob\u001b[0m\u001b[32;1macter\u001b[0m\u001b[32;1mium\u001b[0m\u001b[31;1m tuberculosis[av]\u001b[0m\u001b[31;1mian[ium]\u001b[0m\u001b[31;1m Car[Complex]\u001b[0m\u001b[31;1mis[(]\u001b[0m\u001b[31;1mH[MAC]\u001b[0m\u001b[32;1m)\u001b[0m\u001b[31;1m Disease[Lung]\u001b[0m\u001b[31;1m Cancer[Disease]\u001b[0m\u001b[31;1m ([:]\u001b[0m\u001b[31;1m In[Effect]\u001b[0m\u001b[31;1miveness[of]\u001b[0m\u001b[32;1m In\u001b[0m\u001b[31;1mhib[Vit]\u001b[0m\u001b[32;1mro\u001b[0m\u001b[31;1m Ant[Am]\u001b[0m\u001b[31;1myl[ik]\u001b[0m\u001b[32;1mac\u001b[0m\u001b[32;1min\u001b[0m\u001b[31;1m on[Sus]\u001b[0m\u001b[32;1mcept\u001b[0m\u001b[32;1mibility\u001b[0m\u001b[32;1m on\u001b[0m\u001b[31;1m Inf[Sp]\u001b[0m\u001b[31;1minal[ut]\u001b[0m\u001b[31;1maneous[um]\u001b[0m\u001b[31;1m Cell[Culture]\u001b[0m\u001b[31;1m</s>[Conversion]\u001b[0m\u001b[31;1m and[</s>]\u001b[0m\n",
      "\n",
      "\n"
     ]
    },
    {
     "name": "stderr",
     "output_type": "stream",
     "text": [
      "INFO:***** Running Evaluation *****\n",
      "INFO:  Num examples = 2970\n",
      "INFO:  Batch size = 32\n"
     ]
    },
    {
     "name": "stdout",
     "output_type": "stream",
     "text": [
      "\n",
      "\n",
      "\u001b[32;1m<s>\u001b[0m\u001b[31;1mIdent[Mult]\u001b[0m\u001b[31;1mic[ivariate]\u001b[0m\u001b[31;1m Analysis[Gen]\u001b[0m\u001b[32;1mome\u001b[0m\u001b[32;1m-\u001b[0m\u001b[32;1mWide\u001b[0m\u001b[31;1m Analysis[Association]\u001b[0m\u001b[31;1m Analysis[An]\u001b[0m\u001b[32;1malyses\u001b[0m\u001b[31;1m of[Reve]\u001b[0m\u001b[31;1mals[al]\u001b[0m\u001b[32;1m the\u001b[0m\u001b[31;1m Role[Genetic]\u001b[0m\u001b[31;1m Properties[Bas]\u001b[0m\u001b[31;1meline[is]\u001b[0m\u001b[32;1m of\u001b[0m\u001b[31;1m Human[Seed]\u001b[0m\u001b[31;1m Micro[Fat]\u001b[0m\u001b[32;1mty\u001b[0m\u001b[32;1m Acid\u001b[0m\u001b[31;1m in[Com]\u001b[0m\u001b[32;1mposition\u001b[0m\u001b[32;1m in\u001b[0m\u001b[31;1m the[O]\u001b[0m\u001b[31;1mste[at]\u001b[0m\u001b[31;1mia[(]\u001b[0m\u001b[31;1mC[A]\u001b[0m\u001b[31;1mne[ven]\u001b[0m\u001b[32;1ma\u001b[0m\u001b[31;1m)[sat]\u001b[0m\u001b[32;1miva\u001b[0m\u001b[31;1m)[L]\u001b[0m\u001b[32;1m.)\u001b[0m\u001b[32;1m</s>\u001b[0m\n",
      "\n",
      "\n"
     ]
    },
    {
     "name": "stderr",
     "output_type": "stream",
     "text": [
      "INFO:***** Running Evaluation *****\n",
      "INFO:  Num examples = 2970\n",
      "INFO:  Batch size = 32\n"
     ]
    },
    {
     "name": "stdout",
     "output_type": "stream",
     "text": [
      "\n",
      "\n",
      "\u001b[32;1m<s>\u001b[0m\u001b[32;1mA\u001b[0m\u001b[31;1m novel[60]\u001b[0m\u001b[31;1m-[Hz]\u001b[0m\u001b[31;1m protein[uniform]\u001b[0m\u001b[31;1m protein[electromagnetic]\u001b[0m\u001b[31;1m protein[field]\u001b[0m\u001b[31;1m reveals[promotes]\u001b[0m\u001b[31;1m cell[human]\u001b[0m\u001b[31;1m bone[cell]\u001b[0m\u001b[32;1m proliferation\u001b[0m\u001b[31;1m via[by]\u001b[0m\u001b[31;1m regulating[decreasing]\u001b[0m\u001b[31;1m cell[intr]\u001b[0m\u001b[32;1mace\u001b[0m\u001b[32;1mllular\u001b[0m\u001b[31;1m protein[reactive]\u001b[0m\u001b[31;1m protein[oxygen]\u001b[0m\u001b[32;1m species\u001b[0m\u001b[31;1m</s>[levels]\u001b[0m\u001b[32;1m</s>\u001b[0m\n",
      "\n",
      "\n"
     ]
    },
    {
     "name": "stderr",
     "output_type": "stream",
     "text": [
      "INFO:***** Running Evaluation *****\n",
      "INFO:  Num examples = 2970\n",
      "INFO:  Batch size = 32\n"
     ]
    },
    {
     "name": "stdout",
     "output_type": "stream",
     "text": [
      "\n",
      "\n",
      "\u001b[32;1m<s>\u001b[0m\u001b[31;1mExp[End]\u001b[0m\u001b[31;1momet[ogenous]\u001b[0m\u001b[31;1m protein[insulin]\u001b[0m\u001b[31;1m is[secretion]\u001b[0m\u001b[31;1m is[even]\u001b[0m\u001b[31;1m is[at]\u001b[0m\u001b[32;1m a\u001b[0m\u001b[31;1m novel[very]\u001b[0m\u001b[32;1m low\u001b[0m\u001b[31;1m risk[level]\u001b[0m\u001b[31;1m is[contributes]\u001b[0m\u001b[32;1m to\u001b[0m\u001b[32;1m the\u001b[0m\u001b[31;1m effects[stability]\u001b[0m\u001b[32;1m of\u001b[0m\u001b[31;1m human[blood]\u001b[0m\u001b[31;1m pressure[glucose]\u001b[0m\u001b[31;1m in[control]\u001b[0m\u001b[32;1m in\u001b[0m\u001b[31;1m non[ful]\u001b[0m\u001b[31;1mt[min]\u001b[0m\u001b[31;1mated[ant]\u001b[0m\u001b[31;1m breast[type]\u001b[0m\u001b[31;1m 2[1]\u001b[0m\u001b[32;1m diabetes\u001b[0m\u001b[32;1m</s>\u001b[0m\n",
      "\n",
      "\n"
     ]
    },
    {
     "name": "stderr",
     "output_type": "stream",
     "text": [
      "Saving model checkpoint to /lm_models/checkpoint-3000\n",
      "Trainer.model is not a `PreTrainedModel`, only saving its state dict.\n",
      "Deleting older checkpoint [/lm_models/checkpoint-500] due to args.save_total_limit\n",
      "/opt/conda/lib/python3.8/site-packages/torch/nn/parallel/_functions.py:68: UserWarning: Was asked to gather along dimension 0, but all input tensors were scalars; will instead unsqueeze and return a vector.\n",
      "  warnings.warn('Was asked to gather along dimension 0, but all '\n",
      "INFO:***** Running Evaluation *****\n",
      "INFO:  Num examples = 2970\n",
      "INFO:  Batch size = 32\n"
     ]
    },
    {
     "name": "stdout",
     "output_type": "stream",
     "text": [
      "\n",
      "\n",
      "\u001b[32;1m<s>\u001b[0m\u001b[31;1mGen[Mult]\u001b[0m\u001b[31;1mic[ivariate]\u001b[0m\u001b[31;1m-[Gen]\u001b[0m\u001b[32;1mome\u001b[0m\u001b[32;1m-\u001b[0m\u001b[32;1mWide\u001b[0m\u001b[31;1m Analysis[Association]\u001b[0m\u001b[31;1m Analysis[An]\u001b[0m\u001b[32;1malyses\u001b[0m\u001b[32;1m Reve\u001b[0m\u001b[31;1mals[al]\u001b[0m\u001b[32;1m the\u001b[0m\u001b[31;1m Role[Genetic]\u001b[0m\u001b[31;1m Properties[Bas]\u001b[0m\u001b[31;1meline[is]\u001b[0m\u001b[32;1m of\u001b[0m\u001b[31;1m Human[Seed]\u001b[0m\u001b[31;1m Met[Fat]\u001b[0m\u001b[32;1mty\u001b[0m\u001b[32;1m Acid\u001b[0m\u001b[31;1m in[Com]\u001b[0m\u001b[32;1mposition\u001b[0m\u001b[32;1m in\u001b[0m\u001b[31;1m the[O]\u001b[0m\u001b[31;1mste[at]\u001b[0m\u001b[31;1mro[(]\u001b[0m\u001b[31;1mC[A]\u001b[0m\u001b[31;1mne[ven]\u001b[0m\u001b[31;1mus[a]\u001b[0m\u001b[31;1m L[sat]\u001b[0m\u001b[32;1miva\u001b[0m\u001b[31;1m)[L]\u001b[0m\u001b[32;1m.)\u001b[0m\u001b[32;1m</s>\u001b[0m\n",
      "\n",
      "\n"
     ]
    },
    {
     "name": "stderr",
     "output_type": "stream",
     "text": [
      "INFO:***** Running Evaluation *****\n",
      "INFO:  Num examples = 2970\n",
      "INFO:  Batch size = 32\n"
     ]
    },
    {
     "name": "stdout",
     "output_type": "stream",
     "text": [
      "\n",
      "\n",
      "\u001b[32;1m<s>\u001b[0m\u001b[31;1mGen[End]\u001b[0m\u001b[31;1momet[ogenous]\u001b[0m\u001b[31;1m growth[insulin]\u001b[0m\u001b[31;1m resistance[secretion]\u001b[0m\u001b[31;1m is[even]\u001b[0m\u001b[31;1m is[at]\u001b[0m\u001b[32;1m a\u001b[0m\u001b[31;1m high[very]\u001b[0m\u001b[32;1m low\u001b[0m\u001b[31;1m risk[level]\u001b[0m\u001b[31;1m is[contributes]\u001b[0m\u001b[32;1m to\u001b[0m\u001b[32;1m the\u001b[0m\u001b[31;1m effects[stability]\u001b[0m\u001b[32;1m of\u001b[0m\u001b[31;1m human[blood]\u001b[0m\u001b[31;1m pressure[glucose]\u001b[0m\u001b[31;1m levels[control]\u001b[0m\u001b[32;1m in\u001b[0m\u001b[31;1m non[ful]\u001b[0m\u001b[31;1mt[min]\u001b[0m\u001b[32;1mant\u001b[0m\u001b[31;1m breast[type]\u001b[0m\u001b[31;1m 2[1]\u001b[0m\u001b[32;1m diabetes\u001b[0m\u001b[32;1m</s>\u001b[0m\n",
      "\n",
      "\n"
     ]
    },
    {
     "name": "stderr",
     "output_type": "stream",
     "text": [
      "INFO:***** Running Evaluation *****\n",
      "INFO:  Num examples = 2970\n",
      "INFO:  Batch size = 32\n"
     ]
    },
    {
     "name": "stdout",
     "output_type": "stream",
     "text": [
      "\n",
      "\n",
      "\u001b[32;1m<s>\u001b[0m\u001b[31;1mImp[First]\u001b[0m\u001b[32;1m-\u001b[0m\u001b[31;1mline[response]\u001b[0m\u001b[32;1m treatment\u001b[0m\u001b[31;1m with[after]\u001b[0m\u001b[31;1m post[out]\u001b[0m\u001b[32;1m-\u001b[0m\u001b[32;1mof\u001b[0m\u001b[32;1m-\u001b[0m\u001b[32;1mhospital\u001b[0m\u001b[31;1m coronary[cardiac]\u001b[0m\u001b[31;1m surgery[arrest]\u001b[0m\u001b[32;1m:\u001b[0m\u001b[32;1m a\u001b[0m\u001b[31;1m qualitative[survey]\u001b[0m\u001b[32;1m of\u001b[0m\u001b[31;1m patients[current]\u001b[0m\u001b[31;1m care[practices]\u001b[0m\u001b[31;1m from[across]\u001b[0m\u001b[31;1m rural[29]\u001b[0m\u001b[32;1m countries\u001b[0m\u001b[32;1m in\u001b[0m\u001b[31;1m Uganda[Europe]\u001b[0m\u001b[32;1m</s>\u001b[0m\n",
      "\n",
      "\n"
     ]
    },
    {
     "name": "stderr",
     "output_type": "stream",
     "text": [
      "INFO:***** Running Evaluation *****\n",
      "INFO:  Num examples = 2970\n",
      "INFO:  Batch size = 32\n"
     ]
    },
    {
     "name": "stdout",
     "output_type": "stream",
     "text": [
      "\n",
      "\n",
      "\u001b[32;1m<s>\u001b[0m\u001b[32;1mCl\u001b[0m\u001b[32;1minical\u001b[0m\u001b[31;1m outcomes[practice]\u001b[0m\u001b[31;1m for[guidelines]\u001b[0m\u001b[32;1m for\u001b[0m\u001b[32;1m the\u001b[0m\u001b[31;1m treatment[surgical]\u001b[0m\u001b[32;1m management\u001b[0m\u001b[32;1m of\u001b[0m\u001b[31;1m chronic[colon]\u001b[0m\u001b[32;1m cancer\u001b[0m\u001b[32;1m:\u001b[0m\u001b[31;1m the[a]\u001b[0m\u001b[31;1m systematic[consensus]\u001b[0m\u001b[31;1m of[statement]\u001b[0m\u001b[32;1m of\u001b[0m\u001b[32;1m the\u001b[0m\u001b[31;1m Chinese[Hell]\u001b[0m\u001b[31;1m and[enic]\u001b[0m\u001b[32;1m and\u001b[0m\u001b[31;1m the[Cy]\u001b[0m\u001b[31;1mt[pri]\u001b[0m\u001b[31;1mo[ot]\u001b[0m\u001b[31;1m Clinical[Col]\u001b[0m\u001b[32;1more\u001b[0m\u001b[32;1mct\u001b[0m\u001b[32;1mal\u001b[0m\u001b[32;1m Cancer\u001b[0m\u001b[31;1m Society[Study]\u001b[0m\u001b[31;1m ([Group]\u001b[0m\u001b[31;1m ([by]\u001b[0m\u001b[32;1m the\u001b[0m\u001b[31;1m CO[He]\u001b[0m\u001b[31;1mreditary[S]\u001b[0m\u001b[31;1m.[MO]\u001b[0m\u001b[31;1m</s>[*]\u001b[0m\u001b[32;1m</s>\u001b[0m\n",
      "\n",
      "\n"
     ]
    },
    {
     "name": "stderr",
     "output_type": "stream",
     "text": [
      "INFO:***** Running Evaluation *****\n",
      "INFO:  Num examples = 2970\n",
      "INFO:  Batch size = 32\n"
     ]
    },
    {
     "name": "stdout",
     "output_type": "stream",
     "text": [
      "\n",
      "\n",
      "\u001b[32;1m<s>\u001b[0m\u001b[32;1mPro\u001b[0m\u001b[32;1mgn\u001b[0m\u001b[32;1mostic\u001b[0m\u001b[31;1m Effect[Role]\u001b[0m\u001b[32;1m of\u001b[0m\u001b[31;1m Anti[High]\u001b[0m\u001b[32;1m-\u001b[0m\u001b[31;1mD[s]\u001b[0m\u001b[32;1mensitivity\u001b[0m\u001b[31;1m T[Card]\u001b[0m\u001b[32;1miac\u001b[0m\u001b[31;1m T[Trop]\u001b[0m\u001b[31;1mic[on]\u001b[0m\u001b[31;1mav[in]\u001b[0m\u001b[31;1m and[I]\u001b[0m\u001b[32;1m and\u001b[0m\u001b[31;1m T[Sol]\u001b[0m\u001b[32;1muble\u001b[0m\u001b[31;1m T[Supp]\u001b[0m\u001b[31;1mressor[ression]\u001b[0m\u001b[32;1m of\u001b[0m\u001b[32;1m T\u001b[0m\u001b[32;1mum\u001b[0m\u001b[32;1mor\u001b[0m\u001b[31;1m-[igen]\u001b[0m\u001b[31;1mic[icity]\u001b[0m\u001b[32;1m-\u001b[0m\u001b[31;1mInd[2]\u001b[0m\u001b[32;1m in\u001b[0m\u001b[31;1m Patients[S]\u001b[0m\u001b[32;1murgical\u001b[0m\u001b[31;1m Patients[Int]\u001b[0m\u001b[31;1mra[ensive]\u001b[0m\u001b[32;1m Care\u001b[0m\u001b[31;1m Patients[Unit]\u001b[0m\u001b[32;1m Patients\u001b[0m\u001b[31;1m With[Under]\u001b[0m\u001b[32;1mgoing\u001b[0m\u001b[31;1m Type[Non]\u001b[0m\u001b[32;1m-\u001b[0m\u001b[31;1mSmall[card]\u001b[0m\u001b[32;1miac\u001b[0m\u001b[32;1m Surgery\u001b[0m\u001b[32;1m</s>\u001b[0m\n",
      "\n",
      "\n"
     ]
    },
    {
     "name": "stderr",
     "output_type": "stream",
     "text": [
      "Saving model checkpoint to /lm_models/checkpoint-3500\n",
      "Trainer.model is not a `PreTrainedModel`, only saving its state dict.\n",
      "Deleting older checkpoint [/lm_models/checkpoint-1000] due to args.save_total_limit\n",
      "/opt/conda/lib/python3.8/site-packages/torch/nn/parallel/_functions.py:68: UserWarning: Was asked to gather along dimension 0, but all input tensors were scalars; will instead unsqueeze and return a vector.\n",
      "  warnings.warn('Was asked to gather along dimension 0, but all '\n",
      "INFO:***** Running Evaluation *****\n",
      "INFO:  Num examples = 2970\n",
      "INFO:  Batch size = 32\n"
     ]
    },
    {
     "name": "stdout",
     "output_type": "stream",
     "text": [
      "\n",
      "\n",
      "\u001b[32;1m<s>\u001b[0m\u001b[31;1mAss[Consider]\u001b[0m\u001b[32;1mations\u001b[0m\u001b[31;1m for[regarding]\u001b[0m\u001b[31;1m efficacy[treatment]\u001b[0m\u001b[31;1m,[efficiency]\u001b[0m\u001b[32;1m,\u001b[0m\u001b[31;1m safety[diss]\u001b[0m\u001b[31;1mociation[oci]\u001b[0m\u001b[31;1mations[ative]\u001b[0m\u001b[31;1m factors[parts]\u001b[0m\u001b[32;1m and\u001b[0m\u001b[31;1m quality[diss]\u001b[0m\u001b[31;1mociation[oci]\u001b[0m\u001b[31;1mations[ative]\u001b[0m\u001b[31;1m factors[am]\u001b[0m\u001b[31;1mel[nesia]\u001b[0m\u001b[32;1m for\u001b[0m\u001b[31;1m a[Hunt]\u001b[0m\u001b[31;1m's[j]\u001b[0m\u001b[31;1mapon[ens]\u001b[0m\u001b[31;1m ([et]\u001b[0m\u001b[32;1m al\u001b[0m\u001b[32;1m.\u001b[0m\u001b[31;1m �[�]\u001b[0m\u001b[32;1m�\u001b[0m\u001b[32;1ms\u001b[0m\u001b[31;1m treatment[Sche]\u001b[0m\u001b[31;1mx[ma]\u001b[0m\u001b[31;1m for[Therapy]\u001b[0m\u001b[32;1m for\u001b[0m\u001b[31;1m Alzheimer[Diss]\u001b[0m\u001b[31;1molution[oci]\u001b[0m\u001b[32;1mative\u001b[0m\u001b[31;1m Diseases[Identity]\u001b[0m\u001b[32;1m Disorder\u001b[0m\u001b[32;1m</s>\u001b[0m\n",
      "\n",
      "\n"
     ]
    },
    {
     "name": "stderr",
     "output_type": "stream",
     "text": [
      "INFO:***** Running Evaluation *****\n",
      "INFO:  Num examples = 2970\n",
      "INFO:  Batch size = 32\n"
     ]
    },
    {
     "name": "stdout",
     "output_type": "stream",
     "text": [
      "\n",
      "\n",
      "\u001b[32;1m<s>\u001b[0m\u001b[32;1mThe\u001b[0m\u001b[31;1m health[global]\u001b[0m\u001b[31;1m health[economic]\u001b[0m\u001b[31;1m and[crisis]\u001b[0m\u001b[31;1m and[,]\u001b[0m\u001b[31;1m health[household]\u001b[0m\u001b[31;1m health[income]\u001b[0m\u001b[32;1m and\u001b[0m\u001b[31;1m health[pre]\u001b[0m\u001b[32;1m-\u001b[0m\u001b[31;1m and[ad]\u001b[0m\u001b[31;1mherence[olescent]\u001b[0m\u001b[31;1m and[overweight]\u001b[0m\u001b[32;1m and\u001b[0m\u001b[31;1m obesity[under]\u001b[0m\u001b[31;1m-[weight]\u001b[0m\u001b[32;1m:\u001b[0m\u001b[32;1m a\u001b[0m\u001b[31;1m cross[nationwide]\u001b[0m\u001b[31;1m cohort[birth]\u001b[0m\u001b[32;1m cohort\u001b[0m\u001b[32;1m study\u001b[0m\u001b[32;1m in\u001b[0m\u001b[31;1m Uganda[Japan]\u001b[0m\u001b[32;1m</s>\u001b[0m\n",
      "\n",
      "\n"
     ]
    },
    {
     "name": "stderr",
     "output_type": "stream",
     "text": [
      "INFO:***** Running Evaluation *****\n",
      "INFO:  Num examples = 2970\n",
      "INFO:  Batch size = 32\n"
     ]
    },
    {
     "name": "stdout",
     "output_type": "stream",
     "text": [
      "\n",
      "\n",
      "\u001b[32;1m<s>\u001b[0m\u001b[31;1mCl[Pro]\u001b[0m\u001b[32;1mgn\u001b[0m\u001b[32;1mostic\u001b[0m\u001b[31;1m Effects[Role]\u001b[0m\u001b[32;1m of\u001b[0m\u001b[31;1m Non[High]\u001b[0m\u001b[32;1m-\u001b[0m\u001b[31;1mFat[s]\u001b[0m\u001b[32;1mensitivity\u001b[0m\u001b[31;1m T[Card]\u001b[0m\u001b[32;1miac\u001b[0m\u001b[31;1m T[Trop]\u001b[0m\u001b[32;1mon\u001b[0m\u001b[32;1min\u001b[0m\u001b[31;1m and[I]\u001b[0m\u001b[32;1m and\u001b[0m\u001b[31;1m T[Sol]\u001b[0m\u001b[32;1muble\u001b[0m\u001b[31;1m Pro[Supp]\u001b[0m\u001b[32;1mression\u001b[0m\u001b[32;1m of\u001b[0m\u001b[31;1m Hep[T]\u001b[0m\u001b[32;1mum\u001b[0m\u001b[32;1mor\u001b[0m\u001b[31;1m-[igen]\u001b[0m\u001b[31;1mesis[icity]\u001b[0m\u001b[31;1m in[-]\u001b[0m\u001b[31;1mInd[2]\u001b[0m\u001b[32;1m in\u001b[0m\u001b[31;1m Patients[S]\u001b[0m\u001b[32;1murgical\u001b[0m\u001b[31;1m Patients[Int]\u001b[0m\u001b[31;1mestinal[ensive]\u001b[0m\u001b[32;1m Care\u001b[0m\u001b[31;1m Patients[Unit]\u001b[0m\u001b[32;1m Patients\u001b[0m\u001b[31;1m With[Under]\u001b[0m\u001b[32;1mgoing\u001b[0m\u001b[32;1m Non\u001b[0m\u001b[32;1m-\u001b[0m\u001b[31;1mSmall[card]\u001b[0m\u001b[32;1miac\u001b[0m\u001b[32;1m Surgery\u001b[0m\u001b[32;1m</s>\u001b[0m\n",
      "\n",
      "\n"
     ]
    },
    {
     "name": "stderr",
     "output_type": "stream",
     "text": [
      "INFO:***** Running Evaluation *****\n",
      "INFO:  Num examples = 2970\n",
      "INFO:  Batch size = 32\n"
     ]
    },
    {
     "name": "stdout",
     "output_type": "stream",
     "text": [
      "\n",
      "\n",
      "\u001b[32;1m<s>\u001b[0m\u001b[31;1mLong[First]\u001b[0m\u001b[32;1m-\u001b[0m\u001b[31;1mline[response]\u001b[0m\u001b[31;1m care[treatment]\u001b[0m\u001b[31;1m with[after]\u001b[0m\u001b[31;1m post[out]\u001b[0m\u001b[32;1m-\u001b[0m\u001b[32;1mof\u001b[0m\u001b[32;1m-\u001b[0m\u001b[32;1mhospital\u001b[0m\u001b[31;1m coronary[cardiac]\u001b[0m\u001b[32;1m arrest\u001b[0m\u001b[32;1m:\u001b[0m\u001b[31;1m results[a]\u001b[0m\u001b[31;1m qualitative[survey]\u001b[0m\u001b[32;1m of\u001b[0m\u001b[31;1m qualitative[current]\u001b[0m\u001b[31;1m health[practices]\u001b[0m\u001b[31;1m from[across]\u001b[0m\u001b[31;1m two[29]\u001b[0m\u001b[32;1m countries\u001b[0m\u001b[32;1m in\u001b[0m\u001b[31;1m China[Europe]\u001b[0m\u001b[32;1m</s>\u001b[0m\n",
      "\n",
      "\n"
     ]
    },
    {
     "name": "stderr",
     "output_type": "stream",
     "text": [
      "INFO:***** Running Evaluation *****\n",
      "INFO:  Num examples = 2970\n",
      "INFO:  Batch size = 32\n"
     ]
    },
    {
     "name": "stdout",
     "output_type": "stream",
     "text": [
      "\n",
      "\n",
      "\u001b[32;1m<s>\u001b[0m\u001b[32;1mThe\u001b[0m\u001b[32;1m impact\u001b[0m\u001b[32;1m of\u001b[0m\u001b[31;1m health[removing]\u001b[0m\u001b[31;1m health[financial]\u001b[0m\u001b[31;1m support[incentives]\u001b[0m\u001b[31;1m on[from]\u001b[0m\u001b[31;1m health[clinical]\u001b[0m\u001b[31;1m trials[quality]\u001b[0m\u001b[31;1m of[indicators]\u001b[0m\u001b[32;1m:\u001b[0m\u001b[31;1m Comparison[longitudinal]\u001b[0m\u001b[32;1m analysis\u001b[0m\u001b[32;1m of\u001b[0m\u001b[31;1m two[four]\u001b[0m\u001b[31;1m European[Kaiser]\u001b[0m\u001b[31;1m National[P]\u001b[0m\u001b[31;1mneum[erman]\u001b[0m\u001b[31;1mence[ente]\u001b[0m\u001b[31;1m countries[indicators]\u001b[0m\u001b[32;1m</s>\u001b[0m\n",
      "\n",
      "\n"
     ]
    },
    {
     "name": "stderr",
     "output_type": "stream",
     "text": [
      "Saving model checkpoint to /lm_models/checkpoint-4000\n",
      "Trainer.model is not a `PreTrainedModel`, only saving its state dict.\n",
      "Deleting older checkpoint [/lm_models/checkpoint-1500] due to args.save_total_limit\n",
      "/opt/conda/lib/python3.8/site-packages/torch/nn/parallel/_functions.py:68: UserWarning: Was asked to gather along dimension 0, but all input tensors were scalars; will instead unsqueeze and return a vector.\n",
      "  warnings.warn('Was asked to gather along dimension 0, but all '\n",
      "INFO:***** Running Evaluation *****\n",
      "INFO:  Num examples = 2970\n",
      "INFO:  Batch size = 32\n"
     ]
    },
    {
     "name": "stdout",
     "output_type": "stream",
     "text": [
      "\n",
      "\n",
      "\u001b[32;1m<s>\u001b[0m\u001b[31;1mLong[Small]\u001b[0m\u001b[32;1m-\u001b[0m\u001b[31;1mscale[for]\u001b[0m\u001b[32;1m-\u001b[0m\u001b[31;1mrisk[gest]\u001b[0m\u001b[32;1mational\u001b[0m\u001b[31;1m physical[age]\u001b[0m\u001b[32;1m and\u001b[0m\u001b[32;1m its\u001b[0m\u001b[32;1m association\u001b[0m\u001b[32;1m with\u001b[0m\u001b[31;1m physical[maternal]\u001b[0m\u001b[31;1m physical[blood]\u001b[0m\u001b[31;1m pressure[glucose]\u001b[0m\u001b[32;1m,\u001b[0m\u001b[31;1m physical[body]\u001b[0m\u001b[32;1m mass\u001b[0m\u001b[32;1m index\u001b[0m\u001b[32;1m and\u001b[0m\u001b[31;1m chronic[stature]\u001b[0m\u001b[32;1m:\u001b[0m\u001b[32;1m a\u001b[0m\u001b[31;1m population[per]\u001b[0m\u001b[31;1mcut[in]\u001b[0m\u001b[32;1matal\u001b[0m\u001b[32;1m cohort\u001b[0m\u001b[32;1m study\u001b[0m\u001b[31;1m in[among]\u001b[0m\u001b[31;1m children[Chinese]\u001b[0m\u001b[31;1m children[women]\u001b[0m\u001b[32;1m</s>\u001b[0m\n",
      "\n",
      "\n"
     ]
    },
    {
     "name": "stderr",
     "output_type": "stream",
     "text": [
      "INFO:***** Running Evaluation *****\n",
      "INFO:  Num examples = 2970\n",
      "INFO:  Batch size = 32\n"
     ]
    },
    {
     "name": "stdout",
     "output_type": "stream",
     "text": [
      "\n",
      "\n",
      "\u001b[32;1m<s>\u001b[0m\u001b[31;1mNe[Ca]\u001b[0m\u001b[31;1m2[en]\u001b[0m\u001b[32;1mor\u001b[0m\u001b[32;1mhab\u001b[0m\u001b[32;1mdit\u001b[0m\u001b[32;1mis\u001b[0m\u001b[32;1m eleg\u001b[0m\u001b[32;1mans\u001b[0m\u001b[31;1m Ant[Hist]\u001b[0m\u001b[32;1mone\u001b[0m\u001b[31;1m Re[M]\u001b[0m\u001b[32;1methyl\u001b[0m\u001b[32;1mtransfer\u001b[0m\u001b[32;1mase\u001b[0m\u001b[31;1m In[MET]\u001b[0m\u001b[31;1m1[-]\u001b[0m\u001b[31;1m1[2]\u001b[0m\u001b[31;1m Is[Shields]\u001b[0m\u001b[32;1m the\u001b[0m\u001b[31;1m Human[Male]\u001b[0m\u001b[31;1m Human[X]\u001b[0m\u001b[31;1myl[Chrom]\u001b[0m\u001b[32;1mos\u001b[0m\u001b[32;1mome\u001b[0m\u001b[32;1m from\u001b[0m\u001b[31;1m Human[Check]\u001b[0m\u001b[32;1mpoint\u001b[0m\u001b[31;1m M[Mach]\u001b[0m\u001b[31;1min[inery]\u001b[0m\u001b[32;1m and\u001b[0m\u001b[31;1m Their[Med]\u001b[0m\u001b[31;1miated[iates]\u001b[0m\u001b[31;1m Human[Me]\u001b[0m\u001b[31;1masured[iotic]\u001b[0m\u001b[31;1m Stress[Sex]\u001b[0m\u001b[31;1mal[Chrom]\u001b[0m\u001b[32;1mos\u001b[0m\u001b[32;1mome\u001b[0m\u001b[31;1m Expression[In]\u001b[0m\u001b[31;1mhibition[activation]\u001b[0m\u001b[32;1m</s>\u001b[0m\n",
      "\n",
      "\n"
     ]
    },
    {
     "name": "stderr",
     "output_type": "stream",
     "text": [
      "INFO:***** Running Evaluation *****\n",
      "INFO:  Num examples = 2970\n",
      "INFO:  Batch size = 32\n"
     ]
    },
    {
     "name": "stdout",
     "output_type": "stream",
     "text": [
      "\n",
      "\n",
      "\u001b[32;1m<s>\u001b[0m\u001b[31;1mAss[Consider]\u001b[0m\u001b[32;1mations\u001b[0m\u001b[31;1m on[regarding]\u001b[0m\u001b[31;1m clinical[treatment]\u001b[0m\u001b[31;1m performance[efficiency]\u001b[0m\u001b[32;1m,\u001b[0m\u001b[31;1m serum[diss]\u001b[0m\u001b[31;1mociation[oci]\u001b[0m\u001b[32;1mative\u001b[0m\u001b[31;1m changes[parts]\u001b[0m\u001b[32;1m and\u001b[0m\u001b[31;1m ang[diss]\u001b[0m\u001b[31;1mociation[oci]\u001b[0m\u001b[32;1mative\u001b[0m\u001b[31;1m exercise[am]\u001b[0m\u001b[31;1mel[nesia]\u001b[0m\u001b[32;1m for\u001b[0m\u001b[31;1m C[Hunt]\u001b[0m\u001b[31;1m�[j]\u001b[0m\u001b[31;1mö[ens]\u001b[0m\u001b[31;1m A[et]\u001b[0m\u001b[32;1m al\u001b[0m\u001b[32;1m.\u001b[0m\u001b[31;1m �[�]\u001b[0m\u001b[32;1m�\u001b[0m\u001b[32;1ms\u001b[0m\u001b[31;1m first[Sche]\u001b[0m\u001b[31;1mx[ma]\u001b[0m\u001b[31;1m for[Therapy]\u001b[0m\u001b[32;1m for\u001b[0m\u001b[31;1m acute[Diss]\u001b[0m\u001b[31;1molution[oci]\u001b[0m\u001b[32;1mative\u001b[0m\u001b[31;1m Disorder[Identity]\u001b[0m\u001b[32;1m Disorder\u001b[0m\u001b[32;1m</s>\u001b[0m\n",
      "\n",
      "\n"
     ]
    },
    {
     "name": "stderr",
     "output_type": "stream",
     "text": [
      "INFO:***** Running Evaluation *****\n",
      "INFO:  Num examples = 2970\n",
      "INFO:  Batch size = 32\n"
     ]
    },
    {
     "name": "stdout",
     "output_type": "stream",
     "text": [
      "\n",
      "\n",
      "\u001b[32;1m<s>\u001b[0m\u001b[31;1mEr[805]\u001b[0m\u001b[32;1m.\u001b[0m\u001b[31;1m Gl[Am]\u001b[0m\u001b[31;1mel[ik]\u001b[0m\u001b[31;1min[ac]\u001b[0m\u001b[32;1min\u001b[0m\u001b[31;1m Ant[Lip]\u001b[0m\u001b[31;1mid[os]\u001b[0m\u001b[31;1momal[ome]\u001b[0m\u001b[31;1m Re[In]\u001b[0m\u001b[31;1mhib[hal]\u001b[0m\u001b[32;1mation\u001b[0m\u001b[31;1m In[Susp]\u001b[0m\u001b[31;1mens[ension]\u001b[0m\u001b[32;1m (\u001b[0m\u001b[31;1mP[AL]\u001b[0m\u001b[31;1m-[IS]\u001b[0m\u001b[32;1m)\u001b[0m\u001b[31;1m for[Add]\u001b[0m\u001b[31;1mitive[-]\u001b[0m\u001b[31;1mUp[on]\u001b[0m\u001b[32;1m Therapy\u001b[0m\u001b[32;1m for\u001b[0m\u001b[31;1m Human[Ref]\u001b[0m\u001b[32;1mract\u001b[0m\u001b[32;1mory\u001b[0m\u001b[32;1m My\u001b[0m\u001b[31;1mel[c]\u001b[0m\u001b[32;1mob\u001b[0m\u001b[32;1macter\u001b[0m\u001b[32;1mium\u001b[0m\u001b[31;1m tuberculosis[av]\u001b[0m\u001b[32;1mium\u001b[0m\u001b[31;1m Infect[Complex]\u001b[0m\u001b[31;1mes[(]\u001b[0m\u001b[31;1mH[MAC]\u001b[0m\u001b[32;1m)\u001b[0m\u001b[31;1m Infect[Lung]\u001b[0m\u001b[31;1m Cancer[Disease]\u001b[0m\u001b[31;1m Using[:]\u001b[0m\u001b[31;1m In[Effect]\u001b[0m\u001b[32;1m of\u001b[0m\u001b[31;1m Pro[In]\u001b[0m\u001b[31;1mhib[Vit]\u001b[0m\u001b[32;1mro\u001b[0m\u001b[31;1m Ant[Am]\u001b[0m\u001b[31;1mel[ik]\u001b[0m\u001b[32;1mac\u001b[0m\u001b[32;1min\u001b[0m\u001b[31;1m on[Sus]\u001b[0m\u001b[32;1mcept\u001b[0m\u001b[32;1mibility\u001b[0m\u001b[32;1m on\u001b[0m\u001b[31;1m Hep[Sp]\u001b[0m\u001b[31;1mont[ut]\u001b[0m\u001b[32;1mum\u001b[0m\u001b[31;1m T[Culture]\u001b[0m\u001b[31;1m</s>[Conversion]\u001b[0m\u001b[32;1m</s>\u001b[0m\n",
      "\n",
      "\n"
     ]
    },
    {
     "name": "stderr",
     "output_type": "stream",
     "text": [
      "INFO:***** Running Evaluation *****\n",
      "INFO:  Num examples = 2970\n",
      "INFO:  Batch size = 32\n"
     ]
    },
    {
     "name": "stdout",
     "output_type": "stream",
     "text": [
      "\n",
      "\n",
      "\u001b[32;1m<s>\u001b[0m\u001b[31;1mEr[805]\u001b[0m\u001b[32;1m.\u001b[0m\u001b[31;1m Ant[Am]\u001b[0m\u001b[31;1mel[ik]\u001b[0m\u001b[32;1mac\u001b[0m\u001b[32;1min\u001b[0m\u001b[31;1m Re[Lip]\u001b[0m\u001b[31;1mid[os]\u001b[0m\u001b[31;1momal[ome]\u001b[0m\u001b[31;1m Re[In]\u001b[0m\u001b[31;1mhib[hal]\u001b[0m\u001b[32;1mation\u001b[0m\u001b[31;1m In[Susp]\u001b[0m\u001b[31;1mens[ension]\u001b[0m\u001b[32;1m (\u001b[0m\u001b[31;1mP[AL]\u001b[0m\u001b[31;1mP[IS]\u001b[0m\u001b[32;1m)\u001b[0m\u001b[31;1m for[Add]\u001b[0m\u001b[31;1mitive[-]\u001b[0m\u001b[31;1mUp[on]\u001b[0m\u001b[32;1m Therapy\u001b[0m\u001b[32;1m for\u001b[0m\u001b[31;1m Human[Ref]\u001b[0m\u001b[32;1mract\u001b[0m\u001b[32;1mory\u001b[0m\u001b[31;1m Hep[My]\u001b[0m\u001b[31;1mel[c]\u001b[0m\u001b[32;1mob\u001b[0m\u001b[32;1macter\u001b[0m\u001b[32;1mium\u001b[0m\u001b[31;1m tuberculosis[av]\u001b[0m\u001b[32;1mium\u001b[0m\u001b[31;1m Infect[Complex]\u001b[0m\u001b[31;1mes[(]\u001b[0m\u001b[31;1mC[MAC]\u001b[0m\u001b[32;1m)\u001b[0m\u001b[31;1m Infect[Lung]\u001b[0m\u001b[31;1m Cancer[Disease]\u001b[0m\u001b[31;1m Using[:]\u001b[0m\u001b[31;1m In[Effect]\u001b[0m\u001b[31;1m on[of]\u001b[0m\u001b[32;1m In\u001b[0m\u001b[31;1mhib[Vit]\u001b[0m\u001b[32;1mro\u001b[0m\u001b[31;1m Ant[Am]\u001b[0m\u001b[31;1mel[ik]\u001b[0m\u001b[32;1mac\u001b[0m\u001b[32;1min\u001b[0m\u001b[31;1m Therapy[Sus]\u001b[0m\u001b[32;1mcept\u001b[0m\u001b[32;1mibility\u001b[0m\u001b[32;1m on\u001b[0m\u001b[31;1m Inf[Sp]\u001b[0m\u001b[31;1minal[ut]\u001b[0m\u001b[32;1mum\u001b[0m\u001b[31;1m Cell[Culture]\u001b[0m\u001b[31;1m</s>[Conversion]\u001b[0m\u001b[32;1m</s>\u001b[0m\n",
      "\n",
      "\n"
     ]
    },
    {
     "name": "stderr",
     "output_type": "stream",
     "text": [
      "Saving model checkpoint to /lm_models/checkpoint-4500\n",
      "Trainer.model is not a `PreTrainedModel`, only saving its state dict.\n",
      "Deleting older checkpoint [/lm_models/checkpoint-2000] due to args.save_total_limit\n",
      "/opt/conda/lib/python3.8/site-packages/torch/nn/parallel/_functions.py:68: UserWarning: Was asked to gather along dimension 0, but all input tensors were scalars; will instead unsqueeze and return a vector.\n",
      "  warnings.warn('Was asked to gather along dimension 0, but all '\n",
      "INFO:***** Running Evaluation *****\n",
      "INFO:  Num examples = 2970\n",
      "INFO:  Batch size = 32\n"
     ]
    },
    {
     "name": "stdout",
     "output_type": "stream",
     "text": [
      "\n",
      "\n",
      "\u001b[32;1m<s>\u001b[0m\u001b[31;1mGen[Mult]\u001b[0m\u001b[31;1mic[ivariate]\u001b[0m\u001b[32;1m Gen\u001b[0m\u001b[32;1mome\u001b[0m\u001b[32;1m-\u001b[0m\u001b[32;1mWide\u001b[0m\u001b[31;1m Analysis[Association]\u001b[0m\u001b[31;1m Analysis[An]\u001b[0m\u001b[32;1malyses\u001b[0m\u001b[32;1m Reve\u001b[0m\u001b[31;1mals[al]\u001b[0m\u001b[32;1m the\u001b[0m\u001b[31;1m Gen[Genetic]\u001b[0m\u001b[31;1m Diversity[Bas]\u001b[0m\u001b[31;1meline[is]\u001b[0m\u001b[32;1m of\u001b[0m\u001b[31;1m Human[Seed]\u001b[0m\u001b[31;1m Met[Fat]\u001b[0m\u001b[32;1mty\u001b[0m\u001b[32;1m Acid\u001b[0m\u001b[31;1m Species[Com]\u001b[0m\u001b[32;1mposition\u001b[0m\u001b[32;1m in\u001b[0m\u001b[31;1m C[O]\u001b[0m\u001b[31;1mlig[at]\u001b[0m\u001b[32;1m (\u001b[0m\u001b[31;1mC[A]\u001b[0m\u001b[31;1medes[ven]\u001b[0m\u001b[32;1ma\u001b[0m\u001b[31;1m:[sat]\u001b[0m\u001b[32;1miva\u001b[0m\u001b[31;1m)[L]\u001b[0m\u001b[32;1m.)\u001b[0m\u001b[32;1m</s>\u001b[0m\n",
      "\n",
      "\n"
     ]
    },
    {
     "name": "stderr",
     "output_type": "stream",
     "text": [
      "INFO:***** Running Evaluation *****\n",
      "INFO:  Num examples = 2970\n",
      "INFO:  Batch size = 32\n"
     ]
    },
    {
     "name": "stdout",
     "output_type": "stream",
     "text": [
      "\n",
      "\n",
      "\u001b[32;1m<s>\u001b[0m\u001b[31;1mExp[Mark]\u001b[0m\u001b[32;1mers\u001b[0m\u001b[32;1m of\u001b[0m\u001b[31;1m DNA[type]\u001b[0m\u001b[31;1m 1[I]\u001b[0m\u001b[31;1m expression[collagen]\u001b[0m\u001b[31;1m expression[degradation]\u001b[0m\u001b[32;1m and\u001b[0m\u001b[31;1m in[synthesis]\u001b[0m\u001b[32;1m in\u001b[0m\u001b[32;1m the\u001b[0m\u001b[31;1m evaluation[monitoring]\u001b[0m\u001b[32;1m of\u001b[0m\u001b[31;1m prog[treatment]\u001b[0m\u001b[32;1m response\u001b[0m\u001b[32;1m in\u001b[0m\u001b[31;1m breast[bone]\u001b[0m\u001b[31;1m marrow[metast]\u001b[0m\u001b[32;1mases\u001b[0m\u001b[32;1m from\u001b[0m\u001b[32;1m breast\u001b[0m\u001b[31;1m cancer[carcin]\u001b[0m\u001b[32;1moma\u001b[0m\u001b[32;1m.\u001b[0m\u001b[32;1m</s>\u001b[0m\n",
      "\n",
      "\n"
     ]
    },
    {
     "name": "stderr",
     "output_type": "stream",
     "text": [
      "INFO:***** Running Evaluation *****\n",
      "INFO:  Num examples = 2970\n",
      "INFO:  Batch size = 32\n"
     ]
    },
    {
     "name": "stdout",
     "output_type": "stream",
     "text": [
      "\n",
      "\n",
      "\u001b[32;1m<s>\u001b[0m\u001b[32;1mCompar\u001b[0m\u001b[32;1mison\u001b[0m\u001b[32;1m of\u001b[0m\u001b[31;1m Clinical[Performance]\u001b[0m\u001b[31;1m Assessment[Achievement]\u001b[0m\u001b[31;1m Assessment[Award]\u001b[0m\u001b[31;1m Data[Recogn]\u001b[0m\u001b[32;1mition\u001b[0m\u001b[31;1m Data[With]\u001b[0m\u001b[31;1m Card[Primary]\u001b[0m\u001b[31;1m Care[Stro]\u001b[0m\u001b[32;1mke\u001b[0m\u001b[31;1m Care[Center]\u001b[0m\u001b[31;1m Care[Certification]\u001b[0m\u001b[32;1m for\u001b[0m\u001b[31;1m Chronic[Ac]\u001b[0m\u001b[32;1mute\u001b[0m\u001b[31;1m Kid[Is]\u001b[0m\u001b[32;1mche\u001b[0m\u001b[32;1mmic\u001b[0m\u001b[32;1m Stro\u001b[0m\u001b[32;1mke\u001b[0m\u001b[31;1m</s>[Care]\u001b[0m\u001b[32;1m</s>\u001b[0m\n",
      "\n",
      "\n"
     ]
    },
    {
     "name": "stderr",
     "output_type": "stream",
     "text": [
      "INFO:***** Running Evaluation *****\n",
      "INFO:  Num examples = 2970\n",
      "INFO:  Batch size = 32\n"
     ]
    },
    {
     "name": "stdout",
     "output_type": "stream",
     "text": [
      "\n",
      "\n",
      "\u001b[32;1m<s>\u001b[0m\u001b[32;1mThe\u001b[0m\u001b[31;1m New[Chinese]\u001b[0m\u001b[31;1m P[Her]\u001b[0m\u001b[32;1mbal\u001b[0m\u001b[31;1m P[Formula]\u001b[0m\u001b[31;1m B[Shen]\u001b[0m\u001b[32;1mz\u001b[0m\u001b[31;1mia[hu]\u001b[0m\u001b[31;1m-[T]\u001b[0m\u001b[31;1mox[ia]\u001b[0m\u001b[31;1mx[op]\u001b[0m\u001b[31;1mo[i]\u001b[0m\u001b[31;1m Ant[Gran]\u001b[0m\u001b[31;1mul[ule]\u001b[0m\u001b[31;1m Treatment[Results]\u001b[0m\u001b[32;1m in\u001b[0m\u001b[31;1m Ant[Met]\u001b[0m\u001b[32;1mabolic\u001b[0m\u001b[31;1m Risk[Improvement]\u001b[0m\u001b[32;1m in\u001b[0m\u001b[31;1m Human[Type]\u001b[0m\u001b[32;1m 2\u001b[0m\u001b[31;1m Diabetes[Di]\u001b[0m\u001b[32;1mabetic\u001b[0m\u001b[32;1m Rats\u001b[0m\u001b[32;1m by\u001b[0m\u001b[32;1m Mod\u001b[0m\u001b[32;1mulating\u001b[0m\u001b[32;1m the\u001b[0m\u001b[31;1m T[Gut]\u001b[0m\u001b[32;1m Micro\u001b[0m\u001b[32;1mbi\u001b[0m\u001b[32;1mota\u001b[0m\u001b[32;1m</s>\u001b[0m\n",
      "\n",
      "\n"
     ]
    },
    {
     "name": "stderr",
     "output_type": "stream",
     "text": [
      "INFO:***** Running Evaluation *****\n",
      "INFO:  Num examples = 2970\n",
      "INFO:  Batch size = 32\n"
     ]
    },
    {
     "name": "stdout",
     "output_type": "stream",
     "text": [
      "\n",
      "\n",
      "\u001b[32;1m<s>\u001b[0m\u001b[32;1mThe\u001b[0m\u001b[32;1m effects\u001b[0m\u001b[32;1m of\u001b[0m\u001b[31;1m high[short]\u001b[0m\u001b[32;1m-\u001b[0m\u001b[32;1mterm\u001b[0m\u001b[31;1m anti[hyp]\u001b[0m\u001b[32;1mox\u001b[0m\u001b[32;1mia\u001b[0m\u001b[32;1m on\u001b[0m\u001b[31;1m my[human]\u001b[0m\u001b[32;1m mes\u001b[0m\u001b[32;1mench\u001b[0m\u001b[32;1mym\u001b[0m\u001b[32;1mal\u001b[0m\u001b[32;1m stem\u001b[0m\u001b[31;1m cells[cell]\u001b[0m\u001b[32;1m proliferation\u001b[0m\u001b[32;1m,\u001b[0m\u001b[31;1m cell[viability]\u001b[0m\u001b[32;1m and\u001b[0m\u001b[31;1m T[p]\u001b[0m\u001b[31;1m53[16]\u001b[0m\u001b[31;1m expression[INK]\u001b[0m\u001b[31;1m1[4]\u001b[0m\u001b[31;1m expression[A]\u001b[0m\u001b[31;1m expression[mRNA]\u001b[0m\u001b[32;1m expression\u001b[0m\u001b[32;1m:\u001b[0m\u001b[31;1m a[Investigation]\u001b[0m\u001b[31;1m by[using]\u001b[0m\u001b[32;1m a\u001b[0m\u001b[31;1m novel[simple]\u001b[0m\u001b[31;1m micro[hyp]\u001b[0m\u001b[31;1mox[oxic]\u001b[0m\u001b[31;1m factor[culture]\u001b[0m\u001b[31;1m with[system]\u001b[0m\u001b[32;1m with\u001b[0m\u001b[32;1m a\u001b[0m\u001b[31;1m novel[de]\u001b[0m\u001b[31;1mformation[ox]\u001b[0m\u001b[31;1mia[id]\u001b[0m\u001b[31;1mative[izing]\u001b[0m\u001b[31;1m factor[agent]\u001b[0m\u001b[32;1m</s>\u001b[0m\n",
      "\n",
      "\n"
     ]
    },
    {
     "name": "stderr",
     "output_type": "stream",
     "text": [
      "Saving model checkpoint to /lm_models/checkpoint-5000\n",
      "Trainer.model is not a `PreTrainedModel`, only saving its state dict.\n",
      "Deleting older checkpoint [/lm_models/checkpoint-2500] due to args.save_total_limit\n",
      "/opt/conda/lib/python3.8/site-packages/torch/nn/parallel/_functions.py:68: UserWarning: Was asked to gather along dimension 0, but all input tensors were scalars; will instead unsqueeze and return a vector.\n",
      "  warnings.warn('Was asked to gather along dimension 0, but all '\n",
      "INFO:***** Running Evaluation *****\n",
      "INFO:  Num examples = 2970\n",
      "INFO:  Batch size = 32\n"
     ]
    },
    {
     "name": "stdout",
     "output_type": "stream",
     "text": [
      "\n",
      "\n",
      "\u001b[32;1m<s>\u001b[0m\u001b[32;1mPre\u001b[0m\u001b[32;1mval\u001b[0m\u001b[32;1mence\u001b[0m\u001b[32;1m of\u001b[0m\u001b[31;1m depression[hypertension]\u001b[0m\u001b[32;1m and\u001b[0m\u001b[31;1m chronic[pre]\u001b[0m\u001b[31;1mterm[hy]\u001b[0m\u001b[32;1mpert\u001b[0m\u001b[31;1mensive[ension]\u001b[0m\u001b[32;1m among\u001b[0m\u001b[32;1m children\u001b[0m\u001b[32;1m and\u001b[0m\u001b[32;1m adolescents\u001b[0m\u001b[32;1m in\u001b[0m\u001b[32;1m a\u001b[0m\u001b[31;1m rural[semi]\u001b[0m\u001b[32;1m-\u001b[0m\u001b[31;1mexper[urban]\u001b[0m\u001b[31;1m rural[area]\u001b[0m\u001b[32;1m of\u001b[0m\u001b[31;1m K[U]\u001b[0m\u001b[31;1m.[yo]\u001b[0m\u001b[31;1m District[Met]\u001b[0m\u001b[31;1mh[ropolis]\u001b[0m\u001b[32;1m,\u001b[0m\u001b[31;1m South[Nigeria]\u001b[0m\u001b[32;1m</s>\u001b[0m\n",
      "\n",
      "\n"
     ]
    },
    {
     "name": "stderr",
     "output_type": "stream",
     "text": [
      "INFO:***** Running Evaluation *****\n",
      "INFO:  Num examples = 2970\n",
      "INFO:  Batch size = 32\n"
     ]
    },
    {
     "name": "stdout",
     "output_type": "stream",
     "text": [
      "\n",
      "\n",
      "\u001b[32;1m<s>\u001b[0m\u001b[32;1mCl\u001b[0m\u001b[32;1minical\u001b[0m\u001b[32;1m practice\u001b[0m\u001b[31;1m for[guidelines]\u001b[0m\u001b[32;1m for\u001b[0m\u001b[32;1m the\u001b[0m\u001b[31;1m treatment[surgical]\u001b[0m\u001b[32;1m management\u001b[0m\u001b[32;1m of\u001b[0m\u001b[31;1m chronic[colon]\u001b[0m\u001b[32;1m cancer\u001b[0m\u001b[32;1m:\u001b[0m\u001b[32;1m a\u001b[0m\u001b[31;1m systematic[consensus]\u001b[0m\u001b[31;1m of[statement]\u001b[0m\u001b[32;1m of\u001b[0m\u001b[32;1m the\u001b[0m\u001b[31;1m Breast[Hell]\u001b[0m\u001b[31;1men[enic]\u001b[0m\u001b[31;1m Breast[and]\u001b[0m\u001b[31;1m Human[Cy]\u001b[0m\u001b[31;1mt[pri]\u001b[0m\u001b[31;1mo[ot]\u001b[0m\u001b[31;1m Breast[Col]\u001b[0m\u001b[32;1more\u001b[0m\u001b[32;1mct\u001b[0m\u001b[32;1mal\u001b[0m\u001b[32;1m Cancer\u001b[0m\u001b[31;1m Registry[Study]\u001b[0m\u001b[31;1m ([Group]\u001b[0m\u001b[31;1m ([by]\u001b[0m\u001b[32;1m the\u001b[0m\u001b[31;1m C[He]\u001b[0m\u001b[31;1mLa[S]\u001b[0m\u001b[31;1mIS[MO]\u001b[0m\u001b[31;1m-[*]\u001b[0m\u001b[32;1m</s>\u001b[0m\n",
      "\n",
      "\n"
     ]
    },
    {
     "name": "stderr",
     "output_type": "stream",
     "text": [
      "INFO:***** Running Evaluation *****\n",
      "INFO:  Num examples = 2970\n",
      "INFO:  Batch size = 32\n"
     ]
    },
    {
     "name": "stdout",
     "output_type": "stream",
     "text": [
      "\n",
      "\n",
      "\u001b[32;1m<s>\u001b[0m\u001b[31;1mLong[Case]\u001b[0m\u001b[32;1m of\u001b[0m\u001b[31;1m In[En]\u001b[0m\u001b[31;1mz[larg]\u001b[0m\u001b[32;1mement\u001b[0m\u001b[32;1m of\u001b[0m\u001b[32;1m the\u001b[0m\u001b[31;1m Ar[Heart]\u001b[0m\u001b[32;1m,\u001b[0m\u001b[32;1m with\u001b[0m\u001b[31;1m,[Poly]\u001b[0m\u001b[31;1m,[pi]\u001b[0m\u001b[32;1m,\u001b[0m\u001b[31;1m with[&]\u001b[0m\u001b[31;1mN[c]\u001b[0m\u001b[32;1m.\u001b[0m\u001b[31;1m Is[Which]\u001b[0m\u001b[31;1m Is[Occ]\u001b[0m\u001b[31;1murrence[urred]\u001b[0m\u001b[31;1m at[on]\u001b[0m\u001b[31;1m the[Board]\u001b[0m\u001b[32;1m the\u001b[0m\u001b[31;1m University[Honour]\u001b[0m\u001b[31;1m of[able]\u001b[0m\u001b[31;1m University[East]\u001b[0m\u001b[31;1m American[India]\u001b[0m\u001b[31;1m Medical[Company]\u001b[0m\u001b[31;1m</s>['s]\u001b[0m\u001b[31;1m Medical[Ship]\u001b[0m\u001b[31;1m</s>[Carn]\u001b[0m\u001b[31;1miv[atic]\u001b[0m\u001b[32;1m</s>\u001b[0m\n",
      "\n",
      "\n"
     ]
    },
    {
     "name": "stderr",
     "output_type": "stream",
     "text": [
      "INFO:***** Running Evaluation *****\n",
      "INFO:  Num examples = 2970\n",
      "INFO:  Batch size = 32\n"
     ]
    },
    {
     "name": "stdout",
     "output_type": "stream",
     "text": [
      "\n",
      "\n",
      "\u001b[32;1m<s>\u001b[0m\u001b[31;1mGen[Mult]\u001b[0m\u001b[32;1mivariate\u001b[0m\u001b[32;1m Gen\u001b[0m\u001b[32;1mome\u001b[0m\u001b[32;1m-\u001b[0m\u001b[32;1mWide\u001b[0m\u001b[31;1m Analysis[Association]\u001b[0m\u001b[31;1m Study[An]\u001b[0m\u001b[32;1malyses\u001b[0m\u001b[32;1m Reve\u001b[0m\u001b[31;1mals[al]\u001b[0m\u001b[32;1m the\u001b[0m\u001b[32;1m Genetic\u001b[0m\u001b[31;1m Vari[Bas]\u001b[0m\u001b[32;1mis\u001b[0m\u001b[32;1m of\u001b[0m\u001b[31;1m Plant[Seed]\u001b[0m\u001b[31;1m Micro[Fat]\u001b[0m\u001b[32;1mty\u001b[0m\u001b[32;1m Acid\u001b[0m\u001b[31;1m Complex[Com]\u001b[0m\u001b[32;1mposition\u001b[0m\u001b[32;1m in\u001b[0m\u001b[31;1m D[O]\u001b[0m\u001b[31;1mry[at]\u001b[0m\u001b[32;1m (\u001b[0m\u001b[31;1mL[A]\u001b[0m\u001b[31;1mne[ven]\u001b[0m\u001b[32;1ma\u001b[0m\u001b[32;1m sat\u001b[0m\u001b[32;1miva\u001b[0m\u001b[32;1m L\u001b[0m\u001b[32;1m.)\u001b[0m\u001b[32;1m</s>\u001b[0m\n",
      "\n",
      "\n"
     ]
    },
    {
     "name": "stderr",
     "output_type": "stream",
     "text": [
      "INFO:***** Running Evaluation *****\n",
      "INFO:  Num examples = 2970\n",
      "INFO:  Batch size = 32\n"
     ]
    },
    {
     "name": "stdout",
     "output_type": "stream",
     "text": [
      "\n",
      "\n",
      "\u001b[32;1m<s>\u001b[0m\u001b[31;1mHealth[Pat]\u001b[0m\u001b[31;1mients[ient]\u001b[0m\u001b[31;1m satisfaction[portal]\u001b[0m\u001b[31;1m intervention[messaging]\u001b[0m\u001b[32;1m for\u001b[0m\u001b[32;1m care\u001b[0m\u001b[31;1m management[coordination]\u001b[0m\u001b[32;1m:\u001b[0m\u001b[32;1m a\u001b[0m\u001b[31;1m study[qualitative]\u001b[0m\u001b[32;1m study\u001b[0m\u001b[32;1m of\u001b[0m\u001b[31;1m experiences[perspectives]\u001b[0m\u001b[32;1m of\u001b[0m\u001b[31;1m people[experienced]\u001b[0m\u001b[31;1m patients[users]\u001b[0m\u001b[32;1m with\u001b[0m\u001b[31;1m schizophrenia[chronic]\u001b[0m\u001b[31;1m disease[conditions]\u001b[0m\u001b[32;1m</s>\u001b[0m\n",
      "\n",
      "\n"
     ]
    },
    {
     "name": "stderr",
     "output_type": "stream",
     "text": [
      "Saving model checkpoint to /lm_models/checkpoint-5500\n",
      "Trainer.model is not a `PreTrainedModel`, only saving its state dict.\n",
      "Deleting older checkpoint [/lm_models/checkpoint-3000] due to args.save_total_limit\n",
      "/opt/conda/lib/python3.8/site-packages/torch/nn/parallel/_functions.py:68: UserWarning: Was asked to gather along dimension 0, but all input tensors were scalars; will instead unsqueeze and return a vector.\n",
      "  warnings.warn('Was asked to gather along dimension 0, but all '\n",
      "INFO:***** Running Evaluation *****\n",
      "INFO:  Num examples = 2970\n",
      "INFO:  Batch size = 32\n"
     ]
    },
    {
     "name": "stdout",
     "output_type": "stream",
     "text": [
      "\n",
      "\n",
      "\u001b[32;1m<s>\u001b[0m\u001b[32;1mPat\u001b[0m\u001b[32;1mient\u001b[0m\u001b[31;1m satisfaction[portal]\u001b[0m\u001b[31;1m intervention[messaging]\u001b[0m\u001b[32;1m for\u001b[0m\u001b[32;1m care\u001b[0m\u001b[31;1m management[coordination]\u001b[0m\u001b[32;1m:\u001b[0m\u001b[32;1m a\u001b[0m\u001b[32;1m qualitative\u001b[0m\u001b[32;1m study\u001b[0m\u001b[32;1m of\u001b[0m\u001b[31;1m experiences[perspectives]\u001b[0m\u001b[32;1m of\u001b[0m\u001b[31;1m people[experienced]\u001b[0m\u001b[31;1m patients[users]\u001b[0m\u001b[32;1m with\u001b[0m\u001b[32;1m chronic\u001b[0m\u001b[31;1m pain[conditions]\u001b[0m\u001b[32;1m</s>\u001b[0m\n",
      "\n",
      "\n"
     ]
    },
    {
     "name": "stderr",
     "output_type": "stream",
     "text": [
      "INFO:***** Running Evaluation *****\n",
      "INFO:  Num examples = 2970\n",
      "INFO:  Batch size = 32\n"
     ]
    },
    {
     "name": "stdout",
     "output_type": "stream",
     "text": [
      "\n",
      "\n",
      "\u001b[32;1m<s>\u001b[0m\u001b[31;1mOn[Case]\u001b[0m\u001b[32;1m of\u001b[0m\u001b[31;1m End[En]\u001b[0m\u001b[31;1mz[larg]\u001b[0m\u001b[32;1mement\u001b[0m\u001b[32;1m of\u001b[0m\u001b[32;1m the\u001b[0m\u001b[31;1m Brain[Heart]\u001b[0m\u001b[32;1m,\u001b[0m\u001b[32;1m with\u001b[0m\u001b[31;1m,[Poly]\u001b[0m\u001b[31;1m,[pi]\u001b[0m\u001b[32;1m,\u001b[0m\u001b[31;1m and[&]\u001b[0m\u001b[32;1mc\u001b[0m\u001b[31;1m,[.]\u001b[0m\u001b[31;1m Is[Which]\u001b[0m\u001b[31;1m Is[Occ]\u001b[0m\u001b[31;1murring[urred]\u001b[0m\u001b[31;1m with[on]\u001b[0m\u001b[31;1m the[Board]\u001b[0m\u001b[32;1m the\u001b[0m\u001b[31;1m University[Honour]\u001b[0m\u001b[31;1mary[able]\u001b[0m\u001b[31;1m Glasgow[East]\u001b[0m\u001b[31;1m African[India]\u001b[0m\u001b[31;1m City[Company]\u001b[0m\u001b[31;1m�['s]\u001b[0m\u001b[31;1m F[Ship]\u001b[0m\u001b[31;1m</s>[Carn]\u001b[0m\u001b[31;1miv[atic]\u001b[0m\u001b[32;1m</s>\u001b[0m\n",
      "\n",
      "\n"
     ]
    },
    {
     "name": "stderr",
     "output_type": "stream",
     "text": [
      "INFO:***** Running Evaluation *****\n",
      "INFO:  Num examples = 2970\n",
      "INFO:  Batch size = 32\n"
     ]
    },
    {
     "name": "stdout",
     "output_type": "stream",
     "text": [
      "\n",
      "\n",
      "\u001b[32;1m<s>\u001b[0m\u001b[32;1mThe\u001b[0m\u001b[31;1m New[Chinese]\u001b[0m\u001b[32;1m Her\u001b[0m\u001b[32;1mbal\u001b[0m\u001b[31;1m Medicine[Formula]\u001b[0m\u001b[31;1m L[Shen]\u001b[0m\u001b[31;1man[z]\u001b[0m\u001b[31;1mia[hu]\u001b[0m\u001b[31;1mia[T]\u001b[0m\u001b[31;1mrit[ia]\u001b[0m\u001b[31;1mx[op]\u001b[0m\u001b[31;1mo[i]\u001b[0m\u001b[31;1moc[Gran]\u001b[0m\u001b[31;1mul[ule]\u001b[0m\u001b[31;1m Treatment[Results]\u001b[0m\u001b[32;1m in\u001b[0m\u001b[31;1m Ant[Met]\u001b[0m\u001b[31;1mast[abolic]\u001b[0m\u001b[31;1m Response[Improvement]\u001b[0m\u001b[32;1m in\u001b[0m\u001b[31;1m Human[Type]\u001b[0m\u001b[32;1m 2\u001b[0m\u001b[31;1m Diabetes[Di]\u001b[0m\u001b[32;1mabetic\u001b[0m\u001b[31;1m Patients[Rats]\u001b[0m\u001b[32;1m by\u001b[0m\u001b[31;1m the[Mod]\u001b[0m\u001b[32;1mulating\u001b[0m\u001b[32;1m the\u001b[0m\u001b[31;1m Micro[Gut]\u001b[0m\u001b[32;1m Micro\u001b[0m\u001b[32;1mbi\u001b[0m\u001b[32;1mota\u001b[0m\u001b[32;1m</s>\u001b[0m\n",
      "\n",
      "\n"
     ]
    },
    {
     "name": "stderr",
     "output_type": "stream",
     "text": [
      "INFO:***** Running Evaluation *****\n",
      "INFO:  Num examples = 2970\n",
      "INFO:  Batch size = 32\n"
     ]
    },
    {
     "name": "stdout",
     "output_type": "stream",
     "text": [
      "\n",
      "\n",
      "\u001b[32;1m<s>\u001b[0m\u001b[32;1mPre\u001b[0m\u001b[32;1mval\u001b[0m\u001b[32;1mence\u001b[0m\u001b[32;1m,\u001b[0m\u001b[31;1m prevalence[intensity]\u001b[0m\u001b[32;1m and\u001b[0m\u001b[31;1m prevalence[risk]\u001b[0m\u001b[32;1m factors\u001b[0m\u001b[32;1m of\u001b[0m\u001b[31;1m l[t]\u001b[0m\u001b[31;1machy[ung]\u001b[0m\u001b[31;1mue[iasis]\u001b[0m\u001b[32;1m in\u001b[0m\u001b[31;1m South[Kil]\u001b[0m\u001b[31;1mico[ifi]\u001b[0m\u001b[31;1m Province[County]\u001b[0m\u001b[32;1m,\u001b[0m\u001b[31;1m China[Kenya]\u001b[0m\u001b[31;1m:[II]\u001b[0m\u001b[32;1m:\u001b[0m\u001b[31;1m results[Results]\u001b[0m\u001b[32;1m from\u001b[0m\u001b[32;1m a\u001b[0m\u001b[31;1m cross[school]\u001b[0m\u001b[32;1m-\u001b[0m\u001b[32;1mbased\u001b[0m\u001b[31;1m cohort[observational]\u001b[0m\u001b[32;1m study\u001b[0m\u001b[32;1m</s>\u001b[0m\n",
      "\n",
      "\n"
     ]
    },
    {
     "name": "stderr",
     "output_type": "stream",
     "text": [
      "INFO:***** Running Evaluation *****\n",
      "INFO:  Num examples = 2970\n",
      "INFO:  Batch size = 32\n"
     ]
    },
    {
     "name": "stdout",
     "output_type": "stream",
     "text": [
      "\n",
      "\n",
      "\u001b[32;1m<s>\u001b[0m\u001b[31;1mMultiple[Top]\u001b[0m\u001b[31;1mical[Mobile]\u001b[0m\u001b[31;1m Systems[Applications]\u001b[0m\u001b[32;1m in\u001b[0m\u001b[31;1m Children[Pediatrics]\u001b[0m\u001b[32;1m and\u001b[0m\u001b[31;1m Ad[Children]\u001b[0m\u001b[32;1m�\u001b[0m\u001b[32;1m�\u001b[0m\u001b[32;1ms\u001b[0m\u001b[32;1m Health\u001b[0m\u001b[32;1m:\u001b[0m\u001b[31;1m Information[Assessment]\u001b[0m\u001b[32;1m and\u001b[0m\u001b[31;1m Pharmac[Intelligent]\u001b[0m\u001b[31;1m Monitoring[Analysis]\u001b[0m\u001b[31;1m for[Tools]\u001b[0m\u001b[32;1m for\u001b[0m\u001b[32;1m a\u001b[0m\u001b[32;1m System\u001b[0m\u001b[32;1matic\u001b[0m\u001b[31;1m Review[Investigation]\u001b[0m\u001b[32;1m</s>\u001b[0m\n",
      "\n",
      "\n"
     ]
    },
    {
     "name": "stderr",
     "output_type": "stream",
     "text": [
      "Saving model checkpoint to /lm_models/checkpoint-6000\n",
      "Trainer.model is not a `PreTrainedModel`, only saving its state dict.\n",
      "Deleting older checkpoint [/lm_models/checkpoint-3500] due to args.save_total_limit\n",
      "/opt/conda/lib/python3.8/site-packages/torch/nn/parallel/_functions.py:68: UserWarning: Was asked to gather along dimension 0, but all input tensors were scalars; will instead unsqueeze and return a vector.\n",
      "  warnings.warn('Was asked to gather along dimension 0, but all '\n",
      "INFO:***** Running Evaluation *****\n",
      "INFO:  Num examples = 2970\n",
      "INFO:  Batch size = 32\n"
     ]
    },
    {
     "name": "stdout",
     "output_type": "stream",
     "text": [
      "\n",
      "\n",
      "\u001b[32;1m<s>\u001b[0m\u001b[31;1mInteg[Target]\u001b[0m\u001b[31;1med[-]\u001b[0m\u001b[31;1mbased[similar]\u001b[0m\u001b[31;1m analysis[ity]\u001b[0m\u001b[31;1m analysis[search]\u001b[0m\u001b[32;1m using\u001b[0m\u001b[32;1m Pl\u001b[0m\u001b[32;1mas\u001b[0m\u001b[32;1mmod\u001b[0m\u001b[32;1mium\u001b[0m\u001b[32;1m fal\u001b[0m\u001b[32;1mc\u001b[0m\u001b[32;1mip\u001b[0m\u001b[32;1mar\u001b[0m\u001b[32;1mum\u001b[0m\u001b[31;1m DNA[prote]\u001b[0m\u001b[32;1mome\u001b[0m\u001b[31;1m reveals[identifies]\u001b[0m\u001b[31;1m novel[approved]\u001b[0m\u001b[31;1m drug[drugs]\u001b[0m\u001b[32;1m with\u001b[0m\u001b[32;1m anti\u001b[0m\u001b[32;1m-\u001b[0m\u001b[31;1minflammatory[mal]\u001b[0m\u001b[31;1mignant[arial]\u001b[0m\u001b[32;1m activity\u001b[0m\u001b[32;1m and\u001b[0m\u001b[31;1m its[their]\u001b[0m\u001b[31;1m potential[possible]\u001b[0m\u001b[31;1m potential[targets]\u001b[0m\u001b[32;1m</s>\u001b[0m\n",
      "\n",
      "\n"
     ]
    },
    {
     "name": "stderr",
     "output_type": "stream",
     "text": [
      "INFO:***** Running Evaluation *****\n",
      "INFO:  Num examples = 2970\n",
      "INFO:  Batch size = 32\n"
     ]
    },
    {
     "name": "stdout",
     "output_type": "stream",
     "text": [
      "\n",
      "\n",
      "\u001b[32;1m<s>\u001b[0m\u001b[32;1mPro\u001b[0m\u001b[32;1mgn\u001b[0m\u001b[32;1mostic\u001b[0m\u001b[31;1m Value[Role]\u001b[0m\u001b[32;1m of\u001b[0m\u001b[31;1m Non[High]\u001b[0m\u001b[32;1m-\u001b[0m\u001b[31;1mrisk[s]\u001b[0m\u001b[32;1mensitivity\u001b[0m\u001b[31;1m Gast[Card]\u001b[0m\u001b[31;1mi[iac]\u001b[0m\u001b[31;1m T[Trop]\u001b[0m\u001b[32;1mon\u001b[0m\u001b[32;1min\u001b[0m\u001b[31;1m and[I]\u001b[0m\u001b[32;1m and\u001b[0m\u001b[31;1m Inter[Sol]\u001b[0m\u001b[32;1muble\u001b[0m\u001b[31;1m Re[Supp]\u001b[0m\u001b[32;1mression\u001b[0m\u001b[32;1m of\u001b[0m\u001b[32;1m T\u001b[0m\u001b[32;1mum\u001b[0m\u001b[32;1mor\u001b[0m\u001b[31;1m-[igen]\u001b[0m\u001b[31;1mic[icity]\u001b[0m\u001b[32;1m-\u001b[0m\u001b[31;1mD[2]\u001b[0m\u001b[32;1m in\u001b[0m\u001b[31;1m Non[S]\u001b[0m\u001b[32;1murgical\u001b[0m\u001b[31;1m Patients[Int]\u001b[0m\u001b[31;1mestinal[ensive]\u001b[0m\u001b[32;1m Care\u001b[0m\u001b[32;1m Unit\u001b[0m\u001b[32;1m Patients\u001b[0m\u001b[32;1m Under\u001b[0m\u001b[32;1mgoing\u001b[0m\u001b[31;1m Per[Non]\u001b[0m\u001b[32;1m-\u001b[0m\u001b[31;1mSmall[card]\u001b[0m\u001b[32;1miac\u001b[0m\u001b[32;1m Surgery\u001b[0m\u001b[32;1m</s>\u001b[0m\n",
      "\n",
      "\n"
     ]
    },
    {
     "name": "stderr",
     "output_type": "stream",
     "text": [
      "INFO:***** Running Evaluation *****\n",
      "INFO:  Num examples = 2970\n",
      "INFO:  Batch size = 32\n"
     ]
    },
    {
     "name": "stdout",
     "output_type": "stream",
     "text": [
      "\n",
      "\n",
      "\u001b[32;1m<s>\u001b[0m\u001b[32;1mCompar\u001b[0m\u001b[32;1mison\u001b[0m\u001b[32;1m of\u001b[0m\u001b[32;1m Performance\u001b[0m\u001b[31;1m Performance[Achievement]\u001b[0m\u001b[31;1m Score[Award]\u001b[0m\u001b[31;1m Use[Recogn]\u001b[0m\u001b[32;1mition\u001b[0m\u001b[31;1m for[With]\u001b[0m\u001b[31;1m Ped[Primary]\u001b[0m\u001b[31;1m Heart[Stro]\u001b[0m\u001b[32;1mke\u001b[0m\u001b[31;1m Care[Center]\u001b[0m\u001b[31;1m Out[Certification]\u001b[0m\u001b[32;1m for\u001b[0m\u001b[31;1m Chronic[Ac]\u001b[0m\u001b[32;1mute\u001b[0m\u001b[31;1m Res[Is]\u001b[0m\u001b[32;1mche\u001b[0m\u001b[32;1mmic\u001b[0m\u001b[32;1m Stro\u001b[0m\u001b[32;1mke\u001b[0m\u001b[32;1m Care\u001b[0m\u001b[32;1m</s>\u001b[0m\n",
      "\n",
      "\n"
     ]
    },
    {
     "name": "stderr",
     "output_type": "stream",
     "text": [
      "INFO:***** Running Evaluation *****\n",
      "INFO:  Num examples = 2970\n",
      "INFO:  Batch size = 32\n"
     ]
    },
    {
     "name": "stdout",
     "output_type": "stream",
     "text": [
      "\n",
      "\n",
      "\u001b[32;1m<s>\u001b[0m\u001b[31;1mCor[Me]\u001b[0m\u001b[31;1masuring[iotic]\u001b[0m\u001b[31;1m profiles[analyses]\u001b[0m\u001b[31;1m reveal[show]\u001b[0m\u001b[31;1m effects[adaptations]\u001b[0m\u001b[32;1m to\u001b[0m\u001b[31;1m growth[maintenance]\u001b[0m\u001b[32;1m of\u001b[0m\u001b[31;1m the[fertility]\u001b[0m\u001b[32;1m in\u001b[0m\u001b[31;1m C[X]\u001b[0m\u001b[31;1manth[1]\u001b[0m\u001b[31;1m.[Y]\u001b[0m\u001b[31;1m2[1]\u001b[0m\u001b[31;1mA[X]\u001b[0m\u001b[32;1m2\u001b[0m\u001b[31;1m.[Y]\u001b[0m\u001b[32;1m2\u001b[0m\u001b[31;1mA[X]\u001b[0m\u001b[31;1m4[3]\u001b[0m\u001b[31;1mD[Y]\u001b[0m\u001b[31;1m4[3]\u001b[0m\u001b[31;1mD[X]\u001b[0m\u001b[32;1m4\u001b[0m\u001b[31;1m.[Y]\u001b[0m\u001b[32;1m4\u001b[0m\u001b[31;1m.[X]\u001b[0m\u001b[31;1m4[5]\u001b[0m\u001b[31;1m.[Y]\u001b[0m\u001b[31;1m2[5]\u001b[0m\u001b[31;1m.[system]\u001b[0m\u001b[32;1m of\u001b[0m\u001b[31;1m Bac[am]\u001b[0m\u001b[31;1myl[azon]\u001b[0m\u001b[31;1mia[frog]\u001b[0m\u001b[31;1m ([Le]\u001b[0m\u001b[31;1mish[pt]\u001b[0m\u001b[31;1mom[od]\u001b[0m\u001b[31;1mys[act]\u001b[0m\u001b[32;1myl\u001b[0m\u001b[32;1mus\u001b[0m\u001b[31;1m ([pent]\u001b[0m\u001b[31;1ma[ad]\u001b[0m\u001b[32;1mact\u001b[0m\u001b[32;1myl\u001b[0m\u001b[32;1mus\u001b[0m\u001b[32;1m (\u001b[0m\u001b[31;1mD[La]\u001b[0m\u001b[31;1m)[ure]\u001b[0m\u001b[31;1ma[nt]\u001b[0m\u001b[31;1mes[i]\u001b[0m\u001b[31;1maceae[,]\u001b[0m\u001b[31;1m C[17]\u001b[0m\u001b[31;1mth[68]\u001b[0m\u001b[32;1m)\u001b[0m\u001b[32;1m</s>\u001b[0m\n",
      "\n",
      "\n"
     ]
    },
    {
     "name": "stderr",
     "output_type": "stream",
     "text": [
      "INFO:***** Running Evaluation *****\n",
      "INFO:  Num examples = 2970\n",
      "INFO:  Batch size = 32\n"
     ]
    },
    {
     "name": "stdout",
     "output_type": "stream",
     "text": [
      "\n",
      "\n",
      "\u001b[32;1m<s>\u001b[0m\u001b[31;1mT[S]\u001b[0m\u001b[31;1mper[int]\u001b[0m\u001b[31;1mam[il]\u001b[0m\u001b[31;1min[im]\u001b[0m\u001b[32;1mab\u001b[0m\u001b[32;1m,\u001b[0m\u001b[32;1m a\u001b[0m\u001b[31;1m Pro[PD]\u001b[0m\u001b[32;1m-\u001b[0m\u001b[32;1m1\u001b[0m\u001b[31;1m Re[In]\u001b[0m\u001b[32;1mhib\u001b[0m\u001b[32;1mitor\u001b[0m\u001b[32;1m,\u001b[0m\u001b[31;1m In[Complete]\u001b[0m\u001b[32;1mly\u001b[0m\u001b[31;1m In[Re]\u001b[0m\u001b[32;1mvers\u001b[0m\u001b[32;1med\u001b[0m\u001b[31;1m Post[Rare]\u001b[0m\u001b[31;1m Non[ly]\u001b[0m\u001b[31;1m Advanced[Ref]\u001b[0m\u001b[32;1mract\u001b[0m\u001b[32;1mory\u001b[0m\u001b[31;1m End[Hyp]\u001b[0m\u001b[31;1mox[of]\u001b[0m\u001b[31;1mlu[ibr]\u001b[0m\u001b[31;1millation[in]\u001b[0m\u001b[31;1mosis[ogen]\u001b[0m\u001b[31;1mic[emia]\u001b[0m\u001b[32;1m in\u001b[0m\u001b[32;1m a\u001b[0m\u001b[31;1m Patient[Gast]\u001b[0m\u001b[32;1mric\u001b[0m\u001b[32;1m Cancer\u001b[0m\u001b[32;1m Patient\u001b[0m\u001b[32;1m:\u001b[0m\u001b[32;1m A\u001b[0m\u001b[32;1m Case\u001b[0m\u001b[32;1m Report\u001b[0m\u001b[32;1m and\u001b[0m\u001b[32;1m Review\u001b[0m\u001b[32;1m of\u001b[0m\u001b[32;1m the\u001b[0m\u001b[32;1m Literature\u001b[0m\u001b[32;1m</s>\u001b[0m\n",
      "\n",
      "\n"
     ]
    },
    {
     "name": "stderr",
     "output_type": "stream",
     "text": [
      "Saving model checkpoint to /lm_models/checkpoint-6500\n",
      "Trainer.model is not a `PreTrainedModel`, only saving its state dict.\n",
      "Deleting older checkpoint [/lm_models/checkpoint-4000] due to args.save_total_limit\n",
      "/opt/conda/lib/python3.8/site-packages/torch/nn/parallel/_functions.py:68: UserWarning: Was asked to gather along dimension 0, but all input tensors were scalars; will instead unsqueeze and return a vector.\n",
      "  warnings.warn('Was asked to gather along dimension 0, but all '\n",
      "INFO:***** Running Evaluation *****\n",
      "INFO:  Num examples = 2970\n",
      "INFO:  Batch size = 32\n"
     ]
    },
    {
     "name": "stdout",
     "output_type": "stream",
     "text": [
      "\n",
      "\n",
      "\u001b[32;1m<s>\u001b[0m\u001b[31;1mCharacter[Det]\u001b[0m\u001b[32;1mection\u001b[0m\u001b[32;1m of\u001b[0m\u001b[32;1m a\u001b[0m\u001b[31;1m novel[CT]\u001b[0m\u001b[31;1mG[X]\u001b[0m\u001b[31;1m2[-]\u001b[0m\u001b[31;1m1[M]\u001b[0m\u001b[31;1m1[group]\u001b[0m\u001b[31;1m 1[2]\u001b[0m\u001b[31;1m N[beta]\u001b[0m\u001b[32;1m-\u001b[0m\u001b[32;1ml\u001b[0m\u001b[32;1mact\u001b[0m\u001b[32;1mam\u001b[0m\u001b[32;1mase\u001b[0m\u001b[32;1m gene\u001b[0m\u001b[32;1m in\u001b[0m\u001b[32;1m a\u001b[0m\u001b[31;1m mur[Kle]\u001b[0m\u001b[32;1mbs\u001b[0m\u001b[32;1mie\u001b[0m\u001b[32;1mlla\u001b[0m\u001b[32;1m pneumonia\u001b[0m\u001b[32;1me\u001b[0m\u001b[31;1m cohort[isolate]\u001b[0m\u001b[32;1m from\u001b[0m\u001b[32;1m a\u001b[0m\u001b[32;1m tert\u001b[0m\u001b[32;1miary\u001b[0m\u001b[32;1m care\u001b[0m\u001b[32;1m hospital\u001b[0m\u001b[32;1m,\u001b[0m\u001b[31;1m Northwest[Trinidad]\u001b[0m\u001b[31;1m,[and]\u001b[0m\u001b[31;1m Uganda[Tob]\u001b[0m\u001b[31;1mol[ago]\u001b[0m\u001b[31;1m,[</s>]\u001b[0m\n",
      "\n",
      "\n"
     ]
    },
    {
     "name": "stderr",
     "output_type": "stream",
     "text": [
      "INFO:***** Running Evaluation *****\n",
      "INFO:  Num examples = 2970\n",
      "INFO:  Batch size = 32\n"
     ]
    },
    {
     "name": "stdout",
     "output_type": "stream",
     "text": [
      "\n",
      "\n",
      "\u001b[32;1m<s>\u001b[0m\u001b[32;1mThe\u001b[0m\u001b[31;1m urban[global]\u001b[0m\u001b[31;1m social[economic]\u001b[0m\u001b[31;1m history[crisis]\u001b[0m\u001b[32;1m,\u001b[0m\u001b[31;1m social[household]\u001b[0m\u001b[31;1m social[income]\u001b[0m\u001b[32;1m and\u001b[0m\u001b[31;1m non[pre]\u001b[0m\u001b[32;1m-\u001b[0m\u001b[31;1mex[ad]\u001b[0m\u001b[31;1mherence[olescent]\u001b[0m\u001b[31;1m but[overweight]\u001b[0m\u001b[32;1m and\u001b[0m\u001b[32;1m under\u001b[0m\u001b[31;1mnutrition[weight]\u001b[0m\u001b[32;1m:\u001b[0m\u001b[32;1m a\u001b[0m\u001b[32;1m nationwide\u001b[0m\u001b[31;1m cohort[birth]\u001b[0m\u001b[32;1m cohort\u001b[0m\u001b[32;1m study\u001b[0m\u001b[32;1m in\u001b[0m\u001b[31;1m China[Japan]\u001b[0m\u001b[32;1m</s>\u001b[0m\n",
      "\n",
      "\n"
     ]
    },
    {
     "name": "stderr",
     "output_type": "stream",
     "text": [
      "INFO:***** Running Evaluation *****\n",
      "INFO:  Num examples = 2970\n",
      "INFO:  Batch size = 32\n"
     ]
    },
    {
     "name": "stdout",
     "output_type": "stream",
     "text": [
      "\n",
      "\n",
      "\u001b[32;1m<s>\u001b[0m\u001b[31;1mSelf[Small]\u001b[0m\u001b[32;1m-\u001b[0m\u001b[31;1mcell[for]\u001b[0m\u001b[32;1m-\u001b[0m\u001b[31;1msevere[gest]\u001b[0m\u001b[32;1mational\u001b[0m\u001b[32;1m age\u001b[0m\u001b[31;1m,[and]\u001b[0m\u001b[32;1m its\u001b[0m\u001b[32;1m association\u001b[0m\u001b[32;1m with\u001b[0m\u001b[31;1m body[maternal]\u001b[0m\u001b[32;1m blood\u001b[0m\u001b[32;1m glucose\u001b[0m\u001b[32;1m,\u001b[0m\u001b[32;1m body\u001b[0m\u001b[32;1m mass\u001b[0m\u001b[32;1m index\u001b[0m\u001b[31;1m,[and]\u001b[0m\u001b[31;1m body[stature]\u001b[0m\u001b[32;1m:\u001b[0m\u001b[32;1m a\u001b[0m\u001b[31;1m single[per]\u001b[0m\u001b[31;1mi[in]\u001b[0m\u001b[32;1matal\u001b[0m\u001b[32;1m cohort\u001b[0m\u001b[32;1m study\u001b[0m\u001b[31;1m in[among]\u001b[0m\u001b[32;1m Chinese\u001b[0m\u001b[32;1m women\u001b[0m\u001b[32;1m</s>\u001b[0m\n",
      "\n",
      "\n"
     ]
    },
    {
     "name": "stderr",
     "output_type": "stream",
     "text": [
      "INFO:***** Running Evaluation *****\n",
      "INFO:  Num examples = 2970\n",
      "INFO:  Batch size = 32\n"
     ]
    },
    {
     "name": "stdout",
     "output_type": "stream",
     "text": [
      "\n",
      "\n",
      "\u001b[32;1m<s>\u001b[0m\u001b[32;1mDet\u001b[0m\u001b[32;1mection\u001b[0m\u001b[32;1m of\u001b[0m\u001b[32;1m a\u001b[0m\u001b[31;1m novel[CT]\u001b[0m\u001b[31;1m2[X]\u001b[0m\u001b[32;1m-\u001b[0m\u001b[31;1m2[M]\u001b[0m\u001b[31;1m2[group]\u001b[0m\u001b[32;1m 2\u001b[0m\u001b[31;1m-[beta]\u001b[0m\u001b[32;1m-\u001b[0m\u001b[32;1ml\u001b[0m\u001b[32;1mact\u001b[0m\u001b[32;1mam\u001b[0m\u001b[32;1mase\u001b[0m\u001b[32;1m gene\u001b[0m\u001b[32;1m in\u001b[0m\u001b[32;1m a\u001b[0m\u001b[31;1m My[Kle]\u001b[0m\u001b[32;1mbs\u001b[0m\u001b[32;1mie\u001b[0m\u001b[32;1mlla\u001b[0m\u001b[32;1m pneumonia\u001b[0m\u001b[32;1me\u001b[0m\u001b[31;1m virus[isolate]\u001b[0m\u001b[32;1m from\u001b[0m\u001b[32;1m a\u001b[0m\u001b[32;1m tert\u001b[0m\u001b[32;1miary\u001b[0m\u001b[32;1m care\u001b[0m\u001b[32;1m hospital\u001b[0m\u001b[32;1m,\u001b[0m\u001b[31;1m Northwest[Trinidad]\u001b[0m\u001b[31;1m,[and]\u001b[0m\u001b[31;1m Spain[Tob]\u001b[0m\u001b[31;1mol[ago]\u001b[0m\u001b[32;1m</s>\u001b[0m\n",
      "\n",
      "\n"
     ]
    },
    {
     "name": "stderr",
     "output_type": "stream",
     "text": [
      "INFO:***** Running Evaluation *****\n",
      "INFO:  Num examples = 2970\n",
      "INFO:  Batch size = 32\n"
     ]
    },
    {
     "name": "stdout",
     "output_type": "stream",
     "text": [
      "\n",
      "\n",
      "\u001b[32;1m<s>\u001b[0m\u001b[31;1mCh[Ca]\u001b[0m\u001b[32;1men\u001b[0m\u001b[32;1mor\u001b[0m\u001b[32;1mhab\u001b[0m\u001b[32;1mdit\u001b[0m\u001b[32;1mis\u001b[0m\u001b[32;1m eleg\u001b[0m\u001b[32;1mans\u001b[0m\u001b[31;1m Protein[Hist]\u001b[0m\u001b[32;1mone\u001b[0m\u001b[31;1m Kin[M]\u001b[0m\u001b[32;1methyl\u001b[0m\u001b[32;1mtransfer\u001b[0m\u001b[32;1mase\u001b[0m\u001b[31;1m-[MET]\u001b[0m\u001b[32;1m-\u001b[0m\u001b[31;1m1[2]\u001b[0m\u001b[31;1m Poly[Shields]\u001b[0m\u001b[32;1m the\u001b[0m\u001b[31;1m Z[Male]\u001b[0m\u001b[31;1m N[X]\u001b[0m\u001b[31;1m-[Chrom]\u001b[0m\u001b[32;1mos\u001b[0m\u001b[32;1mome\u001b[0m\u001b[32;1m from\u001b[0m\u001b[31;1m Urban[Check]\u001b[0m\u001b[32;1mpoint\u001b[0m\u001b[31;1m Air[Mach]\u001b[0m\u001b[32;1minery\u001b[0m\u001b[32;1m and\u001b[0m\u001b[31;1m Its[Med]\u001b[0m\u001b[31;1miated[iates]\u001b[0m\u001b[31;1m High[Me]\u001b[0m\u001b[32;1miotic\u001b[0m\u001b[31;1m De[Sex]\u001b[0m\u001b[31;1mually[Chrom]\u001b[0m\u001b[32;1mos\u001b[0m\u001b[32;1mome\u001b[0m\u001b[32;1m In\u001b[0m\u001b[31;1mhibit[activation]\u001b[0m\u001b[32;1m</s>\u001b[0m\n",
      "\n",
      "\n"
     ]
    },
    {
     "name": "stderr",
     "output_type": "stream",
     "text": [
      "Saving model checkpoint to /lm_models/checkpoint-7000\n",
      "Trainer.model is not a `PreTrainedModel`, only saving its state dict.\n",
      "Deleting older checkpoint [/lm_models/checkpoint-4500] due to args.save_total_limit\n",
      "/opt/conda/lib/python3.8/site-packages/torch/nn/parallel/_functions.py:68: UserWarning: Was asked to gather along dimension 0, but all input tensors were scalars; will instead unsqueeze and return a vector.\n",
      "  warnings.warn('Was asked to gather along dimension 0, but all '\n",
      "INFO:***** Running Evaluation *****\n",
      "INFO:  Num examples = 2970\n",
      "INFO:  Batch size = 32\n"
     ]
    },
    {
     "name": "stdout",
     "output_type": "stream",
     "text": [
      "\n",
      "\n",
      "\u001b[32;1m<s>\u001b[0m\u001b[31;1mSystem[Mark]\u001b[0m\u001b[32;1mers\u001b[0m\u001b[32;1m of\u001b[0m\u001b[31;1m human[type]\u001b[0m\u001b[31;1m 1[I]\u001b[0m\u001b[31;1m cell[collagen]\u001b[0m\u001b[31;1m production[degradation]\u001b[0m\u001b[32;1m and\u001b[0m\u001b[31;1m inhibition[synthesis]\u001b[0m\u001b[32;1m in\u001b[0m\u001b[32;1m the\u001b[0m\u001b[31;1m detection[monitoring]\u001b[0m\u001b[32;1m of\u001b[0m\u001b[31;1m tumor[treatment]\u001b[0m\u001b[32;1m response\u001b[0m\u001b[32;1m in\u001b[0m\u001b[31;1m tumor[bone]\u001b[0m\u001b[32;1m metast\u001b[0m\u001b[32;1mases\u001b[0m\u001b[32;1m from\u001b[0m\u001b[31;1m prostate[breast]\u001b[0m\u001b[31;1m cancer[carcin]\u001b[0m\u001b[32;1moma\u001b[0m\u001b[32;1m.\u001b[0m\u001b[32;1m</s>\u001b[0m\n",
      "\n",
      "\n"
     ]
    },
    {
     "name": "stderr",
     "output_type": "stream",
     "text": [
      "INFO:***** Running Evaluation *****\n",
      "INFO:  Num examples = 2970\n",
      "INFO:  Batch size = 32\n"
     ]
    },
    {
     "name": "stdout",
     "output_type": "stream",
     "text": [
      "\n",
      "\n",
      "\u001b[32;1m<s>\u001b[0m\u001b[32;1mCorrection\u001b[0m\u001b[32;1m to\u001b[0m\u001b[32;1m �\u001b[0m\u001b[32;1m�\u001b[0m\u001b[31;1mNew[Sw]\u001b[0m\u001b[32;1mitching\u001b[0m\u001b[32;1m from\u001b[0m\u001b[31;1m Electro[Controlled]\u001b[0m\u001b[31;1m Carbon[Ring]\u001b[0m\u001b[32;1m-\u001b[0m\u001b[31;1mFree[Opening]\u001b[0m\u001b[31;1m Nan[Poly]\u001b[0m\u001b[32;1mmer\u001b[0m\u001b[31;1m ([ization]\u001b[0m\u001b[32;1m (\u001b[0m\u001b[31;1mP[c]\u001b[0m\u001b[31;1m-[R]\u001b[0m\u001b[31;1mAS[OP]\u001b[0m\u001b[32;1m)\u001b[0m\u001b[32;1m to\u001b[0m\u001b[31;1m Inter[Controlled]\u001b[0m\u001b[31;1m Int[Ring]\u001b[0m\u001b[32;1m-\u001b[0m\u001b[31;1mL[Cl]\u001b[0m\u001b[31;1made[osing]\u001b[0m\u001b[31;1m In[Dep]\u001b[0m\u001b[31;1mri[oly]\u001b[0m\u001b[32;1mmer\u001b[0m\u001b[32;1mization\u001b[0m\u001b[32;1m (\u001b[0m\u001b[31;1mT[c]\u001b[0m\u001b[31;1mT[RC]\u001b[0m\u001b[31;1mP[DP]\u001b[0m\u001b[32;1m)\u001b[0m\u001b[32;1m by\u001b[0m\u001b[31;1m the[Adjust]\u001b[0m\u001b[32;1ming\u001b[0m\u001b[32;1m the\u001b[0m\u001b[31;1m Mechanical[Reaction]\u001b[0m\u001b[31;1m to[Parameters]\u001b[0m\u001b[31;1m to[That]\u001b[0m\u001b[31;1m Do[Deter]\u001b[0m\u001b[32;1mmine\u001b[0m\u001b[32;1m the\u001b[0m\u001b[31;1m Ext[Ce]\u001b[0m\u001b[31;1mft[iling]\u001b[0m\u001b[31;1m to[Temperature]\u001b[0m\u001b[31;1m to[�]\u001b[0m\u001b[32;1m�\u001b[0m\u001b[32;1m</s>\u001b[0m\n",
      "\n",
      "\n"
     ]
    },
    {
     "name": "stderr",
     "output_type": "stream",
     "text": [
      "INFO:***** Running Evaluation *****\n",
      "INFO:  Num examples = 2970\n",
      "INFO:  Batch size = 32\n"
     ]
    },
    {
     "name": "stdout",
     "output_type": "stream",
     "text": [
      "\n",
      "\n",
      "\u001b[32;1m<s>\u001b[0m\u001b[32;1mD\u001b[0m\u001b[32;1metermin\u001b[0m\u001b[32;1mants\u001b[0m\u001b[32;1m of\u001b[0m\u001b[31;1m age[birth]\u001b[0m\u001b[31;1m among[as]\u001b[0m\u001b[31;1m associated[phy]\u001b[0m\u001b[32;1mxia\u001b[0m\u001b[32;1m among\u001b[0m\u001b[31;1m adult[live]\u001b[0m\u001b[32;1m birth\u001b[0m\u001b[31;1m children[newborn]\u001b[0m\u001b[32;1ms\u001b[0m\u001b[32;1m in\u001b[0m\u001b[31;1m North[University]\u001b[0m\u001b[32;1m of\u001b[0m\u001b[32;1m G\u001b[0m\u001b[32;1mond\u001b[0m\u001b[32;1mar\u001b[0m\u001b[31;1m hospital[referral]\u001b[0m\u001b[32;1m hospital\u001b[0m\u001b[32;1m,\u001b[0m\u001b[31;1m Ethiopia[northwest]\u001b[0m\u001b[32;1m Ethiopia\u001b[0m\u001b[32;1m:\u001b[0m\u001b[32;1m A\u001b[0m\u001b[32;1m case\u001b[0m\u001b[32;1m-\u001b[0m\u001b[32;1mcontrol\u001b[0m\u001b[32;1m study\u001b[0m\u001b[32;1m</s>\u001b[0m\n",
      "\n",
      "\n"
     ]
    },
    {
     "name": "stderr",
     "output_type": "stream",
     "text": [
      "INFO:***** Running Evaluation *****\n",
      "INFO:  Num examples = 2970\n",
      "INFO:  Batch size = 32\n"
     ]
    },
    {
     "name": "stdout",
     "output_type": "stream",
     "text": [
      "\n",
      "\n",
      "\u001b[32;1m<s>\u001b[0m\u001b[32;1mPro\u001b[0m\u001b[32;1mgn\u001b[0m\u001b[32;1mostic\u001b[0m\u001b[31;1m Value[Role]\u001b[0m\u001b[32;1m of\u001b[0m\u001b[32;1m High\u001b[0m\u001b[32;1m-\u001b[0m\u001b[31;1mInt[s]\u001b[0m\u001b[32;1mensitivity\u001b[0m\u001b[31;1m Panc[Card]\u001b[0m\u001b[32;1miac\u001b[0m\u001b[31;1m L[Trop]\u001b[0m\u001b[32;1mon\u001b[0m\u001b[32;1min\u001b[0m\u001b[31;1m 2[I]\u001b[0m\u001b[32;1m and\u001b[0m\u001b[31;1m Inter[Sol]\u001b[0m\u001b[32;1muble\u001b[0m\u001b[31;1m Inter[Supp]\u001b[0m\u001b[32;1mression\u001b[0m\u001b[32;1m of\u001b[0m\u001b[32;1m T\u001b[0m\u001b[31;1mGF[um]\u001b[0m\u001b[32;1mor\u001b[0m\u001b[31;1m-[igen]\u001b[0m\u001b[31;1mesis[icity]\u001b[0m\u001b[32;1m-\u001b[0m\u001b[31;1m1[2]\u001b[0m\u001b[32;1m in\u001b[0m\u001b[31;1m Post[S]\u001b[0m\u001b[32;1murgical\u001b[0m\u001b[31;1m Patients[Int]\u001b[0m\u001b[32;1mensive\u001b[0m\u001b[32;1m Care\u001b[0m\u001b[32;1m Unit\u001b[0m\u001b[32;1m Patients\u001b[0m\u001b[32;1m Under\u001b[0m\u001b[32;1mgoing\u001b[0m\u001b[31;1m Post[Non]\u001b[0m\u001b[31;1moperative[-]\u001b[0m\u001b[31;1mSmall[card]\u001b[0m\u001b[32;1miac\u001b[0m\u001b[32;1m Surgery\u001b[0m\u001b[32;1m</s>\u001b[0m\n",
      "\n",
      "\n"
     ]
    },
    {
     "name": "stderr",
     "output_type": "stream",
     "text": [
      "INFO:***** Running Evaluation *****\n",
      "INFO:  Num examples = 2970\n",
      "INFO:  Batch size = 32\n"
     ]
    },
    {
     "name": "stdout",
     "output_type": "stream",
     "text": [
      "\n",
      "\n",
      "\u001b[32;1m<s>\u001b[0m\u001b[32;1mDesign\u001b[0m\u001b[32;1m and\u001b[0m\u001b[31;1m evaluation[development]\u001b[0m\u001b[32;1m of\u001b[0m\u001b[32;1m intra\u001b[0m\u001b[32;1mocular\u001b[0m\u001b[31;1m fluid[poly]\u001b[0m\u001b[32;1mmeric\u001b[0m\u001b[31;1m devices[implant]\u001b[0m\u001b[31;1mation[systems]\u001b[0m\u001b[32;1m for\u001b[0m\u001b[31;1m high[long]\u001b[0m\u001b[32;1m-\u001b[0m\u001b[32;1mterm\u001b[0m\u001b[31;1m dose[controlled]\u001b[0m\u001b[32;1m-\u001b[0m\u001b[32;1mrelease\u001b[0m\u001b[32;1m of\u001b[0m\u001b[31;1m poly[cl]\u001b[0m\u001b[31;1mon[ind]\u001b[0m\u001b[31;1maz[amy]\u001b[0m\u001b[32;1mcin\u001b[0m\u001b[31;1m hydro[phosphate]\u001b[0m\u001b[32;1m for\u001b[0m\u001b[31;1m cy[tox]\u001b[0m\u001b[31;1moid[opl]\u001b[0m\u001b[32;1masm\u001b[0m\u001b[32;1mic\u001b[0m\u001b[32;1m ret\u001b[0m\u001b[31;1mic[ino]\u001b[0m\u001b[31;1mic[ch]\u001b[0m\u001b[31;1molester[or]\u001b[0m\u001b[31;1moidal[oid]\u001b[0m\u001b[31;1mosis[itis]\u001b[0m\u001b[32;1m</s>\u001b[0m\n",
      "\n",
      "\n"
     ]
    },
    {
     "name": "stderr",
     "output_type": "stream",
     "text": [
      "Saving model checkpoint to /lm_models/checkpoint-7500\n",
      "Trainer.model is not a `PreTrainedModel`, only saving its state dict.\n",
      "Deleting older checkpoint [/lm_models/checkpoint-5000] due to args.save_total_limit\n",
      "/opt/conda/lib/python3.8/site-packages/torch/nn/parallel/_functions.py:68: UserWarning: Was asked to gather along dimension 0, but all input tensors were scalars; will instead unsqueeze and return a vector.\n",
      "  warnings.warn('Was asked to gather along dimension 0, but all '\n",
      "INFO:***** Running Evaluation *****\n",
      "INFO:  Num examples = 2970\n",
      "INFO:  Batch size = 32\n"
     ]
    },
    {
     "name": "stdout",
     "output_type": "stream",
     "text": [
      "\n",
      "\n",
      "\u001b[32;1m<s>\u001b[0m\u001b[32;1mPat\u001b[0m\u001b[32;1mient\u001b[0m\u001b[31;1m training[portal]\u001b[0m\u001b[31;1m training[messaging]\u001b[0m\u001b[32;1m for\u001b[0m\u001b[32;1m care\u001b[0m\u001b[31;1m management[coordination]\u001b[0m\u001b[32;1m:\u001b[0m\u001b[32;1m a\u001b[0m\u001b[32;1m qualitative\u001b[0m\u001b[32;1m study\u001b[0m\u001b[32;1m of\u001b[0m\u001b[31;1m experiences[perspectives]\u001b[0m\u001b[32;1m of\u001b[0m\u001b[31;1m general[experienced]\u001b[0m\u001b[31;1m people[users]\u001b[0m\u001b[32;1m with\u001b[0m\u001b[32;1m chronic\u001b[0m\u001b[32;1m conditions\u001b[0m\u001b[32;1m</s>\u001b[0m\n",
      "\n",
      "\n"
     ]
    },
    {
     "name": "stderr",
     "output_type": "stream",
     "text": [
      "INFO:***** Running Evaluation *****\n",
      "INFO:  Num examples = 2970\n",
      "INFO:  Batch size = 32\n"
     ]
    },
    {
     "name": "stdout",
     "output_type": "stream",
     "text": [
      "\n",
      "\n",
      "\u001b[32;1m<s>\u001b[0m\u001b[32;1mEnd\u001b[0m\u001b[31;1mocrine[ogenous]\u001b[0m\u001b[32;1m insulin\u001b[0m\u001b[31;1m resistance[secretion]\u001b[0m\u001b[31;1m at[even]\u001b[0m\u001b[32;1m at\u001b[0m\u001b[32;1m a\u001b[0m\u001b[31;1m high[very]\u001b[0m\u001b[32;1m low\u001b[0m\u001b[32;1m level\u001b[0m\u001b[31;1m is[contributes]\u001b[0m\u001b[32;1m to\u001b[0m\u001b[32;1m the\u001b[0m\u001b[31;1m performance[stability]\u001b[0m\u001b[32;1m of\u001b[0m\u001b[32;1m blood\u001b[0m\u001b[31;1m pressure[glucose]\u001b[0m\u001b[31;1m level[control]\u001b[0m\u001b[32;1m in\u001b[0m\u001b[31;1m oral[ful]\u001b[0m\u001b[32;1mmin\u001b[0m\u001b[32;1mant\u001b[0m\u001b[32;1m type\u001b[0m\u001b[32;1m 1\u001b[0m\u001b[32;1m diabetes\u001b[0m\u001b[32;1m</s>\u001b[0m\n",
      "\n",
      "\n"
     ]
    },
    {
     "name": "stderr",
     "output_type": "stream",
     "text": [
      "INFO:***** Running Evaluation *****\n",
      "INFO:  Num examples = 2970\n",
      "INFO:  Batch size = 32\n"
     ]
    },
    {
     "name": "stdout",
     "output_type": "stream",
     "text": [
      "\n",
      "\n",
      "\u001b[32;1m<s>\u001b[0m\u001b[31;1mWh[Mult]\u001b[0m\u001b[32;1mivariate\u001b[0m\u001b[32;1m Gen\u001b[0m\u001b[32;1mome\u001b[0m\u001b[32;1m-\u001b[0m\u001b[32;1mWide\u001b[0m\u001b[32;1m Association\u001b[0m\u001b[31;1m Study[An]\u001b[0m\u001b[32;1malyses\u001b[0m\u001b[32;1m Reve\u001b[0m\u001b[32;1mal\u001b[0m\u001b[32;1m the\u001b[0m\u001b[32;1m Genetic\u001b[0m\u001b[31;1m Diversity[Bas]\u001b[0m\u001b[32;1mis\u001b[0m\u001b[32;1m of\u001b[0m\u001b[31;1m Water[Seed]\u001b[0m\u001b[31;1m Stress[Fat]\u001b[0m\u001b[32;1mty\u001b[0m\u001b[32;1m Acid\u001b[0m\u001b[31;1m Concent[Com]\u001b[0m\u001b[32;1mposition\u001b[0m\u001b[32;1m in\u001b[0m\u001b[31;1m P[O]\u001b[0m\u001b[31;1mry[at]\u001b[0m\u001b[32;1m (\u001b[0m\u001b[31;1mL[A]\u001b[0m\u001b[31;1medes[ven]\u001b[0m\u001b[32;1ma\u001b[0m\u001b[32;1m sat\u001b[0m\u001b[32;1miva\u001b[0m\u001b[32;1m L\u001b[0m\u001b[32;1m.)\u001b[0m\u001b[32;1m</s>\u001b[0m\n",
      "\n",
      "\n"
     ]
    },
    {
     "name": "stderr",
     "output_type": "stream",
     "text": [
      "INFO:***** Running Evaluation *****\n",
      "INFO:  Num examples = 2970\n",
      "INFO:  Batch size = 32\n"
     ]
    },
    {
     "name": "stdout",
     "output_type": "stream",
     "text": [
      "\n",
      "\n",
      "\u001b[32;1m<s>\u001b[0m\u001b[32;1mCorrection\u001b[0m\u001b[32;1m to\u001b[0m\u001b[31;1m:[�]\u001b[0m\u001b[32;1m�\u001b[0m\u001b[31;1mOne[Sw]\u001b[0m\u001b[32;1mitching\u001b[0m\u001b[32;1m from\u001b[0m\u001b[31;1m Artificial[Controlled]\u001b[0m\u001b[31;1m Micro[Ring]\u001b[0m\u001b[32;1m-\u001b[0m\u001b[31;1mDer[Opening]\u001b[0m\u001b[31;1m Micro[Poly]\u001b[0m\u001b[32;1mmer\u001b[0m\u001b[31;1m ([ization]\u001b[0m\u001b[32;1m (\u001b[0m\u001b[31;1mP[c]\u001b[0m\u001b[31;1mAMP[R]\u001b[0m\u001b[31;1mAS[OP]\u001b[0m\u001b[32;1m)\u001b[0m\u001b[32;1m to\u001b[0m\u001b[31;1m Real[Controlled]\u001b[0m\u001b[31;1m Electro[Ring]\u001b[0m\u001b[32;1m-\u001b[0m\u001b[31;1mto[Cl]\u001b[0m\u001b[31;1made[osing]\u001b[0m\u001b[31;1m Re[Dep]\u001b[0m\u001b[31;1mos[oly]\u001b[0m\u001b[32;1mmer\u001b[0m\u001b[32;1mization\u001b[0m\u001b[32;1m (\u001b[0m\u001b[31;1mC[c]\u001b[0m\u001b[31;1m-[RC]\u001b[0m\u001b[31;1mP[DP]\u001b[0m\u001b[32;1m)\u001b[0m\u001b[32;1m by\u001b[0m\u001b[31;1m the[Adjust]\u001b[0m\u001b[32;1ming\u001b[0m\u001b[32;1m the\u001b[0m\u001b[31;1m Mechanical[Reaction]\u001b[0m\u001b[31;1m Process[Parameters]\u001b[0m\u001b[31;1m to[That]\u001b[0m\u001b[31;1m Do[Deter]\u001b[0m\u001b[32;1mmine\u001b[0m\u001b[32;1m the\u001b[0m\u001b[31;1m Process[Ce]\u001b[0m\u001b[31;1mft[iling]\u001b[0m\u001b[31;1m Process[Temperature]\u001b[0m\u001b[32;1m�\u001b[0m\u001b[32;1m�\u001b[0m\u001b[32;1m</s>\u001b[0m\n",
      "\n",
      "\n"
     ]
    },
    {
     "name": "stderr",
     "output_type": "stream",
     "text": [
      "INFO:***** Running Evaluation *****\n",
      "INFO:  Num examples = 2970\n",
      "INFO:  Batch size = 32\n"
     ]
    },
    {
     "name": "stdout",
     "output_type": "stream",
     "text": [
      "\n",
      "\n",
      "\u001b[32;1m<s>\u001b[0m\u001b[32;1mCorrection\u001b[0m\u001b[32;1m to\u001b[0m\u001b[31;1m:[�]\u001b[0m\u001b[32;1m�\u001b[0m\u001b[31;1mAn[Sw]\u001b[0m\u001b[32;1mitching\u001b[0m\u001b[32;1m from\u001b[0m\u001b[31;1m Digital[Controlled]\u001b[0m\u001b[31;1m Micro[Ring]\u001b[0m\u001b[32;1m-\u001b[0m\u001b[31;1mFree[Opening]\u001b[0m\u001b[32;1m Poly\u001b[0m\u001b[32;1mmer\u001b[0m\u001b[31;1m ([ization]\u001b[0m\u001b[32;1m (\u001b[0m\u001b[31;1mP[c]\u001b[0m\u001b[31;1mAMP[R]\u001b[0m\u001b[31;1mAS[OP]\u001b[0m\u001b[32;1m)\u001b[0m\u001b[32;1m to\u001b[0m\u001b[31;1m Rapid[Controlled]\u001b[0m\u001b[31;1m Ultr[Ring]\u001b[0m\u001b[32;1m-\u001b[0m\u001b[31;1mSt[Cl]\u001b[0m\u001b[31;1made[osing]\u001b[0m\u001b[31;1m O[Dep]\u001b[0m\u001b[31;1mlet[oly]\u001b[0m\u001b[32;1mmer\u001b[0m\u001b[32;1mization\u001b[0m\u001b[32;1m (\u001b[0m\u001b[31;1mC[c]\u001b[0m\u001b[31;1mF[RC]\u001b[0m\u001b[31;1mF[DP]\u001b[0m\u001b[32;1m)\u001b[0m\u001b[31;1m to[by]\u001b[0m\u001b[31;1m the[Adjust]\u001b[0m\u001b[32;1ming\u001b[0m\u001b[32;1m the\u001b[0m\u001b[31;1m Temperature[Reaction]\u001b[0m\u001b[31;1m Rate[Parameters]\u001b[0m\u001b[31;1m to[That]\u001b[0m\u001b[31;1m Do[Deter]\u001b[0m\u001b[32;1mmine\u001b[0m\u001b[32;1m the\u001b[0m\u001b[31;1m Surface[Ce]\u001b[0m\u001b[31;1mft[iling]\u001b[0m\u001b[31;1m Process[Temperature]\u001b[0m\u001b[32;1m�\u001b[0m\u001b[32;1m�\u001b[0m\u001b[32;1m</s>\u001b[0m\n",
      "\n",
      "\n"
     ]
    },
    {
     "name": "stderr",
     "output_type": "stream",
     "text": [
      "Saving model checkpoint to /lm_models/checkpoint-8000\n",
      "Trainer.model is not a `PreTrainedModel`, only saving its state dict.\n",
      "Deleting older checkpoint [/lm_models/checkpoint-5500] due to args.save_total_limit\n",
      "/opt/conda/lib/python3.8/site-packages/torch/nn/parallel/_functions.py:68: UserWarning: Was asked to gather along dimension 0, but all input tensors were scalars; will instead unsqueeze and return a vector.\n",
      "  warnings.warn('Was asked to gather along dimension 0, but all '\n",
      "INFO:***** Running Evaluation *****\n",
      "INFO:  Num examples = 2970\n",
      "INFO:  Batch size = 32\n"
     ]
    },
    {
     "name": "stdout",
     "output_type": "stream",
     "text": [
      "\n",
      "\n",
      "\u001b[32;1m<s>\u001b[0m\u001b[31;1mWh[Mult]\u001b[0m\u001b[32;1mivariate\u001b[0m\u001b[32;1m Gen\u001b[0m\u001b[32;1mome\u001b[0m\u001b[32;1m-\u001b[0m\u001b[32;1mWide\u001b[0m\u001b[32;1m Association\u001b[0m\u001b[31;1m Study[An]\u001b[0m\u001b[32;1malyses\u001b[0m\u001b[32;1m Reve\u001b[0m\u001b[32;1mal\u001b[0m\u001b[32;1m the\u001b[0m\u001b[31;1m Gen[Genetic]\u001b[0m\u001b[31;1m Diversity[Bas]\u001b[0m\u001b[32;1mis\u001b[0m\u001b[32;1m of\u001b[0m\u001b[31;1m Water[Seed]\u001b[0m\u001b[31;1m Met[Fat]\u001b[0m\u001b[32;1mty\u001b[0m\u001b[32;1m Acid\u001b[0m\u001b[31;1m Concent[Com]\u001b[0m\u001b[32;1mposition\u001b[0m\u001b[32;1m in\u001b[0m\u001b[31;1m D[O]\u001b[0m\u001b[31;1mle[at]\u001b[0m\u001b[32;1m (\u001b[0m\u001b[32;1mA\u001b[0m\u001b[31;1mne[ven]\u001b[0m\u001b[32;1ma\u001b[0m\u001b[32;1m sat\u001b[0m\u001b[32;1miva\u001b[0m\u001b[32;1m L\u001b[0m\u001b[32;1m.)\u001b[0m\u001b[32;1m</s>\u001b[0m\n",
      "\n",
      "\n"
     ]
    },
    {
     "name": "stderr",
     "output_type": "stream",
     "text": [
      "INFO:***** Running Evaluation *****\n",
      "INFO:  Num examples = 2970\n",
      "INFO:  Batch size = 32\n"
     ]
    },
    {
     "name": "stdout",
     "output_type": "stream",
     "text": [
      "\n",
      "\n",
      "\u001b[32;1m<s>\u001b[0m\u001b[31;1mWh[Mult]\u001b[0m\u001b[32;1mivariate\u001b[0m\u001b[32;1m Gen\u001b[0m\u001b[32;1mome\u001b[0m\u001b[32;1m-\u001b[0m\u001b[32;1mWide\u001b[0m\u001b[32;1m Association\u001b[0m\u001b[31;1m Study[An]\u001b[0m\u001b[32;1malyses\u001b[0m\u001b[32;1m Reve\u001b[0m\u001b[32;1mal\u001b[0m\u001b[32;1m the\u001b[0m\u001b[32;1m Genetic\u001b[0m\u001b[31;1m Diversity[Bas]\u001b[0m\u001b[32;1mis\u001b[0m\u001b[32;1m of\u001b[0m\u001b[31;1m Water[Seed]\u001b[0m\u001b[32;1m Fat\u001b[0m\u001b[32;1mty\u001b[0m\u001b[32;1m Acid\u001b[0m\u001b[31;1m Concent[Com]\u001b[0m\u001b[32;1mposition\u001b[0m\u001b[32;1m in\u001b[0m\u001b[31;1m P[O]\u001b[0m\u001b[31;1mste[at]\u001b[0m\u001b[32;1m (\u001b[0m\u001b[31;1mL[A]\u001b[0m\u001b[31;1mry[ven]\u001b[0m\u001b[32;1ma\u001b[0m\u001b[32;1m sat\u001b[0m\u001b[32;1miva\u001b[0m\u001b[32;1m L\u001b[0m\u001b[32;1m.)\u001b[0m\u001b[32;1m</s>\u001b[0m\n",
      "\n",
      "\n"
     ]
    },
    {
     "name": "stderr",
     "output_type": "stream",
     "text": [
      "INFO:***** Running Evaluation *****\n",
      "INFO:  Num examples = 2970\n",
      "INFO:  Batch size = 32\n"
     ]
    },
    {
     "name": "stdout",
     "output_type": "stream",
     "text": [
      "\n",
      "\n",
      "\u001b[32;1m<s>\u001b[0m\u001b[32;1mMult\u001b[0m\u001b[32;1mivariate\u001b[0m\u001b[32;1m Gen\u001b[0m\u001b[32;1mome\u001b[0m\u001b[32;1m-\u001b[0m\u001b[32;1mWide\u001b[0m\u001b[32;1m Association\u001b[0m\u001b[31;1m Study[An]\u001b[0m\u001b[32;1malyses\u001b[0m\u001b[32;1m Reve\u001b[0m\u001b[32;1mal\u001b[0m\u001b[32;1m the\u001b[0m\u001b[32;1m Genetic\u001b[0m\u001b[31;1m Diversity[Bas]\u001b[0m\u001b[32;1mis\u001b[0m\u001b[32;1m of\u001b[0m\u001b[31;1m Water[Seed]\u001b[0m\u001b[32;1m Fat\u001b[0m\u001b[31;1migue[ty]\u001b[0m\u001b[32;1m Acid\u001b[0m\u001b[31;1m Concent[Com]\u001b[0m\u001b[32;1mposition\u001b[0m\u001b[32;1m in\u001b[0m\u001b[32;1m O\u001b[0m\u001b[31;1mry[at]\u001b[0m\u001b[32;1m (\u001b[0m\u001b[31;1mL[A]\u001b[0m\u001b[31;1mry[ven]\u001b[0m\u001b[32;1ma\u001b[0m\u001b[32;1m sat\u001b[0m\u001b[32;1miva\u001b[0m\u001b[32;1m L\u001b[0m\u001b[32;1m.)\u001b[0m\u001b[32;1m</s>\u001b[0m\n",
      "\n",
      "\n"
     ]
    },
    {
     "name": "stderr",
     "output_type": "stream",
     "text": [
      "INFO:***** Running Evaluation *****\n",
      "INFO:  Num examples = 2970\n",
      "INFO:  Batch size = 32\n"
     ]
    },
    {
     "name": "stdout",
     "output_type": "stream",
     "text": [
      "\n",
      "\n",
      "\u001b[32;1m<s>\u001b[0m\u001b[31;1mSelf[Small]\u001b[0m\u001b[32;1m-\u001b[0m\u001b[31;1mscale[for]\u001b[0m\u001b[32;1m-\u001b[0m\u001b[31;1msevere[gest]\u001b[0m\u001b[32;1mational\u001b[0m\u001b[32;1m age\u001b[0m\u001b[32;1m and\u001b[0m\u001b[32;1m its\u001b[0m\u001b[32;1m association\u001b[0m\u001b[32;1m with\u001b[0m\u001b[31;1m blood[maternal]\u001b[0m\u001b[32;1m blood\u001b[0m\u001b[31;1m pressure[glucose]\u001b[0m\u001b[31;1m and[,]\u001b[0m\u001b[32;1m body\u001b[0m\u001b[32;1m mass\u001b[0m\u001b[32;1m index\u001b[0m\u001b[32;1m and\u001b[0m\u001b[31;1m sleep[stature]\u001b[0m\u001b[32;1m:\u001b[0m\u001b[32;1m a\u001b[0m\u001b[32;1m per\u001b[0m\u001b[31;1mcut[in]\u001b[0m\u001b[32;1matal\u001b[0m\u001b[32;1m cohort\u001b[0m\u001b[32;1m study\u001b[0m\u001b[32;1m among\u001b[0m\u001b[32;1m Chinese\u001b[0m\u001b[32;1m women\u001b[0m\u001b[32;1m</s>\u001b[0m\n",
      "\n",
      "\n"
     ]
    },
    {
     "name": "stderr",
     "output_type": "stream",
     "text": [
      "INFO:***** Running Evaluation *****\n",
      "INFO:  Num examples = 2970\n",
      "INFO:  Batch size = 32\n"
     ]
    },
    {
     "name": "stdout",
     "output_type": "stream",
     "text": [
      "\n",
      "\n",
      "\u001b[32;1m<s>\u001b[0m\u001b[32;1mCase\u001b[0m\u001b[32;1m of\u001b[0m\u001b[31;1m In[En]\u001b[0m\u001b[31;1mrich[larg]\u001b[0m\u001b[32;1mement\u001b[0m\u001b[32;1m of\u001b[0m\u001b[32;1m the\u001b[0m\u001b[31;1m Lung[Heart]\u001b[0m\u001b[32;1m,\u001b[0m\u001b[32;1m with\u001b[0m\u001b[32;1m Poly\u001b[0m\u001b[31;1m([pi]\u001b[0m\u001b[32;1m,\u001b[0m\u001b[31;1m with[&]\u001b[0m\u001b[32;1mc\u001b[0m\u001b[32;1m.\u001b[0m\u001b[31;1m As[Which]\u001b[0m\u001b[31;1m Can[Occ]\u001b[0m\u001b[31;1murring[urred]\u001b[0m\u001b[32;1m on\u001b[0m\u001b[31;1m the[Board]\u001b[0m\u001b[32;1m the\u001b[0m\u001b[31;1m Royal[Honour]\u001b[0m\u001b[31;1mary[able]\u001b[0m\u001b[31;1m British[East]\u001b[0m\u001b[31;1m Nile[India]\u001b[0m\u001b[31;1m Sea[Company]\u001b[0m\u001b[31;1m Emb['s]\u001b[0m\u001b[31;1m So[Ship]\u001b[0m\u001b[31;1m</s>[Carn]\u001b[0m\u001b[31;1miv[atic]\u001b[0m\u001b[32;1m</s>\u001b[0m\n",
      "\n",
      "\n"
     ]
    },
    {
     "name": "stderr",
     "output_type": "stream",
     "text": [
      "Saving model checkpoint to /lm_models/checkpoint-8500\n",
      "Trainer.model is not a `PreTrainedModel`, only saving its state dict.\n",
      "Deleting older checkpoint [/lm_models/checkpoint-6000] due to args.save_total_limit\n",
      "/opt/conda/lib/python3.8/site-packages/torch/nn/parallel/_functions.py:68: UserWarning: Was asked to gather along dimension 0, but all input tensors were scalars; will instead unsqueeze and return a vector.\n",
      "  warnings.warn('Was asked to gather along dimension 0, but all '\n",
      "INFO:***** Running Evaluation *****\n",
      "INFO:  Num examples = 2970\n",
      "INFO:  Batch size = 32\n"
     ]
    },
    {
     "name": "stdout",
     "output_type": "stream",
     "text": [
      "\n",
      "\n",
      "\u001b[32;1m<s>\u001b[0m\u001b[32;1mD\u001b[0m\u001b[32;1metermin\u001b[0m\u001b[32;1mants\u001b[0m\u001b[32;1m of\u001b[0m\u001b[32;1m birth\u001b[0m\u001b[31;1m at[as]\u001b[0m\u001b[31;1m se[phy]\u001b[0m\u001b[32;1mxia\u001b[0m\u001b[32;1m among\u001b[0m\u001b[31;1m tert[live]\u001b[0m\u001b[32;1m birth\u001b[0m\u001b[31;1m children[newborn]\u001b[0m\u001b[32;1ms\u001b[0m\u001b[32;1m in\u001b[0m\u001b[31;1m South[University]\u001b[0m\u001b[32;1m of\u001b[0m\u001b[32;1m G\u001b[0m\u001b[32;1mond\u001b[0m\u001b[32;1mar\u001b[0m\u001b[31;1m tert[referral]\u001b[0m\u001b[32;1m hospital\u001b[0m\u001b[32;1m,\u001b[0m\u001b[31;1m Northwest[northwest]\u001b[0m\u001b[32;1m Ethiopia\u001b[0m\u001b[32;1m:\u001b[0m\u001b[32;1m A\u001b[0m\u001b[32;1m case\u001b[0m\u001b[32;1m-\u001b[0m\u001b[32;1mcontrol\u001b[0m\u001b[32;1m study\u001b[0m\u001b[32;1m</s>\u001b[0m\n",
      "\n",
      "\n"
     ]
    },
    {
     "name": "stderr",
     "output_type": "stream",
     "text": [
      "INFO:***** Running Evaluation *****\n",
      "INFO:  Num examples = 2970\n",
      "INFO:  Batch size = 32\n"
     ]
    },
    {
     "name": "stdout",
     "output_type": "stream",
     "text": [
      "\n",
      "\n",
      "\u001b[32;1m<s>\u001b[0m\u001b[32;1mPro\u001b[0m\u001b[32;1mgn\u001b[0m\u001b[32;1mostic\u001b[0m\u001b[32;1m Role\u001b[0m\u001b[32;1m of\u001b[0m\u001b[32;1m High\u001b[0m\u001b[32;1m-\u001b[0m\u001b[31;1mdose[s]\u001b[0m\u001b[32;1mensitivity\u001b[0m\u001b[32;1m Card\u001b[0m\u001b[32;1miac\u001b[0m\u001b[31;1m F[Trop]\u001b[0m\u001b[32;1mon\u001b[0m\u001b[32;1min\u001b[0m\u001b[31;1m and[I]\u001b[0m\u001b[32;1m and\u001b[0m\u001b[31;1m Con[Sol]\u001b[0m\u001b[32;1muble\u001b[0m\u001b[31;1m Effect[Supp]\u001b[0m\u001b[32;1mression\u001b[0m\u001b[32;1m of\u001b[0m\u001b[32;1m T\u001b[0m\u001b[32;1mum\u001b[0m\u001b[32;1mor\u001b[0m\u001b[32;1migen\u001b[0m\u001b[31;1mesis[icity]\u001b[0m\u001b[31;1m in[-]\u001b[0m\u001b[31;1mD[2]\u001b[0m\u001b[32;1m in\u001b[0m\u001b[31;1m Post[S]\u001b[0m\u001b[32;1murgical\u001b[0m\u001b[31;1m Patients[Int]\u001b[0m\u001b[32;1mensive\u001b[0m\u001b[32;1m Care\u001b[0m\u001b[32;1m Unit\u001b[0m\u001b[32;1m Patients\u001b[0m\u001b[32;1m Under\u001b[0m\u001b[32;1mgoing\u001b[0m\u001b[31;1m Post[Non]\u001b[0m\u001b[32;1m-\u001b[0m\u001b[31;1moperative[card]\u001b[0m\u001b[32;1miac\u001b[0m\u001b[32;1m Surgery\u001b[0m\u001b[32;1m</s>\u001b[0m\n",
      "\n",
      "\n"
     ]
    },
    {
     "name": "stderr",
     "output_type": "stream",
     "text": [
      "INFO:***** Running Evaluation *****\n",
      "INFO:  Num examples = 2970\n",
      "INFO:  Batch size = 32\n"
     ]
    },
    {
     "name": "stdout",
     "output_type": "stream",
     "text": [
      "\n",
      "\n",
      "\u001b[32;1m<s>\u001b[0m\u001b[32;1mCase\u001b[0m\u001b[32;1m of\u001b[0m\u001b[31;1m In[En]\u001b[0m\u001b[31;1mvelop[larg]\u001b[0m\u001b[32;1mement\u001b[0m\u001b[32;1m of\u001b[0m\u001b[32;1m the\u001b[0m\u001b[31;1m Lung[Heart]\u001b[0m\u001b[32;1m,\u001b[0m\u001b[32;1m with\u001b[0m\u001b[32;1m Poly\u001b[0m\u001b[31;1m([pi]\u001b[0m\u001b[32;1m,\u001b[0m\u001b[31;1m with[&]\u001b[0m\u001b[32;1mc\u001b[0m\u001b[32;1m.\u001b[0m\u001b[31;1m *[Which]\u001b[0m\u001b[31;1m Can[Occ]\u001b[0m\u001b[31;1murring[urred]\u001b[0m\u001b[32;1m on\u001b[0m\u001b[31;1m the[Board]\u001b[0m\u001b[32;1m the\u001b[0m\u001b[31;1m Royal[Honour]\u001b[0m\u001b[31;1m H[able]\u001b[0m\u001b[31;1m British[East]\u001b[0m\u001b[31;1m Nile[India]\u001b[0m\u001b[31;1m Sea[Company]\u001b[0m\u001b[31;1m F['s]\u001b[0m\u001b[31;1m So[Ship]\u001b[0m\u001b[31;1m</s>[Carn]\u001b[0m\u001b[31;1miv[atic]\u001b[0m\u001b[32;1m</s>\u001b[0m\n",
      "\n",
      "\n"
     ]
    },
    {
     "name": "stderr",
     "output_type": "stream",
     "text": [
      "INFO:***** Running Evaluation *****\n",
      "INFO:  Num examples = 2970\n",
      "INFO:  Batch size = 32\n"
     ]
    },
    {
     "name": "stdout",
     "output_type": "stream",
     "text": [
      "\n",
      "\n",
      "\u001b[32;1m<s>\u001b[0m\u001b[32;1mPat\u001b[0m\u001b[32;1mient\u001b[0m\u001b[31;1m training[portal]\u001b[0m\u001b[31;1m training[messaging]\u001b[0m\u001b[32;1m for\u001b[0m\u001b[32;1m care\u001b[0m\u001b[31;1m decision[coordination]\u001b[0m\u001b[32;1m:\u001b[0m\u001b[32;1m a\u001b[0m\u001b[32;1m qualitative\u001b[0m\u001b[32;1m study\u001b[0m\u001b[32;1m of\u001b[0m\u001b[31;1m experiences[perspectives]\u001b[0m\u001b[32;1m of\u001b[0m\u001b[31;1m general[experienced]\u001b[0m\u001b[31;1m people[users]\u001b[0m\u001b[32;1m with\u001b[0m\u001b[32;1m chronic\u001b[0m\u001b[32;1m conditions\u001b[0m\u001b[32;1m</s>\u001b[0m\n",
      "\n",
      "\n"
     ]
    },
    {
     "name": "stderr",
     "output_type": "stream",
     "text": [
      "INFO:***** Running Evaluation *****\n",
      "INFO:  Num examples = 2970\n",
      "INFO:  Batch size = 32\n"
     ]
    },
    {
     "name": "stdout",
     "output_type": "stream",
     "text": [
      "\n",
      "\n",
      "\u001b[32;1m<s>\u001b[0m\u001b[32;1mN\u001b[0m\u001b[31;1m-[ano]\u001b[0m\u001b[32;1m-\u001b[0m\u001b[31;1mN[P]\u001b[0m\u001b[31;1mrotein[ulse]\u001b[0m\u001b[32;1m Stim\u001b[0m\u001b[32;1mulation\u001b[0m\u001b[31;1m Al[Ab]\u001b[0m\u001b[31;1mrog[l]\u001b[0m\u001b[31;1mud[ates]\u001b[0m\u001b[31;1m Cere[Orth]\u001b[0m\u001b[32;1mot\u001b[0m\u001b[32;1mopic\u001b[0m\u001b[31;1m Breast[Rat]\u001b[0m\u001b[31;1m Liver[Hep]\u001b[0m\u001b[31;1mat[ato]\u001b[0m\u001b[32;1mcell\u001b[0m\u001b[32;1mular\u001b[0m\u001b[32;1m Car\u001b[0m\u001b[32;1mcin\u001b[0m\u001b[32;1moma\u001b[0m\u001b[32;1m and\u001b[0m\u001b[32;1m Ind\u001b[0m\u001b[32;1muces\u001b[0m\u001b[31;1m Ox[Inn]\u001b[0m\u001b[32;1mate\u001b[0m\u001b[32;1m and\u001b[0m\u001b[31;1m Imm[Adapt]\u001b[0m\u001b[32;1mive\u001b[0m\u001b[31;1m Cellular[Memory]\u001b[0m\u001b[31;1m Path[Imm]\u001b[0m\u001b[32;1mune\u001b[0m\u001b[31;1m Respons[Mechan]\u001b[0m\u001b[32;1misms\u001b[0m\u001b[32;1m that\u001b[0m\u001b[31;1m Predict[Prevent]\u001b[0m\u001b[31;1m Diagn[Rec]\u001b[0m\u001b[32;1murrence\u001b[0m\u001b[32;1m</s>\u001b[0m\n",
      "\n",
      "\n"
     ]
    },
    {
     "name": "stderr",
     "output_type": "stream",
     "text": [
      "Saving model checkpoint to /lm_models/checkpoint-9000\n",
      "Trainer.model is not a `PreTrainedModel`, only saving its state dict.\n",
      "Deleting older checkpoint [/lm_models/checkpoint-6500] due to args.save_total_limit\n",
      "/opt/conda/lib/python3.8/site-packages/torch/nn/parallel/_functions.py:68: UserWarning: Was asked to gather along dimension 0, but all input tensors were scalars; will instead unsqueeze and return a vector.\n",
      "  warnings.warn('Was asked to gather along dimension 0, but all '\n",
      "INFO:***** Running Evaluation *****\n",
      "INFO:  Num examples = 2970\n",
      "INFO:  Batch size = 32\n"
     ]
    },
    {
     "name": "stdout",
     "output_type": "stream",
     "text": [
      "\n",
      "\n",
      "\u001b[32;1m<s>\u001b[0m\u001b[31;1mAs[Me]\u001b[0m\u001b[31;1masuring[iotic]\u001b[0m\u001b[32;1m analyses\u001b[0m\u001b[31;1m reveal[show]\u001b[0m\u001b[31;1m effects[adaptations]\u001b[0m\u001b[32;1m to\u001b[0m\u001b[31;1m exercise[maintenance]\u001b[0m\u001b[32;1m of\u001b[0m\u001b[31;1m stress[fertility]\u001b[0m\u001b[32;1m in\u001b[0m\u001b[31;1m N[X]\u001b[0m\u001b[31;1mR[1]\u001b[0m\u001b[31;1mO[Y]\u001b[0m\u001b[31;1m2[1]\u001b[0m\u001b[31;1mS[X]\u001b[0m\u001b[32;1m2\u001b[0m\u001b[31;1mS[Y]\u001b[0m\u001b[32;1m2\u001b[0m\u001b[31;1mS[X]\u001b[0m\u001b[31;1m4[3]\u001b[0m\u001b[31;1mS[Y]\u001b[0m\u001b[31;1m4[3]\u001b[0m\u001b[31;1mS[X]\u001b[0m\u001b[32;1m4\u001b[0m\u001b[31;1mS[Y]\u001b[0m\u001b[32;1m4\u001b[0m\u001b[31;1mS[X]\u001b[0m\u001b[31;1m4[5]\u001b[0m\u001b[31;1mS[Y]\u001b[0m\u001b[31;1m4[5]\u001b[0m\u001b[31;1m,[system]\u001b[0m\u001b[31;1m from[of]\u001b[0m\u001b[31;1m Arab[am]\u001b[0m\u001b[31;1myl[azon]\u001b[0m\u001b[31;1mia[frog]\u001b[0m\u001b[31;1m ([Le]\u001b[0m\u001b[32;1mpt\u001b[0m\u001b[31;1mosp[od]\u001b[0m\u001b[31;1mys[act]\u001b[0m\u001b[32;1myl\u001b[0m\u001b[32;1mus\u001b[0m\u001b[31;1m sp[pent]\u001b[0m\u001b[31;1ma[ad]\u001b[0m\u001b[32;1mact\u001b[0m\u001b[32;1myl\u001b[0m\u001b[32;1mus\u001b[0m\u001b[32;1m (\u001b[0m\u001b[31;1mH[La]\u001b[0m\u001b[31;1mev[ure]\u001b[0m\u001b[31;1ma[nt]\u001b[0m\u001b[31;1mis[i]\u001b[0m\u001b[31;1maceae[,]\u001b[0m\u001b[31;1m J[17]\u001b[0m\u001b[31;1m77[68]\u001b[0m\u001b[32;1m)\u001b[0m\u001b[32;1m</s>\u001b[0m\n",
      "\n",
      "\n"
     ]
    },
    {
     "name": "stderr",
     "output_type": "stream",
     "text": [
      "INFO:***** Running Evaluation *****\n",
      "INFO:  Num examples = 2970\n",
      "INFO:  Batch size = 32\n"
     ]
    },
    {
     "name": "stdout",
     "output_type": "stream",
     "text": [
      "\n",
      "\n",
      "\u001b[32;1m<s>\u001b[0m\u001b[32;1mPat\u001b[0m\u001b[32;1mient\u001b[0m\u001b[31;1m training[portal]\u001b[0m\u001b[31;1m training[messaging]\u001b[0m\u001b[32;1m for\u001b[0m\u001b[32;1m care\u001b[0m\u001b[31;1m planning[coordination]\u001b[0m\u001b[32;1m:\u001b[0m\u001b[32;1m a\u001b[0m\u001b[32;1m qualitative\u001b[0m\u001b[32;1m study\u001b[0m\u001b[32;1m of\u001b[0m\u001b[31;1m experiences[perspectives]\u001b[0m\u001b[32;1m of\u001b[0m\u001b[31;1m general[experienced]\u001b[0m\u001b[31;1m people[users]\u001b[0m\u001b[32;1m with\u001b[0m\u001b[32;1m chronic\u001b[0m\u001b[32;1m conditions\u001b[0m\u001b[32;1m</s>\u001b[0m\n",
      "\n",
      "\n"
     ]
    },
    {
     "name": "stderr",
     "output_type": "stream",
     "text": [
      "INFO:***** Running Evaluation *****\n",
      "INFO:  Num examples = 2970\n",
      "INFO:  Batch size = 32\n"
     ]
    },
    {
     "name": "stdout",
     "output_type": "stream",
     "text": [
      "\n",
      "\n",
      "\u001b[32;1m<s>\u001b[0m\u001b[32;1mDet\u001b[0m\u001b[32;1mection\u001b[0m\u001b[32;1m of\u001b[0m\u001b[32;1m a\u001b[0m\u001b[32;1m CT\u001b[0m\u001b[31;1mB[X]\u001b[0m\u001b[32;1m-\u001b[0m\u001b[31;1m2[M]\u001b[0m\u001b[31;1m family[group]\u001b[0m\u001b[32;1m 2\u001b[0m\u001b[31;1m β[beta]\u001b[0m\u001b[32;1m-\u001b[0m\u001b[32;1ml\u001b[0m\u001b[32;1mact\u001b[0m\u001b[32;1mam\u001b[0m\u001b[32;1mase\u001b[0m\u001b[32;1m gene\u001b[0m\u001b[32;1m in\u001b[0m\u001b[32;1m a\u001b[0m\u001b[32;1m Kle\u001b[0m\u001b[32;1mbs\u001b[0m\u001b[32;1mie\u001b[0m\u001b[32;1mlla\u001b[0m\u001b[32;1m pneumonia\u001b[0m\u001b[32;1me\u001b[0m\u001b[31;1m isolated[isolate]\u001b[0m\u001b[32;1m from\u001b[0m\u001b[32;1m a\u001b[0m\u001b[32;1m tert\u001b[0m\u001b[32;1miary\u001b[0m\u001b[32;1m care\u001b[0m\u001b[32;1m hospital\u001b[0m\u001b[31;1m and[,]\u001b[0m\u001b[31;1m Northwest[Trinidad]\u001b[0m\u001b[32;1m and\u001b[0m\u001b[31;1m Uganda[Tob]\u001b[0m\u001b[31;1ma[ago]\u001b[0m\u001b[32;1m</s>\u001b[0m\n",
      "\n",
      "\n"
     ]
    },
    {
     "name": "stderr",
     "output_type": "stream",
     "text": [
      "INFO:***** Running Evaluation *****\n",
      "INFO:  Num examples = 2970\n",
      "INFO:  Batch size = 32\n"
     ]
    },
    {
     "name": "stdout",
     "output_type": "stream",
     "text": [
      "\n",
      "\n",
      "\u001b[32;1m<s>\u001b[0m\u001b[31;1mType[Small]\u001b[0m\u001b[32;1m-\u001b[0m\u001b[31;1m-[for]\u001b[0m\u001b[32;1m-\u001b[0m\u001b[31;1mrisk[gest]\u001b[0m\u001b[32;1mational\u001b[0m\u001b[32;1m age\u001b[0m\u001b[32;1m and\u001b[0m\u001b[32;1m its\u001b[0m\u001b[32;1m association\u001b[0m\u001b[32;1m with\u001b[0m\u001b[31;1m blood[maternal]\u001b[0m\u001b[32;1m blood\u001b[0m\u001b[32;1m glucose\u001b[0m\u001b[31;1m and[,]\u001b[0m\u001b[32;1m body\u001b[0m\u001b[32;1m mass\u001b[0m\u001b[32;1m index\u001b[0m\u001b[32;1m and\u001b[0m\u001b[31;1m pain[stature]\u001b[0m\u001b[32;1m:\u001b[0m\u001b[32;1m a\u001b[0m\u001b[32;1m per\u001b[0m\u001b[31;1mi[in]\u001b[0m\u001b[32;1matal\u001b[0m\u001b[32;1m cohort\u001b[0m\u001b[32;1m study\u001b[0m\u001b[32;1m among\u001b[0m\u001b[32;1m Chinese\u001b[0m\u001b[32;1m women\u001b[0m\u001b[32;1m</s>\u001b[0m\n",
      "\n",
      "\n"
     ]
    },
    {
     "name": "stderr",
     "output_type": "stream",
     "text": [
      "INFO:***** Running Evaluation *****\n",
      "INFO:  Num examples = 2970\n",
      "INFO:  Batch size = 32\n"
     ]
    },
    {
     "name": "stdout",
     "output_type": "stream",
     "text": [
      "\n",
      "\n",
      "\u001b[32;1m<s>\u001b[0m\u001b[32;1mPre\u001b[0m\u001b[32;1mval\u001b[0m\u001b[32;1mence\u001b[0m\u001b[32;1m of\u001b[0m\u001b[32;1m hypertension\u001b[0m\u001b[32;1m and\u001b[0m\u001b[32;1m pre\u001b[0m\u001b[31;1mhospital[hy]\u001b[0m\u001b[32;1mpert\u001b[0m\u001b[32;1mension\u001b[0m\u001b[32;1m among\u001b[0m\u001b[32;1m children\u001b[0m\u001b[32;1m and\u001b[0m\u001b[32;1m adolescents\u001b[0m\u001b[32;1m in\u001b[0m\u001b[32;1m a\u001b[0m\u001b[31;1m rural[semi]\u001b[0m\u001b[32;1m-\u001b[0m\u001b[32;1murban\u001b[0m\u001b[32;1m area\u001b[0m\u001b[32;1m of\u001b[0m\u001b[31;1m D[U]\u001b[0m\u001b[31;1mrine[yo]\u001b[0m\u001b[31;1m H[Met]\u001b[0m\u001b[31;1mab[ropolis]\u001b[0m\u001b[32;1m,\u001b[0m\u001b[31;1m Tanzania[Nigeria]\u001b[0m\u001b[32;1m</s>\u001b[0m\n",
      "\n",
      "\n"
     ]
    },
    {
     "name": "stderr",
     "output_type": "stream",
     "text": [
      "Saving model checkpoint to /lm_models/checkpoint-9500\n",
      "Trainer.model is not a `PreTrainedModel`, only saving its state dict.\n",
      "Deleting older checkpoint [/lm_models/checkpoint-7000] due to args.save_total_limit\n",
      "/opt/conda/lib/python3.8/site-packages/torch/nn/parallel/_functions.py:68: UserWarning: Was asked to gather along dimension 0, but all input tensors were scalars; will instead unsqueeze and return a vector.\n",
      "  warnings.warn('Was asked to gather along dimension 0, but all '\n",
      "INFO:***** Running Evaluation *****\n",
      "INFO:  Num examples = 2970\n",
      "INFO:  Batch size = 32\n"
     ]
    },
    {
     "name": "stdout",
     "output_type": "stream",
     "text": [
      "\n",
      "\n",
      "\u001b[32;1m<s>\u001b[0m\u001b[31;1mKnow[Consider]\u001b[0m\u001b[32;1mations\u001b[0m\u001b[31;1m for[regarding]\u001b[0m\u001b[32;1m treatment\u001b[0m\u001b[31;1m effects[efficiency]\u001b[0m\u001b[32;1m,\u001b[0m\u001b[31;1m spat[diss]\u001b[0m\u001b[32;1moci\u001b[0m\u001b[32;1mative\u001b[0m\u001b[31;1m properties[parts]\u001b[0m\u001b[32;1m and\u001b[0m\u001b[31;1m altered[diss]\u001b[0m\u001b[32;1moci\u001b[0m\u001b[32;1mative\u001b[0m\u001b[31;1m dys[am]\u001b[0m\u001b[31;1mn[nesia]\u001b[0m\u001b[32;1m for\u001b[0m\u001b[31;1m Sch[Hunt]\u001b[0m\u001b[31;1mh[j]\u001b[0m\u001b[31;1mie[ens]\u001b[0m\u001b[32;1m et\u001b[0m\u001b[32;1m al\u001b[0m\u001b[32;1m.\u001b[0m\u001b[31;1m �[�]\u001b[0m\u001b[32;1m�\u001b[0m\u001b[32;1ms\u001b[0m\u001b[31;1m Act[Sche]\u001b[0m\u001b[31;1mx[ma]\u001b[0m\u001b[32;1m Therapy\u001b[0m\u001b[32;1m for\u001b[0m\u001b[31;1m Dist[Diss]\u001b[0m\u001b[31;1mociation[oci]\u001b[0m\u001b[32;1mative\u001b[0m\u001b[31;1m Stress[Identity]\u001b[0m\u001b[32;1m Disorder\u001b[0m\u001b[32;1m</s>\u001b[0m\n",
      "\n",
      "\n"
     ]
    },
    {
     "name": "stderr",
     "output_type": "stream",
     "text": [
      "INFO:***** Running Evaluation *****\n",
      "INFO:  Num examples = 2970\n",
      "INFO:  Batch size = 32\n"
     ]
    },
    {
     "name": "stdout",
     "output_type": "stream",
     "text": [
      "\n",
      "\n",
      "\u001b[32;1m<s>\u001b[0m\u001b[32;1mTarget\u001b[0m\u001b[32;1m-\u001b[0m\u001b[31;1mbased[similar]\u001b[0m\u001b[31;1m interaction[ity]\u001b[0m\u001b[31;1m analysis[search]\u001b[0m\u001b[32;1m using\u001b[0m\u001b[31;1m Pse[Pl]\u001b[0m\u001b[32;1mas\u001b[0m\u001b[32;1mmod\u001b[0m\u001b[32;1mium\u001b[0m\u001b[32;1m fal\u001b[0m\u001b[32;1mc\u001b[0m\u001b[32;1mip\u001b[0m\u001b[32;1mar\u001b[0m\u001b[32;1mum\u001b[0m\u001b[32;1m prote\u001b[0m\u001b[31;1mase[ome]\u001b[0m\u001b[32;1m identifies\u001b[0m\u001b[31;1m novel[approved]\u001b[0m\u001b[32;1m drugs\u001b[0m\u001b[32;1m with\u001b[0m\u001b[32;1m anti\u001b[0m\u001b[32;1m-\u001b[0m\u001b[31;1minflammatory[mal]\u001b[0m\u001b[32;1marial\u001b[0m\u001b[32;1m activity\u001b[0m\u001b[32;1m and\u001b[0m\u001b[32;1m their\u001b[0m\u001b[31;1m potential[possible]\u001b[0m\u001b[31;1m mechanisms[targets]\u001b[0m\u001b[32;1m</s>\u001b[0m\n",
      "\n",
      "\n"
     ]
    },
    {
     "name": "stderr",
     "output_type": "stream",
     "text": [
      "INFO:***** Running Evaluation *****\n",
      "INFO:  Num examples = 2970\n",
      "INFO:  Batch size = 32\n"
     ]
    },
    {
     "name": "stdout",
     "output_type": "stream",
     "text": [
      "\n",
      "\n",
      "\u001b[32;1m<s>\u001b[0m\u001b[32;1mMe\u001b[0m\u001b[31;1masuring[iotic]\u001b[0m\u001b[32;1m analyses\u001b[0m\u001b[31;1m reveal[show]\u001b[0m\u001b[31;1m potential[adaptations]\u001b[0m\u001b[31;1m of[to]\u001b[0m\u001b[31;1m recovery[maintenance]\u001b[0m\u001b[32;1m of\u001b[0m\u001b[31;1m skin[fertility]\u001b[0m\u001b[32;1m in\u001b[0m\u001b[31;1m N[X]\u001b[0m\u001b[31;1manth[1]\u001b[0m\u001b[31;1mS[Y]\u001b[0m\u001b[31;1m4[1]\u001b[0m\u001b[31;1mS[X]\u001b[0m\u001b[31;1m4[2]\u001b[0m\u001b[31;1mX[Y]\u001b[0m\u001b[31;1m4[2]\u001b[0m\u001b[32;1mX\u001b[0m\u001b[31;1m4[3]\u001b[0m\u001b[31;1mS[Y]\u001b[0m\u001b[31;1m4[3]\u001b[0m\u001b[31;1mS[X]\u001b[0m\u001b[32;1m4\u001b[0m\u001b[31;1mS[Y]\u001b[0m\u001b[32;1m4\u001b[0m\u001b[31;1mS[X]\u001b[0m\u001b[31;1m4[5]\u001b[0m\u001b[32;1mY\u001b[0m\u001b[31;1m4[5]\u001b[0m\u001b[31;1m mutant[system]\u001b[0m\u001b[31;1m that[of]\u001b[0m\u001b[31;1m Pse[am]\u001b[0m\u001b[31;1myl[azon]\u001b[0m\u001b[31;1mia[frog]\u001b[0m\u001b[31;1m ([Le]\u001b[0m\u001b[31;1mish[pt]\u001b[0m\u001b[31;1mosp[od]\u001b[0m\u001b[31;1mys[act]\u001b[0m\u001b[32;1myl\u001b[0m\u001b[32;1mus\u001b[0m\u001b[31;1m j[pent]\u001b[0m\u001b[31;1mog[ad]\u001b[0m\u001b[31;1mher[act]\u001b[0m\u001b[32;1myl\u001b[0m\u001b[32;1mus\u001b[0m\u001b[32;1m (\u001b[0m\u001b[31;1mCole[La]\u001b[0m\u001b[31;1memon[ure]\u001b[0m\u001b[31;1ma[nt]\u001b[0m\u001b[31;1mica[i]\u001b[0m\u001b[31;1maceae[,]\u001b[0m\u001b[31;1m J[17]\u001b[0m\u001b[31;1mth[68]\u001b[0m\u001b[32;1m)\u001b[0m\u001b[32;1m</s>\u001b[0m\n",
      "\n",
      "\n"
     ]
    },
    {
     "name": "stderr",
     "output_type": "stream",
     "text": [
      "INFO:***** Running Evaluation *****\n",
      "INFO:  Num examples = 2970\n",
      "INFO:  Batch size = 32\n"
     ]
    },
    {
     "name": "stdout",
     "output_type": "stream",
     "text": [
      "\n",
      "\n",
      "\u001b[32;1m<s>\u001b[0m\u001b[32;1mSmall\u001b[0m\u001b[32;1m-\u001b[0m\u001b[31;1mdose[for]\u001b[0m\u001b[32;1m-\u001b[0m\u001b[31;1murban[gest]\u001b[0m\u001b[32;1mational\u001b[0m\u001b[32;1m age\u001b[0m\u001b[32;1m and\u001b[0m\u001b[32;1m its\u001b[0m\u001b[32;1m association\u001b[0m\u001b[32;1m with\u001b[0m\u001b[31;1m blood[maternal]\u001b[0m\u001b[32;1m blood\u001b[0m\u001b[31;1m pressure[glucose]\u001b[0m\u001b[32;1m,\u001b[0m\u001b[32;1m body\u001b[0m\u001b[32;1m mass\u001b[0m\u001b[32;1m index\u001b[0m\u001b[32;1m and\u001b[0m\u001b[31;1m pain[stature]\u001b[0m\u001b[32;1m:\u001b[0m\u001b[32;1m a\u001b[0m\u001b[32;1m per\u001b[0m\u001b[31;1mi[in]\u001b[0m\u001b[32;1matal\u001b[0m\u001b[32;1m cohort\u001b[0m\u001b[32;1m study\u001b[0m\u001b[32;1m among\u001b[0m\u001b[32;1m Chinese\u001b[0m\u001b[32;1m women\u001b[0m\u001b[32;1m</s>\u001b[0m\n",
      "\n",
      "\n"
     ]
    },
    {
     "name": "stderr",
     "output_type": "stream",
     "text": [
      "INFO:***** Running Evaluation *****\n",
      "INFO:  Num examples = 2970\n",
      "INFO:  Batch size = 32\n"
     ]
    },
    {
     "name": "stdout",
     "output_type": "stream",
     "text": [
      "\n",
      "\n",
      "\u001b[32;1m<s>\u001b[0m\u001b[31;1mPhase[Mark]\u001b[0m\u001b[32;1mers\u001b[0m\u001b[32;1m of\u001b[0m\u001b[32;1m type\u001b[0m\u001b[32;1m I\u001b[0m\u001b[32;1m collagen\u001b[0m\u001b[31;1m production[degradation]\u001b[0m\u001b[32;1m and\u001b[0m\u001b[32;1m synthesis\u001b[0m\u001b[32;1m in\u001b[0m\u001b[32;1m the\u001b[0m\u001b[31;1m treatment[monitoring]\u001b[0m\u001b[32;1m of\u001b[0m\u001b[32;1m treatment\u001b[0m\u001b[32;1m response\u001b[0m\u001b[32;1m in\u001b[0m\u001b[31;1m tumor[bone]\u001b[0m\u001b[32;1m metast\u001b[0m\u001b[32;1mases\u001b[0m\u001b[32;1m from\u001b[0m\u001b[32;1m breast\u001b[0m\u001b[31;1m cancer[carcin]\u001b[0m\u001b[32;1moma\u001b[0m\u001b[32;1m.\u001b[0m\u001b[32;1m</s>\u001b[0m\n",
      "\n",
      "\n"
     ]
    },
    {
     "name": "stderr",
     "output_type": "stream",
     "text": [
      "Saving model checkpoint to /lm_models/checkpoint-10000\n",
      "Trainer.model is not a `PreTrainedModel`, only saving its state dict.\n",
      "Deleting older checkpoint [/lm_models/checkpoint-7500] due to args.save_total_limit\n",
      "/opt/conda/lib/python3.8/site-packages/torch/nn/parallel/_functions.py:68: UserWarning: Was asked to gather along dimension 0, but all input tensors were scalars; will instead unsqueeze and return a vector.\n",
      "  warnings.warn('Was asked to gather along dimension 0, but all '\n",
      "INFO:***** Running Evaluation *****\n",
      "INFO:  Num examples = 2970\n",
      "INFO:  Batch size = 32\n"
     ]
    },
    {
     "name": "stdout",
     "output_type": "stream",
     "text": [
      "\n",
      "\n",
      "\u001b[32;1m<s>\u001b[0m\u001b[31;1mU[Me]\u001b[0m\u001b[31;1masuring[iotic]\u001b[0m\u001b[32;1m analyses\u001b[0m\u001b[31;1m reveal[show]\u001b[0m\u001b[31;1m potential[adaptations]\u001b[0m\u001b[32;1m to\u001b[0m\u001b[31;1m physical[maintenance]\u001b[0m\u001b[31;1m in[of]\u001b[0m\u001b[31;1m respiratory[fertility]\u001b[0m\u001b[32;1m in\u001b[0m\u001b[31;1m M[X]\u001b[0m\u001b[31;1manth[1]\u001b[0m\u001b[31;1mS[Y]\u001b[0m\u001b[31;1m2[1]\u001b[0m\u001b[31;1mS[X]\u001b[0m\u001b[32;1m2\u001b[0m\u001b[31;1mX[Y]\u001b[0m\u001b[32;1m2\u001b[0m\u001b[32;1mX\u001b[0m\u001b[31;1m4[3]\u001b[0m\u001b[31;1mX[Y]\u001b[0m\u001b[31;1m4[3]\u001b[0m\u001b[32;1mX\u001b[0m\u001b[32;1m4\u001b[0m\u001b[31;1mX[Y]\u001b[0m\u001b[32;1m4\u001b[0m\u001b[31;1mM[X]\u001b[0m\u001b[31;1m4[5]\u001b[0m\u001b[31;1mB[Y]\u001b[0m\u001b[31;1m4[5]\u001b[0m\u001b[31;1m region[system]\u001b[0m\u001b[32;1m of\u001b[0m\u001b[31;1m Arab[am]\u001b[0m\u001b[31;1myl[azon]\u001b[0m\u001b[31;1mia[frog]\u001b[0m\u001b[31;1m ([Le]\u001b[0m\u001b[31;1mish[pt]\u001b[0m\u001b[31;1mosp[od]\u001b[0m\u001b[32;1mact\u001b[0m\u001b[32;1myl\u001b[0m\u001b[32;1mus\u001b[0m\u001b[31;1m j[pent]\u001b[0m\u001b[31;1mos[ad]\u001b[0m\u001b[32;1mact\u001b[0m\u001b[32;1myl\u001b[0m\u001b[32;1mus\u001b[0m\u001b[32;1m (\u001b[0m\u001b[31;1mCole[La]\u001b[0m\u001b[31;1mev[ure]\u001b[0m\u001b[31;1ma[nt]\u001b[0m\u001b[31;1mica[i]\u001b[0m\u001b[31;1maceae[,]\u001b[0m\u001b[31;1m J[17]\u001b[0m\u001b[31;1m58[68]\u001b[0m\u001b[32;1m)\u001b[0m\u001b[32;1m</s>\u001b[0m\n",
      "\n",
      "\n"
     ]
    },
    {
     "name": "stderr",
     "output_type": "stream",
     "text": [
      "INFO:***** Running Evaluation *****\n",
      "INFO:  Num examples = 2970\n",
      "INFO:  Batch size = 32\n"
     ]
    },
    {
     "name": "stdout",
     "output_type": "stream",
     "text": [
      "\n",
      "\n",
      "\u001b[32;1m<s>\u001b[0m\u001b[32;1mThe\u001b[0m\u001b[32;1m impact\u001b[0m\u001b[32;1m of\u001b[0m\u001b[31;1m improving[removing]\u001b[0m\u001b[31;1m social[financial]\u001b[0m\u001b[31;1m support[incentives]\u001b[0m\u001b[32;1m from\u001b[0m\u001b[32;1m clinical\u001b[0m\u001b[31;1m performance[quality]\u001b[0m\u001b[31;1m data[indicators]\u001b[0m\u001b[32;1m:\u001b[0m\u001b[32;1m longitudinal\u001b[0m\u001b[32;1m analysis\u001b[0m\u001b[32;1m of\u001b[0m\u001b[31;1m three[four]\u001b[0m\u001b[31;1m US[Kaiser]\u001b[0m\u001b[32;1m P\u001b[0m\u001b[31;1mreg[erman]\u001b[0m\u001b[31;1ment[ente]\u001b[0m\u001b[32;1m indicators\u001b[0m\u001b[32;1m</s>\u001b[0m\n",
      "\n",
      "\n"
     ]
    },
    {
     "name": "stderr",
     "output_type": "stream",
     "text": [
      "INFO:***** Running Evaluation *****\n",
      "INFO:  Num examples = 2970\n",
      "INFO:  Batch size = 32\n"
     ]
    },
    {
     "name": "stdout",
     "output_type": "stream",
     "text": [
      "\n",
      "\n",
      "\u001b[32;1m<s>\u001b[0m\u001b[32;1mS\u001b[0m\u001b[31;1mert[int]\u001b[0m\u001b[31;1mam[il]\u001b[0m\u001b[31;1miz[im]\u001b[0m\u001b[32;1mab\u001b[0m\u001b[32;1m,\u001b[0m\u001b[32;1m a\u001b[0m\u001b[32;1m PD\u001b[0m\u001b[32;1m-\u001b[0m\u001b[32;1m1\u001b[0m\u001b[32;1m In\u001b[0m\u001b[32;1mhib\u001b[0m\u001b[32;1mitor\u001b[0m\u001b[32;1m,\u001b[0m\u001b[31;1m Reg[Complete]\u001b[0m\u001b[32;1mly\u001b[0m\u001b[31;1m Pro[Re]\u001b[0m\u001b[32;1mvers\u001b[0m\u001b[32;1med\u001b[0m\u001b[31;1m Un[Rare]\u001b[0m\u001b[32;1mly\u001b[0m\u001b[31;1m-[Ref]\u001b[0m\u001b[32;1mract\u001b[0m\u001b[32;1mory\u001b[0m\u001b[31;1m Int[Hyp]\u001b[0m\u001b[31;1mox[of]\u001b[0m\u001b[31;1mraction[ibr]\u001b[0m\u001b[31;1mill[in]\u001b[0m\u001b[31;1muria[ogen]\u001b[0m\u001b[31;1m Therapy[emia]\u001b[0m\u001b[32;1m in\u001b[0m\u001b[32;1m a\u001b[0m\u001b[31;1m Breast[Gast]\u001b[0m\u001b[32;1mric\u001b[0m\u001b[32;1m Cancer\u001b[0m\u001b[32;1m Patient\u001b[0m\u001b[32;1m:\u001b[0m\u001b[32;1m A\u001b[0m\u001b[32;1m Case\u001b[0m\u001b[32;1m Report\u001b[0m\u001b[32;1m and\u001b[0m\u001b[32;1m Review\u001b[0m\u001b[32;1m of\u001b[0m\u001b[32;1m the\u001b[0m\u001b[32;1m Literature\u001b[0m\u001b[32;1m</s>\u001b[0m\n",
      "\n",
      "\n"
     ]
    },
    {
     "name": "stderr",
     "output_type": "stream",
     "text": [
      "INFO:***** Running Evaluation *****\n",
      "INFO:  Num examples = 2970\n",
      "INFO:  Batch size = 32\n"
     ]
    },
    {
     "name": "stdout",
     "output_type": "stream",
     "text": [
      "\n",
      "\n",
      "\u001b[32;1m<s>\u001b[0m\u001b[32;1mD\u001b[0m\u001b[32;1metermin\u001b[0m\u001b[32;1mants\u001b[0m\u001b[32;1m of\u001b[0m\u001b[31;1m children[birth]\u001b[0m\u001b[32;1m as\u001b[0m\u001b[31;1m se[phy]\u001b[0m\u001b[32;1mxia\u001b[0m\u001b[32;1m among\u001b[0m\u001b[31;1m neon[live]\u001b[0m\u001b[31;1m neon[birth]\u001b[0m\u001b[31;1mweight[newborn]\u001b[0m\u001b[32;1ms\u001b[0m\u001b[32;1m in\u001b[0m\u001b[31;1m S[University]\u001b[0m\u001b[32;1m of\u001b[0m\u001b[32;1m G\u001b[0m\u001b[32;1mond\u001b[0m\u001b[32;1mar\u001b[0m\u001b[31;1m hospital[referral]\u001b[0m\u001b[32;1m hospital\u001b[0m\u001b[32;1m,\u001b[0m\u001b[31;1m Northwest[northwest]\u001b[0m\u001b[32;1m Ethiopia\u001b[0m\u001b[32;1m:\u001b[0m\u001b[32;1m A\u001b[0m\u001b[32;1m case\u001b[0m\u001b[32;1m-\u001b[0m\u001b[32;1mcontrol\u001b[0m\u001b[32;1m study\u001b[0m\u001b[32;1m</s>\u001b[0m\n",
      "\n",
      "\n"
     ]
    },
    {
     "name": "stderr",
     "output_type": "stream",
     "text": [
      "INFO:***** Running Evaluation *****\n",
      "INFO:  Num examples = 2970\n",
      "INFO:  Batch size = 32\n"
     ]
    },
    {
     "name": "stdout",
     "output_type": "stream",
     "text": [
      "\n",
      "\n",
      "\u001b[32;1m<s>\u001b[0m\u001b[32;1mPat\u001b[0m\u001b[32;1mient\u001b[0m\u001b[31;1m ultrasound[portal]\u001b[0m\u001b[31;1m device[messaging]\u001b[0m\u001b[32;1m for\u001b[0m\u001b[32;1m care\u001b[0m\u001b[31;1m decision[coordination]\u001b[0m\u001b[32;1m:\u001b[0m\u001b[32;1m a\u001b[0m\u001b[32;1m qualitative\u001b[0m\u001b[32;1m study\u001b[0m\u001b[32;1m of\u001b[0m\u001b[31;1m experiences[perspectives]\u001b[0m\u001b[32;1m of\u001b[0m\u001b[31;1m managing[experienced]\u001b[0m\u001b[31;1m people[users]\u001b[0m\u001b[32;1m with\u001b[0m\u001b[32;1m chronic\u001b[0m\u001b[32;1m conditions\u001b[0m\u001b[32;1m</s>\u001b[0m\n",
      "\n",
      "\n"
     ]
    },
    {
     "name": "stderr",
     "output_type": "stream",
     "text": [
      "Saving model checkpoint to /lm_models/checkpoint-10500\n",
      "Trainer.model is not a `PreTrainedModel`, only saving its state dict.\n",
      "Deleting older checkpoint [/lm_models/checkpoint-8000] due to args.save_total_limit\n",
      "/opt/conda/lib/python3.8/site-packages/torch/nn/parallel/_functions.py:68: UserWarning: Was asked to gather along dimension 0, but all input tensors were scalars; will instead unsqueeze and return a vector.\n",
      "  warnings.warn('Was asked to gather along dimension 0, but all '\n",
      "INFO:***** Running Evaluation *****\n",
      "INFO:  Num examples = 2970\n",
      "INFO:  Batch size = 32\n"
     ]
    },
    {
     "name": "stdout",
     "output_type": "stream",
     "text": [
      "\n",
      "\n",
      "\u001b[32;1m<s>\u001b[0m\u001b[32;1mThe\u001b[0m\u001b[32;1m effects\u001b[0m\u001b[32;1m of\u001b[0m\u001b[31;1m long[short]\u001b[0m\u001b[32;1m-\u001b[0m\u001b[32;1mterm\u001b[0m\u001b[32;1m hyp\u001b[0m\u001b[32;1mox\u001b[0m\u001b[32;1mia\u001b[0m\u001b[32;1m on\u001b[0m\u001b[32;1m human\u001b[0m\u001b[32;1m mes\u001b[0m\u001b[32;1mench\u001b[0m\u001b[32;1mym\u001b[0m\u001b[32;1mal\u001b[0m\u001b[32;1m stem\u001b[0m\u001b[32;1m cell\u001b[0m\u001b[32;1m proliferation\u001b[0m\u001b[32;1m,\u001b[0m\u001b[31;1m migration[viability]\u001b[0m\u001b[32;1m and\u001b[0m\u001b[31;1m H[p]\u001b[0m\u001b[31;1m53[16]\u001b[0m\u001b[31;1mK[INK]\u001b[0m\u001b[31;1m1[4]\u001b[0m\u001b[31;1m expression[A]\u001b[0m\u001b[31;1m expression[mRNA]\u001b[0m\u001b[32;1m expression\u001b[0m\u001b[32;1m:\u001b[0m\u001b[31;1m A[Investigation]\u001b[0m\u001b[32;1m using\u001b[0m\u001b[32;1m a\u001b[0m\u001b[31;1m normal[simple]\u001b[0m\u001b[31;1m growth[hyp]\u001b[0m\u001b[31;1mox[oxic]\u001b[0m\u001b[31;1m system[culture]\u001b[0m\u001b[31;1m approach[system]\u001b[0m\u001b[31;1m to[with]\u001b[0m\u001b[32;1m a\u001b[0m\u001b[31;1m met[de]\u001b[0m\u001b[31;1mxt[ox]\u001b[0m\u001b[31;1myn[id]\u001b[0m\u001b[31;1mant[izing]\u001b[0m\u001b[31;1m enzyme[agent]\u001b[0m\u001b[32;1m</s>\u001b[0m\n",
      "\n",
      "\n"
     ]
    },
    {
     "name": "stderr",
     "output_type": "stream",
     "text": [
      "INFO:***** Running Evaluation *****\n",
      "INFO:  Num examples = 2970\n",
      "INFO:  Batch size = 32\n"
     ]
    },
    {
     "name": "stdout",
     "output_type": "stream",
     "text": [
      "\n",
      "\n",
      "\u001b[32;1m<s>\u001b[0m\u001b[31;1mAs[Me]\u001b[0m\u001b[32;1miotic\u001b[0m\u001b[32;1m analyses\u001b[0m\u001b[31;1m reveal[show]\u001b[0m\u001b[31;1m protective[adaptations]\u001b[0m\u001b[32;1m to\u001b[0m\u001b[32;1m maintenance\u001b[0m\u001b[32;1m of\u001b[0m\u001b[31;1m air[fertility]\u001b[0m\u001b[32;1m in\u001b[0m\u001b[32;1m X\u001b[0m\u001b[31;1mB[1]\u001b[0m\u001b[31;1mS[Y]\u001b[0m\u001b[31;1m6[1]\u001b[0m\u001b[31;1mS[X]\u001b[0m\u001b[31;1m4[2]\u001b[0m\u001b[31;1mN[Y]\u001b[0m\u001b[31;1m3[2]\u001b[0m\u001b[31;1mN[X]\u001b[0m\u001b[31;1m4[3]\u001b[0m\u001b[31;1mN[Y]\u001b[0m\u001b[31;1m4[3]\u001b[0m\u001b[31;1mN[X]\u001b[0m\u001b[32;1m4\u001b[0m\u001b[31;1mN[Y]\u001b[0m\u001b[32;1m4\u001b[0m\u001b[31;1mN[X]\u001b[0m\u001b[31;1m4[5]\u001b[0m\u001b[31;1m-[Y]\u001b[0m\u001b[31;1m mutant[5]\u001b[0m\u001b[31;1m mutant[system]\u001b[0m\u001b[32;1m of\u001b[0m\u001b[31;1m Arab[am]\u001b[0m\u001b[31;1myl[azon]\u001b[0m\u001b[31;1mia[frog]\u001b[0m\u001b[31;1m ([Le]\u001b[0m\u001b[32;1mpt\u001b[0m\u001b[31;1mosp[od]\u001b[0m\u001b[32;1mact\u001b[0m\u001b[32;1myl\u001b[0m\u001b[32;1mus\u001b[0m\u001b[31;1m ([pent]\u001b[0m\u001b[31;1ma[ad]\u001b[0m\u001b[32;1mact\u001b[0m\u001b[32;1myl\u001b[0m\u001b[32;1mus\u001b[0m\u001b[32;1m (\u001b[0m\u001b[31;1mCole[La]\u001b[0m\u001b[31;1m)[ure]\u001b[0m\u001b[31;1mlla[nt]\u001b[0m\u001b[31;1ma[i]\u001b[0m\u001b[31;1maceae[,]\u001b[0m\u001b[31;1m J[17]\u001b[0m\u001b[31;1m)[68]\u001b[0m\u001b[32;1m)\u001b[0m\u001b[32;1m</s>\u001b[0m\n",
      "\n",
      "\n"
     ]
    },
    {
     "name": "stderr",
     "output_type": "stream",
     "text": [
      "INFO:***** Running Evaluation *****\n",
      "INFO:  Num examples = 2970\n",
      "INFO:  Batch size = 32\n"
     ]
    },
    {
     "name": "stdout",
     "output_type": "stream",
     "text": [
      "\n",
      "\n",
      "\u001b[32;1m<s>\u001b[0m\u001b[32;1mTarget\u001b[0m\u001b[32;1m-\u001b[0m\u001b[31;1mlevel[similar]\u001b[0m\u001b[32;1mity\u001b[0m\u001b[31;1m method[search]\u001b[0m\u001b[32;1m using\u001b[0m\u001b[32;1m Pl\u001b[0m\u001b[32;1mas\u001b[0m\u001b[32;1mmod\u001b[0m\u001b[32;1mium\u001b[0m\u001b[32;1m fal\u001b[0m\u001b[32;1mc\u001b[0m\u001b[32;1mip\u001b[0m\u001b[32;1mar\u001b[0m\u001b[32;1mum\u001b[0m\u001b[32;1m prote\u001b[0m\u001b[31;1mase[ome]\u001b[0m\u001b[32;1m identifies\u001b[0m\u001b[31;1m vaccines[approved]\u001b[0m\u001b[32;1m drugs\u001b[0m\u001b[32;1m with\u001b[0m\u001b[32;1m anti\u001b[0m\u001b[32;1m-\u001b[0m\u001b[31;1minflammatory[mal]\u001b[0m\u001b[32;1marial\u001b[0m\u001b[32;1m activity\u001b[0m\u001b[32;1m and\u001b[0m\u001b[32;1m their\u001b[0m\u001b[31;1m potential[possible]\u001b[0m\u001b[32;1m targets\u001b[0m\u001b[32;1m</s>\u001b[0m\n",
      "\n",
      "\n"
     ]
    },
    {
     "name": "stderr",
     "output_type": "stream",
     "text": [
      "INFO:***** Running Evaluation *****\n",
      "INFO:  Num examples = 2970\n",
      "INFO:  Batch size = 32\n"
     ]
    },
    {
     "name": "stdout",
     "output_type": "stream",
     "text": [
      "\n",
      "\n",
      "\u001b[32;1m<s>\u001b[0m\u001b[32;1mA\u001b[0m\u001b[31;1m 24[60]\u001b[0m\u001b[31;1m%[Hz]\u001b[0m\u001b[31;1m light[uniform]\u001b[0m\u001b[31;1m light[electromagnetic]\u001b[0m\u001b[32;1m field\u001b[0m\u001b[32;1m promotes\u001b[0m\u001b[32;1m human\u001b[0m\u001b[32;1m cell\u001b[0m\u001b[32;1m proliferation\u001b[0m\u001b[32;1m by\u001b[0m\u001b[31;1m inhib[decreasing]\u001b[0m\u001b[32;1m intr\u001b[0m\u001b[32;1mace\u001b[0m\u001b[32;1mllular\u001b[0m\u001b[32;1m reactive\u001b[0m\u001b[32;1m oxygen\u001b[0m\u001b[32;1m species\u001b[0m\u001b[32;1m levels\u001b[0m\u001b[32;1m</s>\u001b[0m\n",
      "\n",
      "\n"
     ]
    },
    {
     "name": "stderr",
     "output_type": "stream",
     "text": [
      "INFO:***** Running Evaluation *****\n",
      "INFO:  Num examples = 2970\n",
      "INFO:  Batch size = 32\n"
     ]
    },
    {
     "name": "stdout",
     "output_type": "stream",
     "text": [
      "\n",
      "\n",
      "\u001b[32;1m<s>\u001b[0m\u001b[31;1mU[Me]\u001b[0m\u001b[31;1mas[iotic]\u001b[0m\u001b[31;1m features[analyses]\u001b[0m\u001b[31;1m reveal[show]\u001b[0m\u001b[31;1m protective[adaptations]\u001b[0m\u001b[31;1m of[to]\u001b[0m\u001b[32;1m maintenance\u001b[0m\u001b[32;1m of\u001b[0m\u001b[31;1m growth[fertility]\u001b[0m\u001b[32;1m in\u001b[0m\u001b[32;1m X\u001b[0m\u001b[31;1mB[1]\u001b[0m\u001b[31;1mS[Y]\u001b[0m\u001b[32;1m1\u001b[0m\u001b[32;1mX\u001b[0m\u001b[32;1m2\u001b[0m\u001b[31;1mX[Y]\u001b[0m\u001b[32;1m2\u001b[0m\u001b[32;1mX\u001b[0m\u001b[31;1m4[3]\u001b[0m\u001b[31;1mX[Y]\u001b[0m\u001b[31;1m4[3]\u001b[0m\u001b[32;1mX\u001b[0m\u001b[32;1m4\u001b[0m\u001b[31;1mX[Y]\u001b[0m\u001b[32;1m4\u001b[0m\u001b[31;1mB[X]\u001b[0m\u001b[31;1m4[5]\u001b[0m\u001b[31;1mB[Y]\u001b[0m\u001b[31;1m3[5]\u001b[0m\u001b[31;1mB[system]\u001b[0m\u001b[32;1m of\u001b[0m\u001b[31;1m Ca[am]\u001b[0m\u001b[31;1myl[azon]\u001b[0m\u001b[31;1mia[frog]\u001b[0m\u001b[31;1m ([Le]\u001b[0m\u001b[32;1mpt\u001b[0m\u001b[31;1mosp[od]\u001b[0m\u001b[31;1mys[act]\u001b[0m\u001b[32;1myl\u001b[0m\u001b[32;1mus\u001b[0m\u001b[31;1m a[pent]\u001b[0m\u001b[31;1ma[ad]\u001b[0m\u001b[32;1mact\u001b[0m\u001b[32;1myl\u001b[0m\u001b[32;1mus\u001b[0m\u001b[32;1m (\u001b[0m\u001b[31;1mCole[La]\u001b[0m\u001b[31;1m)[ure]\u001b[0m\u001b[31;1ma[nt]\u001b[0m\u001b[31;1m)[i]\u001b[0m\u001b[31;1maceae[,]\u001b[0m\u001b[31;1m Brazil[17]\u001b[0m\u001b[31;1m09[68]\u001b[0m\u001b[32;1m)\u001b[0m\u001b[32;1m</s>\u001b[0m\n",
      "\n",
      "\n"
     ]
    },
    {
     "name": "stderr",
     "output_type": "stream",
     "text": [
      "Saving model checkpoint to /lm_models/checkpoint-11000\n",
      "Trainer.model is not a `PreTrainedModel`, only saving its state dict.\n",
      "Deleting older checkpoint [/lm_models/checkpoint-8500] due to args.save_total_limit\n",
      "/opt/conda/lib/python3.8/site-packages/torch/nn/parallel/_functions.py:68: UserWarning: Was asked to gather along dimension 0, but all input tensors were scalars; will instead unsqueeze and return a vector.\n",
      "  warnings.warn('Was asked to gather along dimension 0, but all '\n",
      "INFO:***** Running Evaluation *****\n",
      "INFO:  Num examples = 2970\n",
      "INFO:  Batch size = 32\n"
     ]
    },
    {
     "name": "stdout",
     "output_type": "stream",
     "text": [
      "\n",
      "\n",
      "\u001b[32;1m<s>\u001b[0m\u001b[32;1mA\u001b[0m\u001b[32;1m prospective\u001b[0m\u001b[32;1m study\u001b[0m\u001b[32;1m of\u001b[0m\u001b[31;1m hip[shoulder]\u001b[0m\u001b[32;1m pain\u001b[0m\u001b[32;1m in\u001b[0m\u001b[32;1m primary\u001b[0m\u001b[32;1m care\u001b[0m\u001b[32;1m:\u001b[0m\u001b[32;1m Pre\u001b[0m\u001b[32;1mval\u001b[0m\u001b[32;1mence\u001b[0m\u001b[32;1m of\u001b[0m\u001b[31;1m su[im]\u001b[0m\u001b[31;1maging[aged]\u001b[0m\u001b[32;1m pathology\u001b[0m\u001b[32;1m and\u001b[0m\u001b[32;1m response\u001b[0m\u001b[32;1m to\u001b[0m\u001b[31;1m integrated[guided]\u001b[0m\u001b[32;1m diagnostic\u001b[0m\u001b[31;1m ass[blocks]\u001b[0m\u001b[32;1m</s>\u001b[0m\n",
      "\n",
      "\n"
     ]
    },
    {
     "name": "stderr",
     "output_type": "stream",
     "text": [
      "INFO:***** Running Evaluation *****\n",
      "INFO:  Num examples = 2970\n",
      "INFO:  Batch size = 32\n"
     ]
    },
    {
     "name": "stdout",
     "output_type": "stream",
     "text": [
      "\n",
      "\n",
      "\u001b[32;1m<s>\u001b[0m\u001b[32;1mA\u001b[0m\u001b[32;1m prospective\u001b[0m\u001b[32;1m study\u001b[0m\u001b[32;1m of\u001b[0m\u001b[31;1m knee[shoulder]\u001b[0m\u001b[32;1m pain\u001b[0m\u001b[32;1m in\u001b[0m\u001b[32;1m primary\u001b[0m\u001b[32;1m care\u001b[0m\u001b[32;1m:\u001b[0m\u001b[32;1m Pre\u001b[0m\u001b[32;1mval\u001b[0m\u001b[32;1mence\u001b[0m\u001b[32;1m of\u001b[0m\u001b[31;1m su[im]\u001b[0m\u001b[31;1mmediate[aged]\u001b[0m\u001b[31;1m progression[pathology]\u001b[0m\u001b[32;1m and\u001b[0m\u001b[32;1m response\u001b[0m\u001b[32;1m to\u001b[0m\u001b[31;1m automated[guided]\u001b[0m\u001b[32;1m diagnostic\u001b[0m\u001b[31;1m ass[blocks]\u001b[0m\u001b[32;1m</s>\u001b[0m\n",
      "\n",
      "\n"
     ]
    },
    {
     "name": "stderr",
     "output_type": "stream",
     "text": [
      "INFO:***** Running Evaluation *****\n",
      "INFO:  Num examples = 2970\n",
      "INFO:  Batch size = 32\n"
     ]
    },
    {
     "name": "stdout",
     "output_type": "stream",
     "text": [
      "\n",
      "\n",
      "\u001b[32;1m<s>\u001b[0m\u001b[32;1mD\u001b[0m\u001b[32;1metermin\u001b[0m\u001b[32;1mants\u001b[0m\u001b[32;1m of\u001b[0m\u001b[32;1m birth\u001b[0m\u001b[32;1m as\u001b[0m\u001b[31;1m se[phy]\u001b[0m\u001b[32;1mxia\u001b[0m\u001b[32;1m among\u001b[0m\u001b[31;1m home[live]\u001b[0m\u001b[32;1m birth\u001b[0m\u001b[31;1mweight[newborn]\u001b[0m\u001b[32;1ms\u001b[0m\u001b[32;1m in\u001b[0m\u001b[32;1m University\u001b[0m\u001b[32;1m of\u001b[0m\u001b[32;1m G\u001b[0m\u001b[32;1mond\u001b[0m\u001b[32;1mar\u001b[0m\u001b[31;1m surgical[referral]\u001b[0m\u001b[32;1m hospital\u001b[0m\u001b[32;1m,\u001b[0m\u001b[31;1m Northwest[northwest]\u001b[0m\u001b[32;1m Ethiopia\u001b[0m\u001b[32;1m:\u001b[0m\u001b[32;1m A\u001b[0m\u001b[32;1m case\u001b[0m\u001b[32;1m-\u001b[0m\u001b[32;1mcontrol\u001b[0m\u001b[32;1m study\u001b[0m\u001b[32;1m</s>\u001b[0m\n",
      "\n",
      "\n"
     ]
    },
    {
     "name": "stderr",
     "output_type": "stream",
     "text": [
      "INFO:***** Running Evaluation *****\n",
      "INFO:  Num examples = 2970\n",
      "INFO:  Batch size = 32\n"
     ]
    },
    {
     "name": "stdout",
     "output_type": "stream",
     "text": [
      "\n",
      "\n",
      "\u001b[32;1m<s>\u001b[0m\u001b[32;1mCorrection\u001b[0m\u001b[32;1m to\u001b[0m\u001b[32;1m �\u001b[0m\u001b[32;1m�\u001b[0m\u001b[31;1mMan[Sw]\u001b[0m\u001b[32;1mitching\u001b[0m\u001b[32;1m from\u001b[0m\u001b[31;1m Computer[Controlled]\u001b[0m\u001b[31;1m Liquid[Ring]\u001b[0m\u001b[32;1m-\u001b[0m\u001b[31;1mFree[Opening]\u001b[0m\u001b[32;1m Poly\u001b[0m\u001b[32;1mmer\u001b[0m\u001b[32;1mization\u001b[0m\u001b[32;1m (\u001b[0m\u001b[31;1mT[c]\u001b[0m\u001b[32;1mR\u001b[0m\u001b[31;1mCT[OP]\u001b[0m\u001b[32;1m)\u001b[0m\u001b[32;1m to\u001b[0m\u001b[31;1m Integrated[Controlled]\u001b[0m\u001b[31;1m Light[Ring]\u001b[0m\u001b[32;1m-\u001b[0m\u001b[31;1mCont[Cl]\u001b[0m\u001b[31;1must[osing]\u001b[0m\u001b[31;1m Int[Dep]\u001b[0m\u001b[31;1mos[oly]\u001b[0m\u001b[32;1mmer\u001b[0m\u001b[32;1mization\u001b[0m\u001b[32;1m (\u001b[0m\u001b[31;1mT[c]\u001b[0m\u001b[31;1mAMP[RC]\u001b[0m\u001b[31;1m)[DP]\u001b[0m\u001b[32;1m)\u001b[0m\u001b[31;1m to[by]\u001b[0m\u001b[31;1m the[Adjust]\u001b[0m\u001b[32;1ming\u001b[0m\u001b[32;1m the\u001b[0m\u001b[31;1m Stability[Reaction]\u001b[0m\u001b[31;1m Properties[Parameters]\u001b[0m\u001b[31;1m to[That]\u001b[0m\u001b[31;1m Are[Deter]\u001b[0m\u001b[32;1mmine\u001b[0m\u001b[32;1m the\u001b[0m\u001b[31;1m Concent[Ce]\u001b[0m\u001b[31;1mft[iling]\u001b[0m\u001b[31;1m Efficiency[Temperature]\u001b[0m\u001b[31;1m</s>[�]\u001b[0m\u001b[32;1m�\u001b[0m\u001b[32;1m</s>\u001b[0m\n",
      "\n",
      "\n"
     ]
    },
    {
     "name": "stderr",
     "output_type": "stream",
     "text": [
      "INFO:***** Running Evaluation *****\n",
      "INFO:  Num examples = 2970\n",
      "INFO:  Batch size = 32\n"
     ]
    },
    {
     "name": "stdout",
     "output_type": "stream",
     "text": [
      "\n",
      "\n",
      "\u001b[32;1m<s>\u001b[0m\u001b[32;1mPat\u001b[0m\u001b[32;1mient\u001b[0m\u001b[31;1m training[portal]\u001b[0m\u001b[31;1m training[messaging]\u001b[0m\u001b[32;1m for\u001b[0m\u001b[32;1m care\u001b[0m\u001b[31;1m performance[coordination]\u001b[0m\u001b[32;1m:\u001b[0m\u001b[32;1m a\u001b[0m\u001b[32;1m qualitative\u001b[0m\u001b[32;1m study\u001b[0m\u001b[32;1m of\u001b[0m\u001b[32;1m perspectives\u001b[0m\u001b[32;1m of\u001b[0m\u001b[31;1m critically[experienced]\u001b[0m\u001b[31;1m people[users]\u001b[0m\u001b[32;1m with\u001b[0m\u001b[32;1m chronic\u001b[0m\u001b[32;1m conditions\u001b[0m\u001b[32;1m</s>\u001b[0m\n",
      "\n",
      "\n"
     ]
    },
    {
     "name": "stderr",
     "output_type": "stream",
     "text": [
      "Saving model checkpoint to /lm_models/checkpoint-11500\n",
      "Trainer.model is not a `PreTrainedModel`, only saving its state dict.\n",
      "Deleting older checkpoint [/lm_models/checkpoint-9000] due to args.save_total_limit\n",
      "/opt/conda/lib/python3.8/site-packages/torch/nn/parallel/_functions.py:68: UserWarning: Was asked to gather along dimension 0, but all input tensors were scalars; will instead unsqueeze and return a vector.\n",
      "  warnings.warn('Was asked to gather along dimension 0, but all '\n",
      "INFO:***** Running Evaluation *****\n",
      "INFO:  Num examples = 2970\n",
      "INFO:  Batch size = 32\n"
     ]
    },
    {
     "name": "stdout",
     "output_type": "stream",
     "text": [
      "\n",
      "\n",
      "\u001b[32;1m<s>\u001b[0m\u001b[32;1mThe\u001b[0m\u001b[32;1m Chinese\u001b[0m\u001b[32;1m Her\u001b[0m\u001b[32;1mbal\u001b[0m\u001b[31;1m Extract[Formula]\u001b[0m\u001b[31;1m Z[Shen]\u001b[0m\u001b[31;1man[z]\u001b[0m\u001b[31;1mang[hu]\u001b[0m\u001b[32;1m T\u001b[0m\u001b[31;1mann[ia]\u001b[0m\u001b[31;1man[op]\u001b[0m\u001b[31;1mor[i]\u001b[0m\u001b[31;1maceae[Gran]\u001b[0m\u001b[32;1mule\u001b[0m\u001b[32;1m Results\u001b[0m\u001b[32;1m in\u001b[0m\u001b[32;1m Met\u001b[0m\u001b[32;1mabolic\u001b[0m\u001b[31;1m Risk[Improvement]\u001b[0m\u001b[32;1m in\u001b[0m\u001b[32;1m Type\u001b[0m\u001b[32;1m 2\u001b[0m\u001b[32;1m Di\u001b[0m\u001b[32;1mabetic\u001b[0m\u001b[32;1m Rats\u001b[0m\u001b[32;1m by\u001b[0m\u001b[32;1m Mod\u001b[0m\u001b[32;1mulating\u001b[0m\u001b[32;1m the\u001b[0m\u001b[32;1m Gut\u001b[0m\u001b[32;1m Micro\u001b[0m\u001b[32;1mbi\u001b[0m\u001b[32;1mota\u001b[0m\u001b[32;1m</s>\u001b[0m\n",
      "\n",
      "\n"
     ]
    },
    {
     "name": "stderr",
     "output_type": "stream",
     "text": [
      "INFO:***** Running Evaluation *****\n",
      "INFO:  Num examples = 2970\n",
      "INFO:  Batch size = 32\n"
     ]
    },
    {
     "name": "stdout",
     "output_type": "stream",
     "text": [
      "\n",
      "\n",
      "\u001b[32;1m<s>\u001b[0m\u001b[32;1mSmall\u001b[0m\u001b[32;1m-\u001b[0m\u001b[31;1mto[for]\u001b[0m\u001b[32;1m-\u001b[0m\u001b[31;1msevere[gest]\u001b[0m\u001b[32;1mational\u001b[0m\u001b[32;1m age\u001b[0m\u001b[32;1m and\u001b[0m\u001b[32;1m its\u001b[0m\u001b[32;1m association\u001b[0m\u001b[32;1m with\u001b[0m\u001b[32;1m maternal\u001b[0m\u001b[32;1m blood\u001b[0m\u001b[32;1m glucose\u001b[0m\u001b[32;1m,\u001b[0m\u001b[32;1m body\u001b[0m\u001b[32;1m mass\u001b[0m\u001b[32;1m index\u001b[0m\u001b[32;1m and\u001b[0m\u001b[31;1m the[stature]\u001b[0m\u001b[32;1m:\u001b[0m\u001b[32;1m a\u001b[0m\u001b[32;1m per\u001b[0m\u001b[31;1mi[in]\u001b[0m\u001b[32;1matal\u001b[0m\u001b[32;1m cohort\u001b[0m\u001b[32;1m study\u001b[0m\u001b[32;1m among\u001b[0m\u001b[32;1m Chinese\u001b[0m\u001b[32;1m women\u001b[0m\u001b[32;1m</s>\u001b[0m\n",
      "\n",
      "\n"
     ]
    },
    {
     "name": "stderr",
     "output_type": "stream",
     "text": [
      "INFO:***** Running Evaluation *****\n",
      "INFO:  Num examples = 2970\n",
      "INFO:  Batch size = 32\n"
     ]
    },
    {
     "name": "stdout",
     "output_type": "stream",
     "text": [
      "\n",
      "\n",
      "\u001b[32;1m<s>\u001b[0m\u001b[32;1mSmall\u001b[0m\u001b[32;1m-\u001b[0m\u001b[31;1mto[for]\u001b[0m\u001b[32;1m-\u001b[0m\u001b[31;1msevere[gest]\u001b[0m\u001b[32;1mational\u001b[0m\u001b[32;1m age\u001b[0m\u001b[32;1m and\u001b[0m\u001b[32;1m its\u001b[0m\u001b[32;1m association\u001b[0m\u001b[32;1m with\u001b[0m\u001b[32;1m maternal\u001b[0m\u001b[32;1m blood\u001b[0m\u001b[32;1m glucose\u001b[0m\u001b[32;1m,\u001b[0m\u001b[32;1m body\u001b[0m\u001b[32;1m mass\u001b[0m\u001b[32;1m index\u001b[0m\u001b[32;1m and\u001b[0m\u001b[31;1m the[stature]\u001b[0m\u001b[32;1m:\u001b[0m\u001b[32;1m a\u001b[0m\u001b[32;1m per\u001b[0m\u001b[31;1mi[in]\u001b[0m\u001b[32;1matal\u001b[0m\u001b[32;1m cohort\u001b[0m\u001b[32;1m study\u001b[0m\u001b[32;1m among\u001b[0m\u001b[32;1m Chinese\u001b[0m\u001b[32;1m women\u001b[0m\u001b[32;1m</s>\u001b[0m\n",
      "\n",
      "\n"
     ]
    },
    {
     "name": "stderr",
     "output_type": "stream",
     "text": [
      "INFO:***** Running Evaluation *****\n",
      "INFO:  Num examples = 2970\n",
      "INFO:  Batch size = 32\n"
     ]
    },
    {
     "name": "stdout",
     "output_type": "stream",
     "text": [
      "\n",
      "\n",
      "\u001b[32;1m<s>\u001b[0m\u001b[32;1mCompar\u001b[0m\u001b[32;1mison\u001b[0m\u001b[32;1m of\u001b[0m\u001b[32;1m Performance\u001b[0m\u001b[31;1m Assessment[Achievement]\u001b[0m\u001b[31;1m Question[Award]\u001b[0m\u001b[32;1m Recogn\u001b[0m\u001b[32;1mition\u001b[0m\u001b[32;1m With\u001b[0m\u001b[32;1m Primary\u001b[0m\u001b[31;1m Kid[Stro]\u001b[0m\u001b[32;1mke\u001b[0m\u001b[31;1m Clinic[Center]\u001b[0m\u001b[31;1m Experience[Certification]\u001b[0m\u001b[32;1m for\u001b[0m\u001b[32;1m Ac\u001b[0m\u001b[32;1mute\u001b[0m\u001b[32;1m Is\u001b[0m\u001b[32;1mche\u001b[0m\u001b[32;1mmic\u001b[0m\u001b[32;1m Stro\u001b[0m\u001b[32;1mke\u001b[0m\u001b[32;1m Care\u001b[0m\u001b[32;1m</s>\u001b[0m\n",
      "\n",
      "\n"
     ]
    },
    {
     "name": "stderr",
     "output_type": "stream",
     "text": [
      "INFO:***** Running Evaluation *****\n",
      "INFO:  Num examples = 2970\n",
      "INFO:  Batch size = 32\n"
     ]
    },
    {
     "name": "stdout",
     "output_type": "stream",
     "text": [
      "\n",
      "\n",
      "\u001b[32;1m<s>\u001b[0m\u001b[32;1mCa\u001b[0m\u001b[32;1men\u001b[0m\u001b[32;1mor\u001b[0m\u001b[32;1mhab\u001b[0m\u001b[32;1mdit\u001b[0m\u001b[32;1mis\u001b[0m\u001b[32;1m eleg\u001b[0m\u001b[32;1mans\u001b[0m\u001b[32;1m Hist\u001b[0m\u001b[32;1mone\u001b[0m\u001b[32;1m M\u001b[0m\u001b[32;1methyl\u001b[0m\u001b[32;1mtransfer\u001b[0m\u001b[32;1mase\u001b[0m\u001b[31;1m-[MET]\u001b[0m\u001b[32;1m-\u001b[0m\u001b[32;1m2\u001b[0m\u001b[31;1m Red[Shields]\u001b[0m\u001b[32;1m the\u001b[0m\u001b[31;1m Korean[Male]\u001b[0m\u001b[32;1m X\u001b[0m\u001b[31;1m-[Chrom]\u001b[0m\u001b[32;1mos\u001b[0m\u001b[32;1mome\u001b[0m\u001b[32;1m from\u001b[0m\u001b[31;1m Test[Check]\u001b[0m\u001b[32;1mpoint\u001b[0m\u001b[31;1m Med[Mach]\u001b[0m\u001b[32;1minery\u001b[0m\u001b[32;1m and\u001b[0m\u001b[32;1m Med\u001b[0m\u001b[32;1miates\u001b[0m\u001b[31;1m Pr[Me]\u001b[0m\u001b[32;1miotic\u001b[0m\u001b[31;1m Protein[Sex]\u001b[0m\u001b[32;1m Chrom\u001b[0m\u001b[32;1mos\u001b[0m\u001b[32;1mome\u001b[0m\u001b[32;1m In\u001b[0m\u001b[31;1mhibition[activation]\u001b[0m\u001b[32;1m</s>\u001b[0m\n",
      "\n",
      "\n"
     ]
    },
    {
     "name": "stderr",
     "output_type": "stream",
     "text": [
      "Saving model checkpoint to /lm_models/checkpoint-12000\n",
      "Trainer.model is not a `PreTrainedModel`, only saving its state dict.\n",
      "Deleting older checkpoint [/lm_models/checkpoint-9500] due to args.save_total_limit\n",
      "/opt/conda/lib/python3.8/site-packages/torch/nn/parallel/_functions.py:68: UserWarning: Was asked to gather along dimension 0, but all input tensors were scalars; will instead unsqueeze and return a vector.\n",
      "  warnings.warn('Was asked to gather along dimension 0, but all '\n",
      "INFO:***** Running Evaluation *****\n",
      "INFO:  Num examples = 2970\n",
      "INFO:  Batch size = 32\n"
     ]
    },
    {
     "name": "stdout",
     "output_type": "stream",
     "text": [
      "\n",
      "\n",
      "\u001b[32;1m<s>\u001b[0m\u001b[32;1mS\u001b[0m\u001b[31;1mter[int]\u001b[0m\u001b[31;1mam[il]\u001b[0m\u001b[31;1miz[im]\u001b[0m\u001b[32;1mab\u001b[0m\u001b[32;1m,\u001b[0m\u001b[32;1m a\u001b[0m\u001b[32;1m PD\u001b[0m\u001b[32;1m-\u001b[0m\u001b[32;1m1\u001b[0m\u001b[32;1m In\u001b[0m\u001b[32;1mhib\u001b[0m\u001b[32;1mitor\u001b[0m\u001b[32;1m,\u001b[0m\u001b[31;1m Combined[Complete]\u001b[0m\u001b[32;1mly\u001b[0m\u001b[31;1m Rec[Re]\u001b[0m\u001b[32;1mvers\u001b[0m\u001b[32;1med\u001b[0m\u001b[32;1m Rare\u001b[0m\u001b[32;1mly\u001b[0m\u001b[31;1m Occ[Ref]\u001b[0m\u001b[32;1mract\u001b[0m\u001b[32;1mory\u001b[0m\u001b[32;1m Hyp\u001b[0m\u001b[31;1mog[of]\u001b[0m\u001b[31;1mib[ibr]\u001b[0m\u001b[31;1mill[in]\u001b[0m\u001b[31;1mosis[ogen]\u001b[0m\u001b[31;1m in[emia]\u001b[0m\u001b[32;1m in\u001b[0m\u001b[32;1m a\u001b[0m\u001b[32;1m Gast\u001b[0m\u001b[32;1mric\u001b[0m\u001b[32;1m Cancer\u001b[0m\u001b[31;1m Model[Patient]\u001b[0m\u001b[32;1m:\u001b[0m\u001b[32;1m A\u001b[0m\u001b[32;1m Case\u001b[0m\u001b[32;1m Report\u001b[0m\u001b[32;1m and\u001b[0m\u001b[32;1m Review\u001b[0m\u001b[32;1m of\u001b[0m\u001b[32;1m the\u001b[0m\u001b[32;1m Literature\u001b[0m\u001b[32;1m</s>\u001b[0m\n",
      "\n",
      "\n"
     ]
    },
    {
     "name": "stderr",
     "output_type": "stream",
     "text": [
      "INFO:***** Running Evaluation *****\n",
      "INFO:  Num examples = 2970\n",
      "INFO:  Batch size = 32\n"
     ]
    },
    {
     "name": "stdout",
     "output_type": "stream",
     "text": [
      "\n",
      "\n",
      "\u001b[32;1m<s>\u001b[0m\u001b[32;1mTarget\u001b[0m\u001b[32;1m-\u001b[0m\u001b[31;1mlevel[similar]\u001b[0m\u001b[32;1mity\u001b[0m\u001b[31;1m method[search]\u001b[0m\u001b[32;1m using\u001b[0m\u001b[32;1m Pl\u001b[0m\u001b[32;1mas\u001b[0m\u001b[32;1mmod\u001b[0m\u001b[32;1mium\u001b[0m\u001b[32;1m fal\u001b[0m\u001b[32;1mc\u001b[0m\u001b[32;1mip\u001b[0m\u001b[32;1mar\u001b[0m\u001b[32;1mum\u001b[0m\u001b[32;1m prote\u001b[0m\u001b[31;1mase[ome]\u001b[0m\u001b[32;1m identifies\u001b[0m\u001b[31;1m vaccines[approved]\u001b[0m\u001b[32;1m drugs\u001b[0m\u001b[32;1m with\u001b[0m\u001b[32;1m anti\u001b[0m\u001b[32;1m-\u001b[0m\u001b[31;1minflammatory[mal]\u001b[0m\u001b[32;1marial\u001b[0m\u001b[32;1m activity\u001b[0m\u001b[32;1m and\u001b[0m\u001b[32;1m their\u001b[0m\u001b[31;1m potential[possible]\u001b[0m\u001b[32;1m targets\u001b[0m\u001b[32;1m</s>\u001b[0m\n",
      "\n",
      "\n"
     ]
    },
    {
     "name": "stderr",
     "output_type": "stream",
     "text": [
      "INFO:***** Running Evaluation *****\n",
      "INFO:  Num examples = 2970\n",
      "INFO:  Batch size = 32\n"
     ]
    },
    {
     "name": "stdout",
     "output_type": "stream",
     "text": [
      "\n",
      "\n",
      "\u001b[32;1m<s>\u001b[0m\u001b[32;1mCl\u001b[0m\u001b[32;1minical\u001b[0m\u001b[32;1m practice\u001b[0m\u001b[32;1m guidelines\u001b[0m\u001b[32;1m for\u001b[0m\u001b[32;1m the\u001b[0m\u001b[32;1m surgical\u001b[0m\u001b[32;1m management\u001b[0m\u001b[32;1m of\u001b[0m\u001b[31;1m cervical[colon]\u001b[0m\u001b[32;1m cancer\u001b[0m\u001b[32;1m:\u001b[0m\u001b[32;1m a\u001b[0m\u001b[32;1m consensus\u001b[0m\u001b[32;1m statement\u001b[0m\u001b[31;1m about[of]\u001b[0m\u001b[32;1m the\u001b[0m\u001b[31;1m Mor[Hell]\u001b[0m\u001b[31;1magic[enic]\u001b[0m\u001b[32;1m and\u001b[0m\u001b[32;1m Cy\u001b[0m\u001b[31;1mstic[pri]\u001b[0m\u001b[32;1mot\u001b[0m\u001b[31;1m Hem[Col]\u001b[0m\u001b[32;1more\u001b[0m\u001b[32;1mct\u001b[0m\u001b[32;1mal\u001b[0m\u001b[32;1m Cancer\u001b[0m\u001b[31;1m Group[Study]\u001b[0m\u001b[32;1m Group\u001b[0m\u001b[32;1m by\u001b[0m\u001b[32;1m the\u001b[0m\u001b[31;1m S[He]\u001b[0m\u001b[32;1mS\u001b[0m\u001b[31;1m�[MO]\u001b[0m\u001b[31;1ms[*]\u001b[0m\u001b[32;1m</s>\u001b[0m\n",
      "\n",
      "\n"
     ]
    },
    {
     "name": "stderr",
     "output_type": "stream",
     "text": [
      "INFO:***** Running Evaluation *****\n",
      "INFO:  Num examples = 2970\n",
      "INFO:  Batch size = 32\n"
     ]
    },
    {
     "name": "stdout",
     "output_type": "stream",
     "text": [
      "\n",
      "\n",
      "\u001b[32;1m<s>\u001b[0m\u001b[32;1mD\u001b[0m\u001b[32;1mise\u001b[0m\u001b[32;1mase\u001b[0m\u001b[31;1m characteristics[manifestations]\u001b[0m\u001b[32;1m of\u001b[0m\u001b[32;1m Helic\u001b[0m\u001b[32;1mob\u001b[0m\u001b[32;1macter\u001b[0m\u001b[32;1m p\u001b[0m\u001b[32;1myl\u001b[0m\u001b[32;1mori\u001b[0m\u001b[32;1m infection\u001b[0m\u001b[32;1m in\u001b[0m\u001b[31;1m western[Arctic]\u001b[0m\u001b[31;1m countries[Canada]\u001b[0m\u001b[32;1m:\u001b[0m\u001b[32;1m using\u001b[0m\u001b[32;1m epidem\u001b[0m\u001b[32;1miology\u001b[0m\u001b[32;1m to\u001b[0m\u001b[31;1m inform[address]\u001b[0m\u001b[32;1m community\u001b[0m\u001b[31;1m perspectives[concerns]\u001b[0m\u001b[32;1m</s>\u001b[0m\n",
      "\n",
      "\n"
     ]
    },
    {
     "name": "stderr",
     "output_type": "stream",
     "text": [
      "INFO:***** Running Evaluation *****\n",
      "INFO:  Num examples = 2970\n",
      "INFO:  Batch size = 32\n"
     ]
    },
    {
     "name": "stdout",
     "output_type": "stream",
     "text": [
      "\n",
      "\n",
      "\u001b[32;1m<s>\u001b[0m\u001b[32;1mA\u001b[0m\u001b[32;1m prospective\u001b[0m\u001b[32;1m study\u001b[0m\u001b[32;1m of\u001b[0m\u001b[31;1m hip[shoulder]\u001b[0m\u001b[32;1m pain\u001b[0m\u001b[32;1m in\u001b[0m\u001b[32;1m primary\u001b[0m\u001b[32;1m care\u001b[0m\u001b[32;1m:\u001b[0m\u001b[32;1m Pre\u001b[0m\u001b[32;1mval\u001b[0m\u001b[32;1mence\u001b[0m\u001b[32;1m of\u001b[0m\u001b[31;1m cur[im]\u001b[0m\u001b[31;1mmediate[aged]\u001b[0m\u001b[32;1m pathology\u001b[0m\u001b[32;1m and\u001b[0m\u001b[32;1m response\u001b[0m\u001b[32;1m to\u001b[0m\u001b[31;1m automated[guided]\u001b[0m\u001b[32;1m diagnostic\u001b[0m\u001b[31;1m ass[blocks]\u001b[0m\u001b[32;1m</s>\u001b[0m\n",
      "\n",
      "\n"
     ]
    },
    {
     "name": "stderr",
     "output_type": "stream",
     "text": [
      "Saving model checkpoint to /lm_models/checkpoint-12500\n",
      "Trainer.model is not a `PreTrainedModel`, only saving its state dict.\n",
      "Deleting older checkpoint [/lm_models/checkpoint-10000] due to args.save_total_limit\n",
      "/opt/conda/lib/python3.8/site-packages/torch/nn/parallel/_functions.py:68: UserWarning: Was asked to gather along dimension 0, but all input tensors were scalars; will instead unsqueeze and return a vector.\n",
      "  warnings.warn('Was asked to gather along dimension 0, but all '\n",
      "INFO:***** Running Evaluation *****\n",
      "INFO:  Num examples = 2970\n",
      "INFO:  Batch size = 32\n"
     ]
    },
    {
     "name": "stdout",
     "output_type": "stream",
     "text": [
      "\n",
      "\n",
      "\u001b[32;1m<s>\u001b[0m\u001b[32;1mA\u001b[0m\u001b[32;1m prospective\u001b[0m\u001b[32;1m study\u001b[0m\u001b[32;1m of\u001b[0m\u001b[31;1m hip[shoulder]\u001b[0m\u001b[32;1m pain\u001b[0m\u001b[32;1m in\u001b[0m\u001b[32;1m primary\u001b[0m\u001b[32;1m care\u001b[0m\u001b[32;1m:\u001b[0m\u001b[32;1m Pre\u001b[0m\u001b[32;1mval\u001b[0m\u001b[32;1mence\u001b[0m\u001b[32;1m of\u001b[0m\u001b[32;1m im\u001b[0m\u001b[31;1mmediate[aged]\u001b[0m\u001b[32;1m pathology\u001b[0m\u001b[32;1m and\u001b[0m\u001b[32;1m response\u001b[0m\u001b[32;1m to\u001b[0m\u001b[31;1m automated[guided]\u001b[0m\u001b[32;1m diagnostic\u001b[0m\u001b[31;1m ass[blocks]\u001b[0m\u001b[32;1m</s>\u001b[0m\n",
      "\n",
      "\n"
     ]
    },
    {
     "name": "stderr",
     "output_type": "stream",
     "text": [
      "INFO:***** Running Evaluation *****\n",
      "INFO:  Num examples = 2970\n",
      "INFO:  Batch size = 32\n"
     ]
    },
    {
     "name": "stdout",
     "output_type": "stream",
     "text": [
      "\n",
      "\n",
      "\u001b[32;1m<s>\u001b[0m\u001b[32;1mS\u001b[0m\u001b[31;1mor[int]\u001b[0m\u001b[31;1mam[il]\u001b[0m\u001b[31;1miz[im]\u001b[0m\u001b[32;1mab\u001b[0m\u001b[32;1m,\u001b[0m\u001b[32;1m a\u001b[0m\u001b[32;1m PD\u001b[0m\u001b[32;1m-\u001b[0m\u001b[32;1m1\u001b[0m\u001b[32;1m In\u001b[0m\u001b[32;1mhib\u001b[0m\u001b[32;1mitor\u001b[0m\u001b[32;1m,\u001b[0m\u001b[31;1m Modified[Complete]\u001b[0m\u001b[32;1mly\u001b[0m\u001b[32;1m Re\u001b[0m\u001b[31;1mlevant[vers]\u001b[0m\u001b[32;1med\u001b[0m\u001b[32;1m Rare\u001b[0m\u001b[32;1mly\u001b[0m\u001b[32;1m Ref\u001b[0m\u001b[32;1mract\u001b[0m\u001b[32;1mory\u001b[0m\u001b[32;1m Hyp\u001b[0m\u001b[31;1mog[of]\u001b[0m\u001b[31;1mib[ibr]\u001b[0m\u001b[31;1mill[in]\u001b[0m\u001b[31;1mopathy[ogen]\u001b[0m\u001b[31;1m Therapy[emia]\u001b[0m\u001b[32;1m in\u001b[0m\u001b[32;1m a\u001b[0m\u001b[31;1m Lung[Gast]\u001b[0m\u001b[32;1mric\u001b[0m\u001b[32;1m Cancer\u001b[0m\u001b[32;1m Patient\u001b[0m\u001b[32;1m:\u001b[0m\u001b[32;1m A\u001b[0m\u001b[32;1m Case\u001b[0m\u001b[32;1m Report\u001b[0m\u001b[32;1m and\u001b[0m\u001b[32;1m Review\u001b[0m\u001b[32;1m of\u001b[0m\u001b[32;1m the\u001b[0m\u001b[32;1m Literature\u001b[0m\u001b[32;1m</s>\u001b[0m\n",
      "\n",
      "\n"
     ]
    },
    {
     "name": "stderr",
     "output_type": "stream",
     "text": [
      "INFO:***** Running Evaluation *****\n",
      "INFO:  Num examples = 2970\n",
      "INFO:  Batch size = 32\n"
     ]
    },
    {
     "name": "stdout",
     "output_type": "stream",
     "text": [
      "\n",
      "\n",
      "\u001b[32;1m<s>\u001b[0m\u001b[32;1mCl\u001b[0m\u001b[32;1minical\u001b[0m\u001b[32;1m practice\u001b[0m\u001b[32;1m guidelines\u001b[0m\u001b[32;1m for\u001b[0m\u001b[32;1m the\u001b[0m\u001b[32;1m surgical\u001b[0m\u001b[32;1m management\u001b[0m\u001b[32;1m of\u001b[0m\u001b[32;1m colon\u001b[0m\u001b[32;1m cancer\u001b[0m\u001b[32;1m:\u001b[0m\u001b[32;1m a\u001b[0m\u001b[32;1m consensus\u001b[0m\u001b[32;1m statement\u001b[0m\u001b[32;1m of\u001b[0m\u001b[32;1m the\u001b[0m\u001b[31;1m Mor[Hell]\u001b[0m\u001b[31;1magic[enic]\u001b[0m\u001b[32;1m and\u001b[0m\u001b[32;1m Cy\u001b[0m\u001b[31;1mstic[pri]\u001b[0m\u001b[32;1mot\u001b[0m\u001b[32;1m Col\u001b[0m\u001b[32;1more\u001b[0m\u001b[32;1mct\u001b[0m\u001b[32;1mal\u001b[0m\u001b[32;1m Cancer\u001b[0m\u001b[31;1m Group[Study]\u001b[0m\u001b[32;1m Group\u001b[0m\u001b[32;1m by\u001b[0m\u001b[32;1m the\u001b[0m\u001b[31;1m I[He]\u001b[0m\u001b[32;1mS\u001b[0m\u001b[31;1mS[MO]\u001b[0m\u001b[31;1ms[*]\u001b[0m\u001b[32;1m</s>\u001b[0m\n",
      "\n",
      "\n"
     ]
    },
    {
     "name": "stderr",
     "output_type": "stream",
     "text": [
      "INFO:***** Running Evaluation *****\n",
      "INFO:  Num examples = 2970\n",
      "INFO:  Batch size = 32\n"
     ]
    },
    {
     "name": "stdout",
     "output_type": "stream",
     "text": [
      "\n",
      "\n",
      "\u001b[32;1m<s>\u001b[0m\u001b[31;1mAb[Me]\u001b[0m\u001b[32;1miotic\u001b[0m\u001b[31;1m features[analyses]\u001b[0m\u001b[31;1m reveal[show]\u001b[0m\u001b[31;1m protection[adaptations]\u001b[0m\u001b[32;1m to\u001b[0m\u001b[32;1m maintenance\u001b[0m\u001b[32;1m of\u001b[0m\u001b[32;1m fertility\u001b[0m\u001b[32;1m in\u001b[0m\u001b[32;1m X\u001b[0m\u001b[31;1mB[1]\u001b[0m\u001b[31;1mS[Y]\u001b[0m\u001b[31;1mX[1]\u001b[0m\u001b[32;1mX\u001b[0m\u001b[32;1m2\u001b[0m\u001b[31;1mX[Y]\u001b[0m\u001b[32;1m2\u001b[0m\u001b[32;1mX\u001b[0m\u001b[31;1m4[3]\u001b[0m\u001b[31;1mX[Y]\u001b[0m\u001b[32;1m3\u001b[0m\u001b[32;1mX\u001b[0m\u001b[32;1m4\u001b[0m\u001b[31;1mX[Y]\u001b[0m\u001b[32;1m4\u001b[0m\u001b[32;1mX\u001b[0m\u001b[31;1m7[5]\u001b[0m\u001b[31;1mB[Y]\u001b[0m\u001b[31;1m family[5]\u001b[0m\u001b[31;1m gene[system]\u001b[0m\u001b[32;1m of\u001b[0m\u001b[31;1m Ca[am]\u001b[0m\u001b[31;1myl[azon]\u001b[0m\u001b[31;1mia[frog]\u001b[0m\u001b[32;1m Le\u001b[0m\u001b[32;1mpt\u001b[0m\u001b[31;1mosp[od]\u001b[0m\u001b[31;1mys[act]\u001b[0m\u001b[32;1myl\u001b[0m\u001b[32;1mus\u001b[0m\u001b[31;1m pers[pent]\u001b[0m\u001b[31;1mog[ad]\u001b[0m\u001b[32;1mact\u001b[0m\u001b[32;1myl\u001b[0m\u001b[32;1mus\u001b[0m\u001b[32;1m (\u001b[0m\u001b[31;1mCole[La]\u001b[0m\u001b[31;1mev[ure]\u001b[0m\u001b[31;1mlla[nt]\u001b[0m\u001b[31;1mis[i]\u001b[0m\u001b[31;1maceae[,]\u001b[0m\u001b[31;1m J[17]\u001b[0m\u001b[31;1m58[68]\u001b[0m\u001b[32;1m)\u001b[0m\u001b[32;1m</s>\u001b[0m\n",
      "\n",
      "\n"
     ]
    },
    {
     "name": "stderr",
     "output_type": "stream",
     "text": [
      "INFO:***** Running Evaluation *****\n",
      "INFO:  Num examples = 2970\n",
      "INFO:  Batch size = 32\n"
     ]
    },
    {
     "name": "stdout",
     "output_type": "stream",
     "text": [
      "\n",
      "\n",
      "\u001b[32;1m<s>\u001b[0m\u001b[32;1mDet\u001b[0m\u001b[32;1mection\u001b[0m\u001b[32;1m of\u001b[0m\u001b[32;1m a\u001b[0m\u001b[32;1m CT\u001b[0m\u001b[32;1mX\u001b[0m\u001b[32;1m-\u001b[0m\u001b[31;1mB[M]\u001b[0m\u001b[32;1m group\u001b[0m\u001b[32;1m 2\u001b[0m\u001b[31;1m gly[beta]\u001b[0m\u001b[32;1m-\u001b[0m\u001b[32;1ml\u001b[0m\u001b[32;1mact\u001b[0m\u001b[32;1mam\u001b[0m\u001b[32;1mase\u001b[0m\u001b[32;1m gene\u001b[0m\u001b[32;1m in\u001b[0m\u001b[32;1m a\u001b[0m\u001b[32;1m Kle\u001b[0m\u001b[32;1mbs\u001b[0m\u001b[32;1mie\u001b[0m\u001b[32;1mlla\u001b[0m\u001b[32;1m pneumonia\u001b[0m\u001b[32;1me\u001b[0m\u001b[31;1m strain[isolate]\u001b[0m\u001b[32;1m from\u001b[0m\u001b[32;1m a\u001b[0m\u001b[32;1m tert\u001b[0m\u001b[32;1miary\u001b[0m\u001b[32;1m care\u001b[0m\u001b[32;1m hospital\u001b[0m\u001b[32;1m,\u001b[0m\u001b[31;1m Northwest[Trinidad]\u001b[0m\u001b[32;1m and\u001b[0m\u001b[31;1m Moz[Tob]\u001b[0m\u001b[31;1ma[ago]\u001b[0m\u001b[32;1m</s>\u001b[0m\n",
      "\n",
      "\n"
     ]
    },
    {
     "name": "stderr",
     "output_type": "stream",
     "text": [
      "Saving model checkpoint to /lm_models/checkpoint-13000\n",
      "Trainer.model is not a `PreTrainedModel`, only saving its state dict.\n",
      "Deleting older checkpoint [/lm_models/checkpoint-10500] due to args.save_total_limit\n",
      "/opt/conda/lib/python3.8/site-packages/torch/nn/parallel/_functions.py:68: UserWarning: Was asked to gather along dimension 0, but all input tensors were scalars; will instead unsqueeze and return a vector.\n",
      "  warnings.warn('Was asked to gather along dimension 0, but all '\n",
      "INFO:***** Running Evaluation *****\n",
      "INFO:  Num examples = 2970\n",
      "INFO:  Batch size = 32\n"
     ]
    },
    {
     "name": "stdout",
     "output_type": "stream",
     "text": [
      "\n",
      "\n",
      "\u001b[32;1m<s>\u001b[0m\u001b[32;1mCl\u001b[0m\u001b[32;1minical\u001b[0m\u001b[32;1m practice\u001b[0m\u001b[32;1m guidelines\u001b[0m\u001b[32;1m for\u001b[0m\u001b[32;1m the\u001b[0m\u001b[32;1m surgical\u001b[0m\u001b[32;1m management\u001b[0m\u001b[32;1m of\u001b[0m\u001b[31;1m cervical[colon]\u001b[0m\u001b[32;1m cancer\u001b[0m\u001b[32;1m:\u001b[0m\u001b[32;1m a\u001b[0m\u001b[32;1m consensus\u001b[0m\u001b[32;1m statement\u001b[0m\u001b[32;1m of\u001b[0m\u001b[32;1m the\u001b[0m\u001b[31;1m Wol[Hell]\u001b[0m\u001b[31;1magic[enic]\u001b[0m\u001b[32;1m and\u001b[0m\u001b[32;1m Cy\u001b[0m\u001b[31;1mstic[pri]\u001b[0m\u001b[32;1mot\u001b[0m\u001b[32;1m Col\u001b[0m\u001b[32;1more\u001b[0m\u001b[32;1mct\u001b[0m\u001b[32;1mal\u001b[0m\u001b[32;1m Cancer\u001b[0m\u001b[32;1m Study\u001b[0m\u001b[32;1m Group\u001b[0m\u001b[31;1m of[by]\u001b[0m\u001b[32;1m the\u001b[0m\u001b[31;1m S[He]\u001b[0m\u001b[32;1mS\u001b[0m\u001b[31;1mES[MO]\u001b[0m\u001b[31;1ms[*]\u001b[0m\u001b[32;1m</s>\u001b[0m\n",
      "\n",
      "\n"
     ]
    },
    {
     "name": "stderr",
     "output_type": "stream",
     "text": [
      "INFO:***** Running Evaluation *****\n",
      "INFO:  Num examples = 2970\n",
      "INFO:  Batch size = 32\n"
     ]
    },
    {
     "name": "stdout",
     "output_type": "stream",
     "text": [
      "\n",
      "\n",
      "\u001b[32;1m<s>\u001b[0m\u001b[32;1mMe\u001b[0m\u001b[32;1miotic\u001b[0m\u001b[31;1m features[analyses]\u001b[0m\u001b[31;1m reveal[show]\u001b[0m\u001b[31;1m beneficial[adaptations]\u001b[0m\u001b[32;1m to\u001b[0m\u001b[32;1m maintenance\u001b[0m\u001b[32;1m of\u001b[0m\u001b[32;1m fertility\u001b[0m\u001b[32;1m in\u001b[0m\u001b[32;1m X\u001b[0m\u001b[32;1m1\u001b[0m\u001b[32;1mY\u001b[0m\u001b[32;1m1\u001b[0m\u001b[32;1mX\u001b[0m\u001b[32;1m2\u001b[0m\u001b[31;1mX[Y]\u001b[0m\u001b[31;1m4[2]\u001b[0m\u001b[32;1mX\u001b[0m\u001b[31;1m4[3]\u001b[0m\u001b[31;1mX[Y]\u001b[0m\u001b[32;1m3\u001b[0m\u001b[32;1mX\u001b[0m\u001b[32;1m4\u001b[0m\u001b[31;1mX[Y]\u001b[0m\u001b[32;1m4\u001b[0m\u001b[32;1mX\u001b[0m\u001b[31;1m7[5]\u001b[0m\u001b[32;1mY\u001b[0m\u001b[31;1m7[5]\u001b[0m\u001b[31;1m gene[system]\u001b[0m\u001b[32;1m of\u001b[0m\u001b[31;1m Ap[am]\u001b[0m\u001b[31;1myl[azon]\u001b[0m\u001b[31;1mif[frog]\u001b[0m\u001b[31;1m Ap[Le]\u001b[0m\u001b[32;1mpt\u001b[0m\u001b[31;1mosp[od]\u001b[0m\u001b[32;1mact\u001b[0m\u001b[32;1myl\u001b[0m\u001b[31;1mch[us]\u001b[0m\u001b[31;1m j[pent]\u001b[0m\u001b[31;1mog[ad]\u001b[0m\u001b[32;1mact\u001b[0m\u001b[32;1myl\u001b[0m\u001b[32;1mus\u001b[0m\u001b[32;1m (\u001b[0m\u001b[31;1mJ[La]\u001b[0m\u001b[31;1mV[ure]\u001b[0m\u001b[31;1mlla[nt]\u001b[0m\u001b[31;1mis[i]\u001b[0m\u001b[31;1maceae[,]\u001b[0m\u001b[31;1m 18[17]\u001b[0m\u001b[31;1m69[68]\u001b[0m\u001b[32;1m)\u001b[0m\u001b[32;1m</s>\u001b[0m\n",
      "\n",
      "\n"
     ]
    },
    {
     "name": "stderr",
     "output_type": "stream",
     "text": [
      "INFO:***** Running Evaluation *****\n",
      "INFO:  Num examples = 2970\n",
      "INFO:  Batch size = 32\n"
     ]
    },
    {
     "name": "stdout",
     "output_type": "stream",
     "text": [
      "\n",
      "\n",
      "\u001b[32;1m<s>\u001b[0m\u001b[32;1mTarget\u001b[0m\u001b[32;1m-\u001b[0m\u001b[31;1mlevel[similar]\u001b[0m\u001b[32;1mity\u001b[0m\u001b[31;1m mapping[search]\u001b[0m\u001b[32;1m using\u001b[0m\u001b[32;1m Pl\u001b[0m\u001b[32;1mas\u001b[0m\u001b[32;1mmod\u001b[0m\u001b[32;1mium\u001b[0m\u001b[32;1m fal\u001b[0m\u001b[32;1mc\u001b[0m\u001b[32;1mip\u001b[0m\u001b[32;1mar\u001b[0m\u001b[32;1mum\u001b[0m\u001b[32;1m prote\u001b[0m\u001b[31;1mase[ome]\u001b[0m\u001b[32;1m identifies\u001b[0m\u001b[31;1m vaccines[approved]\u001b[0m\u001b[32;1m drugs\u001b[0m\u001b[32;1m with\u001b[0m\u001b[32;1m anti\u001b[0m\u001b[32;1m-\u001b[0m\u001b[32;1mmal\u001b[0m\u001b[32;1marial\u001b[0m\u001b[32;1m activity\u001b[0m\u001b[32;1m and\u001b[0m\u001b[32;1m their\u001b[0m\u001b[32;1m possible\u001b[0m\u001b[32;1m targets\u001b[0m\u001b[32;1m</s>\u001b[0m\n",
      "\n",
      "\n"
     ]
    },
    {
     "name": "stderr",
     "output_type": "stream",
     "text": [
      "INFO:***** Running Evaluation *****\n",
      "INFO:  Num examples = 2970\n",
      "INFO:  Batch size = 32\n"
     ]
    },
    {
     "name": "stdout",
     "output_type": "stream",
     "text": [
      "\n",
      "\n",
      "\u001b[32;1m<s>\u001b[0m\u001b[32;1mCl\u001b[0m\u001b[32;1minical\u001b[0m\u001b[32;1m practice\u001b[0m\u001b[32;1m guidelines\u001b[0m\u001b[32;1m for\u001b[0m\u001b[32;1m the\u001b[0m\u001b[32;1m surgical\u001b[0m\u001b[32;1m management\u001b[0m\u001b[32;1m of\u001b[0m\u001b[32;1m colon\u001b[0m\u001b[32;1m cancer\u001b[0m\u001b[32;1m:\u001b[0m\u001b[32;1m a\u001b[0m\u001b[32;1m consensus\u001b[0m\u001b[32;1m statement\u001b[0m\u001b[32;1m of\u001b[0m\u001b[32;1m the\u001b[0m\u001b[31;1m Feb[Hell]\u001b[0m\u001b[31;1moph[enic]\u001b[0m\u001b[32;1m and\u001b[0m\u001b[32;1m Cy\u001b[0m\u001b[31;1mtop[pri]\u001b[0m\u001b[32;1mot\u001b[0m\u001b[32;1m Col\u001b[0m\u001b[32;1more\u001b[0m\u001b[32;1mct\u001b[0m\u001b[32;1mal\u001b[0m\u001b[32;1m Cancer\u001b[0m\u001b[31;1m Group[Study]\u001b[0m\u001b[32;1m Group\u001b[0m\u001b[32;1m by\u001b[0m\u001b[32;1m the\u001b[0m\u001b[31;1m I[He]\u001b[0m\u001b[31;1mLa[S]\u001b[0m\u001b[31;1mES[MO]\u001b[0m\u001b[32;1m*\u001b[0m\u001b[32;1m</s>\u001b[0m\n",
      "\n",
      "\n"
     ]
    },
    {
     "name": "stderr",
     "output_type": "stream",
     "text": [
      "INFO:***** Running Evaluation *****\n",
      "INFO:  Num examples = 2970\n",
      "INFO:  Batch size = 32\n"
     ]
    },
    {
     "name": "stdout",
     "output_type": "stream",
     "text": [
      "\n",
      "\n",
      "\u001b[32;1m<s>\u001b[0m\u001b[32;1mTarget\u001b[0m\u001b[32;1m-\u001b[0m\u001b[31;1mlevel[similar]\u001b[0m\u001b[32;1mity\u001b[0m\u001b[31;1m modelling[search]\u001b[0m\u001b[32;1m using\u001b[0m\u001b[32;1m Pl\u001b[0m\u001b[32;1mas\u001b[0m\u001b[32;1mmod\u001b[0m\u001b[32;1mium\u001b[0m\u001b[32;1m fal\u001b[0m\u001b[32;1mc\u001b[0m\u001b[32;1mip\u001b[0m\u001b[32;1mar\u001b[0m\u001b[32;1mum\u001b[0m\u001b[32;1m prote\u001b[0m\u001b[31;1mase[ome]\u001b[0m\u001b[32;1m identifies\u001b[0m\u001b[31;1m candidate[approved]\u001b[0m\u001b[32;1m drugs\u001b[0m\u001b[32;1m with\u001b[0m\u001b[32;1m anti\u001b[0m\u001b[32;1m-\u001b[0m\u001b[32;1mmal\u001b[0m\u001b[32;1marial\u001b[0m\u001b[32;1m activity\u001b[0m\u001b[32;1m and\u001b[0m\u001b[32;1m their\u001b[0m\u001b[32;1m possible\u001b[0m\u001b[32;1m targets\u001b[0m\u001b[32;1m</s>\u001b[0m\n",
      "\n",
      "\n"
     ]
    },
    {
     "name": "stderr",
     "output_type": "stream",
     "text": [
      "Saving model checkpoint to /lm_models/checkpoint-13500\n",
      "Trainer.model is not a `PreTrainedModel`, only saving its state dict.\n",
      "Deleting older checkpoint [/lm_models/checkpoint-11000] due to args.save_total_limit\n",
      "/opt/conda/lib/python3.8/site-packages/torch/nn/parallel/_functions.py:68: UserWarning: Was asked to gather along dimension 0, but all input tensors were scalars; will instead unsqueeze and return a vector.\n",
      "  warnings.warn('Was asked to gather along dimension 0, but all '\n",
      "INFO:***** Running Evaluation *****\n",
      "INFO:  Num examples = 2970\n",
      "INFO:  Batch size = 32\n"
     ]
    },
    {
     "name": "stdout",
     "output_type": "stream",
     "text": [
      "\n",
      "\n",
      "\u001b[32;1m<s>\u001b[0m\u001b[31;1mPhase[Mark]\u001b[0m\u001b[32;1mers\u001b[0m\u001b[32;1m of\u001b[0m\u001b[32;1m type\u001b[0m\u001b[32;1m I\u001b[0m\u001b[32;1m collagen\u001b[0m\u001b[32;1m degradation\u001b[0m\u001b[32;1m and\u001b[0m\u001b[32;1m synthesis\u001b[0m\u001b[32;1m in\u001b[0m\u001b[32;1m the\u001b[0m\u001b[32;1m monitoring\u001b[0m\u001b[32;1m of\u001b[0m\u001b[32;1m treatment\u001b[0m\u001b[32;1m response\u001b[0m\u001b[32;1m in\u001b[0m\u001b[32;1m bone\u001b[0m\u001b[32;1m metast\u001b[0m\u001b[32;1mases\u001b[0m\u001b[32;1m from\u001b[0m\u001b[32;1m breast\u001b[0m\u001b[32;1m carcin\u001b[0m\u001b[32;1moma\u001b[0m\u001b[32;1m.\u001b[0m\u001b[32;1m</s>\u001b[0m\n",
      "\n",
      "\n"
     ]
    },
    {
     "name": "stderr",
     "output_type": "stream",
     "text": [
      "INFO:***** Running Evaluation *****\n",
      "INFO:  Num examples = 2970\n",
      "INFO:  Batch size = 32\n"
     ]
    },
    {
     "name": "stdout",
     "output_type": "stream",
     "text": [
      "\n",
      "\n",
      "\u001b[32;1m<s>\u001b[0m\u001b[32;1mEnd\u001b[0m\u001b[31;1mocrine[ogenous]\u001b[0m\u001b[32;1m insulin\u001b[0m\u001b[31;1m deficiency[secretion]\u001b[0m\u001b[31;1m is[even]\u001b[0m\u001b[32;1m at\u001b[0m\u001b[32;1m a\u001b[0m\u001b[31;1m low[very]\u001b[0m\u001b[32;1m low\u001b[0m\u001b[32;1m level\u001b[0m\u001b[32;1m contributes\u001b[0m\u001b[32;1m to\u001b[0m\u001b[32;1m the\u001b[0m\u001b[32;1m stability\u001b[0m\u001b[32;1m of\u001b[0m\u001b[32;1m blood\u001b[0m\u001b[32;1m glucose\u001b[0m\u001b[32;1m control\u001b[0m\u001b[32;1m in\u001b[0m\u001b[31;1m inh[ful]\u001b[0m\u001b[32;1mmin\u001b[0m\u001b[32;1mant\u001b[0m\u001b[32;1m type\u001b[0m\u001b[32;1m 1\u001b[0m\u001b[32;1m diabetes\u001b[0m\u001b[32;1m</s>\u001b[0m\n",
      "\n",
      "\n"
     ]
    },
    {
     "name": "stderr",
     "output_type": "stream",
     "text": [
      "INFO:***** Running Evaluation *****\n",
      "INFO:  Num examples = 2970\n",
      "INFO:  Batch size = 32\n"
     ]
    },
    {
     "name": "stdout",
     "output_type": "stream",
     "text": [
      "\n",
      "\n",
      "\u001b[32;1m<s>\u001b[0m\u001b[32;1mPre\u001b[0m\u001b[32;1mval\u001b[0m\u001b[32;1mence\u001b[0m\u001b[32;1m of\u001b[0m\u001b[32;1m hypertension\u001b[0m\u001b[32;1m and\u001b[0m\u001b[32;1m pre\u001b[0m\u001b[32;1mhy\u001b[0m\u001b[32;1mpert\u001b[0m\u001b[32;1mension\u001b[0m\u001b[32;1m among\u001b[0m\u001b[32;1m children\u001b[0m\u001b[32;1m and\u001b[0m\u001b[32;1m adolescents\u001b[0m\u001b[32;1m in\u001b[0m\u001b[32;1m a\u001b[0m\u001b[32;1m semi\u001b[0m\u001b[32;1m-\u001b[0m\u001b[32;1murban\u001b[0m\u001b[32;1m area\u001b[0m\u001b[32;1m of\u001b[0m\u001b[32;1m U\u001b[0m\u001b[31;1mHP[yo]\u001b[0m\u001b[32;1m Met\u001b[0m\u001b[31;1mabolic[ropolis]\u001b[0m\u001b[32;1m,\u001b[0m\u001b[32;1m Nigeria\u001b[0m\u001b[32;1m</s>\u001b[0m\n",
      "\n",
      "\n"
     ]
    },
    {
     "name": "stderr",
     "output_type": "stream",
     "text": [
      "INFO:***** Running Evaluation *****\n",
      "INFO:  Num examples = 2970\n",
      "INFO:  Batch size = 32\n"
     ]
    },
    {
     "name": "stdout",
     "output_type": "stream",
     "text": [
      "\n",
      "\n",
      "\u001b[32;1m<s>\u001b[0m\u001b[32;1mCorrection\u001b[0m\u001b[32;1m to\u001b[0m\u001b[32;1m �\u001b[0m\u001b[32;1m�\u001b[0m\u001b[31;1mLin[Sw]\u001b[0m\u001b[32;1mitching\u001b[0m\u001b[32;1m from\u001b[0m\u001b[31;1m Electronic[Controlled]\u001b[0m\u001b[31;1m Laser[Ring]\u001b[0m\u001b[32;1m-\u001b[0m\u001b[31;1mFree[Opening]\u001b[0m\u001b[32;1m Poly\u001b[0m\u001b[32;1mmer\u001b[0m\u001b[32;1mization\u001b[0m\u001b[32;1m (\u001b[0m\u001b[32;1mc\u001b[0m\u001b[32;1mR\u001b[0m\u001b[31;1mIF[OP]\u001b[0m\u001b[32;1m)\u001b[0m\u001b[32;1m to\u001b[0m\u001b[31;1m Solid[Controlled]\u001b[0m\u001b[31;1m X[Ring]\u001b[0m\u001b[32;1m-\u001b[0m\u001b[31;1mCont[Cl]\u001b[0m\u001b[31;1mosed[osing]\u001b[0m\u001b[31;1m Re[Dep]\u001b[0m\u001b[31;1mos[oly]\u001b[0m\u001b[32;1mmer\u001b[0m\u001b[32;1mization\u001b[0m\u001b[32;1m (\u001b[0m\u001b[31;1mT[c]\u001b[0m\u001b[31;1mIM[RC]\u001b[0m\u001b[31;1mF[DP]\u001b[0m\u001b[32;1m)\u001b[0m\u001b[32;1m by\u001b[0m\u001b[31;1m the[Adjust]\u001b[0m\u001b[32;1ming\u001b[0m\u001b[32;1m the\u001b[0m\u001b[31;1m Plasma[Reaction]\u001b[0m\u001b[31;1m Properties[Parameters]\u001b[0m\u001b[32;1m That\u001b[0m\u001b[32;1m Deter\u001b[0m\u001b[32;1mmine\u001b[0m\u001b[32;1m the\u001b[0m\u001b[31;1m Prop[Ce]\u001b[0m\u001b[31;1mft[iling]\u001b[0m\u001b[31;1m Efficiency[Temperature]\u001b[0m\u001b[32;1m�\u001b[0m\u001b[32;1m�\u001b[0m\u001b[32;1m</s>\u001b[0m\n",
      "\n",
      "\n"
     ]
    },
    {
     "name": "stderr",
     "output_type": "stream",
     "text": [
      "INFO:***** Running Evaluation *****\n",
      "INFO:  Num examples = 2970\n",
      "INFO:  Batch size = 32\n"
     ]
    },
    {
     "name": "stdout",
     "output_type": "stream",
     "text": [
      "\n",
      "\n",
      "\u001b[32;1m<s>\u001b[0m\u001b[32;1mN\u001b[0m\u001b[32;1mano\u001b[0m\u001b[32;1m-\u001b[0m\u001b[32;1mP\u001b[0m\u001b[32;1mulse\u001b[0m\u001b[32;1m Stim\u001b[0m\u001b[32;1mulation\u001b[0m\u001b[32;1m Ab\u001b[0m\u001b[31;1mrog[l]\u001b[0m\u001b[32;1mates\u001b[0m\u001b[32;1m Orth\u001b[0m\u001b[32;1mot\u001b[0m\u001b[32;1mopic\u001b[0m\u001b[32;1m Rat\u001b[0m\u001b[32;1m Hep\u001b[0m\u001b[32;1mato\u001b[0m\u001b[32;1mcell\u001b[0m\u001b[32;1mular\u001b[0m\u001b[32;1m Car\u001b[0m\u001b[32;1mcin\u001b[0m\u001b[32;1moma\u001b[0m\u001b[32;1m and\u001b[0m\u001b[32;1m Ind\u001b[0m\u001b[32;1muces\u001b[0m\u001b[31;1m Agg[Inn]\u001b[0m\u001b[32;1mate\u001b[0m\u001b[32;1m and\u001b[0m\u001b[32;1m Adapt\u001b[0m\u001b[32;1mive\u001b[0m\u001b[32;1m Memory\u001b[0m\u001b[31;1m Respons[Imm]\u001b[0m\u001b[32;1mune\u001b[0m\u001b[31;1m Respons[Mechan]\u001b[0m\u001b[32;1misms\u001b[0m\u001b[31;1m That[that]\u001b[0m\u001b[31;1m Prom[Prevent]\u001b[0m\u001b[32;1m Rec\u001b[0m\u001b[32;1murrence\u001b[0m\u001b[32;1m</s>\u001b[0m\n",
      "\n",
      "\n"
     ]
    },
    {
     "name": "stderr",
     "output_type": "stream",
     "text": [
      "Saving model checkpoint to /lm_models/checkpoint-14000\n",
      "Trainer.model is not a `PreTrainedModel`, only saving its state dict.\n",
      "Deleting older checkpoint [/lm_models/checkpoint-11500] due to args.save_total_limit\n",
      "/opt/conda/lib/python3.8/site-packages/torch/nn/parallel/_functions.py:68: UserWarning: Was asked to gather along dimension 0, but all input tensors were scalars; will instead unsqueeze and return a vector.\n",
      "  warnings.warn('Was asked to gather along dimension 0, but all '\n",
      "INFO:***** Running Evaluation *****\n",
      "INFO:  Num examples = 2970\n",
      "INFO:  Batch size = 32\n"
     ]
    },
    {
     "name": "stdout",
     "output_type": "stream",
     "text": [
      "\n",
      "\n",
      "\u001b[32;1m<s>\u001b[0m\u001b[32;1mCase\u001b[0m\u001b[32;1m of\u001b[0m\u001b[32;1m En\u001b[0m\u001b[32;1mlarg\u001b[0m\u001b[32;1mement\u001b[0m\u001b[32;1m of\u001b[0m\u001b[32;1m the\u001b[0m\u001b[32;1m Heart\u001b[0m\u001b[32;1m,\u001b[0m\u001b[32;1m with\u001b[0m\u001b[32;1m Poly\u001b[0m\u001b[31;1m([pi]\u001b[0m\u001b[32;1m,\u001b[0m\u001b[32;1m &\u001b[0m\u001b[32;1mc\u001b[0m\u001b[32;1m.\u001b[0m\u001b[31;1m Associated[Which]\u001b[0m\u001b[32;1m Occ\u001b[0m\u001b[32;1murred\u001b[0m\u001b[32;1m on\u001b[0m\u001b[31;1m the[Board]\u001b[0m\u001b[32;1m the\u001b[0m\u001b[31;1m Eastern[Honour]\u001b[0m\u001b[31;1mary[able]\u001b[0m\u001b[32;1m East\u001b[0m\u001b[32;1m India\u001b[0m\u001b[31;1m Project[Company]\u001b[0m\u001b[32;1m's\u001b[0m\u001b[31;1m Wood[Ship]\u001b[0m\u001b[31;1mling[Carn]\u001b[0m\u001b[31;1miv[atic]\u001b[0m\u001b[32;1m</s>\u001b[0m\n",
      "\n",
      "\n"
     ]
    },
    {
     "name": "stderr",
     "output_type": "stream",
     "text": [
      "INFO:***** Running Evaluation *****\n",
      "INFO:  Num examples = 2970\n",
      "INFO:  Batch size = 32\n"
     ]
    },
    {
     "name": "stdout",
     "output_type": "stream",
     "text": [
      "\n",
      "\n",
      "\u001b[32;1m<s>\u001b[0m\u001b[31;1mLetter[805]\u001b[0m\u001b[32;1m.\u001b[0m\u001b[32;1m Am\u001b[0m\u001b[31;1mel[ik]\u001b[0m\u001b[32;1mac\u001b[0m\u001b[32;1min\u001b[0m\u001b[32;1m Lip\u001b[0m\u001b[32;1mos\u001b[0m\u001b[32;1mome\u001b[0m\u001b[32;1m In\u001b[0m\u001b[32;1mhal\u001b[0m\u001b[32;1mation\u001b[0m\u001b[31;1m Grad[Susp]\u001b[0m\u001b[32;1mension\u001b[0m\u001b[32;1m (\u001b[0m\u001b[31;1mQ[AL]\u001b[0m\u001b[31;1mDI[IS]\u001b[0m\u001b[32;1m)\u001b[0m\u001b[32;1m Add\u001b[0m\u001b[32;1m-\u001b[0m\u001b[32;1mon\u001b[0m\u001b[32;1m Therapy\u001b[0m\u001b[32;1m for\u001b[0m\u001b[31;1m Compl[Ref]\u001b[0m\u001b[32;1mract\u001b[0m\u001b[32;1mory\u001b[0m\u001b[32;1m My\u001b[0m\u001b[32;1mc\u001b[0m\u001b[32;1mob\u001b[0m\u001b[32;1macter\u001b[0m\u001b[32;1mium\u001b[0m\u001b[32;1m av\u001b[0m\u001b[32;1mium\u001b[0m\u001b[32;1m Complex\u001b[0m\u001b[32;1m (\u001b[0m\u001b[31;1mCD[MAC]\u001b[0m\u001b[31;1mA[)]\u001b[0m\u001b[31;1m Infect[Lung]\u001b[0m\u001b[31;1m Is[Disease]\u001b[0m\u001b[32;1m:\u001b[0m\u001b[32;1m Effect\u001b[0m\u001b[32;1m of\u001b[0m\u001b[32;1m In\u001b[0m\u001b[32;1m Vit\u001b[0m\u001b[32;1mro\u001b[0m\u001b[31;1m Sep[Am]\u001b[0m\u001b[31;1mel[ik]\u001b[0m\u001b[32;1mac\u001b[0m\u001b[32;1min\u001b[0m\u001b[31;1m on[Sus]\u001b[0m\u001b[32;1mcept\u001b[0m\u001b[32;1mibility\u001b[0m\u001b[32;1m on\u001b[0m\u001b[31;1m Cat[Sp]\u001b[0m\u001b[31;1mhing[ut]\u001b[0m\u001b[32;1mum\u001b[0m\u001b[31;1m Trans[Culture]\u001b[0m\u001b[31;1m</s>[Conversion]\u001b[0m\u001b[32;1m</s>\u001b[0m\n",
      "\n",
      "\n"
     ]
    },
    {
     "name": "stderr",
     "output_type": "stream",
     "text": [
      "INFO:***** Running Evaluation *****\n",
      "INFO:  Num examples = 2970\n",
      "INFO:  Batch size = 32\n"
     ]
    },
    {
     "name": "stdout",
     "output_type": "stream",
     "text": [
      "\n",
      "\n",
      "\u001b[32;1m<s>\u001b[0m\u001b[32;1mA\u001b[0m\u001b[31;1m 6[60]\u001b[0m\u001b[31;1m%[Hz]\u001b[0m\u001b[31;1m fine[uniform]\u001b[0m\u001b[31;1m spatial[electromagnetic]\u001b[0m\u001b[32;1m field\u001b[0m\u001b[32;1m promotes\u001b[0m\u001b[32;1m human\u001b[0m\u001b[32;1m cell\u001b[0m\u001b[32;1m proliferation\u001b[0m\u001b[32;1m by\u001b[0m\u001b[31;1m inhib[decreasing]\u001b[0m\u001b[32;1m intr\u001b[0m\u001b[32;1mace\u001b[0m\u001b[32;1mllular\u001b[0m\u001b[32;1m reactive\u001b[0m\u001b[32;1m oxygen\u001b[0m\u001b[32;1m species\u001b[0m\u001b[32;1m levels\u001b[0m\u001b[32;1m</s>\u001b[0m\n",
      "\n",
      "\n"
     ]
    },
    {
     "name": "stderr",
     "output_type": "stream",
     "text": [
      "INFO:***** Running Evaluation *****\n",
      "INFO:  Num examples = 2970\n",
      "INFO:  Batch size = 32\n"
     ]
    },
    {
     "name": "stdout",
     "output_type": "stream",
     "text": [
      "\n",
      "\n",
      "\u001b[32;1m<s>\u001b[0m\u001b[32;1mN\u001b[0m\u001b[32;1mano\u001b[0m\u001b[32;1m-\u001b[0m\u001b[32;1mP\u001b[0m\u001b[32;1mulse\u001b[0m\u001b[32;1m Stim\u001b[0m\u001b[32;1mulation\u001b[0m\u001b[31;1m O[Ab]\u001b[0m\u001b[31;1mrog[l]\u001b[0m\u001b[32;1mates\u001b[0m\u001b[32;1m Orth\u001b[0m\u001b[32;1mot\u001b[0m\u001b[32;1mopic\u001b[0m\u001b[32;1m Rat\u001b[0m\u001b[32;1m Hep\u001b[0m\u001b[32;1mato\u001b[0m\u001b[32;1mcell\u001b[0m\u001b[32;1mular\u001b[0m\u001b[32;1m Car\u001b[0m\u001b[32;1mcin\u001b[0m\u001b[32;1moma\u001b[0m\u001b[32;1m and\u001b[0m\u001b[32;1m Ind\u001b[0m\u001b[32;1muces\u001b[0m\u001b[31;1m Secret[Inn]\u001b[0m\u001b[32;1mate\u001b[0m\u001b[32;1m and\u001b[0m\u001b[32;1m Adapt\u001b[0m\u001b[32;1mive\u001b[0m\u001b[32;1m Memory\u001b[0m\u001b[31;1m Respons[Imm]\u001b[0m\u001b[32;1mune\u001b[0m\u001b[31;1m Respons[Mechan]\u001b[0m\u001b[32;1misms\u001b[0m\u001b[31;1m That[that]\u001b[0m\u001b[31;1m Prom[Prevent]\u001b[0m\u001b[32;1m Rec\u001b[0m\u001b[32;1murrence\u001b[0m\u001b[32;1m</s>\u001b[0m\n",
      "\n",
      "\n"
     ]
    },
    {
     "name": "stderr",
     "output_type": "stream",
     "text": [
      "INFO:***** Running Evaluation *****\n",
      "INFO:  Num examples = 2970\n",
      "INFO:  Batch size = 32\n"
     ]
    },
    {
     "name": "stdout",
     "output_type": "stream",
     "text": [
      "\n",
      "\n",
      "\u001b[32;1m<s>\u001b[0m\u001b[31;1mPat[Me]\u001b[0m\u001b[32;1miotic\u001b[0m\u001b[31;1m features[analyses]\u001b[0m\u001b[31;1m reveal[show]\u001b[0m\u001b[31;1m protection[adaptations]\u001b[0m\u001b[32;1m to\u001b[0m\u001b[32;1m maintenance\u001b[0m\u001b[32;1m of\u001b[0m\u001b[32;1m fertility\u001b[0m\u001b[32;1m in\u001b[0m\u001b[32;1m X\u001b[0m\u001b[32;1m1\u001b[0m\u001b[32;1mY\u001b[0m\u001b[32;1m1\u001b[0m\u001b[32;1mX\u001b[0m\u001b[32;1m2\u001b[0m\u001b[31;1mX[Y]\u001b[0m\u001b[32;1m2\u001b[0m\u001b[32;1mX\u001b[0m\u001b[32;1m3\u001b[0m\u001b[31;1mX[Y]\u001b[0m\u001b[32;1m3\u001b[0m\u001b[32;1mX\u001b[0m\u001b[32;1m4\u001b[0m\u001b[31;1mX[Y]\u001b[0m\u001b[32;1m4\u001b[0m\u001b[32;1mX\u001b[0m\u001b[31;1mC[5]\u001b[0m\u001b[31;1mC[Y]\u001b[0m\u001b[31;1mC[5]\u001b[0m\u001b[31;1ma[system]\u001b[0m\u001b[32;1m of\u001b[0m\u001b[31;1m Am[am]\u001b[0m\u001b[31;1maran[azon]\u001b[0m\u001b[31;1mia[frog]\u001b[0m\u001b[31;1m Ap[Le]\u001b[0m\u001b[32;1mpt\u001b[0m\u001b[31;1mosp[od]\u001b[0m\u001b[31;1mys[act]\u001b[0m\u001b[32;1myl\u001b[0m\u001b[32;1mus\u001b[0m\u001b[31;1m nil[pent]\u001b[0m\u001b[31;1mog[ad]\u001b[0m\u001b[32;1mact\u001b[0m\u001b[32;1myl\u001b[0m\u001b[32;1mus\u001b[0m\u001b[32;1m (\u001b[0m\u001b[31;1mJ[La]\u001b[0m\u001b[31;1m)[ure]\u001b[0m\u001b[31;1ma[nt]\u001b[0m\u001b[31;1mis[i]\u001b[0m\u001b[31;1m)[,]\u001b[0m\u001b[32;1m 17\u001b[0m\u001b[31;1m58[68]\u001b[0m\u001b[32;1m)\u001b[0m\u001b[32;1m</s>\u001b[0m\n",
      "\n",
      "\n"
     ]
    },
    {
     "name": "stderr",
     "output_type": "stream",
     "text": [
      "Saving model checkpoint to /lm_models/checkpoint-14500\n",
      "Trainer.model is not a `PreTrainedModel`, only saving its state dict.\n",
      "Deleting older checkpoint [/lm_models/checkpoint-12000] due to args.save_total_limit\n",
      "/opt/conda/lib/python3.8/site-packages/torch/nn/parallel/_functions.py:68: UserWarning: Was asked to gather along dimension 0, but all input tensors were scalars; will instead unsqueeze and return a vector.\n",
      "  warnings.warn('Was asked to gather along dimension 0, but all '\n",
      "INFO:***** Running Evaluation *****\n",
      "INFO:  Num examples = 2970\n",
      "INFO:  Batch size = 32\n"
     ]
    },
    {
     "name": "stdout",
     "output_type": "stream",
     "text": [
      "\n",
      "\n",
      "\u001b[32;1m<s>\u001b[0m\u001b[32;1mThe\u001b[0m\u001b[32;1m Chinese\u001b[0m\u001b[32;1m Her\u001b[0m\u001b[32;1mbal\u001b[0m\u001b[32;1m Formula\u001b[0m\u001b[31;1m Pan[Shen]\u001b[0m\u001b[32;1mz\u001b[0m\u001b[31;1mang[hu]\u001b[0m\u001b[32;1m T\u001b[0m\u001b[32;1mia\u001b[0m\u001b[32;1mop\u001b[0m\u001b[31;1mar[i]\u001b[0m\u001b[31;1mene[Gran]\u001b[0m\u001b[32;1mule\u001b[0m\u001b[32;1m Results\u001b[0m\u001b[32;1m in\u001b[0m\u001b[32;1m Met\u001b[0m\u001b[32;1mabolic\u001b[0m\u001b[32;1m Improvement\u001b[0m\u001b[32;1m in\u001b[0m\u001b[32;1m Type\u001b[0m\u001b[32;1m 2\u001b[0m\u001b[32;1m Di\u001b[0m\u001b[32;1mabetic\u001b[0m\u001b[32;1m Rats\u001b[0m\u001b[32;1m by\u001b[0m\u001b[32;1m Mod\u001b[0m\u001b[32;1mulating\u001b[0m\u001b[32;1m the\u001b[0m\u001b[32;1m Gut\u001b[0m\u001b[32;1m Micro\u001b[0m\u001b[32;1mbi\u001b[0m\u001b[32;1mota\u001b[0m\u001b[32;1m</s>\u001b[0m\n",
      "\n",
      "\n"
     ]
    },
    {
     "name": "stderr",
     "output_type": "stream",
     "text": [
      "INFO:***** Running Evaluation *****\n",
      "INFO:  Num examples = 2970\n",
      "INFO:  Batch size = 32\n"
     ]
    },
    {
     "name": "stdout",
     "output_type": "stream",
     "text": [
      "\n",
      "\n",
      "\u001b[32;1m<s>\u001b[0m\u001b[32;1mPat\u001b[0m\u001b[32;1mient\u001b[0m\u001b[32;1m portal\u001b[0m\u001b[31;1m assist[messaging]\u001b[0m\u001b[32;1m for\u001b[0m\u001b[32;1m care\u001b[0m\u001b[31;1m mobility[coordination]\u001b[0m\u001b[32;1m:\u001b[0m\u001b[32;1m a\u001b[0m\u001b[32;1m qualitative\u001b[0m\u001b[32;1m study\u001b[0m\u001b[32;1m of\u001b[0m\u001b[32;1m perspectives\u001b[0m\u001b[32;1m of\u001b[0m\u001b[31;1m working[experienced]\u001b[0m\u001b[32;1m users\u001b[0m\u001b[32;1m with\u001b[0m\u001b[32;1m chronic\u001b[0m\u001b[32;1m conditions\u001b[0m\u001b[32;1m</s>\u001b[0m\n",
      "\n",
      "\n"
     ]
    },
    {
     "name": "stderr",
     "output_type": "stream",
     "text": [
      "INFO:***** Running Evaluation *****\n",
      "INFO:  Num examples = 2970\n",
      "INFO:  Batch size = 32\n"
     ]
    },
    {
     "name": "stdout",
     "output_type": "stream",
     "text": [
      "\n",
      "\n",
      "\u001b[32;1m<s>\u001b[0m\u001b[31;1mFact[Consider]\u001b[0m\u001b[32;1mations\u001b[0m\u001b[32;1m regarding\u001b[0m\u001b[32;1m treatment\u001b[0m\u001b[32;1m efficiency\u001b[0m\u001b[32;1m,\u001b[0m\u001b[32;1m diss\u001b[0m\u001b[32;1moci\u001b[0m\u001b[32;1mative\u001b[0m\u001b[31;1m states[parts]\u001b[0m\u001b[32;1m and\u001b[0m\u001b[32;1m diss\u001b[0m\u001b[32;1moci\u001b[0m\u001b[32;1mative\u001b[0m\u001b[32;1m am\u001b[0m\u001b[32;1mnesia\u001b[0m\u001b[32;1m for\u001b[0m\u001b[31;1m J[Hunt]\u001b[0m\u001b[31;1mz[j]\u001b[0m\u001b[32;1mens\u001b[0m\u001b[32;1m et\u001b[0m\u001b[32;1m al\u001b[0m\u001b[32;1m.\u001b[0m\u001b[31;1m �[�]\u001b[0m\u001b[32;1m�\u001b[0m\u001b[32;1ms\u001b[0m\u001b[31;1m Cass[Sche]\u001b[0m\u001b[31;1mng[ma]\u001b[0m\u001b[32;1m Therapy\u001b[0m\u001b[32;1m for\u001b[0m\u001b[32;1m Diss\u001b[0m\u001b[32;1moci\u001b[0m\u001b[32;1mative\u001b[0m\u001b[31;1m Cogn[Identity]\u001b[0m\u001b[32;1m Disorder\u001b[0m\u001b[32;1m</s>\u001b[0m\n",
      "\n",
      "\n"
     ]
    },
    {
     "name": "stderr",
     "output_type": "stream",
     "text": [
      "INFO:***** Running Evaluation *****\n",
      "INFO:  Num examples = 2970\n",
      "INFO:  Batch size = 32\n"
     ]
    },
    {
     "name": "stdout",
     "output_type": "stream",
     "text": [
      "\n",
      "\n",
      "\u001b[32;1m<s>\u001b[0m\u001b[32;1mThe\u001b[0m\u001b[32;1m Chinese\u001b[0m\u001b[32;1m Her\u001b[0m\u001b[32;1mbal\u001b[0m\u001b[32;1m Formula\u001b[0m\u001b[31;1m Z[Shen]\u001b[0m\u001b[32;1mz\u001b[0m\u001b[31;1mang[hu]\u001b[0m\u001b[32;1m T\u001b[0m\u001b[32;1mia\u001b[0m\u001b[32;1mop\u001b[0m\u001b[31;1mar[i]\u001b[0m\u001b[31;1mene[Gran]\u001b[0m\u001b[32;1mule\u001b[0m\u001b[32;1m Results\u001b[0m\u001b[32;1m in\u001b[0m\u001b[32;1m Met\u001b[0m\u001b[32;1mabolic\u001b[0m\u001b[31;1m Response[Improvement]\u001b[0m\u001b[32;1m in\u001b[0m\u001b[32;1m Type\u001b[0m\u001b[32;1m 2\u001b[0m\u001b[32;1m Di\u001b[0m\u001b[32;1mabetic\u001b[0m\u001b[32;1m Rats\u001b[0m\u001b[32;1m by\u001b[0m\u001b[32;1m Mod\u001b[0m\u001b[32;1mulating\u001b[0m\u001b[32;1m the\u001b[0m\u001b[32;1m Gut\u001b[0m\u001b[32;1m Micro\u001b[0m\u001b[32;1mbi\u001b[0m\u001b[32;1mota\u001b[0m\u001b[32;1m</s>\u001b[0m\n",
      "\n",
      "\n"
     ]
    },
    {
     "name": "stderr",
     "output_type": "stream",
     "text": [
      "INFO:***** Running Evaluation *****\n",
      "INFO:  Num examples = 2970\n",
      "INFO:  Batch size = 32\n"
     ]
    },
    {
     "name": "stdout",
     "output_type": "stream",
     "text": [
      "\n",
      "\n",
      "\u001b[32;1m<s>\u001b[0m\u001b[32;1mD\u001b[0m\u001b[32;1mise\u001b[0m\u001b[32;1mase\u001b[0m\u001b[31;1m abnormalities[manifestations]\u001b[0m\u001b[32;1m of\u001b[0m\u001b[32;1m Helic\u001b[0m\u001b[32;1mob\u001b[0m\u001b[32;1macter\u001b[0m\u001b[32;1m p\u001b[0m\u001b[32;1myl\u001b[0m\u001b[32;1mori\u001b[0m\u001b[32;1m infection\u001b[0m\u001b[32;1m in\u001b[0m\u001b[32;1m Arctic\u001b[0m\u001b[31;1m countries[Canada]\u001b[0m\u001b[32;1m:\u001b[0m\u001b[32;1m using\u001b[0m\u001b[32;1m epidem\u001b[0m\u001b[32;1miology\u001b[0m\u001b[32;1m to\u001b[0m\u001b[32;1m address\u001b[0m\u001b[32;1m community\u001b[0m\u001b[31;1m consequences[concerns]\u001b[0m\u001b[32;1m</s>\u001b[0m\n",
      "\n",
      "\n"
     ]
    },
    {
     "name": "stderr",
     "output_type": "stream",
     "text": [
      "Saving model checkpoint to /lm_models/checkpoint-15000\n",
      "Trainer.model is not a `PreTrainedModel`, only saving its state dict.\n",
      "Deleting older checkpoint [/lm_models/checkpoint-12500] due to args.save_total_limit\n",
      "/opt/conda/lib/python3.8/site-packages/torch/nn/parallel/_functions.py:68: UserWarning: Was asked to gather along dimension 0, but all input tensors were scalars; will instead unsqueeze and return a vector.\n",
      "  warnings.warn('Was asked to gather along dimension 0, but all '\n",
      "INFO:***** Running Evaluation *****\n",
      "INFO:  Num examples = 2970\n",
      "INFO:  Batch size = 32\n"
     ]
    },
    {
     "name": "stdout",
     "output_type": "stream",
     "text": [
      "\n",
      "\n",
      "\u001b[32;1m<s>\u001b[0m\u001b[32;1mA\u001b[0m\u001b[31;1m 6[60]\u001b[0m\u001b[31;1m%[Hz]\u001b[0m\u001b[31;1m static[uniform]\u001b[0m\u001b[31;1m optical[electromagnetic]\u001b[0m\u001b[32;1m field\u001b[0m\u001b[32;1m promotes\u001b[0m\u001b[32;1m human\u001b[0m\u001b[32;1m cell\u001b[0m\u001b[32;1m proliferation\u001b[0m\u001b[32;1m by\u001b[0m\u001b[31;1m atten[decreasing]\u001b[0m\u001b[32;1m intr\u001b[0m\u001b[32;1mace\u001b[0m\u001b[32;1mllular\u001b[0m\u001b[32;1m reactive\u001b[0m\u001b[32;1m oxygen\u001b[0m\u001b[32;1m species\u001b[0m\u001b[32;1m levels\u001b[0m\u001b[32;1m</s>\u001b[0m\n",
      "\n",
      "\n"
     ]
    },
    {
     "name": "stderr",
     "output_type": "stream",
     "text": [
      "INFO:***** Running Evaluation *****\n",
      "INFO:  Num examples = 2970\n",
      "INFO:  Batch size = 32\n"
     ]
    },
    {
     "name": "stdout",
     "output_type": "stream",
     "text": [
      "\n",
      "\n",
      "\u001b[32;1m<s>\u001b[0m\u001b[32;1mDet\u001b[0m\u001b[32;1mection\u001b[0m\u001b[32;1m of\u001b[0m\u001b[32;1m a\u001b[0m\u001b[32;1m CT\u001b[0m\u001b[32;1mX\u001b[0m\u001b[32;1m-\u001b[0m\u001b[31;1mB[M]\u001b[0m\u001b[32;1m group\u001b[0m\u001b[32;1m 2\u001b[0m\u001b[32;1m beta\u001b[0m\u001b[32;1m-\u001b[0m\u001b[32;1ml\u001b[0m\u001b[32;1mact\u001b[0m\u001b[32;1mam\u001b[0m\u001b[32;1mase\u001b[0m\u001b[32;1m gene\u001b[0m\u001b[32;1m in\u001b[0m\u001b[32;1m a\u001b[0m\u001b[32;1m Kle\u001b[0m\u001b[32;1mbs\u001b[0m\u001b[32;1mie\u001b[0m\u001b[32;1mlla\u001b[0m\u001b[32;1m pneumonia\u001b[0m\u001b[32;1me\u001b[0m\u001b[31;1m isolated[isolate]\u001b[0m\u001b[32;1m from\u001b[0m\u001b[32;1m a\u001b[0m\u001b[32;1m tert\u001b[0m\u001b[32;1miary\u001b[0m\u001b[32;1m care\u001b[0m\u001b[32;1m hospital\u001b[0m\u001b[32;1m,\u001b[0m\u001b[31;1m Jim[Trinidad]\u001b[0m\u001b[32;1m and\u001b[0m\u001b[31;1m Moz[Tob]\u001b[0m\u001b[32;1mago\u001b[0m\u001b[32;1m</s>\u001b[0m\n",
      "\n",
      "\n"
     ]
    },
    {
     "name": "stderr",
     "output_type": "stream",
     "text": [
      "INFO:***** Running Evaluation *****\n",
      "INFO:  Num examples = 2970\n",
      "INFO:  Batch size = 32\n"
     ]
    },
    {
     "name": "stdout",
     "output_type": "stream",
     "text": [
      "\n",
      "\n",
      "\u001b[32;1m<s>\u001b[0m\u001b[32;1mSmall\u001b[0m\u001b[32;1m-\u001b[0m\u001b[32;1mfor\u001b[0m\u001b[32;1m-\u001b[0m\u001b[31;1muse[gest]\u001b[0m\u001b[32;1mational\u001b[0m\u001b[32;1m age\u001b[0m\u001b[32;1m and\u001b[0m\u001b[32;1m its\u001b[0m\u001b[32;1m association\u001b[0m\u001b[32;1m with\u001b[0m\u001b[32;1m maternal\u001b[0m\u001b[32;1m blood\u001b[0m\u001b[32;1m glucose\u001b[0m\u001b[32;1m,\u001b[0m\u001b[32;1m body\u001b[0m\u001b[32;1m mass\u001b[0m\u001b[32;1m index\u001b[0m\u001b[32;1m and\u001b[0m\u001b[31;1m distance[stature]\u001b[0m\u001b[32;1m:\u001b[0m\u001b[32;1m a\u001b[0m\u001b[32;1m per\u001b[0m\u001b[32;1min\u001b[0m\u001b[32;1matal\u001b[0m\u001b[32;1m cohort\u001b[0m\u001b[32;1m study\u001b[0m\u001b[32;1m among\u001b[0m\u001b[32;1m Chinese\u001b[0m\u001b[32;1m women\u001b[0m\u001b[32;1m</s>\u001b[0m\n",
      "\n",
      "\n"
     ]
    },
    {
     "name": "stderr",
     "output_type": "stream",
     "text": [
      "INFO:***** Running Evaluation *****\n",
      "INFO:  Num examples = 2970\n",
      "INFO:  Batch size = 32\n"
     ]
    },
    {
     "name": "stdout",
     "output_type": "stream",
     "text": [
      "\n",
      "\n",
      "\u001b[32;1m<s>\u001b[0m\u001b[32;1mTop\u001b[0m\u001b[31;1mical[Mobile]\u001b[0m\u001b[32;1m Applications\u001b[0m\u001b[32;1m in\u001b[0m\u001b[31;1m Children[Pediatrics]\u001b[0m\u001b[32;1m and\u001b[0m\u001b[32;1m Children\u001b[0m\u001b[32;1m�\u001b[0m\u001b[32;1m�\u001b[0m\u001b[32;1ms\u001b[0m\u001b[32;1m Health\u001b[0m\u001b[32;1m:\u001b[0m\u001b[32;1m Assessment\u001b[0m\u001b[32;1m and\u001b[0m\u001b[31;1m Remote[Intelligent]\u001b[0m\u001b[32;1m Analysis\u001b[0m\u001b[32;1m Tools\u001b[0m\u001b[32;1m for\u001b[0m\u001b[32;1m a\u001b[0m\u001b[32;1m System\u001b[0m\u001b[32;1matic\u001b[0m\u001b[32;1m Investigation\u001b[0m\u001b[32;1m</s>\u001b[0m\n",
      "\n",
      "\n"
     ]
    },
    {
     "name": "stderr",
     "output_type": "stream",
     "text": [
      "INFO:***** Running Evaluation *****\n",
      "INFO:  Num examples = 2970\n",
      "INFO:  Batch size = 32\n"
     ]
    },
    {
     "name": "stdout",
     "output_type": "stream",
     "text": [
      "\n",
      "\n",
      "\u001b[32;1m<s>\u001b[0m\u001b[31;1mPract[Consider]\u001b[0m\u001b[32;1mations\u001b[0m\u001b[32;1m regarding\u001b[0m\u001b[32;1m treatment\u001b[0m\u001b[32;1m efficiency\u001b[0m\u001b[32;1m,\u001b[0m\u001b[31;1m dim[diss]\u001b[0m\u001b[32;1moci\u001b[0m\u001b[32;1mative\u001b[0m\u001b[31;1m fractures[parts]\u001b[0m\u001b[32;1m and\u001b[0m\u001b[31;1m asymm[diss]\u001b[0m\u001b[32;1moci\u001b[0m\u001b[32;1mative\u001b[0m\u001b[32;1m am\u001b[0m\u001b[32;1mnesia\u001b[0m\u001b[32;1m for\u001b[0m\u001b[31;1m J[Hunt]\u001b[0m\u001b[31;1mi[j]\u001b[0m\u001b[32;1mens\u001b[0m\u001b[32;1m et\u001b[0m\u001b[32;1m al\u001b[0m\u001b[32;1m.\u001b[0m\u001b[31;1m �[�]\u001b[0m\u001b[32;1m�\u001b[0m\u001b[32;1ms\u001b[0m\u001b[31;1m Spe[Sche]\u001b[0m\u001b[31;1muk[ma]\u001b[0m\u001b[32;1m Therapy\u001b[0m\u001b[32;1m for\u001b[0m\u001b[32;1m Diss\u001b[0m\u001b[32;1moci\u001b[0m\u001b[32;1mative\u001b[0m\u001b[32;1m Identity\u001b[0m\u001b[32;1m Disorder\u001b[0m\u001b[32;1m</s>\u001b[0m\n",
      "\n",
      "\n"
     ]
    },
    {
     "name": "stderr",
     "output_type": "stream",
     "text": [
      "Saving model checkpoint to /lm_models/checkpoint-15500\n",
      "Trainer.model is not a `PreTrainedModel`, only saving its state dict.\n",
      "Deleting older checkpoint [/lm_models/checkpoint-13000] due to args.save_total_limit\n",
      "/opt/conda/lib/python3.8/site-packages/torch/nn/parallel/_functions.py:68: UserWarning: Was asked to gather along dimension 0, but all input tensors were scalars; will instead unsqueeze and return a vector.\n",
      "  warnings.warn('Was asked to gather along dimension 0, but all '\n",
      "INFO:***** Running Evaluation *****\n",
      "INFO:  Num examples = 2970\n",
      "INFO:  Batch size = 32\n"
     ]
    },
    {
     "name": "stdout",
     "output_type": "stream",
     "text": [
      "\n",
      "\n",
      "\u001b[32;1m<s>\u001b[0m\u001b[32;1mSmall\u001b[0m\u001b[32;1m-\u001b[0m\u001b[32;1mfor\u001b[0m\u001b[32;1m-\u001b[0m\u001b[32;1mgest\u001b[0m\u001b[32;1mational\u001b[0m\u001b[32;1m age\u001b[0m\u001b[32;1m and\u001b[0m\u001b[32;1m its\u001b[0m\u001b[32;1m association\u001b[0m\u001b[32;1m with\u001b[0m\u001b[32;1m maternal\u001b[0m\u001b[32;1m blood\u001b[0m\u001b[32;1m glucose\u001b[0m\u001b[32;1m,\u001b[0m\u001b[32;1m body\u001b[0m\u001b[32;1m mass\u001b[0m\u001b[32;1m index\u001b[0m\u001b[32;1m and\u001b[0m\u001b[31;1m walking[stature]\u001b[0m\u001b[32;1m:\u001b[0m\u001b[32;1m a\u001b[0m\u001b[32;1m per\u001b[0m\u001b[32;1min\u001b[0m\u001b[32;1matal\u001b[0m\u001b[32;1m cohort\u001b[0m\u001b[32;1m study\u001b[0m\u001b[32;1m among\u001b[0m\u001b[32;1m Chinese\u001b[0m\u001b[32;1m women\u001b[0m\u001b[32;1m</s>\u001b[0m\n",
      "\n",
      "\n"
     ]
    },
    {
     "name": "stderr",
     "output_type": "stream",
     "text": [
      "INFO:***** Running Evaluation *****\n",
      "INFO:  Num examples = 2970\n",
      "INFO:  Batch size = 32\n"
     ]
    },
    {
     "name": "stdout",
     "output_type": "stream",
     "text": [
      "\n",
      "\n",
      "\u001b[32;1m<s>\u001b[0m\u001b[32;1mMe\u001b[0m\u001b[32;1miotic\u001b[0m\u001b[32;1m analyses\u001b[0m\u001b[31;1m reveal[show]\u001b[0m\u001b[31;1m mechanisms[adaptations]\u001b[0m\u001b[32;1m to\u001b[0m\u001b[32;1m maintenance\u001b[0m\u001b[32;1m of\u001b[0m\u001b[32;1m fertility\u001b[0m\u001b[32;1m in\u001b[0m\u001b[32;1m X\u001b[0m\u001b[32;1m1\u001b[0m\u001b[32;1mY\u001b[0m\u001b[31;1mX[1]\u001b[0m\u001b[32;1mX\u001b[0m\u001b[32;1m2\u001b[0m\u001b[31;1mX[Y]\u001b[0m\u001b[32;1m2\u001b[0m\u001b[32;1mX\u001b[0m\u001b[32;1m3\u001b[0m\u001b[31;1mX[Y]\u001b[0m\u001b[32;1m3\u001b[0m\u001b[32;1mX\u001b[0m\u001b[32;1m4\u001b[0m\u001b[31;1mX[Y]\u001b[0m\u001b[32;1m4\u001b[0m\u001b[32;1mX\u001b[0m\u001b[31;1m7[5]\u001b[0m\u001b[32;1mY\u001b[0m\u001b[31;1m complex[5]\u001b[0m\u001b[31;1m gene[system]\u001b[0m\u001b[32;1m of\u001b[0m\u001b[31;1m Am[am]\u001b[0m\u001b[31;1mel[azon]\u001b[0m\u001b[31;1maph[frog]\u001b[0m\u001b[31;1m Ap[Le]\u001b[0m\u001b[32;1mpt\u001b[0m\u001b[31;1mosp[od]\u001b[0m\u001b[32;1mact\u001b[0m\u001b[32;1myl\u001b[0m\u001b[31;1m es[us]\u001b[0m\u001b[31;1m am[pent]\u001b[0m\u001b[31;1mat[ad]\u001b[0m\u001b[32;1mact\u001b[0m\u001b[32;1myl\u001b[0m\u001b[32;1mus\u001b[0m\u001b[32;1m (\u001b[0m\u001b[31;1mCH[La]\u001b[0m\u001b[31;1mev[ure]\u001b[0m\u001b[31;1ma[nt]\u001b[0m\u001b[31;1mis[i]\u001b[0m\u001b[31;1m)[,]\u001b[0m\u001b[32;1m 17\u001b[0m\u001b[31;1m58[68]\u001b[0m\u001b[32;1m)\u001b[0m\u001b[32;1m</s>\u001b[0m\n",
      "\n",
      "\n"
     ]
    },
    {
     "name": "stderr",
     "output_type": "stream",
     "text": [
      "INFO:***** Running Evaluation *****\n",
      "INFO:  Num examples = 2970\n",
      "INFO:  Batch size = 32\n"
     ]
    },
    {
     "name": "stdout",
     "output_type": "stream",
     "text": [
      "\n",
      "\n",
      "\u001b[32;1m<s>\u001b[0m\u001b[31;1mPhase[Mark]\u001b[0m\u001b[32;1mers\u001b[0m\u001b[32;1m of\u001b[0m\u001b[32;1m type\u001b[0m\u001b[32;1m I\u001b[0m\u001b[32;1m collagen\u001b[0m\u001b[32;1m degradation\u001b[0m\u001b[32;1m and\u001b[0m\u001b[32;1m synthesis\u001b[0m\u001b[32;1m in\u001b[0m\u001b[32;1m the\u001b[0m\u001b[32;1m monitoring\u001b[0m\u001b[32;1m of\u001b[0m\u001b[32;1m treatment\u001b[0m\u001b[32;1m response\u001b[0m\u001b[32;1m in\u001b[0m\u001b[32;1m bone\u001b[0m\u001b[32;1m metast\u001b[0m\u001b[32;1mases\u001b[0m\u001b[32;1m from\u001b[0m\u001b[32;1m breast\u001b[0m\u001b[32;1m carcin\u001b[0m\u001b[32;1moma\u001b[0m\u001b[32;1m.\u001b[0m\u001b[32;1m</s>\u001b[0m\n",
      "\n",
      "\n"
     ]
    },
    {
     "name": "stderr",
     "output_type": "stream",
     "text": [
      "INFO:***** Running Evaluation *****\n",
      "INFO:  Num examples = 2970\n",
      "INFO:  Batch size = 32\n"
     ]
    },
    {
     "name": "stdout",
     "output_type": "stream",
     "text": [
      "\n",
      "\n",
      "\u001b[32;1m<s>\u001b[0m\u001b[32;1mThe\u001b[0m\u001b[32;1m impact\u001b[0m\u001b[32;1m of\u001b[0m\u001b[31;1m delivering[removing]\u001b[0m\u001b[31;1m educational[financial]\u001b[0m\u001b[31;1m preferences[incentives]\u001b[0m\u001b[32;1m from\u001b[0m\u001b[32;1m clinical\u001b[0m\u001b[32;1m quality\u001b[0m\u001b[32;1m indicators\u001b[0m\u001b[32;1m:\u001b[0m\u001b[32;1m longitudinal\u001b[0m\u001b[32;1m analysis\u001b[0m\u001b[32;1m of\u001b[0m\u001b[32;1m four\u001b[0m\u001b[31;1m Dutch[Kaiser]\u001b[0m\u001b[32;1m P\u001b[0m\u001b[31;1maed[erman]\u001b[0m\u001b[31;1mently[ente]\u001b[0m\u001b[32;1m indicators\u001b[0m\u001b[32;1m</s>\u001b[0m\n",
      "\n",
      "\n"
     ]
    },
    {
     "name": "stderr",
     "output_type": "stream",
     "text": [
      "INFO:***** Running Evaluation *****\n",
      "INFO:  Num examples = 2970\n",
      "INFO:  Batch size = 32\n"
     ]
    },
    {
     "name": "stdout",
     "output_type": "stream",
     "text": [
      "\n",
      "\n",
      "\u001b[32;1m<s>\u001b[0m\u001b[32;1mSmall\u001b[0m\u001b[32;1m-\u001b[0m\u001b[32;1mfor\u001b[0m\u001b[32;1m-\u001b[0m\u001b[32;1mgest\u001b[0m\u001b[32;1mational\u001b[0m\u001b[32;1m age\u001b[0m\u001b[32;1m and\u001b[0m\u001b[32;1m its\u001b[0m\u001b[32;1m association\u001b[0m\u001b[32;1m with\u001b[0m\u001b[32;1m maternal\u001b[0m\u001b[32;1m blood\u001b[0m\u001b[32;1m glucose\u001b[0m\u001b[32;1m,\u001b[0m\u001b[32;1m body\u001b[0m\u001b[32;1m mass\u001b[0m\u001b[32;1m index\u001b[0m\u001b[32;1m and\u001b[0m\u001b[31;1m hearing[stature]\u001b[0m\u001b[32;1m:\u001b[0m\u001b[32;1m a\u001b[0m\u001b[32;1m per\u001b[0m\u001b[32;1min\u001b[0m\u001b[32;1matal\u001b[0m\u001b[32;1m cohort\u001b[0m\u001b[32;1m study\u001b[0m\u001b[32;1m among\u001b[0m\u001b[32;1m Chinese\u001b[0m\u001b[32;1m women\u001b[0m\u001b[32;1m</s>\u001b[0m\n",
      "\n",
      "\n"
     ]
    },
    {
     "name": "stderr",
     "output_type": "stream",
     "text": [
      "Saving model checkpoint to /lm_models/checkpoint-16000\n",
      "Trainer.model is not a `PreTrainedModel`, only saving its state dict.\n",
      "Deleting older checkpoint [/lm_models/checkpoint-13500] due to args.save_total_limit\n",
      "/opt/conda/lib/python3.8/site-packages/torch/nn/parallel/_functions.py:68: UserWarning: Was asked to gather along dimension 0, but all input tensors were scalars; will instead unsqueeze and return a vector.\n",
      "  warnings.warn('Was asked to gather along dimension 0, but all '\n",
      "INFO:***** Running Evaluation *****\n",
      "INFO:  Num examples = 2970\n",
      "INFO:  Batch size = 32\n"
     ]
    },
    {
     "name": "stdout",
     "output_type": "stream",
     "text": [
      "\n",
      "\n",
      "\u001b[32;1m<s>\u001b[0m\u001b[32;1mThe\u001b[0m\u001b[32;1m effects\u001b[0m\u001b[32;1m of\u001b[0m\u001b[32;1m short\u001b[0m\u001b[32;1m-\u001b[0m\u001b[32;1mterm\u001b[0m\u001b[32;1m hyp\u001b[0m\u001b[32;1mox\u001b[0m\u001b[32;1mia\u001b[0m\u001b[32;1m on\u001b[0m\u001b[32;1m human\u001b[0m\u001b[32;1m mes\u001b[0m\u001b[32;1mench\u001b[0m\u001b[32;1mym\u001b[0m\u001b[32;1mal\u001b[0m\u001b[32;1m stem\u001b[0m\u001b[32;1m cell\u001b[0m\u001b[32;1m proliferation\u001b[0m\u001b[32;1m,\u001b[0m\u001b[32;1m viability\u001b[0m\u001b[32;1m and\u001b[0m\u001b[32;1m p\u001b[0m\u001b[31;1m38[16]\u001b[0m\u001b[32;1mINK\u001b[0m\u001b[32;1m4\u001b[0m\u001b[32;1mA\u001b[0m\u001b[32;1m mRNA\u001b[0m\u001b[32;1m expression\u001b[0m\u001b[32;1m:\u001b[0m\u001b[31;1m A[Investigation]\u001b[0m\u001b[32;1m using\u001b[0m\u001b[32;1m a\u001b[0m\u001b[31;1m intermittent[simple]\u001b[0m\u001b[32;1m hyp\u001b[0m\u001b[31;1mox[oxic]\u001b[0m\u001b[31;1m system[culture]\u001b[0m\u001b[32;1m system\u001b[0m\u001b[32;1m with\u001b[0m\u001b[32;1m a\u001b[0m\u001b[31;1m an[de]\u001b[0m\u001b[31;1mamin[ox]\u001b[0m\u001b[31;1myn[id]\u001b[0m\u001b[31;1mative[izing]\u001b[0m\u001b[32;1m agent\u001b[0m\u001b[32;1m</s>\u001b[0m\n",
      "\n",
      "\n"
     ]
    },
    {
     "name": "stderr",
     "output_type": "stream",
     "text": [
      "INFO:***** Running Evaluation *****\n",
      "INFO:  Num examples = 2970\n",
      "INFO:  Batch size = 32\n"
     ]
    },
    {
     "name": "stdout",
     "output_type": "stream",
     "text": [
      "\n",
      "\n",
      "\u001b[32;1m<s>\u001b[0m\u001b[32;1mThe\u001b[0m\u001b[32;1m Chinese\u001b[0m\u001b[32;1m Her\u001b[0m\u001b[32;1mbal\u001b[0m\u001b[32;1m Formula\u001b[0m\u001b[31;1m Z[Shen]\u001b[0m\u001b[32;1mz\u001b[0m\u001b[31;1mang[hu]\u001b[0m\u001b[32;1m T\u001b[0m\u001b[32;1mia\u001b[0m\u001b[32;1mop\u001b[0m\u001b[31;1mro[i]\u001b[0m\u001b[31;1mene[Gran]\u001b[0m\u001b[32;1mule\u001b[0m\u001b[32;1m Results\u001b[0m\u001b[32;1m in\u001b[0m\u001b[32;1m Met\u001b[0m\u001b[32;1mabolic\u001b[0m\u001b[32;1m Improvement\u001b[0m\u001b[32;1m in\u001b[0m\u001b[32;1m Type\u001b[0m\u001b[32;1m 2\u001b[0m\u001b[32;1m Di\u001b[0m\u001b[32;1mabetic\u001b[0m\u001b[32;1m Rats\u001b[0m\u001b[32;1m by\u001b[0m\u001b[32;1m Mod\u001b[0m\u001b[32;1mulating\u001b[0m\u001b[32;1m the\u001b[0m\u001b[32;1m Gut\u001b[0m\u001b[32;1m Micro\u001b[0m\u001b[32;1mbi\u001b[0m\u001b[32;1mota\u001b[0m\u001b[32;1m</s>\u001b[0m\n",
      "\n",
      "\n"
     ]
    },
    {
     "name": "stderr",
     "output_type": "stream",
     "text": [
      "INFO:***** Running Evaluation *****\n",
      "INFO:  Num examples = 2970\n",
      "INFO:  Batch size = 32\n"
     ]
    },
    {
     "name": "stdout",
     "output_type": "stream",
     "text": [
      "\n",
      "\n",
      "\u001b[32;1m<s>\u001b[0m\u001b[32;1mThe\u001b[0m\u001b[32;1m Chinese\u001b[0m\u001b[32;1m Her\u001b[0m\u001b[32;1mbal\u001b[0m\u001b[32;1m Formula\u001b[0m\u001b[31;1m Lin[Shen]\u001b[0m\u001b[32;1mz\u001b[0m\u001b[31;1mang[hu]\u001b[0m\u001b[32;1m T\u001b[0m\u001b[32;1mia\u001b[0m\u001b[32;1mop\u001b[0m\u001b[31;1mro[i]\u001b[0m\u001b[31;1mene[Gran]\u001b[0m\u001b[32;1mule\u001b[0m\u001b[32;1m Results\u001b[0m\u001b[32;1m in\u001b[0m\u001b[32;1m Met\u001b[0m\u001b[32;1mabolic\u001b[0m\u001b[32;1m Improvement\u001b[0m\u001b[32;1m in\u001b[0m\u001b[32;1m Type\u001b[0m\u001b[32;1m 2\u001b[0m\u001b[32;1m Di\u001b[0m\u001b[32;1mabetic\u001b[0m\u001b[32;1m Rats\u001b[0m\u001b[32;1m by\u001b[0m\u001b[32;1m Mod\u001b[0m\u001b[32;1mulating\u001b[0m\u001b[32;1m the\u001b[0m\u001b[32;1m Gut\u001b[0m\u001b[32;1m Micro\u001b[0m\u001b[32;1mbi\u001b[0m\u001b[32;1mota\u001b[0m\u001b[32;1m</s>\u001b[0m\n",
      "\n",
      "\n"
     ]
    },
    {
     "name": "stderr",
     "output_type": "stream",
     "text": [
      "INFO:***** Running Evaluation *****\n",
      "INFO:  Num examples = 2970\n",
      "INFO:  Batch size = 32\n"
     ]
    },
    {
     "name": "stdout",
     "output_type": "stream",
     "text": [
      "\n",
      "\n",
      "\u001b[32;1m<s>\u001b[0m\u001b[32;1mCompar\u001b[0m\u001b[32;1mison\u001b[0m\u001b[32;1m of\u001b[0m\u001b[32;1m Performance\u001b[0m\u001b[31;1m Perception[Achievement]\u001b[0m\u001b[31;1m Question[Award]\u001b[0m\u001b[32;1m Recogn\u001b[0m\u001b[32;1mition\u001b[0m\u001b[32;1m With\u001b[0m\u001b[32;1m Primary\u001b[0m\u001b[32;1m Stro\u001b[0m\u001b[32;1mke\u001b[0m\u001b[32;1m Center\u001b[0m\u001b[31;1m Planning[Certification]\u001b[0m\u001b[32;1m for\u001b[0m\u001b[32;1m Ac\u001b[0m\u001b[32;1mute\u001b[0m\u001b[32;1m Is\u001b[0m\u001b[32;1mche\u001b[0m\u001b[32;1mmic\u001b[0m\u001b[32;1m Stro\u001b[0m\u001b[32;1mke\u001b[0m\u001b[32;1m Care\u001b[0m\u001b[32;1m</s>\u001b[0m\n",
      "\n",
      "\n"
     ]
    },
    {
     "name": "stderr",
     "output_type": "stream",
     "text": [
      "INFO:***** Running Evaluation *****\n",
      "INFO:  Num examples = 2970\n",
      "INFO:  Batch size = 32\n"
     ]
    },
    {
     "name": "stdout",
     "output_type": "stream",
     "text": [
      "\n",
      "\n",
      "\u001b[32;1m<s>\u001b[0m\u001b[32;1mCompar\u001b[0m\u001b[32;1mison\u001b[0m\u001b[32;1m of\u001b[0m\u001b[32;1m Performance\u001b[0m\u001b[31;1m Perception[Achievement]\u001b[0m\u001b[31;1m Check[Award]\u001b[0m\u001b[32;1m Recogn\u001b[0m\u001b[32;1mition\u001b[0m\u001b[32;1m With\u001b[0m\u001b[32;1m Primary\u001b[0m\u001b[32;1m Stro\u001b[0m\u001b[32;1mke\u001b[0m\u001b[32;1m Center\u001b[0m\u001b[31;1m Planning[Certification]\u001b[0m\u001b[32;1m for\u001b[0m\u001b[32;1m Ac\u001b[0m\u001b[32;1mute\u001b[0m\u001b[32;1m Is\u001b[0m\u001b[32;1mche\u001b[0m\u001b[32;1mmic\u001b[0m\u001b[32;1m Stro\u001b[0m\u001b[32;1mke\u001b[0m\u001b[32;1m Care\u001b[0m\u001b[32;1m</s>\u001b[0m\n",
      "\n",
      "\n"
     ]
    },
    {
     "name": "stderr",
     "output_type": "stream",
     "text": [
      "Saving model checkpoint to /lm_models/checkpoint-16500\n",
      "Trainer.model is not a `PreTrainedModel`, only saving its state dict.\n",
      "Deleting older checkpoint [/lm_models/checkpoint-14000] due to args.save_total_limit\n",
      "/opt/conda/lib/python3.8/site-packages/torch/nn/parallel/_functions.py:68: UserWarning: Was asked to gather along dimension 0, but all input tensors were scalars; will instead unsqueeze and return a vector.\n",
      "  warnings.warn('Was asked to gather along dimension 0, but all '\n",
      "INFO:***** Running Evaluation *****\n",
      "INFO:  Num examples = 2970\n",
      "INFO:  Batch size = 32\n"
     ]
    },
    {
     "name": "stdout",
     "output_type": "stream",
     "text": [
      "\n",
      "\n",
      "\u001b[32;1m<s>\u001b[0m\u001b[32;1mMe\u001b[0m\u001b[32;1miotic\u001b[0m\u001b[31;1m features[analyses]\u001b[0m\u001b[31;1m reveal[show]\u001b[0m\u001b[31;1m mechanisms[adaptations]\u001b[0m\u001b[32;1m to\u001b[0m\u001b[32;1m maintenance\u001b[0m\u001b[32;1m of\u001b[0m\u001b[32;1m fertility\u001b[0m\u001b[32;1m in\u001b[0m\u001b[32;1m X\u001b[0m\u001b[32;1m1\u001b[0m\u001b[32;1mY\u001b[0m\u001b[32;1m1\u001b[0m\u001b[32;1mX\u001b[0m\u001b[32;1m2\u001b[0m\u001b[31;1mX[Y]\u001b[0m\u001b[32;1m2\u001b[0m\u001b[32;1mX\u001b[0m\u001b[32;1m3\u001b[0m\u001b[31;1mK[Y]\u001b[0m\u001b[32;1m3\u001b[0m\u001b[32;1mX\u001b[0m\u001b[32;1m4\u001b[0m\u001b[31;1mX[Y]\u001b[0m\u001b[32;1m4\u001b[0m\u001b[31;1mZ[X]\u001b[0m\u001b[31;1m9[5]\u001b[0m\u001b[32;1mY\u001b[0m\u001b[31;1m complex[5]\u001b[0m\u001b[31;1ma[system]\u001b[0m\u001b[32;1m of\u001b[0m\u001b[32;1m am\u001b[0m\u001b[31;1mel[azon]\u001b[0m\u001b[31;1mian[frog]\u001b[0m\u001b[31;1m am[Le]\u001b[0m\u001b[32;1mpt\u001b[0m\u001b[31;1mosp[od]\u001b[0m\u001b[32;1mact\u001b[0m\u001b[32;1myl\u001b[0m\u001b[32;1mus\u001b[0m\u001b[31;1m am[pent]\u001b[0m\u001b[31;1mat[ad]\u001b[0m\u001b[32;1mact\u001b[0m\u001b[32;1myl\u001b[0m\u001b[32;1mus\u001b[0m\u001b[31;1m,[(]\u001b[0m\u001b[31;1mJ[La]\u001b[0m\u001b[31;1m)[ure]\u001b[0m\u001b[31;1ma[nt]\u001b[0m\u001b[31;1ma[i]\u001b[0m\u001b[32;1m,\u001b[0m\u001b[32;1m 17\u001b[0m\u001b[31;1m58[68]\u001b[0m\u001b[32;1m)\u001b[0m\u001b[32;1m</s>\u001b[0m\n",
      "\n",
      "\n"
     ]
    },
    {
     "name": "stderr",
     "output_type": "stream",
     "text": [
      "INFO:***** Running Evaluation *****\n",
      "INFO:  Num examples = 2970\n",
      "INFO:  Batch size = 32\n"
     ]
    },
    {
     "name": "stdout",
     "output_type": "stream",
     "text": [
      "\n",
      "\n",
      "\u001b[32;1m<s>\u001b[0m\u001b[32;1mAdvanced\u001b[0m\u001b[31;1m stable[moderately]\u001b[0m\u001b[32;1m differentiated\u001b[0m\u001b[32;1m neuro\u001b[0m\u001b[32;1mend\u001b[0m\u001b[32;1mocrine\u001b[0m\u001b[32;1m carcin\u001b[0m\u001b[32;1moma\u001b[0m\u001b[32;1m of\u001b[0m\u001b[32;1m the\u001b[0m\u001b[32;1m rect\u001b[0m\u001b[32;1mum\u001b[0m\u001b[32;1m with\u001b[0m\u001b[32;1m favorable\u001b[0m\u001b[32;1m prog\u001b[0m\u001b[32;1mnosis\u001b[0m\u001b[32;1m by\u001b[0m\u001b[32;1m post\u001b[0m\u001b[32;1moperative\u001b[0m\u001b[32;1m che\u001b[0m\u001b[32;1mmor\u001b[0m\u001b[32;1mad\u001b[0m\u001b[32;1miation\u001b[0m\u001b[32;1m</s>\u001b[0m\n",
      "\n",
      "\n"
     ]
    },
    {
     "name": "stderr",
     "output_type": "stream",
     "text": [
      "INFO:***** Running Evaluation *****\n",
      "INFO:  Num examples = 2970\n",
      "INFO:  Batch size = 32\n"
     ]
    },
    {
     "name": "stdout",
     "output_type": "stream",
     "text": [
      "\n",
      "\n",
      "\u001b[32;1m<s>\u001b[0m\u001b[32;1mA\u001b[0m\u001b[32;1m prospective\u001b[0m\u001b[32;1m study\u001b[0m\u001b[32;1m of\u001b[0m\u001b[32;1m shoulder\u001b[0m\u001b[32;1m pain\u001b[0m\u001b[32;1m in\u001b[0m\u001b[32;1m primary\u001b[0m\u001b[32;1m care\u001b[0m\u001b[32;1m:\u001b[0m\u001b[32;1m Pre\u001b[0m\u001b[32;1mval\u001b[0m\u001b[32;1mence\u001b[0m\u001b[32;1m of\u001b[0m\u001b[32;1m im\u001b[0m\u001b[31;1mmediate[aged]\u001b[0m\u001b[32;1m pathology\u001b[0m\u001b[32;1m and\u001b[0m\u001b[32;1m response\u001b[0m\u001b[32;1m to\u001b[0m\u001b[32;1m guided\u001b[0m\u001b[32;1m diagnostic\u001b[0m\u001b[31;1m ass[blocks]\u001b[0m\u001b[32;1m</s>\u001b[0m\n",
      "\n",
      "\n"
     ]
    },
    {
     "name": "stderr",
     "output_type": "stream",
     "text": [
      "INFO:***** Running Evaluation *****\n",
      "INFO:  Num examples = 2970\n",
      "INFO:  Batch size = 32\n"
     ]
    },
    {
     "name": "stdout",
     "output_type": "stream",
     "text": [
      "\n",
      "\n",
      "\u001b[32;1m<s>\u001b[0m\u001b[32;1mThe\u001b[0m\u001b[32;1m effects\u001b[0m\u001b[32;1m of\u001b[0m\u001b[32;1m short\u001b[0m\u001b[32;1m-\u001b[0m\u001b[32;1mterm\u001b[0m\u001b[32;1m hyp\u001b[0m\u001b[32;1mox\u001b[0m\u001b[32;1mia\u001b[0m\u001b[32;1m on\u001b[0m\u001b[32;1m human\u001b[0m\u001b[32;1m mes\u001b[0m\u001b[32;1mench\u001b[0m\u001b[32;1mym\u001b[0m\u001b[32;1mal\u001b[0m\u001b[32;1m stem\u001b[0m\u001b[32;1m cell\u001b[0m\u001b[32;1m proliferation\u001b[0m\u001b[32;1m,\u001b[0m\u001b[32;1m viability\u001b[0m\u001b[32;1m and\u001b[0m\u001b[32;1m p\u001b[0m\u001b[31;1m38[16]\u001b[0m\u001b[32;1mINK\u001b[0m\u001b[32;1m4\u001b[0m\u001b[31;1m Gene[A]\u001b[0m\u001b[32;1m mRNA\u001b[0m\u001b[32;1m expression\u001b[0m\u001b[32;1m:\u001b[0m\u001b[31;1m An[Investigation]\u001b[0m\u001b[32;1m using\u001b[0m\u001b[31;1m an[a]\u001b[0m\u001b[31;1m multif[simple]\u001b[0m\u001b[31;1m Aut[hyp]\u001b[0m\u001b[31;1mother[oxic]\u001b[0m\u001b[31;1m system[culture]\u001b[0m\u001b[32;1m system\u001b[0m\u001b[32;1m with\u001b[0m\u001b[32;1m a\u001b[0m\u001b[31;1m an[de]\u001b[0m\u001b[32;1mox\u001b[0m\u001b[31;1myn[id]\u001b[0m\u001b[31;1mant[izing]\u001b[0m\u001b[32;1m agent\u001b[0m\u001b[32;1m</s>\u001b[0m\n",
      "\n",
      "\n"
     ]
    },
    {
     "name": "stderr",
     "output_type": "stream",
     "text": [
      "INFO:***** Running Evaluation *****\n",
      "INFO:  Num examples = 2970\n",
      "INFO:  Batch size = 32\n"
     ]
    },
    {
     "name": "stdout",
     "output_type": "stream",
     "text": [
      "\n",
      "\n",
      "\u001b[32;1m<s>\u001b[0m\u001b[32;1mCase\u001b[0m\u001b[32;1m of\u001b[0m\u001b[32;1m En\u001b[0m\u001b[32;1mlarg\u001b[0m\u001b[32;1mement\u001b[0m\u001b[32;1m of\u001b[0m\u001b[32;1m the\u001b[0m\u001b[32;1m Heart\u001b[0m\u001b[32;1m,\u001b[0m\u001b[32;1m with\u001b[0m\u001b[32;1m Poly\u001b[0m\u001b[31;1m[[[pi]\u001b[0m\u001b[32;1m,\u001b[0m\u001b[32;1m &\u001b[0m\u001b[32;1mc\u001b[0m\u001b[32;1m.\u001b[0m\u001b[32;1m Which\u001b[0m\u001b[32;1m Occ\u001b[0m\u001b[32;1murred\u001b[0m\u001b[32;1m on\u001b[0m\u001b[32;1m Board\u001b[0m\u001b[32;1m the\u001b[0m\u001b[31;1m Great[Honour]\u001b[0m\u001b[32;1mable\u001b[0m\u001b[32;1m East\u001b[0m\u001b[32;1m India\u001b[0m\u001b[31;1m Project[Company]\u001b[0m\u001b[32;1m's\u001b[0m\u001b[31;1m Bed[Ship]\u001b[0m\u001b[31;1mling[Carn]\u001b[0m\u001b[31;1mival[atic]\u001b[0m\u001b[32;1m</s>\u001b[0m\n",
      "\n",
      "\n"
     ]
    },
    {
     "name": "stderr",
     "output_type": "stream",
     "text": [
      "Saving model checkpoint to /lm_models/checkpoint-17000\n",
      "Trainer.model is not a `PreTrainedModel`, only saving its state dict.\n",
      "Deleting older checkpoint [/lm_models/checkpoint-14500] due to args.save_total_limit\n",
      "/opt/conda/lib/python3.8/site-packages/torch/nn/parallel/_functions.py:68: UserWarning: Was asked to gather along dimension 0, but all input tensors were scalars; will instead unsqueeze and return a vector.\n",
      "  warnings.warn('Was asked to gather along dimension 0, but all '\n",
      "INFO:***** Running Evaluation *****\n",
      "INFO:  Num examples = 2970\n",
      "INFO:  Batch size = 32\n"
     ]
    },
    {
     "name": "stdout",
     "output_type": "stream",
     "text": [
      "\n",
      "\n",
      "\u001b[32;1m<s>\u001b[0m\u001b[32;1mD\u001b[0m\u001b[32;1mise\u001b[0m\u001b[32;1mase\u001b[0m\u001b[32;1m manifestations\u001b[0m\u001b[32;1m of\u001b[0m\u001b[32;1m Helic\u001b[0m\u001b[32;1mob\u001b[0m\u001b[32;1macter\u001b[0m\u001b[32;1m p\u001b[0m\u001b[32;1myl\u001b[0m\u001b[32;1mori\u001b[0m\u001b[32;1m infection\u001b[0m\u001b[32;1m in\u001b[0m\u001b[31;1m Caribbean[Arctic]\u001b[0m\u001b[32;1m Canada\u001b[0m\u001b[32;1m:\u001b[0m\u001b[32;1m using\u001b[0m\u001b[32;1m epidem\u001b[0m\u001b[32;1miology\u001b[0m\u001b[32;1m to\u001b[0m\u001b[32;1m address\u001b[0m\u001b[32;1m community\u001b[0m\u001b[32;1m concerns\u001b[0m\u001b[32;1m</s>\u001b[0m\n",
      "\n",
      "\n"
     ]
    },
    {
     "name": "stderr",
     "output_type": "stream",
     "text": [
      "INFO:***** Running Evaluation *****\n",
      "INFO:  Num examples = 2970\n",
      "INFO:  Batch size = 32\n"
     ]
    },
    {
     "name": "stdout",
     "output_type": "stream",
     "text": [
      "\n",
      "\n",
      "\u001b[32;1m<s>\u001b[0m\u001b[32;1mMark\u001b[0m\u001b[32;1mers\u001b[0m\u001b[32;1m of\u001b[0m\u001b[32;1m type\u001b[0m\u001b[31;1m 1[I]\u001b[0m\u001b[32;1m collagen\u001b[0m\u001b[32;1m degradation\u001b[0m\u001b[32;1m and\u001b[0m\u001b[32;1m synthesis\u001b[0m\u001b[32;1m in\u001b[0m\u001b[32;1m the\u001b[0m\u001b[32;1m monitoring\u001b[0m\u001b[32;1m of\u001b[0m\u001b[32;1m treatment\u001b[0m\u001b[32;1m response\u001b[0m\u001b[32;1m in\u001b[0m\u001b[32;1m bone\u001b[0m\u001b[32;1m metast\u001b[0m\u001b[32;1mases\u001b[0m\u001b[32;1m from\u001b[0m\u001b[32;1m breast\u001b[0m\u001b[32;1m carcin\u001b[0m\u001b[32;1moma\u001b[0m\u001b[32;1m.\u001b[0m\u001b[32;1m</s>\u001b[0m\n",
      "\n",
      "\n"
     ]
    },
    {
     "name": "stderr",
     "output_type": "stream",
     "text": [
      "INFO:***** Running Evaluation *****\n",
      "INFO:  Num examples = 2970\n",
      "INFO:  Batch size = 32\n"
     ]
    },
    {
     "name": "stdout",
     "output_type": "stream",
     "text": [
      "\n",
      "\n",
      "\u001b[32;1m<s>\u001b[0m\u001b[32;1mS\u001b[0m\u001b[31;1mub[int]\u001b[0m\u001b[31;1mat[il]\u001b[0m\u001b[32;1mim\u001b[0m\u001b[32;1mab\u001b[0m\u001b[32;1m,\u001b[0m\u001b[32;1m a\u001b[0m\u001b[32;1m PD\u001b[0m\u001b[32;1m-\u001b[0m\u001b[32;1m1\u001b[0m\u001b[32;1m In\u001b[0m\u001b[32;1mhib\u001b[0m\u001b[32;1mitor\u001b[0m\u001b[32;1m,\u001b[0m\u001b[32;1m Complete\u001b[0m\u001b[32;1mly\u001b[0m\u001b[32;1m Re\u001b[0m\u001b[32;1mvers\u001b[0m\u001b[32;1med\u001b[0m\u001b[32;1m Rare\u001b[0m\u001b[32;1mly\u001b[0m\u001b[32;1m Ref\u001b[0m\u001b[32;1mract\u001b[0m\u001b[32;1mory\u001b[0m\u001b[32;1m Hyp\u001b[0m\u001b[31;1mop[of]\u001b[0m\u001b[31;1mib[ibr]\u001b[0m\u001b[31;1mil[in]\u001b[0m\u001b[32;1mogen\u001b[0m\u001b[31;1mosis[emia]\u001b[0m\u001b[32;1m in\u001b[0m\u001b[32;1m a\u001b[0m\u001b[32;1m Gast\u001b[0m\u001b[32;1mric\u001b[0m\u001b[32;1m Cancer\u001b[0m\u001b[32;1m Patient\u001b[0m\u001b[32;1m:\u001b[0m\u001b[32;1m A\u001b[0m\u001b[32;1m Case\u001b[0m\u001b[32;1m Report\u001b[0m\u001b[32;1m and\u001b[0m\u001b[32;1m Review\u001b[0m\u001b[32;1m of\u001b[0m\u001b[32;1m the\u001b[0m\u001b[32;1m Literature\u001b[0m\u001b[32;1m</s>\u001b[0m\n",
      "\n",
      "\n"
     ]
    },
    {
     "name": "stderr",
     "output_type": "stream",
     "text": [
      "INFO:***** Running Evaluation *****\n",
      "INFO:  Num examples = 2970\n",
      "INFO:  Batch size = 32\n"
     ]
    },
    {
     "name": "stdout",
     "output_type": "stream",
     "text": [
      "\n",
      "\n",
      "\u001b[32;1m<s>\u001b[0m\u001b[32;1mSmall\u001b[0m\u001b[32;1m-\u001b[0m\u001b[32;1mfor\u001b[0m\u001b[32;1m-\u001b[0m\u001b[32;1mgest\u001b[0m\u001b[32;1mational\u001b[0m\u001b[32;1m age\u001b[0m\u001b[32;1m and\u001b[0m\u001b[32;1m its\u001b[0m\u001b[32;1m association\u001b[0m\u001b[32;1m with\u001b[0m\u001b[32;1m maternal\u001b[0m\u001b[32;1m blood\u001b[0m\u001b[32;1m glucose\u001b[0m\u001b[32;1m,\u001b[0m\u001b[32;1m body\u001b[0m\u001b[32;1m mass\u001b[0m\u001b[32;1m index\u001b[0m\u001b[32;1m and\u001b[0m\u001b[31;1m trunk[stature]\u001b[0m\u001b[32;1m:\u001b[0m\u001b[32;1m a\u001b[0m\u001b[32;1m per\u001b[0m\u001b[32;1min\u001b[0m\u001b[32;1matal\u001b[0m\u001b[32;1m cohort\u001b[0m\u001b[32;1m study\u001b[0m\u001b[32;1m among\u001b[0m\u001b[32;1m Chinese\u001b[0m\u001b[32;1m women\u001b[0m\u001b[32;1m</s>\u001b[0m\n",
      "\n",
      "\n"
     ]
    },
    {
     "name": "stderr",
     "output_type": "stream",
     "text": [
      "INFO:***** Running Evaluation *****\n",
      "INFO:  Num examples = 2970\n",
      "INFO:  Batch size = 32\n"
     ]
    },
    {
     "name": "stdout",
     "output_type": "stream",
     "text": [
      "\n",
      "\n",
      "\u001b[32;1m<s>\u001b[0m\u001b[32;1mMe\u001b[0m\u001b[32;1miotic\u001b[0m\u001b[32;1m analyses\u001b[0m\u001b[31;1m reveal[show]\u001b[0m\u001b[31;1m mechanisms[adaptations]\u001b[0m\u001b[32;1m to\u001b[0m\u001b[32;1m maintenance\u001b[0m\u001b[32;1m of\u001b[0m\u001b[32;1m fertility\u001b[0m\u001b[32;1m in\u001b[0m\u001b[32;1m X\u001b[0m\u001b[32;1m1\u001b[0m\u001b[32;1mY\u001b[0m\u001b[32;1m1\u001b[0m\u001b[32;1mX\u001b[0m\u001b[32;1m2\u001b[0m\u001b[31;1mX[Y]\u001b[0m\u001b[32;1m2\u001b[0m\u001b[32;1mX\u001b[0m\u001b[32;1m3\u001b[0m\u001b[31;1mK[Y]\u001b[0m\u001b[32;1m3\u001b[0m\u001b[32;1mX\u001b[0m\u001b[32;1m4\u001b[0m\u001b[32;1mY\u001b[0m\u001b[32;1m4\u001b[0m\u001b[32;1mX\u001b[0m\u001b[32;1m5\u001b[0m\u001b[32;1mY\u001b[0m\u001b[31;1m complex[5]\u001b[0m\u001b[32;1m system\u001b[0m\u001b[32;1m of\u001b[0m\u001b[31;1m Am[am]\u001b[0m\u001b[31;1mel[azon]\u001b[0m\u001b[31;1man[frog]\u001b[0m\u001b[31;1m Ap[Le]\u001b[0m\u001b[32;1mpt\u001b[0m\u001b[32;1mod\u001b[0m\u001b[31;1mend[act]\u001b[0m\u001b[32;1myl\u001b[0m\u001b[31;1men[us]\u001b[0m\u001b[31;1m am[pent]\u001b[0m\u001b[31;1mat[ad]\u001b[0m\u001b[32;1mact\u001b[0m\u001b[32;1myl\u001b[0m\u001b[32;1mus\u001b[0m\u001b[32;1m (\u001b[0m\u001b[31;1mJ[La]\u001b[0m\u001b[31;1mq[ure]\u001b[0m\u001b[31;1mng[nt]\u001b[0m\u001b[31;1mis[i]\u001b[0m\u001b[31;1m)[,]\u001b[0m\u001b[32;1m 17\u001b[0m\u001b[31;1m58[68]\u001b[0m\u001b[32;1m)\u001b[0m\u001b[32;1m</s>\u001b[0m\n",
      "\n",
      "\n"
     ]
    },
    {
     "name": "stderr",
     "output_type": "stream",
     "text": [
      "Saving model checkpoint to /lm_models/checkpoint-17500\n",
      "Trainer.model is not a `PreTrainedModel`, only saving its state dict.\n",
      "Deleting older checkpoint [/lm_models/checkpoint-15000] due to args.save_total_limit\n",
      "/opt/conda/lib/python3.8/site-packages/torch/nn/parallel/_functions.py:68: UserWarning: Was asked to gather along dimension 0, but all input tensors were scalars; will instead unsqueeze and return a vector.\n",
      "  warnings.warn('Was asked to gather along dimension 0, but all '\n",
      "INFO:***** Running Evaluation *****\n",
      "INFO:  Num examples = 2970\n",
      "INFO:  Batch size = 32\n"
     ]
    },
    {
     "name": "stdout",
     "output_type": "stream",
     "text": [
      "\n",
      "\n",
      "\u001b[32;1m<s>\u001b[0m\u001b[32;1mCase\u001b[0m\u001b[32;1m of\u001b[0m\u001b[32;1m En\u001b[0m\u001b[32;1mlarg\u001b[0m\u001b[32;1mement\u001b[0m\u001b[32;1m of\u001b[0m\u001b[32;1m the\u001b[0m\u001b[32;1m Heart\u001b[0m\u001b[32;1m,\u001b[0m\u001b[31;1m from[with]\u001b[0m\u001b[32;1m Poly\u001b[0m\u001b[31;1mmor[pi]\u001b[0m\u001b[32;1m,\u001b[0m\u001b[32;1m &\u001b[0m\u001b[32;1mc\u001b[0m\u001b[32;1m.\u001b[0m\u001b[31;1m Associated[Which]\u001b[0m\u001b[32;1m Occ\u001b[0m\u001b[32;1murred\u001b[0m\u001b[32;1m on\u001b[0m\u001b[31;1m Office[Board]\u001b[0m\u001b[32;1m the\u001b[0m\u001b[31;1m Great[Honour]\u001b[0m\u001b[32;1mable\u001b[0m\u001b[32;1m East\u001b[0m\u001b[32;1m India\u001b[0m\u001b[31;1m Board[Company]\u001b[0m\u001b[31;1m of['s]\u001b[0m\u001b[31;1m Tooth[Ship]\u001b[0m\u001b[31;1mous[Carn]\u001b[0m\u001b[31;1mival[atic]\u001b[0m\u001b[32;1m</s>\u001b[0m\n",
      "\n",
      "\n"
     ]
    },
    {
     "name": "stderr",
     "output_type": "stream",
     "text": [
      "INFO:***** Running Evaluation *****\n",
      "INFO:  Num examples = 2970\n",
      "INFO:  Batch size = 32\n"
     ]
    },
    {
     "name": "stdout",
     "output_type": "stream",
     "text": [
      "\n",
      "\n",
      "\u001b[32;1m<s>\u001b[0m\u001b[32;1mMe\u001b[0m\u001b[32;1miotic\u001b[0m\u001b[32;1m analyses\u001b[0m\u001b[31;1m reveal[show]\u001b[0m\u001b[32;1m adaptations\u001b[0m\u001b[32;1m to\u001b[0m\u001b[32;1m maintenance\u001b[0m\u001b[32;1m of\u001b[0m\u001b[32;1m fertility\u001b[0m\u001b[32;1m in\u001b[0m\u001b[32;1m X\u001b[0m\u001b[32;1m1\u001b[0m\u001b[32;1mY\u001b[0m\u001b[32;1m1\u001b[0m\u001b[32;1mX\u001b[0m\u001b[32;1m2\u001b[0m\u001b[31;1mX[Y]\u001b[0m\u001b[32;1m2\u001b[0m\u001b[32;1mX\u001b[0m\u001b[32;1m3\u001b[0m\u001b[31;1mX[Y]\u001b[0m\u001b[32;1m3\u001b[0m\u001b[32;1mX\u001b[0m\u001b[32;1m4\u001b[0m\u001b[31;1mZ[Y]\u001b[0m\u001b[32;1m4\u001b[0m\u001b[31;1mm[X]\u001b[0m\u001b[32;1m5\u001b[0m\u001b[32;1mY\u001b[0m\u001b[31;1m complex[5]\u001b[0m\u001b[31;1ma[system]\u001b[0m\u001b[31;1m for[of]\u001b[0m\u001b[31;1m Ap[am]\u001b[0m\u001b[31;1mine[azon]\u001b[0m\u001b[31;1mian[frog]\u001b[0m\u001b[31;1m Ep[Le]\u001b[0m\u001b[32;1mpt\u001b[0m\u001b[32;1mod\u001b[0m\u001b[31;1mys[act]\u001b[0m\u001b[32;1myl\u001b[0m\u001b[32;1mus\u001b[0m\u001b[31;1m er[pent]\u001b[0m\u001b[31;1mat[ad]\u001b[0m\u001b[31;1mys[act]\u001b[0m\u001b[32;1myl\u001b[0m\u001b[32;1mus\u001b[0m\u001b[32;1m (\u001b[0m\u001b[31;1mJ[La]\u001b[0m\u001b[31;1m)[ure]\u001b[0m\u001b[31;1mlla[nt]\u001b[0m\u001b[31;1maceae[i]\u001b[0m\u001b[32;1m,\u001b[0m\u001b[32;1m 17\u001b[0m\u001b[31;1m58[68]\u001b[0m\u001b[32;1m)\u001b[0m\u001b[32;1m</s>\u001b[0m\n",
      "\n",
      "\n"
     ]
    },
    {
     "name": "stderr",
     "output_type": "stream",
     "text": [
      "INFO:***** Running Evaluation *****\n",
      "INFO:  Num examples = 2970\n",
      "INFO:  Batch size = 32\n"
     ]
    },
    {
     "name": "stdout",
     "output_type": "stream",
     "text": [
      "\n",
      "\n",
      "\u001b[32;1m<s>\u001b[0m\u001b[32;1mMark\u001b[0m\u001b[32;1mers\u001b[0m\u001b[32;1m of\u001b[0m\u001b[32;1m type\u001b[0m\u001b[32;1m I\u001b[0m\u001b[32;1m collagen\u001b[0m\u001b[32;1m degradation\u001b[0m\u001b[32;1m and\u001b[0m\u001b[32;1m synthesis\u001b[0m\u001b[32;1m in\u001b[0m\u001b[32;1m the\u001b[0m\u001b[32;1m monitoring\u001b[0m\u001b[32;1m of\u001b[0m\u001b[32;1m treatment\u001b[0m\u001b[32;1m response\u001b[0m\u001b[32;1m in\u001b[0m\u001b[32;1m bone\u001b[0m\u001b[32;1m metast\u001b[0m\u001b[32;1mases\u001b[0m\u001b[32;1m from\u001b[0m\u001b[32;1m breast\u001b[0m\u001b[32;1m carcin\u001b[0m\u001b[32;1moma\u001b[0m\u001b[32;1m.\u001b[0m\u001b[32;1m</s>\u001b[0m\n",
      "\n",
      "\n"
     ]
    },
    {
     "name": "stderr",
     "output_type": "stream",
     "text": [
      "INFO:***** Running Evaluation *****\n",
      "INFO:  Num examples = 2970\n",
      "INFO:  Batch size = 32\n"
     ]
    },
    {
     "name": "stdout",
     "output_type": "stream",
     "text": [
      "\n",
      "\n",
      "\u001b[32;1m<s>\u001b[0m\u001b[32;1mPat\u001b[0m\u001b[32;1mient\u001b[0m\u001b[32;1m portal\u001b[0m\u001b[31;1m scoring[messaging]\u001b[0m\u001b[32;1m for\u001b[0m\u001b[32;1m care\u001b[0m\u001b[32;1m coordination\u001b[0m\u001b[32;1m:\u001b[0m\u001b[32;1m a\u001b[0m\u001b[32;1m qualitative\u001b[0m\u001b[32;1m study\u001b[0m\u001b[32;1m of\u001b[0m\u001b[32;1m perspectives\u001b[0m\u001b[32;1m of\u001b[0m\u001b[32;1m experienced\u001b[0m\u001b[32;1m users\u001b[0m\u001b[32;1m with\u001b[0m\u001b[32;1m chronic\u001b[0m\u001b[32;1m conditions\u001b[0m\u001b[32;1m</s>\u001b[0m\n",
      "\n",
      "\n"
     ]
    },
    {
     "name": "stderr",
     "output_type": "stream",
     "text": [
      "INFO:***** Running Evaluation *****\n",
      "INFO:  Num examples = 2970\n",
      "INFO:  Batch size = 32\n"
     ]
    },
    {
     "name": "stdout",
     "output_type": "stream",
     "text": [
      "\n",
      "\n",
      "\u001b[32;1m<s>\u001b[0m\u001b[32;1mDesign\u001b[0m\u001b[32;1m and\u001b[0m\u001b[32;1m development\u001b[0m\u001b[32;1m of\u001b[0m\u001b[32;1m intra\u001b[0m\u001b[32;1mocular\u001b[0m\u001b[32;1m poly\u001b[0m\u001b[32;1mmeric\u001b[0m\u001b[32;1m implant\u001b[0m\u001b[32;1m systems\u001b[0m\u001b[32;1m for\u001b[0m\u001b[32;1m long\u001b[0m\u001b[32;1m-\u001b[0m\u001b[32;1mterm\u001b[0m\u001b[32;1m controlled\u001b[0m\u001b[32;1m-\u001b[0m\u001b[32;1mrelease\u001b[0m\u001b[32;1m of\u001b[0m\u001b[32;1m cl\u001b[0m\u001b[32;1mind\u001b[0m\u001b[32;1mamy\u001b[0m\u001b[32;1mcin\u001b[0m\u001b[32;1m phosphate\u001b[0m\u001b[32;1m for\u001b[0m\u001b[31;1m muc[tox]\u001b[0m\u001b[32;1mopl\u001b[0m\u001b[32;1masm\u001b[0m\u001b[32;1mic\u001b[0m\u001b[32;1m ret\u001b[0m\u001b[31;1mic[ino]\u001b[0m\u001b[32;1mch\u001b[0m\u001b[32;1mor\u001b[0m\u001b[32;1moid\u001b[0m\u001b[32;1mitis\u001b[0m\u001b[32;1m</s>\u001b[0m\n",
      "\n",
      "\n"
     ]
    },
    {
     "name": "stderr",
     "output_type": "stream",
     "text": [
      "Saving model checkpoint to /lm_models/checkpoint-18000\n",
      "Trainer.model is not a `PreTrainedModel`, only saving its state dict.\n",
      "Deleting older checkpoint [/lm_models/checkpoint-15500] due to args.save_total_limit\n",
      "/opt/conda/lib/python3.8/site-packages/torch/nn/parallel/_functions.py:68: UserWarning: Was asked to gather along dimension 0, but all input tensors were scalars; will instead unsqueeze and return a vector.\n",
      "  warnings.warn('Was asked to gather along dimension 0, but all '\n",
      "INFO:***** Running Evaluation *****\n",
      "INFO:  Num examples = 2970\n",
      "INFO:  Batch size = 32\n"
     ]
    },
    {
     "name": "stdout",
     "output_type": "stream",
     "text": [
      "\n",
      "\n",
      "\u001b[32;1m<s>\u001b[0m\u001b[32;1mThe\u001b[0m\u001b[32;1m global\u001b[0m\u001b[32;1m economic\u001b[0m\u001b[32;1m crisis\u001b[0m\u001b[32;1m,\u001b[0m\u001b[32;1m household\u001b[0m\u001b[32;1m income\u001b[0m\u001b[32;1m and\u001b[0m\u001b[32;1m pre\u001b[0m\u001b[32;1m-\u001b[0m\u001b[32;1mad\u001b[0m\u001b[32;1molescent\u001b[0m\u001b[32;1m overweight\u001b[0m\u001b[32;1m and\u001b[0m\u001b[32;1m under\u001b[0m\u001b[32;1mweight\u001b[0m\u001b[32;1m:\u001b[0m\u001b[32;1m a\u001b[0m\u001b[32;1m nationwide\u001b[0m\u001b[32;1m birth\u001b[0m\u001b[32;1m cohort\u001b[0m\u001b[32;1m study\u001b[0m\u001b[32;1m in\u001b[0m\u001b[32;1m Japan\u001b[0m\u001b[32;1m</s>\u001b[0m\n",
      "\n",
      "\n"
     ]
    },
    {
     "name": "stderr",
     "output_type": "stream",
     "text": [
      "INFO:***** Running Evaluation *****\n",
      "INFO:  Num examples = 2970\n",
      "INFO:  Batch size = 32\n"
     ]
    },
    {
     "name": "stdout",
     "output_type": "stream",
     "text": [
      "\n",
      "\n",
      "\u001b[32;1m<s>\u001b[0m\u001b[31;1mPublisher[805]\u001b[0m\u001b[32;1m.\u001b[0m\u001b[32;1m Am\u001b[0m\u001b[32;1mik\u001b[0m\u001b[32;1mac\u001b[0m\u001b[32;1min\u001b[0m\u001b[32;1m Lip\u001b[0m\u001b[32;1mos\u001b[0m\u001b[32;1mome\u001b[0m\u001b[32;1m In\u001b[0m\u001b[32;1mhal\u001b[0m\u001b[32;1mation\u001b[0m\u001b[32;1m Susp\u001b[0m\u001b[32;1mension\u001b[0m\u001b[32;1m (\u001b[0m\u001b[31;1mQ[AL]\u001b[0m\u001b[32;1mIS\u001b[0m\u001b[32;1m)\u001b[0m\u001b[32;1m Add\u001b[0m\u001b[32;1m-\u001b[0m\u001b[32;1mon\u001b[0m\u001b[32;1m Therapy\u001b[0m\u001b[32;1m for\u001b[0m\u001b[32;1m Ref\u001b[0m\u001b[32;1mract\u001b[0m\u001b[32;1mory\u001b[0m\u001b[32;1m My\u001b[0m\u001b[32;1mc\u001b[0m\u001b[32;1mob\u001b[0m\u001b[32;1macter\u001b[0m\u001b[32;1mium\u001b[0m\u001b[32;1m av\u001b[0m\u001b[32;1mium\u001b[0m\u001b[32;1m Complex\u001b[0m\u001b[32;1m (\u001b[0m\u001b[31;1mEB[MAC]\u001b[0m\u001b[32;1m)\u001b[0m\u001b[31;1m Infect[Lung]\u001b[0m\u001b[31;1m Is[Disease]\u001b[0m\u001b[32;1m:\u001b[0m\u001b[31;1m In[Effect]\u001b[0m\u001b[31;1m on[of]\u001b[0m\u001b[32;1m In\u001b[0m\u001b[32;1m Vit\u001b[0m\u001b[32;1mro\u001b[0m\u001b[31;1m Ch[Am]\u001b[0m\u001b[31;1mn[ik]\u001b[0m\u001b[32;1mac\u001b[0m\u001b[32;1min\u001b[0m\u001b[31;1m on[Sus]\u001b[0m\u001b[32;1mcept\u001b[0m\u001b[32;1mibility\u001b[0m\u001b[32;1m on\u001b[0m\u001b[31;1m C[Sp]\u001b[0m\u001b[31;1minal[ut]\u001b[0m\u001b[32;1mum\u001b[0m\u001b[31;1m Formation[Culture]\u001b[0m\u001b[31;1m</s>[Conversion]\u001b[0m\u001b[32;1m</s>\u001b[0m\n",
      "\n",
      "\n"
     ]
    },
    {
     "name": "stderr",
     "output_type": "stream",
     "text": [
      "INFO:***** Running Evaluation *****\n",
      "INFO:  Num examples = 2970\n",
      "INFO:  Batch size = 32\n"
     ]
    },
    {
     "name": "stdout",
     "output_type": "stream",
     "text": [
      "\n",
      "\n",
      "\u001b[32;1m<s>\u001b[0m\u001b[32;1mDesign\u001b[0m\u001b[32;1m and\u001b[0m\u001b[32;1m development\u001b[0m\u001b[32;1m of\u001b[0m\u001b[32;1m intra\u001b[0m\u001b[32;1mocular\u001b[0m\u001b[32;1m poly\u001b[0m\u001b[32;1mmeric\u001b[0m\u001b[32;1m implant\u001b[0m\u001b[32;1m systems\u001b[0m\u001b[32;1m for\u001b[0m\u001b[32;1m long\u001b[0m\u001b[32;1m-\u001b[0m\u001b[32;1mterm\u001b[0m\u001b[32;1m controlled\u001b[0m\u001b[32;1m-\u001b[0m\u001b[32;1mrelease\u001b[0m\u001b[32;1m of\u001b[0m\u001b[32;1m cl\u001b[0m\u001b[31;1mif[ind]\u001b[0m\u001b[32;1mamy\u001b[0m\u001b[32;1mcin\u001b[0m\u001b[32;1m phosphate\u001b[0m\u001b[32;1m for\u001b[0m\u001b[31;1m muc[tox]\u001b[0m\u001b[32;1mopl\u001b[0m\u001b[32;1masm\u001b[0m\u001b[32;1mic\u001b[0m\u001b[32;1m ret\u001b[0m\u001b[31;1mic[ino]\u001b[0m\u001b[31;1mic[ch]\u001b[0m\u001b[32;1mor\u001b[0m\u001b[32;1moid\u001b[0m\u001b[32;1mitis\u001b[0m\u001b[32;1m</s>\u001b[0m\n",
      "\n",
      "\n"
     ]
    },
    {
     "name": "stderr",
     "output_type": "stream",
     "text": [
      "INFO:***** Running Evaluation *****\n",
      "INFO:  Num examples = 2970\n",
      "INFO:  Batch size = 32\n"
     ]
    },
    {
     "name": "stdout",
     "output_type": "stream",
     "text": [
      "\n",
      "\n",
      "\u001b[32;1m<s>\u001b[0m\u001b[32;1mTop\u001b[0m\u001b[31;1m Computer[Mobile]\u001b[0m\u001b[32;1m Applications\u001b[0m\u001b[32;1m in\u001b[0m\u001b[31;1m Surgery[Pediatrics]\u001b[0m\u001b[32;1m and\u001b[0m\u001b[32;1m Children\u001b[0m\u001b[32;1m�\u001b[0m\u001b[32;1m�\u001b[0m\u001b[32;1ms\u001b[0m\u001b[32;1m Health\u001b[0m\u001b[32;1m:\u001b[0m\u001b[32;1m Assessment\u001b[0m\u001b[32;1m and\u001b[0m\u001b[31;1m Precision[Intelligent]\u001b[0m\u001b[32;1m Analysis\u001b[0m\u001b[32;1m Tools\u001b[0m\u001b[32;1m for\u001b[0m\u001b[32;1m a\u001b[0m\u001b[32;1m System\u001b[0m\u001b[32;1matic\u001b[0m\u001b[32;1m Investigation\u001b[0m\u001b[32;1m</s>\u001b[0m\n",
      "\n",
      "\n"
     ]
    },
    {
     "name": "stderr",
     "output_type": "stream",
     "text": [
      "INFO:***** Running Evaluation *****\n",
      "INFO:  Num examples = 2970\n",
      "INFO:  Batch size = 32\n"
     ]
    },
    {
     "name": "stdout",
     "output_type": "stream",
     "text": [
      "\n",
      "\n",
      "\u001b[32;1m<s>\u001b[0m\u001b[32;1mS\u001b[0m\u001b[31;1must[int]\u001b[0m\u001b[32;1mil\u001b[0m\u001b[32;1mim\u001b[0m\u001b[32;1mab\u001b[0m\u001b[32;1m,\u001b[0m\u001b[32;1m a\u001b[0m\u001b[32;1m PD\u001b[0m\u001b[32;1m-\u001b[0m\u001b[32;1m1\u001b[0m\u001b[32;1m In\u001b[0m\u001b[32;1mhib\u001b[0m\u001b[32;1mitor\u001b[0m\u001b[32;1m,\u001b[0m\u001b[32;1m Complete\u001b[0m\u001b[32;1mly\u001b[0m\u001b[32;1m Re\u001b[0m\u001b[32;1mvers\u001b[0m\u001b[32;1med\u001b[0m\u001b[32;1m Rare\u001b[0m\u001b[32;1mly\u001b[0m\u001b[32;1m Ref\u001b[0m\u001b[32;1mract\u001b[0m\u001b[32;1mory\u001b[0m\u001b[32;1m Hyp\u001b[0m\u001b[31;1mop[of]\u001b[0m\u001b[32;1mibr\u001b[0m\u001b[31;1mill[in]\u001b[0m\u001b[32;1mogen\u001b[0m\u001b[32;1memia\u001b[0m\u001b[32;1m in\u001b[0m\u001b[32;1m a\u001b[0m\u001b[32;1m Gast\u001b[0m\u001b[32;1mric\u001b[0m\u001b[32;1m Cancer\u001b[0m\u001b[32;1m Patient\u001b[0m\u001b[32;1m:\u001b[0m\u001b[32;1m A\u001b[0m\u001b[32;1m Case\u001b[0m\u001b[32;1m Report\u001b[0m\u001b[32;1m and\u001b[0m\u001b[32;1m Review\u001b[0m\u001b[32;1m of\u001b[0m\u001b[32;1m the\u001b[0m\u001b[32;1m Literature\u001b[0m\u001b[32;1m</s>\u001b[0m\n",
      "\n",
      "\n"
     ]
    },
    {
     "name": "stderr",
     "output_type": "stream",
     "text": [
      "Saving model checkpoint to /lm_models/checkpoint-18500\n",
      "Trainer.model is not a `PreTrainedModel`, only saving its state dict.\n",
      "Deleting older checkpoint [/lm_models/checkpoint-16000] due to args.save_total_limit\n",
      "/opt/conda/lib/python3.8/site-packages/torch/nn/parallel/_functions.py:68: UserWarning: Was asked to gather along dimension 0, but all input tensors were scalars; will instead unsqueeze and return a vector.\n",
      "  warnings.warn('Was asked to gather along dimension 0, but all '\n",
      "INFO:***** Running Evaluation *****\n",
      "INFO:  Num examples = 2970\n",
      "INFO:  Batch size = 32\n"
     ]
    },
    {
     "name": "stdout",
     "output_type": "stream",
     "text": [
      "\n",
      "\n",
      "\u001b[32;1m<s>\u001b[0m\u001b[32;1mPro\u001b[0m\u001b[32;1mgn\u001b[0m\u001b[32;1mostic\u001b[0m\u001b[32;1m Role\u001b[0m\u001b[32;1m of\u001b[0m\u001b[32;1m High\u001b[0m\u001b[32;1m-\u001b[0m\u001b[32;1ms\u001b[0m\u001b[32;1mensitivity\u001b[0m\u001b[32;1m Card\u001b[0m\u001b[32;1miac\u001b[0m\u001b[32;1m Trop\u001b[0m\u001b[32;1mon\u001b[0m\u001b[32;1min\u001b[0m\u001b[32;1m I\u001b[0m\u001b[32;1m and\u001b[0m\u001b[32;1m Sol\u001b[0m\u001b[32;1muble\u001b[0m\u001b[32;1m Supp\u001b[0m\u001b[32;1mression\u001b[0m\u001b[32;1m of\u001b[0m\u001b[32;1m T\u001b[0m\u001b[32;1mum\u001b[0m\u001b[32;1mor\u001b[0m\u001b[32;1migen\u001b[0m\u001b[32;1micity\u001b[0m\u001b[32;1m-\u001b[0m\u001b[32;1m2\u001b[0m\u001b[32;1m in\u001b[0m\u001b[32;1m S\u001b[0m\u001b[32;1murgical\u001b[0m\u001b[32;1m Int\u001b[0m\u001b[32;1mensive\u001b[0m\u001b[32;1m Care\u001b[0m\u001b[32;1m Unit\u001b[0m\u001b[32;1m Patients\u001b[0m\u001b[32;1m Under\u001b[0m\u001b[32;1mgoing\u001b[0m\u001b[32;1m Non\u001b[0m\u001b[32;1m-\u001b[0m\u001b[32;1mcard\u001b[0m\u001b[32;1miac\u001b[0m\u001b[32;1m Surgery\u001b[0m\u001b[32;1m</s>\u001b[0m\n",
      "\n",
      "\n"
     ]
    },
    {
     "name": "stderr",
     "output_type": "stream",
     "text": [
      "INFO:***** Running Evaluation *****\n",
      "INFO:  Num examples = 2970\n",
      "INFO:  Batch size = 32\n"
     ]
    },
    {
     "name": "stdout",
     "output_type": "stream",
     "text": [
      "\n",
      "\n",
      "\u001b[32;1m<s>\u001b[0m\u001b[32;1mAdvanced\u001b[0m\u001b[31;1m naturally[moderately]\u001b[0m\u001b[32;1m differentiated\u001b[0m\u001b[32;1m neuro\u001b[0m\u001b[32;1mend\u001b[0m\u001b[32;1mocrine\u001b[0m\u001b[32;1m carcin\u001b[0m\u001b[32;1moma\u001b[0m\u001b[32;1m of\u001b[0m\u001b[32;1m the\u001b[0m\u001b[32;1m rect\u001b[0m\u001b[32;1mum\u001b[0m\u001b[32;1m with\u001b[0m\u001b[32;1m favorable\u001b[0m\u001b[32;1m prog\u001b[0m\u001b[32;1mnosis\u001b[0m\u001b[32;1m by\u001b[0m\u001b[32;1m post\u001b[0m\u001b[32;1moperative\u001b[0m\u001b[32;1m che\u001b[0m\u001b[32;1mmor\u001b[0m\u001b[32;1mad\u001b[0m\u001b[32;1miation\u001b[0m\u001b[32;1m</s>\u001b[0m\n",
      "\n",
      "\n"
     ]
    },
    {
     "name": "stderr",
     "output_type": "stream",
     "text": [
      "INFO:***** Running Evaluation *****\n",
      "INFO:  Num examples = 2970\n",
      "INFO:  Batch size = 32\n"
     ]
    },
    {
     "name": "stdout",
     "output_type": "stream",
     "text": [
      "\n",
      "\n",
      "\u001b[32;1m<s>\u001b[0m\u001b[32;1mCorrection\u001b[0m\u001b[32;1m to\u001b[0m\u001b[32;1m �\u001b[0m\u001b[32;1m�\u001b[0m\u001b[32;1mSw\u001b[0m\u001b[32;1mitching\u001b[0m\u001b[32;1m from\u001b[0m\u001b[32;1m Controlled\u001b[0m\u001b[32;1m Ring\u001b[0m\u001b[32;1m-\u001b[0m\u001b[32;1mOpening\u001b[0m\u001b[32;1m Poly\u001b[0m\u001b[32;1mmer\u001b[0m\u001b[32;1mization\u001b[0m\u001b[32;1m (\u001b[0m\u001b[32;1mc\u001b[0m\u001b[32;1mR\u001b[0m\u001b[32;1mOP\u001b[0m\u001b[32;1m)\u001b[0m\u001b[32;1m to\u001b[0m\u001b[32;1m Controlled\u001b[0m\u001b[31;1m Line[Ring]\u001b[0m\u001b[32;1m-\u001b[0m\u001b[32;1mCl\u001b[0m\u001b[32;1mosing\u001b[0m\u001b[32;1m Dep\u001b[0m\u001b[32;1moly\u001b[0m\u001b[32;1mmer\u001b[0m\u001b[32;1mization\u001b[0m\u001b[32;1m (\u001b[0m\u001b[32;1mc\u001b[0m\u001b[31;1mST[RC]\u001b[0m\u001b[31;1mP[DP]\u001b[0m\u001b[32;1m)\u001b[0m\u001b[31;1m to[by]\u001b[0m\u001b[31;1m Impro[Adjust]\u001b[0m\u001b[32;1ming\u001b[0m\u001b[32;1m the\u001b[0m\u001b[31;1m Stability[Reaction]\u001b[0m\u001b[31;1m Properties[Parameters]\u001b[0m\u001b[32;1m That\u001b[0m\u001b[32;1m Deter\u001b[0m\u001b[32;1mmine\u001b[0m\u001b[32;1m the\u001b[0m\u001b[31;1m Sodium[Ce]\u001b[0m\u001b[31;1mft[iling]\u001b[0m\u001b[32;1m Temperature\u001b[0m\u001b[32;1m�\u001b[0m\u001b[32;1m�\u001b[0m\u001b[32;1m</s>\u001b[0m\n",
      "\n",
      "\n"
     ]
    },
    {
     "name": "stderr",
     "output_type": "stream",
     "text": [
      "INFO:***** Running Evaluation *****\n",
      "INFO:  Num examples = 2970\n",
      "INFO:  Batch size = 32\n"
     ]
    },
    {
     "name": "stdout",
     "output_type": "stream",
     "text": [
      "\n",
      "\n",
      "\u001b[32;1m<s>\u001b[0m\u001b[32;1mTop\u001b[0m\u001b[31;1mical[Mobile]\u001b[0m\u001b[32;1m Applications\u001b[0m\u001b[32;1m in\u001b[0m\u001b[32;1m Pediatrics\u001b[0m\u001b[32;1m and\u001b[0m\u001b[32;1m Children\u001b[0m\u001b[32;1m�\u001b[0m\u001b[32;1m�\u001b[0m\u001b[32;1ms\u001b[0m\u001b[32;1m Health\u001b[0m\u001b[32;1m:\u001b[0m\u001b[32;1m Assessment\u001b[0m\u001b[32;1m and\u001b[0m\u001b[32;1m Intelligent\u001b[0m\u001b[32;1m Analysis\u001b[0m\u001b[32;1m Tools\u001b[0m\u001b[32;1m for\u001b[0m\u001b[32;1m a\u001b[0m\u001b[32;1m System\u001b[0m\u001b[32;1matic\u001b[0m\u001b[32;1m Investigation\u001b[0m\u001b[32;1m</s>\u001b[0m\n",
      "\n",
      "\n"
     ]
    },
    {
     "name": "stderr",
     "output_type": "stream",
     "text": [
      "INFO:***** Running Evaluation *****\n",
      "INFO:  Num examples = 2970\n",
      "INFO:  Batch size = 32\n"
     ]
    },
    {
     "name": "stdout",
     "output_type": "stream",
     "text": [
      "\n",
      "\n",
      "\u001b[32;1m<s>\u001b[0m\u001b[32;1mMult\u001b[0m\u001b[32;1mivariate\u001b[0m\u001b[32;1m Gen\u001b[0m\u001b[32;1mome\u001b[0m\u001b[32;1m-\u001b[0m\u001b[32;1mWide\u001b[0m\u001b[32;1m Association\u001b[0m\u001b[32;1m An\u001b[0m\u001b[32;1malyses\u001b[0m\u001b[32;1m Reve\u001b[0m\u001b[32;1mal\u001b[0m\u001b[32;1m the\u001b[0m\u001b[32;1m Genetic\u001b[0m\u001b[32;1m Bas\u001b[0m\u001b[32;1mis\u001b[0m\u001b[32;1m of\u001b[0m\u001b[32;1m Seed\u001b[0m\u001b[32;1m Fat\u001b[0m\u001b[32;1mty\u001b[0m\u001b[32;1m Acid\u001b[0m\u001b[32;1m Com\u001b[0m\u001b[32;1mposition\u001b[0m\u001b[32;1m in\u001b[0m\u001b[32;1m O\u001b[0m\u001b[32;1mat\u001b[0m\u001b[32;1m (\u001b[0m\u001b[31;1mAn[A]\u001b[0m\u001b[32;1mven\u001b[0m\u001b[32;1ma\u001b[0m\u001b[32;1m sat\u001b[0m\u001b[32;1miva\u001b[0m\u001b[32;1m L\u001b[0m\u001b[32;1m.)\u001b[0m\u001b[32;1m</s>\u001b[0m\n",
      "\n",
      "\n"
     ]
    },
    {
     "name": "stderr",
     "output_type": "stream",
     "text": [
      "Saving model checkpoint to /lm_models/checkpoint-19000\n",
      "Trainer.model is not a `PreTrainedModel`, only saving its state dict.\n",
      "Deleting older checkpoint [/lm_models/checkpoint-16500] due to args.save_total_limit\n",
      "/opt/conda/lib/python3.8/site-packages/torch/nn/parallel/_functions.py:68: UserWarning: Was asked to gather along dimension 0, but all input tensors were scalars; will instead unsqueeze and return a vector.\n",
      "  warnings.warn('Was asked to gather along dimension 0, but all '\n",
      "INFO:***** Running Evaluation *****\n",
      "INFO:  Num examples = 2970\n",
      "INFO:  Batch size = 32\n"
     ]
    },
    {
     "name": "stdout",
     "output_type": "stream",
     "text": [
      "\n",
      "\n",
      "\u001b[32;1m<s>\u001b[0m\u001b[32;1mThe\u001b[0m\u001b[32;1m impact\u001b[0m\u001b[32;1m of\u001b[0m\u001b[31;1m preserving[removing]\u001b[0m\u001b[32;1m financial\u001b[0m\u001b[32;1m incentives\u001b[0m\u001b[32;1m from\u001b[0m\u001b[32;1m clinical\u001b[0m\u001b[32;1m quality\u001b[0m\u001b[32;1m indicators\u001b[0m\u001b[32;1m:\u001b[0m\u001b[32;1m longitudinal\u001b[0m\u001b[32;1m analysis\u001b[0m\u001b[32;1m of\u001b[0m\u001b[32;1m four\u001b[0m\u001b[31;1m Finnish[Kaiser]\u001b[0m\u001b[32;1m P\u001b[0m\u001b[31;1maed[erman]\u001b[0m\u001b[31;1mently[ente]\u001b[0m\u001b[32;1m indicators\u001b[0m\u001b[32;1m</s>\u001b[0m\n",
      "\n",
      "\n"
     ]
    },
    {
     "name": "stderr",
     "output_type": "stream",
     "text": [
      "INFO:***** Running Evaluation *****\n",
      "INFO:  Num examples = 2970\n",
      "INFO:  Batch size = 32\n"
     ]
    },
    {
     "name": "stdout",
     "output_type": "stream",
     "text": [
      "\n",
      "\n",
      "\u001b[32;1m<s>\u001b[0m\u001b[32;1mSmall\u001b[0m\u001b[32;1m-\u001b[0m\u001b[32;1mfor\u001b[0m\u001b[32;1m-\u001b[0m\u001b[32;1mgest\u001b[0m\u001b[32;1mational\u001b[0m\u001b[32;1m age\u001b[0m\u001b[32;1m and\u001b[0m\u001b[32;1m its\u001b[0m\u001b[32;1m association\u001b[0m\u001b[32;1m with\u001b[0m\u001b[32;1m maternal\u001b[0m\u001b[32;1m blood\u001b[0m\u001b[32;1m glucose\u001b[0m\u001b[31;1m-[,]\u001b[0m\u001b[32;1m body\u001b[0m\u001b[32;1m mass\u001b[0m\u001b[32;1m index\u001b[0m\u001b[32;1m and\u001b[0m\u001b[31;1m waist[stature]\u001b[0m\u001b[32;1m:\u001b[0m\u001b[32;1m a\u001b[0m\u001b[32;1m per\u001b[0m\u001b[32;1min\u001b[0m\u001b[32;1matal\u001b[0m\u001b[32;1m cohort\u001b[0m\u001b[32;1m study\u001b[0m\u001b[32;1m among\u001b[0m\u001b[32;1m Chinese\u001b[0m\u001b[32;1m women\u001b[0m\u001b[32;1m</s>\u001b[0m\n",
      "\n",
      "\n"
     ]
    },
    {
     "name": "stderr",
     "output_type": "stream",
     "text": [
      "INFO:***** Running Evaluation *****\n",
      "INFO:  Num examples = 2970\n",
      "INFO:  Batch size = 32\n"
     ]
    },
    {
     "name": "stdout",
     "output_type": "stream",
     "text": [
      "\n",
      "\n",
      "\u001b[32;1m<s>\u001b[0m\u001b[32;1mAdvanced\u001b[0m\u001b[31;1m partially[moderately]\u001b[0m\u001b[32;1m differentiated\u001b[0m\u001b[32;1m neuro\u001b[0m\u001b[32;1mend\u001b[0m\u001b[32;1mocrine\u001b[0m\u001b[32;1m carcin\u001b[0m\u001b[32;1moma\u001b[0m\u001b[32;1m of\u001b[0m\u001b[32;1m the\u001b[0m\u001b[32;1m rect\u001b[0m\u001b[32;1mum\u001b[0m\u001b[32;1m with\u001b[0m\u001b[32;1m favorable\u001b[0m\u001b[32;1m prog\u001b[0m\u001b[32;1mnosis\u001b[0m\u001b[32;1m by\u001b[0m\u001b[32;1m post\u001b[0m\u001b[32;1moperative\u001b[0m\u001b[32;1m che\u001b[0m\u001b[32;1mmor\u001b[0m\u001b[32;1mad\u001b[0m\u001b[32;1miation\u001b[0m\u001b[32;1m</s>\u001b[0m\n",
      "\n",
      "\n"
     ]
    },
    {
     "name": "stderr",
     "output_type": "stream",
     "text": [
      "INFO:***** Running Evaluation *****\n",
      "INFO:  Num examples = 2970\n",
      "INFO:  Batch size = 32\n"
     ]
    },
    {
     "name": "stdout",
     "output_type": "stream",
     "text": [
      "\n",
      "\n",
      "\u001b[32;1m<s>\u001b[0m\u001b[32;1mThe\u001b[0m\u001b[32;1m Chinese\u001b[0m\u001b[32;1m Her\u001b[0m\u001b[32;1mbal\u001b[0m\u001b[32;1m Formula\u001b[0m\u001b[31;1m Hu[Shen]\u001b[0m\u001b[32;1mz\u001b[0m\u001b[31;1mhi[hu]\u001b[0m\u001b[32;1m T\u001b[0m\u001b[32;1mia\u001b[0m\u001b[32;1mop\u001b[0m\u001b[31;1mro[i]\u001b[0m\u001b[31;1mene[Gran]\u001b[0m\u001b[32;1mule\u001b[0m\u001b[32;1m Results\u001b[0m\u001b[32;1m in\u001b[0m\u001b[32;1m Met\u001b[0m\u001b[32;1mabolic\u001b[0m\u001b[32;1m Improvement\u001b[0m\u001b[32;1m in\u001b[0m\u001b[32;1m Type\u001b[0m\u001b[32;1m 2\u001b[0m\u001b[32;1m Di\u001b[0m\u001b[32;1mabetic\u001b[0m\u001b[32;1m Rats\u001b[0m\u001b[32;1m by\u001b[0m\u001b[32;1m Mod\u001b[0m\u001b[32;1mulating\u001b[0m\u001b[32;1m the\u001b[0m\u001b[32;1m Gut\u001b[0m\u001b[32;1m Micro\u001b[0m\u001b[32;1mbi\u001b[0m\u001b[32;1mota\u001b[0m\u001b[32;1m</s>\u001b[0m\n",
      "\n",
      "\n"
     ]
    },
    {
     "name": "stderr",
     "output_type": "stream",
     "text": [
      "INFO:***** Running Evaluation *****\n",
      "INFO:  Num examples = 2970\n",
      "INFO:  Batch size = 32\n"
     ]
    },
    {
     "name": "stdout",
     "output_type": "stream",
     "text": [
      "\n",
      "\n",
      "\u001b[32;1m<s>\u001b[0m\u001b[32;1mCompar\u001b[0m\u001b[32;1mison\u001b[0m\u001b[32;1m of\u001b[0m\u001b[32;1m Performance\u001b[0m\u001b[32;1m Achievement\u001b[0m\u001b[31;1m Check[Award]\u001b[0m\u001b[32;1m Recogn\u001b[0m\u001b[32;1mition\u001b[0m\u001b[32;1m With\u001b[0m\u001b[32;1m Primary\u001b[0m\u001b[32;1m Stro\u001b[0m\u001b[32;1mke\u001b[0m\u001b[32;1m Center\u001b[0m\u001b[31;1m Audit[Certification]\u001b[0m\u001b[32;1m for\u001b[0m\u001b[32;1m Ac\u001b[0m\u001b[32;1mute\u001b[0m\u001b[32;1m Is\u001b[0m\u001b[32;1mche\u001b[0m\u001b[32;1mmic\u001b[0m\u001b[32;1m Stro\u001b[0m\u001b[32;1mke\u001b[0m\u001b[32;1m Care\u001b[0m\u001b[32;1m</s>\u001b[0m\n",
      "\n",
      "\n"
     ]
    },
    {
     "name": "stderr",
     "output_type": "stream",
     "text": [
      "Saving model checkpoint to /lm_models/checkpoint-19500\n",
      "Trainer.model is not a `PreTrainedModel`, only saving its state dict.\n",
      "Deleting older checkpoint [/lm_models/checkpoint-17000] due to args.save_total_limit\n",
      "/opt/conda/lib/python3.8/site-packages/torch/nn/parallel/_functions.py:68: UserWarning: Was asked to gather along dimension 0, but all input tensors were scalars; will instead unsqueeze and return a vector.\n",
      "  warnings.warn('Was asked to gather along dimension 0, but all '\n",
      "INFO:***** Running Evaluation *****\n",
      "INFO:  Num examples = 2970\n",
      "INFO:  Batch size = 32\n"
     ]
    },
    {
     "name": "stdout",
     "output_type": "stream",
     "text": [
      "\n",
      "\n",
      "\u001b[32;1m<s>\u001b[0m\u001b[32;1mCl\u001b[0m\u001b[32;1minical\u001b[0m\u001b[32;1m practice\u001b[0m\u001b[32;1m guidelines\u001b[0m\u001b[32;1m for\u001b[0m\u001b[32;1m the\u001b[0m\u001b[32;1m surgical\u001b[0m\u001b[32;1m management\u001b[0m\u001b[32;1m of\u001b[0m\u001b[32;1m colon\u001b[0m\u001b[32;1m cancer\u001b[0m\u001b[32;1m:\u001b[0m\u001b[32;1m a\u001b[0m\u001b[32;1m consensus\u001b[0m\u001b[32;1m statement\u001b[0m\u001b[32;1m of\u001b[0m\u001b[32;1m the\u001b[0m\u001b[31;1m Epic[Hell]\u001b[0m\u001b[32;1menic\u001b[0m\u001b[32;1m and\u001b[0m\u001b[32;1m Cy\u001b[0m\u001b[31;1mto[pri]\u001b[0m\u001b[32;1mot\u001b[0m\u001b[32;1m Col\u001b[0m\u001b[32;1more\u001b[0m\u001b[32;1mct\u001b[0m\u001b[32;1mal\u001b[0m\u001b[32;1m Cancer\u001b[0m\u001b[32;1m Study\u001b[0m\u001b[32;1m Group\u001b[0m\u001b[32;1m by\u001b[0m\u001b[32;1m the\u001b[0m\u001b[32;1m He\u001b[0m\u001b[31;1mu[S]\u001b[0m\u001b[31;1mLC[MO]\u001b[0m\u001b[32;1m*\u001b[0m\u001b[32;1m</s>\u001b[0m\n",
      "\n",
      "\n"
     ]
    },
    {
     "name": "stderr",
     "output_type": "stream",
     "text": [
      "INFO:***** Running Evaluation *****\n",
      "INFO:  Num examples = 2970\n",
      "INFO:  Batch size = 32\n"
     ]
    },
    {
     "name": "stdout",
     "output_type": "stream",
     "text": [
      "\n",
      "\n",
      "\u001b[32;1m<s>\u001b[0m\u001b[32;1mFirst\u001b[0m\u001b[32;1m-\u001b[0m\u001b[31;1mtime[response]\u001b[0m\u001b[32;1m treatment\u001b[0m\u001b[32;1m after\u001b[0m\u001b[32;1m out\u001b[0m\u001b[32;1m-\u001b[0m\u001b[32;1mof\u001b[0m\u001b[32;1m-\u001b[0m\u001b[32;1mhospital\u001b[0m\u001b[32;1m cardiac\u001b[0m\u001b[32;1m arrest\u001b[0m\u001b[32;1m:\u001b[0m\u001b[32;1m a\u001b[0m\u001b[32;1m survey\u001b[0m\u001b[32;1m of\u001b[0m\u001b[32;1m current\u001b[0m\u001b[32;1m practices\u001b[0m\u001b[32;1m across\u001b[0m\u001b[31;1m 7[29]\u001b[0m\u001b[32;1m countries\u001b[0m\u001b[32;1m in\u001b[0m\u001b[32;1m Europe\u001b[0m\u001b[32;1m</s>\u001b[0m\n",
      "\n",
      "\n"
     ]
    },
    {
     "name": "stderr",
     "output_type": "stream",
     "text": [
      "INFO:***** Running Evaluation *****\n",
      "INFO:  Num examples = 2970\n",
      "INFO:  Batch size = 32\n"
     ]
    },
    {
     "name": "stdout",
     "output_type": "stream",
     "text": [
      "\n",
      "\n",
      "\u001b[32;1m<s>\u001b[0m\u001b[32;1mA\u001b[0m\u001b[32;1m 60\u001b[0m\u001b[31;1m°[Hz]\u001b[0m\u001b[31;1m static[uniform]\u001b[0m\u001b[32;1m electromagnetic\u001b[0m\u001b[32;1m field\u001b[0m\u001b[32;1m promotes\u001b[0m\u001b[32;1m human\u001b[0m\u001b[32;1m cell\u001b[0m\u001b[32;1m proliferation\u001b[0m\u001b[32;1m by\u001b[0m\u001b[31;1m reducing[decreasing]\u001b[0m\u001b[32;1m intr\u001b[0m\u001b[32;1mace\u001b[0m\u001b[32;1mllular\u001b[0m\u001b[32;1m reactive\u001b[0m\u001b[32;1m oxygen\u001b[0m\u001b[32;1m species\u001b[0m\u001b[32;1m levels\u001b[0m\u001b[32;1m</s>\u001b[0m\n",
      "\n",
      "\n"
     ]
    },
    {
     "name": "stderr",
     "output_type": "stream",
     "text": [
      "INFO:***** Running Evaluation *****\n",
      "INFO:  Num examples = 2970\n",
      "INFO:  Batch size = 32\n"
     ]
    },
    {
     "name": "stdout",
     "output_type": "stream",
     "text": [
      "\n",
      "\n",
      "\u001b[32;1m<s>\u001b[0m\u001b[32;1mThe\u001b[0m\u001b[32;1m impact\u001b[0m\u001b[32;1m of\u001b[0m\u001b[31;1m preserving[removing]\u001b[0m\u001b[32;1m financial\u001b[0m\u001b[32;1m incentives\u001b[0m\u001b[32;1m from\u001b[0m\u001b[32;1m clinical\u001b[0m\u001b[32;1m quality\u001b[0m\u001b[32;1m indicators\u001b[0m\u001b[32;1m:\u001b[0m\u001b[32;1m longitudinal\u001b[0m\u001b[32;1m analysis\u001b[0m\u001b[32;1m of\u001b[0m\u001b[32;1m four\u001b[0m\u001b[31;1m Weekly[Kaiser]\u001b[0m\u001b[32;1m P\u001b[0m\u001b[32;1merman\u001b[0m\u001b[31;1mently[ente]\u001b[0m\u001b[32;1m indicators\u001b[0m\u001b[32;1m</s>\u001b[0m\n",
      "\n",
      "\n"
     ]
    },
    {
     "name": "stderr",
     "output_type": "stream",
     "text": [
      "INFO:***** Running Evaluation *****\n",
      "INFO:  Num examples = 2970\n",
      "INFO:  Batch size = 32\n"
     ]
    },
    {
     "name": "stdout",
     "output_type": "stream",
     "text": [
      "\n",
      "\n",
      "\u001b[32;1m<s>\u001b[0m\u001b[32;1mPat\u001b[0m\u001b[32;1mient\u001b[0m\u001b[32;1m portal\u001b[0m\u001b[31;1m scoring[messaging]\u001b[0m\u001b[32;1m for\u001b[0m\u001b[32;1m care\u001b[0m\u001b[32;1m coordination\u001b[0m\u001b[32;1m:\u001b[0m\u001b[32;1m a\u001b[0m\u001b[32;1m qualitative\u001b[0m\u001b[32;1m study\u001b[0m\u001b[32;1m of\u001b[0m\u001b[32;1m perspectives\u001b[0m\u001b[32;1m of\u001b[0m\u001b[32;1m experienced\u001b[0m\u001b[32;1m users\u001b[0m\u001b[32;1m with\u001b[0m\u001b[32;1m chronic\u001b[0m\u001b[32;1m conditions\u001b[0m\u001b[32;1m</s>\u001b[0m\n",
      "\n",
      "\n"
     ]
    },
    {
     "name": "stderr",
     "output_type": "stream",
     "text": [
      "Saving model checkpoint to /lm_models/checkpoint-20000\n",
      "Trainer.model is not a `PreTrainedModel`, only saving its state dict.\n",
      "Deleting older checkpoint [/lm_models/checkpoint-17500] due to args.save_total_limit\n",
      "/opt/conda/lib/python3.8/site-packages/torch/nn/parallel/_functions.py:68: UserWarning: Was asked to gather along dimension 0, but all input tensors were scalars; will instead unsqueeze and return a vector.\n",
      "  warnings.warn('Was asked to gather along dimension 0, but all '\n",
      "INFO:***** Running Evaluation *****\n",
      "INFO:  Num examples = 2970\n",
      "INFO:  Batch size = 32\n"
     ]
    },
    {
     "name": "stdout",
     "output_type": "stream",
     "text": [
      "\n",
      "\n",
      "\u001b[32;1m<s>\u001b[0m\u001b[32;1mD\u001b[0m\u001b[32;1mise\u001b[0m\u001b[32;1mase\u001b[0m\u001b[32;1m manifestations\u001b[0m\u001b[32;1m of\u001b[0m\u001b[32;1m Helic\u001b[0m\u001b[32;1mob\u001b[0m\u001b[32;1macter\u001b[0m\u001b[32;1m p\u001b[0m\u001b[32;1myl\u001b[0m\u001b[32;1mori\u001b[0m\u001b[32;1m infection\u001b[0m\u001b[32;1m in\u001b[0m\u001b[32;1m Arctic\u001b[0m\u001b[32;1m Canada\u001b[0m\u001b[32;1m:\u001b[0m\u001b[32;1m using\u001b[0m\u001b[32;1m epidem\u001b[0m\u001b[32;1miology\u001b[0m\u001b[32;1m to\u001b[0m\u001b[32;1m address\u001b[0m\u001b[32;1m community\u001b[0m\u001b[32;1m concerns\u001b[0m\u001b[32;1m</s>\u001b[0m\n",
      "\n",
      "\n"
     ]
    },
    {
     "name": "stderr",
     "output_type": "stream",
     "text": [
      "INFO:***** Running Evaluation *****\n",
      "INFO:  Num examples = 2970\n",
      "INFO:  Batch size = 32\n"
     ]
    },
    {
     "name": "stdout",
     "output_type": "stream",
     "text": [
      "\n",
      "\n",
      "\u001b[32;1m<s>\u001b[0m\u001b[32;1mPre\u001b[0m\u001b[32;1mval\u001b[0m\u001b[32;1mence\u001b[0m\u001b[32;1m,\u001b[0m\u001b[32;1m intensity\u001b[0m\u001b[32;1m and\u001b[0m\u001b[32;1m risk\u001b[0m\u001b[32;1m factors\u001b[0m\u001b[32;1m of\u001b[0m\u001b[32;1m t\u001b[0m\u001b[32;1mung\u001b[0m\u001b[31;1msten[iasis]\u001b[0m\u001b[32;1m in\u001b[0m\u001b[32;1m Kil\u001b[0m\u001b[32;1mifi\u001b[0m\u001b[32;1m County\u001b[0m\u001b[32;1m,\u001b[0m\u001b[32;1m Kenya\u001b[0m\u001b[31;1m:[II]\u001b[0m\u001b[32;1m:\u001b[0m\u001b[32;1m Results\u001b[0m\u001b[32;1m from\u001b[0m\u001b[32;1m a\u001b[0m\u001b[32;1m school\u001b[0m\u001b[32;1m-\u001b[0m\u001b[32;1mbased\u001b[0m\u001b[32;1m observational\u001b[0m\u001b[32;1m study\u001b[0m\u001b[32;1m</s>\u001b[0m\n",
      "\n",
      "\n"
     ]
    },
    {
     "name": "stderr",
     "output_type": "stream",
     "text": [
      "INFO:***** Running Evaluation *****\n",
      "INFO:  Num examples = 2970\n",
      "INFO:  Batch size = 32\n"
     ]
    },
    {
     "name": "stdout",
     "output_type": "stream",
     "text": [
      "\n",
      "\n",
      "\u001b[32;1m<s>\u001b[0m\u001b[32;1mEnd\u001b[0m\u001b[32;1mogenous\u001b[0m\u001b[32;1m insulin\u001b[0m\u001b[32;1m secretion\u001b[0m\u001b[31;1m only[even]\u001b[0m\u001b[32;1m at\u001b[0m\u001b[32;1m a\u001b[0m\u001b[32;1m very\u001b[0m\u001b[32;1m low\u001b[0m\u001b[32;1m level\u001b[0m\u001b[32;1m contributes\u001b[0m\u001b[32;1m to\u001b[0m\u001b[32;1m the\u001b[0m\u001b[32;1m stability\u001b[0m\u001b[32;1m of\u001b[0m\u001b[32;1m blood\u001b[0m\u001b[32;1m glucose\u001b[0m\u001b[32;1m control\u001b[0m\u001b[32;1m in\u001b[0m\u001b[32;1m ful\u001b[0m\u001b[32;1mmin\u001b[0m\u001b[32;1mant\u001b[0m\u001b[32;1m type\u001b[0m\u001b[32;1m 1\u001b[0m\u001b[32;1m diabetes\u001b[0m\u001b[32;1m</s>\u001b[0m\n",
      "\n",
      "\n"
     ]
    },
    {
     "name": "stderr",
     "output_type": "stream",
     "text": [
      "INFO:***** Running Evaluation *****\n",
      "INFO:  Num examples = 2970\n",
      "INFO:  Batch size = 32\n"
     ]
    },
    {
     "name": "stdout",
     "output_type": "stream",
     "text": [
      "\n",
      "\n",
      "\u001b[32;1m<s>\u001b[0m\u001b[32;1mN\u001b[0m\u001b[32;1mano\u001b[0m\u001b[32;1m-\u001b[0m\u001b[32;1mP\u001b[0m\u001b[32;1mulse\u001b[0m\u001b[32;1m Stim\u001b[0m\u001b[32;1mulation\u001b[0m\u001b[32;1m Ab\u001b[0m\u001b[32;1ml\u001b[0m\u001b[31;1mants[ates]\u001b[0m\u001b[32;1m Orth\u001b[0m\u001b[32;1mot\u001b[0m\u001b[32;1mopic\u001b[0m\u001b[32;1m Rat\u001b[0m\u001b[32;1m Hep\u001b[0m\u001b[32;1mato\u001b[0m\u001b[32;1mcell\u001b[0m\u001b[32;1mular\u001b[0m\u001b[32;1m Car\u001b[0m\u001b[32;1mcin\u001b[0m\u001b[32;1moma\u001b[0m\u001b[32;1m and\u001b[0m\u001b[32;1m Ind\u001b[0m\u001b[32;1muces\u001b[0m\u001b[32;1m Inn\u001b[0m\u001b[32;1mate\u001b[0m\u001b[32;1m and\u001b[0m\u001b[32;1m Adapt\u001b[0m\u001b[32;1mive\u001b[0m\u001b[32;1m Memory\u001b[0m\u001b[32;1m Imm\u001b[0m\u001b[32;1mune\u001b[0m\u001b[31;1m Respons[Mechan]\u001b[0m\u001b[32;1misms\u001b[0m\u001b[32;1m that\u001b[0m\u001b[32;1m Prevent\u001b[0m\u001b[32;1m Rec\u001b[0m\u001b[32;1murrence\u001b[0m\u001b[32;1m</s>\u001b[0m\n",
      "\n",
      "\n"
     ]
    },
    {
     "name": "stderr",
     "output_type": "stream",
     "text": [
      "INFO:***** Running Evaluation *****\n",
      "INFO:  Num examples = 2970\n",
      "INFO:  Batch size = 32\n"
     ]
    },
    {
     "name": "stdout",
     "output_type": "stream",
     "text": [
      "\n",
      "\n",
      "\u001b[32;1m<s>\u001b[0m\u001b[32;1mCase\u001b[0m\u001b[32;1m of\u001b[0m\u001b[32;1m En\u001b[0m\u001b[32;1mlarg\u001b[0m\u001b[32;1mement\u001b[0m\u001b[32;1m of\u001b[0m\u001b[32;1m the\u001b[0m\u001b[32;1m Heart\u001b[0m\u001b[32;1m,\u001b[0m\u001b[32;1m with\u001b[0m\u001b[32;1m Poly\u001b[0m\u001b[31;1m[[[pi]\u001b[0m\u001b[32;1m,\u001b[0m\u001b[32;1m &\u001b[0m\u001b[32;1mc\u001b[0m\u001b[32;1m.\u001b[0m\u001b[32;1m Which\u001b[0m\u001b[32;1m Occ\u001b[0m\u001b[31;1murring[urred]\u001b[0m\u001b[32;1m on\u001b[0m\u001b[32;1m Board\u001b[0m\u001b[32;1m the\u001b[0m\u001b[31;1m Proper[Honour]\u001b[0m\u001b[32;1mable\u001b[0m\u001b[32;1m East\u001b[0m\u001b[32;1m India\u001b[0m\u001b[31;1m Scheme[Company]\u001b[0m\u001b[32;1m's\u001b[0m\u001b[31;1m Stone[Ship]\u001b[0m\u001b[31;1m Bucc[Carn]\u001b[0m\u001b[31;1mival[atic]\u001b[0m\u001b[32;1m</s>\u001b[0m\n",
      "\n",
      "\n"
     ]
    },
    {
     "name": "stderr",
     "output_type": "stream",
     "text": [
      "Saving model checkpoint to /lm_models/checkpoint-20500\n",
      "Trainer.model is not a `PreTrainedModel`, only saving its state dict.\n",
      "Deleting older checkpoint [/lm_models/checkpoint-18000] due to args.save_total_limit\n",
      "/opt/conda/lib/python3.8/site-packages/torch/nn/parallel/_functions.py:68: UserWarning: Was asked to gather along dimension 0, but all input tensors were scalars; will instead unsqueeze and return a vector.\n",
      "  warnings.warn('Was asked to gather along dimension 0, but all '\n",
      "INFO:***** Running Evaluation *****\n",
      "INFO:  Num examples = 2970\n",
      "INFO:  Batch size = 32\n"
     ]
    },
    {
     "name": "stdout",
     "output_type": "stream",
     "text": [
      "\n",
      "\n",
      "\u001b[32;1m<s>\u001b[0m\u001b[32;1mMe\u001b[0m\u001b[32;1miotic\u001b[0m\u001b[32;1m analyses\u001b[0m\u001b[31;1m indicate[show]\u001b[0m\u001b[32;1m adaptations\u001b[0m\u001b[32;1m to\u001b[0m\u001b[32;1m maintenance\u001b[0m\u001b[32;1m of\u001b[0m\u001b[32;1m fertility\u001b[0m\u001b[32;1m in\u001b[0m\u001b[32;1m X\u001b[0m\u001b[32;1m1\u001b[0m\u001b[32;1mY\u001b[0m\u001b[32;1m1\u001b[0m\u001b[32;1mX\u001b[0m\u001b[32;1m2\u001b[0m\u001b[31;1mX[Y]\u001b[0m\u001b[32;1m2\u001b[0m\u001b[32;1mX\u001b[0m\u001b[32;1m3\u001b[0m\u001b[31;1mK[Y]\u001b[0m\u001b[32;1m3\u001b[0m\u001b[32;1mX\u001b[0m\u001b[32;1m4\u001b[0m\u001b[32;1mY\u001b[0m\u001b[32;1m4\u001b[0m\u001b[31;1mx[X]\u001b[0m\u001b[32;1m5\u001b[0m\u001b[32;1mY\u001b[0m\u001b[31;1m complex[5]\u001b[0m\u001b[32;1m system\u001b[0m\u001b[31;1m that[of]\u001b[0m\u001b[31;1m Le[am]\u001b[0m\u001b[31;1mel[azon]\u001b[0m\u001b[31;1mus[frog]\u001b[0m\u001b[31;1m ad[Le]\u001b[0m\u001b[32;1mpt\u001b[0m\u001b[32;1mod\u001b[0m\u001b[31;1men[act]\u001b[0m\u001b[32;1myl\u001b[0m\u001b[31;1men[us]\u001b[0m\u001b[31;1m er[pent]\u001b[0m\u001b[31;1mat[ad]\u001b[0m\u001b[31;1mend[act]\u001b[0m\u001b[32;1myl\u001b[0m\u001b[32;1mus\u001b[0m\u001b[32;1m (\u001b[0m\u001b[31;1mJ[La]\u001b[0m\u001b[31;1mev[ure]\u001b[0m\u001b[31;1mlla[nt]\u001b[0m\u001b[31;1mhes[i]\u001b[0m\u001b[31;1m)[,]\u001b[0m\u001b[32;1m 17\u001b[0m\u001b[31;1m58[68]\u001b[0m\u001b[32;1m)\u001b[0m\u001b[32;1m</s>\u001b[0m\n",
      "\n",
      "\n"
     ]
    },
    {
     "name": "stderr",
     "output_type": "stream",
     "text": [
      "INFO:***** Running Evaluation *****\n",
      "INFO:  Num examples = 2970\n",
      "INFO:  Batch size = 32\n"
     ]
    },
    {
     "name": "stdout",
     "output_type": "stream",
     "text": [
      "\n",
      "\n",
      "\u001b[32;1m<s>\u001b[0m\u001b[32;1mConsider\u001b[0m\u001b[32;1mations\u001b[0m\u001b[32;1m regarding\u001b[0m\u001b[32;1m treatment\u001b[0m\u001b[32;1m efficiency\u001b[0m\u001b[32;1m,\u001b[0m\u001b[32;1m diss\u001b[0m\u001b[32;1moci\u001b[0m\u001b[32;1mative\u001b[0m\u001b[32;1m parts\u001b[0m\u001b[32;1m and\u001b[0m\u001b[32;1m diss\u001b[0m\u001b[32;1moci\u001b[0m\u001b[32;1mative\u001b[0m\u001b[32;1m am\u001b[0m\u001b[32;1mnesia\u001b[0m\u001b[32;1m for\u001b[0m\u001b[31;1m Rick[Hunt]\u001b[0m\u001b[32;1mj\u001b[0m\u001b[32;1mens\u001b[0m\u001b[32;1m et\u001b[0m\u001b[32;1m al\u001b[0m\u001b[32;1m.\u001b[0m\u001b[32;1m�\u001b[0m\u001b[32;1m�\u001b[0m\u001b[32;1ms\u001b[0m\u001b[31;1m Po[Sche]\u001b[0m\u001b[32;1mma\u001b[0m\u001b[32;1m Therapy\u001b[0m\u001b[32;1m for\u001b[0m\u001b[32;1m Diss\u001b[0m\u001b[32;1moci\u001b[0m\u001b[32;1mative\u001b[0m\u001b[32;1m Identity\u001b[0m\u001b[32;1m Disorder\u001b[0m\u001b[32;1m</s>\u001b[0m\n",
      "\n",
      "\n"
     ]
    },
    {
     "name": "stderr",
     "output_type": "stream",
     "text": [
      "INFO:***** Running Evaluation *****\n",
      "INFO:  Num examples = 2970\n",
      "INFO:  Batch size = 32\n"
     ]
    },
    {
     "name": "stdout",
     "output_type": "stream",
     "text": [
      "\n",
      "\n",
      "\u001b[32;1m<s>\u001b[0m\u001b[32;1mFirst\u001b[0m\u001b[32;1m-\u001b[0m\u001b[31;1mtime[response]\u001b[0m\u001b[32;1m treatment\u001b[0m\u001b[32;1m after\u001b[0m\u001b[32;1m out\u001b[0m\u001b[32;1m-\u001b[0m\u001b[32;1mof\u001b[0m\u001b[32;1m-\u001b[0m\u001b[32;1mhospital\u001b[0m\u001b[32;1m cardiac\u001b[0m\u001b[32;1m arrest\u001b[0m\u001b[32;1m:\u001b[0m\u001b[32;1m a\u001b[0m\u001b[32;1m survey\u001b[0m\u001b[32;1m of\u001b[0m\u001b[32;1m current\u001b[0m\u001b[32;1m practices\u001b[0m\u001b[32;1m across\u001b[0m\u001b[32;1m 29\u001b[0m\u001b[32;1m countries\u001b[0m\u001b[32;1m in\u001b[0m\u001b[32;1m Europe\u001b[0m\u001b[32;1m</s>\u001b[0m\n",
      "\n",
      "\n"
     ]
    },
    {
     "name": "stderr",
     "output_type": "stream",
     "text": [
      "INFO:***** Running Evaluation *****\n",
      "INFO:  Num examples = 2970\n",
      "INFO:  Batch size = 32\n"
     ]
    },
    {
     "name": "stdout",
     "output_type": "stream",
     "text": [
      "\n",
      "\n",
      "\u001b[32;1m<s>\u001b[0m\u001b[32;1mDet\u001b[0m\u001b[32;1mection\u001b[0m\u001b[32;1m of\u001b[0m\u001b[32;1m a\u001b[0m\u001b[32;1m CT\u001b[0m\u001b[32;1mX\u001b[0m\u001b[32;1m-\u001b[0m\u001b[32;1mM\u001b[0m\u001b[32;1m group\u001b[0m\u001b[32;1m 2\u001b[0m\u001b[32;1m beta\u001b[0m\u001b[32;1m-\u001b[0m\u001b[32;1ml\u001b[0m\u001b[32;1mact\u001b[0m\u001b[32;1mam\u001b[0m\u001b[32;1mase\u001b[0m\u001b[32;1m gene\u001b[0m\u001b[32;1m in\u001b[0m\u001b[32;1m a\u001b[0m\u001b[32;1m Kle\u001b[0m\u001b[32;1mbs\u001b[0m\u001b[32;1mie\u001b[0m\u001b[32;1mlla\u001b[0m\u001b[32;1m pneumonia\u001b[0m\u001b[32;1me\u001b[0m\u001b[31;1m isolated[isolate]\u001b[0m\u001b[32;1m from\u001b[0m\u001b[32;1m a\u001b[0m\u001b[32;1m tert\u001b[0m\u001b[32;1miary\u001b[0m\u001b[32;1m care\u001b[0m\u001b[32;1m hospital\u001b[0m\u001b[32;1m,\u001b[0m\u001b[31;1m Bots[Trinidad]\u001b[0m\u001b[32;1m and\u001b[0m\u001b[31;1m Herz[Tob]\u001b[0m\u001b[32;1mago\u001b[0m\u001b[32;1m</s>\u001b[0m\n",
      "\n",
      "\n"
     ]
    },
    {
     "name": "stderr",
     "output_type": "stream",
     "text": [
      "INFO:***** Running Evaluation *****\n",
      "INFO:  Num examples = 2970\n",
      "INFO:  Batch size = 32\n"
     ]
    },
    {
     "name": "stdout",
     "output_type": "stream",
     "text": [
      "\n",
      "\n",
      "\u001b[32;1m<s>\u001b[0m\u001b[32;1mTarget\u001b[0m\u001b[32;1m-\u001b[0m\u001b[31;1mrepresent[similar]\u001b[0m\u001b[32;1mity\u001b[0m\u001b[32;1m search\u001b[0m\u001b[32;1m using\u001b[0m\u001b[32;1m Pl\u001b[0m\u001b[32;1mas\u001b[0m\u001b[32;1mmod\u001b[0m\u001b[32;1mium\u001b[0m\u001b[32;1m fal\u001b[0m\u001b[32;1mc\u001b[0m\u001b[32;1mip\u001b[0m\u001b[32;1mar\u001b[0m\u001b[32;1mum\u001b[0m\u001b[32;1m prote\u001b[0m\u001b[32;1mome\u001b[0m\u001b[32;1m identifies\u001b[0m\u001b[31;1m candidate[approved]\u001b[0m\u001b[32;1m drugs\u001b[0m\u001b[32;1m with\u001b[0m\u001b[32;1m anti\u001b[0m\u001b[32;1m-\u001b[0m\u001b[32;1mmal\u001b[0m\u001b[32;1marial\u001b[0m\u001b[32;1m activity\u001b[0m\u001b[32;1m and\u001b[0m\u001b[32;1m their\u001b[0m\u001b[32;1m possible\u001b[0m\u001b[32;1m targets\u001b[0m\u001b[32;1m</s>\u001b[0m\n",
      "\n",
      "\n"
     ]
    },
    {
     "name": "stderr",
     "output_type": "stream",
     "text": [
      "Saving model checkpoint to /lm_models/checkpoint-21000\n",
      "Trainer.model is not a `PreTrainedModel`, only saving its state dict.\n",
      "Deleting older checkpoint [/lm_models/checkpoint-18500] due to args.save_total_limit\n",
      "/opt/conda/lib/python3.8/site-packages/torch/nn/parallel/_functions.py:68: UserWarning: Was asked to gather along dimension 0, but all input tensors were scalars; will instead unsqueeze and return a vector.\n",
      "  warnings.warn('Was asked to gather along dimension 0, but all '\n",
      "INFO:***** Running Evaluation *****\n",
      "INFO:  Num examples = 2970\n",
      "INFO:  Batch size = 32\n"
     ]
    },
    {
     "name": "stdout",
     "output_type": "stream",
     "text": [
      "\n",
      "\n",
      "\u001b[32;1m<s>\u001b[0m\u001b[32;1mCl\u001b[0m\u001b[32;1minical\u001b[0m\u001b[32;1m practice\u001b[0m\u001b[32;1m guidelines\u001b[0m\u001b[32;1m for\u001b[0m\u001b[32;1m the\u001b[0m\u001b[32;1m surgical\u001b[0m\u001b[32;1m management\u001b[0m\u001b[32;1m of\u001b[0m\u001b[32;1m colon\u001b[0m\u001b[32;1m cancer\u001b[0m\u001b[32;1m:\u001b[0m\u001b[32;1m a\u001b[0m\u001b[32;1m consensus\u001b[0m\u001b[32;1m statement\u001b[0m\u001b[32;1m of\u001b[0m\u001b[32;1m the\u001b[0m\u001b[31;1m Ay[Hell]\u001b[0m\u001b[32;1menic\u001b[0m\u001b[32;1m and\u001b[0m\u001b[32;1m Cy\u001b[0m\u001b[32;1mpri\u001b[0m\u001b[32;1mot\u001b[0m\u001b[32;1m Col\u001b[0m\u001b[32;1more\u001b[0m\u001b[32;1mct\u001b[0m\u001b[32;1mal\u001b[0m\u001b[32;1m Cancer\u001b[0m\u001b[31;1m Group[Study]\u001b[0m\u001b[32;1m Group\u001b[0m\u001b[32;1m by\u001b[0m\u001b[32;1m the\u001b[0m\u001b[32;1m He\u001b[0m\u001b[32;1mS\u001b[0m\u001b[31;1mLC[MO]\u001b[0m\u001b[32;1m*\u001b[0m\u001b[32;1m</s>\u001b[0m\n",
      "\n",
      "\n"
     ]
    },
    {
     "name": "stderr",
     "output_type": "stream",
     "text": [
      "INFO:***** Running Evaluation *****\n",
      "INFO:  Num examples = 2970\n",
      "INFO:  Batch size = 32\n"
     ]
    },
    {
     "name": "stdout",
     "output_type": "stream",
     "text": [
      "\n",
      "\n",
      "\u001b[32;1m<s>\u001b[0m\u001b[32;1mPre\u001b[0m\u001b[32;1mval\u001b[0m\u001b[32;1mence\u001b[0m\u001b[32;1m of\u001b[0m\u001b[32;1m hypertension\u001b[0m\u001b[32;1m and\u001b[0m\u001b[32;1m pre\u001b[0m\u001b[32;1mhy\u001b[0m\u001b[32;1mpert\u001b[0m\u001b[32;1mension\u001b[0m\u001b[32;1m among\u001b[0m\u001b[32;1m children\u001b[0m\u001b[32;1m and\u001b[0m\u001b[32;1m adolescents\u001b[0m\u001b[32;1m in\u001b[0m\u001b[32;1m a\u001b[0m\u001b[32;1m semi\u001b[0m\u001b[32;1m-\u001b[0m\u001b[32;1murban\u001b[0m\u001b[32;1m area\u001b[0m\u001b[32;1m of\u001b[0m\u001b[32;1m U\u001b[0m\u001b[31;1mlv[yo]\u001b[0m\u001b[32;1m Met\u001b[0m\u001b[32;1mropolis\u001b[0m\u001b[32;1m,\u001b[0m\u001b[32;1m Nigeria\u001b[0m\u001b[32;1m</s>\u001b[0m\n",
      "\n",
      "\n"
     ]
    },
    {
     "name": "stderr",
     "output_type": "stream",
     "text": [
      "INFO:***** Running Evaluation *****\n",
      "INFO:  Num examples = 2970\n",
      "INFO:  Batch size = 32\n"
     ]
    },
    {
     "name": "stdout",
     "output_type": "stream",
     "text": [
      "\n",
      "\n",
      "\u001b[32;1m<s>\u001b[0m\u001b[32;1mPre\u001b[0m\u001b[32;1mval\u001b[0m\u001b[32;1mence\u001b[0m\u001b[32;1m,\u001b[0m\u001b[32;1m intensity\u001b[0m\u001b[32;1m and\u001b[0m\u001b[32;1m risk\u001b[0m\u001b[32;1m factors\u001b[0m\u001b[32;1m of\u001b[0m\u001b[32;1m t\u001b[0m\u001b[32;1mung\u001b[0m\u001b[32;1miasis\u001b[0m\u001b[32;1m in\u001b[0m\u001b[32;1m Kil\u001b[0m\u001b[31;1miman[ifi]\u001b[0m\u001b[32;1m County\u001b[0m\u001b[32;1m,\u001b[0m\u001b[32;1m Kenya\u001b[0m\u001b[32;1m II\u001b[0m\u001b[32;1m:\u001b[0m\u001b[32;1m Results\u001b[0m\u001b[32;1m from\u001b[0m\u001b[32;1m a\u001b[0m\u001b[32;1m school\u001b[0m\u001b[32;1m-\u001b[0m\u001b[32;1mbased\u001b[0m\u001b[32;1m observational\u001b[0m\u001b[32;1m study\u001b[0m\u001b[32;1m</s>\u001b[0m\n",
      "\n",
      "\n"
     ]
    },
    {
     "name": "stderr",
     "output_type": "stream",
     "text": [
      "INFO:***** Running Evaluation *****\n",
      "INFO:  Num examples = 2970\n",
      "INFO:  Batch size = 32\n"
     ]
    },
    {
     "name": "stdout",
     "output_type": "stream",
     "text": [
      "\n",
      "\n",
      "\u001b[32;1m<s>\u001b[0m\u001b[32;1mAdvanced\u001b[0m\u001b[31;1m poorly[moderately]\u001b[0m\u001b[32;1m differentiated\u001b[0m\u001b[32;1m neuro\u001b[0m\u001b[32;1mend\u001b[0m\u001b[32;1mocrine\u001b[0m\u001b[32;1m carcin\u001b[0m\u001b[32;1moma\u001b[0m\u001b[32;1m of\u001b[0m\u001b[32;1m the\u001b[0m\u001b[32;1m rect\u001b[0m\u001b[32;1mum\u001b[0m\u001b[32;1m with\u001b[0m\u001b[32;1m favorable\u001b[0m\u001b[32;1m prog\u001b[0m\u001b[32;1mnosis\u001b[0m\u001b[32;1m by\u001b[0m\u001b[32;1m post\u001b[0m\u001b[32;1moperative\u001b[0m\u001b[32;1m che\u001b[0m\u001b[32;1mmor\u001b[0m\u001b[32;1mad\u001b[0m\u001b[32;1miation\u001b[0m\u001b[32;1m</s>\u001b[0m\n",
      "\n",
      "\n"
     ]
    },
    {
     "name": "stderr",
     "output_type": "stream",
     "text": [
      "INFO:***** Running Evaluation *****\n",
      "INFO:  Num examples = 2970\n",
      "INFO:  Batch size = 32\n"
     ]
    },
    {
     "name": "stdout",
     "output_type": "stream",
     "text": [
      "\n",
      "\n",
      "\u001b[32;1m<s>\u001b[0m\u001b[32;1mThe\u001b[0m\u001b[32;1m Chinese\u001b[0m\u001b[32;1m Her\u001b[0m\u001b[32;1mbal\u001b[0m\u001b[32;1m Formula\u001b[0m\u001b[32;1m Shen\u001b[0m\u001b[32;1mz\u001b[0m\u001b[31;1mhi[hu]\u001b[0m\u001b[32;1m T\u001b[0m\u001b[32;1mia\u001b[0m\u001b[32;1mop\u001b[0m\u001b[32;1mi\u001b[0m\u001b[32;1m Gran\u001b[0m\u001b[32;1mule\u001b[0m\u001b[32;1m Results\u001b[0m\u001b[32;1m in\u001b[0m\u001b[32;1m Met\u001b[0m\u001b[32;1mabolic\u001b[0m\u001b[32;1m Improvement\u001b[0m\u001b[32;1m in\u001b[0m\u001b[32;1m Type\u001b[0m\u001b[32;1m 2\u001b[0m\u001b[32;1m Di\u001b[0m\u001b[32;1mabetic\u001b[0m\u001b[32;1m Rats\u001b[0m\u001b[32;1m by\u001b[0m\u001b[32;1m Mod\u001b[0m\u001b[32;1mulating\u001b[0m\u001b[32;1m the\u001b[0m\u001b[32;1m Gut\u001b[0m\u001b[32;1m Micro\u001b[0m\u001b[32;1mbi\u001b[0m\u001b[32;1mota\u001b[0m\u001b[32;1m</s>\u001b[0m\n",
      "\n",
      "\n"
     ]
    },
    {
     "name": "stderr",
     "output_type": "stream",
     "text": [
      "Saving model checkpoint to /lm_models/checkpoint-21500\n",
      "Trainer.model is not a `PreTrainedModel`, only saving its state dict.\n",
      "Deleting older checkpoint [/lm_models/checkpoint-19000] due to args.save_total_limit\n",
      "/opt/conda/lib/python3.8/site-packages/torch/nn/parallel/_functions.py:68: UserWarning: Was asked to gather along dimension 0, but all input tensors were scalars; will instead unsqueeze and return a vector.\n",
      "  warnings.warn('Was asked to gather along dimension 0, but all '\n",
      "INFO:***** Running Evaluation *****\n",
      "INFO:  Num examples = 2970\n",
      "INFO:  Batch size = 32\n"
     ]
    },
    {
     "name": "stdout",
     "output_type": "stream",
     "text": [
      "\n",
      "\n",
      "\u001b[32;1m<s>\u001b[0m\u001b[32;1mPre\u001b[0m\u001b[32;1mval\u001b[0m\u001b[32;1mence\u001b[0m\u001b[32;1m of\u001b[0m\u001b[32;1m hypertension\u001b[0m\u001b[32;1m and\u001b[0m\u001b[32;1m pre\u001b[0m\u001b[32;1mhy\u001b[0m\u001b[32;1mpert\u001b[0m\u001b[32;1mension\u001b[0m\u001b[32;1m among\u001b[0m\u001b[32;1m children\u001b[0m\u001b[32;1m and\u001b[0m\u001b[32;1m adolescents\u001b[0m\u001b[32;1m in\u001b[0m\u001b[32;1m a\u001b[0m\u001b[32;1m semi\u001b[0m\u001b[32;1m-\u001b[0m\u001b[32;1murban\u001b[0m\u001b[32;1m area\u001b[0m\u001b[32;1m of\u001b[0m\u001b[32;1m U\u001b[0m\u001b[31;1mlv[yo]\u001b[0m\u001b[32;1m Met\u001b[0m\u001b[32;1mropolis\u001b[0m\u001b[32;1m,\u001b[0m\u001b[32;1m Nigeria\u001b[0m\u001b[32;1m</s>\u001b[0m\n",
      "\n",
      "\n"
     ]
    },
    {
     "name": "stderr",
     "output_type": "stream",
     "text": [
      "INFO:***** Running Evaluation *****\n",
      "INFO:  Num examples = 2970\n",
      "INFO:  Batch size = 32\n"
     ]
    },
    {
     "name": "stdout",
     "output_type": "stream",
     "text": [
      "\n",
      "\n",
      "\u001b[32;1m<s>\u001b[0m\u001b[32;1mThe\u001b[0m\u001b[32;1m effects\u001b[0m\u001b[32;1m of\u001b[0m\u001b[32;1m short\u001b[0m\u001b[32;1m-\u001b[0m\u001b[32;1mterm\u001b[0m\u001b[32;1m hyp\u001b[0m\u001b[32;1mox\u001b[0m\u001b[32;1mia\u001b[0m\u001b[32;1m on\u001b[0m\u001b[32;1m human\u001b[0m\u001b[32;1m mes\u001b[0m\u001b[32;1mench\u001b[0m\u001b[32;1mym\u001b[0m\u001b[32;1mal\u001b[0m\u001b[32;1m stem\u001b[0m\u001b[32;1m cell\u001b[0m\u001b[32;1m proliferation\u001b[0m\u001b[32;1m,\u001b[0m\u001b[32;1m viability\u001b[0m\u001b[32;1m and\u001b[0m\u001b[32;1m p\u001b[0m\u001b[32;1m16\u001b[0m\u001b[32;1mINK\u001b[0m\u001b[32;1m4\u001b[0m\u001b[32;1mA\u001b[0m\u001b[32;1m mRNA\u001b[0m\u001b[32;1m expression\u001b[0m\u001b[32;1m:\u001b[0m\u001b[31;1m An[Investigation]\u001b[0m\u001b[32;1m using\u001b[0m\u001b[32;1m a\u001b[0m\u001b[31;1m minimal[simple]\u001b[0m\u001b[32;1m hyp\u001b[0m\u001b[31;1mother[oxic]\u001b[0m\u001b[31;1m system[culture]\u001b[0m\u001b[32;1m system\u001b[0m\u001b[32;1m with\u001b[0m\u001b[32;1m a\u001b[0m\u001b[31;1m effect[de]\u001b[0m\u001b[32;1mox\u001b[0m\u001b[31;1myn[id]\u001b[0m\u001b[31;1mized[izing]\u001b[0m\u001b[32;1m agent\u001b[0m\u001b[32;1m</s>\u001b[0m\n",
      "\n",
      "\n"
     ]
    },
    {
     "name": "stderr",
     "output_type": "stream",
     "text": [
      "INFO:***** Running Evaluation *****\n",
      "INFO:  Num examples = 2970\n",
      "INFO:  Batch size = 32\n"
     ]
    },
    {
     "name": "stdout",
     "output_type": "stream",
     "text": [
      "\n",
      "\n",
      "\u001b[32;1m<s>\u001b[0m\u001b[32;1mEnd\u001b[0m\u001b[32;1mogenous\u001b[0m\u001b[32;1m insulin\u001b[0m\u001b[32;1m secretion\u001b[0m\u001b[31;1m only[even]\u001b[0m\u001b[32;1m at\u001b[0m\u001b[32;1m a\u001b[0m\u001b[32;1m very\u001b[0m\u001b[32;1m low\u001b[0m\u001b[32;1m level\u001b[0m\u001b[32;1m contributes\u001b[0m\u001b[32;1m to\u001b[0m\u001b[32;1m the\u001b[0m\u001b[32;1m stability\u001b[0m\u001b[32;1m of\u001b[0m\u001b[32;1m blood\u001b[0m\u001b[32;1m glucose\u001b[0m\u001b[32;1m control\u001b[0m\u001b[32;1m in\u001b[0m\u001b[32;1m ful\u001b[0m\u001b[32;1mmin\u001b[0m\u001b[32;1mant\u001b[0m\u001b[32;1m type\u001b[0m\u001b[32;1m 1\u001b[0m\u001b[32;1m diabetes\u001b[0m\u001b[32;1m</s>\u001b[0m\n",
      "\n",
      "\n"
     ]
    },
    {
     "name": "stderr",
     "output_type": "stream",
     "text": [
      "INFO:***** Running Evaluation *****\n",
      "INFO:  Num examples = 2970\n",
      "INFO:  Batch size = 32\n"
     ]
    },
    {
     "name": "stdout",
     "output_type": "stream",
     "text": [
      "\n",
      "\n",
      "\u001b[32;1m<s>\u001b[0m\u001b[32;1mCompar\u001b[0m\u001b[32;1mison\u001b[0m\u001b[32;1m of\u001b[0m\u001b[32;1m Performance\u001b[0m\u001b[32;1m Achievement\u001b[0m\u001b[31;1m Start[Award]\u001b[0m\u001b[32;1m Recogn\u001b[0m\u001b[32;1mition\u001b[0m\u001b[32;1m With\u001b[0m\u001b[32;1m Primary\u001b[0m\u001b[32;1m Stro\u001b[0m\u001b[32;1mke\u001b[0m\u001b[32;1m Center\u001b[0m\u001b[31;1m Registration[Certification]\u001b[0m\u001b[32;1m for\u001b[0m\u001b[32;1m Ac\u001b[0m\u001b[32;1mute\u001b[0m\u001b[32;1m Is\u001b[0m\u001b[32;1mche\u001b[0m\u001b[32;1mmic\u001b[0m\u001b[32;1m Stro\u001b[0m\u001b[32;1mke\u001b[0m\u001b[32;1m Care\u001b[0m\u001b[32;1m</s>\u001b[0m\n",
      "\n",
      "\n"
     ]
    },
    {
     "name": "stderr",
     "output_type": "stream",
     "text": [
      "INFO:***** Running Evaluation *****\n",
      "INFO:  Num examples = 2970\n",
      "INFO:  Batch size = 32\n"
     ]
    },
    {
     "name": "stdout",
     "output_type": "stream",
     "text": [
      "\n",
      "\n",
      "\u001b[32;1m<s>\u001b[0m\u001b[32;1mThe\u001b[0m\u001b[32;1m impact\u001b[0m\u001b[32;1m of\u001b[0m\u001b[31;1m adding[removing]\u001b[0m\u001b[32;1m financial\u001b[0m\u001b[32;1m incentives\u001b[0m\u001b[32;1m from\u001b[0m\u001b[32;1m clinical\u001b[0m\u001b[32;1m quality\u001b[0m\u001b[32;1m indicators\u001b[0m\u001b[32;1m:\u001b[0m\u001b[32;1m longitudinal\u001b[0m\u001b[32;1m analysis\u001b[0m\u001b[32;1m of\u001b[0m\u001b[32;1m four\u001b[0m\u001b[31;1m Glasgow[Kaiser]\u001b[0m\u001b[32;1m P\u001b[0m\u001b[31;1maed[erman]\u001b[0m\u001b[31;1mency[ente]\u001b[0m\u001b[32;1m indicators\u001b[0m\u001b[32;1m</s>\u001b[0m\n",
      "\n",
      "\n"
     ]
    },
    {
     "name": "stderr",
     "output_type": "stream",
     "text": [
      "Saving model checkpoint to /lm_models/checkpoint-22000\n",
      "Trainer.model is not a `PreTrainedModel`, only saving its state dict.\n",
      "Deleting older checkpoint [/lm_models/checkpoint-19500] due to args.save_total_limit\n",
      "/opt/conda/lib/python3.8/site-packages/torch/nn/parallel/_functions.py:68: UserWarning: Was asked to gather along dimension 0, but all input tensors were scalars; will instead unsqueeze and return a vector.\n",
      "  warnings.warn('Was asked to gather along dimension 0, but all '\n",
      "INFO:***** Running Evaluation *****\n",
      "INFO:  Num examples = 2970\n",
      "INFO:  Batch size = 32\n"
     ]
    },
    {
     "name": "stdout",
     "output_type": "stream",
     "text": [
      "\n",
      "\n",
      "\u001b[32;1m<s>\u001b[0m\u001b[32;1mPro\u001b[0m\u001b[32;1mgn\u001b[0m\u001b[32;1mostic\u001b[0m\u001b[32;1m Role\u001b[0m\u001b[32;1m of\u001b[0m\u001b[32;1m High\u001b[0m\u001b[32;1m-\u001b[0m\u001b[32;1ms\u001b[0m\u001b[32;1mensitivity\u001b[0m\u001b[32;1m Card\u001b[0m\u001b[32;1miac\u001b[0m\u001b[32;1m Trop\u001b[0m\u001b[32;1mon\u001b[0m\u001b[32;1min\u001b[0m\u001b[32;1m I\u001b[0m\u001b[32;1m and\u001b[0m\u001b[32;1m Sol\u001b[0m\u001b[32;1muble\u001b[0m\u001b[32;1m Supp\u001b[0m\u001b[32;1mression\u001b[0m\u001b[32;1m of\u001b[0m\u001b[32;1m T\u001b[0m\u001b[32;1mum\u001b[0m\u001b[32;1mor\u001b[0m\u001b[32;1migen\u001b[0m\u001b[32;1micity\u001b[0m\u001b[32;1m-\u001b[0m\u001b[32;1m2\u001b[0m\u001b[32;1m in\u001b[0m\u001b[32;1m S\u001b[0m\u001b[32;1murgical\u001b[0m\u001b[32;1m Int\u001b[0m\u001b[32;1mensive\u001b[0m\u001b[32;1m Care\u001b[0m\u001b[32;1m Unit\u001b[0m\u001b[32;1m Patients\u001b[0m\u001b[32;1m Under\u001b[0m\u001b[32;1mgoing\u001b[0m\u001b[32;1m Non\u001b[0m\u001b[32;1m-\u001b[0m\u001b[32;1mcard\u001b[0m\u001b[32;1miac\u001b[0m\u001b[32;1m Surgery\u001b[0m\u001b[32;1m</s>\u001b[0m\n",
      "\n",
      "\n"
     ]
    },
    {
     "name": "stderr",
     "output_type": "stream",
     "text": [
      "INFO:***** Running Evaluation *****\n",
      "INFO:  Num examples = 2970\n",
      "INFO:  Batch size = 32\n"
     ]
    },
    {
     "name": "stdout",
     "output_type": "stream",
     "text": [
      "\n",
      "\n",
      "\u001b[32;1m<s>\u001b[0m\u001b[32;1mCorrection\u001b[0m\u001b[32;1m to\u001b[0m\u001b[32;1m �\u001b[0m\u001b[32;1m�\u001b[0m\u001b[32;1mSw\u001b[0m\u001b[32;1mitching\u001b[0m\u001b[32;1m from\u001b[0m\u001b[32;1m Controlled\u001b[0m\u001b[32;1m Ring\u001b[0m\u001b[32;1m-\u001b[0m\u001b[32;1mOpening\u001b[0m\u001b[32;1m Poly\u001b[0m\u001b[32;1mmer\u001b[0m\u001b[32;1mization\u001b[0m\u001b[32;1m (\u001b[0m\u001b[32;1mc\u001b[0m\u001b[32;1mR\u001b[0m\u001b[32;1mOP\u001b[0m\u001b[32;1m)\u001b[0m\u001b[32;1m to\u001b[0m\u001b[32;1m Controlled\u001b[0m\u001b[31;1m X[Ring]\u001b[0m\u001b[32;1m-\u001b[0m\u001b[32;1mCl\u001b[0m\u001b[31;1must[osing]\u001b[0m\u001b[32;1m Dep\u001b[0m\u001b[32;1moly\u001b[0m\u001b[32;1mmer\u001b[0m\u001b[32;1mization\u001b[0m\u001b[31;1m from[(]\u001b[0m\u001b[32;1mc\u001b[0m\u001b[31;1mSS[RC]\u001b[0m\u001b[31;1mP[DP]\u001b[0m\u001b[32;1m)\u001b[0m\u001b[32;1m by\u001b[0m\u001b[31;1m Impro[Adjust]\u001b[0m\u001b[32;1ming\u001b[0m\u001b[32;1m the\u001b[0m\u001b[32;1m Reaction\u001b[0m\u001b[31;1m Properties[Parameters]\u001b[0m\u001b[32;1m That\u001b[0m\u001b[32;1m Deter\u001b[0m\u001b[32;1mmine\u001b[0m\u001b[32;1m the\u001b[0m\u001b[31;1m Properties[Ce]\u001b[0m\u001b[31;1mft[iling]\u001b[0m\u001b[31;1m Efficiency[Temperature]\u001b[0m\u001b[32;1m�\u001b[0m\u001b[32;1m�\u001b[0m\u001b[32;1m</s>\u001b[0m\n",
      "\n",
      "\n"
     ]
    },
    {
     "name": "stderr",
     "output_type": "stream",
     "text": [
      "INFO:***** Running Evaluation *****\n",
      "INFO:  Num examples = 2970\n",
      "INFO:  Batch size = 32\n"
     ]
    },
    {
     "name": "stdout",
     "output_type": "stream",
     "text": [
      "\n",
      "\n",
      "\u001b[32;1m<s>\u001b[0m\u001b[32;1mMark\u001b[0m\u001b[32;1mers\u001b[0m\u001b[32;1m of\u001b[0m\u001b[32;1m type\u001b[0m\u001b[32;1m I\u001b[0m\u001b[32;1m collagen\u001b[0m\u001b[32;1m degradation\u001b[0m\u001b[32;1m and\u001b[0m\u001b[32;1m synthesis\u001b[0m\u001b[32;1m in\u001b[0m\u001b[32;1m the\u001b[0m\u001b[32;1m monitoring\u001b[0m\u001b[32;1m of\u001b[0m\u001b[32;1m treatment\u001b[0m\u001b[32;1m response\u001b[0m\u001b[32;1m in\u001b[0m\u001b[32;1m bone\u001b[0m\u001b[32;1m metast\u001b[0m\u001b[32;1mases\u001b[0m\u001b[32;1m from\u001b[0m\u001b[32;1m breast\u001b[0m\u001b[32;1m carcin\u001b[0m\u001b[32;1moma\u001b[0m\u001b[32;1m.\u001b[0m\u001b[32;1m</s>\u001b[0m\n",
      "\n",
      "\n"
     ]
    },
    {
     "name": "stderr",
     "output_type": "stream",
     "text": [
      "INFO:***** Running Evaluation *****\n",
      "INFO:  Num examples = 2970\n",
      "INFO:  Batch size = 32\n"
     ]
    },
    {
     "name": "stdout",
     "output_type": "stream",
     "text": [
      "\n",
      "\n",
      "\u001b[32;1m<s>\u001b[0m\u001b[32;1mDet\u001b[0m\u001b[32;1mection\u001b[0m\u001b[32;1m of\u001b[0m\u001b[32;1m a\u001b[0m\u001b[32;1m CT\u001b[0m\u001b[32;1mX\u001b[0m\u001b[32;1m-\u001b[0m\u001b[32;1mM\u001b[0m\u001b[32;1m group\u001b[0m\u001b[32;1m 2\u001b[0m\u001b[32;1m beta\u001b[0m\u001b[32;1m-\u001b[0m\u001b[32;1ml\u001b[0m\u001b[32;1mact\u001b[0m\u001b[32;1mam\u001b[0m\u001b[32;1mase\u001b[0m\u001b[32;1m gene\u001b[0m\u001b[32;1m in\u001b[0m\u001b[32;1m a\u001b[0m\u001b[32;1m Kle\u001b[0m\u001b[32;1mbs\u001b[0m\u001b[32;1mie\u001b[0m\u001b[32;1mlla\u001b[0m\u001b[32;1m pneumonia\u001b[0m\u001b[32;1me\u001b[0m\u001b[32;1m isolate\u001b[0m\u001b[32;1m from\u001b[0m\u001b[32;1m a\u001b[0m\u001b[32;1m tert\u001b[0m\u001b[32;1miary\u001b[0m\u001b[32;1m care\u001b[0m\u001b[32;1m hospital\u001b[0m\u001b[32;1m,\u001b[0m\u001b[31;1m Uttar[Trinidad]\u001b[0m\u001b[32;1m and\u001b[0m\u001b[31;1m Herz[Tob]\u001b[0m\u001b[32;1mago\u001b[0m\u001b[32;1m</s>\u001b[0m\n",
      "\n",
      "\n"
     ]
    },
    {
     "name": "stderr",
     "output_type": "stream",
     "text": [
      "INFO:***** Running Evaluation *****\n",
      "INFO:  Num examples = 2970\n",
      "INFO:  Batch size = 32\n"
     ]
    },
    {
     "name": "stdout",
     "output_type": "stream",
     "text": [
      "\n",
      "\n",
      "\u001b[32;1m<s>\u001b[0m\u001b[32;1mMe\u001b[0m\u001b[32;1miotic\u001b[0m\u001b[32;1m analyses\u001b[0m\u001b[32;1m show\u001b[0m\u001b[32;1m adaptations\u001b[0m\u001b[32;1m to\u001b[0m\u001b[32;1m maintenance\u001b[0m\u001b[32;1m of\u001b[0m\u001b[32;1m fertility\u001b[0m\u001b[32;1m in\u001b[0m\u001b[32;1m X\u001b[0m\u001b[32;1m1\u001b[0m\u001b[32;1mY\u001b[0m\u001b[32;1m1\u001b[0m\u001b[32;1mX\u001b[0m\u001b[32;1m2\u001b[0m\u001b[32;1mY\u001b[0m\u001b[32;1m2\u001b[0m\u001b[32;1mX\u001b[0m\u001b[32;1m3\u001b[0m\u001b[31;1mX[Y]\u001b[0m\u001b[32;1m3\u001b[0m\u001b[32;1mX\u001b[0m\u001b[32;1m4\u001b[0m\u001b[32;1mY\u001b[0m\u001b[32;1m4\u001b[0m\u001b[31;1mY[X]\u001b[0m\u001b[32;1m5\u001b[0m\u001b[32;1mY\u001b[0m\u001b[31;1m3[5]\u001b[0m\u001b[31;1mA[system]\u001b[0m\u001b[31;1m that[of]\u001b[0m\u001b[32;1m am\u001b[0m\u001b[31;1mel[azon]\u001b[0m\u001b[31;1mus[frog]\u001b[0m\u001b[31;1m le[Le]\u001b[0m\u001b[32;1mpt\u001b[0m\u001b[32;1mod\u001b[0m\u001b[32;1mact\u001b[0m\u001b[32;1myl\u001b[0m\u001b[32;1mus\u001b[0m\u001b[31;1m er[pent]\u001b[0m\u001b[31;1mat[ad]\u001b[0m\u001b[32;1mact\u001b[0m\u001b[32;1myl\u001b[0m\u001b[32;1mus\u001b[0m\u001b[32;1m (\u001b[0m\u001b[31;1mJ[La]\u001b[0m\u001b[31;1mev[ure]\u001b[0m\u001b[31;1ma[nt]\u001b[0m\u001b[31;1mida[i]\u001b[0m\u001b[32;1m,\u001b[0m\u001b[32;1m 17\u001b[0m\u001b[31;1m76[68]\u001b[0m\u001b[32;1m)\u001b[0m\u001b[32;1m</s>\u001b[0m\n",
      "\n",
      "\n"
     ]
    },
    {
     "name": "stderr",
     "output_type": "stream",
     "text": [
      "Saving model checkpoint to /lm_models/checkpoint-22500\n",
      "Trainer.model is not a `PreTrainedModel`, only saving its state dict.\n",
      "Deleting older checkpoint [/lm_models/checkpoint-20000] due to args.save_total_limit\n",
      "/opt/conda/lib/python3.8/site-packages/torch/nn/parallel/_functions.py:68: UserWarning: Was asked to gather along dimension 0, but all input tensors were scalars; will instead unsqueeze and return a vector.\n",
      "  warnings.warn('Was asked to gather along dimension 0, but all '\n",
      "INFO:***** Running Evaluation *****\n",
      "INFO:  Num examples = 2970\n",
      "INFO:  Batch size = 32\n"
     ]
    },
    {
     "name": "stdout",
     "output_type": "stream",
     "text": [
      "\n",
      "\n",
      "\u001b[32;1m<s>\u001b[0m\u001b[32;1mCa\u001b[0m\u001b[32;1men\u001b[0m\u001b[32;1mor\u001b[0m\u001b[32;1mhab\u001b[0m\u001b[32;1mdit\u001b[0m\u001b[32;1mis\u001b[0m\u001b[32;1m eleg\u001b[0m\u001b[32;1mans\u001b[0m\u001b[32;1m Hist\u001b[0m\u001b[32;1mone\u001b[0m\u001b[32;1m M\u001b[0m\u001b[32;1methyl\u001b[0m\u001b[32;1mtransfer\u001b[0m\u001b[32;1mase\u001b[0m\u001b[32;1m MET\u001b[0m\u001b[32;1m-\u001b[0m\u001b[32;1m2\u001b[0m\u001b[31;1m Fav[Shields]\u001b[0m\u001b[32;1m the\u001b[0m\u001b[32;1m Male\u001b[0m\u001b[32;1m X\u001b[0m\u001b[32;1m Chrom\u001b[0m\u001b[32;1mos\u001b[0m\u001b[32;1mome\u001b[0m\u001b[32;1m from\u001b[0m\u001b[32;1m Check\u001b[0m\u001b[32;1mpoint\u001b[0m\u001b[32;1m Mach\u001b[0m\u001b[32;1minery\u001b[0m\u001b[32;1m and\u001b[0m\u001b[32;1m Med\u001b[0m\u001b[32;1miates\u001b[0m\u001b[32;1m Me\u001b[0m\u001b[32;1miotic\u001b[0m\u001b[32;1m Sex\u001b[0m\u001b[32;1m Chrom\u001b[0m\u001b[32;1mos\u001b[0m\u001b[32;1mome\u001b[0m\u001b[32;1m In\u001b[0m\u001b[32;1mactivation\u001b[0m\u001b[32;1m</s>\u001b[0m\n",
      "\n",
      "\n"
     ]
    },
    {
     "name": "stderr",
     "output_type": "stream",
     "text": [
      "INFO:***** Running Evaluation *****\n",
      "INFO:  Num examples = 2970\n",
      "INFO:  Batch size = 32\n"
     ]
    },
    {
     "name": "stdout",
     "output_type": "stream",
     "text": [
      "\n",
      "\n",
      "\u001b[32;1m<s>\u001b[0m\u001b[32;1mDesign\u001b[0m\u001b[32;1m and\u001b[0m\u001b[32;1m development\u001b[0m\u001b[32;1m of\u001b[0m\u001b[32;1m intra\u001b[0m\u001b[32;1mocular\u001b[0m\u001b[32;1m poly\u001b[0m\u001b[32;1mmeric\u001b[0m\u001b[32;1m implant\u001b[0m\u001b[32;1m systems\u001b[0m\u001b[32;1m for\u001b[0m\u001b[32;1m long\u001b[0m\u001b[32;1m-\u001b[0m\u001b[32;1mterm\u001b[0m\u001b[32;1m controlled\u001b[0m\u001b[32;1m-\u001b[0m\u001b[32;1mrelease\u001b[0m\u001b[32;1m of\u001b[0m\u001b[32;1m cl\u001b[0m\u001b[32;1mind\u001b[0m\u001b[32;1mamy\u001b[0m\u001b[32;1mcin\u001b[0m\u001b[32;1m phosphate\u001b[0m\u001b[32;1m for\u001b[0m\u001b[32;1m tox\u001b[0m\u001b[32;1mopl\u001b[0m\u001b[32;1masm\u001b[0m\u001b[32;1mic\u001b[0m\u001b[32;1m ret\u001b[0m\u001b[31;1mic[ino]\u001b[0m\u001b[32;1mch\u001b[0m\u001b[32;1mor\u001b[0m\u001b[32;1moid\u001b[0m\u001b[32;1mitis\u001b[0m\u001b[32;1m</s>\u001b[0m\n",
      "\n",
      "\n"
     ]
    },
    {
     "name": "stderr",
     "output_type": "stream",
     "text": [
      "INFO:***** Running Evaluation *****\n",
      "INFO:  Num examples = 2970\n",
      "INFO:  Batch size = 32\n"
     ]
    },
    {
     "name": "stdout",
     "output_type": "stream",
     "text": [
      "\n",
      "\n",
      "\u001b[32;1m<s>\u001b[0m\u001b[32;1mPro\u001b[0m\u001b[32;1mgn\u001b[0m\u001b[32;1mostic\u001b[0m\u001b[32;1m Role\u001b[0m\u001b[32;1m of\u001b[0m\u001b[32;1m High\u001b[0m\u001b[32;1m-\u001b[0m\u001b[32;1ms\u001b[0m\u001b[32;1mensitivity\u001b[0m\u001b[32;1m Card\u001b[0m\u001b[32;1miac\u001b[0m\u001b[32;1m Trop\u001b[0m\u001b[32;1mon\u001b[0m\u001b[32;1min\u001b[0m\u001b[32;1m I\u001b[0m\u001b[32;1m and\u001b[0m\u001b[32;1m Sol\u001b[0m\u001b[32;1muble\u001b[0m\u001b[32;1m Supp\u001b[0m\u001b[32;1mression\u001b[0m\u001b[32;1m of\u001b[0m\u001b[32;1m T\u001b[0m\u001b[32;1mum\u001b[0m\u001b[32;1mor\u001b[0m\u001b[32;1migen\u001b[0m\u001b[32;1micity\u001b[0m\u001b[32;1m-\u001b[0m\u001b[32;1m2\u001b[0m\u001b[32;1m in\u001b[0m\u001b[32;1m S\u001b[0m\u001b[32;1murgical\u001b[0m\u001b[32;1m Int\u001b[0m\u001b[32;1mensive\u001b[0m\u001b[32;1m Care\u001b[0m\u001b[32;1m Unit\u001b[0m\u001b[32;1m Patients\u001b[0m\u001b[32;1m Under\u001b[0m\u001b[32;1mgoing\u001b[0m\u001b[32;1m Non\u001b[0m\u001b[32;1m-\u001b[0m\u001b[32;1mcard\u001b[0m\u001b[32;1miac\u001b[0m\u001b[32;1m Surgery\u001b[0m\u001b[32;1m</s>\u001b[0m\n",
      "\n",
      "\n"
     ]
    },
    {
     "name": "stderr",
     "output_type": "stream",
     "text": [
      "INFO:***** Running Evaluation *****\n",
      "INFO:  Num examples = 2970\n",
      "INFO:  Batch size = 32\n"
     ]
    },
    {
     "name": "stdout",
     "output_type": "stream",
     "text": [
      "\n",
      "\n",
      "\u001b[32;1m<s>\u001b[0m\u001b[32;1mA\u001b[0m\u001b[32;1m 60\u001b[0m\u001b[31;1m Tesla[Hz]\u001b[0m\u001b[31;1m static[uniform]\u001b[0m\u001b[32;1m electromagnetic\u001b[0m\u001b[32;1m field\u001b[0m\u001b[32;1m promotes\u001b[0m\u001b[32;1m human\u001b[0m\u001b[32;1m cell\u001b[0m\u001b[32;1m proliferation\u001b[0m\u001b[32;1m by\u001b[0m\u001b[32;1m decreasing\u001b[0m\u001b[32;1m intr\u001b[0m\u001b[32;1mace\u001b[0m\u001b[32;1mllular\u001b[0m\u001b[32;1m reactive\u001b[0m\u001b[32;1m oxygen\u001b[0m\u001b[32;1m species\u001b[0m\u001b[32;1m levels\u001b[0m\u001b[32;1m</s>\u001b[0m\n",
      "\n",
      "\n"
     ]
    },
    {
     "name": "stderr",
     "output_type": "stream",
     "text": [
      "INFO:***** Running Evaluation *****\n",
      "INFO:  Num examples = 2970\n",
      "INFO:  Batch size = 32\n"
     ]
    },
    {
     "name": "stdout",
     "output_type": "stream",
     "text": [
      "\n",
      "\n",
      "\u001b[32;1m<s>\u001b[0m\u001b[32;1mCorrection\u001b[0m\u001b[32;1m to\u001b[0m\u001b[32;1m �\u001b[0m\u001b[32;1m�\u001b[0m\u001b[32;1mSw\u001b[0m\u001b[32;1mitching\u001b[0m\u001b[32;1m from\u001b[0m\u001b[32;1m Controlled\u001b[0m\u001b[32;1m Ring\u001b[0m\u001b[32;1m-\u001b[0m\u001b[32;1mOpening\u001b[0m\u001b[32;1m Poly\u001b[0m\u001b[32;1mmer\u001b[0m\u001b[32;1mization\u001b[0m\u001b[32;1m (\u001b[0m\u001b[32;1mc\u001b[0m\u001b[32;1mR\u001b[0m\u001b[32;1mOP\u001b[0m\u001b[32;1m)\u001b[0m\u001b[32;1m to\u001b[0m\u001b[32;1m Controlled\u001b[0m\u001b[31;1m X[Ring]\u001b[0m\u001b[32;1m-\u001b[0m\u001b[32;1mCl\u001b[0m\u001b[31;1mamp[osing]\u001b[0m\u001b[32;1m Dep\u001b[0m\u001b[32;1moly\u001b[0m\u001b[32;1mmer\u001b[0m\u001b[32;1mization\u001b[0m\u001b[32;1m (\u001b[0m\u001b[32;1mc\u001b[0m\u001b[31;1mR[RC]\u001b[0m\u001b[31;1mP[DP]\u001b[0m\u001b[32;1m)\u001b[0m\u001b[32;1m by\u001b[0m\u001b[31;1m Impro[Adjust]\u001b[0m\u001b[32;1ming\u001b[0m\u001b[32;1m the\u001b[0m\u001b[32;1m Reaction\u001b[0m\u001b[31;1m Properties[Parameters]\u001b[0m\u001b[32;1m That\u001b[0m\u001b[32;1m Deter\u001b[0m\u001b[32;1mmine\u001b[0m\u001b[32;1m the\u001b[0m\u001b[31;1m Fe[Ce]\u001b[0m\u001b[31;1mft[iling]\u001b[0m\u001b[31;1m Activity[Temperature]\u001b[0m\u001b[32;1m�\u001b[0m\u001b[32;1m�\u001b[0m\u001b[32;1m</s>\u001b[0m\n",
      "\n",
      "\n"
     ]
    },
    {
     "name": "stderr",
     "output_type": "stream",
     "text": [
      "Saving model checkpoint to /lm_models/checkpoint-23000\n",
      "Trainer.model is not a `PreTrainedModel`, only saving its state dict.\n",
      "Deleting older checkpoint [/lm_models/checkpoint-20500] due to args.save_total_limit\n",
      "/opt/conda/lib/python3.8/site-packages/torch/nn/parallel/_functions.py:68: UserWarning: Was asked to gather along dimension 0, but all input tensors were scalars; will instead unsqueeze and return a vector.\n",
      "  warnings.warn('Was asked to gather along dimension 0, but all '\n",
      "INFO:***** Running Evaluation *****\n",
      "INFO:  Num examples = 2970\n",
      "INFO:  Batch size = 32\n"
     ]
    },
    {
     "name": "stdout",
     "output_type": "stream",
     "text": [
      "\n",
      "\n",
      "\u001b[32;1m<s>\u001b[0m\u001b[32;1mThe\u001b[0m\u001b[32;1m effects\u001b[0m\u001b[32;1m of\u001b[0m\u001b[32;1m short\u001b[0m\u001b[32;1m-\u001b[0m\u001b[32;1mterm\u001b[0m\u001b[32;1m hyp\u001b[0m\u001b[32;1mox\u001b[0m\u001b[32;1mia\u001b[0m\u001b[32;1m on\u001b[0m\u001b[32;1m human\u001b[0m\u001b[32;1m mes\u001b[0m\u001b[32;1mench\u001b[0m\u001b[32;1mym\u001b[0m\u001b[32;1mal\u001b[0m\u001b[32;1m stem\u001b[0m\u001b[32;1m cell\u001b[0m\u001b[32;1m proliferation\u001b[0m\u001b[32;1m,\u001b[0m\u001b[32;1m viability\u001b[0m\u001b[32;1m and\u001b[0m\u001b[32;1m p\u001b[0m\u001b[32;1m16\u001b[0m\u001b[32;1mINK\u001b[0m\u001b[32;1m4\u001b[0m\u001b[32;1mA\u001b[0m\u001b[32;1m mRNA\u001b[0m\u001b[32;1m expression\u001b[0m\u001b[32;1m:\u001b[0m\u001b[31;1m An[Investigation]\u001b[0m\u001b[32;1m using\u001b[0m\u001b[32;1m a\u001b[0m\u001b[32;1m simple\u001b[0m\u001b[32;1m hyp\u001b[0m\u001b[31;1mother[oxic]\u001b[0m\u001b[31;1m system[culture]\u001b[0m\u001b[32;1m system\u001b[0m\u001b[32;1m with\u001b[0m\u001b[32;1m a\u001b[0m\u001b[31;1m d[de]\u001b[0m\u001b[32;1mox\u001b[0m\u001b[32;1mid\u001b[0m\u001b[32;1mizing\u001b[0m\u001b[32;1m agent\u001b[0m\u001b[32;1m</s>\u001b[0m\n",
      "\n",
      "\n"
     ]
    },
    {
     "name": "stderr",
     "output_type": "stream",
     "text": [
      "INFO:***** Running Evaluation *****\n",
      "INFO:  Num examples = 2970\n",
      "INFO:  Batch size = 32\n"
     ]
    },
    {
     "name": "stdout",
     "output_type": "stream",
     "text": [
      "\n",
      "\n",
      "\u001b[32;1m<s>\u001b[0m\u001b[32;1mCl\u001b[0m\u001b[32;1minical\u001b[0m\u001b[32;1m practice\u001b[0m\u001b[32;1m guidelines\u001b[0m\u001b[32;1m for\u001b[0m\u001b[32;1m the\u001b[0m\u001b[32;1m surgical\u001b[0m\u001b[32;1m management\u001b[0m\u001b[32;1m of\u001b[0m\u001b[32;1m colon\u001b[0m\u001b[32;1m cancer\u001b[0m\u001b[32;1m:\u001b[0m\u001b[32;1m a\u001b[0m\u001b[32;1m consensus\u001b[0m\u001b[32;1m statement\u001b[0m\u001b[32;1m of\u001b[0m\u001b[32;1m the\u001b[0m\u001b[31;1m Gamb[Hell]\u001b[0m\u001b[32;1menic\u001b[0m\u001b[32;1m and\u001b[0m\u001b[32;1m Cy\u001b[0m\u001b[31;1mto[pri]\u001b[0m\u001b[32;1mot\u001b[0m\u001b[32;1m Col\u001b[0m\u001b[32;1more\u001b[0m\u001b[32;1mct\u001b[0m\u001b[32;1mal\u001b[0m\u001b[32;1m Cancer\u001b[0m\u001b[32;1m Study\u001b[0m\u001b[32;1m Group\u001b[0m\u001b[32;1m by\u001b[0m\u001b[32;1m the\u001b[0m\u001b[32;1m He\u001b[0m\u001b[32;1mS\u001b[0m\u001b[31;1mLC[MO]\u001b[0m\u001b[32;1m*\u001b[0m\u001b[32;1m</s>\u001b[0m\n",
      "\n",
      "\n"
     ]
    },
    {
     "name": "stderr",
     "output_type": "stream",
     "text": [
      "INFO:***** Running Evaluation *****\n",
      "INFO:  Num examples = 2970\n",
      "INFO:  Batch size = 32\n"
     ]
    },
    {
     "name": "stdout",
     "output_type": "stream",
     "text": [
      "\n",
      "\n",
      "\u001b[32;1m<s>\u001b[0m\u001b[32;1mCl\u001b[0m\u001b[32;1minical\u001b[0m\u001b[32;1m practice\u001b[0m\u001b[32;1m guidelines\u001b[0m\u001b[32;1m for\u001b[0m\u001b[32;1m the\u001b[0m\u001b[32;1m surgical\u001b[0m\u001b[32;1m management\u001b[0m\u001b[32;1m of\u001b[0m\u001b[32;1m colon\u001b[0m\u001b[32;1m cancer\u001b[0m\u001b[32;1m:\u001b[0m\u001b[32;1m a\u001b[0m\u001b[32;1m consensus\u001b[0m\u001b[32;1m statement\u001b[0m\u001b[32;1m of\u001b[0m\u001b[32;1m the\u001b[0m\u001b[31;1m Nep[Hell]\u001b[0m\u001b[32;1menic\u001b[0m\u001b[32;1m and\u001b[0m\u001b[32;1m Cy\u001b[0m\u001b[32;1mpri\u001b[0m\u001b[32;1mot\u001b[0m\u001b[32;1m Col\u001b[0m\u001b[32;1more\u001b[0m\u001b[32;1mct\u001b[0m\u001b[32;1mal\u001b[0m\u001b[32;1m Cancer\u001b[0m\u001b[32;1m Study\u001b[0m\u001b[32;1m Group\u001b[0m\u001b[32;1m by\u001b[0m\u001b[32;1m the\u001b[0m\u001b[32;1m He\u001b[0m\u001b[32;1mS\u001b[0m\u001b[31;1mLC[MO]\u001b[0m\u001b[32;1m*\u001b[0m\u001b[32;1m</s>\u001b[0m\n",
      "\n",
      "\n"
     ]
    },
    {
     "name": "stderr",
     "output_type": "stream",
     "text": [
      "INFO:***** Running Evaluation *****\n",
      "INFO:  Num examples = 2970\n",
      "INFO:  Batch size = 32\n"
     ]
    },
    {
     "name": "stdout",
     "output_type": "stream",
     "text": [
      "\n",
      "\n",
      "\u001b[32;1m<s>\u001b[0m\u001b[32;1mThe\u001b[0m\u001b[32;1m Chinese\u001b[0m\u001b[32;1m Her\u001b[0m\u001b[32;1mbal\u001b[0m\u001b[32;1m Formula\u001b[0m\u001b[32;1m Shen\u001b[0m\u001b[32;1mz\u001b[0m\u001b[32;1mhu\u001b[0m\u001b[32;1m T\u001b[0m\u001b[32;1mia\u001b[0m\u001b[32;1mop\u001b[0m\u001b[31;1mro[i]\u001b[0m\u001b[32;1m Gran\u001b[0m\u001b[32;1mule\u001b[0m\u001b[32;1m Results\u001b[0m\u001b[32;1m in\u001b[0m\u001b[32;1m Met\u001b[0m\u001b[32;1mabolic\u001b[0m\u001b[32;1m Improvement\u001b[0m\u001b[32;1m in\u001b[0m\u001b[32;1m Type\u001b[0m\u001b[32;1m 2\u001b[0m\u001b[32;1m Di\u001b[0m\u001b[32;1mabetic\u001b[0m\u001b[32;1m Rats\u001b[0m\u001b[32;1m by\u001b[0m\u001b[32;1m Mod\u001b[0m\u001b[32;1mulating\u001b[0m\u001b[32;1m the\u001b[0m\u001b[32;1m Gut\u001b[0m\u001b[32;1m Micro\u001b[0m\u001b[32;1mbi\u001b[0m\u001b[32;1mota\u001b[0m\u001b[32;1m</s>\u001b[0m\n",
      "\n",
      "\n"
     ]
    },
    {
     "name": "stderr",
     "output_type": "stream",
     "text": [
      "INFO:***** Running Evaluation *****\n",
      "INFO:  Num examples = 2970\n",
      "INFO:  Batch size = 32\n"
     ]
    },
    {
     "name": "stdout",
     "output_type": "stream",
     "text": [
      "\n",
      "\n",
      "\u001b[32;1m<s>\u001b[0m\u001b[32;1mThe\u001b[0m\u001b[32;1m Chinese\u001b[0m\u001b[32;1m Her\u001b[0m\u001b[32;1mbal\u001b[0m\u001b[32;1m Formula\u001b[0m\u001b[32;1m Shen\u001b[0m\u001b[32;1mz\u001b[0m\u001b[31;1mhi[hu]\u001b[0m\u001b[32;1m T\u001b[0m\u001b[32;1mia\u001b[0m\u001b[32;1mop\u001b[0m\u001b[32;1mi\u001b[0m\u001b[32;1m Gran\u001b[0m\u001b[32;1mule\u001b[0m\u001b[32;1m Results\u001b[0m\u001b[32;1m in\u001b[0m\u001b[32;1m Met\u001b[0m\u001b[32;1mabolic\u001b[0m\u001b[32;1m Improvement\u001b[0m\u001b[32;1m in\u001b[0m\u001b[32;1m Type\u001b[0m\u001b[32;1m 2\u001b[0m\u001b[32;1m Di\u001b[0m\u001b[32;1mabetic\u001b[0m\u001b[32;1m Rats\u001b[0m\u001b[32;1m by\u001b[0m\u001b[32;1m Mod\u001b[0m\u001b[32;1mulating\u001b[0m\u001b[32;1m the\u001b[0m\u001b[32;1m Gut\u001b[0m\u001b[32;1m Micro\u001b[0m\u001b[32;1mbi\u001b[0m\u001b[32;1mota\u001b[0m\u001b[32;1m</s>\u001b[0m\n",
      "\n",
      "\n"
     ]
    },
    {
     "name": "stderr",
     "output_type": "stream",
     "text": [
      "Saving model checkpoint to /lm_models/checkpoint-23500\n",
      "Trainer.model is not a `PreTrainedModel`, only saving its state dict.\n",
      "Deleting older checkpoint [/lm_models/checkpoint-21000] due to args.save_total_limit\n",
      "/opt/conda/lib/python3.8/site-packages/torch/nn/parallel/_functions.py:68: UserWarning: Was asked to gather along dimension 0, but all input tensors were scalars; will instead unsqueeze and return a vector.\n",
      "  warnings.warn('Was asked to gather along dimension 0, but all '\n",
      "INFO:***** Running Evaluation *****\n",
      "INFO:  Num examples = 2970\n",
      "INFO:  Batch size = 32\n"
     ]
    },
    {
     "name": "stdout",
     "output_type": "stream",
     "text": [
      "\n",
      "\n",
      "\u001b[32;1m<s>\u001b[0m\u001b[32;1mThe\u001b[0m\u001b[32;1m global\u001b[0m\u001b[32;1m economic\u001b[0m\u001b[32;1m crisis\u001b[0m\u001b[32;1m,\u001b[0m\u001b[32;1m household\u001b[0m\u001b[32;1m income\u001b[0m\u001b[32;1m and\u001b[0m\u001b[32;1m pre\u001b[0m\u001b[32;1m-\u001b[0m\u001b[32;1mad\u001b[0m\u001b[32;1molescent\u001b[0m\u001b[32;1m overweight\u001b[0m\u001b[32;1m and\u001b[0m\u001b[32;1m under\u001b[0m\u001b[32;1mweight\u001b[0m\u001b[32;1m:\u001b[0m\u001b[32;1m a\u001b[0m\u001b[32;1m nationwide\u001b[0m\u001b[32;1m birth\u001b[0m\u001b[32;1m cohort\u001b[0m\u001b[32;1m study\u001b[0m\u001b[32;1m in\u001b[0m\u001b[32;1m Japan\u001b[0m\u001b[32;1m</s>\u001b[0m\n",
      "\n",
      "\n"
     ]
    },
    {
     "name": "stderr",
     "output_type": "stream",
     "text": [
      "INFO:***** Running Evaluation *****\n",
      "INFO:  Num examples = 2970\n",
      "INFO:  Batch size = 32\n"
     ]
    },
    {
     "name": "stdout",
     "output_type": "stream",
     "text": [
      "\n",
      "\n",
      "\u001b[32;1m<s>\u001b[0m\u001b[32;1mTop\u001b[0m\u001b[31;1m Solid[Mobile]\u001b[0m\u001b[32;1m Applications\u001b[0m\u001b[32;1m in\u001b[0m\u001b[32;1m Pediatrics\u001b[0m\u001b[32;1m and\u001b[0m\u001b[32;1m Children\u001b[0m\u001b[32;1m�\u001b[0m\u001b[32;1m�\u001b[0m\u001b[32;1ms\u001b[0m\u001b[32;1m Health\u001b[0m\u001b[32;1m:\u001b[0m\u001b[32;1m Assessment\u001b[0m\u001b[32;1m and\u001b[0m\u001b[32;1m Intelligent\u001b[0m\u001b[32;1m Analysis\u001b[0m\u001b[32;1m Tools\u001b[0m\u001b[32;1m for\u001b[0m\u001b[32;1m a\u001b[0m\u001b[32;1m System\u001b[0m\u001b[32;1matic\u001b[0m\u001b[32;1m Investigation\u001b[0m\u001b[32;1m</s>\u001b[0m\n",
      "\n",
      "\n"
     ]
    },
    {
     "name": "stderr",
     "output_type": "stream",
     "text": [
      "INFO:***** Running Evaluation *****\n",
      "INFO:  Num examples = 2970\n",
      "INFO:  Batch size = 32\n"
     ]
    },
    {
     "name": "stdout",
     "output_type": "stream",
     "text": [
      "\n",
      "\n",
      "\u001b[32;1m<s>\u001b[0m\u001b[32;1mCase\u001b[0m\u001b[32;1m of\u001b[0m\u001b[32;1m En\u001b[0m\u001b[32;1mlarg\u001b[0m\u001b[32;1mement\u001b[0m\u001b[32;1m of\u001b[0m\u001b[32;1m the\u001b[0m\u001b[32;1m Heart\u001b[0m\u001b[32;1m,\u001b[0m\u001b[32;1m with\u001b[0m\u001b[32;1m Poly\u001b[0m\u001b[31;1mmy[pi]\u001b[0m\u001b[32;1m,\u001b[0m\u001b[32;1m &\u001b[0m\u001b[32;1mc\u001b[0m\u001b[32;1m.\u001b[0m\u001b[32;1m Which\u001b[0m\u001b[32;1m Occ\u001b[0m\u001b[32;1murred\u001b[0m\u001b[32;1m on\u001b[0m\u001b[32;1m Board\u001b[0m\u001b[32;1m the\u001b[0m\u001b[31;1m Secure[Honour]\u001b[0m\u001b[32;1mable\u001b[0m\u001b[32;1m East\u001b[0m\u001b[32;1m India\u001b[0m\u001b[31;1m Council[Company]\u001b[0m\u001b[32;1m's\u001b[0m\u001b[31;1m Ice[Ship]\u001b[0m\u001b[31;1m Flor[Carn]\u001b[0m\u001b[31;1mival[atic]\u001b[0m\u001b[32;1m</s>\u001b[0m\n",
      "\n",
      "\n"
     ]
    },
    {
     "name": "stderr",
     "output_type": "stream",
     "text": [
      "INFO:***** Running Evaluation *****\n",
      "INFO:  Num examples = 2970\n",
      "INFO:  Batch size = 32\n"
     ]
    },
    {
     "name": "stdout",
     "output_type": "stream",
     "text": [
      "\n",
      "\n",
      "\u001b[32;1m<s>\u001b[0m\u001b[32;1mD\u001b[0m\u001b[32;1metermin\u001b[0m\u001b[32;1mants\u001b[0m\u001b[32;1m of\u001b[0m\u001b[32;1m birth\u001b[0m\u001b[32;1m as\u001b[0m\u001b[32;1mphy\u001b[0m\u001b[32;1mxia\u001b[0m\u001b[32;1m among\u001b[0m\u001b[32;1m live\u001b[0m\u001b[32;1m birth\u001b[0m\u001b[32;1m newborn\u001b[0m\u001b[32;1ms\u001b[0m\u001b[32;1m in\u001b[0m\u001b[32;1m University\u001b[0m\u001b[32;1m of\u001b[0m\u001b[32;1m G\u001b[0m\u001b[32;1mond\u001b[0m\u001b[32;1mar\u001b[0m\u001b[32;1m referral\u001b[0m\u001b[32;1m hospital\u001b[0m\u001b[32;1m,\u001b[0m\u001b[32;1m northwest\u001b[0m\u001b[32;1m Ethiopia\u001b[0m\u001b[32;1m:\u001b[0m\u001b[32;1m A\u001b[0m\u001b[32;1m case\u001b[0m\u001b[32;1m-\u001b[0m\u001b[32;1mcontrol\u001b[0m\u001b[32;1m study\u001b[0m\u001b[32;1m</s>\u001b[0m\n",
      "\n",
      "\n"
     ]
    },
    {
     "name": "stderr",
     "output_type": "stream",
     "text": [
      "INFO:***** Running Evaluation *****\n",
      "INFO:  Num examples = 2970\n",
      "INFO:  Batch size = 32\n"
     ]
    },
    {
     "name": "stdout",
     "output_type": "stream",
     "text": [
      "\n",
      "\n",
      "\u001b[32;1m<s>\u001b[0m\u001b[32;1mCorrection\u001b[0m\u001b[32;1m to\u001b[0m\u001b[32;1m �\u001b[0m\u001b[32;1m�\u001b[0m\u001b[32;1mSw\u001b[0m\u001b[32;1mitching\u001b[0m\u001b[32;1m from\u001b[0m\u001b[32;1m Controlled\u001b[0m\u001b[32;1m Ring\u001b[0m\u001b[32;1m-\u001b[0m\u001b[32;1mOpening\u001b[0m\u001b[32;1m Poly\u001b[0m\u001b[32;1mmer\u001b[0m\u001b[32;1mization\u001b[0m\u001b[32;1m (\u001b[0m\u001b[32;1mc\u001b[0m\u001b[32;1mR\u001b[0m\u001b[32;1mOP\u001b[0m\u001b[32;1m)\u001b[0m\u001b[32;1m to\u001b[0m\u001b[32;1m Controlled\u001b[0m\u001b[31;1m X[Ring]\u001b[0m\u001b[32;1m-\u001b[0m\u001b[32;1mCl\u001b[0m\u001b[32;1mosing\u001b[0m\u001b[32;1m Dep\u001b[0m\u001b[32;1moly\u001b[0m\u001b[32;1mmer\u001b[0m\u001b[32;1mization\u001b[0m\u001b[32;1m (\u001b[0m\u001b[32;1mc\u001b[0m\u001b[31;1mCR[RC]\u001b[0m\u001b[31;1m)[DP]\u001b[0m\u001b[32;1m)\u001b[0m\u001b[32;1m by\u001b[0m\u001b[31;1m Impro[Adjust]\u001b[0m\u001b[32;1ming\u001b[0m\u001b[32;1m the\u001b[0m\u001b[31;1m Stability[Reaction]\u001b[0m\u001b[31;1m Properties[Parameters]\u001b[0m\u001b[32;1m That\u001b[0m\u001b[32;1m Deter\u001b[0m\u001b[32;1mmine\u001b[0m\u001b[32;1m the\u001b[0m\u001b[31;1m Prop[Ce]\u001b[0m\u001b[31;1mft[iling]\u001b[0m\u001b[32;1m Temperature\u001b[0m\u001b[32;1m�\u001b[0m\u001b[32;1m�\u001b[0m\u001b[32;1m</s>\u001b[0m\n",
      "\n",
      "\n"
     ]
    },
    {
     "name": "stderr",
     "output_type": "stream",
     "text": [
      "Saving model checkpoint to /lm_models/checkpoint-24000\n",
      "Trainer.model is not a `PreTrainedModel`, only saving its state dict.\n",
      "Deleting older checkpoint [/lm_models/checkpoint-21500] due to args.save_total_limit\n",
      "/opt/conda/lib/python3.8/site-packages/torch/nn/parallel/_functions.py:68: UserWarning: Was asked to gather along dimension 0, but all input tensors were scalars; will instead unsqueeze and return a vector.\n",
      "  warnings.warn('Was asked to gather along dimension 0, but all '\n",
      "INFO:***** Running Evaluation *****\n",
      "INFO:  Num examples = 2970\n",
      "INFO:  Batch size = 32\n"
     ]
    },
    {
     "name": "stdout",
     "output_type": "stream",
     "text": [
      "\n",
      "\n",
      "\u001b[32;1m<s>\u001b[0m\u001b[32;1mThe\u001b[0m\u001b[32;1m impact\u001b[0m\u001b[32;1m of\u001b[0m\u001b[31;1m delivering[removing]\u001b[0m\u001b[32;1m financial\u001b[0m\u001b[32;1m incentives\u001b[0m\u001b[32;1m from\u001b[0m\u001b[32;1m clinical\u001b[0m\u001b[32;1m quality\u001b[0m\u001b[32;1m indicators\u001b[0m\u001b[32;1m:\u001b[0m\u001b[32;1m longitudinal\u001b[0m\u001b[32;1m analysis\u001b[0m\u001b[32;1m of\u001b[0m\u001b[32;1m four\u001b[0m\u001b[31;1m Glasgow[Kaiser]\u001b[0m\u001b[32;1m P\u001b[0m\u001b[32;1merman\u001b[0m\u001b[32;1mente\u001b[0m\u001b[32;1m indicators\u001b[0m\u001b[32;1m</s>\u001b[0m\n",
      "\n",
      "\n"
     ]
    },
    {
     "name": "stderr",
     "output_type": "stream",
     "text": [
      "INFO:***** Running Evaluation *****\n",
      "INFO:  Num examples = 2970\n",
      "INFO:  Batch size = 32\n"
     ]
    },
    {
     "name": "stdout",
     "output_type": "stream",
     "text": [
      "\n",
      "\n",
      "\u001b[32;1m<s>\u001b[0m\u001b[32;1mCa\u001b[0m\u001b[32;1men\u001b[0m\u001b[32;1mor\u001b[0m\u001b[32;1mhab\u001b[0m\u001b[32;1mdit\u001b[0m\u001b[32;1mis\u001b[0m\u001b[32;1m eleg\u001b[0m\u001b[32;1mans\u001b[0m\u001b[32;1m Hist\u001b[0m\u001b[32;1mone\u001b[0m\u001b[32;1m M\u001b[0m\u001b[32;1methyl\u001b[0m\u001b[32;1mtransfer\u001b[0m\u001b[32;1mase\u001b[0m\u001b[32;1m MET\u001b[0m\u001b[32;1m-\u001b[0m\u001b[32;1m2\u001b[0m\u001b[31;1m Amid[Shields]\u001b[0m\u001b[32;1m the\u001b[0m\u001b[32;1m Male\u001b[0m\u001b[32;1m X\u001b[0m\u001b[32;1m Chrom\u001b[0m\u001b[32;1mos\u001b[0m\u001b[32;1mome\u001b[0m\u001b[32;1m from\u001b[0m\u001b[32;1m Check\u001b[0m\u001b[32;1mpoint\u001b[0m\u001b[32;1m Mach\u001b[0m\u001b[32;1minery\u001b[0m\u001b[32;1m and\u001b[0m\u001b[32;1m Med\u001b[0m\u001b[32;1miates\u001b[0m\u001b[32;1m Me\u001b[0m\u001b[32;1miotic\u001b[0m\u001b[32;1m Sex\u001b[0m\u001b[32;1m Chrom\u001b[0m\u001b[32;1mos\u001b[0m\u001b[32;1mome\u001b[0m\u001b[32;1m In\u001b[0m\u001b[32;1mactivation\u001b[0m\u001b[32;1m</s>\u001b[0m\n",
      "\n",
      "\n"
     ]
    },
    {
     "name": "stderr",
     "output_type": "stream",
     "text": [
      "INFO:***** Running Evaluation *****\n",
      "INFO:  Num examples = 2970\n",
      "INFO:  Batch size = 32\n"
     ]
    },
    {
     "name": "stdout",
     "output_type": "stream",
     "text": [
      "\n",
      "\n",
      "\u001b[32;1m<s>\u001b[0m\u001b[32;1mAdvanced\u001b[0m\u001b[32;1m moderately\u001b[0m\u001b[32;1m differentiated\u001b[0m\u001b[32;1m neuro\u001b[0m\u001b[32;1mend\u001b[0m\u001b[32;1mocrine\u001b[0m\u001b[32;1m carcin\u001b[0m\u001b[32;1moma\u001b[0m\u001b[32;1m of\u001b[0m\u001b[32;1m the\u001b[0m\u001b[32;1m rect\u001b[0m\u001b[32;1mum\u001b[0m\u001b[32;1m with\u001b[0m\u001b[32;1m favorable\u001b[0m\u001b[32;1m prog\u001b[0m\u001b[32;1mnosis\u001b[0m\u001b[32;1m by\u001b[0m\u001b[32;1m post\u001b[0m\u001b[32;1moperative\u001b[0m\u001b[32;1m che\u001b[0m\u001b[32;1mmor\u001b[0m\u001b[32;1mad\u001b[0m\u001b[32;1miation\u001b[0m\u001b[32;1m</s>\u001b[0m\n",
      "\n",
      "\n"
     ]
    },
    {
     "name": "stderr",
     "output_type": "stream",
     "text": [
      "INFO:***** Running Evaluation *****\n",
      "INFO:  Num examples = 2970\n",
      "INFO:  Batch size = 32\n"
     ]
    },
    {
     "name": "stdout",
     "output_type": "stream",
     "text": [
      "\n",
      "\n",
      "\u001b[32;1m<s>\u001b[0m\u001b[32;1mAdvanced\u001b[0m\u001b[32;1m moderately\u001b[0m\u001b[32;1m differentiated\u001b[0m\u001b[32;1m neuro\u001b[0m\u001b[32;1mend\u001b[0m\u001b[32;1mocrine\u001b[0m\u001b[32;1m carcin\u001b[0m\u001b[32;1moma\u001b[0m\u001b[32;1m of\u001b[0m\u001b[32;1m the\u001b[0m\u001b[32;1m rect\u001b[0m\u001b[32;1mum\u001b[0m\u001b[32;1m with\u001b[0m\u001b[32;1m favorable\u001b[0m\u001b[32;1m prog\u001b[0m\u001b[32;1mnosis\u001b[0m\u001b[32;1m by\u001b[0m\u001b[32;1m post\u001b[0m\u001b[32;1moperative\u001b[0m\u001b[32;1m che\u001b[0m\u001b[32;1mmor\u001b[0m\u001b[32;1mad\u001b[0m\u001b[32;1miation\u001b[0m\u001b[32;1m</s>\u001b[0m\n",
      "\n",
      "\n"
     ]
    },
    {
     "name": "stderr",
     "output_type": "stream",
     "text": [
      "INFO:***** Running Evaluation *****\n",
      "INFO:  Num examples = 2970\n",
      "INFO:  Batch size = 32\n"
     ]
    },
    {
     "name": "stdout",
     "output_type": "stream",
     "text": [
      "\n",
      "\n",
      "\u001b[32;1m<s>\u001b[0m\u001b[32;1mCompar\u001b[0m\u001b[32;1mison\u001b[0m\u001b[32;1m of\u001b[0m\u001b[32;1m Performance\u001b[0m\u001b[32;1m Achievement\u001b[0m\u001b[31;1m Alert[Award]\u001b[0m\u001b[32;1m Recogn\u001b[0m\u001b[32;1mition\u001b[0m\u001b[32;1m With\u001b[0m\u001b[32;1m Primary\u001b[0m\u001b[32;1m Stro\u001b[0m\u001b[32;1mke\u001b[0m\u001b[32;1m Center\u001b[0m\u001b[31;1m Registration[Certification]\u001b[0m\u001b[32;1m for\u001b[0m\u001b[32;1m Ac\u001b[0m\u001b[32;1mute\u001b[0m\u001b[32;1m Is\u001b[0m\u001b[32;1mche\u001b[0m\u001b[32;1mmic\u001b[0m\u001b[32;1m Stro\u001b[0m\u001b[32;1mke\u001b[0m\u001b[32;1m Care\u001b[0m\u001b[32;1m</s>\u001b[0m\n",
      "\n",
      "\n"
     ]
    },
    {
     "name": "stderr",
     "output_type": "stream",
     "text": [
      "Saving model checkpoint to /lm_models/checkpoint-24500\n",
      "Trainer.model is not a `PreTrainedModel`, only saving its state dict.\n",
      "Deleting older checkpoint [/lm_models/checkpoint-22000] due to args.save_total_limit\n",
      "/opt/conda/lib/python3.8/site-packages/torch/nn/parallel/_functions.py:68: UserWarning: Was asked to gather along dimension 0, but all input tensors were scalars; will instead unsqueeze and return a vector.\n",
      "  warnings.warn('Was asked to gather along dimension 0, but all '\n",
      "INFO:***** Running Evaluation *****\n",
      "INFO:  Num examples = 2970\n",
      "INFO:  Batch size = 32\n"
     ]
    },
    {
     "name": "stdout",
     "output_type": "stream",
     "text": [
      "\n",
      "\n",
      "\u001b[32;1m<s>\u001b[0m\u001b[32;1mA\u001b[0m\u001b[32;1m prospective\u001b[0m\u001b[32;1m study\u001b[0m\u001b[32;1m of\u001b[0m\u001b[32;1m shoulder\u001b[0m\u001b[32;1m pain\u001b[0m\u001b[32;1m in\u001b[0m\u001b[32;1m primary\u001b[0m\u001b[32;1m care\u001b[0m\u001b[32;1m:\u001b[0m\u001b[32;1m Pre\u001b[0m\u001b[32;1mval\u001b[0m\u001b[32;1mence\u001b[0m\u001b[32;1m of\u001b[0m\u001b[32;1m im\u001b[0m\u001b[32;1maged\u001b[0m\u001b[32;1m pathology\u001b[0m\u001b[32;1m and\u001b[0m\u001b[32;1m response\u001b[0m\u001b[32;1m to\u001b[0m\u001b[32;1m guided\u001b[0m\u001b[32;1m diagnostic\u001b[0m\u001b[32;1m blocks\u001b[0m\u001b[32;1m</s>\u001b[0m\n",
      "\n",
      "\n"
     ]
    },
    {
     "name": "stderr",
     "output_type": "stream",
     "text": [
      "INFO:***** Running Evaluation *****\n",
      "INFO:  Num examples = 2970\n",
      "INFO:  Batch size = 32\n"
     ]
    },
    {
     "name": "stdout",
     "output_type": "stream",
     "text": [
      "\n",
      "\n",
      "\u001b[32;1m<s>\u001b[0m\u001b[32;1mDet\u001b[0m\u001b[32;1mection\u001b[0m\u001b[32;1m of\u001b[0m\u001b[32;1m a\u001b[0m\u001b[32;1m CT\u001b[0m\u001b[32;1mX\u001b[0m\u001b[32;1m-\u001b[0m\u001b[32;1mM\u001b[0m\u001b[32;1m group\u001b[0m\u001b[32;1m 2\u001b[0m\u001b[32;1m beta\u001b[0m\u001b[32;1m-\u001b[0m\u001b[32;1ml\u001b[0m\u001b[32;1mact\u001b[0m\u001b[32;1mam\u001b[0m\u001b[32;1mase\u001b[0m\u001b[32;1m gene\u001b[0m\u001b[32;1m in\u001b[0m\u001b[32;1m a\u001b[0m\u001b[32;1m Kle\u001b[0m\u001b[32;1mbs\u001b[0m\u001b[32;1mie\u001b[0m\u001b[32;1mlla\u001b[0m\u001b[32;1m pneumonia\u001b[0m\u001b[32;1me\u001b[0m\u001b[32;1m isolate\u001b[0m\u001b[32;1m from\u001b[0m\u001b[32;1m a\u001b[0m\u001b[32;1m tert\u001b[0m\u001b[32;1miary\u001b[0m\u001b[32;1m care\u001b[0m\u001b[32;1m hospital\u001b[0m\u001b[32;1m,\u001b[0m\u001b[31;1m Senegal[Trinidad]\u001b[0m\u001b[32;1m and\u001b[0m\u001b[31;1m Herz[Tob]\u001b[0m\u001b[32;1mago\u001b[0m\u001b[32;1m</s>\u001b[0m\n",
      "\n",
      "\n"
     ]
    },
    {
     "name": "stderr",
     "output_type": "stream",
     "text": [
      "INFO:***** Running Evaluation *****\n",
      "INFO:  Num examples = 2970\n",
      "INFO:  Batch size = 32\n"
     ]
    },
    {
     "name": "stdout",
     "output_type": "stream",
     "text": [
      "\n",
      "\n",
      "\u001b[32;1m<s>\u001b[0m\u001b[32;1mPre\u001b[0m\u001b[32;1mval\u001b[0m\u001b[32;1mence\u001b[0m\u001b[32;1m,\u001b[0m\u001b[32;1m intensity\u001b[0m\u001b[32;1m and\u001b[0m\u001b[32;1m risk\u001b[0m\u001b[32;1m factors\u001b[0m\u001b[32;1m of\u001b[0m\u001b[32;1m t\u001b[0m\u001b[32;1mung\u001b[0m\u001b[32;1miasis\u001b[0m\u001b[32;1m in\u001b[0m\u001b[32;1m Kil\u001b[0m\u001b[32;1mifi\u001b[0m\u001b[32;1m County\u001b[0m\u001b[32;1m,\u001b[0m\u001b[32;1m Kenya\u001b[0m\u001b[31;1m:[II]\u001b[0m\u001b[32;1m:\u001b[0m\u001b[32;1m Results\u001b[0m\u001b[32;1m from\u001b[0m\u001b[32;1m a\u001b[0m\u001b[32;1m school\u001b[0m\u001b[32;1m-\u001b[0m\u001b[32;1mbased\u001b[0m\u001b[32;1m observational\u001b[0m\u001b[32;1m study\u001b[0m\u001b[32;1m</s>\u001b[0m\n",
      "\n",
      "\n"
     ]
    },
    {
     "name": "stderr",
     "output_type": "stream",
     "text": [
      "INFO:***** Running Evaluation *****\n",
      "INFO:  Num examples = 2970\n",
      "INFO:  Batch size = 32\n"
     ]
    },
    {
     "name": "stdout",
     "output_type": "stream",
     "text": [
      "\n",
      "\n",
      "\u001b[32;1m<s>\u001b[0m\u001b[32;1mA\u001b[0m\u001b[32;1m prospective\u001b[0m\u001b[32;1m study\u001b[0m\u001b[32;1m of\u001b[0m\u001b[32;1m shoulder\u001b[0m\u001b[32;1m pain\u001b[0m\u001b[32;1m in\u001b[0m\u001b[32;1m primary\u001b[0m\u001b[32;1m care\u001b[0m\u001b[32;1m:\u001b[0m\u001b[32;1m Pre\u001b[0m\u001b[32;1mval\u001b[0m\u001b[32;1mence\u001b[0m\u001b[32;1m of\u001b[0m\u001b[32;1m im\u001b[0m\u001b[32;1maged\u001b[0m\u001b[32;1m pathology\u001b[0m\u001b[32;1m and\u001b[0m\u001b[32;1m response\u001b[0m\u001b[32;1m to\u001b[0m\u001b[32;1m guided\u001b[0m\u001b[32;1m diagnostic\u001b[0m\u001b[32;1m blocks\u001b[0m\u001b[32;1m</s>\u001b[0m\n",
      "\n",
      "\n"
     ]
    },
    {
     "name": "stderr",
     "output_type": "stream",
     "text": [
      "INFO:***** Running Evaluation *****\n",
      "INFO:  Num examples = 2970\n",
      "INFO:  Batch size = 32\n"
     ]
    },
    {
     "name": "stdout",
     "output_type": "stream",
     "text": [
      "\n",
      "\n",
      "\u001b[32;1m<s>\u001b[0m\u001b[32;1mThe\u001b[0m\u001b[32;1m impact\u001b[0m\u001b[32;1m of\u001b[0m\u001b[32;1m removing\u001b[0m\u001b[32;1m financial\u001b[0m\u001b[32;1m incentives\u001b[0m\u001b[32;1m from\u001b[0m\u001b[32;1m clinical\u001b[0m\u001b[32;1m quality\u001b[0m\u001b[32;1m indicators\u001b[0m\u001b[32;1m:\u001b[0m\u001b[32;1m longitudinal\u001b[0m\u001b[32;1m analysis\u001b[0m\u001b[32;1m of\u001b[0m\u001b[32;1m four\u001b[0m\u001b[31;1m CBC[Kaiser]\u001b[0m\u001b[32;1m P\u001b[0m\u001b[31;1maed[erman]\u001b[0m\u001b[31;1mency[ente]\u001b[0m\u001b[32;1m indicators\u001b[0m\u001b[32;1m</s>\u001b[0m\n",
      "\n",
      "\n"
     ]
    },
    {
     "name": "stderr",
     "output_type": "stream",
     "text": [
      "Saving model checkpoint to /lm_models/checkpoint-25000\n",
      "Trainer.model is not a `PreTrainedModel`, only saving its state dict.\n",
      "Deleting older checkpoint [/lm_models/checkpoint-22500] due to args.save_total_limit\n",
      "/opt/conda/lib/python3.8/site-packages/torch/nn/parallel/_functions.py:68: UserWarning: Was asked to gather along dimension 0, but all input tensors were scalars; will instead unsqueeze and return a vector.\n",
      "  warnings.warn('Was asked to gather along dimension 0, but all '\n",
      "INFO:***** Running Evaluation *****\n",
      "INFO:  Num examples = 2970\n",
      "INFO:  Batch size = 32\n"
     ]
    },
    {
     "name": "stdout",
     "output_type": "stream",
     "text": [
      "\n",
      "\n",
      "\u001b[32;1m<s>\u001b[0m\u001b[32;1mPre\u001b[0m\u001b[32;1mval\u001b[0m\u001b[32;1mence\u001b[0m\u001b[32;1m,\u001b[0m\u001b[32;1m intensity\u001b[0m\u001b[32;1m and\u001b[0m\u001b[32;1m risk\u001b[0m\u001b[32;1m factors\u001b[0m\u001b[32;1m of\u001b[0m\u001b[32;1m t\u001b[0m\u001b[32;1mung\u001b[0m\u001b[32;1miasis\u001b[0m\u001b[32;1m in\u001b[0m\u001b[32;1m Kil\u001b[0m\u001b[32;1mifi\u001b[0m\u001b[32;1m County\u001b[0m\u001b[32;1m,\u001b[0m\u001b[32;1m Kenya\u001b[0m\u001b[31;1m:[II]\u001b[0m\u001b[32;1m:\u001b[0m\u001b[32;1m Results\u001b[0m\u001b[32;1m from\u001b[0m\u001b[32;1m a\u001b[0m\u001b[32;1m school\u001b[0m\u001b[32;1m-\u001b[0m\u001b[32;1mbased\u001b[0m\u001b[32;1m observational\u001b[0m\u001b[32;1m study\u001b[0m\u001b[32;1m</s>\u001b[0m\n",
      "\n",
      "\n"
     ]
    },
    {
     "name": "stderr",
     "output_type": "stream",
     "text": [
      "INFO:***** Running Evaluation *****\n",
      "INFO:  Num examples = 2970\n",
      "INFO:  Batch size = 32\n"
     ]
    },
    {
     "name": "stdout",
     "output_type": "stream",
     "text": [
      "\n",
      "\n",
      "\u001b[32;1m<s>\u001b[0m\u001b[32;1mThe\u001b[0m\u001b[32;1m effects\u001b[0m\u001b[32;1m of\u001b[0m\u001b[32;1m short\u001b[0m\u001b[32;1m-\u001b[0m\u001b[32;1mterm\u001b[0m\u001b[32;1m hyp\u001b[0m\u001b[32;1mox\u001b[0m\u001b[32;1mia\u001b[0m\u001b[32;1m on\u001b[0m\u001b[32;1m human\u001b[0m\u001b[32;1m mes\u001b[0m\u001b[32;1mench\u001b[0m\u001b[32;1mym\u001b[0m\u001b[32;1mal\u001b[0m\u001b[32;1m stem\u001b[0m\u001b[32;1m cell\u001b[0m\u001b[32;1m proliferation\u001b[0m\u001b[32;1m,\u001b[0m\u001b[32;1m viability\u001b[0m\u001b[32;1m and\u001b[0m\u001b[32;1m p\u001b[0m\u001b[32;1m16\u001b[0m\u001b[32;1mINK\u001b[0m\u001b[32;1m4\u001b[0m\u001b[32;1mA\u001b[0m\u001b[32;1m mRNA\u001b[0m\u001b[32;1m expression\u001b[0m\u001b[32;1m:\u001b[0m\u001b[31;1m An[Investigation]\u001b[0m\u001b[32;1m using\u001b[0m\u001b[32;1m a\u001b[0m\u001b[32;1m simple\u001b[0m\u001b[32;1m hyp\u001b[0m\u001b[31;1mother[oxic]\u001b[0m\u001b[31;1m system[culture]\u001b[0m\u001b[32;1m system\u001b[0m\u001b[32;1m with\u001b[0m\u001b[32;1m a\u001b[0m\u001b[32;1m de\u001b[0m\u001b[32;1mox\u001b[0m\u001b[32;1mid\u001b[0m\u001b[32;1mizing\u001b[0m\u001b[32;1m agent\u001b[0m\u001b[32;1m</s>\u001b[0m\n",
      "\n",
      "\n"
     ]
    },
    {
     "name": "stderr",
     "output_type": "stream",
     "text": [
      "INFO:***** Running Evaluation *****\n",
      "INFO:  Num examples = 2970\n",
      "INFO:  Batch size = 32\n"
     ]
    },
    {
     "name": "stdout",
     "output_type": "stream",
     "text": [
      "\n",
      "\n",
      "\u001b[32;1m<s>\u001b[0m\u001b[32;1mMe\u001b[0m\u001b[32;1miotic\u001b[0m\u001b[32;1m analyses\u001b[0m\u001b[32;1m show\u001b[0m\u001b[32;1m adaptations\u001b[0m\u001b[32;1m to\u001b[0m\u001b[32;1m maintenance\u001b[0m\u001b[32;1m of\u001b[0m\u001b[32;1m fertility\u001b[0m\u001b[32;1m in\u001b[0m\u001b[32;1m X\u001b[0m\u001b[32;1m1\u001b[0m\u001b[32;1mY\u001b[0m\u001b[32;1m1\u001b[0m\u001b[32;1mX\u001b[0m\u001b[31;1m0[2]\u001b[0m\u001b[32;1mY\u001b[0m\u001b[32;1m2\u001b[0m\u001b[32;1mX\u001b[0m\u001b[32;1m3\u001b[0m\u001b[32;1mY\u001b[0m\u001b[32;1m3\u001b[0m\u001b[32;1mX\u001b[0m\u001b[32;1m4\u001b[0m\u001b[32;1mY\u001b[0m\u001b[32;1m4\u001b[0m\u001b[31;1mq[X]\u001b[0m\u001b[32;1m5\u001b[0m\u001b[32;1mY\u001b[0m\u001b[31;1m3[5]\u001b[0m\u001b[31;1m complex[system]\u001b[0m\u001b[32;1m of\u001b[0m\u001b[31;1m allergic[am]\u001b[0m\u001b[31;1mnesia[azon]\u001b[0m\u001b[31;1mus[frog]\u001b[0m\u001b[31;1m le[Le]\u001b[0m\u001b[31;1myd[pt]\u001b[0m\u001b[32;1mod\u001b[0m\u001b[32;1mact\u001b[0m\u001b[32;1myl\u001b[0m\u001b[32;1mus\u001b[0m\u001b[31;1m mit[pent]\u001b[0m\u001b[31;1mat[ad]\u001b[0m\u001b[32;1mact\u001b[0m\u001b[32;1myl\u001b[0m\u001b[32;1mus\u001b[0m\u001b[32;1m (\u001b[0m\u001b[31;1mJ[La]\u001b[0m\u001b[31;1mev[ure]\u001b[0m\u001b[31;1mng[nt]\u001b[0m\u001b[31;1mhe[i]\u001b[0m\u001b[32;1m,\u001b[0m\u001b[32;1m 17\u001b[0m\u001b[31;1m76[68]\u001b[0m\u001b[32;1m)\u001b[0m\u001b[32;1m</s>\u001b[0m\n",
      "\n",
      "\n"
     ]
    },
    {
     "name": "stderr",
     "output_type": "stream",
     "text": [
      "INFO:***** Running Evaluation *****\n",
      "INFO:  Num examples = 2970\n",
      "INFO:  Batch size = 32\n"
     ]
    },
    {
     "name": "stdout",
     "output_type": "stream",
     "text": [
      "\n",
      "\n",
      "\u001b[32;1m<s>\u001b[0m\u001b[32;1mPre\u001b[0m\u001b[32;1mval\u001b[0m\u001b[32;1mence\u001b[0m\u001b[32;1m,\u001b[0m\u001b[32;1m intensity\u001b[0m\u001b[32;1m and\u001b[0m\u001b[32;1m risk\u001b[0m\u001b[32;1m factors\u001b[0m\u001b[32;1m of\u001b[0m\u001b[32;1m t\u001b[0m\u001b[32;1mung\u001b[0m\u001b[32;1miasis\u001b[0m\u001b[32;1m in\u001b[0m\u001b[32;1m Kil\u001b[0m\u001b[32;1mifi\u001b[0m\u001b[32;1m County\u001b[0m\u001b[32;1m,\u001b[0m\u001b[32;1m Kenya\u001b[0m\u001b[31;1m:[II]\u001b[0m\u001b[32;1m:\u001b[0m\u001b[32;1m Results\u001b[0m\u001b[32;1m from\u001b[0m\u001b[32;1m a\u001b[0m\u001b[32;1m school\u001b[0m\u001b[32;1m-\u001b[0m\u001b[32;1mbased\u001b[0m\u001b[32;1m observational\u001b[0m\u001b[32;1m study\u001b[0m\u001b[32;1m</s>\u001b[0m\n",
      "\n",
      "\n"
     ]
    },
    {
     "name": "stderr",
     "output_type": "stream",
     "text": [
      "INFO:***** Running Evaluation *****\n",
      "INFO:  Num examples = 2970\n",
      "INFO:  Batch size = 32\n"
     ]
    },
    {
     "name": "stdout",
     "output_type": "stream",
     "text": [
      "\n",
      "\n",
      "\u001b[32;1m<s>\u001b[0m\u001b[32;1mMe\u001b[0m\u001b[32;1miotic\u001b[0m\u001b[32;1m analyses\u001b[0m\u001b[32;1m show\u001b[0m\u001b[32;1m adaptations\u001b[0m\u001b[32;1m to\u001b[0m\u001b[32;1m maintenance\u001b[0m\u001b[32;1m of\u001b[0m\u001b[32;1m fertility\u001b[0m\u001b[32;1m in\u001b[0m\u001b[32;1m X\u001b[0m\u001b[32;1m1\u001b[0m\u001b[32;1mY\u001b[0m\u001b[32;1m1\u001b[0m\u001b[32;1mX\u001b[0m\u001b[31;1mE[2]\u001b[0m\u001b[32;1mY\u001b[0m\u001b[32;1m2\u001b[0m\u001b[32;1mX\u001b[0m\u001b[32;1m3\u001b[0m\u001b[32;1mY\u001b[0m\u001b[32;1m3\u001b[0m\u001b[32;1mX\u001b[0m\u001b[32;1m4\u001b[0m\u001b[32;1mY\u001b[0m\u001b[32;1m4\u001b[0m\u001b[32;1mX\u001b[0m\u001b[32;1m5\u001b[0m\u001b[32;1mY\u001b[0m\u001b[31;1m3[5]\u001b[0m\u001b[31;1m complex[system]\u001b[0m\u001b[32;1m of\u001b[0m\u001b[32;1m am\u001b[0m\u001b[32;1mazon\u001b[0m\u001b[31;1mus[frog]\u001b[0m\u001b[31;1m E[Le]\u001b[0m\u001b[32;1mpt\u001b[0m\u001b[32;1mod\u001b[0m\u001b[32;1mact\u001b[0m\u001b[32;1myl\u001b[0m\u001b[32;1mus\u001b[0m\u001b[32;1m pent\u001b[0m\u001b[31;1mat[ad]\u001b[0m\u001b[32;1mact\u001b[0m\u001b[32;1myl\u001b[0m\u001b[32;1mus\u001b[0m\u001b[32;1m (\u001b[0m\u001b[31;1mAr[La]\u001b[0m\u001b[31;1mev[ure]\u001b[0m\u001b[31;1mne[nt]\u001b[0m\u001b[31;1mhe[i]\u001b[0m\u001b[32;1m,\u001b[0m\u001b[32;1m 17\u001b[0m\u001b[31;1m58[68]\u001b[0m\u001b[32;1m)\u001b[0m\u001b[32;1m</s>\u001b[0m\n",
      "\n",
      "\n"
     ]
    },
    {
     "name": "stderr",
     "output_type": "stream",
     "text": [
      "Saving model checkpoint to /lm_models/checkpoint-25500\n",
      "Trainer.model is not a `PreTrainedModel`, only saving its state dict.\n",
      "Deleting older checkpoint [/lm_models/checkpoint-23000] due to args.save_total_limit\n",
      "/opt/conda/lib/python3.8/site-packages/torch/nn/parallel/_functions.py:68: UserWarning: Was asked to gather along dimension 0, but all input tensors were scalars; will instead unsqueeze and return a vector.\n",
      "  warnings.warn('Was asked to gather along dimension 0, but all '\n",
      "INFO:***** Running Evaluation *****\n",
      "INFO:  Num examples = 2970\n",
      "INFO:  Batch size = 32\n"
     ]
    },
    {
     "name": "stdout",
     "output_type": "stream",
     "text": [
      "\n",
      "\n",
      "\u001b[32;1m<s>\u001b[0m\u001b[32;1mD\u001b[0m\u001b[32;1mise\u001b[0m\u001b[32;1mase\u001b[0m\u001b[32;1m manifestations\u001b[0m\u001b[32;1m of\u001b[0m\u001b[32;1m Helic\u001b[0m\u001b[32;1mob\u001b[0m\u001b[32;1macter\u001b[0m\u001b[32;1m p\u001b[0m\u001b[32;1myl\u001b[0m\u001b[32;1mori\u001b[0m\u001b[32;1m infection\u001b[0m\u001b[32;1m in\u001b[0m\u001b[32;1m Arctic\u001b[0m\u001b[32;1m Canada\u001b[0m\u001b[32;1m:\u001b[0m\u001b[32;1m using\u001b[0m\u001b[32;1m epidem\u001b[0m\u001b[32;1miology\u001b[0m\u001b[32;1m to\u001b[0m\u001b[32;1m address\u001b[0m\u001b[32;1m community\u001b[0m\u001b[32;1m concerns\u001b[0m\u001b[32;1m</s>\u001b[0m\n",
      "\n",
      "\n"
     ]
    },
    {
     "name": "stderr",
     "output_type": "stream",
     "text": [
      "INFO:***** Running Evaluation *****\n",
      "INFO:  Num examples = 2970\n",
      "INFO:  Batch size = 32\n"
     ]
    },
    {
     "name": "stdout",
     "output_type": "stream",
     "text": [
      "\n",
      "\n",
      "\u001b[32;1m<s>\u001b[0m\u001b[32;1mSmall\u001b[0m\u001b[32;1m-\u001b[0m\u001b[32;1mfor\u001b[0m\u001b[32;1m-\u001b[0m\u001b[32;1mgest\u001b[0m\u001b[32;1mational\u001b[0m\u001b[32;1m age\u001b[0m\u001b[32;1m and\u001b[0m\u001b[32;1m its\u001b[0m\u001b[32;1m association\u001b[0m\u001b[32;1m with\u001b[0m\u001b[32;1m maternal\u001b[0m\u001b[32;1m blood\u001b[0m\u001b[32;1m glucose\u001b[0m\u001b[32;1m,\u001b[0m\u001b[32;1m body\u001b[0m\u001b[32;1m mass\u001b[0m\u001b[32;1m index\u001b[0m\u001b[32;1m and\u001b[0m\u001b[31;1m height[stature]\u001b[0m\u001b[32;1m:\u001b[0m\u001b[32;1m a\u001b[0m\u001b[32;1m per\u001b[0m\u001b[32;1min\u001b[0m\u001b[32;1matal\u001b[0m\u001b[32;1m cohort\u001b[0m\u001b[32;1m study\u001b[0m\u001b[32;1m among\u001b[0m\u001b[32;1m Chinese\u001b[0m\u001b[32;1m women\u001b[0m\u001b[32;1m</s>\u001b[0m\n",
      "\n",
      "\n"
     ]
    },
    {
     "name": "stderr",
     "output_type": "stream",
     "text": [
      "INFO:***** Running Evaluation *****\n",
      "INFO:  Num examples = 2970\n",
      "INFO:  Batch size = 32\n"
     ]
    },
    {
     "name": "stdout",
     "output_type": "stream",
     "text": [
      "\n",
      "\n",
      "\u001b[32;1m<s>\u001b[0m\u001b[32;1mCorrection\u001b[0m\u001b[32;1m to\u001b[0m\u001b[32;1m �\u001b[0m\u001b[32;1m�\u001b[0m\u001b[32;1mSw\u001b[0m\u001b[32;1mitching\u001b[0m\u001b[32;1m from\u001b[0m\u001b[32;1m Controlled\u001b[0m\u001b[32;1m Ring\u001b[0m\u001b[32;1m-\u001b[0m\u001b[32;1mOpening\u001b[0m\u001b[32;1m Poly\u001b[0m\u001b[32;1mmer\u001b[0m\u001b[32;1mization\u001b[0m\u001b[32;1m (\u001b[0m\u001b[32;1mc\u001b[0m\u001b[32;1mR\u001b[0m\u001b[32;1mOP\u001b[0m\u001b[32;1m)\u001b[0m\u001b[32;1m to\u001b[0m\u001b[32;1m Controlled\u001b[0m\u001b[31;1m Line[Ring]\u001b[0m\u001b[32;1m-\u001b[0m\u001b[32;1mCl\u001b[0m\u001b[32;1mosing\u001b[0m\u001b[32;1m Dep\u001b[0m\u001b[32;1moly\u001b[0m\u001b[32;1mmer\u001b[0m\u001b[32;1mization\u001b[0m\u001b[32;1m (\u001b[0m\u001b[32;1mc\u001b[0m\u001b[31;1mRS[RC]\u001b[0m\u001b[32;1mDP\u001b[0m\u001b[32;1m)\u001b[0m\u001b[31;1m to[by]\u001b[0m\u001b[31;1m Impro[Adjust]\u001b[0m\u001b[32;1ming\u001b[0m\u001b[32;1m the\u001b[0m\u001b[32;1m Reaction\u001b[0m\u001b[31;1m Properties[Parameters]\u001b[0m\u001b[32;1m That\u001b[0m\u001b[32;1m Deter\u001b[0m\u001b[32;1mmine\u001b[0m\u001b[32;1m the\u001b[0m\u001b[31;1m Prop[Ce]\u001b[0m\u001b[31;1mft[iling]\u001b[0m\u001b[31;1m Strength[Temperature]\u001b[0m\u001b[32;1m�\u001b[0m\u001b[32;1m�\u001b[0m\u001b[32;1m</s>\u001b[0m\n",
      "\n",
      "\n"
     ]
    },
    {
     "name": "stderr",
     "output_type": "stream",
     "text": [
      "INFO:***** Running Evaluation *****\n",
      "INFO:  Num examples = 2970\n",
      "INFO:  Batch size = 32\n"
     ]
    },
    {
     "name": "stdout",
     "output_type": "stream",
     "text": [
      "\n",
      "\n",
      "\u001b[32;1m<s>\u001b[0m\u001b[32;1mFirst\u001b[0m\u001b[32;1m-\u001b[0m\u001b[31;1mtime[response]\u001b[0m\u001b[32;1m treatment\u001b[0m\u001b[32;1m after\u001b[0m\u001b[32;1m out\u001b[0m\u001b[32;1m-\u001b[0m\u001b[32;1mof\u001b[0m\u001b[32;1m-\u001b[0m\u001b[32;1mhospital\u001b[0m\u001b[32;1m cardiac\u001b[0m\u001b[32;1m arrest\u001b[0m\u001b[32;1m:\u001b[0m\u001b[32;1m a\u001b[0m\u001b[32;1m survey\u001b[0m\u001b[32;1m of\u001b[0m\u001b[32;1m current\u001b[0m\u001b[32;1m practices\u001b[0m\u001b[32;1m across\u001b[0m\u001b[32;1m 29\u001b[0m\u001b[32;1m countries\u001b[0m\u001b[32;1m in\u001b[0m\u001b[32;1m Europe\u001b[0m\u001b[32;1m</s>\u001b[0m\n",
      "\n",
      "\n"
     ]
    },
    {
     "name": "stderr",
     "output_type": "stream",
     "text": [
      "INFO:***** Running Evaluation *****\n",
      "INFO:  Num examples = 2970\n",
      "INFO:  Batch size = 32\n"
     ]
    },
    {
     "name": "stdout",
     "output_type": "stream",
     "text": [
      "\n",
      "\n",
      "\u001b[32;1m<s>\u001b[0m\u001b[32;1mTop\u001b[0m\u001b[32;1m Mobile\u001b[0m\u001b[32;1m Applications\u001b[0m\u001b[32;1m in\u001b[0m\u001b[32;1m Pediatrics\u001b[0m\u001b[32;1m and\u001b[0m\u001b[32;1m Children\u001b[0m\u001b[32;1m�\u001b[0m\u001b[32;1m�\u001b[0m\u001b[32;1ms\u001b[0m\u001b[32;1m Health\u001b[0m\u001b[32;1m:\u001b[0m\u001b[32;1m Assessment\u001b[0m\u001b[32;1m and\u001b[0m\u001b[32;1m Intelligent\u001b[0m\u001b[32;1m Analysis\u001b[0m\u001b[32;1m Tools\u001b[0m\u001b[32;1m for\u001b[0m\u001b[32;1m a\u001b[0m\u001b[32;1m System\u001b[0m\u001b[32;1matic\u001b[0m\u001b[32;1m Investigation\u001b[0m\u001b[32;1m</s>\u001b[0m\n",
      "\n",
      "\n"
     ]
    },
    {
     "name": "stderr",
     "output_type": "stream",
     "text": [
      "Saving model checkpoint to /lm_models/checkpoint-26000\n",
      "Trainer.model is not a `PreTrainedModel`, only saving its state dict.\n",
      "Deleting older checkpoint [/lm_models/checkpoint-23500] due to args.save_total_limit\n",
      "/opt/conda/lib/python3.8/site-packages/torch/nn/parallel/_functions.py:68: UserWarning: Was asked to gather along dimension 0, but all input tensors were scalars; will instead unsqueeze and return a vector.\n",
      "  warnings.warn('Was asked to gather along dimension 0, but all '\n",
      "INFO:***** Running Evaluation *****\n",
      "INFO:  Num examples = 2970\n",
      "INFO:  Batch size = 32\n"
     ]
    },
    {
     "name": "stdout",
     "output_type": "stream",
     "text": [
      "\n",
      "\n",
      "\u001b[32;1m<s>\u001b[0m\u001b[32;1mCa\u001b[0m\u001b[32;1men\u001b[0m\u001b[32;1mor\u001b[0m\u001b[32;1mhab\u001b[0m\u001b[32;1mdit\u001b[0m\u001b[32;1mis\u001b[0m\u001b[32;1m eleg\u001b[0m\u001b[32;1mans\u001b[0m\u001b[32;1m Hist\u001b[0m\u001b[32;1mone\u001b[0m\u001b[32;1m M\u001b[0m\u001b[32;1methyl\u001b[0m\u001b[32;1mtransfer\u001b[0m\u001b[32;1mase\u001b[0m\u001b[32;1m MET\u001b[0m\u001b[32;1m-\u001b[0m\u001b[32;1m2\u001b[0m\u001b[31;1m Blocks[Shields]\u001b[0m\u001b[32;1m the\u001b[0m\u001b[32;1m Male\u001b[0m\u001b[32;1m X\u001b[0m\u001b[32;1m Chrom\u001b[0m\u001b[32;1mos\u001b[0m\u001b[32;1mome\u001b[0m\u001b[32;1m from\u001b[0m\u001b[32;1m Check\u001b[0m\u001b[32;1mpoint\u001b[0m\u001b[32;1m Mach\u001b[0m\u001b[32;1minery\u001b[0m\u001b[32;1m and\u001b[0m\u001b[32;1m Med\u001b[0m\u001b[32;1miates\u001b[0m\u001b[31;1m I[Me]\u001b[0m\u001b[32;1miotic\u001b[0m\u001b[32;1m Sex\u001b[0m\u001b[32;1m Chrom\u001b[0m\u001b[32;1mos\u001b[0m\u001b[32;1mome\u001b[0m\u001b[32;1m In\u001b[0m\u001b[32;1mactivation\u001b[0m\u001b[32;1m</s>\u001b[0m\n",
      "\n",
      "\n"
     ]
    },
    {
     "name": "stderr",
     "output_type": "stream",
     "text": [
      "INFO:***** Running Evaluation *****\n",
      "INFO:  Num examples = 2970\n",
      "INFO:  Batch size = 32\n"
     ]
    },
    {
     "name": "stdout",
     "output_type": "stream",
     "text": [
      "\n",
      "\n",
      "\u001b[32;1m<s>\u001b[0m\u001b[32;1mSmall\u001b[0m\u001b[32;1m-\u001b[0m\u001b[32;1mfor\u001b[0m\u001b[32;1m-\u001b[0m\u001b[32;1mgest\u001b[0m\u001b[32;1mational\u001b[0m\u001b[32;1m age\u001b[0m\u001b[32;1m and\u001b[0m\u001b[32;1m its\u001b[0m\u001b[32;1m association\u001b[0m\u001b[32;1m with\u001b[0m\u001b[32;1m maternal\u001b[0m\u001b[32;1m blood\u001b[0m\u001b[32;1m glucose\u001b[0m\u001b[31;1m-[,]\u001b[0m\u001b[32;1m body\u001b[0m\u001b[32;1m mass\u001b[0m\u001b[32;1m index\u001b[0m\u001b[32;1m and\u001b[0m\u001b[31;1m waist[stature]\u001b[0m\u001b[32;1m:\u001b[0m\u001b[32;1m a\u001b[0m\u001b[32;1m per\u001b[0m\u001b[32;1min\u001b[0m\u001b[32;1matal\u001b[0m\u001b[32;1m cohort\u001b[0m\u001b[32;1m study\u001b[0m\u001b[32;1m among\u001b[0m\u001b[32;1m Chinese\u001b[0m\u001b[32;1m women\u001b[0m\u001b[32;1m</s>\u001b[0m\n",
      "\n",
      "\n"
     ]
    },
    {
     "name": "stderr",
     "output_type": "stream",
     "text": [
      "INFO:***** Running Evaluation *****\n",
      "INFO:  Num examples = 2970\n",
      "INFO:  Batch size = 32\n"
     ]
    },
    {
     "name": "stdout",
     "output_type": "stream",
     "text": [
      "\n",
      "\n",
      "\u001b[32;1m<s>\u001b[0m\u001b[32;1mEnd\u001b[0m\u001b[32;1mogenous\u001b[0m\u001b[32;1m insulin\u001b[0m\u001b[32;1m secretion\u001b[0m\u001b[32;1m even\u001b[0m\u001b[32;1m at\u001b[0m\u001b[32;1m a\u001b[0m\u001b[32;1m very\u001b[0m\u001b[32;1m low\u001b[0m\u001b[32;1m level\u001b[0m\u001b[32;1m contributes\u001b[0m\u001b[32;1m to\u001b[0m\u001b[32;1m the\u001b[0m\u001b[32;1m stability\u001b[0m\u001b[32;1m of\u001b[0m\u001b[32;1m blood\u001b[0m\u001b[32;1m glucose\u001b[0m\u001b[32;1m control\u001b[0m\u001b[32;1m in\u001b[0m\u001b[32;1m ful\u001b[0m\u001b[32;1mmin\u001b[0m\u001b[32;1mant\u001b[0m\u001b[32;1m type\u001b[0m\u001b[32;1m 1\u001b[0m\u001b[32;1m diabetes\u001b[0m\u001b[32;1m</s>\u001b[0m\n",
      "\n",
      "\n"
     ]
    },
    {
     "name": "stderr",
     "output_type": "stream",
     "text": [
      "INFO:***** Running Evaluation *****\n",
      "INFO:  Num examples = 2970\n",
      "INFO:  Batch size = 32\n"
     ]
    },
    {
     "name": "stdout",
     "output_type": "stream",
     "text": [
      "\n",
      "\n",
      "\u001b[32;1m<s>\u001b[0m\u001b[32;1mA\u001b[0m\u001b[32;1m prospective\u001b[0m\u001b[32;1m study\u001b[0m\u001b[32;1m of\u001b[0m\u001b[32;1m shoulder\u001b[0m\u001b[32;1m pain\u001b[0m\u001b[32;1m in\u001b[0m\u001b[32;1m primary\u001b[0m\u001b[32;1m care\u001b[0m\u001b[32;1m:\u001b[0m\u001b[32;1m Pre\u001b[0m\u001b[32;1mval\u001b[0m\u001b[32;1mence\u001b[0m\u001b[32;1m of\u001b[0m\u001b[32;1m im\u001b[0m\u001b[32;1maged\u001b[0m\u001b[32;1m pathology\u001b[0m\u001b[32;1m and\u001b[0m\u001b[32;1m response\u001b[0m\u001b[32;1m to\u001b[0m\u001b[32;1m guided\u001b[0m\u001b[32;1m diagnostic\u001b[0m\u001b[32;1m blocks\u001b[0m\u001b[32;1m</s>\u001b[0m\n",
      "\n",
      "\n"
     ]
    },
    {
     "name": "stderr",
     "output_type": "stream",
     "text": [
      "INFO:***** Running Evaluation *****\n",
      "INFO:  Num examples = 2970\n",
      "INFO:  Batch size = 32\n"
     ]
    },
    {
     "name": "stdout",
     "output_type": "stream",
     "text": [
      "\n",
      "\n",
      "\u001b[32;1m<s>\u001b[0m\u001b[32;1mN\u001b[0m\u001b[32;1mano\u001b[0m\u001b[32;1m-\u001b[0m\u001b[32;1mP\u001b[0m\u001b[32;1mulse\u001b[0m\u001b[32;1m Stim\u001b[0m\u001b[32;1mulation\u001b[0m\u001b[32;1m Ab\u001b[0m\u001b[32;1ml\u001b[0m\u001b[32;1mates\u001b[0m\u001b[32;1m Orth\u001b[0m\u001b[32;1mot\u001b[0m\u001b[32;1mopic\u001b[0m\u001b[32;1m Rat\u001b[0m\u001b[32;1m Hep\u001b[0m\u001b[32;1mato\u001b[0m\u001b[32;1mcell\u001b[0m\u001b[32;1mular\u001b[0m\u001b[32;1m Car\u001b[0m\u001b[32;1mcin\u001b[0m\u001b[32;1moma\u001b[0m\u001b[32;1m and\u001b[0m\u001b[32;1m Ind\u001b[0m\u001b[32;1muces\u001b[0m\u001b[32;1m Inn\u001b[0m\u001b[32;1mate\u001b[0m\u001b[32;1m and\u001b[0m\u001b[32;1m Adapt\u001b[0m\u001b[32;1mive\u001b[0m\u001b[32;1m Memory\u001b[0m\u001b[32;1m Imm\u001b[0m\u001b[32;1mune\u001b[0m\u001b[32;1m Mechan\u001b[0m\u001b[32;1misms\u001b[0m\u001b[32;1m that\u001b[0m\u001b[32;1m Prevent\u001b[0m\u001b[32;1m Rec\u001b[0m\u001b[32;1murrence\u001b[0m\u001b[32;1m</s>\u001b[0m\n",
      "\n",
      "\n"
     ]
    },
    {
     "name": "stderr",
     "output_type": "stream",
     "text": [
      "Saving model checkpoint to /lm_models/checkpoint-26500\n",
      "Trainer.model is not a `PreTrainedModel`, only saving its state dict.\n",
      "Deleting older checkpoint [/lm_models/checkpoint-24000] due to args.save_total_limit\n",
      "/opt/conda/lib/python3.8/site-packages/torch/nn/parallel/_functions.py:68: UserWarning: Was asked to gather along dimension 0, but all input tensors were scalars; will instead unsqueeze and return a vector.\n",
      "  warnings.warn('Was asked to gather along dimension 0, but all '\n",
      "INFO:***** Running Evaluation *****\n",
      "INFO:  Num examples = 2970\n",
      "INFO:  Batch size = 32\n"
     ]
    },
    {
     "name": "stdout",
     "output_type": "stream",
     "text": [
      "\n",
      "\n",
      "\u001b[32;1m<s>\u001b[0m\u001b[32;1mCompar\u001b[0m\u001b[32;1mison\u001b[0m\u001b[32;1m of\u001b[0m\u001b[32;1m Performance\u001b[0m\u001b[32;1m Achievement\u001b[0m\u001b[31;1m Alert[Award]\u001b[0m\u001b[32;1m Recogn\u001b[0m\u001b[32;1mition\u001b[0m\u001b[32;1m With\u001b[0m\u001b[32;1m Primary\u001b[0m\u001b[32;1m Stro\u001b[0m\u001b[32;1mke\u001b[0m\u001b[32;1m Center\u001b[0m\u001b[31;1m Registration[Certification]\u001b[0m\u001b[32;1m for\u001b[0m\u001b[32;1m Ac\u001b[0m\u001b[32;1mute\u001b[0m\u001b[32;1m Is\u001b[0m\u001b[32;1mche\u001b[0m\u001b[32;1mmic\u001b[0m\u001b[32;1m Stro\u001b[0m\u001b[32;1mke\u001b[0m\u001b[32;1m Care\u001b[0m\u001b[32;1m</s>\u001b[0m\n",
      "\n",
      "\n"
     ]
    },
    {
     "name": "stderr",
     "output_type": "stream",
     "text": [
      "INFO:***** Running Evaluation *****\n",
      "INFO:  Num examples = 2970\n",
      "INFO:  Batch size = 32\n"
     ]
    },
    {
     "name": "stdout",
     "output_type": "stream",
     "text": [
      "\n",
      "\n",
      "\u001b[32;1m<s>\u001b[0m\u001b[32;1mDet\u001b[0m\u001b[32;1mection\u001b[0m\u001b[32;1m of\u001b[0m\u001b[32;1m a\u001b[0m\u001b[32;1m CT\u001b[0m\u001b[32;1mX\u001b[0m\u001b[32;1m-\u001b[0m\u001b[32;1mM\u001b[0m\u001b[32;1m group\u001b[0m\u001b[32;1m 2\u001b[0m\u001b[32;1m beta\u001b[0m\u001b[32;1m-\u001b[0m\u001b[32;1ml\u001b[0m\u001b[32;1mact\u001b[0m\u001b[32;1mam\u001b[0m\u001b[32;1mase\u001b[0m\u001b[32;1m gene\u001b[0m\u001b[32;1m in\u001b[0m\u001b[32;1m a\u001b[0m\u001b[32;1m Kle\u001b[0m\u001b[32;1mbs\u001b[0m\u001b[32;1mie\u001b[0m\u001b[32;1mlla\u001b[0m\u001b[32;1m pneumonia\u001b[0m\u001b[32;1me\u001b[0m\u001b[32;1m isolate\u001b[0m\u001b[32;1m from\u001b[0m\u001b[32;1m a\u001b[0m\u001b[32;1m tert\u001b[0m\u001b[32;1miary\u001b[0m\u001b[32;1m care\u001b[0m\u001b[32;1m hospital\u001b[0m\u001b[32;1m,\u001b[0m\u001b[31;1m Guatemala[Trinidad]\u001b[0m\u001b[32;1m and\u001b[0m\u001b[31;1m Herz[Tob]\u001b[0m\u001b[32;1mago\u001b[0m\u001b[32;1m</s>\u001b[0m\n",
      "\n",
      "\n"
     ]
    },
    {
     "name": "stderr",
     "output_type": "stream",
     "text": [
      "INFO:***** Running Evaluation *****\n",
      "INFO:  Num examples = 2970\n",
      "INFO:  Batch size = 32\n"
     ]
    },
    {
     "name": "stdout",
     "output_type": "stream",
     "text": [
      "\n",
      "\n",
      "\u001b[32;1m<s>\u001b[0m\u001b[32;1mThe\u001b[0m\u001b[32;1m effects\u001b[0m\u001b[32;1m of\u001b[0m\u001b[32;1m short\u001b[0m\u001b[32;1m-\u001b[0m\u001b[32;1mterm\u001b[0m\u001b[32;1m hyp\u001b[0m\u001b[32;1mox\u001b[0m\u001b[32;1mia\u001b[0m\u001b[32;1m on\u001b[0m\u001b[32;1m human\u001b[0m\u001b[32;1m mes\u001b[0m\u001b[32;1mench\u001b[0m\u001b[32;1mym\u001b[0m\u001b[32;1mal\u001b[0m\u001b[32;1m stem\u001b[0m\u001b[32;1m cell\u001b[0m\u001b[32;1m proliferation\u001b[0m\u001b[32;1m,\u001b[0m\u001b[32;1m viability\u001b[0m\u001b[32;1m and\u001b[0m\u001b[32;1m p\u001b[0m\u001b[32;1m16\u001b[0m\u001b[32;1mINK\u001b[0m\u001b[32;1m4\u001b[0m\u001b[32;1mA\u001b[0m\u001b[32;1m mRNA\u001b[0m\u001b[32;1m expression\u001b[0m\u001b[32;1m:\u001b[0m\u001b[32;1m Investigation\u001b[0m\u001b[32;1m using\u001b[0m\u001b[32;1m a\u001b[0m\u001b[32;1m simple\u001b[0m\u001b[32;1m hyp\u001b[0m\u001b[31;1mox[oxic]\u001b[0m\u001b[31;1m system[culture]\u001b[0m\u001b[32;1m system\u001b[0m\u001b[32;1m with\u001b[0m\u001b[32;1m a\u001b[0m\u001b[32;1m de\u001b[0m\u001b[32;1mox\u001b[0m\u001b[32;1mid\u001b[0m\u001b[32;1mizing\u001b[0m\u001b[32;1m agent\u001b[0m\u001b[32;1m</s>\u001b[0m\n",
      "\n",
      "\n"
     ]
    },
    {
     "name": "stderr",
     "output_type": "stream",
     "text": [
      "INFO:***** Running Evaluation *****\n",
      "INFO:  Num examples = 2970\n",
      "INFO:  Batch size = 32\n"
     ]
    },
    {
     "name": "stdout",
     "output_type": "stream",
     "text": [
      "\n",
      "\n",
      "\u001b[32;1m<s>\u001b[0m\u001b[32;1mConsider\u001b[0m\u001b[32;1mations\u001b[0m\u001b[32;1m regarding\u001b[0m\u001b[32;1m treatment\u001b[0m\u001b[32;1m efficiency\u001b[0m\u001b[32;1m,\u001b[0m\u001b[32;1m diss\u001b[0m\u001b[32;1moci\u001b[0m\u001b[32;1mative\u001b[0m\u001b[32;1m parts\u001b[0m\u001b[32;1m and\u001b[0m\u001b[32;1m diss\u001b[0m\u001b[32;1moci\u001b[0m\u001b[32;1mative\u001b[0m\u001b[32;1m am\u001b[0m\u001b[32;1mnesia\u001b[0m\u001b[32;1m for\u001b[0m\u001b[31;1m Wilson[Hunt]\u001b[0m\u001b[32;1mj\u001b[0m\u001b[32;1mens\u001b[0m\u001b[32;1m et\u001b[0m\u001b[32;1m al\u001b[0m\u001b[32;1m.\u001b[0m\u001b[32;1m�\u001b[0m\u001b[32;1m�\u001b[0m\u001b[31;1mGe[s]\u001b[0m\u001b[32;1m Sche\u001b[0m\u001b[32;1mma\u001b[0m\u001b[32;1m Therapy\u001b[0m\u001b[32;1m for\u001b[0m\u001b[32;1m Diss\u001b[0m\u001b[32;1moci\u001b[0m\u001b[32;1mative\u001b[0m\u001b[32;1m Identity\u001b[0m\u001b[32;1m Disorder\u001b[0m\u001b[32;1m</s>\u001b[0m\n",
      "\n",
      "\n"
     ]
    },
    {
     "name": "stderr",
     "output_type": "stream",
     "text": [
      "INFO:***** Running Evaluation *****\n",
      "INFO:  Num examples = 2970\n",
      "INFO:  Batch size = 32\n"
     ]
    },
    {
     "name": "stdout",
     "output_type": "stream",
     "text": [
      "\n",
      "\n",
      "\u001b[32;1m<s>\u001b[0m\u001b[32;1mMult\u001b[0m\u001b[32;1mivariate\u001b[0m\u001b[32;1m Gen\u001b[0m\u001b[32;1mome\u001b[0m\u001b[32;1m-\u001b[0m\u001b[32;1mWide\u001b[0m\u001b[32;1m Association\u001b[0m\u001b[32;1m An\u001b[0m\u001b[32;1malyses\u001b[0m\u001b[32;1m Reve\u001b[0m\u001b[32;1mal\u001b[0m\u001b[32;1m the\u001b[0m\u001b[32;1m Genetic\u001b[0m\u001b[32;1m Bas\u001b[0m\u001b[32;1mis\u001b[0m\u001b[32;1m of\u001b[0m\u001b[32;1m Seed\u001b[0m\u001b[32;1m Fat\u001b[0m\u001b[32;1mty\u001b[0m\u001b[32;1m Acid\u001b[0m\u001b[32;1m Com\u001b[0m\u001b[32;1mposition\u001b[0m\u001b[32;1m in\u001b[0m\u001b[32;1m O\u001b[0m\u001b[32;1mat\u001b[0m\u001b[32;1m (\u001b[0m\u001b[32;1mA\u001b[0m\u001b[32;1mven\u001b[0m\u001b[32;1ma\u001b[0m\u001b[32;1m sat\u001b[0m\u001b[32;1miva\u001b[0m\u001b[32;1m L\u001b[0m\u001b[32;1m.)\u001b[0m\u001b[32;1m</s>\u001b[0m\n",
      "\n",
      "\n"
     ]
    },
    {
     "name": "stderr",
     "output_type": "stream",
     "text": [
      "Saving model checkpoint to /lm_models/checkpoint-27000\n",
      "Trainer.model is not a `PreTrainedModel`, only saving its state dict.\n",
      "Deleting older checkpoint [/lm_models/checkpoint-24500] due to args.save_total_limit\n",
      "/opt/conda/lib/python3.8/site-packages/torch/nn/parallel/_functions.py:68: UserWarning: Was asked to gather along dimension 0, but all input tensors were scalars; will instead unsqueeze and return a vector.\n",
      "  warnings.warn('Was asked to gather along dimension 0, but all '\n",
      "INFO:***** Running Evaluation *****\n",
      "INFO:  Num examples = 2970\n",
      "INFO:  Batch size = 32\n"
     ]
    },
    {
     "name": "stdout",
     "output_type": "stream",
     "text": [
      "\n",
      "\n",
      "\u001b[32;1m<s>\u001b[0m\u001b[32;1mPro\u001b[0m\u001b[32;1mgn\u001b[0m\u001b[32;1mostic\u001b[0m\u001b[32;1m Role\u001b[0m\u001b[32;1m of\u001b[0m\u001b[32;1m High\u001b[0m\u001b[32;1m-\u001b[0m\u001b[32;1ms\u001b[0m\u001b[32;1mensitivity\u001b[0m\u001b[32;1m Card\u001b[0m\u001b[32;1miac\u001b[0m\u001b[32;1m Trop\u001b[0m\u001b[32;1mon\u001b[0m\u001b[32;1min\u001b[0m\u001b[32;1m I\u001b[0m\u001b[32;1m and\u001b[0m\u001b[32;1m Sol\u001b[0m\u001b[32;1muble\u001b[0m\u001b[32;1m Supp\u001b[0m\u001b[32;1mression\u001b[0m\u001b[32;1m of\u001b[0m\u001b[32;1m T\u001b[0m\u001b[32;1mum\u001b[0m\u001b[32;1mor\u001b[0m\u001b[32;1migen\u001b[0m\u001b[32;1micity\u001b[0m\u001b[32;1m-\u001b[0m\u001b[32;1m2\u001b[0m\u001b[32;1m in\u001b[0m\u001b[32;1m S\u001b[0m\u001b[32;1murgical\u001b[0m\u001b[32;1m Int\u001b[0m\u001b[32;1mensive\u001b[0m\u001b[32;1m Care\u001b[0m\u001b[32;1m Unit\u001b[0m\u001b[32;1m Patients\u001b[0m\u001b[32;1m Under\u001b[0m\u001b[32;1mgoing\u001b[0m\u001b[32;1m Non\u001b[0m\u001b[32;1m-\u001b[0m\u001b[31;1mCard[card]\u001b[0m\u001b[32;1miac\u001b[0m\u001b[32;1m Surgery\u001b[0m\u001b[32;1m</s>\u001b[0m\n",
      "\n",
      "\n"
     ]
    },
    {
     "name": "stderr",
     "output_type": "stream",
     "text": [
      "INFO:***** Running Evaluation *****\n",
      "INFO:  Num examples = 2970\n",
      "INFO:  Batch size = 32\n"
     ]
    },
    {
     "name": "stdout",
     "output_type": "stream",
     "text": [
      "\n",
      "\n",
      "\u001b[32;1m<s>\u001b[0m\u001b[32;1mTop\u001b[0m\u001b[32;1m Mobile\u001b[0m\u001b[32;1m Applications\u001b[0m\u001b[32;1m in\u001b[0m\u001b[32;1m Pediatrics\u001b[0m\u001b[32;1m and\u001b[0m\u001b[32;1m Children\u001b[0m\u001b[32;1m�\u001b[0m\u001b[32;1m�\u001b[0m\u001b[32;1ms\u001b[0m\u001b[32;1m Health\u001b[0m\u001b[32;1m:\u001b[0m\u001b[32;1m Assessment\u001b[0m\u001b[32;1m and\u001b[0m\u001b[32;1m Intelligent\u001b[0m\u001b[32;1m Analysis\u001b[0m\u001b[32;1m Tools\u001b[0m\u001b[32;1m for\u001b[0m\u001b[32;1m a\u001b[0m\u001b[32;1m System\u001b[0m\u001b[32;1matic\u001b[0m\u001b[32;1m Investigation\u001b[0m\u001b[32;1m</s>\u001b[0m\n",
      "\n",
      "\n"
     ]
    },
    {
     "name": "stderr",
     "output_type": "stream",
     "text": [
      "INFO:***** Running Evaluation *****\n",
      "INFO:  Num examples = 2970\n",
      "INFO:  Batch size = 32\n"
     ]
    },
    {
     "name": "stdout",
     "output_type": "stream",
     "text": [
      "\n",
      "\n",
      "\u001b[32;1m<s>\u001b[0m\u001b[32;1mAdvanced\u001b[0m\u001b[32;1m moderately\u001b[0m\u001b[32;1m differentiated\u001b[0m\u001b[32;1m neuro\u001b[0m\u001b[32;1mend\u001b[0m\u001b[32;1mocrine\u001b[0m\u001b[32;1m carcin\u001b[0m\u001b[32;1moma\u001b[0m\u001b[32;1m of\u001b[0m\u001b[32;1m the\u001b[0m\u001b[32;1m rect\u001b[0m\u001b[32;1mum\u001b[0m\u001b[32;1m with\u001b[0m\u001b[32;1m favorable\u001b[0m\u001b[32;1m prog\u001b[0m\u001b[32;1mnosis\u001b[0m\u001b[32;1m by\u001b[0m\u001b[32;1m post\u001b[0m\u001b[32;1moperative\u001b[0m\u001b[32;1m che\u001b[0m\u001b[32;1mmor\u001b[0m\u001b[32;1mad\u001b[0m\u001b[32;1miation\u001b[0m\u001b[32;1m</s>\u001b[0m\n",
      "\n",
      "\n"
     ]
    },
    {
     "name": "stderr",
     "output_type": "stream",
     "text": [
      "INFO:***** Running Evaluation *****\n",
      "INFO:  Num examples = 2970\n",
      "INFO:  Batch size = 32\n"
     ]
    },
    {
     "name": "stdout",
     "output_type": "stream",
     "text": [
      "\n",
      "\n",
      "\u001b[32;1m<s>\u001b[0m\u001b[32;1mEnd\u001b[0m\u001b[32;1mogenous\u001b[0m\u001b[32;1m insulin\u001b[0m\u001b[32;1m secretion\u001b[0m\u001b[32;1m even\u001b[0m\u001b[32;1m at\u001b[0m\u001b[32;1m a\u001b[0m\u001b[32;1m very\u001b[0m\u001b[32;1m low\u001b[0m\u001b[32;1m level\u001b[0m\u001b[32;1m contributes\u001b[0m\u001b[32;1m to\u001b[0m\u001b[32;1m the\u001b[0m\u001b[32;1m stability\u001b[0m\u001b[32;1m of\u001b[0m\u001b[32;1m blood\u001b[0m\u001b[32;1m glucose\u001b[0m\u001b[32;1m control\u001b[0m\u001b[32;1m in\u001b[0m\u001b[32;1m ful\u001b[0m\u001b[32;1mmin\u001b[0m\u001b[32;1mant\u001b[0m\u001b[32;1m type\u001b[0m\u001b[32;1m 1\u001b[0m\u001b[32;1m diabetes\u001b[0m\u001b[32;1m</s>\u001b[0m\n",
      "\n",
      "\n"
     ]
    },
    {
     "name": "stderr",
     "output_type": "stream",
     "text": [
      "INFO:***** Running Evaluation *****\n",
      "INFO:  Num examples = 2970\n",
      "INFO:  Batch size = 32\n"
     ]
    },
    {
     "name": "stdout",
     "output_type": "stream",
     "text": [
      "\n",
      "\n",
      "\u001b[32;1m<s>\u001b[0m\u001b[32;1mA\u001b[0m\u001b[32;1m 60\u001b[0m\u001b[31;1m °[Hz]\u001b[0m\u001b[31;1m atmospheric[uniform]\u001b[0m\u001b[32;1m electromagnetic\u001b[0m\u001b[32;1m field\u001b[0m\u001b[32;1m promotes\u001b[0m\u001b[32;1m human\u001b[0m\u001b[32;1m cell\u001b[0m\u001b[32;1m proliferation\u001b[0m\u001b[32;1m by\u001b[0m\u001b[32;1m decreasing\u001b[0m\u001b[32;1m intr\u001b[0m\u001b[32;1mace\u001b[0m\u001b[32;1mllular\u001b[0m\u001b[32;1m reactive\u001b[0m\u001b[32;1m oxygen\u001b[0m\u001b[32;1m species\u001b[0m\u001b[32;1m levels\u001b[0m\u001b[32;1m</s>\u001b[0m\n",
      "\n",
      "\n"
     ]
    },
    {
     "name": "stderr",
     "output_type": "stream",
     "text": [
      "Saving model checkpoint to /lm_models/checkpoint-27500\n",
      "Trainer.model is not a `PreTrainedModel`, only saving its state dict.\n",
      "Deleting older checkpoint [/lm_models/checkpoint-25000] due to args.save_total_limit\n",
      "/opt/conda/lib/python3.8/site-packages/torch/nn/parallel/_functions.py:68: UserWarning: Was asked to gather along dimension 0, but all input tensors were scalars; will instead unsqueeze and return a vector.\n",
      "  warnings.warn('Was asked to gather along dimension 0, but all '\n",
      "INFO:***** Running Evaluation *****\n",
      "INFO:  Num examples = 2970\n",
      "INFO:  Batch size = 32\n"
     ]
    },
    {
     "name": "stdout",
     "output_type": "stream",
     "text": [
      "\n",
      "\n",
      "\u001b[32;1m<s>\u001b[0m\u001b[32;1mPre\u001b[0m\u001b[32;1mval\u001b[0m\u001b[32;1mence\u001b[0m\u001b[32;1m,\u001b[0m\u001b[32;1m intensity\u001b[0m\u001b[32;1m and\u001b[0m\u001b[32;1m risk\u001b[0m\u001b[32;1m factors\u001b[0m\u001b[32;1m of\u001b[0m\u001b[32;1m t\u001b[0m\u001b[32;1mung\u001b[0m\u001b[32;1miasis\u001b[0m\u001b[32;1m in\u001b[0m\u001b[32;1m Kil\u001b[0m\u001b[32;1mifi\u001b[0m\u001b[32;1m County\u001b[0m\u001b[32;1m,\u001b[0m\u001b[32;1m Kenya\u001b[0m\u001b[32;1m II\u001b[0m\u001b[32;1m:\u001b[0m\u001b[32;1m Results\u001b[0m\u001b[32;1m from\u001b[0m\u001b[32;1m a\u001b[0m\u001b[32;1m school\u001b[0m\u001b[32;1m-\u001b[0m\u001b[32;1mbased\u001b[0m\u001b[32;1m observational\u001b[0m\u001b[32;1m study\u001b[0m\u001b[32;1m</s>\u001b[0m\n",
      "\n",
      "\n"
     ]
    },
    {
     "name": "stderr",
     "output_type": "stream",
     "text": [
      "INFO:***** Running Evaluation *****\n",
      "INFO:  Num examples = 2970\n",
      "INFO:  Batch size = 32\n"
     ]
    },
    {
     "name": "stdout",
     "output_type": "stream",
     "text": [
      "\n",
      "\n",
      "\u001b[32;1m<s>\u001b[0m\u001b[32;1mCase\u001b[0m\u001b[32;1m of\u001b[0m\u001b[32;1m En\u001b[0m\u001b[32;1mlarg\u001b[0m\u001b[32;1mement\u001b[0m\u001b[32;1m of\u001b[0m\u001b[32;1m the\u001b[0m\u001b[32;1m Heart\u001b[0m\u001b[32;1m,\u001b[0m\u001b[32;1m with\u001b[0m\u001b[32;1m Poly\u001b[0m\u001b[32;1mpi\u001b[0m\u001b[32;1m,\u001b[0m\u001b[32;1m &\u001b[0m\u001b[32;1mc\u001b[0m\u001b[32;1m.\u001b[0m\u001b[32;1m Which\u001b[0m\u001b[32;1m Occ\u001b[0m\u001b[32;1murred\u001b[0m\u001b[32;1m on\u001b[0m\u001b[32;1m Board\u001b[0m\u001b[32;1m the\u001b[0m\u001b[31;1m Dram[Honour]\u001b[0m\u001b[32;1mable\u001b[0m\u001b[32;1m East\u001b[0m\u001b[32;1m India\u001b[0m\u001b[32;1m Company\u001b[0m\u001b[32;1m's\u001b[0m\u001b[31;1m Tooth[Ship]\u001b[0m\u001b[32;1m Carn\u001b[0m\u001b[31;1mival[atic]\u001b[0m\u001b[32;1m</s>\u001b[0m\n",
      "\n",
      "\n"
     ]
    },
    {
     "name": "stderr",
     "output_type": "stream",
     "text": [
      "INFO:***** Running Evaluation *****\n",
      "INFO:  Num examples = 2970\n",
      "INFO:  Batch size = 32\n"
     ]
    },
    {
     "name": "stdout",
     "output_type": "stream",
     "text": [
      "\n",
      "\n",
      "\u001b[32;1m<s>\u001b[0m\u001b[32;1mN\u001b[0m\u001b[32;1mano\u001b[0m\u001b[32;1m-\u001b[0m\u001b[32;1mP\u001b[0m\u001b[32;1mulse\u001b[0m\u001b[32;1m Stim\u001b[0m\u001b[32;1mulation\u001b[0m\u001b[32;1m Ab\u001b[0m\u001b[32;1ml\u001b[0m\u001b[32;1mates\u001b[0m\u001b[32;1m Orth\u001b[0m\u001b[32;1mot\u001b[0m\u001b[32;1mopic\u001b[0m\u001b[32;1m Rat\u001b[0m\u001b[32;1m Hep\u001b[0m\u001b[32;1mato\u001b[0m\u001b[32;1mcell\u001b[0m\u001b[32;1mular\u001b[0m\u001b[32;1m Car\u001b[0m\u001b[32;1mcin\u001b[0m\u001b[32;1moma\u001b[0m\u001b[32;1m and\u001b[0m\u001b[32;1m Ind\u001b[0m\u001b[32;1muces\u001b[0m\u001b[32;1m Inn\u001b[0m\u001b[32;1mate\u001b[0m\u001b[32;1m and\u001b[0m\u001b[32;1m Adapt\u001b[0m\u001b[32;1mive\u001b[0m\u001b[32;1m Memory\u001b[0m\u001b[32;1m Imm\u001b[0m\u001b[32;1mune\u001b[0m\u001b[32;1m Mechan\u001b[0m\u001b[32;1misms\u001b[0m\u001b[32;1m that\u001b[0m\u001b[32;1m Prevent\u001b[0m\u001b[32;1m Rec\u001b[0m\u001b[32;1murrence\u001b[0m\u001b[32;1m</s>\u001b[0m\n",
      "\n",
      "\n"
     ]
    },
    {
     "name": "stderr",
     "output_type": "stream",
     "text": [
      "INFO:***** Running Evaluation *****\n",
      "INFO:  Num examples = 2970\n",
      "INFO:  Batch size = 32\n"
     ]
    },
    {
     "name": "stdout",
     "output_type": "stream",
     "text": [
      "\n",
      "\n",
      "\u001b[32;1m<s>\u001b[0m\u001b[32;1mA\u001b[0m\u001b[32;1m 60\u001b[0m\u001b[31;1m nm[Hz]\u001b[0m\u001b[32;1m uniform\u001b[0m\u001b[32;1m electromagnetic\u001b[0m\u001b[32;1m field\u001b[0m\u001b[32;1m promotes\u001b[0m\u001b[32;1m human\u001b[0m\u001b[32;1m cell\u001b[0m\u001b[32;1m proliferation\u001b[0m\u001b[32;1m by\u001b[0m\u001b[32;1m decreasing\u001b[0m\u001b[32;1m intr\u001b[0m\u001b[32;1mace\u001b[0m\u001b[32;1mllular\u001b[0m\u001b[32;1m reactive\u001b[0m\u001b[32;1m oxygen\u001b[0m\u001b[32;1m species\u001b[0m\u001b[32;1m levels\u001b[0m\u001b[32;1m</s>\u001b[0m\n",
      "\n",
      "\n"
     ]
    },
    {
     "name": "stderr",
     "output_type": "stream",
     "text": [
      "INFO:***** Running Evaluation *****\n",
      "INFO:  Num examples = 2970\n",
      "INFO:  Batch size = 32\n"
     ]
    },
    {
     "name": "stdout",
     "output_type": "stream",
     "text": [
      "\n",
      "\n",
      "\u001b[32;1m<s>\u001b[0m\u001b[32;1mDet\u001b[0m\u001b[32;1mection\u001b[0m\u001b[32;1m of\u001b[0m\u001b[32;1m a\u001b[0m\u001b[32;1m CT\u001b[0m\u001b[32;1mX\u001b[0m\u001b[32;1m-\u001b[0m\u001b[32;1mM\u001b[0m\u001b[32;1m group\u001b[0m\u001b[32;1m 2\u001b[0m\u001b[32;1m beta\u001b[0m\u001b[32;1m-\u001b[0m\u001b[32;1ml\u001b[0m\u001b[32;1mact\u001b[0m\u001b[32;1mam\u001b[0m\u001b[32;1mase\u001b[0m\u001b[32;1m gene\u001b[0m\u001b[32;1m in\u001b[0m\u001b[32;1m a\u001b[0m\u001b[32;1m Kle\u001b[0m\u001b[32;1mbs\u001b[0m\u001b[32;1mie\u001b[0m\u001b[32;1mlla\u001b[0m\u001b[32;1m pneumonia\u001b[0m\u001b[32;1me\u001b[0m\u001b[32;1m isolate\u001b[0m\u001b[32;1m from\u001b[0m\u001b[32;1m a\u001b[0m\u001b[32;1m tert\u001b[0m\u001b[32;1miary\u001b[0m\u001b[32;1m care\u001b[0m\u001b[32;1m hospital\u001b[0m\u001b[32;1m,\u001b[0m\u001b[32;1m Trinidad\u001b[0m\u001b[32;1m and\u001b[0m\u001b[31;1m Herz[Tob]\u001b[0m\u001b[32;1mago\u001b[0m\u001b[32;1m</s>\u001b[0m\n",
      "\n",
      "\n"
     ]
    },
    {
     "name": "stderr",
     "output_type": "stream",
     "text": [
      "Saving model checkpoint to /lm_models/checkpoint-28000\n",
      "Trainer.model is not a `PreTrainedModel`, only saving its state dict.\n",
      "Deleting older checkpoint [/lm_models/checkpoint-25500] due to args.save_total_limit\n",
      "/opt/conda/lib/python3.8/site-packages/torch/nn/parallel/_functions.py:68: UserWarning: Was asked to gather along dimension 0, but all input tensors were scalars; will instead unsqueeze and return a vector.\n",
      "  warnings.warn('Was asked to gather along dimension 0, but all '\n",
      "INFO:***** Running Evaluation *****\n",
      "INFO:  Num examples = 2970\n",
      "INFO:  Batch size = 32\n"
     ]
    },
    {
     "name": "stdout",
     "output_type": "stream",
     "text": [
      "\n",
      "\n",
      "\u001b[32;1m<s>\u001b[0m\u001b[32;1mConsider\u001b[0m\u001b[32;1mations\u001b[0m\u001b[32;1m regarding\u001b[0m\u001b[32;1m treatment\u001b[0m\u001b[32;1m efficiency\u001b[0m\u001b[32;1m,\u001b[0m\u001b[32;1m diss\u001b[0m\u001b[32;1moci\u001b[0m\u001b[31;1mable[ative]\u001b[0m\u001b[32;1m parts\u001b[0m\u001b[32;1m and\u001b[0m\u001b[32;1m diss\u001b[0m\u001b[32;1moci\u001b[0m\u001b[32;1mative\u001b[0m\u001b[32;1m am\u001b[0m\u001b[32;1mnesia\u001b[0m\u001b[32;1m for\u001b[0m\u001b[31;1m Wilson[Hunt]\u001b[0m\u001b[32;1mj\u001b[0m\u001b[32;1mens\u001b[0m\u001b[32;1m et\u001b[0m\u001b[32;1m al\u001b[0m\u001b[32;1m.\u001b[0m\u001b[32;1m�\u001b[0m\u001b[32;1m�\u001b[0m\u001b[31;1mGe[s]\u001b[0m\u001b[32;1m Sche\u001b[0m\u001b[32;1mma\u001b[0m\u001b[32;1m Therapy\u001b[0m\u001b[32;1m for\u001b[0m\u001b[32;1m Diss\u001b[0m\u001b[32;1moci\u001b[0m\u001b[32;1mative\u001b[0m\u001b[32;1m Identity\u001b[0m\u001b[32;1m Disorder\u001b[0m\u001b[32;1m</s>\u001b[0m\n",
      "\n",
      "\n"
     ]
    },
    {
     "name": "stderr",
     "output_type": "stream",
     "text": [
      "INFO:***** Running Evaluation *****\n",
      "INFO:  Num examples = 2970\n",
      "INFO:  Batch size = 32\n"
     ]
    },
    {
     "name": "stdout",
     "output_type": "stream",
     "text": [
      "\n",
      "\n",
      "\u001b[32;1m<s>\u001b[0m\u001b[32;1mPre\u001b[0m\u001b[32;1mval\u001b[0m\u001b[32;1mence\u001b[0m\u001b[32;1m,\u001b[0m\u001b[32;1m intensity\u001b[0m\u001b[32;1m and\u001b[0m\u001b[32;1m risk\u001b[0m\u001b[32;1m factors\u001b[0m\u001b[32;1m of\u001b[0m\u001b[32;1m t\u001b[0m\u001b[32;1mung\u001b[0m\u001b[32;1miasis\u001b[0m\u001b[32;1m in\u001b[0m\u001b[32;1m Kil\u001b[0m\u001b[32;1mifi\u001b[0m\u001b[32;1m County\u001b[0m\u001b[32;1m,\u001b[0m\u001b[32;1m Kenya\u001b[0m\u001b[32;1m II\u001b[0m\u001b[32;1m:\u001b[0m\u001b[32;1m Results\u001b[0m\u001b[32;1m from\u001b[0m\u001b[32;1m a\u001b[0m\u001b[32;1m school\u001b[0m\u001b[32;1m-\u001b[0m\u001b[32;1mbased\u001b[0m\u001b[32;1m observational\u001b[0m\u001b[32;1m study\u001b[0m\u001b[32;1m</s>\u001b[0m\n",
      "\n",
      "\n"
     ]
    },
    {
     "name": "stderr",
     "output_type": "stream",
     "text": [
      "INFO:***** Running Evaluation *****\n",
      "INFO:  Num examples = 2970\n",
      "INFO:  Batch size = 32\n"
     ]
    },
    {
     "name": "stdout",
     "output_type": "stream",
     "text": [
      "\n",
      "\n",
      "\u001b[32;1m<s>\u001b[0m\u001b[32;1mSmall\u001b[0m\u001b[32;1m-\u001b[0m\u001b[32;1mfor\u001b[0m\u001b[32;1m-\u001b[0m\u001b[32;1mgest\u001b[0m\u001b[32;1mational\u001b[0m\u001b[32;1m age\u001b[0m\u001b[32;1m and\u001b[0m\u001b[32;1m its\u001b[0m\u001b[32;1m association\u001b[0m\u001b[32;1m with\u001b[0m\u001b[32;1m maternal\u001b[0m\u001b[32;1m blood\u001b[0m\u001b[32;1m glucose\u001b[0m\u001b[32;1m,\u001b[0m\u001b[32;1m body\u001b[0m\u001b[32;1m mass\u001b[0m\u001b[32;1m index\u001b[0m\u001b[32;1m and\u001b[0m\u001b[31;1m height[stature]\u001b[0m\u001b[32;1m:\u001b[0m\u001b[32;1m a\u001b[0m\u001b[32;1m per\u001b[0m\u001b[32;1min\u001b[0m\u001b[32;1matal\u001b[0m\u001b[32;1m cohort\u001b[0m\u001b[32;1m study\u001b[0m\u001b[32;1m among\u001b[0m\u001b[32;1m Chinese\u001b[0m\u001b[32;1m women\u001b[0m\u001b[32;1m</s>\u001b[0m\n",
      "\n",
      "\n"
     ]
    },
    {
     "name": "stderr",
     "output_type": "stream",
     "text": [
      "INFO:***** Running Evaluation *****\n",
      "INFO:  Num examples = 2970\n",
      "INFO:  Batch size = 32\n"
     ]
    },
    {
     "name": "stdout",
     "output_type": "stream",
     "text": [
      "\n",
      "\n",
      "\u001b[32;1m<s>\u001b[0m\u001b[32;1mEnd\u001b[0m\u001b[32;1mogenous\u001b[0m\u001b[32;1m insulin\u001b[0m\u001b[32;1m secretion\u001b[0m\u001b[32;1m even\u001b[0m\u001b[32;1m at\u001b[0m\u001b[32;1m a\u001b[0m\u001b[32;1m very\u001b[0m\u001b[32;1m low\u001b[0m\u001b[32;1m level\u001b[0m\u001b[32;1m contributes\u001b[0m\u001b[32;1m to\u001b[0m\u001b[32;1m the\u001b[0m\u001b[32;1m stability\u001b[0m\u001b[32;1m of\u001b[0m\u001b[32;1m blood\u001b[0m\u001b[32;1m glucose\u001b[0m\u001b[32;1m control\u001b[0m\u001b[32;1m in\u001b[0m\u001b[32;1m ful\u001b[0m\u001b[32;1mmin\u001b[0m\u001b[32;1mant\u001b[0m\u001b[32;1m type\u001b[0m\u001b[32;1m 1\u001b[0m\u001b[32;1m diabetes\u001b[0m\u001b[32;1m</s>\u001b[0m\n",
      "\n",
      "\n"
     ]
    },
    {
     "name": "stderr",
     "output_type": "stream",
     "text": [
      "INFO:***** Running Evaluation *****\n",
      "INFO:  Num examples = 2970\n",
      "INFO:  Batch size = 32\n"
     ]
    },
    {
     "name": "stdout",
     "output_type": "stream",
     "text": [
      "\n",
      "\n",
      "\u001b[32;1m<s>\u001b[0m\u001b[32;1mEnd\u001b[0m\u001b[32;1mogenous\u001b[0m\u001b[32;1m insulin\u001b[0m\u001b[32;1m secretion\u001b[0m\u001b[32;1m even\u001b[0m\u001b[32;1m at\u001b[0m\u001b[32;1m a\u001b[0m\u001b[32;1m very\u001b[0m\u001b[32;1m low\u001b[0m\u001b[32;1m level\u001b[0m\u001b[32;1m contributes\u001b[0m\u001b[32;1m to\u001b[0m\u001b[32;1m the\u001b[0m\u001b[32;1m stability\u001b[0m\u001b[32;1m of\u001b[0m\u001b[32;1m blood\u001b[0m\u001b[32;1m glucose\u001b[0m\u001b[32;1m control\u001b[0m\u001b[32;1m in\u001b[0m\u001b[32;1m ful\u001b[0m\u001b[32;1mmin\u001b[0m\u001b[32;1mant\u001b[0m\u001b[32;1m type\u001b[0m\u001b[32;1m 1\u001b[0m\u001b[32;1m diabetes\u001b[0m\u001b[32;1m</s>\u001b[0m\n",
      "\n",
      "\n"
     ]
    },
    {
     "name": "stderr",
     "output_type": "stream",
     "text": [
      "Saving model checkpoint to /lm_models/checkpoint-28500\n",
      "Trainer.model is not a `PreTrainedModel`, only saving its state dict.\n",
      "Deleting older checkpoint [/lm_models/checkpoint-26000] due to args.save_total_limit\n",
      "/opt/conda/lib/python3.8/site-packages/torch/nn/parallel/_functions.py:68: UserWarning: Was asked to gather along dimension 0, but all input tensors were scalars; will instead unsqueeze and return a vector.\n",
      "  warnings.warn('Was asked to gather along dimension 0, but all '\n",
      "INFO:***** Running Evaluation *****\n",
      "INFO:  Num examples = 2970\n",
      "INFO:  Batch size = 32\n"
     ]
    },
    {
     "name": "stdout",
     "output_type": "stream",
     "text": [
      "\n",
      "\n",
      "\u001b[32;1m<s>\u001b[0m\u001b[32;1mA\u001b[0m\u001b[32;1m prospective\u001b[0m\u001b[32;1m study\u001b[0m\u001b[32;1m of\u001b[0m\u001b[32;1m shoulder\u001b[0m\u001b[32;1m pain\u001b[0m\u001b[32;1m in\u001b[0m\u001b[32;1m primary\u001b[0m\u001b[32;1m care\u001b[0m\u001b[32;1m:\u001b[0m\u001b[32;1m Pre\u001b[0m\u001b[32;1mval\u001b[0m\u001b[32;1mence\u001b[0m\u001b[32;1m of\u001b[0m\u001b[32;1m im\u001b[0m\u001b[32;1maged\u001b[0m\u001b[32;1m pathology\u001b[0m\u001b[32;1m and\u001b[0m\u001b[32;1m response\u001b[0m\u001b[32;1m to\u001b[0m\u001b[32;1m guided\u001b[0m\u001b[32;1m diagnostic\u001b[0m\u001b[32;1m blocks\u001b[0m\u001b[32;1m</s>\u001b[0m\n",
      "\n",
      "\n"
     ]
    },
    {
     "name": "stderr",
     "output_type": "stream",
     "text": [
      "INFO:***** Running Evaluation *****\n",
      "INFO:  Num examples = 2970\n",
      "INFO:  Batch size = 32\n"
     ]
    },
    {
     "name": "stdout",
     "output_type": "stream",
     "text": [
      "\n",
      "\n",
      "\u001b[32;1m<s>\u001b[0m\u001b[32;1mSmall\u001b[0m\u001b[32;1m-\u001b[0m\u001b[32;1mfor\u001b[0m\u001b[32;1m-\u001b[0m\u001b[32;1mgest\u001b[0m\u001b[32;1mational\u001b[0m\u001b[32;1m age\u001b[0m\u001b[32;1m and\u001b[0m\u001b[32;1m its\u001b[0m\u001b[32;1m association\u001b[0m\u001b[32;1m with\u001b[0m\u001b[32;1m maternal\u001b[0m\u001b[32;1m blood\u001b[0m\u001b[32;1m glucose\u001b[0m\u001b[32;1m,\u001b[0m\u001b[32;1m body\u001b[0m\u001b[32;1m mass\u001b[0m\u001b[32;1m index\u001b[0m\u001b[32;1m and\u001b[0m\u001b[31;1m height[stature]\u001b[0m\u001b[32;1m:\u001b[0m\u001b[32;1m a\u001b[0m\u001b[32;1m per\u001b[0m\u001b[32;1min\u001b[0m\u001b[32;1matal\u001b[0m\u001b[32;1m cohort\u001b[0m\u001b[32;1m study\u001b[0m\u001b[32;1m among\u001b[0m\u001b[32;1m Chinese\u001b[0m\u001b[32;1m women\u001b[0m\u001b[32;1m</s>\u001b[0m\n",
      "\n",
      "\n"
     ]
    },
    {
     "name": "stderr",
     "output_type": "stream",
     "text": [
      "INFO:***** Running Evaluation *****\n",
      "INFO:  Num examples = 2970\n",
      "INFO:  Batch size = 32\n"
     ]
    },
    {
     "name": "stdout",
     "output_type": "stream",
     "text": [
      "\n",
      "\n",
      "\u001b[32;1m<s>\u001b[0m\u001b[32;1mCompar\u001b[0m\u001b[32;1mison\u001b[0m\u001b[32;1m of\u001b[0m\u001b[32;1m Performance\u001b[0m\u001b[32;1m Achievement\u001b[0m\u001b[32;1m Award\u001b[0m\u001b[32;1m Recogn\u001b[0m\u001b[32;1mition\u001b[0m\u001b[32;1m With\u001b[0m\u001b[32;1m Primary\u001b[0m\u001b[32;1m Stro\u001b[0m\u001b[32;1mke\u001b[0m\u001b[32;1m Center\u001b[0m\u001b[31;1m Reading[Certification]\u001b[0m\u001b[32;1m for\u001b[0m\u001b[32;1m Ac\u001b[0m\u001b[32;1mute\u001b[0m\u001b[32;1m Is\u001b[0m\u001b[32;1mche\u001b[0m\u001b[32;1mmic\u001b[0m\u001b[32;1m Stro\u001b[0m\u001b[32;1mke\u001b[0m\u001b[32;1m Care\u001b[0m\u001b[32;1m</s>\u001b[0m\n",
      "\n",
      "\n"
     ]
    },
    {
     "name": "stderr",
     "output_type": "stream",
     "text": [
      "INFO:***** Running Evaluation *****\n",
      "INFO:  Num examples = 2970\n",
      "INFO:  Batch size = 32\n"
     ]
    },
    {
     "name": "stdout",
     "output_type": "stream",
     "text": [
      "\n",
      "\n",
      "\u001b[32;1m<s>\u001b[0m\u001b[32;1mA\u001b[0m\u001b[32;1m 60\u001b[0m\u001b[31;1m Tesla[Hz]\u001b[0m\u001b[31;1m bulk[uniform]\u001b[0m\u001b[32;1m electromagnetic\u001b[0m\u001b[32;1m field\u001b[0m\u001b[32;1m promotes\u001b[0m\u001b[32;1m human\u001b[0m\u001b[32;1m cell\u001b[0m\u001b[32;1m proliferation\u001b[0m\u001b[32;1m by\u001b[0m\u001b[32;1m decreasing\u001b[0m\u001b[32;1m intr\u001b[0m\u001b[32;1mace\u001b[0m\u001b[32;1mllular\u001b[0m\u001b[32;1m reactive\u001b[0m\u001b[32;1m oxygen\u001b[0m\u001b[32;1m species\u001b[0m\u001b[32;1m levels\u001b[0m\u001b[32;1m</s>\u001b[0m\n",
      "\n",
      "\n"
     ]
    },
    {
     "name": "stderr",
     "output_type": "stream",
     "text": [
      "INFO:***** Running Evaluation *****\n",
      "INFO:  Num examples = 2970\n",
      "INFO:  Batch size = 32\n"
     ]
    },
    {
     "name": "stdout",
     "output_type": "stream",
     "text": [
      "\n",
      "\n",
      "\u001b[32;1m<s>\u001b[0m\u001b[32;1mThe\u001b[0m\u001b[32;1m Chinese\u001b[0m\u001b[32;1m Her\u001b[0m\u001b[32;1mbal\u001b[0m\u001b[32;1m Formula\u001b[0m\u001b[32;1m Shen\u001b[0m\u001b[32;1mz\u001b[0m\u001b[32;1mhu\u001b[0m\u001b[32;1m T\u001b[0m\u001b[32;1mia\u001b[0m\u001b[32;1mop\u001b[0m\u001b[32;1mi\u001b[0m\u001b[32;1m Gran\u001b[0m\u001b[32;1mule\u001b[0m\u001b[32;1m Results\u001b[0m\u001b[32;1m in\u001b[0m\u001b[32;1m Met\u001b[0m\u001b[32;1mabolic\u001b[0m\u001b[32;1m Improvement\u001b[0m\u001b[32;1m in\u001b[0m\u001b[32;1m Type\u001b[0m\u001b[32;1m 2\u001b[0m\u001b[32;1m Di\u001b[0m\u001b[32;1mabetic\u001b[0m\u001b[32;1m Rats\u001b[0m\u001b[32;1m by\u001b[0m\u001b[32;1m Mod\u001b[0m\u001b[32;1mulating\u001b[0m\u001b[32;1m the\u001b[0m\u001b[32;1m Gut\u001b[0m\u001b[32;1m Micro\u001b[0m\u001b[32;1mbi\u001b[0m\u001b[32;1mota\u001b[0m\u001b[32;1m</s>\u001b[0m\n",
      "\n",
      "\n"
     ]
    },
    {
     "name": "stderr",
     "output_type": "stream",
     "text": [
      "Saving model checkpoint to /lm_models/checkpoint-29000\n",
      "Trainer.model is not a `PreTrainedModel`, only saving its state dict.\n",
      "Deleting older checkpoint [/lm_models/checkpoint-26500] due to args.save_total_limit\n",
      "/opt/conda/lib/python3.8/site-packages/torch/nn/parallel/_functions.py:68: UserWarning: Was asked to gather along dimension 0, but all input tensors were scalars; will instead unsqueeze and return a vector.\n",
      "  warnings.warn('Was asked to gather along dimension 0, but all '\n",
      "INFO:***** Running Evaluation *****\n",
      "INFO:  Num examples = 2970\n",
      "INFO:  Batch size = 32\n"
     ]
    },
    {
     "name": "stdout",
     "output_type": "stream",
     "text": [
      "\n",
      "\n",
      "\u001b[32;1m<s>\u001b[0m\u001b[32;1mCa\u001b[0m\u001b[32;1men\u001b[0m\u001b[32;1mor\u001b[0m\u001b[32;1mhab\u001b[0m\u001b[32;1mdit\u001b[0m\u001b[32;1mis\u001b[0m\u001b[32;1m eleg\u001b[0m\u001b[32;1mans\u001b[0m\u001b[32;1m Hist\u001b[0m\u001b[32;1mone\u001b[0m\u001b[32;1m M\u001b[0m\u001b[32;1methyl\u001b[0m\u001b[32;1mtransfer\u001b[0m\u001b[32;1mase\u001b[0m\u001b[32;1m MET\u001b[0m\u001b[32;1m-\u001b[0m\u001b[32;1m2\u001b[0m\u001b[31;1m Blocks[Shields]\u001b[0m\u001b[32;1m the\u001b[0m\u001b[32;1m Male\u001b[0m\u001b[32;1m X\u001b[0m\u001b[32;1m Chrom\u001b[0m\u001b[32;1mos\u001b[0m\u001b[32;1mome\u001b[0m\u001b[32;1m from\u001b[0m\u001b[32;1m Check\u001b[0m\u001b[32;1mpoint\u001b[0m\u001b[32;1m Mach\u001b[0m\u001b[32;1minery\u001b[0m\u001b[32;1m and\u001b[0m\u001b[32;1m Med\u001b[0m\u001b[32;1miates\u001b[0m\u001b[32;1m Me\u001b[0m\u001b[32;1miotic\u001b[0m\u001b[32;1m Sex\u001b[0m\u001b[32;1m Chrom\u001b[0m\u001b[32;1mos\u001b[0m\u001b[32;1mome\u001b[0m\u001b[32;1m In\u001b[0m\u001b[32;1mactivation\u001b[0m\u001b[32;1m</s>\u001b[0m\n",
      "\n",
      "\n"
     ]
    },
    {
     "name": "stderr",
     "output_type": "stream",
     "text": [
      "INFO:***** Running Evaluation *****\n",
      "INFO:  Num examples = 2970\n",
      "INFO:  Batch size = 32\n"
     ]
    },
    {
     "name": "stdout",
     "output_type": "stream",
     "text": [
      "\n",
      "\n",
      "\u001b[32;1m<s>\u001b[0m\u001b[32;1mS\u001b[0m\u001b[32;1mint\u001b[0m\u001b[32;1mil\u001b[0m\u001b[32;1mim\u001b[0m\u001b[32;1mab\u001b[0m\u001b[32;1m,\u001b[0m\u001b[32;1m a\u001b[0m\u001b[32;1m PD\u001b[0m\u001b[32;1m-\u001b[0m\u001b[32;1m1\u001b[0m\u001b[32;1m In\u001b[0m\u001b[32;1mhib\u001b[0m\u001b[32;1mitor\u001b[0m\u001b[32;1m,\u001b[0m\u001b[32;1m Complete\u001b[0m\u001b[32;1mly\u001b[0m\u001b[32;1m Re\u001b[0m\u001b[32;1mvers\u001b[0m\u001b[32;1med\u001b[0m\u001b[32;1m Rare\u001b[0m\u001b[32;1mly\u001b[0m\u001b[32;1m Ref\u001b[0m\u001b[32;1mract\u001b[0m\u001b[32;1mory\u001b[0m\u001b[32;1m Hyp\u001b[0m\u001b[32;1mof\u001b[0m\u001b[32;1mibr\u001b[0m\u001b[32;1min\u001b[0m\u001b[32;1mogen\u001b[0m\u001b[32;1memia\u001b[0m\u001b[32;1m in\u001b[0m\u001b[32;1m a\u001b[0m\u001b[32;1m Gast\u001b[0m\u001b[32;1mric\u001b[0m\u001b[32;1m Cancer\u001b[0m\u001b[32;1m Patient\u001b[0m\u001b[32;1m:\u001b[0m\u001b[32;1m A\u001b[0m\u001b[32;1m Case\u001b[0m\u001b[32;1m Report\u001b[0m\u001b[32;1m and\u001b[0m\u001b[32;1m Review\u001b[0m\u001b[32;1m of\u001b[0m\u001b[32;1m the\u001b[0m\u001b[32;1m Literature\u001b[0m\u001b[32;1m</s>\u001b[0m\n",
      "\n",
      "\n"
     ]
    },
    {
     "name": "stderr",
     "output_type": "stream",
     "text": [
      "INFO:***** Running Evaluation *****\n",
      "INFO:  Num examples = 2970\n",
      "INFO:  Batch size = 32\n"
     ]
    },
    {
     "name": "stdout",
     "output_type": "stream",
     "text": [
      "\n",
      "\n",
      "\u001b[32;1m<s>\u001b[0m\u001b[32;1mTop\u001b[0m\u001b[32;1m Mobile\u001b[0m\u001b[32;1m Applications\u001b[0m\u001b[32;1m in\u001b[0m\u001b[32;1m Pediatrics\u001b[0m\u001b[32;1m and\u001b[0m\u001b[32;1m Children\u001b[0m\u001b[32;1m�\u001b[0m\u001b[32;1m�\u001b[0m\u001b[32;1ms\u001b[0m\u001b[32;1m Health\u001b[0m\u001b[32;1m:\u001b[0m\u001b[32;1m Assessment\u001b[0m\u001b[32;1m and\u001b[0m\u001b[32;1m Intelligent\u001b[0m\u001b[32;1m Analysis\u001b[0m\u001b[32;1m Tools\u001b[0m\u001b[32;1m for\u001b[0m\u001b[32;1m a\u001b[0m\u001b[32;1m System\u001b[0m\u001b[32;1matic\u001b[0m\u001b[32;1m Investigation\u001b[0m\u001b[32;1m</s>\u001b[0m\n",
      "\n",
      "\n"
     ]
    },
    {
     "name": "stderr",
     "output_type": "stream",
     "text": [
      "INFO:***** Running Evaluation *****\n",
      "INFO:  Num examples = 2970\n",
      "INFO:  Batch size = 32\n"
     ]
    },
    {
     "name": "stdout",
     "output_type": "stream",
     "text": [
      "\n",
      "\n",
      "\u001b[32;1m<s>\u001b[0m\u001b[32;1mPre\u001b[0m\u001b[32;1mval\u001b[0m\u001b[32;1mence\u001b[0m\u001b[32;1m,\u001b[0m\u001b[32;1m intensity\u001b[0m\u001b[32;1m and\u001b[0m\u001b[32;1m risk\u001b[0m\u001b[32;1m factors\u001b[0m\u001b[32;1m of\u001b[0m\u001b[32;1m t\u001b[0m\u001b[32;1mung\u001b[0m\u001b[32;1miasis\u001b[0m\u001b[32;1m in\u001b[0m\u001b[32;1m Kil\u001b[0m\u001b[32;1mifi\u001b[0m\u001b[32;1m County\u001b[0m\u001b[32;1m,\u001b[0m\u001b[32;1m Kenya\u001b[0m\u001b[32;1m II\u001b[0m\u001b[32;1m:\u001b[0m\u001b[32;1m Results\u001b[0m\u001b[32;1m from\u001b[0m\u001b[32;1m a\u001b[0m\u001b[32;1m school\u001b[0m\u001b[32;1m-\u001b[0m\u001b[32;1mbased\u001b[0m\u001b[32;1m observational\u001b[0m\u001b[32;1m study\u001b[0m\u001b[32;1m</s>\u001b[0m\n",
      "\n",
      "\n"
     ]
    },
    {
     "name": "stderr",
     "output_type": "stream",
     "text": [
      "INFO:***** Running Evaluation *****\n",
      "INFO:  Num examples = 2970\n",
      "INFO:  Batch size = 32\n"
     ]
    },
    {
     "name": "stdout",
     "output_type": "stream",
     "text": [
      "\n",
      "\n",
      "\u001b[32;1m<s>\u001b[0m\u001b[32;1mCompar\u001b[0m\u001b[32;1mison\u001b[0m\u001b[32;1m of\u001b[0m\u001b[32;1m Performance\u001b[0m\u001b[32;1m Achievement\u001b[0m\u001b[32;1m Award\u001b[0m\u001b[32;1m Recogn\u001b[0m\u001b[32;1mition\u001b[0m\u001b[32;1m With\u001b[0m\u001b[32;1m Primary\u001b[0m\u001b[32;1m Stro\u001b[0m\u001b[32;1mke\u001b[0m\u001b[32;1m Center\u001b[0m\u001b[31;1m Registration[Certification]\u001b[0m\u001b[32;1m for\u001b[0m\u001b[32;1m Ac\u001b[0m\u001b[32;1mute\u001b[0m\u001b[32;1m Is\u001b[0m\u001b[32;1mche\u001b[0m\u001b[32;1mmic\u001b[0m\u001b[32;1m Stro\u001b[0m\u001b[32;1mke\u001b[0m\u001b[32;1m Care\u001b[0m\u001b[32;1m</s>\u001b[0m\n",
      "\n",
      "\n"
     ]
    },
    {
     "name": "stderr",
     "output_type": "stream",
     "text": [
      "Saving model checkpoint to /lm_models/checkpoint-29500\n",
      "Trainer.model is not a `PreTrainedModel`, only saving its state dict.\n",
      "Deleting older checkpoint [/lm_models/checkpoint-27000] due to args.save_total_limit\n",
      "/opt/conda/lib/python3.8/site-packages/torch/nn/parallel/_functions.py:68: UserWarning: Was asked to gather along dimension 0, but all input tensors were scalars; will instead unsqueeze and return a vector.\n",
      "  warnings.warn('Was asked to gather along dimension 0, but all '\n",
      "INFO:***** Running Evaluation *****\n",
      "INFO:  Num examples = 2970\n",
      "INFO:  Batch size = 32\n"
     ]
    },
    {
     "name": "stdout",
     "output_type": "stream",
     "text": [
      "\n",
      "\n",
      "\u001b[32;1m<s>\u001b[0m\u001b[32;1mThe\u001b[0m\u001b[32;1m effects\u001b[0m\u001b[32;1m of\u001b[0m\u001b[32;1m short\u001b[0m\u001b[32;1m-\u001b[0m\u001b[32;1mterm\u001b[0m\u001b[32;1m hyp\u001b[0m\u001b[32;1mox\u001b[0m\u001b[32;1mia\u001b[0m\u001b[32;1m on\u001b[0m\u001b[32;1m human\u001b[0m\u001b[32;1m mes\u001b[0m\u001b[32;1mench\u001b[0m\u001b[32;1mym\u001b[0m\u001b[32;1mal\u001b[0m\u001b[32;1m stem\u001b[0m\u001b[32;1m cell\u001b[0m\u001b[32;1m proliferation\u001b[0m\u001b[32;1m,\u001b[0m\u001b[32;1m viability\u001b[0m\u001b[32;1m and\u001b[0m\u001b[32;1m p\u001b[0m\u001b[32;1m16\u001b[0m\u001b[32;1mINK\u001b[0m\u001b[32;1m4\u001b[0m\u001b[32;1mA\u001b[0m\u001b[32;1m mRNA\u001b[0m\u001b[32;1m expression\u001b[0m\u001b[32;1m:\u001b[0m\u001b[32;1m Investigation\u001b[0m\u001b[32;1m using\u001b[0m\u001b[32;1m a\u001b[0m\u001b[32;1m simple\u001b[0m\u001b[32;1m hyp\u001b[0m\u001b[31;1mox[oxic]\u001b[0m\u001b[31;1m system[culture]\u001b[0m\u001b[32;1m system\u001b[0m\u001b[32;1m with\u001b[0m\u001b[32;1m a\u001b[0m\u001b[32;1m de\u001b[0m\u001b[32;1mox\u001b[0m\u001b[32;1mid\u001b[0m\u001b[32;1mizing\u001b[0m\u001b[32;1m agent\u001b[0m\u001b[32;1m</s>\u001b[0m\n",
      "\n",
      "\n"
     ]
    },
    {
     "name": "stderr",
     "output_type": "stream",
     "text": [
      "INFO:***** Running Evaluation *****\n",
      "INFO:  Num examples = 2970\n",
      "INFO:  Batch size = 32\n"
     ]
    },
    {
     "name": "stdout",
     "output_type": "stream",
     "text": [
      "\n",
      "\n",
      "\u001b[32;1m<s>\u001b[0m\u001b[32;1mPro\u001b[0m\u001b[32;1mgn\u001b[0m\u001b[32;1mostic\u001b[0m\u001b[32;1m Role\u001b[0m\u001b[32;1m of\u001b[0m\u001b[32;1m High\u001b[0m\u001b[32;1m-\u001b[0m\u001b[32;1ms\u001b[0m\u001b[32;1mensitivity\u001b[0m\u001b[32;1m Card\u001b[0m\u001b[32;1miac\u001b[0m\u001b[32;1m Trop\u001b[0m\u001b[32;1mon\u001b[0m\u001b[32;1min\u001b[0m\u001b[32;1m I\u001b[0m\u001b[32;1m and\u001b[0m\u001b[32;1m Sol\u001b[0m\u001b[32;1muble\u001b[0m\u001b[32;1m Supp\u001b[0m\u001b[32;1mression\u001b[0m\u001b[32;1m of\u001b[0m\u001b[32;1m T\u001b[0m\u001b[32;1mum\u001b[0m\u001b[32;1mor\u001b[0m\u001b[32;1migen\u001b[0m\u001b[32;1micity\u001b[0m\u001b[32;1m-\u001b[0m\u001b[32;1m2\u001b[0m\u001b[32;1m in\u001b[0m\u001b[32;1m S\u001b[0m\u001b[32;1murgical\u001b[0m\u001b[32;1m Int\u001b[0m\u001b[32;1mensive\u001b[0m\u001b[32;1m Care\u001b[0m\u001b[32;1m Unit\u001b[0m\u001b[32;1m Patients\u001b[0m\u001b[32;1m Under\u001b[0m\u001b[32;1mgoing\u001b[0m\u001b[32;1m Non\u001b[0m\u001b[32;1m-\u001b[0m\u001b[32;1mcard\u001b[0m\u001b[32;1miac\u001b[0m\u001b[32;1m Surgery\u001b[0m\u001b[32;1m</s>\u001b[0m\n",
      "\n",
      "\n"
     ]
    },
    {
     "name": "stderr",
     "output_type": "stream",
     "text": [
      "INFO:***** Running Evaluation *****\n",
      "INFO:  Num examples = 2970\n",
      "INFO:  Batch size = 32\n"
     ]
    },
    {
     "name": "stdout",
     "output_type": "stream",
     "text": [
      "\n",
      "\n",
      "\u001b[32;1m<s>\u001b[0m\u001b[32;1mEnd\u001b[0m\u001b[32;1mogenous\u001b[0m\u001b[32;1m insulin\u001b[0m\u001b[32;1m secretion\u001b[0m\u001b[32;1m even\u001b[0m\u001b[32;1m at\u001b[0m\u001b[32;1m a\u001b[0m\u001b[32;1m very\u001b[0m\u001b[32;1m low\u001b[0m\u001b[32;1m level\u001b[0m\u001b[32;1m contributes\u001b[0m\u001b[32;1m to\u001b[0m\u001b[32;1m the\u001b[0m\u001b[32;1m stability\u001b[0m\u001b[32;1m of\u001b[0m\u001b[32;1m blood\u001b[0m\u001b[32;1m glucose\u001b[0m\u001b[32;1m control\u001b[0m\u001b[32;1m in\u001b[0m\u001b[32;1m ful\u001b[0m\u001b[32;1mmin\u001b[0m\u001b[32;1mant\u001b[0m\u001b[32;1m type\u001b[0m\u001b[32;1m 1\u001b[0m\u001b[32;1m diabetes\u001b[0m\u001b[32;1m</s>\u001b[0m\n",
      "\n",
      "\n"
     ]
    },
    {
     "name": "stderr",
     "output_type": "stream",
     "text": [
      "INFO:***** Running Evaluation *****\n",
      "INFO:  Num examples = 2970\n",
      "INFO:  Batch size = 32\n"
     ]
    },
    {
     "name": "stdout",
     "output_type": "stream",
     "text": [
      "\n",
      "\n",
      "\u001b[32;1m<s>\u001b[0m\u001b[32;1mFirst\u001b[0m\u001b[32;1m-\u001b[0m\u001b[32;1mresponse\u001b[0m\u001b[32;1m treatment\u001b[0m\u001b[32;1m after\u001b[0m\u001b[32;1m out\u001b[0m\u001b[32;1m-\u001b[0m\u001b[32;1mof\u001b[0m\u001b[32;1m-\u001b[0m\u001b[32;1mhospital\u001b[0m\u001b[32;1m cardiac\u001b[0m\u001b[32;1m arrest\u001b[0m\u001b[32;1m:\u001b[0m\u001b[32;1m a\u001b[0m\u001b[32;1m survey\u001b[0m\u001b[32;1m of\u001b[0m\u001b[32;1m current\u001b[0m\u001b[32;1m practices\u001b[0m\u001b[32;1m across\u001b[0m\u001b[32;1m 29\u001b[0m\u001b[32;1m countries\u001b[0m\u001b[32;1m in\u001b[0m\u001b[32;1m Europe\u001b[0m\u001b[32;1m</s>\u001b[0m\n",
      "\n",
      "\n"
     ]
    },
    {
     "name": "stderr",
     "output_type": "stream",
     "text": [
      "INFO:***** Running Evaluation *****\n",
      "INFO:  Num examples = 2970\n",
      "INFO:  Batch size = 32\n"
     ]
    },
    {
     "name": "stdout",
     "output_type": "stream",
     "text": [
      "\n",
      "\n",
      "\u001b[32;1m<s>\u001b[0m\u001b[32;1mFirst\u001b[0m\u001b[32;1m-\u001b[0m\u001b[32;1mresponse\u001b[0m\u001b[32;1m treatment\u001b[0m\u001b[32;1m after\u001b[0m\u001b[32;1m out\u001b[0m\u001b[32;1m-\u001b[0m\u001b[32;1mof\u001b[0m\u001b[32;1m-\u001b[0m\u001b[32;1mhospital\u001b[0m\u001b[32;1m cardiac\u001b[0m\u001b[32;1m arrest\u001b[0m\u001b[32;1m:\u001b[0m\u001b[32;1m a\u001b[0m\u001b[32;1m survey\u001b[0m\u001b[32;1m of\u001b[0m\u001b[32;1m current\u001b[0m\u001b[32;1m practices\u001b[0m\u001b[32;1m across\u001b[0m\u001b[32;1m 29\u001b[0m\u001b[32;1m countries\u001b[0m\u001b[32;1m in\u001b[0m\u001b[32;1m Europe\u001b[0m\u001b[32;1m</s>\u001b[0m\n",
      "\n",
      "\n"
     ]
    },
    {
     "name": "stderr",
     "output_type": "stream",
     "text": [
      "Saving model checkpoint to /lm_models/checkpoint-30000\n",
      "Trainer.model is not a `PreTrainedModel`, only saving its state dict.\n",
      "Deleting older checkpoint [/lm_models/checkpoint-27500] due to args.save_total_limit\n",
      "/opt/conda/lib/python3.8/site-packages/torch/nn/parallel/_functions.py:68: UserWarning: Was asked to gather along dimension 0, but all input tensors were scalars; will instead unsqueeze and return a vector.\n",
      "  warnings.warn('Was asked to gather along dimension 0, but all '\n",
      "INFO:***** Running Evaluation *****\n",
      "INFO:  Num examples = 2970\n",
      "INFO:  Batch size = 32\n"
     ]
    },
    {
     "name": "stdout",
     "output_type": "stream",
     "text": [
      "\n",
      "\n",
      "\u001b[32;1m<s>\u001b[0m\u001b[32;1mD\u001b[0m\u001b[32;1metermin\u001b[0m\u001b[32;1mants\u001b[0m\u001b[32;1m of\u001b[0m\u001b[32;1m birth\u001b[0m\u001b[32;1m as\u001b[0m\u001b[32;1mphy\u001b[0m\u001b[32;1mxia\u001b[0m\u001b[32;1m among\u001b[0m\u001b[32;1m live\u001b[0m\u001b[32;1m birth\u001b[0m\u001b[32;1m newborn\u001b[0m\u001b[32;1ms\u001b[0m\u001b[32;1m in\u001b[0m\u001b[32;1m University\u001b[0m\u001b[32;1m of\u001b[0m\u001b[32;1m G\u001b[0m\u001b[32;1mond\u001b[0m\u001b[32;1mar\u001b[0m\u001b[32;1m referral\u001b[0m\u001b[32;1m hospital\u001b[0m\u001b[32;1m,\u001b[0m\u001b[32;1m northwest\u001b[0m\u001b[32;1m Ethiopia\u001b[0m\u001b[32;1m:\u001b[0m\u001b[32;1m A\u001b[0m\u001b[32;1m case\u001b[0m\u001b[32;1m-\u001b[0m\u001b[32;1mcontrol\u001b[0m\u001b[32;1m study\u001b[0m\u001b[32;1m</s>\u001b[0m\n",
      "\n",
      "\n"
     ]
    },
    {
     "name": "stderr",
     "output_type": "stream",
     "text": [
      "INFO:***** Running Evaluation *****\n",
      "INFO:  Num examples = 2970\n",
      "INFO:  Batch size = 32\n"
     ]
    },
    {
     "name": "stdout",
     "output_type": "stream",
     "text": [
      "\n",
      "\n",
      "\u001b[32;1m<s>\u001b[0m\u001b[31;1mVII[805]\u001b[0m\u001b[32;1m.\u001b[0m\u001b[32;1m Am\u001b[0m\u001b[32;1mik\u001b[0m\u001b[32;1mac\u001b[0m\u001b[32;1min\u001b[0m\u001b[32;1m Lip\u001b[0m\u001b[32;1mos\u001b[0m\u001b[32;1mome\u001b[0m\u001b[32;1m In\u001b[0m\u001b[32;1mhal\u001b[0m\u001b[32;1mation\u001b[0m\u001b[32;1m Susp\u001b[0m\u001b[32;1mension\u001b[0m\u001b[32;1m (\u001b[0m\u001b[32;1mAL\u001b[0m\u001b[32;1mIS\u001b[0m\u001b[32;1m)\u001b[0m\u001b[32;1m Add\u001b[0m\u001b[32;1m-\u001b[0m\u001b[32;1mon\u001b[0m\u001b[32;1m Therapy\u001b[0m\u001b[32;1m for\u001b[0m\u001b[32;1m Ref\u001b[0m\u001b[32;1mract\u001b[0m\u001b[32;1mory\u001b[0m\u001b[32;1m My\u001b[0m\u001b[32;1mc\u001b[0m\u001b[32;1mob\u001b[0m\u001b[32;1macter\u001b[0m\u001b[32;1mium\u001b[0m\u001b[32;1m av\u001b[0m\u001b[32;1mium\u001b[0m\u001b[32;1m Complex\u001b[0m\u001b[32;1m (\u001b[0m\u001b[31;1mMD[MAC]\u001b[0m\u001b[32;1m)\u001b[0m\u001b[32;1m Lung\u001b[0m\u001b[31;1m Cancer[Disease]\u001b[0m\u001b[32;1m:\u001b[0m\u001b[31;1m In[Effect]\u001b[0m\u001b[32;1m of\u001b[0m\u001b[32;1m In\u001b[0m\u001b[32;1m Vit\u001b[0m\u001b[32;1mro\u001b[0m\u001b[31;1m Er[Am]\u001b[0m\u001b[32;1mik\u001b[0m\u001b[32;1mac\u001b[0m\u001b[32;1min\u001b[0m\u001b[31;1m on[Sus]\u001b[0m\u001b[32;1mcept\u001b[0m\u001b[32;1mibility\u001b[0m\u001b[32;1m on\u001b[0m\u001b[31;1m Bone[Sp]\u001b[0m\u001b[31;1minal[ut]\u001b[0m\u001b[32;1mum\u001b[0m\u001b[32;1m Culture\u001b[0m\u001b[31;1m</s>[Conversion]\u001b[0m\u001b[32;1m</s>\u001b[0m\n",
      "\n",
      "\n"
     ]
    },
    {
     "name": "stderr",
     "output_type": "stream",
     "text": [
      "INFO:***** Running Evaluation *****\n",
      "INFO:  Num examples = 2970\n",
      "INFO:  Batch size = 32\n"
     ]
    },
    {
     "name": "stdout",
     "output_type": "stream",
     "text": [
      "\n",
      "\n",
      "\u001b[32;1m<s>\u001b[0m\u001b[32;1mSmall\u001b[0m\u001b[32;1m-\u001b[0m\u001b[32;1mfor\u001b[0m\u001b[32;1m-\u001b[0m\u001b[32;1mgest\u001b[0m\u001b[32;1mational\u001b[0m\u001b[32;1m age\u001b[0m\u001b[32;1m and\u001b[0m\u001b[32;1m its\u001b[0m\u001b[32;1m association\u001b[0m\u001b[32;1m with\u001b[0m\u001b[32;1m maternal\u001b[0m\u001b[32;1m blood\u001b[0m\u001b[32;1m glucose\u001b[0m\u001b[32;1m,\u001b[0m\u001b[32;1m body\u001b[0m\u001b[32;1m mass\u001b[0m\u001b[32;1m index\u001b[0m\u001b[32;1m and\u001b[0m\u001b[32;1m stature\u001b[0m\u001b[32;1m:\u001b[0m\u001b[32;1m a\u001b[0m\u001b[32;1m per\u001b[0m\u001b[32;1min\u001b[0m\u001b[32;1matal\u001b[0m\u001b[32;1m cohort\u001b[0m\u001b[32;1m study\u001b[0m\u001b[32;1m among\u001b[0m\u001b[32;1m Chinese\u001b[0m\u001b[32;1m women\u001b[0m\u001b[32;1m</s>\u001b[0m\n",
      "\n",
      "\n"
     ]
    },
    {
     "name": "stderr",
     "output_type": "stream",
     "text": [
      "INFO:***** Running Evaluation *****\n",
      "INFO:  Num examples = 2970\n",
      "INFO:  Batch size = 32\n"
     ]
    },
    {
     "name": "stdout",
     "output_type": "stream",
     "text": [
      "\n",
      "\n",
      "\u001b[32;1m<s>\u001b[0m\u001b[32;1mThe\u001b[0m\u001b[32;1m effects\u001b[0m\u001b[32;1m of\u001b[0m\u001b[32;1m short\u001b[0m\u001b[32;1m-\u001b[0m\u001b[32;1mterm\u001b[0m\u001b[32;1m hyp\u001b[0m\u001b[32;1mox\u001b[0m\u001b[32;1mia\u001b[0m\u001b[32;1m on\u001b[0m\u001b[32;1m human\u001b[0m\u001b[32;1m mes\u001b[0m\u001b[32;1mench\u001b[0m\u001b[32;1mym\u001b[0m\u001b[32;1mal\u001b[0m\u001b[32;1m stem\u001b[0m\u001b[32;1m cell\u001b[0m\u001b[32;1m proliferation\u001b[0m\u001b[32;1m,\u001b[0m\u001b[32;1m viability\u001b[0m\u001b[32;1m and\u001b[0m\u001b[32;1m p\u001b[0m\u001b[32;1m16\u001b[0m\u001b[32;1mINK\u001b[0m\u001b[32;1m4\u001b[0m\u001b[32;1mA\u001b[0m\u001b[32;1m mRNA\u001b[0m\u001b[32;1m expression\u001b[0m\u001b[32;1m:\u001b[0m\u001b[32;1m Investigation\u001b[0m\u001b[32;1m using\u001b[0m\u001b[32;1m a\u001b[0m\u001b[32;1m simple\u001b[0m\u001b[32;1m hyp\u001b[0m\u001b[32;1moxic\u001b[0m\u001b[32;1m culture\u001b[0m\u001b[32;1m system\u001b[0m\u001b[32;1m with\u001b[0m\u001b[32;1m a\u001b[0m\u001b[32;1m de\u001b[0m\u001b[32;1mox\u001b[0m\u001b[32;1mid\u001b[0m\u001b[32;1mizing\u001b[0m\u001b[32;1m agent\u001b[0m\u001b[32;1m</s>\u001b[0m\n",
      "\n",
      "\n"
     ]
    },
    {
     "name": "stderr",
     "output_type": "stream",
     "text": [
      "INFO:***** Running Evaluation *****\n",
      "INFO:  Num examples = 2970\n",
      "INFO:  Batch size = 32\n"
     ]
    },
    {
     "name": "stdout",
     "output_type": "stream",
     "text": [
      "\n",
      "\n",
      "\u001b[32;1m<s>\u001b[0m\u001b[32;1mMe\u001b[0m\u001b[32;1miotic\u001b[0m\u001b[32;1m analyses\u001b[0m\u001b[31;1m indicate[show]\u001b[0m\u001b[32;1m adaptations\u001b[0m\u001b[32;1m to\u001b[0m\u001b[32;1m maintenance\u001b[0m\u001b[32;1m of\u001b[0m\u001b[32;1m fertility\u001b[0m\u001b[32;1m in\u001b[0m\u001b[32;1m X\u001b[0m\u001b[32;1m1\u001b[0m\u001b[32;1mY\u001b[0m\u001b[32;1m1\u001b[0m\u001b[32;1mX\u001b[0m\u001b[32;1m2\u001b[0m\u001b[32;1mY\u001b[0m\u001b[32;1m2\u001b[0m\u001b[32;1mX\u001b[0m\u001b[32;1m3\u001b[0m\u001b[32;1mY\u001b[0m\u001b[32;1m3\u001b[0m\u001b[32;1mX\u001b[0m\u001b[32;1m4\u001b[0m\u001b[32;1mY\u001b[0m\u001b[32;1m4\u001b[0m\u001b[32;1mX\u001b[0m\u001b[32;1m5\u001b[0m\u001b[32;1mY\u001b[0m\u001b[31;1m4[5]\u001b[0m\u001b[31;1mA[system]\u001b[0m\u001b[31;1m that[of]\u001b[0m\u001b[32;1m am\u001b[0m\u001b[32;1mazon\u001b[0m\u001b[31;1mopsis[frog]\u001b[0m\u001b[32;1m Le\u001b[0m\u001b[32;1mpt\u001b[0m\u001b[32;1mod\u001b[0m\u001b[31;1maph[act]\u001b[0m\u001b[32;1myl\u001b[0m\u001b[31;1men[us]\u001b[0m\u001b[31;1m am[pent]\u001b[0m\u001b[31;1mat[ad]\u001b[0m\u001b[31;1mip[act]\u001b[0m\u001b[32;1myl\u001b[0m\u001b[32;1mus\u001b[0m\u001b[32;1m (\u001b[0m\u001b[31;1mJ[La]\u001b[0m\u001b[31;1mev[ure]\u001b[0m\u001b[31;1mi[nt]\u001b[0m\u001b[31;1mii[i]\u001b[0m\u001b[32;1m,\u001b[0m\u001b[32;1m 17\u001b[0m\u001b[31;1m69[68]\u001b[0m\u001b[32;1m)\u001b[0m\u001b[32;1m</s>\u001b[0m\n",
      "\n",
      "\n"
     ]
    },
    {
     "name": "stderr",
     "output_type": "stream",
     "text": [
      "Saving model checkpoint to /lm_models/checkpoint-30500\n",
      "Trainer.model is not a `PreTrainedModel`, only saving its state dict.\n",
      "Deleting older checkpoint [/lm_models/checkpoint-28000] due to args.save_total_limit\n",
      "/opt/conda/lib/python3.8/site-packages/torch/nn/parallel/_functions.py:68: UserWarning: Was asked to gather along dimension 0, but all input tensors were scalars; will instead unsqueeze and return a vector.\n",
      "  warnings.warn('Was asked to gather along dimension 0, but all '\n",
      "INFO:***** Running Evaluation *****\n",
      "INFO:  Num examples = 2970\n",
      "INFO:  Batch size = 32\n"
     ]
    },
    {
     "name": "stdout",
     "output_type": "stream",
     "text": [
      "\n",
      "\n",
      "\u001b[32;1m<s>\u001b[0m\u001b[32;1mThe\u001b[0m\u001b[32;1m effects\u001b[0m\u001b[32;1m of\u001b[0m\u001b[32;1m short\u001b[0m\u001b[32;1m-\u001b[0m\u001b[32;1mterm\u001b[0m\u001b[32;1m hyp\u001b[0m\u001b[32;1mox\u001b[0m\u001b[32;1mia\u001b[0m\u001b[32;1m on\u001b[0m\u001b[32;1m human\u001b[0m\u001b[32;1m mes\u001b[0m\u001b[32;1mench\u001b[0m\u001b[32;1mym\u001b[0m\u001b[32;1mal\u001b[0m\u001b[32;1m stem\u001b[0m\u001b[32;1m cell\u001b[0m\u001b[32;1m proliferation\u001b[0m\u001b[32;1m,\u001b[0m\u001b[32;1m viability\u001b[0m\u001b[32;1m and\u001b[0m\u001b[32;1m p\u001b[0m\u001b[32;1m16\u001b[0m\u001b[32;1mINK\u001b[0m\u001b[32;1m4\u001b[0m\u001b[32;1mA\u001b[0m\u001b[32;1m mRNA\u001b[0m\u001b[32;1m expression\u001b[0m\u001b[32;1m:\u001b[0m\u001b[32;1m Investigation\u001b[0m\u001b[32;1m using\u001b[0m\u001b[32;1m a\u001b[0m\u001b[32;1m simple\u001b[0m\u001b[32;1m hyp\u001b[0m\u001b[31;1mot[oxic]\u001b[0m\u001b[32;1m culture\u001b[0m\u001b[32;1m system\u001b[0m\u001b[32;1m with\u001b[0m\u001b[32;1m a\u001b[0m\u001b[32;1m de\u001b[0m\u001b[32;1mox\u001b[0m\u001b[32;1mid\u001b[0m\u001b[32;1mizing\u001b[0m\u001b[32;1m agent\u001b[0m\u001b[32;1m</s>\u001b[0m\n",
      "\n",
      "\n"
     ]
    },
    {
     "name": "stderr",
     "output_type": "stream",
     "text": [
      "INFO:***** Running Evaluation *****\n",
      "INFO:  Num examples = 2970\n",
      "INFO:  Batch size = 32\n"
     ]
    },
    {
     "name": "stdout",
     "output_type": "stream",
     "text": [
      "\n",
      "\n",
      "\u001b[32;1m<s>\u001b[0m\u001b[32;1mD\u001b[0m\u001b[32;1metermin\u001b[0m\u001b[32;1mants\u001b[0m\u001b[32;1m of\u001b[0m\u001b[32;1m birth\u001b[0m\u001b[32;1m as\u001b[0m\u001b[32;1mphy\u001b[0m\u001b[32;1mxia\u001b[0m\u001b[32;1m among\u001b[0m\u001b[32;1m live\u001b[0m\u001b[32;1m birth\u001b[0m\u001b[32;1m newborn\u001b[0m\u001b[32;1ms\u001b[0m\u001b[32;1m in\u001b[0m\u001b[32;1m University\u001b[0m\u001b[32;1m of\u001b[0m\u001b[32;1m G\u001b[0m\u001b[32;1mond\u001b[0m\u001b[32;1mar\u001b[0m\u001b[32;1m referral\u001b[0m\u001b[32;1m hospital\u001b[0m\u001b[32;1m,\u001b[0m\u001b[32;1m northwest\u001b[0m\u001b[32;1m Ethiopia\u001b[0m\u001b[32;1m:\u001b[0m\u001b[32;1m A\u001b[0m\u001b[32;1m case\u001b[0m\u001b[32;1m-\u001b[0m\u001b[32;1mcontrol\u001b[0m\u001b[32;1m study\u001b[0m\u001b[32;1m</s>\u001b[0m\n",
      "\n",
      "\n"
     ]
    },
    {
     "name": "stderr",
     "output_type": "stream",
     "text": [
      "INFO:***** Running Evaluation *****\n",
      "INFO:  Num examples = 2970\n",
      "INFO:  Batch size = 32\n"
     ]
    },
    {
     "name": "stdout",
     "output_type": "stream",
     "text": [
      "\n",
      "\n",
      "\u001b[32;1m<s>\u001b[0m\u001b[32;1mDesign\u001b[0m\u001b[32;1m and\u001b[0m\u001b[32;1m development\u001b[0m\u001b[32;1m of\u001b[0m\u001b[32;1m intra\u001b[0m\u001b[32;1mocular\u001b[0m\u001b[32;1m poly\u001b[0m\u001b[32;1mmeric\u001b[0m\u001b[32;1m implant\u001b[0m\u001b[32;1m systems\u001b[0m\u001b[32;1m for\u001b[0m\u001b[32;1m long\u001b[0m\u001b[32;1m-\u001b[0m\u001b[32;1mterm\u001b[0m\u001b[32;1m controlled\u001b[0m\u001b[32;1m-\u001b[0m\u001b[32;1mrelease\u001b[0m\u001b[32;1m of\u001b[0m\u001b[32;1m cl\u001b[0m\u001b[32;1mind\u001b[0m\u001b[32;1mamy\u001b[0m\u001b[32;1mcin\u001b[0m\u001b[32;1m phosphate\u001b[0m\u001b[32;1m for\u001b[0m\u001b[32;1m tox\u001b[0m\u001b[32;1mopl\u001b[0m\u001b[32;1masm\u001b[0m\u001b[32;1mic\u001b[0m\u001b[32;1m ret\u001b[0m\u001b[32;1mino\u001b[0m\u001b[32;1mch\u001b[0m\u001b[32;1mor\u001b[0m\u001b[32;1moid\u001b[0m\u001b[32;1mitis\u001b[0m\u001b[32;1m</s>\u001b[0m\n",
      "\n",
      "\n"
     ]
    },
    {
     "name": "stderr",
     "output_type": "stream",
     "text": [
      "INFO:***** Running Evaluation *****\n",
      "INFO:  Num examples = 2970\n",
      "INFO:  Batch size = 32\n"
     ]
    },
    {
     "name": "stdout",
     "output_type": "stream",
     "text": [
      "\n",
      "\n",
      "\u001b[32;1m<s>\u001b[0m\u001b[32;1mA\u001b[0m\u001b[32;1m 60\u001b[0m\u001b[31;1m Tesla[Hz]\u001b[0m\u001b[32;1m uniform\u001b[0m\u001b[32;1m electromagnetic\u001b[0m\u001b[32;1m field\u001b[0m\u001b[32;1m promotes\u001b[0m\u001b[32;1m human\u001b[0m\u001b[32;1m cell\u001b[0m\u001b[32;1m proliferation\u001b[0m\u001b[32;1m by\u001b[0m\u001b[32;1m decreasing\u001b[0m\u001b[32;1m intr\u001b[0m\u001b[32;1mace\u001b[0m\u001b[32;1mllular\u001b[0m\u001b[32;1m reactive\u001b[0m\u001b[32;1m oxygen\u001b[0m\u001b[32;1m species\u001b[0m\u001b[32;1m levels\u001b[0m\u001b[32;1m</s>\u001b[0m\n",
      "\n",
      "\n"
     ]
    },
    {
     "name": "stderr",
     "output_type": "stream",
     "text": [
      "INFO:***** Running Evaluation *****\n",
      "INFO:  Num examples = 2970\n",
      "INFO:  Batch size = 32\n"
     ]
    },
    {
     "name": "stdout",
     "output_type": "stream",
     "text": [
      "\n",
      "\n",
      "\u001b[32;1m<s>\u001b[0m\u001b[32;1mCompar\u001b[0m\u001b[32;1mison\u001b[0m\u001b[32;1m of\u001b[0m\u001b[32;1m Performance\u001b[0m\u001b[32;1m Achievement\u001b[0m\u001b[31;1m Commission[Award]\u001b[0m\u001b[32;1m Recogn\u001b[0m\u001b[32;1mition\u001b[0m\u001b[32;1m With\u001b[0m\u001b[32;1m Primary\u001b[0m\u001b[32;1m Stro\u001b[0m\u001b[32;1mke\u001b[0m\u001b[32;1m Center\u001b[0m\u001b[31;1m Audit[Certification]\u001b[0m\u001b[32;1m for\u001b[0m\u001b[32;1m Ac\u001b[0m\u001b[32;1mute\u001b[0m\u001b[32;1m Is\u001b[0m\u001b[32;1mche\u001b[0m\u001b[32;1mmic\u001b[0m\u001b[32;1m Stro\u001b[0m\u001b[32;1mke\u001b[0m\u001b[32;1m Care\u001b[0m\u001b[32;1m</s>\u001b[0m\n",
      "\n",
      "\n"
     ]
    },
    {
     "name": "stderr",
     "output_type": "stream",
     "text": [
      "Saving model checkpoint to /lm_models/checkpoint-31000\n",
      "Trainer.model is not a `PreTrainedModel`, only saving its state dict.\n",
      "Deleting older checkpoint [/lm_models/checkpoint-28500] due to args.save_total_limit\n",
      "/opt/conda/lib/python3.8/site-packages/torch/nn/parallel/_functions.py:68: UserWarning: Was asked to gather along dimension 0, but all input tensors were scalars; will instead unsqueeze and return a vector.\n",
      "  warnings.warn('Was asked to gather along dimension 0, but all '\n",
      "INFO:***** Running Evaluation *****\n",
      "INFO:  Num examples = 2970\n",
      "INFO:  Batch size = 32\n"
     ]
    },
    {
     "name": "stdout",
     "output_type": "stream",
     "text": [
      "\n",
      "\n",
      "\u001b[32;1m<s>\u001b[0m\u001b[32;1mMe\u001b[0m\u001b[32;1miotic\u001b[0m\u001b[32;1m analyses\u001b[0m\u001b[32;1m show\u001b[0m\u001b[32;1m adaptations\u001b[0m\u001b[32;1m to\u001b[0m\u001b[32;1m maintenance\u001b[0m\u001b[32;1m of\u001b[0m\u001b[32;1m fertility\u001b[0m\u001b[32;1m in\u001b[0m\u001b[32;1m X\u001b[0m\u001b[32;1m1\u001b[0m\u001b[32;1mY\u001b[0m\u001b[32;1m1\u001b[0m\u001b[32;1mX\u001b[0m\u001b[32;1m2\u001b[0m\u001b[32;1mY\u001b[0m\u001b[32;1m2\u001b[0m\u001b[32;1mX\u001b[0m\u001b[32;1m3\u001b[0m\u001b[32;1mY\u001b[0m\u001b[32;1m3\u001b[0m\u001b[32;1mX\u001b[0m\u001b[32;1m4\u001b[0m\u001b[32;1mY\u001b[0m\u001b[32;1m4\u001b[0m\u001b[32;1mX\u001b[0m\u001b[32;1m5\u001b[0m\u001b[32;1mY\u001b[0m\u001b[31;1m4[5]\u001b[0m\u001b[31;1m complex[system]\u001b[0m\u001b[31;1m that[of]\u001b[0m\u001b[31;1m peanut[am]\u001b[0m\u001b[32;1mazon\u001b[0m\u001b[31;1mopsis[frog]\u001b[0m\u001b[32;1m Le\u001b[0m\u001b[32;1mpt\u001b[0m\u001b[32;1mod\u001b[0m\u001b[32;1mact\u001b[0m\u001b[32;1myl\u001b[0m\u001b[31;1men[us]\u001b[0m\u001b[31;1m am[pent]\u001b[0m\u001b[31;1mat[ad]\u001b[0m\u001b[32;1mact\u001b[0m\u001b[32;1myl\u001b[0m\u001b[32;1mus\u001b[0m\u001b[32;1m (\u001b[0m\u001b[31;1mCole[La]\u001b[0m\u001b[31;1mev[ure]\u001b[0m\u001b[31;1mi[nt]\u001b[0m\u001b[31;1mii[i]\u001b[0m\u001b[32;1m,\u001b[0m\u001b[32;1m 17\u001b[0m\u001b[31;1m77[68]\u001b[0m\u001b[32;1m)\u001b[0m\u001b[32;1m</s>\u001b[0m\n",
      "\n",
      "\n"
     ]
    },
    {
     "name": "stderr",
     "output_type": "stream",
     "text": [
      "INFO:***** Running Evaluation *****\n",
      "INFO:  Num examples = 2970\n",
      "INFO:  Batch size = 32\n"
     ]
    },
    {
     "name": "stdout",
     "output_type": "stream",
     "text": [
      "\n",
      "\n",
      "\u001b[32;1m<s>\u001b[0m\u001b[32;1mFirst\u001b[0m\u001b[32;1m-\u001b[0m\u001b[32;1mresponse\u001b[0m\u001b[32;1m treatment\u001b[0m\u001b[32;1m after\u001b[0m\u001b[32;1m out\u001b[0m\u001b[32;1m-\u001b[0m\u001b[32;1mof\u001b[0m\u001b[32;1m-\u001b[0m\u001b[32;1mhospital\u001b[0m\u001b[32;1m cardiac\u001b[0m\u001b[32;1m arrest\u001b[0m\u001b[32;1m:\u001b[0m\u001b[32;1m a\u001b[0m\u001b[32;1m survey\u001b[0m\u001b[32;1m of\u001b[0m\u001b[32;1m current\u001b[0m\u001b[32;1m practices\u001b[0m\u001b[32;1m across\u001b[0m\u001b[32;1m 29\u001b[0m\u001b[32;1m countries\u001b[0m\u001b[32;1m in\u001b[0m\u001b[32;1m Europe\u001b[0m\u001b[32;1m</s>\u001b[0m\n",
      "\n",
      "\n"
     ]
    },
    {
     "name": "stderr",
     "output_type": "stream",
     "text": [
      "INFO:***** Running Evaluation *****\n",
      "INFO:  Num examples = 2970\n",
      "INFO:  Batch size = 32\n"
     ]
    },
    {
     "name": "stdout",
     "output_type": "stream",
     "text": [
      "\n",
      "\n",
      "\u001b[32;1m<s>\u001b[0m\u001b[32;1mPat\u001b[0m\u001b[32;1mient\u001b[0m\u001b[32;1m portal\u001b[0m\u001b[32;1m messaging\u001b[0m\u001b[32;1m for\u001b[0m\u001b[32;1m care\u001b[0m\u001b[32;1m coordination\u001b[0m\u001b[32;1m:\u001b[0m\u001b[32;1m a\u001b[0m\u001b[32;1m qualitative\u001b[0m\u001b[32;1m study\u001b[0m\u001b[32;1m of\u001b[0m\u001b[32;1m perspectives\u001b[0m\u001b[32;1m of\u001b[0m\u001b[32;1m experienced\u001b[0m\u001b[32;1m users\u001b[0m\u001b[32;1m with\u001b[0m\u001b[32;1m chronic\u001b[0m\u001b[32;1m conditions\u001b[0m\u001b[32;1m</s>\u001b[0m\n",
      "\n",
      "\n"
     ]
    },
    {
     "name": "stderr",
     "output_type": "stream",
     "text": [
      "INFO:***** Running Evaluation *****\n",
      "INFO:  Num examples = 2970\n",
      "INFO:  Batch size = 32\n"
     ]
    },
    {
     "name": "stdout",
     "output_type": "stream",
     "text": [
      "\n",
      "\n",
      "\u001b[32;1m<s>\u001b[0m\u001b[32;1mTop\u001b[0m\u001b[32;1m Mobile\u001b[0m\u001b[32;1m Applications\u001b[0m\u001b[32;1m in\u001b[0m\u001b[32;1m Pediatrics\u001b[0m\u001b[32;1m and\u001b[0m\u001b[32;1m Children\u001b[0m\u001b[32;1m�\u001b[0m\u001b[32;1m�\u001b[0m\u001b[32;1ms\u001b[0m\u001b[32;1m Health\u001b[0m\u001b[32;1m:\u001b[0m\u001b[32;1m Assessment\u001b[0m\u001b[32;1m and\u001b[0m\u001b[32;1m Intelligent\u001b[0m\u001b[32;1m Analysis\u001b[0m\u001b[32;1m Tools\u001b[0m\u001b[32;1m for\u001b[0m\u001b[32;1m a\u001b[0m\u001b[32;1m System\u001b[0m\u001b[32;1matic\u001b[0m\u001b[32;1m Investigation\u001b[0m\u001b[32;1m</s>\u001b[0m\n",
      "\n",
      "\n"
     ]
    },
    {
     "name": "stderr",
     "output_type": "stream",
     "text": [
      "INFO:***** Running Evaluation *****\n",
      "INFO:  Num examples = 2970\n",
      "INFO:  Batch size = 32\n"
     ]
    },
    {
     "name": "stdout",
     "output_type": "stream",
     "text": [
      "\n",
      "\n",
      "\u001b[32;1m<s>\u001b[0m\u001b[32;1mTop\u001b[0m\u001b[32;1m Mobile\u001b[0m\u001b[32;1m Applications\u001b[0m\u001b[32;1m in\u001b[0m\u001b[32;1m Pediatrics\u001b[0m\u001b[32;1m and\u001b[0m\u001b[32;1m Children\u001b[0m\u001b[32;1m�\u001b[0m\u001b[32;1m�\u001b[0m\u001b[32;1ms\u001b[0m\u001b[32;1m Health\u001b[0m\u001b[32;1m:\u001b[0m\u001b[32;1m Assessment\u001b[0m\u001b[32;1m and\u001b[0m\u001b[32;1m Intelligent\u001b[0m\u001b[32;1m Analysis\u001b[0m\u001b[32;1m Tools\u001b[0m\u001b[32;1m for\u001b[0m\u001b[32;1m a\u001b[0m\u001b[32;1m System\u001b[0m\u001b[32;1matic\u001b[0m\u001b[32;1m Investigation\u001b[0m\u001b[32;1m</s>\u001b[0m\n",
      "\n",
      "\n"
     ]
    },
    {
     "name": "stderr",
     "output_type": "stream",
     "text": [
      "Saving model checkpoint to /lm_models/checkpoint-31500\n",
      "Trainer.model is not a `PreTrainedModel`, only saving its state dict.\n",
      "Deleting older checkpoint [/lm_models/checkpoint-29000] due to args.save_total_limit\n",
      "/opt/conda/lib/python3.8/site-packages/torch/nn/parallel/_functions.py:68: UserWarning: Was asked to gather along dimension 0, but all input tensors were scalars; will instead unsqueeze and return a vector.\n",
      "  warnings.warn('Was asked to gather along dimension 0, but all '\n",
      "INFO:***** Running Evaluation *****\n",
      "INFO:  Num examples = 2970\n",
      "INFO:  Batch size = 32\n"
     ]
    },
    {
     "name": "stdout",
     "output_type": "stream",
     "text": [
      "\n",
      "\n",
      "\u001b[32;1m<s>\u001b[0m\u001b[32;1mCase\u001b[0m\u001b[32;1m of\u001b[0m\u001b[32;1m En\u001b[0m\u001b[32;1mlarg\u001b[0m\u001b[32;1mement\u001b[0m\u001b[32;1m of\u001b[0m\u001b[32;1m the\u001b[0m\u001b[32;1m Heart\u001b[0m\u001b[32;1m,\u001b[0m\u001b[32;1m with\u001b[0m\u001b[32;1m Poly\u001b[0m\u001b[32;1mpi\u001b[0m\u001b[32;1m,\u001b[0m\u001b[32;1m &\u001b[0m\u001b[32;1mc\u001b[0m\u001b[32;1m.\u001b[0m\u001b[32;1m Which\u001b[0m\u001b[32;1m Occ\u001b[0m\u001b[32;1murred\u001b[0m\u001b[32;1m on\u001b[0m\u001b[32;1m Board\u001b[0m\u001b[32;1m the\u001b[0m\u001b[31;1m Observer[Honour]\u001b[0m\u001b[32;1mable\u001b[0m\u001b[32;1m East\u001b[0m\u001b[32;1m India\u001b[0m\u001b[31;1m Council[Company]\u001b[0m\u001b[32;1m's\u001b[0m\u001b[32;1m Ship\u001b[0m\u001b[31;1m Noct[Carn]\u001b[0m\u001b[31;1mitary[atic]\u001b[0m\u001b[32;1m</s>\u001b[0m\n",
      "\n",
      "\n"
     ]
    },
    {
     "name": "stderr",
     "output_type": "stream",
     "text": [
      "INFO:***** Running Evaluation *****\n",
      "INFO:  Num examples = 2970\n",
      "INFO:  Batch size = 32\n"
     ]
    },
    {
     "name": "stdout",
     "output_type": "stream",
     "text": [
      "\n",
      "\n",
      "\u001b[32;1m<s>\u001b[0m\u001b[32;1mCl\u001b[0m\u001b[32;1minical\u001b[0m\u001b[32;1m practice\u001b[0m\u001b[32;1m guidelines\u001b[0m\u001b[32;1m for\u001b[0m\u001b[32;1m the\u001b[0m\u001b[32;1m surgical\u001b[0m\u001b[32;1m management\u001b[0m\u001b[32;1m of\u001b[0m\u001b[32;1m colon\u001b[0m\u001b[32;1m cancer\u001b[0m\u001b[32;1m:\u001b[0m\u001b[32;1m a\u001b[0m\u001b[32;1m consensus\u001b[0m\u001b[32;1m statement\u001b[0m\u001b[32;1m of\u001b[0m\u001b[32;1m the\u001b[0m\u001b[32;1m Hell\u001b[0m\u001b[32;1menic\u001b[0m\u001b[32;1m and\u001b[0m\u001b[32;1m Cy\u001b[0m\u001b[32;1mpri\u001b[0m\u001b[32;1mot\u001b[0m\u001b[32;1m Col\u001b[0m\u001b[32;1more\u001b[0m\u001b[32;1mct\u001b[0m\u001b[32;1mal\u001b[0m\u001b[32;1m Cancer\u001b[0m\u001b[32;1m Study\u001b[0m\u001b[32;1m Group\u001b[0m\u001b[32;1m by\u001b[0m\u001b[32;1m the\u001b[0m\u001b[32;1m He\u001b[0m\u001b[32;1mS\u001b[0m\u001b[32;1mMO\u001b[0m\u001b[32;1m*\u001b[0m\u001b[32;1m</s>\u001b[0m\n",
      "\n",
      "\n"
     ]
    },
    {
     "name": "stderr",
     "output_type": "stream",
     "text": [
      "INFO:***** Running Evaluation *****\n",
      "INFO:  Num examples = 2970\n",
      "INFO:  Batch size = 32\n"
     ]
    },
    {
     "name": "stdout",
     "output_type": "stream",
     "text": [
      "\n",
      "\n",
      "\u001b[32;1m<s>\u001b[0m\u001b[32;1mD\u001b[0m\u001b[32;1mise\u001b[0m\u001b[32;1mase\u001b[0m\u001b[32;1m manifestations\u001b[0m\u001b[32;1m of\u001b[0m\u001b[32;1m Helic\u001b[0m\u001b[32;1mob\u001b[0m\u001b[32;1macter\u001b[0m\u001b[32;1m p\u001b[0m\u001b[32;1myl\u001b[0m\u001b[32;1mori\u001b[0m\u001b[32;1m infection\u001b[0m\u001b[32;1m in\u001b[0m\u001b[32;1m Arctic\u001b[0m\u001b[32;1m Canada\u001b[0m\u001b[32;1m:\u001b[0m\u001b[32;1m using\u001b[0m\u001b[32;1m epidem\u001b[0m\u001b[32;1miology\u001b[0m\u001b[32;1m to\u001b[0m\u001b[32;1m address\u001b[0m\u001b[32;1m community\u001b[0m\u001b[32;1m concerns\u001b[0m\u001b[32;1m</s>\u001b[0m\n",
      "\n",
      "\n"
     ]
    },
    {
     "name": "stderr",
     "output_type": "stream",
     "text": [
      "INFO:***** Running Evaluation *****\n",
      "INFO:  Num examples = 2970\n",
      "INFO:  Batch size = 32\n"
     ]
    },
    {
     "name": "stdout",
     "output_type": "stream",
     "text": [
      "\n",
      "\n",
      "\u001b[32;1m<s>\u001b[0m\u001b[32;1mAdvanced\u001b[0m\u001b[32;1m moderately\u001b[0m\u001b[32;1m differentiated\u001b[0m\u001b[32;1m neuro\u001b[0m\u001b[32;1mend\u001b[0m\u001b[32;1mocrine\u001b[0m\u001b[32;1m carcin\u001b[0m\u001b[32;1moma\u001b[0m\u001b[32;1m of\u001b[0m\u001b[32;1m the\u001b[0m\u001b[32;1m rect\u001b[0m\u001b[32;1mum\u001b[0m\u001b[32;1m with\u001b[0m\u001b[32;1m favorable\u001b[0m\u001b[32;1m prog\u001b[0m\u001b[32;1mnosis\u001b[0m\u001b[32;1m by\u001b[0m\u001b[32;1m post\u001b[0m\u001b[32;1moperative\u001b[0m\u001b[32;1m che\u001b[0m\u001b[32;1mmor\u001b[0m\u001b[32;1mad\u001b[0m\u001b[32;1miation\u001b[0m\u001b[32;1m</s>\u001b[0m\n",
      "\n",
      "\n"
     ]
    },
    {
     "name": "stderr",
     "output_type": "stream",
     "text": [
      "INFO:***** Running Evaluation *****\n",
      "INFO:  Num examples = 2970\n",
      "INFO:  Batch size = 32\n"
     ]
    },
    {
     "name": "stdout",
     "output_type": "stream",
     "text": [
      "\n",
      "\n",
      "\u001b[32;1m<s>\u001b[0m\u001b[32;1mThe\u001b[0m\u001b[32;1m global\u001b[0m\u001b[32;1m economic\u001b[0m\u001b[32;1m crisis\u001b[0m\u001b[32;1m,\u001b[0m\u001b[32;1m household\u001b[0m\u001b[32;1m income\u001b[0m\u001b[32;1m and\u001b[0m\u001b[32;1m pre\u001b[0m\u001b[32;1m-\u001b[0m\u001b[32;1mad\u001b[0m\u001b[32;1molescent\u001b[0m\u001b[32;1m overweight\u001b[0m\u001b[32;1m and\u001b[0m\u001b[32;1m under\u001b[0m\u001b[32;1mweight\u001b[0m\u001b[32;1m:\u001b[0m\u001b[32;1m a\u001b[0m\u001b[32;1m nationwide\u001b[0m\u001b[32;1m birth\u001b[0m\u001b[32;1m cohort\u001b[0m\u001b[32;1m study\u001b[0m\u001b[32;1m in\u001b[0m\u001b[32;1m Japan\u001b[0m\u001b[32;1m</s>\u001b[0m\n",
      "\n",
      "\n"
     ]
    },
    {
     "name": "stderr",
     "output_type": "stream",
     "text": [
      "Saving model checkpoint to /lm_models/checkpoint-32000\n",
      "Trainer.model is not a `PreTrainedModel`, only saving its state dict.\n",
      "Deleting older checkpoint [/lm_models/checkpoint-29500] due to args.save_total_limit\n",
      "/opt/conda/lib/python3.8/site-packages/torch/nn/parallel/_functions.py:68: UserWarning: Was asked to gather along dimension 0, but all input tensors were scalars; will instead unsqueeze and return a vector.\n",
      "  warnings.warn('Was asked to gather along dimension 0, but all '\n",
      "INFO:***** Running Evaluation *****\n",
      "INFO:  Num examples = 2970\n",
      "INFO:  Batch size = 32\n"
     ]
    },
    {
     "name": "stdout",
     "output_type": "stream",
     "text": [
      "\n",
      "\n",
      "\u001b[32;1m<s>\u001b[0m\u001b[32;1mS\u001b[0m\u001b[32;1mint\u001b[0m\u001b[32;1mil\u001b[0m\u001b[32;1mim\u001b[0m\u001b[32;1mab\u001b[0m\u001b[32;1m,\u001b[0m\u001b[32;1m a\u001b[0m\u001b[32;1m PD\u001b[0m\u001b[32;1m-\u001b[0m\u001b[32;1m1\u001b[0m\u001b[32;1m In\u001b[0m\u001b[32;1mhib\u001b[0m\u001b[32;1mitor\u001b[0m\u001b[32;1m,\u001b[0m\u001b[32;1m Complete\u001b[0m\u001b[32;1mly\u001b[0m\u001b[32;1m Re\u001b[0m\u001b[32;1mvers\u001b[0m\u001b[32;1med\u001b[0m\u001b[32;1m Rare\u001b[0m\u001b[32;1mly\u001b[0m\u001b[32;1m Ref\u001b[0m\u001b[32;1mract\u001b[0m\u001b[32;1mory\u001b[0m\u001b[32;1m Hyp\u001b[0m\u001b[32;1mof\u001b[0m\u001b[32;1mibr\u001b[0m\u001b[32;1min\u001b[0m\u001b[32;1mogen\u001b[0m\u001b[32;1memia\u001b[0m\u001b[32;1m in\u001b[0m\u001b[32;1m a\u001b[0m\u001b[32;1m Gast\u001b[0m\u001b[32;1mric\u001b[0m\u001b[32;1m Cancer\u001b[0m\u001b[32;1m Patient\u001b[0m\u001b[32;1m:\u001b[0m\u001b[32;1m A\u001b[0m\u001b[32;1m Case\u001b[0m\u001b[32;1m Report\u001b[0m\u001b[32;1m and\u001b[0m\u001b[32;1m Review\u001b[0m\u001b[32;1m of\u001b[0m\u001b[32;1m the\u001b[0m\u001b[32;1m Literature\u001b[0m\u001b[32;1m</s>\u001b[0m\n",
      "\n",
      "\n"
     ]
    },
    {
     "name": "stderr",
     "output_type": "stream",
     "text": [
      "INFO:***** Running Evaluation *****\n",
      "INFO:  Num examples = 2970\n",
      "INFO:  Batch size = 32\n"
     ]
    },
    {
     "name": "stdout",
     "output_type": "stream",
     "text": [
      "\n",
      "\n",
      "\u001b[32;1m<s>\u001b[0m\u001b[32;1mMult\u001b[0m\u001b[32;1mivariate\u001b[0m\u001b[32;1m Gen\u001b[0m\u001b[32;1mome\u001b[0m\u001b[32;1m-\u001b[0m\u001b[32;1mWide\u001b[0m\u001b[32;1m Association\u001b[0m\u001b[32;1m An\u001b[0m\u001b[32;1malyses\u001b[0m\u001b[32;1m Reve\u001b[0m\u001b[32;1mal\u001b[0m\u001b[32;1m the\u001b[0m\u001b[32;1m Genetic\u001b[0m\u001b[32;1m Bas\u001b[0m\u001b[32;1mis\u001b[0m\u001b[32;1m of\u001b[0m\u001b[32;1m Seed\u001b[0m\u001b[32;1m Fat\u001b[0m\u001b[32;1mty\u001b[0m\u001b[32;1m Acid\u001b[0m\u001b[32;1m Com\u001b[0m\u001b[32;1mposition\u001b[0m\u001b[32;1m in\u001b[0m\u001b[32;1m O\u001b[0m\u001b[32;1mat\u001b[0m\u001b[32;1m (\u001b[0m\u001b[32;1mA\u001b[0m\u001b[32;1mven\u001b[0m\u001b[32;1ma\u001b[0m\u001b[32;1m sat\u001b[0m\u001b[32;1miva\u001b[0m\u001b[32;1m L\u001b[0m\u001b[32;1m.)\u001b[0m\u001b[32;1m</s>\u001b[0m\n",
      "\n",
      "\n"
     ]
    },
    {
     "name": "stderr",
     "output_type": "stream",
     "text": [
      "INFO:***** Running Evaluation *****\n",
      "INFO:  Num examples = 2970\n",
      "INFO:  Batch size = 32\n"
     ]
    },
    {
     "name": "stdout",
     "output_type": "stream",
     "text": [
      "\n",
      "\n",
      "\u001b[32;1m<s>\u001b[0m\u001b[32;1mCa\u001b[0m\u001b[32;1men\u001b[0m\u001b[32;1mor\u001b[0m\u001b[32;1mhab\u001b[0m\u001b[32;1mdit\u001b[0m\u001b[32;1mis\u001b[0m\u001b[32;1m eleg\u001b[0m\u001b[32;1mans\u001b[0m\u001b[32;1m Hist\u001b[0m\u001b[32;1mone\u001b[0m\u001b[32;1m M\u001b[0m\u001b[32;1methyl\u001b[0m\u001b[32;1mtransfer\u001b[0m\u001b[32;1mase\u001b[0m\u001b[32;1m MET\u001b[0m\u001b[32;1m-\u001b[0m\u001b[32;1m2\u001b[0m\u001b[31;1m Tracks[Shields]\u001b[0m\u001b[32;1m the\u001b[0m\u001b[32;1m Male\u001b[0m\u001b[32;1m X\u001b[0m\u001b[32;1m Chrom\u001b[0m\u001b[32;1mos\u001b[0m\u001b[32;1mome\u001b[0m\u001b[32;1m from\u001b[0m\u001b[32;1m Check\u001b[0m\u001b[32;1mpoint\u001b[0m\u001b[32;1m Mach\u001b[0m\u001b[32;1minery\u001b[0m\u001b[32;1m and\u001b[0m\u001b[32;1m Med\u001b[0m\u001b[32;1miates\u001b[0m\u001b[32;1m Me\u001b[0m\u001b[32;1miotic\u001b[0m\u001b[32;1m Sex\u001b[0m\u001b[32;1m Chrom\u001b[0m\u001b[32;1mos\u001b[0m\u001b[32;1mome\u001b[0m\u001b[32;1m In\u001b[0m\u001b[32;1mactivation\u001b[0m\u001b[32;1m</s>\u001b[0m\n",
      "\n",
      "\n"
     ]
    },
    {
     "name": "stderr",
     "output_type": "stream",
     "text": [
      "INFO:***** Running Evaluation *****\n",
      "INFO:  Num examples = 2970\n",
      "INFO:  Batch size = 32\n"
     ]
    },
    {
     "name": "stdout",
     "output_type": "stream",
     "text": [
      "\n",
      "\n",
      "\u001b[32;1m<s>\u001b[0m\u001b[32;1mMark\u001b[0m\u001b[32;1mers\u001b[0m\u001b[32;1m of\u001b[0m\u001b[32;1m type\u001b[0m\u001b[32;1m I\u001b[0m\u001b[32;1m collagen\u001b[0m\u001b[32;1m degradation\u001b[0m\u001b[32;1m and\u001b[0m\u001b[32;1m synthesis\u001b[0m\u001b[32;1m in\u001b[0m\u001b[32;1m the\u001b[0m\u001b[32;1m monitoring\u001b[0m\u001b[32;1m of\u001b[0m\u001b[32;1m treatment\u001b[0m\u001b[32;1m response\u001b[0m\u001b[32;1m in\u001b[0m\u001b[32;1m bone\u001b[0m\u001b[32;1m metast\u001b[0m\u001b[32;1mases\u001b[0m\u001b[32;1m from\u001b[0m\u001b[32;1m breast\u001b[0m\u001b[32;1m carcin\u001b[0m\u001b[32;1moma\u001b[0m\u001b[32;1m.\u001b[0m\u001b[32;1m</s>\u001b[0m\n",
      "\n",
      "\n"
     ]
    },
    {
     "ename": "KeyboardInterrupt",
     "evalue": "",
     "output_type": "error",
     "traceback": [
      "\u001b[0;31m---------------------------------------------------------------------------\u001b[0m",
      "\u001b[0;31mKeyboardInterrupt\u001b[0m                         Traceback (most recent call last)",
      "\u001b[0;32m/tmp/ipykernel_4015/742420827.py\u001b[0m in \u001b[0;36m<module>\u001b[0;34m\u001b[0m\n\u001b[0;32m----> 1\u001b[0;31m train_lm(\n\u001b[0m\u001b[1;32m      2\u001b[0m     \u001b[0mtraining_args_tokcl\u001b[0m\u001b[0;34m,\u001b[0m\u001b[0;34m\u001b[0m\u001b[0;34m\u001b[0m\u001b[0m\n\u001b[1;32m      3\u001b[0m     \u001b[0mloader_path\u001b[0m\u001b[0;34m,\u001b[0m\u001b[0;34m\u001b[0m\u001b[0;34m\u001b[0m\u001b[0m\n\u001b[1;32m      4\u001b[0m     \u001b[0mdata_config_name\u001b[0m\u001b[0;34m,\u001b[0m\u001b[0;34m\u001b[0m\u001b[0;34m\u001b[0m\u001b[0m\n\u001b[1;32m      5\u001b[0m     \u001b[0mtokenized_examples\u001b[0m\u001b[0;34m,\u001b[0m\u001b[0;34m\u001b[0m\u001b[0;34m\u001b[0m\u001b[0m\n",
      "\u001b[0;32m/app/smtag/train/train_lm.py\u001b[0m in \u001b[0;36mtrain\u001b[0;34m(training_args, loader_path, data_config_name, data_dir, no_cache, tokenizer, model_type, from_pretrained)\u001b[0m\n\u001b[1;32m    241\u001b[0m         \u001b[0mprint\u001b[0m\u001b[0;34m(\u001b[0m\u001b[0;34m'Current cuda device '\u001b[0m\u001b[0;34m,\u001b[0m \u001b[0mtorch\u001b[0m\u001b[0;34m.\u001b[0m\u001b[0mcuda\u001b[0m\u001b[0;34m.\u001b[0m\u001b[0mcurrent_device\u001b[0m\u001b[0;34m(\u001b[0m\u001b[0;34m)\u001b[0m\u001b[0;34m)\u001b[0m\u001b[0;34m\u001b[0m\u001b[0;34m\u001b[0m\u001b[0m\n\u001b[1;32m    242\u001b[0m \u001b[0;34m\u001b[0m\u001b[0m\n\u001b[0;32m--> 243\u001b[0;31m     \u001b[0mtrainer\u001b[0m\u001b[0;34m.\u001b[0m\u001b[0mtrain\u001b[0m\u001b[0;34m(\u001b[0m\u001b[0;34m)\u001b[0m\u001b[0;34m\u001b[0m\u001b[0;34m\u001b[0m\u001b[0m\n\u001b[0m\u001b[1;32m    244\u001b[0m     \u001b[0mtrainer\u001b[0m\u001b[0;34m.\u001b[0m\u001b[0msave_model\u001b[0m\u001b[0;34m(\u001b[0m\u001b[0mtraining_args\u001b[0m\u001b[0;34m.\u001b[0m\u001b[0moutput_dir\u001b[0m\u001b[0;34m)\u001b[0m\u001b[0;34m\u001b[0m\u001b[0;34m\u001b[0m\u001b[0m\n\u001b[1;32m    245\u001b[0m \u001b[0;34m\u001b[0m\u001b[0m\n",
      "\u001b[0;32m/opt/conda/lib/python3.8/site-packages/transformers/trainer.py\u001b[0m in \u001b[0;36mtrain\u001b[0;34m(self, resume_from_checkpoint, trial, ignore_keys_for_eval, **kwargs)\u001b[0m\n\u001b[1;32m   1330\u001b[0m                         \u001b[0mtr_loss_step\u001b[0m \u001b[0;34m=\u001b[0m \u001b[0mself\u001b[0m\u001b[0;34m.\u001b[0m\u001b[0mtraining_step\u001b[0m\u001b[0;34m(\u001b[0m\u001b[0mmodel\u001b[0m\u001b[0;34m,\u001b[0m \u001b[0minputs\u001b[0m\u001b[0;34m)\u001b[0m\u001b[0;34m\u001b[0m\u001b[0;34m\u001b[0m\u001b[0m\n\u001b[1;32m   1331\u001b[0m                 \u001b[0;32melse\u001b[0m\u001b[0;34m:\u001b[0m\u001b[0;34m\u001b[0m\u001b[0;34m\u001b[0m\u001b[0m\n\u001b[0;32m-> 1332\u001b[0;31m                     \u001b[0mtr_loss_step\u001b[0m \u001b[0;34m=\u001b[0m \u001b[0mself\u001b[0m\u001b[0;34m.\u001b[0m\u001b[0mtraining_step\u001b[0m\u001b[0;34m(\u001b[0m\u001b[0mmodel\u001b[0m\u001b[0;34m,\u001b[0m \u001b[0minputs\u001b[0m\u001b[0;34m)\u001b[0m\u001b[0;34m\u001b[0m\u001b[0;34m\u001b[0m\u001b[0m\n\u001b[0m\u001b[1;32m   1333\u001b[0m \u001b[0;34m\u001b[0m\u001b[0m\n\u001b[1;32m   1334\u001b[0m                 if (\n",
      "\u001b[0;32m/opt/conda/lib/python3.8/site-packages/transformers/trainer.py\u001b[0m in \u001b[0;36mtraining_step\u001b[0;34m(self, model, inputs)\u001b[0m\n\u001b[1;32m   1907\u001b[0m             \u001b[0mloss\u001b[0m \u001b[0;34m=\u001b[0m \u001b[0mself\u001b[0m\u001b[0;34m.\u001b[0m\u001b[0mdeepspeed\u001b[0m\u001b[0;34m.\u001b[0m\u001b[0mbackward\u001b[0m\u001b[0;34m(\u001b[0m\u001b[0mloss\u001b[0m\u001b[0;34m)\u001b[0m\u001b[0;34m\u001b[0m\u001b[0;34m\u001b[0m\u001b[0m\n\u001b[1;32m   1908\u001b[0m         \u001b[0;32melse\u001b[0m\u001b[0;34m:\u001b[0m\u001b[0;34m\u001b[0m\u001b[0;34m\u001b[0m\u001b[0m\n\u001b[0;32m-> 1909\u001b[0;31m             \u001b[0mloss\u001b[0m\u001b[0;34m.\u001b[0m\u001b[0mbackward\u001b[0m\u001b[0;34m(\u001b[0m\u001b[0;34m)\u001b[0m\u001b[0;34m\u001b[0m\u001b[0;34m\u001b[0m\u001b[0m\n\u001b[0m\u001b[1;32m   1910\u001b[0m \u001b[0;34m\u001b[0m\u001b[0m\n\u001b[1;32m   1911\u001b[0m         \u001b[0;32mreturn\u001b[0m \u001b[0mloss\u001b[0m\u001b[0;34m.\u001b[0m\u001b[0mdetach\u001b[0m\u001b[0;34m(\u001b[0m\u001b[0;34m)\u001b[0m\u001b[0;34m\u001b[0m\u001b[0;34m\u001b[0m\u001b[0m\n",
      "\u001b[0;32m/opt/conda/lib/python3.8/site-packages/torch/_tensor.py\u001b[0m in \u001b[0;36mbackward\u001b[0;34m(self, gradient, retain_graph, create_graph, inputs)\u001b[0m\n\u001b[1;32m    350\u001b[0m                 \u001b[0mcreate_graph\u001b[0m\u001b[0;34m=\u001b[0m\u001b[0mcreate_graph\u001b[0m\u001b[0;34m,\u001b[0m\u001b[0;34m\u001b[0m\u001b[0;34m\u001b[0m\u001b[0m\n\u001b[1;32m    351\u001b[0m                 inputs=inputs)\n\u001b[0;32m--> 352\u001b[0;31m         \u001b[0mtorch\u001b[0m\u001b[0;34m.\u001b[0m\u001b[0mautograd\u001b[0m\u001b[0;34m.\u001b[0m\u001b[0mbackward\u001b[0m\u001b[0;34m(\u001b[0m\u001b[0mself\u001b[0m\u001b[0;34m,\u001b[0m \u001b[0mgradient\u001b[0m\u001b[0;34m,\u001b[0m \u001b[0mretain_graph\u001b[0m\u001b[0;34m,\u001b[0m \u001b[0mcreate_graph\u001b[0m\u001b[0;34m,\u001b[0m \u001b[0minputs\u001b[0m\u001b[0;34m=\u001b[0m\u001b[0minputs\u001b[0m\u001b[0;34m)\u001b[0m\u001b[0;34m\u001b[0m\u001b[0;34m\u001b[0m\u001b[0m\n\u001b[0m\u001b[1;32m    353\u001b[0m \u001b[0;34m\u001b[0m\u001b[0m\n\u001b[1;32m    354\u001b[0m     \u001b[0;32mdef\u001b[0m \u001b[0mregister_hook\u001b[0m\u001b[0;34m(\u001b[0m\u001b[0mself\u001b[0m\u001b[0;34m,\u001b[0m \u001b[0mhook\u001b[0m\u001b[0;34m)\u001b[0m\u001b[0;34m:\u001b[0m\u001b[0;34m\u001b[0m\u001b[0;34m\u001b[0m\u001b[0m\n",
      "\u001b[0;32m/opt/conda/lib/python3.8/site-packages/torch/autograd/__init__.py\u001b[0m in \u001b[0;36mbackward\u001b[0;34m(tensors, grad_tensors, retain_graph, create_graph, grad_variables, inputs)\u001b[0m\n\u001b[1;32m    171\u001b[0m     \u001b[0;31m# some Python versions print out the first line of a multi-line function\u001b[0m\u001b[0;34m\u001b[0m\u001b[0;34m\u001b[0m\u001b[0;34m\u001b[0m\u001b[0m\n\u001b[1;32m    172\u001b[0m     \u001b[0;31m# calls in the traceback and some print out the last line\u001b[0m\u001b[0;34m\u001b[0m\u001b[0;34m\u001b[0m\u001b[0;34m\u001b[0m\u001b[0m\n\u001b[0;32m--> 173\u001b[0;31m     Variable._execution_engine.run_backward(  # Calls into the C++ engine to run the backward pass\n\u001b[0m\u001b[1;32m    174\u001b[0m         \u001b[0mtensors\u001b[0m\u001b[0;34m,\u001b[0m \u001b[0mgrad_tensors_\u001b[0m\u001b[0;34m,\u001b[0m \u001b[0mretain_graph\u001b[0m\u001b[0;34m,\u001b[0m \u001b[0mcreate_graph\u001b[0m\u001b[0;34m,\u001b[0m \u001b[0minputs\u001b[0m\u001b[0;34m,\u001b[0m\u001b[0;34m\u001b[0m\u001b[0;34m\u001b[0m\u001b[0m\n\u001b[1;32m    175\u001b[0m         allow_unreachable=True, accumulate_grad=True)  # Calls into the C++ engine to run the backward pass\n",
      "\u001b[0;31mKeyboardInterrupt\u001b[0m: "
     ]
    }
   ],
   "source": [
    "train_lm(\n",
    "    training_args_tokcl,\n",
    "    loader_path,\n",
    "    data_config_name,\n",
    "    tokenized_examples,\n",
    "    no_cache,\n",
    "    tokenizer,\n",
    "    model_type,\n",
    "    from_pretrained\n",
    ")"
   ]
  },
  {
   "cell_type": "code",
   "execution_count": null,
   "id": "f4447193",
   "metadata": {},
   "outputs": [],
   "source": []
  }
 ],
 "metadata": {
  "kernelspec": {
   "display_name": "Python 3 (ipykernel)",
   "language": "python",
   "name": "python3"
  },
  "language_info": {
   "codemirror_mode": {
    "name": "ipython",
    "version": 3
   },
   "file_extension": ".py",
   "mimetype": "text/x-python",
   "name": "python",
   "nbconvert_exporter": "python",
   "pygments_lexer": "ipython3",
   "version": "3.8.12"
  }
 },
 "nbformat": 4,
 "nbformat_minor": 5
}
